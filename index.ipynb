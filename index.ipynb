{
 "cells": [
  {
   "cell_type": "markdown",
   "metadata": {},
   "source": [
    "# BMCS applications\n",
    "Collection of notebooks accompanying the course on brittle-matrix composite structures.\n",
    "\n",
    "@author: rosoba\n",
    "\n",
    "## Rule of mixtures for elastic composites\n",
    " - [J0101 - Elastic mixture rule](bmcs_course/1_1_elastic_stiffness_of_the_composite.ipynb)\n",
    " \n",
    "# BOND\n",
    "\n",
    "## Constant bond-slip law\n",
    "\n",
    "- [J0201 - Pull-out of long fiber from rigid matrix](bmcs_course/2_1_PO_LF_LM_RG.ipynb)\n",
    "- [J0202 - Pull-out of long fiber from long elastic matrix](bmcs_course/2_2_PO_LF_LM_EL.ipynb)\n",
    "- [J0203 - Pull-out of short fiber from rigid matrix](bmcs_course/2_3_PO_SF_M_RG.ipynb)\n",
    "- [J0204 - Comparison of several models](bmcs_course/2_4_PO_comparison.ipynb)\n",
    "\n",
    "## Nonlinear bond-slip law\n",
    "- [J0301 - Pull-out with softening and hardening](bmcs_course/3_1_PO_LF_LM_EL_FE_CB.ipynb) \n",
    "- [J0302 - EXTRA - Newton iterative scheme](extras/newton_method.ipynb)\n",
    "- [J0303 - EXTRA - Nonlinear finite-element solver for 1d pullout](extras/pullout1d.ipynb)\n",
    "\n",
    "## Unloading, reloading and inelasticity\n",
    "\n",
    "- [J0401 - Unloading with multi-linear bond-slip law](bmcs_course/4_1_PO_multilinear_unloading.ipynb) (PO_BS_ML)\n",
    "- [J0402 - Basic concept of plasticity](bmcs_course/4_2_BS_EP_SH_IK_A.ipynb) (BS_EP_SH_IK_A)\n",
    "- [J0403 - EXTRA - General time-stepping algorithm](bmcs_course/4_3_BS_EP_SH_IK_N.ipynb) (BS_EP_SH_IK_N)\n",
    "- [J0404 - Damage framework](bmcs_course)\n",
    "- [J0405 - Iterative numerical simulation](bmcs_course)/4_3_BS_EP_SH_IK_N\n",
    "\n",
    "# CRACK\n",
    "\n",
    "## Energy dissipation\n",
    "\n"
   ]
  },
  {
   "cell_type": "code",
   "execution_count": null,
   "metadata": {},
   "outputs": [],
   "source": []
  }
 ],
 "metadata": {
  "kernelspec": {
   "display_name": "Python 3",
   "language": "python",
   "name": "python3"
  },
  "language_info": {
   "codemirror_mode": {
    "name": "ipython",
    "version": 3
   },
   "file_extension": ".py",
   "mimetype": "text/x-python",
   "name": "python",
   "nbconvert_exporter": "python",
   "pygments_lexer": "ipython3",
   "version": "3.7.6"
  },
  "toc": {
   "base_numbering": 1,
   "nav_menu": {},
   "number_sections": true,
   "sideBar": true,
   "skip_h1_title": true,
   "title_cell": "Table of Contents",
   "title_sidebar": "Contents",
   "toc_cell": false,
   "toc_position": {},
   "toc_section_display": true,
   "toc_window_display": true
  }
 },
 "nbformat": 4,
 "nbformat_minor": 2
}
