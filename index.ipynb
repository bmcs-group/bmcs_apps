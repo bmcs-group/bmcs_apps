{
 "cells": [
  {
   "cell_type": "markdown",
   "metadata": {},
   "source": [
    "# BMCS applications\n",
    "Collection of notebooks accompanying the course on brittle-matrix composite structures.\n",
    "\n",
    "@author: Rostislav Chudoba, Abedulgader Baktheer\n",
    "\n",
    "## Seminar work\n",
    " - [J0000 - How to set the pullout model parameters](bmcs_course/SeminarWorkHowTo.ipynb)\n",
    "\n",
    "## Rule of mixtures for elastic composites\n",
    " - [J0101 - Elastic mixture rule](bmcs_course/1_1_elastic_stiffness_of_the_composite.ipynb)\n",
    " \n",
    "# BOND\n",
    "\n",
    "## Constant bond-slip law\n",
    "\n",
    "- [J0201 - Pull-out of long fiber from rigid matrix](bmcs_course/2_1_PO_LF_LM_RG.ipynb)\n",
    "- [J0202 - Pull-out of long fiber from long elastic matrix](bmcs_course/2_2_PO_LF_LM_EL.ipynb)\n",
    "- [J0203 - Pull-out of short fiber from rigid matrix](bmcs_course/2_3_PO_SF_M_RG.ipynb)\n",
    "- [J0204 - Comparison of several models](bmcs_course/2_4_PO_comparison.ipynb)\n",
    "\n",
    "## Nonlinear bond-slip law\n",
    "- [J0301 - Pull-out with softening and hardening](bmcs_course/3_1_PO_LF_LM_EL_FE_CB.ipynb) \n",
    "- [J0302 - EXTRA - Newton iterative scheme](extras/newton_method.ipynb)\n",
    "- [J0303 - EXTRA - Nonlinear finite-element solver for 1d pullout](extras/pullout1d.ipynb)\n",
    "\n",
    "## Unloading, reloading and inelasticity\n",
    "\n",
    "- [J0401 - Unloading with multi-linear bond-slip law](bmcs_course/4_1_PO_multilinear_unloading.ipynb) (PO_BS_ML)\n",
    "- [J0402 - Basic concept of plasticity, ideal and isotopic hardening](bmcs_course/4_2_BS_EP_SH_I_A.ipynb) (BS_EP_SH_I_A)\n",
    "- [J0403 - Basic concept of plasticity, kinematic hardening](bmcs_course/4_3_BS_EP_SH_IK_A.ipynb) (BS_EP_SH_I_A)\n",
    "- [J0404 - EXTRA - Generalization of the algorithm using vectors](bmcs_course/4_4_BS_EP_SH_IK_N.ipynb) (BS_EP_SH_IK_N)\n",
    "\n",
    "## Inelasticity modeled as damage\n",
    "- [J0501 - Damage initiation, damage evolution, 2D bond behavior](bmcs_course/5_1_Introspect_Damage_Evolution_Damage_initiation)\n",
    "- [J0502 - Pull out simulation using damage model](bmcs_course/5_2_PO_DM_FRP_N.pynb)\n",
    "\n",
    "# CRACK\n",
    "\n",
    "## Energy dissipation\n",
    "\n"
   ]
  },
  {
   "cell_type": "code",
   "execution_count": 3,
   "metadata": {},
   "outputs": [],
   "source": [
    "import bmcs_utils.api"
   ]
  },
  {
   "cell_type": "code",
   "execution_count": null,
   "metadata": {},
   "outputs": [],
   "source": []
  }
 ],
 "metadata": {
  "kernelspec": {
   "display_name": "Python 3",
   "language": "python",
   "name": "python3"
  },
  "language_info": {
   "codemirror_mode": {
    "name": "ipython",
    "version": 3
   },
   "file_extension": ".py",
   "mimetype": "text/x-python",
   "name": "python",
   "nbconvert_exporter": "python",
   "pygments_lexer": "ipython3",
   "version": "3.9.0"
  },
  "toc": {
   "base_numbering": 1,
   "nav_menu": {},
   "number_sections": true,
   "sideBar": true,
   "skip_h1_title": true,
   "title_cell": "Table of Contents",
   "title_sidebar": "Contents",
   "toc_cell": false,
   "toc_position": {
    "height": "calc(100% - 180px)",
    "left": "10px",
    "top": "150px",
    "width": "291.883px"
   },
   "toc_section_display": true,
   "toc_window_display": false
  }
 },
 "nbformat": 4,
 "nbformat_minor": 2
}