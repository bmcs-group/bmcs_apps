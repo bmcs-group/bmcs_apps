{
 "cells": [
  {
   "cell_type": "markdown",
   "metadata": {},
   "source": [
    "# BMCS applications\n",
    "\n",
    "## Rule of mixtures for elastic composites\n",
    " - [Elastic mixture rule](bmcs_course/1_1_elastic_stiffness_of_the_composite.ipynb)\n",
    "\n",
    "## Constant bond-slip law\n",
    "\n",
    "- [Pull-out from rigid matrix](bmcs_course/2_1_PO_LF_LM_RG.ipynb)\n",
    "- [Pull-out from elastic matrix](bmcs_course/2_2_PO_LF_LM_EL.ipynb)\n",
    "- [Enhanced model versions](bmcs_course/2_3_PO_SF_M_RG.ipynb)\n",
    "- [Comparison of several models](bmcs_course/2_0_PO_comparison.ipynb)\n",
    "\n",
    "\n",
    "## Nonlinear bond-slip law\n",
    " - Pullout simulator: [pullout1d](notebooks/pullout1d.ipynb)"
   ]
  }
 ],
 "metadata": {
  "kernelspec": {
   "display_name": "Python 3",
   "language": "python",
   "name": "python3"
  },
  "language_info": {
   "codemirror_mode": {
    "name": "ipython",
    "version": 3
   },
   "file_extension": ".py",
   "mimetype": "text/x-python",
   "name": "python",
   "nbconvert_exporter": "python",
   "pygments_lexer": "ipython3",
   "version": "3.7.7"
  },
  "toc": {
   "base_numbering": 1,
   "nav_menu": {},
   "number_sections": true,
   "sideBar": true,
   "skip_h1_title": true,
   "title_cell": "Table of Contents",
   "title_sidebar": "Contents",
   "toc_cell": false,
   "toc_position": {},
   "toc_section_display": true,
   "toc_window_display": true
  }
 },
 "nbformat": 4,
 "nbformat_minor": 2
}
