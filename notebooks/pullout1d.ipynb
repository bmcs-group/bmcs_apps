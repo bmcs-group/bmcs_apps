{
 "cells": [
  {
   "cell_type": "markdown",
   "metadata": {
    "toc": true
   },
   "source": [
    "<h1>Table of Contents<span class=\"tocSkip\"></span></h1>\n",
    "<div class=\"toc\"><ul class=\"toc-item\"><li><span><a href=\"#Nonlinear-finite-element-solver---loopless-implementation\" data-toc-modified-id=\"Nonlinear-finite-element-solver---loopless-implementation-1\"><span class=\"toc-item-num\">1&nbsp;&nbsp;</span>Nonlinear finite element solver - loopless implementation</a></span></li><li><span><a href=\"#Naming-conventions-for-symbols-and-indexes\" data-toc-modified-id=\"Naming-conventions-for-symbols-and-indexes-2\"><span class=\"toc-item-num\">2&nbsp;&nbsp;</span>Naming conventions for symbols and indexes</a></span></li><li><span><a href=\"#Running-example\" data-toc-modified-id=\"Running-example-3\"><span class=\"toc-item-num\">3&nbsp;&nbsp;</span>Running example</a></span></li><li><span><a href=\"#Approximation-of-the-primary-field-variable\" data-toc-modified-id=\"Approximation-of-the-primary-field-variable-4\"><span class=\"toc-item-num\">4&nbsp;&nbsp;</span>Approximation of the primary field variable</a></span></li><li><span><a href=\"#Approximation-of-strains\" data-toc-modified-id=\"Approximation-of-strains-5\"><span class=\"toc-item-num\">5&nbsp;&nbsp;</span>Approximation of strains</a></span></li><li><span><a href=\"#Nonlinear-iterative-solver\" data-toc-modified-id=\"Nonlinear-iterative-solver-6\"><span class=\"toc-item-num\">6&nbsp;&nbsp;</span>Nonlinear iterative solver</a></span></li><li><span><a href=\"#Verification-example\" data-toc-modified-id=\"Verification-example-7\"><span class=\"toc-item-num\">7&nbsp;&nbsp;</span>Verification example</a></span></li><li><span><a href=\"#Material-behavior\" data-toc-modified-id=\"Material-behavior-8\"><span class=\"toc-item-num\">8&nbsp;&nbsp;</span>Material behavior</a></span></li><li><span><a href=\"#Time-stepping-algorithm\" data-toc-modified-id=\"Time-stepping-algorithm-9\"><span class=\"toc-item-num\">9&nbsp;&nbsp;</span>Time-stepping algorithm</a></span></li><li><span><a href=\"#Application-examples\" data-toc-modified-id=\"Application-examples-10\"><span class=\"toc-item-num\">10&nbsp;&nbsp;</span>Application examples</a></span></li><li><span><a href=\"#Pullout-response-animation\" data-toc-modified-id=\"Pullout-response-animation-11\"><span class=\"toc-item-num\">11&nbsp;&nbsp;</span>Pullout response animation</a></span></li><li><span><a href=\"#Alternative-discretization-generator\" data-toc-modified-id=\"Alternative-discretization-generator-12\"><span class=\"toc-item-num\">12&nbsp;&nbsp;</span>Alternative discretization generator</a></span></li></ul></div>"
   ]
  },
  {
   "cell_type": "markdown",
   "metadata": {},
   "source": [
    "# Nonlinear finite element solver - loopless implementation\n",
    "@author: rosoba, Nov 11, 2019"
   ]
  },
  {
   "cell_type": "markdown",
   "metadata": {},
   "source": [
    "**Numerical model development procedure in a nutshell:**\n",
    "Development of a numerical model can be described as a process starting from general governing local equations defined in terms of variables (e.g. forces) that are derived from primary unknown variables (e.g. displacement) of the problem at hand. The relation between primary and derived variables must be defined using constraint conditions, e.g. kinematics and constitutive laws. In parallel, the local governing equations (e.g. equilibrium) must be  transfered from to the global structural level. This usually involves integration of the derived variables over the whole structural domain and the inclusion of boundary conditions. At the end of such a model development a continuous boundary value problem is defined that can be solved using numerical methods."
   ]
  },
  {
   "cell_type": "markdown",
   "metadata": {},
   "source": [
    "**Goal of this notebook:**\n",
    "This notebook aims to show how to seamlessly move within the development process from the conceptual, theoretical level of a problem down to short pieces of code that can be directly used to demonstrate and verify the mathematical concept using elementary examples. Working first in a sequential way, proceeding step by step through the imposed assumptions and their mathematical expression we will finally arrive at the level of system equations to be solved."
   ]
  },
  {
   "cell_type": "markdown",
   "metadata": {},
   "source": [
    "**No loops, just multiple dimensions and index summation rule:** \n",
    "In the model development, an approximation of the primary variables is introduced first following the finite element concept. The derived variables are then also expressed with the help of the selected numerical approximation by following the local equations introduced previously in the continuous, differential formulation. The primary and derived variables are expressed as algebraic combination of shape functions or their derivatives with unknown multipliers. The present notebooks shows how to precalculate all terms related to the known shape functions in a systematic way following the concept of index based notation and Einstein summation rule. This concept is also utilized to implement the numerical integrals of the  governing equations. Multidimensional arrays serving as an integral operators at the domain level can also be precalculated and stored in a large array."
   ]
  },
  {
   "cell_type": "markdown",
   "metadata": {},
   "source": [
    "**Time stepping algorithm (with the only two loops in this notebook):** \n",
    "After showing the derivation method for the simple case of linear material behavior, we will assume a non-linearity of a constitutive equation and show an iterative scheme to solve the problem, e.g. Newton-Raphson or techniques included in the `scipy` package. Finally, a general loading history will be introduced in combination with an incremental procedure performing the time integration to study a generally nonlinear structural response. During this incremental procedure, the primary and derived state variables are recorded so that they can be processed, visualized and animated."
   ]
  },
  {
   "cell_type": "markdown",
   "metadata": {},
   "source": [
    "**How extensible is this kind of implementation?** \n",
    "This script demonstrates the index based implementation\n",
    "of the finite element code for multilayer composite.\n",
    "The current version demonstrating a uni-axial two-layer\n",
    "continuum discretized with linear shape functions.\n",
    "The derived mutltidimensional expressions are general \n",
    "and capture multilayer continuum, in 1D, 2D and 3D."
   ]
  },
  {
   "cell_type": "markdown",
   "metadata": {},
   "source": [
    "**Import packages**"
   ]
  },
  {
   "cell_type": "code",
   "execution_count": 3,
   "metadata": {},
   "outputs": [],
   "source": [
    "%matplotlib inline\n",
    "import matplotlib.pyplot as plt\n",
    "from sparse_solver.sys_mtx_assembly import SysMtxAssembly\n",
    "import numpy as np\n",
    "import sympy as sp\n",
    "sp.init_printing()"
   ]
  },
  {
   "cell_type": "markdown",
   "metadata": {},
   "source": [
    "# Naming conventions for symbols and indexes"
   ]
  },
  {
   "cell_type": "markdown",
   "metadata": {},
   "source": [
    "**Is it going to be an index jungle?**\n",
    "The usual way of expressing the governing equation is using matrices, i.e. at most a 2D array. In an index-based multi-dimensional implementation, the first impression might be, that's gonna be an index chaos. Admittedly, handling operators on a 10-dimensional array is not usual. To manage such an index complexity, it is necessary to stick to conventions. The single letter convention within a variable name is somewhat limited. However, the benefits are large as we will try to demonstrates. Once the naming conventions have settled in our mind, we are able to formulate a very short, generic code that can be instantiated for different kinds of problems just by changing a model component, i.e. finite element type, kinematic mapping (3D, 2D, plane strain, axi-symmetric), material model, etc. There is almost no performance penalty for the abstract high-level code. Also, data recording and postprocessing can become a real indexing fun. "
   ]
  },
  {
   "cell_type": "markdown",
   "metadata": {},
   "source": [
    "**Index groups are associated with specific dimensions:**\n",
    "Symbols are named using the underscore separation of the name components. Each array name starts with the name of the variable followed by the sequence of letters denoting the indexes of the array dimensions. For example, an array $x_{Eia}$ is named in the code as `x_Eia`. This name indicates, that an array has four dimensions. Further, to simplify orientation the letters used for individual array dimensions are used by following the naming of discretization variables. In particular\n",
    "   * `EF` global element indexes within a discretization\n",
    "   * `IJ` global node indexes of a discretization\n",
    "   * `ij` local node index within an element `E`\n",
    "   * `mn` local material point index within an element `E`\n",
    "   * `abcd` global spatial directions\n",
    "   * `rs` local spatial directions within a discretization element `E`\n",
    "   * `CD` global index of a continuum layer\n",
    "   * `OP` indexes of a global degree of freedom.\n",
    "   * `op` indexes of a local degree of freedom within an element `E`.\n",
    "\n",
    "Derivatives of a derived $\\mathrm{d}u/\\mathrm{d}x$ is denoted in the code as `du_dx`."
   ]
  },
  {
   "cell_type": "markdown",
   "metadata": {},
   "source": [
    "**Index range within a dimension:**\n",
    "Given the naming conventions above, the dimensionality of the problem defining the range of indexes $a, b, c, d$ is referred to as $n_a$ in mathematical expressions and as `n_a` in the code. This is a general principle for all index groups specified above, i.e. using `n_X`, where `X` is the first index letter from a group associated with an array dimension. "
   ]
  },
  {
   "cell_type": "markdown",
   "metadata": {},
   "source": [
    "**Plotting helper functions:**\n",
    "To make the diagrams below a bit fancier and to avoid repeated line for label definition and axes description a few helper functions are defined in the following cell which is implicitly hidden. The procedures are not relevant for the discussed issues. However, they are not outsourced to an extra package to make the notebook directly executable. "
   ]
  },
  {
   "cell_type": "code",
   "execution_count": 4,
   "metadata": {
    "hide_input": false,
    "tags": [
     "hide_input"
    ]
   },
   "outputs": [],
   "source": [
    "def axes_init(ax, xlim, ylim, xlabel, ylabel, title=''):\n",
    "    '''set the axes limits and labels'''\n",
    "    ax.cla()\n",
    "    ax.set_xlim(xlim)\n",
    "    ax.set_ylim(ylim)\n",
    "    ax.set_xlabel(xlabel)\n",
    "    ax.set_ylabel(ylabel)\n",
    "    ax.set_title(title)\n",
    "    \n",
    "def plot_filled(ax, x, y, color='blue', alpha=0.2, label=''):\n",
    "    '''plot a function and fill the area starting from x-axis'''\n",
    "    x0 = x[...,0].flatten()\n",
    "    ax.plot(x0, y, color=color, label=label);\n",
    "    ax.fill_between(x0, y, color=color,alpha=alpha);"
   ]
  },
  {
   "cell_type": "markdown",
   "metadata": {},
   "source": [
    "*Plot the displacements*:\n",
    "To plot the displacement at the nodal positions the coordinates $x_{Ei0}$ are used as they are identical with the integration points. The corresponding displacements of the matrix are arranged correspondingly. "
   ]
  },
  {
   "cell_type": "code",
   "execution_count": 5,
   "metadata": {
    "hide_input": false
   },
   "outputs": [],
   "source": [
    "def plot_u_ECi(ax, u_ECi, x_Eia, color0='orange', color1='blue', color12='yellow', label=''):\n",
    "    x_Ei0 = x_Eia[...,0].flatten()\n",
    "    u_EiC = np.einsum('ECi->EiC',u_ECi)\n",
    "    l = ax.plot(x_Ei0, u_EiC.reshape(-1, 2), label=label);\n",
    "    l[0].set_color(color0), l[1].set_color(color1)\n",
    "    ax.fill_between(x_Ei0, u_ECi[:,0,:].flatten(), u_ECi[:,1,:].flatten(), \n",
    "                     color=color12, alpha=0.1);\n",
    "    ax.set_xlabel('$x$ [mm]'); ax.set_ylabel('$u$ [mm]');\n",
    "    ax.legend(['m','f']);"
   ]
  },
  {
   "cell_type": "markdown",
   "metadata": {},
   "source": [
    "*Plot a field variable*: A convenience function accepts the plotting area `ax`, the global displacement vector with the element-wise arranged array of node coordinates `x_Eia` and the mapping from the discrete field indexes $ECi$ and the global degree of freedoms $o$. The expression for a variable to be plotted is supplied as `get_var_mEC` parameter. "
   ]
  },
  {
   "cell_type": "code",
   "execution_count": 6,
   "metadata": {
    "hide_input": false
   },
   "outputs": [],
   "source": [
    "def plot_var_mEC(ax, u_ECi, x_Eia, xi_m, get_var_mEC, ylabel, \n",
    "                 color0='orange', color1='blue', label=''):\n",
    "    var_mEC = get_var_mEC(u_ECi, x_Eia, xi_m)\n",
    "    var_EmC = np.einsum('mEC->EmC', var_mEC)\n",
    "    plot_filled(ax, x_Eia, var_EmC[...,0].flatten(), color=color0, alpha=0.2,\n",
    "               label=label),;\n",
    "    plot_filled(ax, x_Eia, var_EmC[...,1].flatten(), color=color1, alpha=0.2);\n",
    "    ax.set_xlabel('$x$'); ax.set_ylabel(ylabel);"
   ]
  },
  {
   "cell_type": "markdown",
   "metadata": {},
   "source": [
    "# Running example"
   ]
  },
  {
   "attachments": {
    "2_simplified.png": {
     "image/png": "[encoded data removed]"
    }
   },
   "cell_type": "markdown",
   "metadata": {},
   "source": [
    "The concepts will be demonstrated on an example of a pullout model implementation. This example lets us reduce the geometrical dimensionality of the problem to 1 while  keeping the formulation completely general. Moreover, at the end of the notebook we will have a running application that can be used to study the pullout problem from different perspective and to understand the correspondence between the material behavior and structural behavior.\n",
    "\n",
    "<a id='PulloutProblem'></a>**Figure 1:** Pullout test indicating the scope of boundary value problems addressed in this notebook\n",
    "![2_simplified.png](attachment:2_simplified.png)"
   ]
  },
  {
   "cell_type": "markdown",
   "metadata": {},
   "source": [
    "**Geometrical model parameters:** The volume of the simulated specimen will be described using the following parameters\n",
    "\n",
    "| Symbol            | Variable | Description                                           |\n",
    "|-------------------|----------|-------------------------------------------------------|\n",
    "| $L$               | `L_x`    | length of the zone                                    |\n",
    "| $A_\\mathrm{m}$    | `A_m`    | cross sectional area of a matrix layer                |\n",
    "| $A_\\mathrm{f}$    | `A_f`    | cross sectional area of a fiber layer                 |\n",
    "| $p$               | `p`      | perimeter - contact length between matrix and fiber   |"
   ]
  },
  {
   "cell_type": "markdown",
   "metadata": {},
   "source": [
    "Let us define the corresponding Python variables as follows "
   ]
  },
  {
   "cell_type": "code",
   "execution_count": 7,
   "metadata": {},
   "outputs": [],
   "source": [
    "L_x = 1 # [mm] total length\n",
    "A_m = 1 # [mm] matrix cross section \n",
    "A_f = 1 # [mm] fiber cross section\n",
    "p = 1 # [mm] bond perimeter"
   ]
  },
  {
   "cell_type": "markdown",
   "metadata": {},
   "source": [
    "Construct the linear and quadratic terms in every element $E$ and integration point $m$. To use the Einstein summation over the material component cross sections including the sectional area $A_\\mathrm{m}$ and $A_\\mathrm{F}$ into an array $A_C = [A_\\mathrm{f}, A_\\mathrm{m}]$"
   ]
  },
  {
   "cell_type": "code",
   "execution_count": 8,
   "metadata": {},
   "outputs": [],
   "source": [
    "A_C = np.array([A_m, A_f], dtype=np.float_) # cross sectional array"
   ]
  },
  {
   "cell_type": "markdown",
   "metadata": {},
   "source": [
    "**Dimensionality of the multilayer problem**: For brevity of explanation, we will stick to uniaxial description of the pullout process in this notebook. However, an extension to a planar delamination problem is possible as we will discuss in subsequent notebooks. \n",
    "\n",
    "In the following the dimensional indexes $abcd$ might be skipped as we only consider displacement along the pulled direction. However, to include all steps in the derivation let us keep the index through the subsequent derivation steps. It will allow us to describe the Jacobi transformation in a general way and reuse the sheet for 2D model without change."
   ]
  },
  {
   "cell_type": "code",
   "execution_count": 9,
   "metadata": {},
   "outputs": [],
   "source": [
    "n_a = 1 # number of dimensions"
   ]
  },
  {
   "attachments": {
    "2_simplified.jpg": {
     "image/jpeg": "[encoded data removed]"
    }
   },
   "cell_type": "markdown",
   "metadata": {},
   "source": [
    "Our goal is to predict\n",
    "the response of a pullout specimen in terms of the relation between the pullout force $P$ and displacement $w$. This relation can be easily observed experimentally $P(w)$. To predict this response we need to know what laws of mechanics govern the behavior of every single point within a specimen and how do they interact. To keep things simple, let us consider a one dimensional idealization of the problem.\n",
    "\n",
    "<a id='1DIdealization'></a>**Figure 2:** 1D idealization of the pullout problem with graphical representation of equilibrium on infinitesimal element\n",
    "![2_simplified.jpg](attachment:2_simplified.jpg)"
   ]
  },
  {
   "cell_type": "markdown",
   "metadata": {},
   "source": [
    "**Equilibrium conditions** of an infinitesimal segment of the reinforcement shown in Fig. [2](#1Didealization) can be expressed as\n",
    "\\begin{equation} \\label{eq:f_equi}\n",
    " {A_{\\mathrm{f}}}\\sigma_{\\mathrm{f},a} - p \\tau(s) = 0,\n",
    "\\end{equation}\n",
    "where the index $(.)_{,a}$ denotes the derivative w.r.t. the spatial coordinate $x$. The cross-sectional area and the perimeter of the reinforcement  are denoted as $A_{\\mathrm{f}}$  and $p$, respectively. Similarly, the equilibrium of the matrix can be expressed as\n",
    "\\begin{equation} \\label{eq:m_equi}\n",
    " {A_{\\mathrm{m}}}\\sigma_{\\mathrm{m},a} + p \\tau(s) = 0,\n",
    "\\end{equation}\n",
    "where $A_\\mathrm{m}$ is the cross-sectional area of the matrix."
   ]
  },
  {
   "cell_type": "markdown",
   "metadata": {},
   "source": [
    "**Let's start with the index machinery:** Even though the indexing rule will become really relevant only when deriving the finite element approximation of the problem, let us practice already here by rewriting the above two equations as\n",
    "<a id=\"eq_equilibrium\"></a>\n",
    "\\begin{align}\n",
    " A_C \\, \\sigma_{C,a} + \\zeta_C\\, p \\tau = 0.\n",
    "\\end{align}\n",
    "Index $C \\in [0,1]$ is defined to distinguish the bar/fiber $\\mathrm{f}: C = 0$ pulled out from the matrix $\\mathrm{m}: C = 1$. The operator $\\zeta_{C} = [-1, 1]$ introduces the sign switch needed to consider the opposite direction of shear flow $p\\tau$ w.r.t. fibers or matrix. \n",
    "An array with alternating  $\\zeta_{C}$ signs can be defined generically using the power function $\\zeta_{C} = -(-1)^{C}, C = 0...(n_C)$. Using `numpy` such array operator looks as follows:"
   ]
  },
  {
   "cell_type": "code",
   "execution_count": 10,
   "metadata": {},
   "outputs": [
    {
     "name": "stdout",
     "output_type": "stream",
     "text": [
      "[-1  1]\n"
     ]
    }
   ],
   "source": [
    "n_C = 2 # just two components\n",
    "zeta_C = -np.power(-1,np.arange(0,n_C))\n",
    "print(zeta_C)"
   ]
  },
  {
   "cell_type": "markdown",
   "metadata": {},
   "source": [
    "**Constitutive law (let's keep it abstract for now):**\n",
    "Having specified the [equilibrium condition](#eq_equilibrium) we aim to find relations of all involved stress variables to the primary variables, i.e. to the displacement field $u_C$. The first step is to relate stresses $\\sigma_C$ to strains $\\varepsilon_C$ and bond stress $\\tau$ to the slip $s$ between the two material components. \n",
    "\n",
    "To keep the code general for a nonlinear material behavior, let us introduce for now only a placeholder of the functional dependency  \n",
    "\\begin{align}\n",
    "\\sigma_C = \\mathcal{S}(\\varepsilon_C)\n",
    "\\end{align}\n",
    "for material components and \n",
    "\\begin{align}\n",
    "\\tau_C = \\mathcal{T}(s)\n",
    "\\end{align}\n",
    "This general assumption allows us to postpone some concrete choice to the later stage of derivation. For now, it is enough to have the symbols $\\varepsilon_C$ and $s$ introduced in the equilibrium conditions."
   ]
  },
  {
   "cell_type": "markdown",
   "metadata": {},
   "source": [
    "**Kinematics:**\n",
    "In 3D continuum, strain variables are related to the component displacements using the two relations\n",
    "\\begin{align}\n",
    " \\varepsilon_{Cab} = \\frac{1}{2} ( u_{Ca,b} + u_{Cb,a} ).\n",
    "\\end{align}"
   ]
  },
  {
   "cell_type": "markdown",
   "metadata": {},
   "source": [
    "In the considered uniaxial case this transforms to \n",
    "<a id=\"eq_varepsilon_{Caa}\"></a>\n",
    "\\begin{align}\n",
    "\\varepsilon_\\mathrm{C} = u_{C,a}.\n",
    "\\end{align}"
   ]
  },
  {
   "cell_type": "markdown",
   "metadata": {},
   "source": [
    "The slip between the components is defined as\n",
    "\\begin{align}\n",
    "  s = u_{\\mathrm{f}} - u_{\\mathrm{m}} = \\zeta_C u_{C}\n",
    "\\end{align}"
   ]
  },
  {
   "cell_type": "markdown",
   "metadata": {},
   "source": [
    "**Differential equilibrium equation**\n",
    "<a id=\"eq_differential_equilibrium_equation\"></a>\n",
    "At this stage, we have managed to relate the [governing equilibrium equations](#eq_equilibrium) to the primary variable of the problem, i.e. we can write\n",
    "\\begin{align}\n",
    "  A_C \\mathcal{S}_{C,a}( u_{C,a} ) + \\zeta_C \\, p \\mathcal{T}( \\zeta_D u_D ) = 0\n",
    "\\end{align}"
   ]
  },
  {
   "cell_type": "markdown",
   "metadata": {},
   "source": [
    "Herewith we have ensured ourselves that the link from the differential governing equation to the primary variable is possible to resolve algebraically once the material behavior $\\mathcal{S}(\\varepsilon)$ and $\\mathcal{T}(s)$ has been specified, let us try mathematically formulate the requirement that these equations must be fulfilled in the whole domain of the specimen. More precisely, along the idealized bond zone $x \\in (0,L)$ of the idealized pullout specimen shown in [Fig 2](#1DIdealization)."
   ]
  },
  {
   "cell_type": "markdown",
   "metadata": {},
   "source": [
    "**Boundary conditions:**\n",
    "The first step in this direction is to define the essential and natural boundary conditions \n",
    "\\begin{align}\n",
    "u_C \n",
    "&= \n",
    "\\bar{u}_C(\\theta) \\;\\; \\mathrm{on} \\;\\; \\Gamma_{u_C},  \n",
    "&\n",
    "\\sigma_C A_C &= \\bar{t}_C(\\theta) \\;\\; \n",
    "\\mathrm{on} \\;\\;\n",
    "\\Gamma_{t_C}.\n",
    "\\end{align}\n",
    "in which $\\Gamma_{u_C}$ and $\\Gamma_{t_C}$ denote the boundary points where the corresponding boundary conditions are applied. The essential boundary conditions $\\bar{u}_C$ and the natural boundary \n",
    "conditions $\\bar{t}_C$ are prescribed as functions of the intrinsic time variable $\\theta$ which is used to control the loading history. "
   ]
  },
  {
   "cell_type": "markdown",
   "metadata": {},
   "source": [
    "<a id=\"eq_weak_equilibrium\"></a>\n",
    "**Weak form of equilibrium and boundary conditions:**\n",
    "Denoting the integration of the product of two functions $u$, $v$ over the domain $V$ as $\\left( u , v \\right)_V$, the weak formulation can be expressed as \n",
    "\n",
    "\\begin{align}\n",
    "\\left( \\delta u_C, A_C \\sigma_{C,a} + \\zeta_C p \\tau \\right)_\\Omega + \n",
    "\\left( \\delta u_C, -A_C \\sigma_{C} + \\bar{t}_C(\\theta) \\right)_{\\Gamma_{t_C}} +\n",
    "\\left( \\delta u_C, u_C - \\bar{u}_C(\\theta) \\right)_{\\Gamma_{u_C}} = 0.\n",
    "\\end{align}\n",
    "With this equation we have transformed the requirement of a [differential equilibrium](#eq_equilibrium) to the requirement that the product between an arbitrary functions $\\delta u_C$ with equilibrium condition must be zero. In fact, the so called test functions $\\delta u_C$ cannot be completely arbitrary, they must \n",
    "have continuous first derivatives, and be $L^2$ integrable and implicitly fulfill the essential boundary conditions, i.e.\n",
    "$\\delta u_C=0$ on $\\Gamma_{u_C} $. As a consequence, the last term in the weak equilibrium condition vanishes."
   ]
  },
  {
   "cell_type": "markdown",
   "metadata": {},
   "source": [
    "**Integration by parts:** \n",
    "It is convenient to get rid of the stress derivatives w.r.t. $x$ in [weak equilibrium](#eq_weak_equilibium) using the integration by parts to obtain\n",
    "in the above integration can be reduced as follows\n",
    "\n",
    "\\begin{align}\n",
    "\\left( \\delta u_C, A_C \\sigma_{C,a} \\right)_{\\Omega}\n",
    "&=\n",
    "\\left( \\delta u_C, A_C \\sigma_C \\right)_\\Gamma -\n",
    "\\left( \\delta u_{C,a}, A_{C} \\sigma_{C} \\right)_\\Omega\n",
    "\\end{align}\n"
   ]
  },
  {
   "cell_type": "markdown",
   "metadata": {},
   "source": [
    "<a id=\"eq_reduced_weak_form\"></a>\n",
    "**Reduced weak form:**\n",
    "Using this formula, the following variational formulation of a debonding problem is obtained\n",
    "\n",
    "\\begin{align}\n",
    " A_C \\, \\left(\\delta u_{C,a}, \\sigma_{C}\\right)_\\Omega + \n",
    " p \\, \\left(\\delta u_C, \\zeta_C \\tau \\right)_\\Omega -\n",
    "\\left( \\delta u_C, \\bar{t}_C(\\theta) \\right)_{\\Gamma_{t_C}} \n",
    "= 0.\n",
    "\\end{align} "
   ]
  },
  {
   "cell_type": "markdown",
   "metadata": {},
   "source": [
    "**What is it good for?:** \n",
    "Albeit one-dimensional, this equation provides quite some potential for efficient calculation of practical problems in composites, like pull-out, push-in or crack bridge configurations as we shall show later on. The intention to keep the code general leads to some decisions related to the coding style."
   ]
  },
  {
   "cell_type": "markdown",
   "metadata": {},
   "source": [
    "**Python note on configurability and parameterization**: To make the expressions derived in the notebook generally useful for several applications, some expressions are not evaluated directly in the command line but are defined as functions with parameters that can be specified only later. Two forms of function definition are used (To get a basic understanding of function definition in Python see e.g. the Tutorial section on functions [here](https://docs.python.org/3/tutorial/controlflow.html#defining-functions)):\n",
    "  - `lambda` functions are used to define a callable function on the fly inline\n",
    "  - `def` functions are used for more complex expressions\n",
    "\n",
    "Names of functions representing derived expressions start all with `get_`. \n",
    "The parameterization of expressions we will related only to variables that change with a discretization or with a material behavior (e.g. number of finite elements $n_E$, material stiffness, maximum load, etc.). As we want to show on examples this parameterization allows us to show several application examples at the end of the notebook. Configurational parameters, e.g. the dimensionality of the problem $n_a$, number of composite layers $n_C$, number of element nodes $n_i$ are assumed constant within a notebook. They are there to prepare an adoption of the whole notebook for 2D or 3D configurations. "
   ]
  },
  {
   "cell_type": "markdown",
   "metadata": {},
   "source": [
    "To proceed further with the model development we have to abondon the continuity of the primary and derived field variables and start with approximate solution. The procedure is now a kind of **backward substitution**. Once we define an approximation of the displacement field $u_C$ and of the test functions $\\delta u_C$ we can simply substitute them into the above defined kinematic conditions and into the [reduced weak form](#eq_reduced_weak_form)."
   ]
  },
  {
   "cell_type": "markdown",
   "metadata": {},
   "source": [
    "# Approximation of the primary field variable"
   ]
  },
  {
   "cell_type": "markdown",
   "metadata": {},
   "source": [
    "The primary field variable used generally in 3D domain is the displacement $u_a(x_b)$. However, as only a uni-axial pullout problem is considered here $n_a=1$ we will skip the dimensional indexes $a$ and $b$. This section shows a step by step derivation of the shape functions, Jacobi transformation and expressions needed to construct the system matrix."
   ]
  },
  {
   "attachments": {
    "fe_i.jpg": {
     "image/jpeg": "[encoded data removed]"
    }
   },
   "cell_type": "markdown",
   "metadata": {},
   "source": [
    "Bar discretized consisting of two components, i.e. matrix $\\mathrm{m}$ and fiber $\\mathrm{f}$. The domain is discretized using nodes $I \\in (1,n_I)$\n",
    "\n",
    "<a id=\"Discretization\">Figure 3: Discretization</a>\n",
    "![fe_i.jpg](attachment:fe_i.jpg)"
   ]
  },
  {
   "cell_type": "markdown",
   "metadata": {},
   "source": [
    "**Globally defined shape functions:** Tha approximation of the displacement field of a component $C \\in [\\mathrm{m}, \\mathrm{f}]$ (matrix or fiber) needed to resolve the strains and stresses in. [differential equilibrium](#eq_differential_equilibrium_equation) is introduced as\n",
    "\\begin{align}\n",
    " u_{C}(x) = N_I(x) \\, u_{CI}\n",
    "\\end{align}\n",
    "This approximation is depicted in Fig. [3a](#Discretization). Following the concept of the finite-element approximation, the test functions needed in the [reduced weak form](#eq_reduced_weak_form) are approximated using the same shape functions\n",
    "\\begin{align}\n",
    " \\delta u_{C}(x) = N_I(x) \\, \\delta u_{CI}\n",
    "\\end{align}"
   ]
  },
  {
   "cell_type": "markdown",
   "metadata": {},
   "source": [
    "**Element-wise defined shape functions:** As shown in Figure [1a](#Figure-1:-Discretization), finite element shape functions have value 1 in the node $I$ and zero in all other nodes. Thus, in numerical implementations of spatial integrals over the domain, it is only necessary to consider the region of a shape function with nonzero values, i.e. $N_I(x_b) \\neq 0$. Let us therefore introduce the local domain within a discretization element $E$ covered by the parametric coordinates $\\xi_r \\in (-1, 1)$. With shape functions $N_i(\\xi_r)$ defined within an element in terms of $\\xi$ only nodes $i$ of an element $E$ need to be considered.\n",
    "So that the global approximation can be rewritten for each element $E$ as\n",
    "\\begin{align}\n",
    " u_{CEa}(\\xi_r) = N_{Ei}( \\xi_r ) \\, u_{CEia}, \\;\\;\\;\n",
    " \\delta u_{CEa}(\\xi_r) = N_{Ei}( \\xi_r ) \\, \\delta u_{CEia}\n",
    "\\end{align}"
   ]
  },
  {
   "cell_type": "markdown",
   "metadata": {},
   "source": [
    "As a consequence of this choice, the shape functions of all elements $E$ are the same so that their index can be skipped, i.e. \n",
    "\\begin{align}\n",
    " u_{CEa}(\\xi_r) = N_{i}( \\xi_r ) \\, u_{CEia}, \\;\\;\\;\n",
    " \\delta u_{CEa}(\\xi_r) = N_{i}( \\xi_r ) \\, \\delta u_{CEia}\n",
    "\\end{align}"
   ]
  },
  {
   "cell_type": "markdown",
   "metadata": {},
   "source": [
    "**Python note on symbolic expressions:** The intention of this notebook is not only to implement a particular model for pullout problem but to provide a general template for construction of similar numerical models. It is therefore convenient to express the shape functions in symbolic form. Using this approach, the machinery of finite element derivation can be completely automated. To introduce the symbolic definition of $N_(\\xi)$, the `sympy` package can be conveniently used. In the preamble, this package has been imported as `import sympy as sp`. A brief introduction to the `sympy` package that can help to understand the following few lines of code is provided e.g. [here](https://docs.sympy.org/latest/tutorial/intro.html)"
   ]
  },
  {
   "cell_type": "markdown",
   "metadata": {},
   "source": [
    "Let us first define the parametric coordinate $\\xi \\in (-1,1)$ interpolating within the domain between the finite element nodes $\\xi_0 = -1$ and $\\xi_1 = 1$: (The trailing underscore is used to distinguish symbolic expressions from normal Python variables.) "
   ]
  },
  {
   "cell_type": "code",
   "execution_count": 11,
   "metadata": {},
   "outputs": [],
   "source": [
    "xi_ = sp.symbols('xi')"
   ]
  },
  {
   "cell_type": "markdown",
   "metadata": {},
   "source": [
    "Following the convention defined above, the local node index is denoted as $i$ so that we can write\n",
    "\\begin{align}\n",
    "\\xi_i = [-1, 1]\n",
    "\\end{align}"
   ]
  },
  {
   "cell_type": "markdown",
   "metadata": {},
   "source": [
    "In the present example, linear shape functions are considered: \n",
    "\\begin{align}\n",
    " N_0 & = (1-\\xi)/2, \\; N_1 =(1+\\xi)/2 \\\\\n",
    " N_i(\\xi) &= [ N_0(\\xi), N_1(\\xi) ] \\nonumber\n",
    "\\end{align}"
   ]
  },
  {
   "cell_type": "markdown",
   "metadata": {},
   "source": [
    "**Python note:** The symbolic `sympy` code uses the object `Rational` to treat also the numbers symbolicaly. Otherwise, `1/2` would be directly resolved to a float `0.5`"
   ]
  },
  {
   "cell_type": "code",
   "execution_count": 12,
   "metadata": {},
   "outputs": [
    {
     "data": {
      "image/png": "[encoded data removed]",
      "text/latex": [
       "$\\displaystyle \\left[\\begin{matrix}\\frac{1}{2} - \\frac{\\xi}{2} & \\frac{\\xi}{2} + \\frac{1}{2}\\end{matrix}\\right]$"
      ],
      "text/plain": [
       "⎡1   ξ  ξ   1⎤\n",
       "⎢─ - ─  ─ + ─⎥\n",
       "⎣2   2  2   2⎦"
      ]
     },
     "execution_count": 12,
     "metadata": {},
     "output_type": "execute_result"
    }
   ],
   "source": [
    "N_i_xi_ = sp.Rational(1/2)*sp.Matrix([[(1 - xi_) , (1 + xi_)]])\n",
    "N_i_xi_"
   ]
  },
  {
   "cell_type": "markdown",
   "metadata": {},
   "source": [
    "**Remark: Verification of partition of unity condition:**\n",
    "Let us verify that the condition needed to reproduce the rigid body motion and constant strain state is fulfilled. The shape function must sum up to unity at every point of the domain as\n",
    "\\begin{align}\n",
    "  \\delta_{ii} N_{i}( \\xi_i ) = 1 \n",
    "\\end{align}\n",
    "For linear functions introduced above, this can be easily verified manually. Using `sympy` we can perform the summation symbolically to obtain"
   ]
  },
  {
   "cell_type": "code",
   "execution_count": 13,
   "metadata": {},
   "outputs": [
    {
     "data": {
      "image/png": "[encoded data removed]",
      "text/latex": [
       "$\\displaystyle 1$"
      ],
      "text/plain": [
       "1"
      ]
     },
     "execution_count": 13,
     "metadata": {},
     "output_type": "execute_result"
    }
   ],
   "source": [
    "N_i_xi_[0] + N_i_xi_[1]"
   ]
  },
  {
   "cell_type": "markdown",
   "metadata": {},
   "source": [
    "Now, let us transform the symbolic representation of the shape functions into an executable code that accepts not only a single value of $\\xi$ but a multi-dimensional array that can be evaluated in a single call. Such a transformation requires the `sympy` methods called `lambdify`. The new callable variable `get_N_i_xi` represents a function that accepts an array of parametric coordinates."
   ]
  },
  {
   "cell_type": "code",
   "execution_count": 14,
   "metadata": {},
   "outputs": [],
   "source": [
    "lambda_N_i_xi = sp.lambdify(xi_, N_i_xi_, 'numpy' )\n",
    "get_N_i_xi = lambda xi: lambda_N_i_xi(xi)[0,...] # drop the first dimension from lambdify"
   ]
  },
  {
   "cell_type": "markdown",
   "metadata": {},
   "source": [
    "For later manipulations with the discretization into a form of multidimensional arrays let us introduce the size of element nodes $n_{Ei}$ and size of elemental degrees of freedom $n_{Eo}$. "
   ]
  },
  {
   "cell_type": "code",
   "execution_count": 15,
   "metadata": {},
   "outputs": [],
   "source": [
    "n_Ei = n_C * len(N_i_xi_) # number of element nodes\n",
    "n_Eo = n_Ei * n_a # number of elemental degrees of freedom"
   ]
  },
  {
   "cell_type": "markdown",
   "metadata": {},
   "source": [
    "**Example: shape functions evaluated in nodal points**\n",
    "To verify the function `get_N_i_xi( xi )` let us evaluate its values $N_i(-1)$, $N_i(1)$ and $N_i(0)$:"
   ]
  },
  {
   "cell_type": "code",
   "execution_count": 16,
   "metadata": {},
   "outputs": [
    {
     "name": "stdout",
     "output_type": "stream",
     "text": [
      "[[1.  0.5 0. ]\n",
      " [0.  0.5 1. ]]\n"
     ]
    }
   ],
   "source": [
    "print(get_N_i_xi(np.array([-1,0,1])))"
   ]
  },
  {
   "cell_type": "markdown",
   "metadata": {},
   "source": [
    "Note the first index of the return array is the local node index $i$. Further dimensions correspond to the input array."
   ]
  },
  {
   "cell_type": "markdown",
   "metadata": {},
   "source": [
    "# Approximation of strains"
   ]
  },
  {
   "cell_type": "markdown",
   "metadata": {},
   "source": [
    "Using the approximated displacement field the [component strains](#eq_varepsilon_{Caa}) are approximated as\n",
    "\\begin{align}\n",
    "\\varepsilon_{ECaa} &= N_{i,a}(\\xi_r) \\, u_{ECia}\n",
    "\\end{align}\n",
    "The term $N_{i,a}(\\xi_r)$ represents the derivative of the shape function w.r.t. the global coordinate $x_a$. However, the shape functions are only available in the parametric coordinates, i.e. $N_i(\\xi_r)$. Assuming that we can somehow relate the local coordinates $\\xi_r$ to the global ones $x_a$ let us apply the chain rule\n",
    "\\begin{align}\n",
    "N_{i,a}(\\xi_r) &= N_{i,r} \\, \\xi_{r,a}\n",
    "\\end{align}"
   ]
  },
  {
   "cell_type": "markdown",
   "metadata": {},
   "source": [
    "The derivatives $N_{i,r}$ of the shape functions are obtained easily using the sympy automatic differentiation invoked as `diff` method on the matrix of shape functions "
   ]
  },
  {
   "cell_type": "code",
   "execution_count": 17,
   "metadata": {},
   "outputs": [
    {
     "data": {
      "image/png": "[encoded data removed]",
      "text/latex": [
       "$\\displaystyle \\left[\\begin{matrix}- \\frac{1}{2} & \\frac{1}{2}\\end{matrix}\\right]$"
      ],
      "text/plain": [
       "[-1/2  1/2]"
      ]
     },
     "execution_count": 17,
     "metadata": {},
     "output_type": "execute_result"
    }
   ],
   "source": [
    "dN_xi_ri_ = N_i_xi_.diff('xi')\n",
    "dN_xi_ri_"
   ]
  },
  {
   "cell_type": "code",
   "execution_count": 18,
   "metadata": {},
   "outputs": [],
   "source": [
    "get_dN_xi_ir = sp.lambdify(xi_, dN_xi_ri_.T, 'numpy')"
   ]
  },
  {
   "cell_type": "markdown",
   "metadata": {},
   "source": [
    "**Example: evaluate derivatives for a set of local integration points**"
   ]
  },
  {
   "cell_type": "code",
   "execution_count": 19,
   "metadata": {},
   "outputs": [
    {
     "name": "stdout",
     "output_type": "stream",
     "text": [
      "[[-0.5]\n",
      " [ 0.5]]\n"
     ]
    }
   ],
   "source": [
    "dN_xi_mir = get_dN_xi_ir(np.array([[-1,1],[0,1]], dtype=np.float_ ))\n",
    "print(dN_xi_mir)"
   ]
  },
  {
   "cell_type": "markdown",
   "metadata": {},
   "source": [
    "Note that the dimension of the input array $\\xi_m$ is ignored. This is the consequence of the fact that the derivatives are constant within an element. Therefore, the `diff` operation drops the variable $\\xi$ from the evaluation and the `lambdify` function ignores the dimension of the input array. The shape of the output array is identical with that of the input array, namely $ir$. "
   ]
  },
  {
   "cell_type": "markdown",
   "metadata": {},
   "source": [
    "**Geometry approximation:**\n",
    "An isoparametric approximation of the geometry and of the displacement is going to be used next. Thus, to obtain the global coordinates of a point within a finite element $E$ we can write\n",
    "\\begin{align}\n",
    " x_{Ea} = N_i( \\xi_r ) \\, x_{Eia}\n",
    "\\end{align}\n",
    "Note that the layer index $C$ is omitted here. The same shape functions are used for both layers within the domain.\n",
    "By applying the chain rule, can now write the derivative $x_{a,r}$ as\n",
    "\\begin{align}\n",
    " x_{Ea,r} = N_{i,r}\\, x_{Eia} =  J_{Era}\n",
    "\\end{align}\n",
    "Let us define an operator calculating the Jacobi matrix as"
   ]
  },
  {
   "cell_type": "code",
   "execution_count": 20,
   "metadata": {},
   "outputs": [],
   "source": [
    "get_J_Era = lambda x_Eia, xi: np.einsum('ir,Eia->Era', get_dN_xi_ir(xi), x_Eia)\n",
    "get_J_mEra = lambda x_Eia, xi_m: get_J_Era(x_Eia, xi_m)[np.newaxis,...]"
   ]
  },
  {
   "cell_type": "markdown",
   "metadata": {},
   "source": [
    "**Example: Evaluate the Jacobi matrix**\n",
    "Given an array of nodal coordinates and of parametric coordinates $\\xi_\\mathrm{m}$ evaluate the Jacobi matrix using the function `get_J_mEra`"
   ]
  },
  {
   "cell_type": "code",
   "execution_count": 21,
   "metadata": {},
   "outputs": [
    {
     "name": "stdout",
     "output_type": "stream",
     "text": [
      "[[[[0.5]]\n",
      "\n",
      "  [[0.5]]]]\n"
     ]
    }
   ],
   "source": [
    "J_mEra = get_J_mEra( np.array([[[1],[2]],[[2],[3]]]), np.array([-1, 0, 1]) )\n",
    "print(J_mEra)"
   ]
  },
  {
   "cell_type": "markdown",
   "metadata": {},
   "source": [
    "However, to get the global derivative of $N_{i,a}$ we need \n",
    "the inverse mapping, i.e. not $x_{Ea,r}$ but $\\xi_{Er,a}$. This can be obtained\n",
    "by inverting the Jacobi matrix\n",
    "\\begin{align}\n",
    " \\xi_{Er,a} = J^{-1}_{Era}\n",
    "\\end{align}\n",
    "The corresponding function can be written as follows "
   ]
  },
  {
   "cell_type": "code",
   "execution_count": 22,
   "metadata": {},
   "outputs": [],
   "source": [
    "get_inv_J_mEra = lambda x_Eia, xi: np.linalg.inv(get_J_mEra(x_Eia, xi))"
   ]
  },
  {
   "cell_type": "markdown",
   "metadata": {},
   "source": [
    "The global derivatives of shape functions needed for evaluation of derived field variables are thus obtained as\n",
    "\\begin{align}\n",
    " N_{Ei,a} = N_{i,r} J^{-1}_{Era}\n",
    "\\end{align}"
   ]
  },
  {
   "cell_type": "code",
   "execution_count": 23,
   "metadata": {},
   "outputs": [],
   "source": [
    "get_dN_x_mEia = lambda x_Eia, xi: np.einsum(\n",
    "    'ir,mEra->mEia', get_dN_xi_ir(xi), get_inv_J_mEra(x_Eia,xi))"
   ]
  },
  {
   "cell_type": "markdown",
   "metadata": {},
   "source": [
    "**Remark: Irregular discretization structure:**\n",
    "Note that unlike the function $N_{i,r}$ which is identical for all elements, the derivatives are generally different for each element. If all elements have the same shape and same size, the terms $N_{Ei,a}$ would be the same and the index $E$ might be dropped in the further expressions."
   ]
  },
  {
   "cell_type": "markdown",
   "metadata": {},
   "source": [
    "**Example: Jacobi matrix and derivatives on a single element**: Consider an element with the nodal coordinates $x_{i} = [0,2]$. The global derivatives of the shape functions at position $\\xi_m = [0]$ are obtained as follows:"
   ]
  },
  {
   "cell_type": "code",
   "execution_count": 24,
   "metadata": {},
   "outputs": [
    {
     "data": {
      "text/plain": [
       "array([[[[-0.5],\n",
       "         [ 0.5]]]])"
      ]
     },
     "execution_count": 24,
     "metadata": {},
     "output_type": "execute_result"
    }
   ],
   "source": [
    "x_Eia = np.array([[[-1], [1]]], dtype=np.float_)\n",
    "get_dN_x_mEia(x_Eia, [0])"
   ]
  },
  {
   "cell_type": "markdown",
   "metadata": {},
   "source": [
    "**Strains:** Finally, recalling again the index notation \n",
    "\\begin{align}\n",
    "\\varepsilon_{ECmab} = N_{Eim,a} u_{ECib}\n",
    "\\end{align}\n",
    "we may write the function delivering strains for the supplied nodal displacements as"
   ]
  },
  {
   "cell_type": "code",
   "execution_count": 25,
   "metadata": {},
   "outputs": [],
   "source": [
    "get_eps_mEC = lambda u_ECi, x_Eia, xi_m: np.einsum(\n",
    "    'm,nEia,ECi->mEC', np.ones(len(xi_m)),get_dN_x_mEia(x_Eia,xi_m), u_ECi\n",
    ")"
   ]
  },
  {
   "cell_type": "markdown",
   "metadata": {},
   "source": [
    "**Todo:** explain the dimensional expansion for the material points"
   ]
  },
  {
   "cell_type": "markdown",
   "metadata": {},
   "source": [
    "**Example:** Evaluate the strain for a bar with the length of 2 m with left node displacement $u_{0,0,0} = 0$ and right node displacement $u_{0,0,1} = 1$. The corresponding nodal coordinates are defined as $x_{0,0} = 0$ and $x_{0,1} = 2$ "
   ]
  },
  {
   "cell_type": "code",
   "execution_count": 26,
   "metadata": {},
   "outputs": [
    {
     "data": {
      "text/plain": [
       "array([[[0.5]]])"
      ]
     },
     "execution_count": 26,
     "metadata": {},
     "output_type": "execute_result"
    }
   ],
   "source": [
    "get_eps_mEC(np.array([[[0,1]]]), np.array([[[0],[2]]]), [0])"
   ]
  },
  {
   "cell_type": "markdown",
   "metadata": {},
   "source": [
    "**Slip:** The difference between matrix and fiber displacement $\\mathrm{m}$ and $\\mathrm{f}$, respectively, is obtained by evaluating\n",
    "\\begin{align}\n",
    "s_{mE} = \\zeta_{C} N_{mi} u_{ECi}\n",
    "\\end{align}"
   ]
  },
  {
   "cell_type": "code",
   "execution_count": 27,
   "metadata": {},
   "outputs": [],
   "source": [
    "get_s_mE = lambda u_ECi, xi_m: np.einsum(\n",
    "    'C,im,ECi->mE', zeta_C, get_N_im(xi_m), u_ECi\n",
    ") "
   ]
  },
  {
   "cell_type": "markdown",
   "metadata": {},
   "source": [
    "# Nonlinear iterative solver"
   ]
  },
  {
   "cell_type": "markdown",
   "metadata": {},
   "source": [
    "<a id=\"eq:variational_form_m\"></a>\n",
    "As already mentioned, the test functions introduced in the [weak form](#eq_reduced_weak_form) use the same approximation as the displacements. Therefore, we can approach to further specification of the global governing equations. By substituting for the shape functions we obtain\n",
    "\n",
    "\\begin{align}\n",
    "\\delta u_{ECi} \\left(N_{Ei,x}, A_C \\sigma_C \\right)_\\Omega +\n",
    "\\delta u_{ECi} \\left( \\zeta_C N_{i} , p\\tau \\right)_\\Omega -\n",
    "\\delta u_{ECi} \\left( N_{i}, \\bar{t}_{c}(\\theta) \\right)_{\\Gamma_{t_{C}}} = 0.\n",
    "\\end{align}"
   ]
  },
  {
   "cell_type": "markdown",
   "metadata": {},
   "source": [
    "**Assembly operator:** Since we require that these equations must be fulfilled for arbitrary values of test functions $u_{C}$, we implicitly say that this must hold also for their approximations. As the shape functions $N_i$ are fixed, the arbitrariness now relates only to the multipliers, i.e. to the nodal values of the test function approximation. But can we directly take the multipliers of the element-wise approximation $\\delta_{ECi}$? Not really! Multipliers, i.e. degrees of freedom are shared by two elements so that several equilibrium conditions would be associated with a single degree of freedom. Thus, to proceed we need to link them using an index mapping.\n",
    "\\begin{align}\n",
    "o_{ECi} := (E,C, i) \\rightarrow O\n",
    "\\end{align}\n",
    "where $O$ is the global unique index of the degree of freedom. Using this index map we can define an assembly operator as\n",
    "\\begin{align}\n",
    "\\mathcal{A}_{o}\\left(B_{ECi}\\right) &:= \n",
    "A_{O}[O_{ECi}] = A_{O}[O_{ECi}] + B_{ECi}, \\forall (E,C,i)\n",
    "\\end{align}"
   ]
  },
  {
   "cell_type": "markdown",
   "metadata": {},
   "source": [
    "**Python note:** This kind of element-wise assembly of forces and stiffness is usually done by looping over elements and adding the contributions to the appropriate positions of the global vector. As we like to avoid loops in this implementation, we can conveniently using a `numpy.bincount` method."
   ]
  },
  {
   "cell_type": "code",
   "execution_count": 28,
   "metadata": {},
   "outputs": [
    {
     "data": {
      "text/plain": [
       "array([1., 5., 4.])"
      ]
     },
     "execution_count": 28,
     "metadata": {},
     "output_type": "execute_result"
    }
   ],
   "source": [
    "B_ECi = np.array([[[1,2]],[[3,4]]])\n",
    "O_ECi = np.array([[[0,1]],[[1,2]]])\n",
    "np.bincount(O_ECi.flatten(), weights=B_ECi.flatten())"
   ]
  },
  {
   "cell_type": "markdown",
   "metadata": {},
   "source": [
    "Each occurrence of index 1 has been weighted by the respective terms in the `B_ECi` array yielding the value 5 at the index 1 of the resulting vector (note that the first position has an index 0).   "
   ]
  },
  {
   "cell_type": "markdown",
   "metadata": {},
   "source": [
    "Using this assembly operator we can rewrite the residuum in terms of unique degrees of freedom as\n",
    "\\begin{align}\n",
    "\\delta U_O R^{(\\theta)}_{O} &= \n",
    "\\delta U_O \\left[ \\mathcal{A}_O\\left(N_{Ei,x}, A_C \\sigma_C \\right)_\\Omega + \n",
    "\\mathcal{A}_O\\left( \\zeta_C N_{i} , p\\tau \\right)_\\Omega -\n",
    "\\mathcal{A}_O\\left( N_{i}, \\bar{t}_{c}(\\theta)\n",
    "\\right)_{\\Gamma_{t_{C}}}  \\right] = \n",
    "0.\n",
    "\\end{align}"
   ]
  },
  {
   "cell_type": "markdown",
   "metadata": {},
   "source": [
    "<a id=\"eq_equilibrium_residuum\"></a>\n",
    "In this form, the arbitrariness is related to unique global degrees of freedom, i.e. $\\delta U_o$. Now the term in the brackets represents an equation system to be solved for $u_C$ approximation.\n",
    "\\begin{align}\n",
    "R^{(\\theta)}_{O} = \n",
    "\\mathcal{A}_O\\left(A_C N_{Ei,x}, \\sigma_C \\right)_\\Omega + \n",
    "\\mathcal{A}_O\\left(p \\zeta_C N_{i}, \\tau \\right)_\\Omega -\n",
    "\\mathcal{A}_O\\left(N_{i}, \\bar{t}_{c}(\\theta)\n",
    "\\right)_{\\Gamma_{t_{C}}}  &= 0.\n",
    "\\end{align}"
   ]
  },
  {
   "cell_type": "markdown",
   "metadata": {},
   "source": [
    "The first two terms represent the internal forces $F_O$ and the third term $\\bar{F}_{Eo}$ denotes the external force. In the sequel only nodal external forces $\\delta(x_Ei) \\bar{t}$ will be considered so that the integral term will dropped in the sequel. Thus we can rewrite the  residuum as a requirement on equilibrium in all global DOFs $O$.\n",
    "\\begin{align}\n",
    "R_O^{(\\theta)}(U_{P}) = F_{O}(U_{P})  - \\bar{F}^{(\\theta)}_O &= 0.\n",
    "\\end{align}"
   ]
  },
  {
   "cell_type": "markdown",
   "metadata": {},
   "source": [
    "The obtained set of nodal equilibrium equations can be nonlinear depending on the chosen type of material behavior. Therefore, let us prepare a iteration scheme to find an equilibrium by linearizing the residuum first \n",
    "\\begin{align}\n",
    "R^{(\\theta)}_{O}(U_{P}^{(k)})\n",
    "\\approx\n",
    "R^{(\\theta)}_{O}(U_{P}^{(k-1)})\n",
    "+\n",
    "\\left.\n",
    "\\frac{ \\partial R^{(\\theta)}_{O} }{\\partial U_{P}}\n",
    "\\right|_{U_{P}^{(k-1)}}\n",
    "\\Delta U_{P}^{(k)} = 0.\n",
    "\\end{align}"
   ]
  },
  {
   "cell_type": "markdown",
   "metadata": {},
   "source": [
    "With distinguished internal and external forces, this translates to \n",
    "\\begin{align}\n",
    "R^{(\\theta)}_{O}(U_{P}^{(k)})\n",
    "\\approx\n",
    "F_{O}(U_{P}^{(k-1)}) -\n",
    "\\bar{F}^{(\\theta)}_{O}\n",
    "+\n",
    "\\left.\n",
    "\\frac{ \\partial F^{(\\theta)}_{O} }{\\partial U_{P}}\n",
    "\\right|_{U_{P}^{(k-1)}}\n",
    "\\Delta U_{P}^{(k)} = 0.\n",
    "\\end{align}"
   ]
  },
  {
   "cell_type": "markdown",
   "metadata": {},
   "source": [
    "The derivative of the internal forces with respect to global displacements read"
   ]
  },
  {
   "cell_type": "markdown",
   "metadata": {},
   "source": [
    "\\begin{align}\n",
    "\\frac{ \\partial F^{(\\theta)}_{O} }{\\partial U_{P}}\n",
    "&=\n",
    "\\mathcal{A}_{OP} \\left(N_{Ei,x}, A_D \n",
    "\\frac{\\partial \\sigma_D}{\\partial U_{P}} \n",
    "\\right)_\\Omega + \n",
    "\\mathcal{A}_{OP} \\left( \\zeta_C N_{i} , p\n",
    "\\frac{\\partial \\tau}{\\partial U_{p}}  \n",
    "\\right)_\\Omega\n",
    "\\end{align}"
   ]
  },
  {
   "cell_type": "markdown",
   "metadata": {},
   "source": [
    "Using the chain rule we can proceed by resolving the stress derivatives of the components as follows\n",
    "\\begin{align}\n",
    "\\frac{\\partial \\sigma_D}{\\partial U_P} =\n",
    "\\frac{\\partial \\sigma_D}{\\partial \\varepsilon_{D}}\n",
    "\\frac{\\partial \\varepsilon_{D}}{\\partial u_{EDj}}\n",
    "\\frac{\\partial u_{EDj}}{\\partial U_P} =\n",
    "\\frac{\\partial \\sigma_{ED}}{\\partial \\varepsilon_{ED}}\n",
    "N_{Ej,x} [P_{EDj}]\n",
    "\\end{align}"
   ]
  },
  {
   "cell_type": "markdown",
   "metadata": {},
   "source": [
    "The shear stress derivatives are resolved as follows\n",
    "\\begin{align}\n",
    "\\frac{\\partial \\tau }{\\partial U_P}\n",
    " &=\n",
    "\\frac{\\partial \\tau }{\\partial s } \n",
    "\\frac{\\partial s }{\\partial u_{EDj} } \n",
    "\\frac{\\partial u_{EDj} }{\\partial U_{P} } =\n",
    "\\frac{\\partial \\tau_{E} }{\\partial s_{E} } \n",
    "\\zeta_{D} N_{Ej}\n",
    "[P_{EDj}]\n",
    "\\end{align}"
   ]
  },
  {
   "cell_type": "markdown",
   "metadata": {},
   "source": [
    "Note that the derivatives $\\partial u_{EDj}/ \\partial U_P$ render the index map from the elementwise enumeration of the degrees of freedom to the global ones, i.e. $(E,D,j) \\rightarrow P$. Thus, we can extend the mapping operator $\\mathcal{A}_{OP}$  to acccount for the assembly of the tangent matrix $K_{OP}$ by introducing the mapping \n",
    "\\begin{align}\n",
    "(E,C,i,D,j) \\rightarrow (O,P)\n",
    "\\end{align}"
   ]
  },
  {
   "cell_type": "markdown",
   "metadata": {},
   "source": [
    "<a id=\"eq_system_matrix\"></a>\n",
    "Thus, the derivative of the residuum representing the system matrix can be finally written as\n",
    "\n",
    "\\begin{align}\n",
    "K^{(\\theta)}_{OP} =\\frac{ \\partial F^{(\\theta)}_{O} }{\\partial U_{P}}\n",
    "&=\n",
    "\\mathcal{A}_{OP} \n",
    "\\left(A_D N_{Ei,x} N_{Ej,x}, \n",
    "\\frac{\\partial \\sigma_{DE}}{\\partial \\varepsilon_{DE}}\n",
    "\\right)_\\Omega\n",
    "+ \n",
    "\\mathcal{A}_{OP} \n",
    "\\left(  p \\, \\zeta_C \\zeta_{D} \\, N_{i} N_{j},\n",
    "\\frac{\\partial \\tau_E }{\\partial s_E } \n",
    "\\right)_\\Omega\n",
    "\\end{align}"
   ]
  },
  {
   "cell_type": "markdown",
   "metadata": {},
   "source": [
    "<a id=\"eq_recurrence_relation\"></a>\n",
    "**Recurrence relation:** The linearized problem can now be transfered to a recurrent scheme converging quadratically to the solution\n",
    "\\begin{align}\n",
    "K^{(\\theta,k-1)}_{OP} \\Delta U_P^{(k)} = \\bar{F}^{(\\theta)}_O - F_{O}(U_{P}^{(k-1)})\n",
    "\\end{align}"
   ]
  },
  {
   "cell_type": "markdown",
   "metadata": {},
   "source": [
    "To evaluate this expression we still need to address two issues:  numerical integration represented by the operator $(\\ldots)_{\\Omega_E}$ and the constitutive laws of components and of the bond  "
   ]
  },
  {
   "cell_type": "markdown",
   "metadata": {},
   "source": [
    "**Numerical integration scheme**:\n",
    "To integrate a function over a domain of an element we need to approximate the integral\n",
    "\\begin{align}\n",
    "  F = \\int_{}^{} f( x ) \\; \\mathrm{d}x\n",
    "\\end{align}\n",
    "However, the function $f$ is not explicitly available in global coordinates $x$ but in parametric coordinates $\\xi$. Therefore, we need the mapping between $\\mathrm{d}x$ and $\\mathrm{d}\\xi$, i.e.\n",
    "\\begin{align}\n",
    "\\mathrm{d}x_a &= \\left| \\frac{\\mathrm{d}x_a}{\\mathrm{d}\\xi_r} \\right| \\mathrm{d}\\xi_r\n",
    "= | J(\\xi_r ) | \\; \\mathrm{d}\\xi_r\n",
    "\\end{align}\n",
    "\\begin{align}\n",
    "F = \\int_{-1}^{1} f( \\xi) \\; \\frac{\\mathrm{d}x}{\\mathrm{d}\\xi} \\; \\mathrm{d}  \\xi\n",
    "= \\int_{-1}^{1} f( \\xi) \\; | J(\\xi) | \\; \\mathrm{d}  \\xi\n",
    "\\end{align}\n",
    "Using the quadrature rule with sampling points $\\xi_m$ and weight factors $w_m$ integration can be written as\n",
    "\\begin{align}\n",
    "  F = w_m f( \\xi_m ) | J(\\xi_m) |.\n",
    "\\end{align}"
   ]
  },
  {
   "cell_type": "code",
   "execution_count": 29,
   "metadata": {},
   "outputs": [],
   "source": [
    "get_N_im = lambda xi_m: get_N_i_xi(xi_m)"
   ]
  },
  {
   "cell_type": "code",
   "execution_count": 30,
   "metadata": {},
   "outputs": [],
   "source": [
    "get_J_det_mE = lambda x_Eia, xi_m: np.linalg.det(get_J_mEra(x_Eia, xi_m))"
   ]
  },
  {
   "cell_type": "markdown",
   "metadata": {},
   "source": [
    "To prepare the recurrent iteration let us collect the terms within the integration that remain constant. They can be precalculated in advance. These multidimensional arrays can be calculated only once at the beginning. They represent linear and quadratic forms of  shape functions and of their derivatives. The order of derivative will be denoted by the superindex $^{(0)}$ und $^{(1)}$. Thus, four cached integration array operators will be constructed: $\\mathcal{B}^{(1)}_{mECi}$, $\\mathcal{B}^{(0)}_{mECi}$, $\\mathcal{Q}^{(1)}_{mECi}$ and $\\mathcal{Q}^{(0)}_{mECi}$."
   ]
  },
  {
   "cell_type": "markdown",
   "metadata": {},
   "source": [
    "**Caching of global integration operators:** The individual collected terms are now defined as functions of the array of global coordinates $x_{Eia}$ and of the integration scheme defined by $\\xi_m$ and $w_m$. The operator for global kinematic mapping associated with the strain in the material components reads\n",
    "\n",
    "\\begin{align}\n",
    "\\mathcal{B}^{(1)}_{mECia} &=\n",
    "w_m \\delta_{CD} A_{C} N_{mEj,a} | J |_{mE}\n",
    "\\end{align}"
   ]
  },
  {
   "cell_type": "code",
   "execution_count": 31,
   "metadata": {},
   "outputs": [],
   "source": [
    "get_B1_mECia = lambda x_Eia, xi_m, w_m: np.einsum(\n",
    "    'm,C,mEia,mE->mECia', \n",
    "    w_m, A_C, get_dN_x_mEia(x_Eia,xi_m), get_J_det_mE(x_Eia,xi_m)\n",
    ")"
   ]
  },
  {
   "cell_type": "markdown",
   "metadata": {},
   "source": [
    "The operator for global mapping of integration over the bond stress is defined as\n",
    "\\begin{align}\n",
    "\\mathcal{B}^{(0)}_{mECi} &=\n",
    "w_m \\zeta_{CD} p N_{mEj} | J |_{mE}\n",
    "\\end{align}"
   ]
  },
  {
   "cell_type": "code",
   "execution_count": 32,
   "metadata": {},
   "outputs": [],
   "source": [
    "get_B0_mECi = lambda x_Eia, xi_m, w_m: np.einsum(\n",
    "    'm,C,im,mE->mECi', \n",
    "    w_m, zeta_C, get_N_im(xi_m), get_J_det_mE(x_Eia,xi_m)\n",
    ") * p"
   ]
  },
  {
   "cell_type": "markdown",
   "metadata": {},
   "source": [
    "The integral operator associated with the component contributions to the system matrix is an 8-dimensional field defined as\n",
    "\\begin{align}\n",
    "\\mathcal{Q}^1_{mECiaDjb} = w_m \\delta_{CD} A_{C} N_{mEi,c} N_{mEj,d} | J |_{mE}\n",
    "\\end{align}"
   ]
  },
  {
   "cell_type": "code",
   "execution_count": 33,
   "metadata": {},
   "outputs": [],
   "source": [
    "DELTA_CD = np.identity(n_C)\n",
    "get_Q1_mECiaDjb = lambda x_Eia, xi_m, w_m: np.einsum(\n",
    "    'm,CD,C,mEia,mEjb,mE->mECiaDjb',\n",
    "    w_m, DELTA_CD, A_C, get_dN_x_mEia(x_Eia,xi_m), get_dN_x_mEia(x_Eia,xi_m), \n",
    "    get_J_det_mE(x_Eia,xi_m)\n",
    ")"
   ]
  },
  {
   "cell_type": "markdown",
   "metadata": {},
   "source": [
    "The operator with the coefficients needed to integrate the contributions of the bond stiffness to the system matrix is given as\n",
    "\\begin{align}\n",
    "\\mathcal{Q}^0_{mECiDj} = w_m \\zeta_{CD} p N_{mEi} N_{mEj} | J |_{mE}.\n",
    "\\end{align}"
   ]
  },
  {
   "cell_type": "code",
   "execution_count": 34,
   "metadata": {},
   "outputs": [],
   "source": [
    "ZETA_CD = np.einsum('C,D->CD', zeta_C, zeta_C)\n",
    "get_Q0_mECiDj = lambda x_Eia, xi_m, w_m: np.einsum(\n",
    "    'm,CD,im,jm,mE->mECiDj',\n",
    "    w_m, ZETA_CD, get_N_im(xi_m), get_N_im(xi_m), get_J_det_mE(x_Eia,xi_m)\n",
    ") * p"
   ]
  },
  {
   "cell_type": "markdown",
   "metadata": {},
   "source": [
    "The numerical quadrature of the [internal forces](#eq_equilibrium_residuum) with constant terms collected in the braces can be written as\n",
    "\\begin{align}\n",
    "F_{O} \n",
    "&= \n",
    "\\mathcal{A}_O\\left[\\mathcal{B}^{(1)}_{mECi} \\, \\sigma_{mC} \\right] + \n",
    "\\mathcal{A}_O\\left[\\mathcal{B}^{(0)}_{mECi} \\, \\tau_m \\right]  \n",
    "= \\mathcal{A}_O\\left[ F_{Eo} \\right] \n",
    "\\end{align}"
   ]
  },
  {
   "cell_type": "markdown",
   "metadata": {},
   "source": [
    "where \n",
    "\\begin{align}\n",
    "F_{Eop} &= \\mathcal{B}^{(1)}_{mECi} \\sigma_{mC} + \\mathcal{B}^{(0)}_{mECi} \\tau_{m}  \n",
    "\\end{align} \n",
    "collects the first two terms with element contributions to the internal forces corresponding to the element DOFS $(E,o)$. "
   ]
  },
  {
   "cell_type": "code",
   "execution_count": 35,
   "metadata": {},
   "outputs": [],
   "source": [
    "def get_F_Eo(B1_mECia, B0_mECi, sig_mEC, tau_mE):\n",
    "    # Elementwise evaluation of internal forces and stiffness matrix\n",
    "    F_sig_ECi = np.einsum('mECid,mEC->ECi', B1_mECia, sig_mEC)\n",
    "    F_tau_ECi = np.einsum('mECi,mE->ECi', B0_mECi, tau_mE)\n",
    "    return (F_tau_ECi + F_sig_ECi).reshape(-1,n_Eo)"
   ]
  },
  {
   "cell_type": "markdown",
   "metadata": {},
   "source": [
    "Similarly, the integration and collextion of the [system matrix](#eq_system_matrix) is performed analogically \n",
    "\\begin{align}\n",
    "K^{(\\theta)}_{OP} \n",
    "&=\n",
    "\\mathcal{A}_{OP} \n",
    "\\left[\\mathcal{Q}^{(1)}_{mECiDj} \\,\n",
    "\\frac{\\partial \\sigma_{mD}}{\\partial \\varepsilon_{mD}}\n",
    "\\right] +\n",
    "\\mathcal{A}_{OP} \n",
    "\\left[\\mathcal{Q}^{(0)}_{mECiDj} \\,\n",
    "\\frac{\\partial \\tau_m }{\\partial s_m } \n",
    "\\right]\n",
    "= \\mathcal{A}_{OP} \n",
    "\\left[ K_{Eop}\n",
    "\\right]\n",
    "\\end{align}"
   ]
  },
  {
   "cell_type": "markdown",
   "metadata": {},
   "source": [
    "**Reshaping of element matrices:** The quadratic forms corresponding to the first and second derivatives of the shape functions can now be prepared into the format of a global stiffness matrix using the reshape function with parameters preserving the last two dimensions that corredpond to the element degrees of freedom. The first three dimensions are flattened using the size specification $-1$."
   ]
  },
  {
   "cell_type": "code",
   "execution_count": 36,
   "metadata": {},
   "outputs": [],
   "source": [
    "def get_K_Eop(Q1_mECiaDjb, Q0_mECiDj, d_sig_mEC, d_tau_mE):\n",
    "    K_Q1_ECiaDjb = np.einsum('mECiaDjb,mEC->ECiaDjb', Q1_mECiaDjb, d_sig_mEC)\n",
    "    K_Q0_ECiDj = np.einsum('mECiDj,mE->ECiDj', Q0_mECiDj, d_tau_mE)\n",
    "    K_Q1_Eij = K_Q1_ECiaDjb.reshape(-1, n_Eo, n_Eo)\n",
    "    K_Q0_Eij = K_Q0_ECiDj.reshape(-1, n_Eo, n_Eo)\n",
    "    return K_Q1_Eij + K_Q0_Eij"
   ]
  },
  {
   "cell_type": "markdown",
   "metadata": {},
   "source": [
    "**Choice of integration scheme:** To apply the integration scheme over the spatial domain of an element the integration point positions and corresponding weights are specified as\n",
    "\\begin{align}\n",
    "\\xi_m &= [-1, 1] \\\\\n",
    "w_m &= [1,1]\n",
    "\\end{align}\n",
    "where $m$ denotes the index of the integration point within an element"
   ]
  },
  {
   "cell_type": "code",
   "execution_count": 37,
   "metadata": {},
   "outputs": [
    {
     "data": {
      "text/plain": [
       "(array([-1.,  1.]), array([1., 1.]))"
      ]
     },
     "execution_count": 37,
     "metadata": {},
     "output_type": "execute_result"
    }
   ],
   "source": [
    "xi_m = np.array([-1, 1], dtype = np.float_)\n",
    "w_m = np.array([1, 1], dtype = np.float_)\n",
    "n_m = len(w_m)\n",
    "xi_m, w_m"
   ]
  },
  {
   "cell_type": "markdown",
   "metadata": {},
   "source": [
    "**Example: Integrate constant shear:** To verify that everyting is correct, let us consider an element of the length 2 and constant shear $\\tau = 1$. The integral can be obtained using $\\mathcal{B}^{(0)}_{EmCi} \\tau_m$. We obtain the resulting nodal forces as"
   ]
  },
  {
   "cell_type": "code",
   "execution_count": 38,
   "metadata": {
    "scrolled": true
   },
   "outputs": [
    {
     "data": {
      "text/plain": [
       "array([[[-0.5, -0.5],\n",
       "        [ 0.5,  0.5]]])"
      ]
     },
     "execution_count": 38,
     "metadata": {},
     "output_type": "execute_result"
    }
   ],
   "source": [
    "np.einsum('mECi,m->ECi',\n",
    "    get_B0_mECi(np.array([[[0],[1]]]), xi_m, w_m), np.array([1,1]))"
   ]
  },
  {
   "cell_type": "markdown",
   "metadata": {},
   "source": [
    "Thus, the forces were distributed uniformly along the fibers and the matrix in oposite directions"
   ]
  },
  {
   "cell_type": "markdown",
   "metadata": {
    "hide_input": true
   },
   "source": [
    "# Verification example"
   ]
  },
  {
   "cell_type": "markdown",
   "metadata": {},
   "source": [
    "Consider a pullout problem with linear elastic behavior of layers and of the bond. Clamp the layer $C=0$ on the left and pull the ayer $C=1$ on the right by unit force."
   ]
  },
  {
   "cell_type": "markdown",
   "metadata": {},
   "source": [
    "**Manual mesh construction:** Given a unit length of the bond zone $L_x =1$ use a three-element discretization to evaluate the matrix stiffness. Let us define the mesh manually by defining the node coordinates $x_{Ia}$ and the corresponding DOFs $O_{CI}$. Later, we will define a simple grid generator to simplify the procedure."
   ]
  },
  {
   "cell_type": "code",
   "execution_count": 39,
   "metadata": {
    "scrolled": true
   },
   "outputs": [],
   "source": [
    "x_Ia = np.array([[0],[0.25],[0.5],[0.75],[1]])\n",
    "O_CI = np.array([[0,1,2,3,4],[5,6,7,8,9]])"
   ]
  },
  {
   "cell_type": "markdown",
   "metadata": {},
   "source": [
    "**plot_mesh_o(n_I, L):** plots the nodes of the discretization with the enumeration of the degrees of freedom"
   ]
  },
  {
   "cell_type": "code",
   "execution_count": 40,
   "metadata": {
    "hide_input": false
   },
   "outputs": [],
   "source": [
    "def plot_mesh_O_CI(ax, x_Ia, O_CI):\n",
    "    xy_offset = (3, 3)\n",
    "    fontsize=12\n",
    "    ax.set_ylim((-2,2))\n",
    "    x_I = x_Ia.flatten()\n",
    "    for y, O_I in zip([-0.5,0.5], O_CI):\n",
    "        ax.plot(x_I, np.zeros_like(x_I)+y, marker='o');\n",
    "        for x, O in zip(x_I, O_I):\n",
    "            xy=(x, y)\n",
    "            ax.annotate(xy=xy, s='%g' % O,\n",
    "                        xytext=xy_offset, color='green',\n",
    "                        textcoords='offset points', size=fontsize)"
   ]
  },
  {
   "cell_type": "code",
   "execution_count": 41,
   "metadata": {
    "hide_input": false,
    "scrolled": true
   },
   "outputs": [
    {
     "data": {
      "image/png": "[encoded data removed]",
      "text/plain": [
       "<Figure size 720x144 with 1 Axes>"
      ]
     },
     "metadata": {
      "needs_background": "light"
     },
     "output_type": "display_data"
    }
   ],
   "source": [
    "fig, ax = plt.subplots(1,1, figsize=(10,2))\n",
    "plot_mesh_O_CI(ax, x_Ia,O_CI)"
   ]
  },
  {
   "cell_type": "markdown",
   "metadata": {},
   "source": [
    "**Elementwise coordinate and index maps:** The mapping into the elementwise arranged node coordinates and degrees of freedom depends on the formulation of the finite element. In case of an implicitly layered cross section we can define general index mapping rearanging the globally defined arrays $x_Ia$ and $O_{CIa}$ into elementwise shape required by the integral expressions, i.e. $x_{Eia}$ and $O_{ECia}$. This mapping is done by defining an element node template $o_{aci}$ that specifies the maps the local index of a layer and node withn an element.  "
   ]
  },
  {
   "cell_type": "code",
   "execution_count": 42,
   "metadata": {},
   "outputs": [],
   "source": [
    "E_map_ci = np.array([[[0,1],[0,1]],[[0,0],[1,1]]])\n",
    "def get_E_xO(x_Ia, O_CI):\n",
    "    ix_2ci = O_CI[0,:-1,None,None] + E_map_ci[0,:,:]\n",
    "    ix_1ci = E_map_ci[1:,:,:]\n",
    "    # elementwise array of degrees of freedom\n",
    "    O_ECi = O_CI[ix_1ci, ix_2ci]\n",
    "    # elementwise array of node coordinates shared for layers C\n",
    "    x_Eia = x_Ia[ix_2ci[:,0,:]]\n",
    "    return x_Eia, O_ECi"
   ]
  },
  {
   "cell_type": "markdown",
   "metadata": {},
   "source": [
    "**Assembly of global matrix and vectors:** The stack of element matrices is directly passed to a `SysMtxAssembly` class that uses the sparse solvers based on the element node mapping. Displacement boundary conditions are inserted using the register_constraint method supplying the degree of freedom and the value. "
   ]
  },
  {
   "cell_type": "code",
   "execution_count": 43,
   "metadata": {},
   "outputs": [],
   "source": [
    "x1_Eia, O1_ECi = get_E_xO(x_Ia, O_CI)\n",
    "# elemnetwise array of flattened DOFs\n",
    "O1_Ei = O1_ECi.reshape(-1,n_Eo)\n",
    "# total number of DOFs\n",
    "n1_O = np.max(O1_Ei)+1\n",
    "d_sig_mE, d_tau_mE = np.array([[[1]]]), np.array([[1]])\n",
    "K1_Eop = get_K_Eop(\n",
    "    get_Q1_mECiaDjb(x1_Eia, xi_m, w_m), get_Q0_mECiDj(x1_Eia, xi_m, w_m),\n",
    "    d_sig_mE, d_tau_mE\n",
    ")\n",
    "K1_OP = SysMtxAssembly()\n",
    "K1_OP.add_mtx_array(K1_Eop, O1_Ei)\n",
    "K1_OP.register_constraint(0, 0)\n",
    "#K1_OP.register_constraint(n1_O - 1, 0.1)\n",
    "F_ext = np.zeros((n1_O,), np.float_)\n",
    "F_ext[-1] = 1\n",
    "K1_OP.apply_constraints(F_ext)\n",
    "U1, _ = K1_OP.solve(F_ext)"
   ]
  },
  {
   "cell_type": "markdown",
   "metadata": {},
   "source": [
    "**Show the displacement and strain profiles:**\n",
    "To associate the displacements arranged in a flat vector let us apply the index map $ECi \\rightarrow o$ stored in the array $o_{ECi}$ to get a three dimensional array\n",
    "\\begin{align}\n",
    "u_{ECi} = U_{o}[o_{ECi}] \\; \\mathrm{where} \\; o_{ECi}: ECi \\rightarrow o\n",
    "\\end{align}\n",
    "Let us use this mapping to obtain the primary field variable $u_1$ for further postprocessing"
   ]
  },
  {
   "cell_type": "code",
   "execution_count": 44,
   "metadata": {},
   "outputs": [],
   "source": [
    "u1_ECi = U1[O1_ECi]"
   ]
  },
  {
   "cell_type": "markdown",
   "metadata": {
    "hide_input": true
   },
   "source": [
    "**plot_mesh_displ( ax, x_Eia, u_ECi ) :** function plotting the deformed configuration - definition in a hidden cell below "
   ]
  },
  {
   "cell_type": "code",
   "execution_count": 45,
   "metadata": {
    "hide_input": true
   },
   "outputs": [],
   "source": [
    "def plot_mesh_disp(ax, x_Eia, u_ECi):\n",
    "    xy_offset = (3, 3)\n",
    "    fontsize=12\n",
    "    ax.set_ylim((-2,2))\n",
    "    x_Ei = x_Eia[...,0]\n",
    "    u_CEi = np.einsum('ECi->CEi', u_ECi)\n",
    "    for y, u_Ei in zip([-0.5,0.5], u_CEi):\n",
    "        x_ = (x_Ei + u_Ei).flatten()\n",
    "        ax.plot(x_, np.zeros_like(x_)+y, marker='o');"
   ]
  },
  {
   "cell_type": "code",
   "execution_count": 46,
   "metadata": {},
   "outputs": [
    {
     "data": {
      "image/png": "[encoded data removed]",
      "text/plain": [
       "<Figure size 720x144 with 1 Axes>"
      ]
     },
     "metadata": {
      "needs_background": "light"
     },
     "output_type": "display_data"
    }
   ],
   "source": [
    "fig, ax = plt.subplots(1,1, figsize=(10,2))\n",
    "plot_mesh_disp(ax, x1_Eia, u1_ECi)"
   ]
  },
  {
   "cell_type": "markdown",
   "metadata": {
    "hide_input": true
   },
   "source": [
    "To plot the slip at the correct positions the positions $x_{Ei0}$ are used as they are identical with the integration points:"
   ]
  },
  {
   "cell_type": "code",
   "execution_count": 47,
   "metadata": {
    "scrolled": true
   },
   "outputs": [
    {
     "data": {
      "image/png": "[encoded data removed]",
      "text/plain": [
       "<Figure size 648x288 with 2 Axes>"
      ]
     },
     "metadata": {
      "needs_background": "light"
     },
     "output_type": "display_data"
    }
   ],
   "source": [
    "f, (ax1, ax2) = plt.subplots(1,2, figsize=(9, 4))\n",
    "plot_u_ECi(ax1, u1_ECi, x1_Eia)\n",
    "plot_var_mEC(ax2, u1_ECi, x1_Eia, xi_m, get_var_mEC=get_eps_mEC, ylabel=r'$\\varepsilon$')"
   ]
  },
  {
   "cell_type": "markdown",
   "metadata": {},
   "source": [
    "# Material behavior"
   ]
  },
  {
   "cell_type": "markdown",
   "metadata": {},
   "source": [
    "**Constitutive law:** The material behavior has been factored out from the previous derivation of the numerical model. In the verification example, a linear constitutive relation was assumed with the material stiffnesses $E_\\mathrm{m}$ and $E_\\mathrm{f}$ of the matrix and fiber, respectively, equal to 1. Also the bond stiffness $E_\\mathrm{b} = 1$. In the next step we will combine linear elastic behavior of layers $\\mathrm{m}$ and $\\mathrm{f}$ with a nonlinear bond. "
   ]
  },
  {
   "cell_type": "markdown",
   "metadata": {},
   "source": [
    "**Layers:** For the layers, stress-strain relation is assumed as\n",
    "i.e. \\begin{align} \n",
    "\\label{eq:constitutive}\n",
    "{\\sigma _{\\rm{f}}} &= E_{\\rm{f}}^{}\\varepsilon_{\\rm{f}}, \\;\\;\n",
    "{\\sigma _{\\rm{m}}} = E_{\\rm{m}}^{}\\varepsilon_{\\rm{m}},\n",
    "\\end{align}\n",
    "in index form, this equation reads\n",
    "\\begin{align} \n",
    "\\label{eq:indexed_constitutive}\n",
    "\\sigma_{Ca} &= D_C\\varepsilon_{Ca}\n",
    "\\end{align}"
   ]
  },
  {
   "cell_type": "code",
   "execution_count": 48,
   "metadata": {},
   "outputs": [],
   "source": [
    "E_m, E_f = 1, 1 # Unit Emodulus assumed\n",
    "D_C = np.array([E_m, E_f], dtype=np.float_)"
   ]
  },
  {
   "cell_type": "markdown",
   "metadata": {},
   "source": [
    "Thus, functions evaluating strains using this constitutive law in terms of the primary displacement variable over the whole spatial domain read \n",
    "\\begin{align} \n",
    "\\sigma_{mECa} &= D_C\\varepsilon_{mECa} = D_C N_{im,a} u_{ECia}\n",
    "\\end{align}\n",
    "The implementation will be used both within a nonlinear time-stepping algorithm and in the postprocessing later on."
   ]
  },
  {
   "cell_type": "code",
   "execution_count": 49,
   "metadata": {},
   "outputs": [],
   "source": [
    "get_sig_mEC = lambda u_ECi, x_Eia, xi_m: np.einsum(\n",
    "    'C,mEC->mEC', D_C, get_eps_mEC(u_ECi, x_Eia, xi_m) )"
   ]
  },
  {
   "cell_type": "code",
   "execution_count": 50,
   "metadata": {},
   "outputs": [],
   "source": [
    "get_d_sig_mEC = lambda u_ECi, x_Eia, xi_m: np.einsum(\n",
    "    'C,mEC->mEC', D_C, np.ones_like(get_eps_mEC(u_ECi, x_Eia, xi_m)))"
   ]
  },
  {
   "cell_type": "markdown",
   "metadata": {},
   "source": [
    "**Bond-slip law:** An example bond model is defined as a piecewise linear function exhibiting softening. The nonlinear algorithm requires the evaluation of $\\mathrm{d}\\tau/\\mathrm{d}s$ which is delivered symbolically using the `diff` method. The function is defined by three data points \n",
    "$(\\tau_1,s_1), (\\tau_2,s_2), (\\tau_3,s_3)$. "
   ]
  },
  {
   "cell_type": "code",
   "execution_count": 51,
   "metadata": {},
   "outputs": [],
   "source": [
    "s, tau_1, s_1, tau_2, s_2, tau_3, s_3 = sp.symbols(\n",
    "    r's, tau_1, s_1, tau_2, s_2, tau_3, s_3 '\n",
    ")\n",
    "tau_s = sp.Piecewise(\n",
    "    (tau_1/s_1 * s, s < s_1), \n",
    "    (tau_1 + (tau_2-tau_1)/(s_2-s_1)*(s-s_1), s <= s_2), \n",
    "    (tau_2 + (tau_3-tau_2)/(s_3-s_2)*(s-s_2), s > s_2)\n",
    ")\n",
    "d_tau_s = tau_s.diff(s)"
   ]
  },
  {
   "cell_type": "markdown",
   "metadata": {},
   "source": [
    "The dictionary of values specifying the data points is defined as"
   ]
  },
  {
   "cell_type": "code",
   "execution_count": 52,
   "metadata": {},
   "outputs": [],
   "source": [
    "bond_data = dict(tau_1=2, s_1=0.1, tau_2=0.5, s_2=0.4, tau_3=0.05, s_3=1.6)"
   ]
  },
  {
   "cell_type": "markdown",
   "metadata": {},
   "source": [
    "To transform the symbolic representation of the function to a function callable with a an array of slip values evaluated in a single call let us use again the `sp.lambdify` generator"
   ]
  },
  {
   "cell_type": "code",
   "execution_count": 53,
   "metadata": {},
   "outputs": [],
   "source": [
    "tau_s_ = sp.lambdify(s, tau_s.subs(bond_data), 'numpy' )\n",
    "d_tau_s_ = sp.lambdify(s, d_tau_s.subs(bond_data), 'numpy' )"
   ]
  },
  {
   "cell_type": "code",
   "execution_count": 54,
   "metadata": {
    "hide_input": false,
    "scrolled": false
   },
   "outputs": [
    {
     "data": {
      "image/png": "[encoded data removed]",
      "text/plain": [
       "<Figure size 864x252 with 2 Axes>"
      ]
     },
     "metadata": {
      "needs_background": "light"
     },
     "output_type": "display_data"
    }
   ],
   "source": [
    "s_max = float(s_3.subs(bond_data))\n",
    "fig, (ax1, ax2) = plt.subplots(1,2, figsize=(12,3.5)) \n",
    "fig.subplots_adjust(hspace=0.5)\n",
    "s_data = np.linspace(0, s_max, 100)\n",
    "ax1.plot(s_data, tau_s_(s_data),color='black')\n",
    "ax1.set_xlabel(r'$s\\;\\;\\mathrm{[mm]}$'); ax1.set_ylabel(r'$\\tau\\;\\;\\mathrm{[MPa]}$'); \n",
    "ax1.set_title('bond-slip law')\n",
    "ax2.plot(s_data, d_tau_s_(s_data), color='black')\n",
    "ax2.set_xlabel(r'$s\\;\\;\\mathrm{[mm]}$'); ax2.set_ylabel(r'$\\mathrm{d}\\tau/\\mathrm{d}s\\;\\;\\mathrm{[MPa/mm]}$');\n",
    "ax2.set_title('bond stiffness');"
   ]
  },
  {
   "cell_type": "markdown",
   "metadata": {},
   "source": [
    "Array based evaluation of the bond stress and stiffness directly in terms of the primary displacement field is then defined as\n",
    "\\begin{align} \n",
    "\\tau_{mE} &= \\tau( \\zeta_C N_{mi} u_{mECi} )\n",
    "\\end{align}"
   ]
  },
  {
   "cell_type": "code",
   "execution_count": 55,
   "metadata": {},
   "outputs": [],
   "source": [
    "get_tau_mE = lambda u_ECi, xi_m: tau_s_( get_s_mE(u_ECi, xi_m) )\n",
    "get_d_tau_mE = lambda u_ECi, xi_m: d_tau_s_( get_s_mE(u_ECi, xi_m) )"
   ]
  },
  {
   "cell_type": "markdown",
   "metadata": {},
   "source": [
    "With these functions, the material model is prepared to be plugged into the nonlinear time stepping loop. Note that the defined bond law does not distinguish the loading and unloading, as it is necessary to introduce a correct treatment of damage and plastic behavior driving the material nonlinearity. Thus, it can only be used for cases with monotonically increasing slip in every material point of the studied specimen. Still, for the explanatory purposes in focus here, such a definintion is completely sufficient and lets us even obtain some insight into the nonlinear behavior of a pullout specimen depending on the type of the bond-slip law.\n",
    "Moreover, an extension of a material model to the more complex phenomenology does not affect the implementation of the nonlinear time stepping scheme."
   ]
  },
  {
   "cell_type": "markdown",
   "metadata": {},
   "source": [
    "**Material model as a class:** To make the developed model applicable to different types of materials and types of bond between the layer, it is convenient to bundle the methods \n",
    "calculating the stress and material stiffness, i.e. `get_sig_mEC`, `get_tau_mE`, `get_d_sig_mEC`, and `get_d_tau_mE` into a single object that can be passed as a parameter to a solution algorithm."
   ]
  },
  {
   "cell_type": "markdown",
   "metadata": {},
   "source": [
    "# Time-stepping algorithm"
   ]
  },
  {
   "cell_type": "markdown",
   "metadata": {},
   "source": [
    "**Intialization of the system vectors and matrix:** The global vector of external forces $F^\\mathrm{ext}$ is represented as a flat array. Individual loads may be simply assigned to a corresponding degree of freedom. For example, the first degree of freedom represents the matrix free end on the left. The last degree of freedom, i.e. $n_O$ represents the right free end of the fiber. \n",
    "\n",
    "The system matrix is instantiated using the `SysMtxAssembly` class that can register the constraints on selected degrees of freedom using the method `register_constraint`. A constraint is registered only once before starting the equilibrium iteration loop. Its value can be modified during the calculation.\n",
    "\n",
    "The fundamental displacement is initialized to zero vector $U^{(n)}$."
   ]
  },
  {
   "cell_type": "markdown",
   "metadata": {},
   "source": [
    "**Incremental equilibrium iteration scheme:** The loop defines below runs the Newton-Raphson iteration controlled either by load or by displacement until the required level of accuracy $R_\\mathrm{acc}$ is reached. "
   ]
  },
  {
   "cell_type": "code",
   "execution_count": 56,
   "metadata": {},
   "outputs": [],
   "source": [
    "def get_UF_t(w, x_Eia, O_ECi, n_t = 100):\n",
    "    # elemnetwise array of flattened DOFs\n",
    "    O_Ei = O_ECi.reshape(-1,n_Eo)\n",
    "    # total number of DOFs\n",
    "    n_O = int(np.max(O_Ei)+1)\n",
    "    # Global vectors\n",
    "    F_ext = np.zeros((n_O,), np.float_)\n",
    "    F_O = np.zeros((n_O,), np.float_)\n",
    "    U_k_O = np.zeros((n_O,), dtype=np.float_)\n",
    "    # Setup the system matrix with displacement constraints\n",
    "    K_OP = SysMtxAssembly()\n",
    "#    K_OP.register_constraint(0, 0.0)\n",
    "    K_OP.register_constraint(int(n_O/2)-1, 0.0)\n",
    "    control = K_OP.register_constraint(n_O - 1, 0.0);\n",
    "    # Time stepping parameters\n",
    "    t_n1, t_max, t_step = 0, 1, 1/n_t\n",
    "    # Iteration parameters\n",
    "    k_max, R_acc = 1000, 1e-3\n",
    "    # Record solutions\n",
    "    U_t_list, F_t_list = [], []\n",
    "    # Precalculated integration operators\n",
    "    B1_mECia = get_B1_mECia(x_Eia, xi_m, w_m)\n",
    "    B0_mECi = get_B0_mECi(x_Eia, xi_m, w_m)\n",
    "    Q1_mECiaDjb = get_Q1_mECiaDjb(x_Eia, xi_m, w_m)\n",
    "    Q0_mECiDj = get_Q0_mECiDj(x_Eia, xi_m, w_m)\n",
    "\n",
    "    # Load increment loop\n",
    "    while t_n1 < t_max:\n",
    "        \n",
    "        U_t_list.append(np.copy(U_k_O))\n",
    "        F_t_list.append(F_O)\n",
    "        \n",
    "        control.u_a = w * t_step\n",
    "        k = 0\n",
    "\n",
    "        # Equilibrium iteration loop\n",
    "        while k < k_max:\n",
    "\n",
    "            # Transform the primary vector to field\n",
    "            u_ECi = U_k_O[O_ECi]\n",
    "            \n",
    "            # Corrector: internal forces (stresses and shear flow)\n",
    "            sig_mEC = get_sig_mEC(u_ECi, x_Eia, xi_m)\n",
    "            tau_mE = get_tau_mE(u_ECi, xi_m)\n",
    "            # Residuum\n",
    "            F_Eo = get_F_Eo(B1_mECia, B0_mECi, sig_mEC, tau_mE)\n",
    "            F_O = np.bincount(O_Ei.flatten(), weights=F_Eo.flatten())\n",
    "            R_O = F_ext - F_O\n",
    "\n",
    "            # Predictor: algorithmic system matrix\n",
    "            d_sig_mEC = get_d_sig_mEC(u_ECi, x_Eia, xi_m)\n",
    "            d_tau_mE = get_d_tau_mE(u_ECi, xi_m)\n",
    "            # System matrix\n",
    "            K_Eop = get_K_Eop(Q1_mECiaDjb, Q0_mECiDj, d_sig_mEC, d_tau_mE)\n",
    "            K_OP.reset_mtx()\n",
    "            K_OP.add_mtx_array(K_Eop, O_Ei)\n",
    "            # Modify/add equations with kinematic constraints\n",
    "            K_OP.apply_constraints(R_O)\n",
    "\n",
    "            # Convergence criterion\n",
    "            R_norm = np.linalg.norm(R_O)\n",
    "            if R_norm < R_acc:\n",
    "                # Convergence reached\n",
    "                break \n",
    "\n",
    "            # Next iteration\n",
    "            delta_U_O, _ = K_OP.solve()\n",
    "            U_k_O += delta_U_O\n",
    "            control.u_a = 0\n",
    "            k += 1\n",
    "        else:\n",
    "            print('no convergence')\n",
    "            break\n",
    "\n",
    "        # Target time of the next load increment\n",
    "        t_n1 += t_step\n",
    "\n",
    "    print('time stepping finished at t = %g' % t_n1)\n",
    "    U_t, F_t = np.array(U_t_list), np.array(F_t_list)\n",
    "    return U_t, F_t"
   ]
  },
  {
   "cell_type": "markdown",
   "metadata": {},
   "source": [
    "# Application examples"
   ]
  },
  {
   "cell_type": "code",
   "execution_count": 57,
   "metadata": {},
   "outputs": [],
   "source": [
    "n_I = 10\n",
    "x1_Ia = np.linspace(0,1,n_I).reshape(-1,1)\n",
    "O1_CI = np.arange(2*n_I).reshape(2,-1)"
   ]
  },
  {
   "cell_type": "code",
   "execution_count": 58,
   "metadata": {},
   "outputs": [
    {
     "data": {
      "image/png": "[encoded data removed]",
      "text/plain": [
       "<Figure size 720x216 with 1 Axes>"
      ]
     },
     "metadata": {
      "needs_background": "light"
     },
     "output_type": "display_data"
    }
   ],
   "source": [
    "f, ax = plt.subplots(1,1,figsize=(10,3))\n",
    "plot_mesh_O_CI(ax, x1_Ia, O1_CI)"
   ]
  },
  {
   "cell_type": "code",
   "execution_count": 59,
   "metadata": {},
   "outputs": [
    {
     "name": "stdout",
     "output_type": "stream",
     "text": [
      "time stepping finished at t = 1\n"
     ]
    }
   ],
   "source": [
    "x1_Eia, O1_ECi = get_E_xO(x1_Ia, O1_CI)\n",
    "U_t, F_t = get_UF_t(1.03, x1_Eia, O1_ECi)"
   ]
  },
  {
   "cell_type": "code",
   "execution_count": 60,
   "metadata": {},
   "outputs": [],
   "source": [
    "U_03, U_10 = U_t[(30,-1),-1]\n",
    "F_03, F_10 = F_t[(30,-1),-1]\n",
    "u03_ECi = U_t[30][O1_ECi]\n",
    "u10_ECi = U_t[-1][O1_ECi]"
   ]
  },
  {
   "cell_type": "markdown",
   "metadata": {},
   "source": [
    "**Plot displacements in final step:**"
   ]
  },
  {
   "cell_type": "code",
   "execution_count": 61,
   "metadata": {},
   "outputs": [
    {
     "data": {
      "image/png": "[encoded data removed]",
      "text/plain": [
       "<Figure size 720x144 with 2 Axes>"
      ]
     },
     "metadata": {
      "needs_background": "light"
     },
     "output_type": "display_data"
    }
   ],
   "source": [
    "f_discr, (ax1, ax2) = plt.subplots(1,2, figsize=(10,2))\n",
    "f_discr.tight_layout()\n",
    "plot_mesh_O_CI(ax1, x1_Ia, O1_CI)\n",
    "plot_mesh_disp( ax2, x1_Eia, u10_ECi )\n",
    "ax2.set_xlim(0,2.2);"
   ]
  },
  {
   "cell_type": "code",
   "execution_count": 62,
   "metadata": {},
   "outputs": [
    {
     "data": {
      "image/png": "[encoded data removed]",
      "text/plain": [
       "<Figure size 720x216 with 2 Axes>"
      ]
     },
     "metadata": {
      "needs_background": "light"
     },
     "output_type": "display_data"
    }
   ],
   "source": [
    "f_UF, (ax1, ax2) = plt.subplots(1,2, figsize=(10,3))\n",
    "ax1.plot(U_t[:,-1], F_t[:,-1], color='black', lw=2);\n",
    "ax1.plot(U_10, F_10, color='blue', marker='o', markersize=12,\n",
    "         label=r'$w = 1.0\\;\\mathrm{mm}$');\n",
    "ax1.plot(U_03, F_03, color='green', marker='o', markersize=12,\n",
    "         label=r'$w = 0.3\\;\\mathrm{mm}$');\n",
    "ax1.set_xlabel(r'$w\\;\\;\\mathrm{[mm]}$'); ax1.set_ylabel(r'$F\\;\\;\\mathrm{[N]}$');\n",
    "ax1.legend()\n",
    "plot_u_ECi(ax2, u03_ECi, x1_Eia, color0='lightgreen', color1='darkgreen', color12='green', label='xxx')\n",
    "plot_u_ECi(ax2, u10_ECi, x1_Eia, color0='lightblue', color1='darkblue', color12='blue')\n",
    "ax1.set_title('load-displacement'); ax2.set_title('displacement profiles');"
   ]
  },
  {
   "cell_type": "code",
   "execution_count": 63,
   "metadata": {},
   "outputs": [
    {
     "data": {
      "image/png": "[encoded data removed]",
      "text/plain": [
       "<Figure size 864x237.6 with 2 Axes>"
      ]
     },
     "metadata": {
      "needs_background": "light"
     },
     "output_type": "display_data"
    }
   ],
   "source": [
    "f_comps, (ax1, ax2) = plt.subplots(1,2, figsize=(12,3.3))\n",
    "plot_var_mEC(ax1, u03_ECi, x1_Eia, xi_m, get_var_mEC=get_eps_mEC, \n",
    "             ylabel=r'$\\varepsilon_\\mathrm{mf}$', \n",
    "             color1='darkgreen', color0='lightgreen', label=r'$w=0.3\\;\\mathrm{mm]}$')\n",
    "plot_var_mEC(ax1, u10_ECi, x1_Eia, xi_m, get_var_mEC=get_eps_mEC, \n",
    "             ylabel=r'$\\varepsilon_\\mathrm{mf}$', \n",
    "             color1='darkblue', color0='lightblue', label=r'$w=1.0\\;\\mathrm{mm]}$')\n",
    "plot_var_mEC(ax2, u03_ECi, x1_Eia, xi_m, get_var_mEC=get_sig_mEC, \n",
    "             ylabel=r'$\\sigma_\\mathrm{mf}$',\n",
    "             color1='darkgreen', color0='lightgreen', label=r'$w=0.3\\;\\mathrm{mm]}$')\n",
    "plot_var_mEC(ax2, u10_ECi, x1_Eia, xi_m, get_var_mEC=get_sig_mEC, \n",
    "             ylabel=r'$\\sigma_\\mathrm{mf}$',\n",
    "             color1='darkblue', color0='lightblue', label=r'$w=1.0\\;\\mathrm{mm]}$')\n",
    "ax1.set_title('component strains'); ax2.set_title('component stresses');\n",
    "ax1.legend(); ax2.legend();"
   ]
  },
  {
   "cell_type": "code",
   "execution_count": 64,
   "metadata": {},
   "outputs": [
    {
     "data": {
      "image/png": "[encoded data removed]",
      "text/plain": [
       "<Figure size 1008x237.6 with 2 Axes>"
      ]
     },
     "metadata": {
      "needs_background": "light"
     },
     "output_type": "display_data"
    }
   ],
   "source": [
    "f_bond, (ax1, ax2) = plt.subplots(1,2, figsize=(14,3.3))\n",
    "plot_filled(ax1, x1_Eia, get_s_mE(u03_ECi, xi_m).T.flatten(), \n",
    "            color='green',alpha=0.1, label=r'$w = 0.3\\;\\mathrm{mm}$');\n",
    "plot_filled(ax1, x1_Eia, get_s_mE(u10_ECi, xi_m).T.flatten(),\n",
    "            color='blue',alpha=0.1, label=r'$w = 1.0\\;\\mathrm{mm}$');\n",
    "ax1.set_xlabel(r'$x\\;\\mathrm{[mm]}$'); ax1.set_ylabel(r'$s\\;\\mathrm{[mm]}$');\n",
    "ax1.set_title('slip'); ax1.legend();\n",
    "plot_filled(ax2, x1_Eia, get_tau_mE(u03_ECi, xi_m).T.flatten(),\n",
    "            color='green',alpha=0.1, label=r'$w = 0.3\\;\\mathrm{mm}$');\n",
    "plot_filled(ax2, x1_Eia, get_tau_mE(u10_ECi, xi_m).T.flatten(),\n",
    "            color='blue',alpha=0.1, label=r'$w = 1.0\\;\\mathrm{mm}$');\n",
    "ax2.set_xlabel(r'$x\\;\\mathrm{[mm]}$'); ax2.set_ylabel(r'$\\tau\\;\\mathrm{[mm]}$');\n",
    "ax2.set_title('bond stress'); ax2.legend();"
   ]
  },
  {
   "cell_type": "markdown",
   "metadata": {},
   "source": [
    "# Pullout response animation"
   ]
  },
  {
   "cell_type": "markdown",
   "metadata": {},
   "source": [
    "Set up the plotting figure with 2 x 2 diagrams showing the pullout curve, the evolution of strain and displacement of matrix and fiber, and the evolution of the shear stress along the bond zone mutual slip. To produce an animation the hidden cell below defines the plotting functions including the `init` and `animate` procedure are run during the animation."
   ]
  },
  {
   "cell_type": "code",
   "execution_count": 65,
   "metadata": {
    "hide_input": false
   },
   "outputs": [],
   "source": [
    "%%capture\n",
    "\n",
    "from matplotlib import animation, rc\n",
    "from IPython.display import HTML\n",
    "from traitlets import HasTraits, Any\n",
    "\n",
    "# First set up the figure, the axis, and the plot element we want to animate\n",
    "fig, ((ax00, ax01), (ax10, ax11)) = plt.subplots(2,2)\n",
    "fig.set_size_inches(10.5, 7)\n",
    "\n",
    "class PullOutAnimator(HasTraits):\n",
    "    \n",
    "    U_t = Any()\n",
    "    F_t = Any()\n",
    "\n",
    "    def init(self):\n",
    "        '''Initialization function: plot the background of each frame\n",
    "        '''\n",
    "        U_t, F_t = self.U_t, self.F_t\n",
    "        # Pullout curve\n",
    "        axes_init(ax00, xlim=(0, U_t[-1,-1]*1.05), ylim=(0, F_t[-1,-1]*1.05),\n",
    "                  xlabel='$w$ [mm]', ylabel='$P$ [N]', title='force  - displacement')\n",
    "        self.FU_line, = ax00.plot([], [], color='black', lw=2)\n",
    "        self.FU_marker, = ax00.plot([], [], color='magenta', marker='o', markersize=12)\n",
    "        # Strain along the bond zone\n",
    "        axes_init(ax01, xlim=(0, L_x), ylim=(-1.0, 1.0), \n",
    "                  xlabel='$x$ [mm]', ylabel=r'$\\varepsilon$ [-]', title='strain')\n",
    "        self.eps_m_line, = ax01.plot([], [], color='blue', lw=2, label=r'$\\varepsilon_{\\mathrm{m}}$')\n",
    "        self.eps_f_line, = ax01.plot([], [], color='orange', lw=2, label=r'$\\varepsilon_{\\mathrm{f}}$')\n",
    "        ax01.legend(loc=2)\n",
    "        # Displacement along the bond zone\n",
    "        axes_init(ax10, xlim=(0, L_x), ylim=(0.0, 1.3), \n",
    "                  xlabel='$x$ [mm]', ylabel='$u$ [mm]', title='')\n",
    "        self.u_m_line, = ax10.plot([], [], color='blue', lw=2, label=r'$u_{\\mathrm{m}}$')\n",
    "        self.u_f_line, = ax10.plot([], [], color='orange', lw=2, label=r'$u_{\\mathrm{f}}$')\n",
    "        ax10.legend(loc=2)\n",
    "        # Shear stress along the bond zone\n",
    "        axes_init(ax11, xlim=(0, L_x), ylim=(0, 2.6), \n",
    "                  xlabel='$x$ [mm]', ylabel=r'$\\tau$ [N]', title='')\n",
    "        self.tau_line, = ax11.plot([], [], color='green', lw=2)\n",
    "\n",
    "        self.FU_line.set_data(U_t[:,-1], F_t[:,-1])\n",
    "        return (self.tau_line, self.eps_m_line, self.eps_f_line, \n",
    "                self.u_m_line, self.u_f_line, self.FU_line, self.FU_marker)\n",
    "\n",
    "    def plot(self, i):\n",
    "        '''Animation function called sequentially during the animation loop\n",
    "        '''\n",
    "        U_t, F_t = self.U_t, self.F_t\n",
    "        U = U_t[i]\n",
    "        self.FU_marker.set_data(U_t[i,-1], F_t[i,-1])\n",
    "        x_Ei0 = x_Eia[:,:,0].flatten()\n",
    "\n",
    "        u_ECi = U[O_ECi]\n",
    "        self.u_m_line.set_data(x_Ei0, u_ECi[:,0,:].flatten())\n",
    "        self.u_f_line.set_data(x_Ei0, u_ECi[:,1,:].flatten())\n",
    "        ax10.collections.clear()\n",
    "        ax10.fill_between(x_Ei0, u_ECi[:,0,:].flatten(), u_ECi[:,1,:].flatten(), color='green', alpha=0.2 )\n",
    "\n",
    "        eps_EmC = np.einsum('mEC->EmC',get_eps_mEC(u_ECi, x_Eia, xi_m))\n",
    "        self.eps_m_line.set_data(x_Ei0, eps_EmC[...,0].flatten())\n",
    "        self.eps_f_line.set_data(x_Ei0, eps_EmC[...,1].flatten())\n",
    "        ax01.collections.clear()\n",
    "        ax01.fill_between(x_Ei0, 0, eps_EmC[...,0].flatten(), color='blue', alpha=0.1 )\n",
    "        ax01.fill_between(x_Ei0, 0, eps_EmC[...,1].flatten(), color='orange', alpha=0.1 )\n",
    "\n",
    "        tau_Em = get_tau_mE(u_ECi, xi_m).T.flatten()\n",
    "        self.tau_line.set_data(x_Ei0, tau_Em)\n",
    "        ax11.collections.clear()\n",
    "        ax11.fill_between(x_Ei0, 0, tau_Em, color='green', alpha=0.1 )\n",
    "        return (self.tau_line, self.eps_m_line,  self.eps_f_line, \n",
    "                self.u_m_line, self.u_f_line, self.FU_line, self.FU_marker)\n",
    "\n",
    "    def html5_video(self):\n",
    "        n_t = len(self.U_t)\n",
    "        # call the animator. blit=True means only re-draw the parts that have changed.\n",
    "        anim = animation.FuncAnimation(fig, self.plot, init_func=self.init,\n",
    "                                       frames=n_t, interval=100, blit=True)\n",
    "        return anim.to_html5_video()"
   ]
  },
  {
   "cell_type": "markdown",
   "metadata": {
    "hide_input": false
   },
   "source": [
    "**Animate the history of the pullout response recorded:**\n",
    "The response values are stored in two arrays $U_t$ and $F_t$.\n",
    "This example shows two elastic glued layers that debond from both sides. The bond law exhibits nonlinear softening. One layer is fixed at both ends the other one is pulled at one end and free at the other end. "
   ]
  },
  {
   "cell_type": "code",
   "execution_count": 66,
   "metadata": {},
   "outputs": [
    {
     "name": "stdout",
     "output_type": "stream",
     "text": [
      "time stepping finished at t = 1\n"
     ]
    }
   ],
   "source": [
    "L_x = 1\n",
    "n_I = 100\n",
    "x_Ia = np.linspace(0,L_x,n_I).reshape(-1,1)\n",
    "O_CI = np.arange(n_C*n_I).reshape(2,-1)\n",
    "x_Eia, O_ECi = get_E_xO(x_Ia, O_CI)\n",
    "U_t, F_t = get_UF_t(1.22, x_Eia, O_ECi,n_t=50)"
   ]
  },
  {
   "cell_type": "code",
   "execution_count": 67,
   "metadata": {},
   "outputs": [
    {
     "data": {
      "text/html": [
       "<video width=\"756\" height=\"504\" controls autoplay loop>\n",
       "  <source type=\"video/mp4\" src=\"data:video/mp4;base64,AAAAHGZ0eXBNNFYgAAACAGlzb21pc28yYXZjMQAAAAhmcmVlAAET1W1kYXQAAAKuBgX//6rcRem9\n",
       "5tlIt5Ys2CDZI+7veDI2NCAtIGNvcmUgMTUyIHIyODU0IGU5YTU5MDMgLSBILjI2NC9NUEVHLTQg\n",
       "QVZDIGNvZGVjIC0gQ29weWxlZnQgMjAwMy0yMDE3IC0gaHR0cDovL3d3dy52aWRlb2xhbi5vcmcv\n",
       "eDI2NC5odG1sIC0gb3B0aW9uczogY2FiYWM9MSByZWY9MyBkZWJsb2NrPTE6MDowIGFuYWx5c2U9\n",
       "MHgzOjB4MTEzIG1lPWhleCBzdWJtZT03IHBzeT0xIHBzeV9yZD0xLjAwOjAuMDAgbWl4ZWRfcmVm\n",
       "PTEgbWVfcmFuZ2U9MTYgY2hyb21hX21lPTEgdHJlbGxpcz0xIDh4OGRjdD0xIGNxbT0wIGRlYWR6\n",
       "b25lPTIxLDExIGZhc3RfcHNraXA9MSBjaHJvbWFfcXBfb2Zmc2V0PS0yIHRocmVhZHM9NiBsb29r\n",
       "YWhlYWRfdGhyZWFkcz0xIHNsaWNlZF90aHJlYWRzPTAgbnI9MCBkZWNpbWF0ZT0xIGludGVybGFj\n",
       "ZWQ9MCBibHVyYXlfY29tcGF0PTAgY29uc3RyYWluZWRfaW50cmE9MCBiZnJhbWVzPTMgYl9weXJh\n",
       "bWlkPTIgYl9hZGFwdD0xIGJfYmlhcz0wIGRpcmVjdD0xIHdlaWdodGI9MSBvcGVuX2dvcD0wIHdl\n",
       "aWdodHA9MiBrZXlpbnQ9MjUwIGtleWludF9taW49MTAgc2NlbmVjdXQ9NDAgaW50cmFfcmVmcmVz\n",
       "aD0wIHJjX2xvb2thaGVhZD00MCByYz1jcmYgbWJ0cmVlPTEgY3JmPTIzLjAgcWNvbXA9MC42MCBx\n",
       "cG1pbj0wIHFwbWF4PTY5IHFwc3RlcD00IGlwX3JhdGlvPTEuNDAgYXE9MToxLjAwAIAAADSnZYiE\n",
       "AD///vdonwKbWkN6gOSVxSXbT4H/q2dwfI/pAwAAAwAAAwAAAwAGoT4JFk8jL+HZoAAAAwFYbhPw\n",
       "57uOYD3BdIWjj3gAahEBzv8b2F0l9UDaCIjLOdt1YNxdLwSDs+RB23lYJVvKrf4ylzbfVUIeurUG\n",
       "UcUSsqgyjFJUYDGk3BGZF14Tet19orNrGhjYFOLA5NWaeT95aI5GT0ULPbHYU7pkGW6onzZONrDk\n",
       "vukZr03KMnXXNInXEFFU6g0qkwQkN2+dqGcTu4F0snZ/HrMcMhSsXMHztZ78941Udm0uzHPu/u2c\n",
       "FNZ3N/uGDa13FCuYAx9F1cINu4Itmer0fVWS9IKGlqCmIYCB7YUi320Bci8NR2Kz/7Mulw1GEGZc\n",
       "84g9mCgFMaoUjIaAlGEjLfdKRajuf+v0qkOW/SI6Hx7pmCTfdhCh/qXuVj/xG8VuVCf80zygqarZ\n",
       "iZxpBO79lgYOCxJe9VUnFkysWbAC5bPVvueUc1sm272hji2BG5DDjsP0qFElriUaqKbMbsXpt6OH\n",
       "9gGr3GROgMQFSbM720/Z9abLjZjrGJWChBF8c9NcL/RHSHCX8nnOV/hpvbmFUoziEvgefElBN7gz\n",
       "xMDtt8hFP8GR7+DSpAxXqWRZlmXBpPy6nIi9/TR2jsfcgWAv05cvCY3ENsQa/Qblo3wqoAAquoc9\n",
       "khUVV/Tt1mW9Hro55NRE/90IDXrQwde+orD3FBKhlCO/uDyaIq8p9dmrB7HHTftKfschTDKqhgiT\n",
       "CXZoXTdJ3fBt+M+KQjRaplUAJRc6La0vFU8/itV0uxlocpBWteNOkGtDunNObyJf5e0yyTvwyT3T\n",
       "5Xx7OWcmIbakf+9ZUgwkEQTCdTrBT6fVEXnIFT/ByZ8Nzl9WaBGt+FJEBwpEMJhyDu9lceLHI/mj\n",
       "JnDLfePttR1Jvl97nO4g7Ufkc7Kx0X+OOUYBZzHRQojufkvjb6luBpSjGNIdhIMWuWo0o/AReSw1\n",
       "7KY25pyGZ5SiI7ll2gLPalFVovFK0WKSfUW+MZMwmERYs/x4zUULHbmWURIsWuvJenkrdA7S2vHY\n",
       "8XCvtRTCRkn75u/isSJOJo2LIr4TWzZD9z3UtrdB9J7soootyjc//uK9QVMGSGLFJNaB+gfMrhTQ\n",
       "mDTmRnX0BxI8tynTGCNzsvJ+NCgN3KVI2g6HjxzX29fapojRP4c0GIh1q+a3gLYwjUJZCIFlEuoU\n",
       "/eNmDNYBjdPFvmTAGO1O0BbjSvFtVFhuRTfKAadrs7hfzksdaix8Z94l/PlTz4xH1SCPlJHLlTJe\n",
       "wd2Bn3TppCfsZEqlWxz7js43czUVwdtcsmssZ1rcWmVcqtF+AHtLYknKC/BLsU3euAaqaRSWUSVj\n",
       "2f2lBHnYhXM52BXi/d1zjnlzamuNKDeV+MnpphvIHCN4Q7F0nB/vVHuvqO83VVs5Lbhv+EGF5SZS\n",
       "vyImtDtoFHKczIJebT9xL00F5jQegFieCk2L7lYDRNEpe7o5I2j0VLi+3Kdi6Fxm+7LSStIhUxdN\n",
       "7ukvZtoM2lvoDwcWQQZ7MwpN1q8k0w7xAqTc1g1n7k8kuzugPn0L6tvy8AXlsPyyOZj7GlyVRHme\n",
       "a0ncVPsA40oFUJgoDSK2lM2/cDDcvA/C//QDIWgV3YiS1z5qD+kVIzQQixpVawdqzqM3d/U7DHh+\n",
       "fr89sg8OKOVXj8z2FRAekhkgEwkkEYke8T4MIUw4DwPo1zJYKVJQ7RaEYKvOn++58rdnam07bRjN\n",
       "dYGeuokC9tS+blmk7IobfNpscWyl9IgTsejisIGQDuLcb5g09iN4pCcR5wghmaVj8+QbHw/C5Bgx\n",
       "b4uo91pXDPPY0O4Mqr4ZtKVxJL6EFTVs3ZQs6C4IikgRlitGPoEM0atJdQiXzmNDYZtubgXIuWMZ\n",
       "hhWJxv3s2u5mvnRw/6+P22EqHb39e6+tjVmeGhDyMOQQ6aqEWGm6Ka4OminuVFOY7GVwlY5C7DjQ\n",
       "Aby1BoAlhlPizWDmCGxZOTMd0zjLUg9szaGglIglC5FMnu+oTPV+9shyTfzA3q0jVdmB4a7sF4Ug\n",
       "DtYiOQ/pzaZRTPIeyLvTnD81ZrjzUhcU7rhORaGBl/sE8rFBuNBh8WkBS0Z49WnqirsABCB++2AL\n",
       "hdI87sH5YjfkuXgGe+PTESSmRrHk3mP1A+PmQhtxrbdjk4DUtqZNPToDNts6mckz0/BK4rnkkX1L\n",
       "3d5oo65n7f+102RTt/j1PJP234L6xn6BvJJuy0QcpN880p0Y1+zFEkGK1wk92t4mrDd/6ZM7W2DT\n",
       "y/yR517Xn5RsgWVJIiL8i3E64qVZrps+fF75II92oT/urohd81+ur5gwodnT7889JfOoRzCnZj+d\n",
       "uL6XrkTRGtiAoye7oSw6F3gWCQ71Pku8jb6k/OyRqJ0CwX8V4zUoVW3RRDZkwr3YbfFykc4aSflX\n",
       "1X2egYsGEmeCm5J60o9FFW6NqspRBRKyQ2qUHrzvv0nTQ72SAoqzS8RZuv/czeZBq03JDlPBDkpP\n",
       "NQ+GzVYyCCzafYw457EG0aVJyvkVvVaZieFp1S2MZ8KMWjMlsvda+26Z45UBSNawX+KyXkigUea/\n",
       "uYWZyQu/31LCwsYUaO/EK5rxVnmw4pdg6suUaY4T/1vp4IM9V3bVk+NkJKxhQpgvpKNGUf+DUjn4\n",
       "v6L1nJN3gUGS8AsB6kO+xdVTG8ZMevNo5MkYMxTMIsSGPG6PlCCuCsbFT9Ah9oimuCbA/npeJJZo\n",
       "ynsSiV/6+aPNbZcTK0PMS7pugz97b60+HNistMH3EB7jjA3JdDaG2WsX0eVPESa5cePWw2v84sNc\n",
       "EJnAoI2lNbRwa3Bd53EX67mp3Xy/1f/qGU18Pz0+ZtKDiP4U/fX1YucHZ0n2e8w5lhdK/pNJJz4a\n",
       "drGujAF9rtlvlg3epig7yk314Nt0URH+QkXDXqc6ru+xZNVPcVFzLF8lmKoex0jQesW+r4NNOFqN\n",
       "3lU+CmIeiLVlYtl9P8cb3tjFa7Jp8WPNDgueHIGoPlFuoIxPxPJCDJsCvM1I/jRoSjqzM7eu2izL\n",
       "NkIrH2qMk/EhrS7fbif/8Q/VLBloawBwsd7bzB62+BBXb3gHnX7PsxRj66Gfdb00gAAFyfbvGpx8\n",
       "OtnLLaZTRqL2YfSF4K8OAiLUJSMqxT8B6nmJXfHZzNId8AZv8HCS5yYyKSTrPcfWB2SYat5C4fPF\n",
       "aSvOcttsQj5RuY0v1sSrt0eg3JlfGXOdSr0Si6xfNB7f8B8tC+0X/ijyKKrI0C5kYkMz0QvjpOnM\n",
       "bx8N9GCVnzDsNhJvk5jJJ9qEBE2nx6bIl3CDpHnQIu0KARWvJ7g5KEgctEHuYhrb7Sz/0vXnLVTz\n",
       "gCW8k07WnDHQNOVtZzB6wEWTh/ipYBoQDUNB6gf3ZoZMR5GR69h9IRoxfco0iRJ7u1rlzUeVHo+D\n",
       "mFO0339P8R6JW5PKnygy/uH97Jgv/wgH0cVB7WcnDe3D8FFvHM+6Z0ymI9r/8AzqJfh2Ni2AjwAm\n",
       "gIeNCH6NZjNTnQGMFVnYnwf7K7s6QCUD/r7O8w7yKFe2l/SzlLyC2ttH3vNxGKd1eHXYtIjJrPba\n",
       "JVqzrS1d5Sbuhwz6M0HNaNxgtuDQlKisgdc7nRyMNGmQP/lQmARtxoEZFQoFrEINhaROBZnfvla8\n",
       "BzhgFmSlTyRr1cdU9dp/nt3oT/YyGXj4jMwCDiJ7GeBrZHnsFxgARRla4SYKFBsu4BRVsAkvKQ8W\n",
       "54dAHMSZcIEm3kzHETnfpQIGxjIKu2WfDfSCJybmE8l94WNUy3+wyBA+fyCPxEi0jNZUCcUQK1pa\n",
       "n1Glo+8QE3QX2WDXxvYwOb8SoKSqG3jZXz1YfW86C4Vra2WgB8RQ+dyJEWhfVd8dFaOwJhVVHSgS\n",
       "Rh8LJ5Wx4/iwe4UQ6wM0aPXb046glIwZ9YxywOVdIjWAAE3ss2sK8E+MTEOaGeLo6mbNain53eCY\n",
       "dK7MmE4/d4oKXBGcfDX/8ewGdfRfthlEGR59nSP2V2eR1J9gQQ0CZNWm4PZ7TQsip9BQjEqgI1Eh\n",
       "G4arOrF7mO5CCjE+hmxp1Vbk5xopCZLJZvZCXA4Xe2F5N67OcUxMUfvNlsACqMIyZ1h05mhJtqWa\n",
       "9+zb9Zy6M07NnN3sYtSF2ijgzgv3f90Diz9vLvhkcr9l+8bh/X+bGcMr53Ulvuv0fqNuaj7OaFQl\n",
       "br0J7E1mb212SYmyNmvF5dJofCW7YCeDrEqQtg5sOsQCUHWoVh70rHY7Ys8mzC9P9B8hIQHtIDgD\n",
       "2ccg9AuSG5rz7DZgAJc5fjL/tNvgzto19uVHQfaXydzH611Yf2haCK0U4ZA1nwkSh2NtrZxBh6xa\n",
       "m+6l9Rom3vsmyS8aR/FJ3FoGXiMuF+4q6FPC5o5gDneXycC7MH5v1m9g1Bd+2vm9fqjTg6WrBXKw\n",
       "odtjDPNBZXp1VSEifH7wAYipU3hP2QCgrCHeQsp0CSPIu36o5HrIU3/QWYdHjITFDe4ImgCBI7rs\n",
       "KwouGImc9uG5MS0nucloocJ2nLHh/f8j0aZuTyVhZfmhGbpBQ2nqDCeOHgrmcfzt5Y6Aujmk0+n9\n",
       "vaRS9S+51hh5OUXh4QNtCkcokJN8NDe4cmFHBpk/cYlw8fArJx42S9MZi0H07GDqA81Jq+Ety2Dh\n",
       "my4/6x6rCXVy9nz8jaa+TZlO59uwSfS0efRHM74SpGZ7FjilgUPXw7Z84AYoPJIvT0+/YlDD/i8d\n",
       "eo/6BHgCmS8Gcsd89papc21r1lxoCw+3fkpqeayQcrpfwOzf7anVPt5NUfJNdOjF5+fKIoKogygA\n",
       "GjeldgOsuiBAlKrJtLGZo6lKmSObg/wwZQqCgyCAT0C/7l6aXU867pUqlvXjY0SjPLih9RL7Fgh7\n",
       "g7jNtrHvt0lLMkPiDMioudJE6j1T5Yea4xjQ68Cm+Uf/H2/uYFW3OGRU1jYtd24HYrhjKnqht82z\n",
       "73yiZbCdnhZ7sOmnUL2JOkuh51Mot5cv0SCbyEIq/RYI1lhJcNc1LARVAil9WeS9i0KwGkrp9JL/\n",
       "RrGYEtgUARL9Xb42yBFn53aoPTbnYL0X/vw5yazap6t2AHhDMMdjMzaGmHCyyOHB9bdBYNoERfu/\n",
       "tkh3mApZvxkgVASoSpR8MoRoxb7gfDenvsaF5bjxFkrvX+KA4sLEU95SS2FK07Wx8erqDCSKY0mt\n",
       "9tsEum/Dng/nylHkPaXY175P6p9YRxvpuQuXMpBXDD1ywE75RZWV2lauXasFlYH6u5vjAJ3GTaeo\n",
       "OWq40JuF7Bsdt/IWgf/2u+3rY+GXM+dkd7vBlEKLfZoGaX/RhId7V6CjKGkHqt7iK4iL4yAN4JIx\n",
       "+804FSWQJyloJlzaW6QbIwb2SzUQFUbGJxI6CCRBkxPqPms7GsmKMgFCKVMmL9uaEcAiu6drQivu\n",
       "u6M7AYuaSHq8DqJrxA/qD1reZddvUzkCsHPBSEPdRpslB4vx5HUYoy64xlla9QHWaVIk/wKf7w34\n",
       "nFCdNvYbP4bVM0XaVWw7B70Lv4k5+U7q+eADyp0aFsa12FQLcmgyxbPTLCRdI48y1V+81dgd8ioV\n",
       "d1Ox5H5EDe3sqMjlOxEAa44z3BJMDtm2RhX+RrjMjiEJSLdf//4gdJFsGJW3CKfLHUwATvCKTyFI\n",
       "HnMYWHb33edBawcPDy81wSICzHoRY52Lt6oD7rR1BJDovS9HOAEbm5LSz2Egv455UiaY50D/wIK6\n",
       "q6D1PNWYzp0VkRdqTRyJ8tkOTPVRWW+OBf288ivenGpOXJmXVbc6M1ssCHJ3iD3hT3xtlk1VTHKX\n",
       "ayloLdBVqUmdvoSl2rcnu5Fg9jPzoBj77UJ5e2JU7kr+k2GkPinRFpUbB7VVVPTy82P9uFUUzIeo\n",
       "QrQ8MI580wTL++cgouhgnpKKcOKUj36p+vocWbb3+Qt9N0KMRWhOIMqG/K2/0oH/97280qUtiX/u\n",
       "xni1P9HpZRJFzBuUX7snB9y/dOj7CqyOcBHuIpQd5jTTCyP/T5lsuPPbWVhMQqasqFqwBCxzxox+\n",
       "wmn0gtpb6lKKdKOviyy1ayWXDUYYtnowYxLVhZ6gRb47zUoXWkqhb1TPHY5Ag9/Df53HUuFvjOVk\n",
       "5IL/bGS016LxGT7tpLGae/XME7MVm1OH1y4Qayxk0UGYEDcTROcCOKwi4xtVu22zW8fejm8ESWFD\n",
       "SdIw2Mil3h1d2Tp8xhOElnDSyr8U/+YrUxInkaEvKU0dOlYpMCbHc4+XSPG17inxY/KMzJZTbtIG\n",
       "SsH1a/fCXW7SoHdwmFu3j6mU7l36yop6latj+JKpf3MByyO9fLL0qdZ42RN1/5ou/z8cbd6YwNwx\n",
       "8mb5mTA710JeEjCP0I8OSehDGXnc0pL/yyAf0oMh7TSbjV/S0PHIUDsjCHORHFCq49/89vMnM/EF\n",
       "aaIJAL+znt0nprB2x8wRMR/WXP1ZaRNquNYJamjbMtv6RCkZUJ8YOHnfaMXiWS9CWsexDbBstSOs\n",
       "gWkfeddeJZ37PhQfMb4ZEw9eGdRInKAbbo4YVxLXe+va4/4sm18PCSCVf05SDVMcqzf1UYzZvEY2\n",
       "yqTOHWH9kMPuwjcWWZXOgPkT/LbYUXkG34XT7REG026U7d9RGlpZY8p4uKzsGHhm+XtMTiCKsJXl\n",
       "2tjNi1rA05fOz/E+CBxfXX/KH3SZ8vnJzffpHQnXW62mLilLfZuDjgmB1TIj5Da6Feufi7oCpwFk\n",
       "4x9yDquFxNZNb9xyWJNwgM4BrwYw8yvWFZagALKUM/cFoHSLgs2ep4BiiRKMwLqbitdV6NoLlWbF\n",
       "BZ7UjYNi00uktd7zAgClFykwTpVd++1RVEpZib/7b28MoI3nz7RzQjYjK6vpWnJy//bisvtxQgUW\n",
       "VUwRaeMQ8XACM//+X7ESAw8oheABl+4v3izOxAFXhv7Tg2Ka4GeBM6uX+kQJcObv/QJM/O2vLLID\n",
       "Gv4XYSo+gfYXBqqy6blOsdwACZKXWc9aCvTyGqJKUhmh1BgKskqkCSu6GjUUg6TXUQmFF20RI9l2\n",
       "cLA48S3oirib05JRm7rqLeK+2/2lewXwlFT6IIJVAsvJUhCDU0vokZ2M96vAMNCk3KmZtbTxUGA1\n",
       "eiwpOFKmnXbvx0a6Bj0YVt3UgajeLyZuaZIibQZFlFdTFvhTgROiPlAox2cTLcuo06CYRk9OK1v+\n",
       "aZtOE4Q/0PWDIFZzqYDkKV7dm9TKyW7CB4i0MnVo+WI969Nc7QWW8ci5uDYNj2U1wAlubI/1tcga\n",
       "o8bfWWge7dZi0MlIAnGLzX66FIcgl3FwBT2PbByh6a9joG7tnYMXkZvn/Upxz91o7Cyk5UrJxJrZ\n",
       "slaxBP3+ShLX18mB0YQDbXqGAetclANJlcijHoELLCd2C600sQkOFP7F4fn3UnAJlulLlhHKRrrx\n",
       "9zubA5U4sQseDoxb4osdnrH1w542jHzqZCrk8JMkyMHhG5Mv2EUh1tWuvJ4c7f/CG4ivgBBoMTjF\n",
       "GwT0WfTeWpAJa5M6Xour0eFGn722cT6OAO9cwHWsSQPQEzM6zmQgBNuJDCIOQnzpg2r8AaqMtohu\n",
       "yjtUp0Zg2b6G5BkWVtZOXwgpVOChGWnh0IneRVSZwMUNswE6vWcKo/ssQaktiPnQ8zhQop2LPNFo\n",
       "aMHxMW8yKdHKgCSK7s1pYysfaPscjvoMZcYpvzG9JRr6wbd6JcXCH4SAoM3zc+p4n8u9FeIfrQSQ\n",
       "jjnPlRGBrnl371Cqnc1cqqINCqKw9p35y+KnCf/s6BkoT9yFlYb8I9hA4nMuex0dRK3YJ2nwz88q\n",
       "LzkZHI/722vu9fhpqPEoKjcv+82sTpPndz9KuZMrRUtkS9eCPBt9h+HuROgNL4mhYIi7uMhSJERb\n",
       "hsQH9j7mxRknSsv0YYeQTadu6kX/gSMOzWzoRfpzYG4N8GIkCmkR3ix0hD+u6q2a0niynIqPq9CU\n",
       "lj8WSEIFXrIfzeg2rITaZm6bJQNBNefXcojv1120/ggkUjuOCH45iVqo5ppz2SYy/MRl3O9/r7cv\n",
       "VVRPk3NYeVEPNL4at3Lasb9CejJktBsG5tVvte5y/DwxAw+w++V1diZNI6FFul6an+OTY2NyIgO4\n",
       "CThJ8uZrn1COyvQnF9WEAMfxUmeyx54JS+19UQOddy+BuzuuNOq8/kb5htxV6qI4V9S96TZm752n\n",
       "i562HBalaR4MgRT9TUW4/e8cqXRVyA32Wex7zVR9qA5pMNJ4G/Jy4+0ucvmTcqkuAhBwn9R0wrT/\n",
       "W8xP0pry4kFB5GEEWvxfIrwjeRmB8ytcqT76IxREfHUMHdrf+LXZ1EtyzfVXxmejZDoLLLSXK84+\n",
       "Av1MbS8cB8jLF83RxRar/mLiBXG+YVwO6aOfG/ppJsWYrNKfecs4vrbUmx/btXrXeu1qW/Ut1NOP\n",
       "MsbietUzoS5t6JASqtgw6fd/7++5sNuqMNOMjZQ2nYXA8xWG5KRhAcoNBdmFXTkURmtG+rswiIBg\n",
       "sl4wBrWfT8QyDFcar0Ug7Q9UVjRVb9AN/htfYyzrdM3apqCoBp/7RlOjpF9QnnpdSBDEeqWj+d7h\n",
       "cvVJtIeopvSKHTGaUMFNpoEdza0IuNu0B+iXTMfp5PvYtclTSxCTA3eSNJYuTZIsYCUbeZrbhQ77\n",
       "H3DjK7hbMxepWWfQqv3MlFDKlbFUvHXG4NwDej2f1gDH95Bw0gtY2onE6lddSrNlsc4MijVyVIP9\n",
       "Igg9Xlhk5XWNqNjWpb0OqoXcWU9dWm14PNnYEZNzFLJP0rqxbLijNNJvbbo8twKoUZUwn9RXv6Iu\n",
       "rlRo/1IbzutrGvF7jqQLRNaqOFOussbWseSFtgYC/GIXpFM+O+jAi5T8cQZj6vVUa5U9cqYUXtwe\n",
       "BHV3yDRfEoXfTV+GcZXDJcfjO7E/5RLRXtChGNf+/hnXWH9h/EqoM8xKcFX1DEFespkXTGkFE5Rw\n",
       "OJzG2PrSMODX4lxWR9MFghJ5aaZbJ80qjvrTC+sfGpsuA1OulvNGdNYfmo7THftylv5C17dF6tzr\n",
       "KCUqGhC9r8fuV/Z0/tx9okHun218CmbW0VZGTrIkZWpLjzfvkFbacpVIqt9uo6QHAAAzu9uloIRD\n",
       "opU6z3D/RgRdNVmg386nZRo9lz6DU1jjgibwfAX85Q7lHPEm/lRAv93upRkTgLM6btMyN2fx++m+\n",
       "lJlrmypIICOPj0/8QHjbLy0yhptcz9w+Ny+swXx9kCO3M9wmC/uVYprReiv9wbOIl5Ojug+M6HXI\n",
       "c5eiXqnSW5Kit60FRYbb4jKwncbhQyazxNIV1hZtyhMz0Kf/kL8w5c5sfHIjVOxcQdB1rF90kMTM\n",
       "zpiPgCOSqYEa4+lNpZ9HdCNOS66UwDzrRQ+D49BpSBPOoW25Pa26xNPdsBUgjtWKWm9VLSM/17g4\n",
       "Y1UTNQAtkLQI5Nvp+a4ldyetWC6iTuuKAhpAh2je4JRVj+o6spB9/7mgT1Jjeel0jToa+9l+g+LH\n",
       "CoAf26k8kZK7aeZ3xcPPUCuV/lp1v3OlJdDnCctmVwbmbsP0ECbFZlutwLqeFKy3gZ5sxC+6CrxI\n",
       "EB1muxgpdzUf5kAzBOkNm8zvj/4Xb8oB3ZA1zwGUktaBNkd/T83BYuO3NynY4dFbwFPxkSOSuh6k\n",
       "8jgB03VyLAShJ6oZrQKiWmINPkLD4D6t5PeX0ynqdPYy5y7+OeBTYIMEvxikrbbZqGSb9XfTuyQP\n",
       "7bMAnxXLr4WukIFkmLBRU8hmqN4z9XVaN33aRgoTrF9NI/sl3+Kmo4Sbazh2TUH42wNknvcKyMU4\n",
       "6eU1KRVRa6l8SeiZmWlq7rmNZ3gYmXIBr7v1KMN1osqfFC8fUfwsYfU5CAFqKB/a+h3UwuOUkMap\n",
       "5ZUryp676c0JoaOR4WS3fbXK0oZqXBFiXzi7Dj3UcCC7yRKzzTuQCgKh0HPEV0T7UERs3/mtM4sX\n",
       "SWb4hUZ+HbTv5duSOAuAb/MJzxCKEgZP9PcrHTOHd8fPvgbtbCHOJfVX2j2IEzw8yRZZ9C8RFshJ\n",
       "AM3HjCnf+ndvpMdqurWRAWtlzNq+e26a2gcZLfxMF0JFuZNMeP3JVq3Z+5XHg/kFQ8IbumxbJl1p\n",
       "SSwkekcSM18qakdNmH043nJGThJnTgVxisqTBwowZr4ZIxrrGVwIsr9T28TLpHNkoI2gWVon7mHw\n",
       "7eCbDeltitO923N9kdtFCPSRakWiP7dXu4bc4NZL0RLjX5GL44cSspJzw+IbcSLI3ogzFd3PAtGO\n",
       "M7nmdbO96chCrLR+BiRhyVTvwBun1eJzCJCwHlpY1WsKWnn0j76aji7uew9jiEiCKlczh0ff0Q1l\n",
       "dC63q6M7d5Y9ROinZwXSNUczgd7ckO2+1OX1LxFT+xdDlL1GKHLa1j2z8tTPhIG7/7NBzmAx41Wl\n",
       "NzzoiOceFjjQUVt5MKgQgJvS5weZ80+WWPdefH5CUyGEYMmNU8bMk4lnmA7dLHT4cOQRek9cwgf9\n",
       "n8/Z0wrmYyeZTbFgPshO0xH1KO0RF2pfIbzGYbm+BOGKf/q4YUxMKcWdh6ZSJrmlsgBOaTbKKWEG\n",
       "r3iaRdfNym+WLvjiQ8ZiuoLaZpTOvHDsiRNZIEs0sA5SmMQ9SSgAyc/VTi37ca/3so4a7Cyk8c63\n",
       "bmvflbiwd9QmeSwyvKgEWYyxTrG/W4XFHsXZyu7zjztv2DjuH78vGUDhiTFHDkcIWh+tcTSEmBH4\n",
       "ITf01hZA5LemdbPmAI42VtoRm0B6ztF3zgjVuDetDBj+wTAVbJvYdfexP2gsYYZ5G54ctvHlMYvu\n",
       "xY7jj8PRhPUKXJqxPA7VjBoLrsC+eP48u9wVfFE3ctLy1J4eafGHmhW78s0tG/PR95yqRLnyOgJ3\n",
       "MI35l+4Car8j7TaquD+GGayN06ZW7FFEH9b+7V2bhGB9xLJCWUM+qg+sjWwAAf/qMqbvpQqaSH0+\n",
       "/Q6S05cUBn/+WSPn8w3HN6P8oYkq2KMP1K5DR51Vnn5KwMDTrCWrdNFLJASwf6TdhEFPOwTWjBXN\n",
       "0+o8039ziSA2slDeiVaJvc0sSaAXhTSgFIq4DxGWuAMPYARjw+uWnw7ZG3AjyqmkJzYObbq0LXR8\n",
       "1ja2ya0Ee6kf1p9rBjqJvSXCZVtAevFMDD+JanXhslpYqc318IJdafGdaRF3aC7I0vF+W+mDs0ds\n",
       "sxbbOI48Y6OW62fTYRnHHeUBNT25O76DTz8vkLkIad6MJzYhRTqa5UszkfNHl+2/ok+KJVNFtkuO\n",
       "e3Ws6zXPIZn2MMt+bbPwQ/WH51zxAeT6ZWsjNxQMOgM5w0gV//q9DSu+cpq+oQFLRFAchnyl4Gm5\n",
       "dh17vosEqqjsDgZUChB+Nsh7tmfxTmabZr19+MTOMjwfrLuZ932IpidISN5GiZfaD4UsElmDl0QS\n",
       "VnfIs4jNGvDBaoaf4fT46GjfQlM6k/p4qWGdFChzjP9h+MoLR2Tfg6pTytz7cASPB+/9CZv/goB8\n",
       "+Ij1Wb37TXA4fbZMxSwHdVq8Ek7G/4MhnusgfcQBKasi7pHoF+82cvJxatQ5iz8Bw5Yi8NPquSLy\n",
       "lJHEeOHbAikNN4yC7Sa4A4a1Ltyc0uEZOepAh9qJKKVDFUnuf6nH+n0hXnUsCO7kQShE/oRShKoX\n",
       "guAmSNJtNDex638sxcSKTTIQJLv5rscy6ACL09IL9j3wBq13PG4uqwiZc0QhipZYMEho2GvKwh84\n",
       "SCP4mWOo90zJLTzAFJtUw7uJFcda7fffADu7ya0icRJGqxXDwEanrP4O3hR67Pr6g/qLf6kGS53H\n",
       "okgQi+9lTmYGIoVqLggCODTNVtcohHqeskMiXX0KHxkLLCtEEl4bUDpFfGuhzDjyhh0ywxph+upW\n",
       "9tf/8anSn/biOH47ZCDODw4wIWxXXIaiqlPPbHlj5wnnJTEF8iBt7sVeOt7JmkUuUwM8gEAz7KY3\n",
       "qYJBiJLsgn0+iuayz2IBdaS262hOiwR/Wi5xIqt+SWCIj61mNMPj80dVB9T42D3y9j8FZ2HIDU5z\n",
       "z0w+1S+wXsCIPPVFeTkyjWJ8fIQyOy2RmxWNwJ9O2zGDRYYvTztExeQpTjx5R9HxkzhMsUREiodi\n",
       "64PzqtY7I8KK1HYH/NBOCuPPuP/EdkM4wAq80eAAADUfHBXPesHM8XsEbdy2tY3HcIIJLxY1GiZ0\n",
       "en7EfPgEqvO6jSUsxbxRWCqZYhzNq3JlNP4uNzyCrkbVzAPdB0ipq1ACVt0fpsOwsJeLf0Fv+LF5\n",
       "FU7Q0Y3Z3tJ+wydzu2BgcL0T0mhJZs/zfHhJ+xN4ROHm6brf0LiPgDhDuulH8j7FoxE70/FGsBXE\n",
       "o6tfFcA+T7/66JcyWtp7sT6cbCBqbh33iIyCJEpV4DHphoEBVIP1/P/jYGyEiMF7USsFJUMWbP+n\n",
       "oPFzEbAIThyrjisncpl3dp7aaGln52ETQcUhmINWF9Wh/wqHDgyoYzg3mG8kD47lxPBstwHtjTNS\n",
       "mOMDDgmoN08LwDtROlaPze9Kuvt456zrP7e3P6KFx4Mtan6LY2gzuTOWL30u8kOYADEO8ABWi4+m\n",
       "ss5uGocu85WfSxKKP8f8Ycjr16KJ69h0WynanBHJDrnuXgjJCVRq3OVrcSBbP27yrYWLPwS0neDS\n",
       "JTMVSHo4RBrjcTckEyp+Wbhvl8Uz77IV2Ajz1LHAUT0szErwTMNXZP3YVRTMh6tkadY75M0ZcbF3\n",
       "ExzKbDuFz1sHw0yS2u1JDyB/OAQdv4gtwZV6idkGmAbV7aacTgCn5lcHce/gIPvMBZsvKJ2JeN2X\n",
       "hyTaM4cJZW2hTVE5FGUvdzhoH7xHieBTbE/cEUWE2UvU/d7le6qsrRKx2D84Fmi5rtkO63LORX1b\n",
       "zubeb0zUAw+WzKUI5Ok3vs511ojSOcTz7L7oKFlGGT+kYzzE9EFfFrg5bLJXuAze+pYXFHeSleKc\n",
       "dl17Ivf90GRdH+rQfFHrloCzvEQeE+W+aMroa2C9M0jsmxErkwTCmPBOH+I+A37tkhtKq4gafqX4\n",
       "PN4BFGBWM7HNRP4KxFYCPflb2e8TZUy9l0Iqtrpx9Ec3R6hVtjQxg5VCzZ/X/yDMm3BGncHjxBL0\n",
       "PVeCAo5QIpaxdUWHA6HW3aep0yxB6Ge6T1j//sUlfu0mxjtXZZzANBM+c0stRb+bcA92CIXihdjh\n",
       "MJOHL/T1j4ssOk0Z3vV2RU9aNKPLQiv7AGTnDMkWVG27MwkUA5iCaOM7Ydid+Fd5ly8aTB/wyhLc\n",
       "LjJagk2wHqC+ZQ27w8eg1QcQaYxr8B5oEs+neMrQTaBdLi0PbkCLPq60+Y+Y4mlf7Vm/VGZPLM5l\n",
       "wgYmPv3pf0LO59YUZlo1YhNifM1SGm0yE/1nEOOLLqUJ0wLOt0fqgzrlyH+qbIhsNyQu6iv608yO\n",
       "24QZdkWXKKqSm0lEjRKbd9RDyI/zxy8HhJm6p458028subJUSqJviE9MXMveyYPjpXL58WfOotKW\n",
       "deHMvkSmTc2DbYvT3ztgR675AETft6hx2Fv/GwDf4EfWhrcGtM/kJSEQ6wXqKC0mBCKtJ5BV6pnN\n",
       "dAmHMTWJAdRVN7L9SwNeNMtRHQLaT1S/kba3tbT9j29TxCgAO2/B2Os3xxbXQqn7OSA5LZohLhWl\n",
       "zaaQgewkcjaUxlVkHLBnzTd++4hff9jQl5Ks4YixceYLO1OLBfiAD/tqL5w1oIKM6T9fvO/fGruG\n",
       "7CfYcCWdCrsPC2gHYqsF1/WwBCrWja3RqSDwMFFYuXFh5oMtXU1TukDva1edMU9yjlm/JA3h0cJR\n",
       "W9QMeQm7yQ2y06WoyvbPe/6HKAmT+P3eBLF4h7jojWl11DkIkKX211T5O2/u/8F9nJupGYiEyKDQ\n",
       "itNsRIwu++mlfT21MJbwtwx7PmedXud/DrUsBP1XdRd7QF4NvYssAtU2BUXUqNlBH+re/zAKex2o\n",
       "Z+GEfmQ62b831SbK6cBfjs2RZY4up7mX1AXxJpKjWpyuoOCBnnQ4B+a2JiJ6I2FN2Ag03bstTR5w\n",
       "TVyzKgSMQDwwpV9GrVaNbhiJ3hQYTvWascJHMeDI0GsAAvtm7bPAgV64RIL6+AE4ncYTVROrL5Hd\n",
       "4qoQyJPGLAb5iKx9xOsN1FbLxFO6kqXi14KVTZuzqMCDW19v5GOHu90LVl/wldR+M4xGyQCqv9YQ\n",
       "/XUkaSeChR+Vx7bSJEM14S3F9HsrpTgIwFhUxFYQ89U5YgIWCh5j666zal74gjg6tT65x+qx6R/j\n",
       "IfEEMpV9jgFL0ZaD2gyXLA2qXuYWC4AKsT0jypjHzp4trHn6mg9zdH04n00jySff9G5iKlebZdP+\n",
       "wSACxbgFOl+Ovfil4PuBOQoYM1FKYiCyC+mmW50PHYY5VyVKIDm86ENd3wz9lTolECqp+8nM9/qh\n",
       "1ryFrFvluPuhVZYoSVHoZdrdZef0VFIKj23lUD2GcS8q2jkMsng+DWDt0YI4z5lKbUQz8623ljB5\n",
       "NgjcCdMgAAADA92c1XsXJD+iZuJ74gkWe7wGv8BNTz/ljoDsrdoz6WstZnEMVA6PJRgxD52ElnZF\n",
       "BfTfnZsTPiYSwATJXHo7+XYfMhynsz0OGvNVmIWlNtuY181hHgCmLUgVk9WwnL7s8lp3INNLGtck\n",
       "qpStxYVtvp3vFxFAgkQH2G8ZfbctFt4JRmtFQxdP7FB6m/XnmVGj2OMG6j7Mnk50Nvee/3UCrYn1\n",
       "9dX0iFcQajzEyrstbwhje86zx7or7NCqwvacxwsiHaIGPCgBwCsNP0cBte8qWw3uoECZV/yM/aZM\n",
       "+on6yxs1zqAl0Ofx0uHFH4WMgAAbGEFO9RJ5iVRhZnryFNVXp9j3KbcRY7boApBBnFljpa0IS9AH\n",
       "oIZIq94+C0eJCXO675ojZAdAgLe2qsn1QO7BqzjPxuVpx+e0xeK6CO1SojWF9zHB2pW5BxUNmphS\n",
       "aVjg5ZLLUZEa9yhuhiZz24gGiuZ3Ov8KHCdp2tLTwCWGNM3J5K/deUxjVDLGRB9WW/yGXt7crp01\n",
       "Dk/8jPtHEqP484N/FrNLAdVEMYkBiVcciELAHDJUi8zxOnf3zghprLo4ih5ZFVppTztskTBC3sIU\n",
       "xFiuFbNJXLxV0XN7+WWRH2dg//0ANvi4pZ1TsKrpmmeaEJ7QwG/yBNH+J2OjHzhBPT1EZHfuETzL\n",
       "8zsOhIojeSadJAWeOIWmIesKhLnbR1hmthNz4qFyChn/fGEJh/kR350YiHjSySd2+JKHMIw3JCSJ\n",
       "PV7Qss3ohyneI0qxLDoCuTRbqO+bqvmzprlgIom6jSlRsVduE715UrnFzuY0AWE1QcJyFssUcwjK\n",
       "UaPY8fPgrCJdSTguqVaLiEOPCd/ZW7horc1OFnOb9EbbchybjfWIVNDrCZ/glvaitCvVmdZWjxgq\n",
       "y86xWNQ3NRjt/vGxpMGllTlPCSM+A2Rf006+JESuGLEjNInCx+vwdWWjj2Xy8GBtUL3Fc3gxUqoG\n",
       "GxOM4cORKavC35nBgBpX5fOr3nFibFW3IG0ikoC6/K5pIltl+h91NOWk+LvUcc1zKWAtCfguY1S8\n",
       "cGDd5BV95y483g/arP2xxudoX7INCwp92K4yGpWudPyCup1/+gIgihsE9G03v1HepPhpoamVlQN3\n",
       "J1sC0DNfbo/78JOhk9+hJf65OqBbLiOdtpb08wHxdCibNGISe7AD70i75lcwrBk58NfSFaT//ip2\n",
       "7yBdbTaf811BnrH/Ls9TfELRNFeiy4Na21K8WwOPPwFFbWGM3DSXMSFWAsjdbgq1fvEAuRstrbNI\n",
       "azarN3bKqW3ZBTA0hxkIsA82b21+OJeoO9wpogqJ7Q+bbmUVBCfNY6IO9VlCYCk2En0Q5dzJNOSl\n",
       "j0uuZsSLsrjvMjhC8LHzqu60MFyc6u1/3p584qPMtO/2BO9xd9ktvdEQ4UJUTLUXkWAyaKeoH+OK\n",
       "O5fqsum/4umW5R4HD/tDUMR/0eucwFswM7OJqQMGjZ/amNfnORu3gRuioX3PrEUuVjjiUrJDiJXl\n",
       "r7cFWYyxjXWNoHwClvercQai8zIwe6OE3j76E/e/pr8DwzmgCjOu1rY+vn2v+cWBsfAh9iOIYb3x\n",
       "rGDzZ/8WqVUD0s5O44SZ2ps20Gf2z2kUlyP2vhz8AaJKGNbzCyj+COz+ycgtAQ7thxJWys2tf2WM\n",
       "+m27GFRTZQmXHONDQ+npzTBCrG/HHPMr5zB/T/FZ7rVNKzc0f5Tj5/46JXhLDFZnsBZrF/cUuunJ\n",
       "ByOzFp0uVCG0c+oREn+fYjZy77jgQGIYWyLScY1k6DTHeDNL67QmAoIdgock1FVwicdm3589ViA5\n",
       "gYydK0fLSJgiX7t8PQv6e7uQBhW/NyBhQTV23jB4qgxXWz1ZfRjYzuNzAviBP0ib3TNA/RTVgMsP\n",
       "DoWbRQ9RV93fWqNzIGy3YVUpykGaQgUdKVVOh/5KfkurKnG7+kcTr4q13lYeQM+1KQBgMwu46WXD\n",
       "NBEHOBj3Kqiaj1sbZcmRON9GT6D/qtOWkueUdrNUrBfgbGlX2/CJ9qfzg2S9RgSs37rU5xGR2yKK\n",
       "ETGVCNQQToj0hUyjSlcpGaT0bat1MbjFoOQl3qorfIP+WH9XdIoHEvd79rxPKOTZlKmrJ1Hd0h2z\n",
       "dhp6zOqihpHujQNv4w7fnxk3W/idJymtggpBqUwNz3EoL8aA9NC+EEFHJNwRP94hD2y9Ue0dA2P3\n",
       "aWrEvsFZby/eyKnDCQS5zyj+ghkFBNWklw9phNORU1put75AtohIY2/OadNBCqSMcDYi1eUOOTDD\n",
       "xZVH6YU8qw76RSiKPqB8fdKsPqo86QWKRCcIF16+aF4rg/tMJqebQ/aUDG4nKvTS+tiY2Ne1/93x\n",
       "Z+Bltiqd+9l08YGho/K9ZXbLSn9I4kcbnJTyfPZF9QwXvHA6HavETN3ixlYuWuU4DpkUr14lbRHh\n",
       "XuKNVSx2xyblVIv3Ln0h66/+wZI4E/royL3YKYAKVNbM1jffGoNcH/Ibi7oa/h8VllsfPHnip8N4\n",
       "o6zwgUCw8137qZRcGMudEvECXkqamFqkEaU/yg69nIvuCo3zVr4dgecps9c1FjEGlvHynJJyC1a8\n",
       "kL4cci2koL23mWcc3v9QiXJupkDpmoaSDGzk0J0aFiRzbKpv3aWpC+yMeMiaR5aNLKqI87DJGNdY\n",
       "ZBbOe7gABNkBXfE442yY1MnNElMy3iG6kQy/h3Id5uU808G2yNTqN7XD6LfEsuXvyulqDvqE0Bv1\n",
       "1J+oJbRjnmMsU6xv1uFxSgmdPwZARsbX5Ft2XFCEB8vHIeXamnRkM93XJZDkwoxbSSV+xg5nU7Ol\n",
       "BAiV56WM3QCO7UCaLmuZlNwlHu6Ssr//7Fyp4B0BFN5qhstzA0A4HBkgnqYoZ8K+UdoMxpVPnd30\n",
       "QOpQIsa8lw+UfUYmfTD/KX0/zQtWqxoGBdqTw80+MPJwirMS0tG/PR95yqNPnyVRJ3Ls3Py6hfL9\n",
       "5fX9Z0xHaI+hC9OVA8ASnaUSCXcJkWVyZAgIa49RjXNGGB4KhS+IAOLBAh0LWkwOvLlUQ2mHJ78j\n",
       "EedWe+ksWDSzz83yXenbfZ4wybCxBRkoSQ7JxpebA/d4AQcQ/mOV6qnhsc5x+h+OIKtDdHvtJ5nt\n",
       "/n/exT/MWFnVKxstaiR9UT9zUHEpogWyZwa+aNnQVMCp7F2QMQFK5hbeCvJD/fB0/VEAHYrgCQjI\n",
       "97JHiy1zrwbg+sebNiK9gSbHsksyZvTOLrSpRnBldnGTRGl/u7fo6cBNP6UO87NIeLfUf2SQcynM\n",
       "Ob4ZhbHe5XyUq6T6Eg9sqLW51GdrLPd6WaAAAAMAite3LKrxnuT5dnIAifq6RQOQo2/hack+fh+o\n",
       "dzDd6IQ/2jD7hFHfybuHTlzF7r+lrJXCxcsm0nySbxfOMccObJYJRizdZqYoKtB/II2FoEhWtiwy\n",
       "1CHs6I/2C4WSeXP8JdvY2c9F0L4Ytt1fICxoTD4SSXk9drZEeCLA9VF3af6F/qsjllSSs9lMct7L\n",
       "mYTDymTL37d3arBAsd+uUlabGZ6DfH08lD1yrl5TgXdY81Ut1jGfcWfbLG63EswL86xf5ocefOPC\n",
       "gqwvZbc/MAcB4EgK0v7AIABGAADNADDhAAAIl0GaIWxBD/6qVQAEYbg0gAn/PUSVRDlY/KYfqVAC\n",
       "+LH/7i15ZXSrSRcAApP8DV3LJaUgE8fiUefyeDM8ONELtYjmGBJ4oJ3M/8KAzSWc1I6gOdAYjm24\n",
       "3dPDQb3pkhJ8///3LtTSFTfvoNV6Lm481FWkkHWv7V86Fl2W2bnmTHHWIcLqX5qL4+W2mvzI6Uj0\n",
       "W/v8EHK6jXcOCsCOoj9BNrDqWmhBnvBMh1vm+AwOWgFt8A5jMnpZVx59Qi+GNj5aW+ysUXokFz9y\n",
       "gy5Cbl46R8dY2tcqfn0M6GKCpki8TZJ/b3RZpGWvxn+2tUOfwM/ehPm+KzgETljv8M9N8zHw6H8k\n",
       "OmvLEB8FxIRGXCAW9xInw/I5ENgYgFK8oFhSeqtqRIBVbptaK0WpLaLcaFDEhbkURtO0t4UqARp7\n",
       "LUHKlLGsSaKih+SpX5hzgucve//1nstdjufUW8/iJ3Np2aX4FigIFnTFq1Ir3pTlscgmnSZeqhx2\n",
       "fribU44oOZlMaKGcvyul9rZRHzBfG3yJxtq/NxXIcRUvWTzrWKKAzOtQNdH+Pv/AxU+MSLPM3sbs\n",
       "8t3cuP5vQUtAUPPc88bq7a59MLEPD1Q2nbQw1kP94D3hKnA8ZCfauPgZ/5S2h3W+I1grfWo2D8y9\n",
       "qeSnwlh1w86t+pmRJAQ9qKkkBqVA1+42bLkE1btGDIAtpOz0cZx3ZxdObQzShe6ogrg6AnsO8jl1\n",
       "nTTtMzy0YtG6vP58pO9h7pNf4wmKrMpye0kPi57fnIeDKZB0gIojppSAkhd8jZdZDD/lx0nyefRc\n",
       "cSJvH2bt96T9XizNiVjJy9jreOUq+bHq/c75i004VlbS22sfeuyr+WHv91CLS6B+Spdvjgm4sa8H\n",
       "VvH90TAcPiOIiveCkwuhRrldscpOPnd431Xsc1nefAvrF9334iElmXELnn5fbeIWg2kinUV00lBI\n",
       "lIVT0DZ919ZVDesvw+eGPYIWYDZp+pBhK3Plr2B9Z0JRhLjilZ6voqXLFaIgBoev5y+hD2veQEc+\n",
       "r0+878y6zDi/fVY2n/A4q2TtE6w+GyjV1wboqnkyLWoa18GY/8Vpkvynqu4nepQcVZzHzXiNImR5\n",
       "TiO/YqX99A1OjH8pyuwAofQ5pY0f4sQZZresUJglckcPl/JehHgiqj3l32g9ydWUQaY2IJ87WdT3\n",
       "+iSyE6077aeDj1Rft5Yp+xJqC2pgp3vCkBFOwO01PP2N4SClknzGSW2A1RuMEIHWb8tHKzAlAvE6\n",
       "ZzrW2rwqREbSMlUjHoe8PjPpzy3GZyqmCiEKW49LfGmfibOCI1gjBGSZgi6mU1xd1eyLRVn9vNS2\n",
       "85NU4qIv9gTZRwRFtd8nYyiXaAX2jKgtaoK09/rZ8dqNGSA9Yr6t3V1yfsHwSvDds6byI7ZUC9y5\n",
       "rKSCmMbqih9/yLqbfRn9VqbqUpTXZ4U/F35fKTueTxy0EP/AATjEhAM1yMd/mliPsEwblVgGBhdh\n",
       "CU64XWZQyjgstZNvaHRmNdHE+VKr94T/9WkIDTy/o6SUhsQ3Z3M1GNH64OhlpPoeW0lZjm+jED+a\n",
       "3lc1WrvNGX5Lwki6npAytoKpeTBcMokjxeo09TZVJiTPcoHcY0vC2tPx//k9QowMRLtI/zoReNWt\n",
       "p766CglVReQxtohF0ya5yl43yA6DXYFjdTbqMb9pWrysAX9Lk82bd/4NjM7L4iC37CeSi+8w2F6t\n",
       "vdDXC/6MdFJmRoS5YzR/hQQ51B69b+fjxK9s7WNyHToujzho8ypwhnLt/1hBAQJUaxK1FBOg4jLn\n",
       "bcD/qpcnMRIkTellPV3Hqah9Vy9PlRiJwY+GErEMN2cDz+B1oqqG5uhVQqdwZ0HkpllYdrNmtMQx\n",
       "MbXMzsj/UBPDCsYNDywC1kQgebVYoYxAKMJvNS/D3DL5fUGo3BuZycZTtHnkuH5ZI2Tdp9OJFQ2S\n",
       "mk+zwAYwfm6ENgft3Nh1V3/AePfgoqpMrsTsgbrDnYnSzQ9EgIsbYqikACD/VYmKFbJJH3nMWTij\n",
       "ROqiOJI2BrdCSlok6OMzirFPXuAYAq77iSdU0KBGV/nObzWL7cYUJi7ul2ZDzyGkbsiqf5x+0wyx\n",
       "W50hGx2d+gxKhtXU9o+78+2MHSRRu9nn4ogb7SzGcgz1oVElov624jhiEf4jq75HlHLz9urLbg/+\n",
       "ZD9IC9oZEDZV+rzxzl6AWDzmVon9WeU+g/nMGPWchQU+JiuuHGR/2eW9ThVxOgbBvXecy4rgS35u\n",
       "3TWUZk29wuhJgG1ewEPTdAjmwtiqMbI5k+prpA4Im7LrstRr6G9t4fa2U/5yBQp2bRUb1NcGBQeB\n",
       "mpQ+EIm/xecSu6Jt+cHA8Xss3WMLKfyr8WAA6fdTUvjjvuGt3Tqv7thWHKe2IYCfGNc3hyKEIFcJ\n",
       "v00YzZl9VO4bcQtfwQaur/FL953OFPUtaiixY0g+1SfGWoVs4lUMsNI8UUiB1mxlTQDMAQ9bj/Ad\n",
       "K1SALOn9bxlZQGNi2l9v41jpbjpIg6dL7T7py1JMLacYWYoclix3WfNeUA/432NBGTIv0SyLkC3u\n",
       "ut0UgDOO3kNpO5k7UfHU9s8/lTesJojEBVpwItqmHm3FpwR5kUtxhVKaTla+E+NinyV/W43txHTr\n",
       "FhewAwzsEQIKeIqcoVCiQeSihKmvt1pD5akss55fzErGP5uSdzklrUNhzG2AHFrTOO/oWXUQB5hX\n",
       "nZBRRz0zpAVgKe72lmjIPK0MHYIBUQRoFkIE0Nvyme6mhJPtgwL0LZrd2sYjaEe6ZqQLqZHS3eRQ\n",
       "B/q6t/B54AtrygGKcIuVDd5Yzw/x8ndBV8KvmeNi+Dwht8d0o4F48WKDy+nSmg+iOE7THQtZO42w\n",
       "xMb3aCFsJ1cxOGUotZ1lzWpdzA4T7OfUmN5jVlzY/T2mVDBmerXU91gTv2JGJxBB+SxaIgFj8unE\n",
       "3HyKCAAABf5BmkI8IZMphBD//qpVAAO/8dBItufZ8cWQQBoN2VVvh0xYQVDTuhAd1nIV+X2uAkEo\n",
       "2v1Xy3aLAug5qXay2vQbjbFEvkaSCEn4TzmWJtpN6SWG34kmdh2juKUXbIO/pAJbPi/4uefL9jBW\n",
       "r5bnRXwZuVOZg/N2A/7PrcC/pnRE8kTfY4FgAJ0f53/7XHoUj5SMuhQZbzEKVL5DRGO3QJxwoOY7\n",
       "q8oq/XE6yjazN2MnWL9n9i+viKiikmBG7Vw/k6LUbTTY19Rv4zwRGk/4VUw2B+VHc1oAEM9coy+M\n",
       "RdU5n6pGTyEg7sA9QdTA0cXBVBmEZ47k1y2JbFGKov6o615OBFISYasUSC8GcBbz12W6WcaCy0s5\n",
       "CGBSzHXrxxL3tBFv7UKbPPgdBoXzbPsuHGtiHzSgLiD7X+7/7eZkNVaIAmrgO67QT9TNgtpPag0N\n",
       "BDYoU9aPGEygZTyVx7T8jnr2Va4uXH94r+oHPlQlcBNWy8+/9RfzT/PEwbWOLpNMEKJ5Exbz8UgE\n",
       "N9phjxZFhq1ltfLJ9NjnSOFstn/dB1VifShtCURA/FFnI2R4SMS4bdq9WSiAe1LRttN35bIe1U4B\n",
       "6X13ZZhg2aH5bNfwXcSi0dCUgsspa65tkXDssNWlGQtSZTAD1OqepAkVl8PSxkBP0uw6pKDcyve+\n",
       "6lj1dAyzO2uLMsnymLaTSjK11bkakfAYt2Q+wYLPRSy59vTAX9ESOeghmxNsxbrlGX31c9FEmxne\n",
       "9mPeBlqUBVuSjwWLV8TOllOpGdYO8Xvv60wCFUmgPnbrRxXYy2SSP6k40thWOM4EV8mUG3NEXjVN\n",
       "h7NtSHaGpvCIwK8uKHQKdds1HRphuxWAxwhlhOt42vXY9HVe/JF1xSbLl8mqCkq+WmUz3Nk3Qigy\n",
       "71sHUKniWhmJIa99+O9r/FM1Vixvpl8SokVCHoZebX8qj3gs7zMPM6k04QDJfgL8ACfOk0HmLOsV\n",
       "wQYTgnsBbG/kwcoUl5fvmNBs7GurTM4A//HhLF/rFSLO5sLs3x1WhZ5cMWcgHA8hxoGQVovks6kB\n",
       "CKlEixUQ1l0qqYvqwJ46lmsDV5wg1HEwbMzdIJzUX5K04EvIDT8G2sZz39heyyRf5Bfpc/oGyiB2\n",
       "g4lTQtlO5jb3rfCjPtXRI4m+1pYdEK6WxsI6JwriFn4PZg0/uIKdfqvwbkFPIELWN/EMYgpBeh9T\n",
       "baWmwagVMKVAXi92PPl9d81oJ4N8h8pTuvVA81IIqu+aNskhtp3dYbSKiEz4eXRGlhAOrWH6f7li\n",
       "3cFc5kL5vFLwW+OGEcDeCZOTGg/aw2GIWg0nzcWeClG0/0bgRuI9iIfEVJkXUa8zqOT0+BAkT/Uc\n",
       "s/v861OY6K+TGuewlhSteb0+H2RptMWNJnl+eB0/lfJG6oOr2/1D/+3Vp/8UYlTLxxCMUjuUEQt0\n",
       "A17RJDa2PZcLX5B+ziAcy7vZBghbfN3hGgZtsGu4M3/RppRSvQ7wtVBLbO5Lw6lkcdsUFBDhoKCR\n",
       "Niht077EkZsY7CO1MZZqhpz7Dyk1/Fb2ql4BVwKDiimL3SeSceoBCantXHe/CD/DQaWZh8pp0OXl\n",
       "VEsBcHXQEPp+ONyVPQUppcxZ7Kq3MCyyzXNFaps5wIAxljYMGFI6UKa3bzN3VslBCh8gPwaN+CVO\n",
       "pIgF2nsam5joiAL8OTK/oATFF8s+DLRF357Y8uoDTxflnvYIrUnCBGxZj8aaUl+2Hdb2i4D877hv\n",
       "cD5LB/TycyPgDP7d6nxQpVSSDij7N4BILiqsbdjNdY6zj0H0zMiEQH9K4GQB9HMZSvOknuFs6bbJ\n",
       "ClV6m8bfe6eeVUAEpuFC3pVEtbi8+mAFZXVU3G6SIoCeBXaqMf9/O2KNeMGaZDbzJpBjoxJKnqq7\n",
       "BswcKbL6wfjFBNMKonek4TLS0oW/uscYhe3fT8IlkutMyQVN310BMRr4QW5NNtr59Vrq71ZgFVTy\n",
       "SpcP0KaLE7x2vHASOfDihMcnjDyizx6WXyxO1SbV4yT32yyonP02B4KaKJU1+mtMoUZMzKuEqUre\n",
       "dgEzAAAGY0GaY0nhDyZTAgj//rUqgAAB8zKGmbWGGKod39+f+Ut0kjMb0p7yxrdcNrjjteEvlKNf\n",
       "dNRqovj5WSHSMKtFqM4gSceo6X4/aPIb+dN0R2wQPPQY06k0LOC4z4ou0cdW0nJDcjWLh8S1OBmZ\n",
       "l6AiehA0eJtSybeX7jGLi++oV21d1NuPQCA6r+5ApUfSfCSZiP2+R3dj/19RpboejD/CCA7cb2/e\n",
       "BFczUIZwBhXvbpQ7VrAKK09KQ36NbyVAnHzlqtsqfJMiEkqUus5mTolQaNRwwh2TvOdV9YEBT/P6\n",
       "32IESGSs+fDbDDij5TeiXeohVn58pyycvC6KAI8cdYCvVYraKG4sReZiGhzh7ZKxtvfiAENJFB44\n",
       "AMjrLwJGs8WP7erYtkIw22ozU3Q0L2Q8KiQVyy5A6qbLQoNttph4+/3YWc5JYTkCOmNcJEjziqSv\n",
       "3ksvDedrSNKPjryJGGzp7NkRKa+dpa5wtg52bf26GhVsCbFbQyzNyG9qpZfb0e2tbsi6Lf9xfxcG\n",
       "jHwWDysrsQufFIPQ0NqujLxuDF60cUvFmqE/ffwi9WqHbyg7/QVVZQh6SYzuvq8DIEH8TaJ4pVpY\n",
       "hc7cC4Tr7c6yEOMSuuvQAhRsh9tJ/EwX19VjX9YAGgA2RzZQDaFXxUFiTPsktyWdl5Jvg6EaZXuu\n",
       "K8kD7NMsXMVtVYuN/99b+LYmnrpUwrl9jURn+QfLfqe/MSB63K1jZ4CINsYscsBqUpbeym6b1SMw\n",
       "e9pukXjVDwh9UbtMoM4xWNhfainVzTDGRq2OGCR67Ibj5BMM9uXos8PlHmHMYJPEYE+85prUTrFc\n",
       "WCVHJ6Qq+iBaFYt3WPAQv+vwO7pFHgq1nL9Xws6uAcphWBUdmvBrdVo3peRvWA2SqQ2u3GFBZns9\n",
       "izuWVmUILPuNXBJPxBKc2jkjeFKalQNREhi9hOZT/vaYH2zZWlnTmrEnvdDmQEeKvpJU2vwIV8LP\n",
       "ETLJR9+l9A79iIA7BH26csgl0dvM1ALsBCswiW0HtcNbb4kgZNEGuORd+R4kXPo4d0nYzDHXxe20\n",
       "Y2AUWCL0yAUYB1C6rLbYeLbOq7l4Y0zG5xoxkcW2D6VDCzOAIsTIqlR+C1kcs5R+D+oIB74Uxm36\n",
       "6fsrPqFfXEp97oW8lFqVC2pVOyA2Z0ObG9N/hANJjX4wzU0wRQpvLNl9rjY8d69x00kNvbNkNphh\n",
       "fSLMtFbxK9A6BjThff6t2qpbMSClEYzottxtaDbX2uqGgO24UIIEjE1NB9MuNdwga/Pk498nDAnY\n",
       "ABXceuCPb6kCnSwb5XGEHm0kEjVAB1rRcz3sRvehotviq2b7IbZF+Q5KFPU65gWZOAVxm6j4m1e8\n",
       "g3rrzhB29O4g3/BG4okb/4cmHoeuryXwOyVneTnbPhuqHtFTL7eYTU5cD5ztfLDR9lrADmCGdwN6\n",
       "fhjlHmA7vzdQ0OojRUIsazuz5bQau4qz4fOLmAf5dpQkgayOpEOCkn6pm6b6D0qaXw+FMs2dHgwW\n",
       "IawDp/4WcHhsgRenDkPBWvxLBEdxN4cDYvlIFiIeb25GDQy2Pc+WWwBbCyDGZUYV8JmolNlNgpjy\n",
       "+NoX3CqCI65ozifkm8LQLXnY/EKSmOxOiQ/C6iil/7xJZlTS+9sWAdTfU/VWc5Zg/TDbg9ChKdPC\n",
       "chXQyXoFXQ8y2BDARCvh+WWyrZ1nm6MZeeUbaM/kShZimHd08xjT0beN245bCr6kFOzQ++wQh+rf\n",
       "gopjdYfsmsKZkCmZXXQQnJVhlXjkr+tMCdLZN9jVZTMhGQ4wW0XC9A9czX3foWyLYQeU9nl4nHos\n",
       "cfi3CCjrZH54GiT+EGnVR9kt+yz6Pqna36FCC99naCvMCiERhr7Ze1cAEFK0XnfZQv2pnPDecQgF\n",
       "e/e0KOM9PSTyVbL4GqzvQiIUz4IXWOvaU/n9kIJ80k+4sYpjEqobqYEQuV9nO8hKKHXTzT0A7NAm\n",
       "INDoD0fQbKUhxctSvfQMPb71QNqLHeRQR+1OSuewtS8q6YDgo6GZdH+ieu6I04EAetjU/ZBGBhic\n",
       "ufu56Qa/ls3ousrtuXU7MoRAEkAtfIauwKLBzNws7+Aj13fQbtHqRCHU1x1Xs/+goD1mkdHp2M+P\n",
       "+lZ/3fLZZrX88EUELjt7aWiSNHyGmO6uAFKjBNd5z1TcneUIxCcFzOICKuACHgAACYFBmoZJ4Q8m\n",
       "UwII//61KoAABqOZM9jYQBGGzyK0xl7v0OOgA+8q5LFx/VaKJts+5+buUX1NA8569B1C1ji1TFpk\n",
       "BT5SOtRKBqeHY/gKNlQmHKBYorJm6M2wquUCcApTdPr86+MmBvg2tWzbHTRwHDnyiE3JUX4UTedA\n",
       "LmuqwY5SqH8cBTZHittifD8S79YEDccNcUKUxHaiD/jyL1TmlXzKO1v4hezmJ1PbpWayDD0g1TsF\n",
       "Ka2TOD1ZVMxBT8JrTGP7BVQh4HRx6sNceRDLEKO4oIFX1f7cxHKH8g0ldVwH4DRrnGi9SuUgtY6H\n",
       "gfmYGE4U4J56CEdkCGBJ1wfuAlXfFMyAhKHKNLI9EiwOz0QDzcaksk0j3FG/07k1SzVd+py8Ttz6\n",
       "6hfCVj2NZGEPErPXWVRKAE98Bcvdl/g8Bwy1SJjJkKVuc9UPktCaUOh66WI6CNGPYxJxJr5CsIMj\n",
       "da30LIJG1AzPlsDJ0mriQ2l62esThGEzi1dbfKhl4Dt2Ua79cLFuO+9dJRbZ9OL8y/KvDX3sCBZV\n",
       "haykHcgabFeybFrJUBi9pQ4qcX+NCY1kkiXvlXO1cWq1d7zlQ7sHC0VVcPdpg/RcbMPxZPMVOnDk\n",
       "FUIZebiPCYHimFN/XH1IuPAutUjV+QhCfQHEeLMUBfRv1aUontuTZPJYPvXkRGK+Ty2m5F/wamFa\n",
       "JmLZBz3rdgBdChgh2vGyoVUp8lZnp1RdxLfQwqgETSQ8Jz2YGr3a4/TVcxsPVncApSXMEG4EoQ37\n",
       "Zzy88dB9PGZhVtRbbHU8ILlxgQC35d97lfeSNGRmgL7iaUwdF9J4/UhYoxnO1gU08g5b2CDBlHPn\n",
       "CLgdu8Z3Nrq1TUz1UpDH9IMBAFkQeLHzAHzxlRz6O020t6LVmw7IBoCpL22zNhLxzd9bDCtVxoy7\n",
       "tsVlaeBZoaQYIFZ0L0uId6e2eVvj1K46yOVN3Hcq9YhNITgstvwIFhzUbMRedDzbDFsrRBYgyxRB\n",
       "NgZd3bVdZFx3IGAdJ3EFLYzD2jCVvbMHAd4cQbJDWDhZ0zi67sMB4J5uyLuO3a/mhLGZCYiwgTZd\n",
       "blOgzrPQVwIKrl4eU3thESsswazGvo9S+1D3CJlQ9HcRp+IqaPrh2im7s4HBcaT7NaR0wGNQgqSs\n",
       "aMYDq81AOH839nowdQDI6wT+n3NrHqDGxgcRt7w5lEfLyBb8B1D4rN0Q7Uwoub4Tzf/njRUoJmg+\n",
       "TjaCQmfYQrFTAcqVEqdmkOsAsJ0YTM61I+qBFDurM+yVdDYU29+DXVe4MboNFW7FWY43vKPIf+NT\n",
       "nw7aYSryjP7Tx6vaq1aGQB67osTVKpTynaLXjKm6Fk1cLDgAS8Vwp0MpaTtj8xZSX3DXDuzXXtrv\n",
       "Z9GV0Xi4a1xivvwnTGkh8zpHWBjsB/zxM8FG3z6UcQ9fR+8ryLmuH//1tuV6PyLlmZIWaC2QL5L/\n",
       "FPugCCCa0kGjEcLfXMVEtOfoof+PgYfvoRYd5Q0htu2hiLWh9nSalscvFGTponHomdDrlX5Q4jHH\n",
       "xuxbUsToqtx/K2zZZP/RzGdPrspPsXyouVkBwzEY1BdoeQNDaqRaV0pfGQlCVtzXthgLpNkJpqiJ\n",
       "7u1oB9d/x1nE6KJInJB4brCX/KM9pXPV+N45H6oKDn0m6NEhaidMYqABTXQ79/mvA2XsAvFKxso+\n",
       "6lPscmrOAYM7oLTu1b2wyw0LL3EaMxAn+XAck9i5VA/UdJRv79QoufM1aqAH/HrUnHYzon1n9SYw\n",
       "dS4G/ZfIIvXDa1r9y+aPotER0yn1SpTgJYRzGUQR+LNW/uy/8apesFGLQqAAFXs4/2dTcttimHQS\n",
       "zu51HmPAM53DG/PCAmVBZLzdF0e+FIENPIDUpTFOhxnshPHl0/xSBela4DYvliH0f3J/zaUUDCnt\n",
       "ZYwSzIsUfqt0OuTLrgRvT8zGsohQz16wG1HoyMEH65yy/1qVCAabQ+fG0xAyD+26rfXJgFE07Tkb\n",
       "6mxFTTbZGzKI/GGOsnKvUt1IKay651xS26JBelv9coiiVlQDKLXvbVZmR6NhuIlZtxE+PBaT5M2w\n",
       "t2+ceOk3MtueK/txtvhIz6LxMqvqHL0fbzWg8QNDPSmISoolEtO868idz1yShmGaBDJcZ/n28mEg\n",
       "GwztPKyoUcepn6zy4Yqb64wIC7VucMfU+gda27zYowkFiQiExAyj02fhpqnuiOtrk5BgLZ8QcCS4\n",
       "fo8OVjESGgqO96Gjq7BMwgBv5mvEbY0s2EADcZfUqVcMi//VBCOREgMR9OLDCDBca9NIXvnVeI9e\n",
       "858raKj96mrbTnFVmPxxk5Jk4qpRO7xEzLMXQKebGqvUrKPjUNg1mT2qoL1XVi0JqykOVcc8GmEm\n",
       "SknhZYpPTEQE9x0sePOr1KNgckHIFQ1idShH4YerHFoBn2H0DlrEEt5yqa8fRvQIFPHmRHo/GJ4Q\n",
       "oLDqKJmINu/fR7TtpMCKdv4BcMj6fDwIwEPoEAHsTVg1L1iraNEvjpIcdKaSBPzacQSKq+Oqq0do\n",
       "cl2iCXHEzQgjR9EubxYRZzntyigd+xj/XIXjT+Xmj/tUuEHIQCn05eh2xtPxPNQnpXb/kiCXP/xb\n",
       "gnXDhOr6frlNnxeLyhD7o8+GbRaVLxAjNa5b1XZgD765SEFhYFHG+pKLi5IoxYxfOfYGm81mu440\n",
       "kDhvlqgvHDXRaXsXzlUwaNa3KVMjk+1pHHjiJvwhANSyNTzG3DdS7qAHoeEwKo8jeTKgyz2+Mm8a\n",
       "TuQevtbGJi+RJsmpYyzsjXTYl0dOKFhWLonQIQwT8pcMNs0UE4uIuAbUG2WE090zomdEUU9cUBQK\n",
       "Kh9gYHWAaqK6RWZZ7TIFysHL13YMLsHVzDuLUDoqbfYy8BODIQi7MS0sZtKnjjV5xkLc7z4eVZOm\n",
       "ZfoGmp2cdwoaLSbRNaTjWp/6j/94IpTlpuLIuunGmQxKmE7WlY77uRrGlJSTMnurs4clZyyMThFz\n",
       "B6hGOVhes87IzvQBWJbdhFzQgbciyubweeXHHgGt89VWI35ezYluq71Xzs4ktXbh/wAQU7DIdY6O\n",
       "ZKq19VLe8KAo1P37GEr04pzWuuMvtHGqUuxegR8NezLQlrrlQYTvX3TS/+63BTwZCSAcbC1eyP+p\n",
       "5atzzHs14BWPeS3fY8bqFC4fTtKYlUARwMFPhOH1Jp3JrliGDqjBeoTosCGhBxU8EdTgU0r6D4eu\n",
       "m9LkodhyyBhlDuD6AUedfqfBdep55i+2dBHwBpYkhzUAAAMgQZ6kRRE8N/8AACSgmPpj/jr08Z3A\n",
       "C01fEGwki6LJV09fNls+oCU6yTI70GA5jkDVblnpnTESt+Jr6jIBMW7Vo+B6P5980K1OFGcRt9AB\n",
       "c5xEv8kRAKOYF2vlmZbjqqkkCR9IAV8DWNKILW58TRm6DX+PVYpLdFp6SkPht1jdik+meT2qF4qN\n",
       "PeBiVaclUCp/4wNyOjaPoUHrXsQm9JiIa/xVLOBYG8txYyJ65+FZpQ8LehATL/EYHw+x3F6hgT1b\n",
       "qxutNbAH4VurHNVxQRtixDBcWvIU2iW0qtap3Tsy1oX3EXxfWH3mnh2wqH2U5AGawFZG9vWLYveU\n",
       "sZK3mMZQp/RtnD2g/YfS2Gq2Ysq8WbszxNKSl/KsICwuGEHBrKGqrOCNcg+Xc068yFP6izEKWysW\n",
       "DgNL/l3Q6UV+R6aA90Q5oz/GXToS7lncHrd+jl9wftW1silP16fNcpkSOVhpCFvVnreBk7Be5gAH\n",
       "8JqDnZX3ywXY8RVLWnE4joEJhoWqdef6iGOoOKL2vZyNLUGvA5RQsUQ7XyXIC1DtTSSIU9B1r2dM\n",
       "q3/HuCWOEE71LJx18B7KXvnc/3tuuAWS3r/znw40WQrAy9Ex+ikd47gGhmr8Srp6DYXmU/3D6UYe\n",
       "bEEZiiI5pYNfkunZ1p95qL3bHkW2QEGMTx1JSgsHnr5nPBqofOIdeRd6QbrrfjM2RCVi33exgedI\n",
       "xvIQ0AAAAwBCTYxPYOsWn40JsfBpWw3diDr/rt/HJf2eIK44cKDbI/lnqTU8+XOgZS39oDpj9Mnf\n",
       "xZ6y3X3p6nnip1s55/ADmNSiAmJr1UgfOPPx3SJrNv9gW+pDW5JyFrOogszKrHlb+XlJJJISg/u3\n",
       "vHd1jaf2ifIBjFhca/YWYk7VA4XVsUP8KCXcTb2e6D3CIIu2AeXW0rUpcqjrqA/nidVNazg5HZEQ\n",
       "yAegUU+7AzXiD0SBGWZjAFJyaMVsTHZm3cO06oD1ehRWiJsFMh1uxn73c9CfjqH3Ie/N1myIXdJx\n",
       "R5O+nhwcRsK8NdaJKPSAWTk9QkMA+2EifW1vDkR3dy5BGSA/BgUAAAH6AZ7FakN/AAAktevheZMt\n",
       "Be8l6ABdRvd4Vs7gXk7yAqHYj4bErJF/t2zbNixDTV+UXhKWV8GMOCwA73P7KvOh/hpKqfRcYlCo\n",
       "cjW8z6Pf7McJtnQOdcqlBLD6O58+u+RbmWCuMJoZDL+97+pCscTO6zhkzX+bxcTg7dtkkb0eVm+V\n",
       "IFRZ2EM4UnI4oVQBUP0TfjPOaufBTn+kOnzIhLaXt57Z7pq6hMHdt9OnPCjj0ct/FWnEpv8qnb9x\n",
       "Qy94iRjvikFYz8fB1Z002KeRC+MPiY73+GJ2C5wEmlwAvKbW9whF+DAtl7IkmAtspPszGC0z8eyy\n",
       "a4dkWbXKCmZLDbaBm6ABQ6+FevBHXLo1K2R8TcSMEN9b3Hbvas3oMKlH3+BG5i3+LBqHI9isXbeD\n",
       "nBqV1fkNqtRjGYggNHqTI8F/+GJA9WrUYmCO7x5dmLy06PeVAdwoXpfWkY74urnqDr/rYV6emk6d\n",
       "E5OrMArpU4i+4lDo98eb4Hka9VRrLS4i9jH8eCym/v9roHvssFvDfnQH4IIqfbIBBhWOXAdT6L1L\n",
       "EjLwd/qrgle+oJQXDO7KHAhqiHzG23W3WoCkxY6Z5huSAWkEhkHfbmEyPb7dxYcrT4gmnIPuRAR5\n",
       "BnpUGsa4eb98XAkxJDvFQJ5JJSqHGNGOYvnajl6dr3zOBU0AAAh8QZrKSahBaJlMCCP//rUqgAAW\n",
       "7hbMzgG3xQm516Ctrq6Z8I5K2f4qTRneInpbXSyMFjecOnkNUBuondSI2s5AXcRS9yLmWKZil5d4\n",
       "Yf5s0HCqfHbtnT9/Q88/yocYaW6mMnc4OZfK3ARPJUTjRZiGNJd1mc/8dH6iFNzsLntKe3ycxTKV\n",
       "wXrIgl+KNC4AVG/hAG11qnTnlqNEWEDk8Q9SVfTymICMWQKNJbvpqzpJFNidYZrIi5ZH51/Bb2Q/\n",
       "lpb8cIfc8GCu9FrlbBwDtNLeL55afPdXP5D3j+edt6nAzyW7krpwuY3mMG8gl175z8XWWAEXPjJn\n",
       "Ybl7WmD4VA7++MJGY9FNxwZFK89+c1SD6sQSFNYOPVKwbjdQ7+5wfJQuSclQ7xs6iQxu0XgUPzwN\n",
       "+XKR0tSAWOXXqZdEOsWZeJsYnpm3YC+es0ILUegyeVeaPvamzJfXKkhXFeGolsZqmTR6po/FhKVx\n",
       "uA0LmOnPKYeyavwnJbY9YmPwri5S6PH0wtLFuEorsB+4SNCPVUCqW53C1/dHnEA0QBKu8L2NSkSs\n",
       "+zImzYmrnfjm+wexlnNpwCdDsyofkzpHZ0JQpjUpBgG0OepA5hq6sGCRtxjzFWZXCTksoyFH7Nso\n",
       "YDfMCZBkyg5wBZ6Yr5neh9gvc8akzcdTMmS7zQtYXwR2QVQVe9TY/jTENalCy2MTtycXl/40gGBx\n",
       "X4bbJAx2+YNDjxLzsN5e2VXxk/paeQzkF+0mD5rgtrfjFoIgbSSxnOl3rf+iRtsVq0y9qMsDqQ1F\n",
       "DYoHra/KzQw6zHpgnlZ7UssRzstSF2cqYCYSnYcBj4oCdmNGzEl9JhkqUPEwW00TrbbiNyWjR1zR\n",
       "VLwx3zHYHcBO4KnXZ0B1n5iSRetLHpsVEsM9ZLZqaZu2WfUX1miwXC+W2R84nWPISk6M98As+S5a\n",
       "pWncGITD9lns5MwcHYVKCvmEZGikyTlHyO7ZbzaHfBMPMqck3oxS13zr/XozLhiq/oMe00xbTLqs\n",
       "nfL221N+Rtj/i4kb/BxzbWy8TlxFQkq25sbD1qNtblgns38Y+dbiNsbP+Z7JGIkjkoMbV5E5laQB\n",
       "2dfyXXnxWSh86/sl8nV9vAF/d9Om4TtvuKandQQZBffG9h4no/t+De/LFkdDU3v5zfcbpuTOya3o\n",
       "v6nlg33XMoXqdQ5+NC784DINfXpneXbaDctTDU+A9e2fuJaSpoSAZjMqBcTEPT9CMeoed3996GBo\n",
       "CGV1A3MhyPbjyluDLmegcWEAF+IIgxXiRg7P8ZkkcnX8B+LDtIHZNWp3o3f+CgNl1bm5uAoy9S8y\n",
       "Cxo6RlOTDYWAi1Cysp3KiDE46QoF0coqI0R+KmcReeNzeTWPYV0+X2pGbvt60uadOaVCBHRr47LK\n",
       "DzHFjATMO0QeVt3twAJlGeH5jo9e4KQI4C/UT+7tCLgIIloXkkQNDdFiqQ7eQDu+6Fyf2D/nDD6Y\n",
       "1tE/zg4DHwOtCvixWUK0v2SX2RTlOFnFDTKrvUUs0M0YXN3lmdh/+K+n7TPYYV8FCyPrAEGPMoQA\n",
       "Ia1W3/3y8hkLZLS7Z0WH3GkfwE0/CoxFYIRBVxe8abzayfhz8fjMblWojxmAHNlM5qer+5iIxiRw\n",
       "MIc2UTPsyYS1wnPXydWC6yxLwKKIYfKgUi3oMrqeTRSNUU/+vBbKB0wAW15MlW0YV41NBc2zXJ+v\n",
       "jNOkIpdbLV5IhMIcfsIJCSmuMF5kC4GMfr1KSQPmyc0RWc/6trSvnYlPeQSVa9+9MUrdt1KQAzZ5\n",
       "FzrDBEJtx0dIZKFqbiQ9wdoxxd/KT2SvSppvJYFAvfrqIVdw+uSf7F7ylcX35RHkZjl4hl4U/Iwe\n",
       "3CRDKoagisEHVTR27oijDEhICucCRL7XoN0oiHfbMS0gT8Cg2VXtPrnN7wHsVAA15MadDAW4SleC\n",
       "lJ10/ICH3IeIFKsjLJxrGgY0zv2dujeK6u8Jrdk302DNnRZmpRMFG8hfBN9Dp8dmv+M+iXD/DE3J\n",
       "lYJ3EeV1N/yAk39HZfe0jYphj0fb2aedwR1bLXVdJYruRU7hLnAFts3VXtw/IgjTXJxNuMJ9JDoF\n",
       "YLcxsARy8ZhywKyNuwVW74PMU+RfwWVvOSVFvpltTkT6PogW8bOzndSlYuXAckFZX5LOUCcPO7Eu\n",
       "NUUoHHtwiw/z3jYkQ6jYOc7pU53qnKk6v53wehnSTtn2Knw1WN7W3bkoBAS4SSyKsEQrNDqRPPf+\n",
       "9u4BC2/n1dCN9Zrp4PNW0Z5n3jzeT2ALV2Krozja5HwgjO/bpdzQcbnsZcQGxotvOKMu5JaJtU0F\n",
       "8Wecyz9VqkPrqTyXezvPBdrRl5MbNucJ1VAAWzOWqXBT/QlhSVdCh8q01qcYGeq2W+CcX8E8g7va\n",
       "oiKn1g5mDuLiPCEhjdlCrsY9a9t1mbRXhJ1Aoi9pTPpTybpyMDh9S3R8Q1Jgs9pIiWRKgcG6CoOs\n",
       "j1134QYAfBDAFURmKpDtS+HK2spScwOVNhkdA7+TW7pPHnqBP/ewZnC3rmyOvyT6IXMLpH3ApQBP\n",
       "PLWAZsd3nc16lRrM/uhPXYfTxdmvM7mTjyLWVRvs5EiMXWbLOpsaOg+SqVvawj255sxcfo2XSQeJ\n",
       "Na1gK2p9A3tKEkESXjPByfUJEMLLolEwLfYr451z1ix9RVAEzQx0+40hPgPltQRPDnJsFnw6hUtx\n",
       "2r/m/1HewqRxmlzwk+AayM2Umfv2S+j856tz5+so2uicpSviGk2t3rpy2m0ylTVduMtj1jNd/f6d\n",
       "e9EOVCoMRQB5e263hOp6lixltufAUu6+y4g5wkRTTMBcLvUQZemsGl0ITUp4qUpcHf6g2QYMtW2C\n",
       "NUkAzQ7kQwj+fJqy0mWf+Ni5gArin6wlEk/usxdA7XwEClfPdmWTvT6d2YGLAAADjkGe6EURLDv/\n",
       "AAAbMEZq0hAT2BYFV0vKgAmlU4B/TqRfbtN98rqIEqs0WCD/DC+5OZyJoYaClNqabYLAmx1ko+Pr\n",
       "u6ISojg/sGw/tYMXdEGgHSatpcHMyqZwZyCLnr9Mwd3QztTIlfRSOF4KUx0oQaCfpQkwrwobUm3O\n",
       "+VTv7M8S0wHouVhCwdJ4VCgcNg0m6bJ+aAzs0+AD7b6GLPVHTiKniNQM6r/63tmL/fmiEBW5bnZH\n",
       "mD+DzhJ7hA0BUKRMSD+f/5o7aQCRWep9LKLx97p+OFUFbDT6fevDxMrAKnvbJf8NeZmnsu7ix1U6\n",
       "rKqE3TDQv4vp/yWSBCd7wjSEXt2OILdke+d/+a6o8jAyRrCchp5m7U/0SG4Z3rH3c+6ByEH5IGmC\n",
       "H1u2sHTbY/FXRfGBVjTo9TQq7Hw1ouVclP5B1WPrs7p3z7PzneaInfG523PwY4X65giwwryRQD3V\n",
       "5dtO69NSub8kyPyp3aGgiZQwwgBShjcm+qXwgHfhW0UDCvQhciFFYHNgGh4p2LiUdsSGH2r3tf7C\n",
       "sKAXnnu2kg2gQDhh5Vz7OahPVXPipbkAOpmbGLCpuf7USBPMwv8PbuBHKxpqs+cOfJVUHf49yt5A\n",
       "PnqmqycdUf5XTSPJUX8Gq61bWuclfCykx1f0F5P/LkN4Li/7/AqpncXdaMwznpURPru5y1yzVmlS\n",
       "vnAMOi5JWWJjwbvCySULNA1WgI8jw5vkUJRBioYYVTcl1qoQgtG/zvZPafRyCi/igWaQusf6k0HT\n",
       "FwfXJASxGDW+NrDBiQ2inawnluGIdjdZGlkXLjfQRniV4poyLau1Kdrl6F+3dOHCSd1MCm9b9rkA\n",
       "Rjv8De5jNLZl7pLjVznlRt8YHXVqx9dhyni8Cb+u9mqitOiLClbTp69DZXT6KqXNfKaLQ0u6zCPW\n",
       "lZkHEKVJMceN+Na3f+i6LhAaNgbwgdjWlPFJ8TLPJnJmOZE3s6SpfQz4+ptxZPQ/laAVGN1t24e0\n",
       "ULU/qiexHEFHvpPBDJ8qPPlBK2tB7Xi1Fd/cg5IwuPo0rJ0LeYa9U3TJB6NptYoqIYxxOL81Y0gL\n",
       "oUpi+LZMRgjm+m94qRY12Dat19hEfTUG8g0jgT3shsEEFi2IzwJZtZy4mu2hiYs1AZjE/PdLNEiw\n",
       "HgzjUUbIWMLYZZVtubMCeehWI64LRGu+6jgmQAlm6f5aihOZmBENFVThjPUAJeAAAAJnAZ8HdEN/\n",
       "AAAmt4WFt7IARhq2WhNXtKfDui/1TdOIpSeVMLh4sEHI+ulZlWXNRCe28H5hgUZbeVBoqYGTLTay\n",
       "hKhL8lnNRjV9Jwxih/8BvP9AS5U98xRa0dU1ZafUyOACzaP6UhxBWaJHpaP/j2ZOLaQFLCyGOwyg\n",
       "IDnzfyQv99HLnsQtklyahRCjai81TMHZdsMKI1Zxkw7YF4nGNTtf/5baatjjx0zPw1AB+GdkRLRu\n",
       "En/wcpac+3XxskYVkgQ21DD2EmB1YqJJkkEGQw07C+IvU69iMy0UoPkVcniBaPDsl+Y3p7Cps0Ld\n",
       "5I9B+xH62NsnuxNup1rO+1BGSXvNF3qMVjdgcUti0yrGylmt+e5p1hTj1+jKfgWhPtXnMXAXx8wN\n",
       "VPZC1PoXZqibB+/xx9Or+CiBmiRXdQr6Yr7YGGtJiHzU8pJks5QV5vv6ww2oiFU+gKRojj7OOGup\n",
       "ujojZMJBlhdO0iLRXpV5Dn3yZjN7/acBW3EEtZKG9PcVArXQ9XpqAMGIvvDeVeR2aP2Srwjdmzyx\n",
       "5yv3Om96at6slNfqZqbzXFdjRYHSQMkgiaHafyX0HypYiL7qDZFfMbd1b/BdSEwDuB0zvZdiMUnb\n",
       "KixtdIdsot60pz6geDbJg+InxI4dJYkBVIImvjtRb+R8xyD8ODcPuS4NSmZ6fF2+MSA/EGsesi/f\n",
       "SuKSnXRxHVqc4nwOhf1SBHHo07UWZXNlvf+WE+jKGQNb7sTQ2nQKp7MEy7F+9VNLj4Te8KOk+w5H\n",
       "iNJG91zF3IDfqVeSWxBg17b9rGCVQeypb92vaxm/OYL2dWsd4MCAAAACjAGfCWpDfwAAJrONCJot\n",
       "wAI2pyTUj3GZGpaKQIyE2vPN+rLh15MXQBI5gzHYP0EknF9rTa3oGZA/CFzoCXMjYIBhmNwgDt8s\n",
       "9iZDU/4DgVSFpL8wGrwZ16l/lVLXEZQiQGEHYBdkBcywl7RMdALTjtsAXsdCi66R5aCVmdYwJ9XG\n",
       "/qK3Ueq5E2UczvpD2erCLeG81p9w3V4mrii4nLyxqcSpfGw76XUMpCCQf8BAeaw8UhLiyFrn5YAu\n",
       "PKlUfHVx/2Xl3xNa2RE6MIuUundDlcPbJcWu5FFcCB4/GmJbpAnZ+GxVGbOjqJi8K1Ek09nLqtyJ\n",
       "oeViG+QUgYiiq3kcTBILqoDLkuIILKV/3PICEvE30W8JWemyq//YjRpMVBcpe/wPrx5ZxAJRdAji\n",
       "9RVj2Wa4oSG5yQmX7fGyysVRIyIx+0/3JkpJhNzslTeIKC8gu3r5SdDsYuh/9OVZK+jvA9SqvJGY\n",
       "0cvCyeTX10AyUQiQ9A5Sj6cDhQAAAwAAAwBEVGTxueLQCRhA0AA+DYlfN8qFvt83AxOfh8BKR14A\n",
       "7gZH6RS2r5d9k0ELEHsCn/IX3hygqkFsPV6HUCa/b7Mwjz/YP656KxcX+zJethLkpJRY4KagMDbS\n",
       "iJ4xVB+JXt/i06JjgnkiznVnSp+G30USPfvO/bszUNe+KY1Cm/yIO2vHdbe/zcASoi4iGgT4ABJ7\n",
       "Hjo5UsPzUrcGoKkMhjrzgzbn5bBR4Hv6gA6uj9qtKsECm3UQaczjI91I49YT8OJRiaHl5sT1n4QY\n",
       "1tDtbvI1TD3lMQy042k3qY30NIWOzE1XwgybjV1UDOgo0aO9rk7bDOJvXZebeLd8esJM8db8s0vB\n",
       "8SEHzyVZpfLdCPkAAAaaQZsMSahBbJlMFEwR//61KoAAF32AsfzIgKSiI62NpX/j52EoIEHQBit2\n",
       "tZa2S69C6gNT7Z3UI5L3j/nlspK2jyx5oM//x2UoJPTK//fAdUCWL9120AYX/x0uH7Z1FrpWsDlP\n",
       "lkrAkdNE+AAFmYN6uDGqkGE3w7rzp/iZr/w6SzKdeQUJU5yuC1plBmLTirDrEjMsAID7GWQX6YAX\n",
       "KS7YxiX6CbB3qkHMzC1BomcGjjOuVrXJmJ8eNdEqV4FNYqnX/P19TTHBZCsMUqEYierbCpPRe3iM\n",
       "tRNXJ6gD3Y0TWKZndgIr9EdjiXc33KPW6nBiAdPjIzfuqOi1slMuIV/JIzqqJIjwaf/IlA/y6Zet\n",
       "SdRwBTZ4gQadTjmEsVd1M1xNVSxDE1F5GulG5LHsFpkUtksP5u5RqfX2cQ7D98i5Bm8Unb3piMBw\n",
       "L4CyikPLBgv9zzhZH3R9b1zHzdgj70ye3zzK9V7VS1sMOyZFMhKAtxT+fgS/yJ+WzRPPwdD6d+U3\n",
       "M3zYuSeF3myUhpScv14BKEVU/dVki4xL0A36Ttqt3BNObPCY1lEMIw7poeXrJL1YWBMoS4/ftKnr\n",
       "XPuZO92arblU9qAVQHw6eIrtQdWCapy426qKkevLv+geHnaPOWRtF7MsUJVdLqtvP9J9rop7UTGH\n",
       "hziUMKqFkp/wppEumXk74eZG3ggiAO80dRgf9YZTs4/AtM3n9nOPLtt0HCwSdZMvLOdLwjg98K/P\n",
       "dPPr2sp9/T6Dk7CDYUA/4ZGYMl3OCmj1OvUHszMWFOzI9pXntbBKzCw+LKVqKH00tHfbauKOvC+g\n",
       "C/DmicR9tRyBpfXkwpPCj5uuXPpXzn5Bx51d5Au4+vRBuKnN+hCsY5TBg1MXJAn2nN1w3dwdD8fp\n",
       "dNntJZhwp2292ZRn7oAkDijF4rIbqqfNk1fhqbXljpoDImgRcXVquNXcM3B1z9AAc49mCtXyoxMf\n",
       "EWQKXCOOveDixEvrN6j4XdiPXZRupzc7F5Nz3uGosB/kTA9VKd0xreD0bxtj6sSM1WuwJnwGanI0\n",
       "foLxlJviLCO3zVmCi+tuiywDNZ9uHycCMQDI4HyUszDhk/wV4LZnm9w3/pVxz9dnAn0zhCQEfF0l\n",
       "dPuR5Fe+zcS5ouLaJkcO5RfpnPi0yjPkVENpPZ0ICYtcPjHeeR0I3wNkMrEpQt9l4jZAEzfQjMU9\n",
       "PFaBHM3wOfy6oEUefhTYKQRKl5w5kRZcYCfedL2AP+8QyFXG2k88w7Fc3/i5H///lK3/8H7dZHoX\n",
       "UikvkYf22wOrLRx72udIjSrNu3HgebyPP+pRYDEnQONBWqZ01IHt9DNmc12QUNRgWNnQWPKsa9BY\n",
       "l+GpV1GRgPWi+9LgF/KEP/x9jZuUg3UpxZpI457PE8QaqNvH9zTibu+9OznYcXX0sKrDMUDCyn85\n",
       "4RLzfytzNJbi4iSrZod8OOdAIHUEzJ/+BJlDjomC9fCki7OQKw/RNM763fPu32gs8warQL3Qdj4g\n",
       "QzFxOAt73szBQIdCbd6tr3wqiti6yS8QEDjOKumrLdoHEhck9GXGBJRjoiGRQ1eyrqTj9wNaOeCJ\n",
       "Skn3bc1RDBDyKwl8NGWlW6xnOKJX7imYgmkdcCWDWVSbNySXQGaYP+ogrneMAD26VtgsK6qH7Mw/\n",
       "rBw4yHZyhsn83wLc76qb9xRC7heyCpnPP4dMK/Cqy632Y33OWeABkyiU+VWPoSLtyhi+CASD0KgF\n",
       "bVBDsh8E7lCaPv1l9fd2eMPvvtJKbAM/AkLVQsthFJ9Ioj8PyOm0NlxRBrPAQ6HmYz/DoKyX8THb\n",
       "B7hpK04MtWkGMl9smqGHORyF/q0SG8XaW77IEvxtk6aIb/MXqOG/UF0bHMvR1XsfDbENa2R/qoGe\n",
       "5d7TOQmsmd6Vl0MnELxHq8pCHoPoOfrX9pQ689q5oxWeEfC2d6jk7uFv6uaYXOTMs97b9W18QERL\n",
       "tnAWiD6DFBoQhzWOEL/I9pmC/lT5So0QUkpg2xOBdrJ+L0zTna+YGNOujeH+osPRnOBZ1Hv5uYXZ\n",
       "lIgLzRjXP/Qhgf6eXiZm72bJcQ6XbXmjYLa0565gPt7ow+UWJsEytqz3s1fYjgA77fC4CkGzaP1Y\n",
       "BqIGgZdGFMTusgw/ZtF6GRnhzLyfmsG267sgK1PHA5ab0VcB8cQ+bM0AkrVw9gFDKy9TnYL8c5mm\n",
       "XkKfojCRBcpno4zS87spJedZJVpNq7V8WIwar7p67jx7bK4VEfj3fj5b9LlpPP5WQToAJAAAAn4B\n",
       "nytqQ38AAH8KAowIANCMgTXC7Gm3Z0RABpUY59QNf+/zgQ0YlPVFkBlJtPl+TJdeH8MDQpaJQ6h/\n",
       "0lu8H3YaVf9De7FqkNArfYpxwnKmZjdM7pQRJLrHy7J3OG0PVtDCjiy1wVKiFb3SZrmGNh2VhvSX\n",
       "QCt5u5nOAUtrYy81AzsytvwF8Vq0FT6drDZDJq3r2e9f64KEVN1NZmxwRN5JyWxrW4nZ7v42X+Ss\n",
       "KCzdnWVM6OGgkN0dGTYHD8Lc2n2BoFSmNpa/98HQ9cYcE5Bk7ww7zfEDQUvhiALr9wMpbK90OjoS\n",
       "cQOiO+Rs0js0Zn5ICUKoXIGglSUiffGWTG9oq2+lLBt6Y2w51fnGkiRv2pqE5BfomRUHqKcrzZKA\n",
       "pRr3EVVLZ9GuKsCZIwEz+OkZMN2DY7QyRy1qcmQ1rblkZ803DQFsSBjRmrpthBas2sgk1VaPSAc3\n",
       "mqItxO1Nvjyo3MAZ2NtNBxtGr2Fb8H2/EY6LJTFLd6LJ+RB6TBx3Lt8MGVLdqwe32HBHKIcU1U8L\n",
       "DUQQ0dDXFkzQe1rp60AAAAMABhsljA8SnpxnaV7GjArSkGBdgrLiGrxZlirXzssMb0JfdKUErT5T\n",
       "RC/UwkNDuJi++0cpKN8dRJqDbjP+BH5tW8iEHCbBZOqC8yh8iiTlFf7sNLBiJTFFXCB9Iu1raQAS\n",
       "boEl8EihFHmadCFKt/kDYwM6gkZn2seF9QeYUVia6IWmfoMnx1s7RtrLGtP4RSCjZQmWBAqzLiTI\n",
       "WQ528nQhMB3lNZSjMNlgEGzy1Tl8HNdLcNxzCDpakkzTxh3TJ/MRsVDRYtg4Y7mOZANW3QyC5dbn\n",
       "VyWE2aa/rPARcAAACCVBmzBJ4QpSZTAgj//+tSqAADQbg/gnYIAoN6ZMtC37xRXH3mZlrZ4uvdwF\n",
       "1/CmeCfJxk45sbcn+AYx1U1C/7ou6zGOdU41uA6KO/eXcpZGUvX6EKUbWsbcLAoI7NCEBPl3MLfF\n",
       "cU5HFa/fd95R2WNW+G+u99G3My6PaZ88OJz2EqNEdfH4HOzR9c2FHO5N1FEz94EP/jpiXiQ3qfYw\n",
       "lAjHtWztkYw21U626fB7+zH/feIQB1ysI0ZOiQOda5juzpHe9OFqc1uW3zQseDsajrSfrauyFWb2\n",
       "2PPZLAhGnYhd2d3IPe8T88MejjB4aQi6/+4QPyIJx7U/zYDcxpizdhEvPlN5ipYp/2X3OvnLvIB6\n",
       "voedKsSoaRbdF4KmdDTKVtNCB7UIDZ5xdyOeVRNWzb/Uy+hgNMpoSqm7fYVluLdVz+tCbDrhWDLH\n",
       "tbSFZ0P84+rWZo+ydVcWlk2zNQVkXBh+9hXw2E2J32FBd88VReucAZk+ARi1lzga1LpekTEZ8ez5\n",
       "yGpWli8gNql2VO9pi8yQpuRPuZlvLfk1iqUE55cg6i29H9JawKNCTkZC3sfiGTBfbc8ZfUWtJ1LJ\n",
       "iPGFzrJ331FU283Gm2dgjnaMNo8FehrOa4xG7dEeWeFAN3hcY7e0TrFnM1aGA+t5gNVOFD1gDcA5\n",
       "rjhvr4EB9SmIXcLlM40jODLXpS9EzgEIjRqORJxtHJz/Q0IUHAPiWthnRxwW0G5YDBdpC6RdeVfQ\n",
       "ZaEPl9O2nGFu6ujG6PQc7a9VuSdIHWA1AQldu8GEPySwP+Q/5rZNYmpPtUC82xHjj4tUdkcQe318\n",
       "PiGEY+AJcEDsiT4r+6ViSb7Qvev6ykpDC4e8pGPYfRjaUu7lTENWqW9iBy0hKQSVF4gaYn+cardx\n",
       "uOASUcokY6nPKm9utpdyH2nQgXo8n7H05Kupk4aczA5HEfRg1hpKyLYv7W0oI4KdOdifH51GdJ3i\n",
       "NxntS+QjSrLFWEwdMQPsISvUcm1RvARs6Evpcwmrq4ZVIgTbzciscEzRBXiIRK0vFFwYrTzcWSAA\n",
       "FOwXV8UJGSsUP/5uOKHiwbFG69+VGmj7KIIf+NN/SFRrodb4f/TekeAYGBQ1vp1QjU6tMyA2mleR\n",
       "MuJ/vB7L9dUd6Inf43Ag/Wjgs0zu1JI44faJFYwZAvrnh0w456ZOXXPiERc1PsJ9mVFS512QzA+U\n",
       "874HXkUaQ2WUHNKDTu1h+r2tdgHvORmMkfT1rx9Twa6xniplQaJnQ5zyOkasycLmMogsnebWnhfs\n",
       "vdSoIGCD2K0/tmzuvVgWjTTLwtw6DAvYsTi3z2/qjKHFcDueJQQ6ASniIp+k76wxdZmw8ESPynKM\n",
       "qzY4LTwXk8WfOBLKBREn7znYZBUiVqU8ZLaa/zXTGhMJy4/Ryl+jWwPBShOI8ww7Lo2owKx+BBq/\n",
       "fbh9MYO5BvBaZ6Tr7PiEwWmRhpIQDimpzM9NfBb+d4aYoMn8KnKin0jU0CeRiFumKCEnMYuJpgUm\n",
       "vu0LeU9I87m3lw+I2y4Yr7haFMj2GrNgNyEUVwHnXDXDk2NjEnLePLEvAQ9taB7L34NDLvbUOjzz\n",
       "MkoNnpZjBAFli6iC/eIkuNe8ef4AXOXTVCxH68WT6JGRNzE8/4DM49bxCO92Ksd5sjV8vwcN1+PM\n",
       "p4abX7TVZXukcGeQ/6KtCEtCCQf8zj0kFgt6P5DRFfEiDXv0szL/wrdsf5dVH6UhXhvlC3r26N/K\n",
       "VFSgUdOt6gYNGWDvji2T9bXAVIjpPpmKfI6QpmCK0qJLd3forjbin2DHvn0CllZ3fN/Ou/NEnZd2\n",
       "Ue8+XrOxSt0h4lNE+S0Cx3ST/zKcW4HT5VNOmX04i+nx/2Atz1l60I57lCJnC7QOeyl13IraveTs\n",
       "0lykb/DouZgSPNmswmFtlgKrrMnN2rL8Ees8uaXyeq0IHEtBaMuT2oSwP2UlBL+VO/Xbwzp+htwq\n",
       "QeuMAANg+MhVBnVC/tsakr3iRHhdHF5xCQyhRgtbcvhVuAx2T/KCBl2VniGyye8HNN7jy5qOnrzY\n",
       "SO68oYiQkZwnlbnzfPCfOrNAzNxbYd6f1XKNY8edmVaCl74UZ+/syTl1dCa88d6KLEzm5cnEu/Tw\n",
       "wws8BMNt9zuYpzFFFOxzUfziyJUZIINKUw0oFv2OaT3yR7cbQ+e2zsO31DUJ1ZBwPJljvC20MwpN\n",
       "SucfofyWV0n1aJcjksh9Ajy8FUhTrHu+3W+zJbbyTdbZDoqn7659vyDfzIbgqYu0k2t4yCVAJUJX\n",
       "ajDhTDbsqRKPdpmzxq/iEjK/j4kMISJDdYvQaKD9AAH5p/loRG47AP5tF39llVoEbVES0ehxI9z/\n",
       "yxX+2/q+bMIZMRiev+zm0NnaSogaYAO1l1S6wZiTLHx2GpOBMEVJ3QAjutnRhDTJ3ePmc9J4DRsB\n",
       "DY5t1nnJvhNEuHF/iwHvG2p1HRSkK7MlhnkKN9Lb09CSgUyu79fQ9TiRig19LRCkez1eLa0c0tEF\n",
       "nVEh3MUc4qTGGYG1GDWfvVEWAWBl5Y/gZWfSxeMWSyhE5OLu1AZO8Pcz50GQiqNw+o/pzh52a+aj\n",
       "krBkJ2So5JzX5llBrhtdx5p4VxSdt2Cg0pIjUXVLcnQCpK9ZpKOMSZSc3HNdaZoIO2h1q33mPIz+\n",
       "AnYfIdxf6z4U6/fs485Q8iaLf3nNCQl3hub90yikQYeahd9hhauU0XQc+RZ0Wpk4L2uqWtdryG6u\n",
       "XKqFIBxeznQ/E2UZBNHe0mARqJ+tHS6ZFGQZijUKIwm2IdlGMST1SKSoVf9kBQUAAAQOQZ9ORTRM\n",
       "O/8AAMqCP+3z5x/m/ejdZ0DTPgAXVTYwqGgUHxmYp87LecWa7P6FXrfxh13HFDOAqg1UeNqtXDI+\n",
       "ioN+m3n3O4ec7zrDkjFRjrnMjdwNMJCZRX3DYioTHBCznYgjYGO+JqSRYEU+wjDC8qz2vgD5AO6z\n",
       "Znz/OdwRHXnIK4dikmunFLnn34GF1YrTIjQpfBx/qbe66ot1suIWCCxb3eoEhomcGxriV8V4nX1K\n",
       "hp4axD/z0FbW7hCmxfRpbqktYG8dlkY4xSeO1ks88LZwfztrOtlKFPg48dteploT+XHCZHVTMjud\n",
       "igJS3Dv1J2CeZisaNzQm10pBYwOYXdEA5BeeqBI4jQh3CjLsWuebObNyWDgPAYlzrzow04ahg1rm\n",
       "M4jfgHKxFA2gCWZSDiLlOY4ph06ktM9i4QzXqP93BlsVqhEo/k3WWvtg4WHCXHS6V182IukpCBcC\n",
       "wpH3nlwCwOUueeeoHjZf62NLRfQqarJlDMK9MOkbiNLUexCGDX3E+KoMcvwbpm02ODDFyz1sUS2m\n",
       "OknP/rqZSv5UPZM6BViDx4DOJbRaW9whyR00ByvTgujK536aG7Av63jLfe/Awh6DVVGpqf0250Z1\n",
       "xqdmvV3qxx/8GuLlCPHSkwUJbEk7qZuqbfjVo0p5JP44Y3T3HOWVEa1+HgDmBmbuofEq7mb158xW\n",
       "P/QNX3S9xz/78hQDj9sD2kV25Bf0sFvOl3oXwP+eGiZHoAaR8gKZG8wAAAMAAMaGq/2jp1f1MWjo\n",
       "dnLowm84haQj6Skn+fUQ7BwMd0oEkWTC3qQTHbqi62H1YkDmL0/WfkUrGTtf9rloeYy32hHPFjc1\n",
       "SXNj7w5qpSygfZxoAhqz4aUdx/0IaVno1+sy2inaSevJv9YijSAQd/gbaETKMvkjavSeOPAnBtSs\n",
       "9CDE2ncSGifCVh4iSaYvvDYsASmeDFZYIYcElh1erJcptmDE5EnHj01l6SaupEfZ5SDNYhYVx6y7\n",
       "F4EhqkkmN9/qu8jVjcoJwrysM/4WdJ9+s3AWc9vDe4oi36x6bfjo9tR45q4J1JiwbqhPa4kEznx0\n",
       "a2SZ735XLk3sZ/PmIKBhee2nueO49K4SbLrOuGRtkEgRhK//vh3zFwVH/3y+M4fjuPA+ADk0HW5F\n",
       "dqgWfUhhbf91u7xDUOk+3dsXX/4AwDN797WEcwZYCIrXitrlq+NpSZ2dRs0ieFLJvj0yT9syvvFy\n",
       "0W9C6STm6OrZit5p54eg1llGI3zCbNXEJ0PDbepbuJUsEj1Hw3pVcY688Mh/6mr39ngLIaOMfRKU\n",
       "kWsB99wjWfo9wlRA0twm0IQ/07NuOCpRQ8psfYKpVz47M3yWy1Juc2STriBt6Y4LS9VDdkUvEIpS\n",
       "LvJ3gMqBAAAC7wGfbXRDfwABHbyG7pUKfszUasABOR9SCKKPXhhUz3ZqWHuYW4WLnDQKk+mj3sIi\n",
       "T3ASUG1At6ddXgBIlT8MClSbXvLTb1A7nDOYtm0LqziXfaIqSSoAU0OQtlsthQn4U6qbMNp1BDy7\n",
       "iYnsRFpz0XgRYNHHVtrI3DlfoNqmtywk6rYGogUHvFyNtlqqXpcA5i1sn+wg28cq6ZuRIXC9Dpfw\n",
       "25ww3EZ7pSK2LVkGX1VsP8quMCB3p4LVtDoOJ4cHibw9ZgomeSB2Q9Y6X6tCJU+uqRdpL+i+7XoZ\n",
       "WcvMzM7Wh4iZpmxK7Psi1RqKpAfT3GGL8AEtBD2s9cZM0xX1rXNjjdvxxZz+Ht5DdNffBvAjSC+p\n",
       "U1rcbSb3p09oe8AMa2GYVVx2GCmUtjxppvNt+r8Kao8IG8FHY1DxPIhPKrQb5yC+ewIGDF2M2Wdk\n",
       "IOBw0iVfbLszil+nlFQBcosGkuYaE5UyPspew7hVarO+23fo5SNQ/bU3E0nn/rCOeEmPA/AlOd4/\n",
       "PNuJZxpXZoCYfMN8ISG9mMXyk3lhedPRJ9cfKmcfzV3MfXSca6ihBmGevuJ3f6b0dzuik2gTKWO/\n",
       "QFk0w3WRKgWaMgQOQn1VO95b6Kyj/duTiIpBu1XB/FmeQKuy+oH/fZBhdUBLa6O37GnSkYPu/Jkx\n",
       "0T2C2NJy432Bx1fg0OkPz1woSzimW8vtQWKwjnjSpWKGybsg/z2qxr54WkcwO9emoi7sxy/BItbt\n",
       "1QC+Yr/gAl/xSPrAD350LlAz9BKDDgEkxGWnw9H1a/Z4uHuQi60wzTXpaaT7KAU6RyLV+m5L8gJj\n",
       "i9GAyx3Oxe0ypoF7bmuPExTfuOPA4QXutC8lfsUn/+nduu/ECqQQECVT/TXpyRu2zq5yPOQ61nb/\n",
       "YTWQ96gs5uGHcaZkJdfVuR5Msd8qXuxGdEnmo1euXheJ+cKMxyx+lHyT5ZZmFg5pZ3voVITITdcJ\n",
       "FXPFKpdK4lKOyJYllYa63vXVCLkAAAMYAZ9vakN/AAEdyL6MqflocNM5ACIgALqrR+BhcTLoQ0Dq\n",
       "vSMVnYK6jKTOErH6n2JUhOkHnwG1ZHjoARllWwuhabGb4bWD8T23PjAZY02NN5wPOTXFTRCRW4ZY\n",
       "E2PkQjuyznIfJP7DfgsoT+Nm/pdds+N3Io+ObaGcvmMjbdIfhxTyfp1dLkXedli18G4xaCH9UQLM\n",
       "0Y2AT1fyKrbGkh2X18BuEvjbWUtlg9MVr/1wbYNLec1XzoBiYfSdC6KRdgSy30MDKUf2ocY5xFi+\n",
       "4f74V30RoXQdQUgdYPvuu+1fihlPJhKG3S1/Ceo9lpzRAZWXx832H0mY5cqrcwjha1TO+0hNrnpy\n",
       "KDgKvw/kYaDQFNaMegUBmTcKBUVppMMkdgTw1AVg3qTE5dC0hG1RfGkIYRtOrbEwyymxB9ZI8aoG\n",
       "SfG7M2PA8hqkLenXw5M2dU5ChS6mHrrTzVvfGMRkRXeZV4YLxfNeapTTP1VGCoIzEYEZHHhus0/N\n",
       "XiSiqAli+U2aC6VzJqHwtk0dQlOD0Zmj56WRxxZZ0gLKMgD7y/7SWPTPIp//yCIyin/cKpmpzWSj\n",
       "9w8P80vVE3i9fJTw5hCyiw7N3lm5Ukcc7swSPAPaB0gtVAkjazM7/6aqmU60W40jq+WmfJYI76se\n",
       "OgdUkjAF0ZTJ3JY60ClibVhnJSFsYUL4iKyjYBRVqQCVx8K743oG2u9mihtcpDNFNOa8wxWexaGy\n",
       "JvGsIzdzea+A9lVU6ntKYLvG2kKxbdFmOK67UDCBCIFWgso3B93NnvvCtpg8tCS5iyarN3HcQlls\n",
       "ZOm1xEhyCiewptvL7llUN1SF6pD46cmr0t11wdu+EAAPMXnWeB+NrJsXHWRSb5RBZVdrmFDEbZLR\n",
       "dK+G9oP7emVs6ySgMN656ZAZ82ZeWTwc0CRTnFbhDjmX83TyCbSuuqegUG8nkgGMC/QjUjJ6PVLH\n",
       "NAi4bo2PxWo5LvX9jYaFvxd84nvmuNbCatt+IoKjuXz8EG8jTGfeKyqncyY2zybxcZm/72ytW+7X\n",
       "Jld0vuHq4MhOEr+crklbvAWUAAAIXkGbdEmoQWiZTAgj//61KoAANB8ezWitv0WRxBAQALhowx++\n",
       "34LI7ye80USiXJdsnk1xPbnc8i6b13m+NBd2OflEF7Qiqbq29nBvFRfdN8ETka0a+naygf/w+/Vv\n",
       "wyHwn+gkWQM3SUmmRIMFONV6kKuELf5dsc3yl2z/Sx/+qmS9/bQ2IvDkshJ6tlXqlCVRiLunfIad\n",
       "wBy7vIMBHQVIP/uXnXcScenoeDmusr5qCb/o4K/B9tKZSbnlFGKYh54jFLDB/pyslZSEZWDlipib\n",
       "vYjQiwJIJuMywRamJ68h2Zl32fGdQ2oC5Vii5lMoT21MkwG58M6XLwv88uVK72eHiDspcboJ6bRr\n",
       "q0Um856ixcG/tGLlL7EDKRcDjGmmq1kSU9ve8gIi7P88XFFuav8zsRJhgJENZ5oLdJ1GOFOxlicK\n",
       "kac8SQp3Paqw7cuFfF/ym9CFg/ftQGIcC1K+s8agJVQ+hO2hP4lA4vLbJop4zzOTz429gVPfHrCT\n",
       "Nwrq1LmPe630D7ncGlA03XpRQKUzYNQtO+oMpJh5SfJ3AAq2+kD7m/pM38C6lZxU2yKU5z2TzE+K\n",
       "89NdFFykhYE0Pa0+RkZlxeVaExQqv1wSKRvhB5dtsnNobbOFD7zw1fQ46o2PdoJ3HL8u0ScWHaVt\n",
       "m2nEVHDodfW+nv85uFziyAK7QyJquEB3CHXdChU2vvq/Sodu24X/igAM6eSTN7kD1PxPLigFfvLR\n",
       "EVASxkagsv0vkfouAOlpo/UnZZooKbJL9Um15p8E2OrNEdW3y+KjurCT+hnAFuN7QSawLCMAktRj\n",
       "W3hN/rC85/2RPVK8rx0H1VW21BTFFT7TwQsGtEwdpGwD3yNBakrONMzpz44IFCSLZYblf81QIrxA\n",
       "AsXgcw7IRiiA3vAeeNry4K2RpQ3+DfzfLrGCf1j756YLRHoR7ymnP71JgLGnLSftODle0h7fJ01Q\n",
       "+ANrjH42EIA8SE2yCLZNUvoAemgHsDH22829KDavY4N9YuckxJz0BZ4jRuCoQ1xNXV9nxVpaDLIS\n",
       "RpMG9LgHY0jL8J+kydXsaO1QK9I7YJnVyzwEBCxZeDO8nFJFMqY3RFH0VYQxPnHoOOwlLCzvpKUI\n",
       "U9BFoAuAsgZXsCppmY3CKJnL+SM14jOCqMDhgVcE7ZcSo6gXnPtM2WpCwLukXjBz9eugPAyf+FmZ\n",
       "C/dVjnIk09SdJusdeEdTn2ZNPtB6/yyv2rijxTH1trcVhHjiDk8RmusOTSqjyw4wwx+wJcIDjvWP\n",
       "8mfb8EWi2rg9SM5RsC30VhrwKGuN1FRotdTxJYH6/uuh6x4ts7A0dZ+/MR/+ZM8KgCtpgRb2Wu9R\n",
       "bRC1BS8+I+oWyIqZQdALLzDZfCBGi2lqFgW5bSgCPEt92RJ6+bv0WtrLYCImZfE3EBkT2wmSP+TV\n",
       "pD0ByMIEB6hkXX1xu7y4hDVNShctxhfa519rQLfPSNhlyCvQid0bkQHrpDdd5aZnu6mA0WeZmW7F\n",
       "PfNbblbE5SBZRH////y14+r2UUrOwpslVnGij+Ha8sFa6dspJCAxyjPazx73crwGv1l2ndyBgpeM\n",
       "DWjoZ3ya/a5uQxU68K5fBXrzHYSbqGPqLb5Am4aDbH+L9mIJTOiUVCIX+/Pk4ARNMf4oKzMxpzvx\n",
       "a3J2B11zy6DYaLaGpJooAVnfilbR9BBef+PtueTSV0bkMUG9427Ln6OyoIaCEpkDKNekfIaAkZsK\n",
       "bEo/zHtPPqA5Vg0uuw4tGzDsFA5kEm170MFpBy6pQFJV7IDwuCexHSTuHvOLGmTVeH/YwMdwL6vc\n",
       "4g/amDotjDTzO408VyGZ+fAkqWeox2lm57Zv1tcrE8BzqqbmvT+BOcbt8ZlgyOAuFy4rHE+OJnXU\n",
       "9WC0Xc+9c93pBeSE02sdgpsLG79AD/XPSo13MyFRIyhANbl3X29Oz/NG0Cr/GflfeBry6D8ItIP5\n",
       "Yndwx02FFNRPwSv8v2mkJdxt4Oq9s5Sp+yJQR62hNLnxTy+W4G/qAh+wpFeodYbGKcMqCLlzdnjf\n",
       "w+iqgOIh40/Aw09iaM/RUOSQ1kBFsc+Uf7xB0NOwupyg09vdq4fVe/RHLXzfMO4BqxaUmnRe5wvE\n",
       "x9s3FuYPyoWioJJCq72nVNjz/CxgAgRVOoNrjKnHN4+4VCKrjHpNsnueAO0wR92Mti6flPUr/H+J\n",
       "Ue+5fWdz0borJ6tav0CIxDlCjGcOMOMWPLod0QZv63WeJhl3pdXfCVXcmvN0czSarskYaIu5/6G5\n",
       "NEoaKjkratIP2msdMigGg1VFI8OcKPrBeLAMpkEU8ICsyJ8AErSIqPmhNoZFAS0jI7Pm7QRp8LaT\n",
       "9z7wMSAckZcDdNRbU34g7MEu5D3erDUUfzhUy+m9GAbVRexkM0SoleXV4kbb9e1R21bZuDQWIr0s\n",
       "a+qPKYG8hGzTyIjhnHc8cyKN98fBeiS5ezoBr8Nqla3kAGYSBV9txLLyEB49SUJCmRTR14tmK9Ik\n",
       "kyghdIhAXUEtrbi6G9gRf48E6JHeS9GTSSMSYEk98z0by5MaqjbMmKzqdbmeU/mqY/hJIQ1yxJRi\n",
       "fGmnVHh7jYHja66VlWwHhkSaDHGdiSVsrjZH2RLtFCcDHcP12z5YvkFkLrnUcy3AZNH7IBZ2AHh2\n",
       "uAWvUKFxn746HlqtAItyDh7NINWNkxWpHJd46EhPT8jnYbY/gjNWHtN0rWBZU3C8TfntMVgAfhnT\n",
       "BqvMBqA9K2CP0BPbAG8O1LwqQWcSSFvXwQUdItyoIu5iV4h6+sNzkjasL83weKNCrSIyFZJzj9af\n",
       "z1MTpQ9wjWFnht4KgirOUH5LW2iSaG6ql8gv4fDUi9Dic+6SPdUtYkOp7k3gr78VfkJ77dwDrgAA\n",
       "A9NBn5JFESw7/wAAym02hvAEfM9PNhGoQe7TlApzyjtQBvP0JCu0egDgXMNYzzKctTWND77zOszI\n",
       "OcxEmxv/0w+Hd1R5a9p23VOL6sdLLtiuPXvn16bQl4pt0uU0EvZxmC0ZEhmjI9/B4HXMADVVTZeE\n",
       "yuAR7c4ZBQE+ofyITwOsP9cxy5d+jvhfwPGdDXwFJb5OwMq9ToJEqSC7ImGnULdhFUeL6HETNfgJ\n",
       "WuMTjLo2PX0I/5rIoYG+PswIkUN3hexDXAcetrgGFfeuGWEE00YO57eBmhidgQEaCyFeR2LLAy9C\n",
       "v4pd9jSJ/RKzHf9xbQFCjwAf9lAEf5MRG77RUD+UYTDgDgeov/+Ja5SzbdR+fS6hsEvnwWne1qC2\n",
       "By6uhXyZhWYDkRsSBLVIZq1kKlvyUUysrUrBIDEd1Crh3arq+Qh9CiefBVHwLXySArrKcVWQ89f8\n",
       "yCk0pDY/oZBwsbFYpM/DC3QB8ItOkmGHmEwiEESEo14sgol1kHAtKXWmCnJd6OjjlMo9HeAmS3kX\n",
       "FVLGCfFNtUfwVnpGChUgyaKOTwUHKJXMbhROjaNEeaHuXN5gH3++uK53GDxofr06vFIgbLMWqoKe\n",
       "xBGMA9hpUK/z79mUamWw9dQCiyFVIrEL4csIdxP1Dwlj2LqwNbAg+liZH/L4X3H/RwwkBRBQBwJK\n",
       "GHtLmUjitvU3CamQTMYkZbeHtDWgjzMyGOWLZAYbQiCGlRCrer6BCdkRu/jWRuZZewOg4UnOIo08\n",
       "ESLiQH4UTsMApMvHdxfZeeBoqcIggYznsw4zBOpPH9nFGkbADsi/XD0a5XhrhtgqlJ+lBv/iTn/C\n",
       "z8OCBEk7CYNEday9fivdDMkAmzIMUPDVo0+Jw2amPi0K2ccgyD53CGxyuDrSONkxm+aso7PurtC2\n",
       "sADXD04nx8IIqlogeIqYJfqNt99hmHV8MnJPhqStMFpgfnXiPtGKNlcrFhzcI9tRlhPtw80JVSQk\n",
       "nNySO4KZcZTjN1zp/Z381TGRR3PX5NdT22NHPvXa+KGZwJJXMUPCVrQt4XCuvCqTQtXIFZN7uVEG\n",
       "sIMwHoNbWvz2lT14oyXsQ6BoV+aqJyzyLM9lpeW0hLn8jlSjw25TpMAlHKbdHzsKQrJ3RgdAFW3V\n",
       "CqmXI77x1yzTn4nyFnRC1CAX5lzZFyDhnB7r75dMQIvjX1mAef/CbTGGbm6GHqFFjTZBiq5TxYDL\n",
       "DuBV82sjwr9OY9yQl4M3OYSZt537nHOdJY/Rdqx5llldjkX5LLQj6U/7sEEFdmq7Rm7zatxssBDo\n",
       "+VI6T87cOavYLhBxAAAC1wGfsXRDfwABHX1k+ftqrAB/QYDvU2Air0300on1V4OwRTgSyYnP7oAu\n",
       "mTRhYudSu/TxyFMM2oqheKHALQZns5JzIUkLeiUZBvdbM2GvXNMoLnI41zOV6qH8p4HltXZGC6s4\n",
       "tC9Jm7CeELxJaHmNt5RIPjPe34xHKwY7igm3IbiYkQZJbFqeKf7HZ1+7cKPQ5y/i06oSNuPMSg8u\n",
       "w//0LWw+sodgD3jO249ucukbnqcpXIkiALPqD1AZ2Oni8LEqLNpT5pfthOuxeTEpetWSNwJwdISI\n",
       "pnBo4GJEhEhELANWh7+xD3jISJGilxozYqyz9V3CR9xd5zcqRMnchu8eCz/mtLDOlxjUsUjc30RX\n",
       "9pmCqF73LOZRGFK1H43XrNpXuA0vkqIBUwwra2EDvePdsgDEpEByaRStCtY4536/xvdjAZZW5LxE\n",
       "sthuFBrI/bHur03RCe8jctSB9+YemKCVpBnQnAH/GLrsA3yXsqg42tU/7ihXkSZjWMgmZlgJ/Yuo\n",
       "iK7YKqYd3d24MCBkf1eQElWnYlSR3ar8R3WySrcGp6+FjpAtnXzzu8y9fNktTFLACkKwfCLfEqBj\n",
       "vZJ+qacbL13Sj5wh5cEgNVjNjGr3iGFwN5N7Ve2zu2FeeQeVwAYixZYYkY0NUnshLfbOx/NADhcQ\n",
       "/GXtRHf1qPIXXH6NimS/3RXKBjFiRdHFhV+o77S0U1D8kaElWLL8f/cBAJ38N5yC6PiI7EM/PrJo\n",
       "AHh1mecmp1Qea2PbmRZbSyDyxznWagLrkMiHFwmJOH23QnQGD+t2luWqDX9IjL4OYaZN/Wzvntzx\n",
       "y9i4O/j7gu2u3/2/+XHU0R8VT5TrfHSeRaBJw8Ae1i5PgHlZo0NCG+UHRC8Z0WvE71Dq7UlNUNSR\n",
       "sgEUD4sf7TVfbJSWpBWYeZZgTNKnKfmUdbrM9gPntvuXYT8ogCFUcYZ0RdHpoCjEMWHbBAzjhJAg\n",
       "IGAAAALKAZ+zakN/AAEU5f4rwYACMHCpJrQ0S3AX2HCkFgwXhOLD7BBZENpatnCeO8X+/+dM77rL\n",
       "8XgI0hjvtG8TskKVhEcm6z8J1o3IFQ5HLlw+DB6sM6umEYqv/zaolLm4E/tkbXN+bZRa86eVA4Vp\n",
       "6iqdK3HXdz9kPwIwNA/pMIT+P1YJExd6aLkkVlhMRO6ayDWNV+Witn1W13aOkzLQexaM/OFSWvUr\n",
       "RTqKPxZX4Fr0c35x/YnVbQAKWvRkc4KphjK9cindWOaf8j+QGEzgt6i6G2JRhiL3Q3FTeAfvlvy9\n",
       "PgaI3IwIqY+kffF7BLl2fp1Rw+k671RtYNFmD2kGrC3Tve60tHpavQxxlrKni/uEBtP0Fd+Rvhv6\n",
       "/RursbKRprejyHti8xSIjT9AfMzHtnkYiwdc8vlOun7fp6F+3f1LCF0KkMKZsXo5cDu7WDIpZ9VX\n",
       "OLtkUbK79OYzCak41s4vThMrhkEm7c6lqfVNRoSaVEdtkizch8Wx+gCGjW6X1LGjaPADAjC5retZ\n",
       "dnf4bPaYEMuSd4G2ZSj7JHrzJEoa4ezV0GoUt0UoDom9BRzihiAASfE/vQIItY9Y2zQX2M3iMPcO\n",
       "oskXhNxxlX9DUZ0b3Pn5XeoImfVLTsLKVOP90SMDevWRgAJvoDD5QAy4Mtp0J2GAOWyDLp1LaHLW\n",
       "p/7Oef4tFCXoBfytqmgvpgHBE4YQMucw/j0+gTXv/1wjxzQVyLGSX/qpC0R3b/fDKHlejD+jdFVX\n",
       "pjkBYYOeomkL0ZU+1rF69yVd2vg5U59c7+L7bpQMY+lWd2BcdHyjTq79Dd6eSsUK/Al3mt2cyciC\n",
       "VKeUoFWlrWnxwcRS9lIv16ihV0Gktz4CUdlkPCGiZNp/xET+qc22z+onZWe5kMZQphHhTvIIxG7i\n",
       "BhbJVYCgZuxmnV41WKR+TYaNCJEaOYSNrVXvUNwrossgaQekAAAHSUGbtkmoQWyZTBRMEf/+tSqA\n",
       "ADFytfub9iEWW3CJgAiCX4Sn5dKEcjhIdomhJ83/ZEikqRhm8Zeaux7YWroLtrbXDWaCqMWBHCW+\n",
       "//pLxGTl6QM7LDXHinSUhj+eEp2XkCdee3Fm1uGqHPbE68mlFyno5XbY9oWAMB5co5BN2zJHiYDs\n",
       "ncHz2l09a/g2iRQ7LiOvPgAjLo1gM91gNRLKWqysaishQl+h770QSuOg+Xo2ssJBlSgBZx9t38Oc\n",
       "5Y1f/k0XV3P5U9RdLhs90N3UdWpGXGUb2Lzq/Io/tRdWRdbPqOgxawjbmOfEdH/VkecnFQ5HrB5O\n",
       "QX9hCv4k5Q2Jjm2OpWpZnMuHZqT/8rPSZEr/wvUk3n+iura2pmuF1XMrXnIUed52JD4M/m30i02k\n",
       "EOrvxwYAR0Ns0g1P2GyJQJWmPSQ0MLm1OpKlvihnS3r8S4pOKIq7UzN8OOB3O6GPonxF+507rXYi\n",
       "2BBdmb4pStWtNoKj/U/lJYl6441o5ZPOmG6eBV40hFaBhh1KShZtEabCT0vUEAkKSPIGjHGy+M3f\n",
       "+JZoUp8MKo4zjZsjOL056bbEyck/tHwhh8Z90rkSTUNGn7v47/b+JRML2FjyFi05Hv+eSRaMq1YP\n",
       "t9vaU6ysVG/VemECOvKtJN2fVJUHDx89iv5IPuCfEUvnMlCubkTsCE4SFJYNFVbZl4QFPZxA0oxc\n",
       "9jW+cQ6twcKLnVUDvtELNyPhvpfgvTsMrKmghGyPeLK50pd6yOk5VMUEFBeBdp3UKJxsAVEFbKtz\n",
       "tK7BRA/zWam4VmNdNcvZgjfaPyzV5ArAeCiMWpAPQnvYk4yH5kveNoovmo7jj6C9X8vn0IByP2MU\n",
       "A4zbSv5DzvJ25JVdjQuDVEa7fKsIDBCgIw5SXtTJ4tv8bAHM6DqW7VWY2sE7/P6BRDg4DHjztagi\n",
       "tVufxC65AnGeKqAqmUqUceg+jtiZ32YPjU+Nzudn+sCC9JqEw6B51qLEZjQ0fZPv2n4Fj41Aykoz\n",
       "+83acdh1jh0GQznF3Q/u4WPj2HT/eMey90SbwFIdF4gSQ7mvUGY6MRnxT56wHtgVyraLuF0RH2Nc\n",
       "ybYPptXgMfcCq9Ydb1mEdf7xfJQ8A5mbryjboWeAOXeBqTb1tgP7g+mmB9Yx94T01gFA+plhoCH8\n",
       "kOeDh+V18aH2CaKjHnVG1gbEXoFi3awVbK9vYK1i5b4p8N6RaHCz6T1VgCVs/ynDOWs6VEMTygsX\n",
       "OTY68wyYiWd0YXXbID23NEP1IYYaN/Kd9GQaZeiQs4joMtw3UVaXEZ8dzFiz364FdM3WuaT1eHLI\n",
       "v1PkKKcoeRkd+FAro/GAYqLcIObZysSdPQTyUZhh6FeJyIKj037ItgLemjIdaRbSMUS6f/FLacL3\n",
       "djpI+Z/GjDZGbGDhj++u7xg8YrKt97avYJiULKwwizX+5kllAfrd7KWfSLHc4BRiIU4/KmuDXm2C\n",
       "+0DIT0UTINeYbAhdzu46dV5H8dEs5zrNBTWWk7jf9fwNctFNADiNT4G/NXjf1Rck3WB++s7dkZtV\n",
       "O9fskCTRXJiyGNMgaSDtIuDQmZ2yyVfnFf9Iwz0JjrozGVnBcn+Y+Y4w1X2H0ET1yF0jmQMdzK1T\n",
       "TTLjMEMEK80fdRlBrSxf/feYCSe8r+KTxZNpEooTXnoa/djpEfUgQCkdcBMWYMm0u5i+me1qlDQk\n",
       "a2cCqinJhuOahRy6+sFxfi3mdcJjsxzIVeU3cq2/fUsc79HxHJFyLCbYLhOLQ8PiEmOXFwaDUrKM\n",
       "M08+6exIzTz/puuFxVGO4/APH1Zh6x+MSXuPPzEFs2IRqqFYQ//4tPBg83FGr4w+Q/abtIab+Jrv\n",
       "k/R+ZGvY8togWGa3E+CtNuV9QVTzfOevjv9Hk6eemEUIvbl0J68/QUF1lTK83drSaTqdjKl/MnoD\n",
       "LG/Mb30xpsTHUf+0md6Z77DDBxtsSBxgs1zRQJIzqMZVv4kYaDz3Ny3idOykT+CGVd2qUngrbstP\n",
       "pgkHdlXraZH7o052p0VClKEhs5Cqlpm3rd+p9Vgxt//0Vkwb+hSiP/BsgI68UngwUodb8FnS/WgP\n",
       "DLjLWUq+ISUrqiHm2kLknyH1xn7aLQDnhH2Vh7KkI045akZsuL7V2Ak+YvyARFnSE8+CqArQFY8d\n",
       "swA8nJZDXH/6aqc+iFZOB4FT/T9QrqAWd9q19OYBt/XLReNy3ef44lgSPLO/evIWCTKGcbBLf4jR\n",
       "VfzO5v+as77bAqA1Ih9yn5pb+T6vULlgDb65zKh9Q1IHlNK6N39qa4lOsC+viqPU6Mogu0Uzd8w8\n",
       "31kmUt68RqUsEIJxQOSRS/vUA5z+LF7jS2moT+5KdtIMxPmPMek/KPrgsadH8sz1PLHQaOT2oXMq\n",
       "TwtwSahwJUTQJjeZjD5LOOCeshrg9tW1hnSUTbIMiOtkzsC6M3+tIvf5x04I/kzI3BuYZh3EXzbX\n",
       "+sOUhtykqBpWhKbM4M5xog6P2ih6jAz5AAADigGf1WpDfwABDQFn6wcqaMCACGP4tPzQBRziv4aj\n",
       "uQACwe2iTAjM7Nf61Y82eqmS6thrlkZNz2Tu76LTHni16oIwcCbDUHKqfoLvn/spLA2gAicExbL2\n",
       "UYcmNSbIZFM1UNnCoAP748m03xJjRSQ0EiDLCzLCNZAPMGCPE2E8aBWMDXrabys8rnt37LrPygNf\n",
       "5F/p28pzZxaDGnrkob8eot14uOamd9LrxjxHgSpfuqlkorW81JNMwyKmuwYW4uO2zDI1xKFDmJ5F\n",
       "Zd6I6Bjev4lyVzJ2BOwVOUvLiNASALLVtwVTf8VcyEGcwlFdq1XOM5j9ZdgbYlM86JobMdOm36V6\n",
       "UN9f50Vc9Vh45v5cKgA2V7sn7ZbIjHh6yALHUqsPk88xKP42lh2r1CO4nRw4X6Kk52HXF1ehGaNe\n",
       "K9/+r0vLvS/dAbkaxtkmIGtNT5xkH3T92Eo0hLMc3uNdDoSQv2kqkXjCzmvVUzfA7BZls59sEgRn\n",
       "l73iniCOmbPY6wwqOEuHO5IpOOCZoOP9MuIOl0yR8jmh4S0kbn4eHS0p9Bx4UXSN+RkJDqm7Z4eP\n",
       "U4t/zfaQtfnuu3ApM8V7YiZ35+aI3ga6WZRNzGstHUutjwLW2xJXBrAphvGdYKvH7O4cnm6sTsH7\n",
       "fYlIh03+qCaQbpRr8qgBeC1JcOt0KLbEcm4+r+SzoQkh5iibSUN3bRifTmD71EnAAAADAAsekYCO\n",
       "ydUxWl3vDl4FqcytrAAADZvm6gV1cW+UlJG1ab/EKJ4swbe7vXLSP5Vz7KIIVHOkN/EWLpilLy0+\n",
       "lMiSmdfzhHTMtysjZh08IJhM6FkVlP+7w46V76g8Cjn5VuRZFy3wnYCi0PEgBk9/6N88M2Av58cm\n",
       "qC+RaTps8alQsJu8rBv/LLaa0jvUvx8IgAfM7C2g2mnak7lta5zohIDUkZsx8EZbUpvFIWNSbnMM\n",
       "o6Qx06nSC4TJlaS1ybDLGW2JTDQSREPNCYC1SKbzjzoAAKOi4b3lUPwh41+ddheWpFwxqZ73GsMy\n",
       "AZOyPvmQZwnm5tGPj7SCsIJYORPtEhqlVyHpOfHDOGkQ/r+ANjoAVbWN1TwstaAaMzyjN0s2sfUD\n",
       "pzwPNsS7rd/GzZ8nSSc7bR/JCST9YMrWMMFZ3cu6tE80TLxXzVHajTFPNKKKzLDWhJJPdtY0rDjS\n",
       "0b9D5CdurctVzfajTEpK2cdla3CygAAAB7FBm9pJ4QpSZTAgj//+tSqAAKF/iCeN2jBPnj2NJYMc\n",
       "2Y86d8fSUxDO3k3b+q2nLDCzc94OUIzFVh/pqH1oZOgCieRmzA8UiVXV/t+Ntmhq903r2h+ygmex\n",
       "D9qT369IKxt3SCSuWIqcZpaGfKsThfaYMsxzsaNIT5vgCNnD2sj46G4BpFLvmEs/FuUegFUo1q0u\n",
       "GqY5raqTGM6o/czCOolrOepH+EsHaNBUQxy+QQ1sfvTOmFsfFTuKif4aztRPGzvd1jX9ktwOpkKN\n",
       "hDIE6O4dJikaQsUNJmA8EfjXZw3J1eGIOlyJpxb3lMmQ35sJcn9//yExYzh+8WjDw5I/mFUPrCgm\n",
       "IH9x0em0H6SoNRxq9niDTCdIYxldo31q9SQ24LhrR3hBLolP5/4zbXPVYRp8lEgrddeGx9AnAp0G\n",
       "G5/mV7PmHwRhS5g8c8l9HA0jt6dckrmwfdKd1RbUlMPZch5g9czCigFKTK0b9jKDJEAVP3W2hSpD\n",
       "xfd23mgR/p7eMLbUcegXqQF5GRYVXfSoToYkf0rM4GP55UtDgck59VapuIU0Q5JF0NcGuTIfriAh\n",
       "186QI09PYvHIIoBDHoHahq/+Jr9edDAlZBCcMJS5PXBL3PACeypq/UDMczJmX39qcMhIOShpiVKb\n",
       "wthFfi7R/W9HYz5f3UxXFvlmGEkuhjIsz3D+x8uFtOrZs0VECxN9stbQznnVXdCovoo0O2sH172j\n",
       "qtkvPxriVBLrqMr6qfkJDxhaqL4RjFHRLAk+tN5j+uBE8ucFuucNyCxjKxAv6rB7JzogcD7bna0H\n",
       "BaE4/Gays/QSz0aTs7AeybhrVDHookioxPzLRGyF5n/7GpXON0TPL62HnSHjEpqEn7vEowSAy9Fn\n",
       "V8QB4nrJXTKg9pZRcGEEapr4mhRGQ0uC7SP08a6dcxEyDs/n9+TDpYpAd1jx8pnAWqOv+JoNmGFe\n",
       "wTzyQRP/UGUg1W/xpAuEFIcP3uSg+z1cMCBubkV4B6eyy1ZIoGOsVWO5+UgJO9rXZxWHfjLTsF/v\n",
       "QuhcNesc81sWFbft+j98Ae7XqNuLJSO9Cpx34B3Z4Ck1euIMOnvi8t3pKVpSK6C+l6nebCOP9U/U\n",
       "qS4LqdZAv2hgHucvCiR8B7N++IceXL8JShYlUciWRbrYWV66uYfzl0GhYvwHUSzxzyyNHaZFn5Rs\n",
       "scjB12VjOKL4vuGhy8u7fH/v2jgGFjLbo9XDPzys7N0UB3C1/IsQWpKofcTeX+kspLCOIdxONkTT\n",
       "Sde4QDfhL+3miA2E3J4Eo+LtjqAedjujKjFQjOuxOwX54wobmar2UxjBDDLLD0eRheNuzQeysOeI\n",
       "V0MCd+NxtqwuFVNwZjuW7BINZdXlQRSV/ndHcJsDUvpGvD4gtY/u/nlTwREZ+wGcALwwLBMFJpqd\n",
       "tXi4zBrHh1MUN79CNTn+5cqnBb6CKfDfC8byWxGINtwhuOyc4vNHppPkAsjjoqbbDA+ovlh+tXng\n",
       "yt3hJa0ionXMT4fbwvNTeP2+JhbnkJ7QbRsAsNcFIcw7KLxrAp8kxYCNeV24mUT+LPnFnUfxcXOS\n",
       "+EthuVRRjwgSscqI0MY6lN3GpZecxllSiTzL1M4fUNzPHAZLkFOthwimOeyZTKnWb5ufcLSNeTJE\n",
       "RHztXPqQXQQiOsEH1ZjfagWRufZntjeYBygYVld2le5ZoUP1cFaT9+1UxMTe19hGEwWFkKz7nxKd\n",
       "WIn1lef9s+2AoocRmX5li37kZF3TT1MqcztGClbNSXGTbz5y7/VUXxSSR2Wqj6TgYq+fbluellBx\n",
       "3I1CYr/obVTl/rki/JQ6j2YGw8QZiNNdcqZxZKtkvFEUXf/7R9Jn7ud3NCYXrwLb2k3gExNQpnbc\n",
       "kSNK/6uayNwMxLOAwH121aR8HGjNK71BnIA9yxbvWkkkZkGM1Ajm/34bmD1T9WQRA4+4OB6KaPtX\n",
       "hvU9TLMVbqLWiVbv9Vss8/8kwM8rHILfgYBeT+kyP/P1EUaP41f97Dlfe7zeRaAx1POM716UXRy6\n",
       "mxg8qZvzypzUPZwyTNW4T7A83ywnkKEbxevoRgic/vx/4kxzyV83NNelH90uZFQnItqAyAAAReYf\n",
       "C/n8pPS7veGDJED6aYp9tMFqZyZBBzwMhhADZThSB+2jYdRfX3eLAURDL1Xugyv/KXk37lqDotb0\n",
       "jqPw0w5bdNil4El1KJ49cqv1IY6Pk40+8XVrAQ/2Tc0Zo1CLAY2UPzuY5GE0e3vdxSsNwBE65r0t\n",
       "qn7dAJ6qweJQt9aRRIEoqoDJrhC014z5a28SvgNSS5T9C9eFvCs4yPb2opuHUHPbr7DsDN4rLHF1\n",
       "4d+4+HwAdAgTzytEVAquVZYwrJvcHyOLcRsBjcgYFiZ4pu8azko734qWrufmUvnedp/RMV7ewFOV\n",
       "xNRs8OaezlYgZtrGLn18HU0z+pwcooiE96ghgeC2RbkMGBPRQTDKEsM0NmFXWSnP6G07TWsiw+AQ\n",
       "CsRxS52GkykP82MXORqmVwj2hel0FurjiAetA5HRmFiYmcCYQymw6Li82WjLZM00AvVGx3y8Wg6O\n",
       "9j2hOWXVrjQXzgBu0n0E5neuOzLH5g43Cnr3IwZNlVIcG9/C5kpwkBHImBJQtpoMBzqnt4+JnnGz\n",
       "AAAD0kGf+EU0TDv/AAJrABgxqAyXSqF3D58QAQJQhnjUD4QxP5ONnxsAn+lF1iDcfLevIiTVsvnx\n",
       "OzlqqpBam7+RlO8Gr7rdIEYlQUWSDSCZvMsihq7THIVqqK+76p2ZSvizXC2d5ciy4MtQr7R45Jcz\n",
       "mUMu6/mA0Ork3nMgb9v3G6V9liDeQDxiUaFDSW7J9XPPUYBROR+gfOgxsEyhVDv9VSpZzObWsksv\n",
       "olAbeYXlhfcz+OKvFSP5dOX4f+o+xqbtd9jWTEMxb6yNK1WqMq3sYMFJnk1U6DCx4GM8NQBiYQ4K\n",
       "dKKi1TR+Ssep9wCx2g+828f9fVfQ47T8aGbVG9bU/C5eA9LIVo4fXwKROiRHwvZKSNio5W3I7Rrj\n",
       "MCDEbwkXHw5/aHyj49jHxIpdUtkQ08U7RF2l0B4ycO1UfPe9kJ9FNN+3HeTUB3WcsxQQqWJe1HIH\n",
       "El8NadCCNe048Zgw//6ErJb7uuxOheiV4jQl8E+OftMq/0jrJFcUJkECrPpSAIeiG8lctG2kD7T+\n",
       "eXeYv96uVfUvAJg5a4/dOPOWotizEIySBf294lOL5FytW7gZGt5COA7MfrR2TJcoFuqMUcr25T6J\n",
       "tEnFaUYKFiTFKqEcnAIzDQLOOUwxQ852/cgdFaMiw7NiO4DwtNWNcMc9hbIacQmWg/C0RJvyesnB\n",
       "5R29O0sXbdvp2OUuAAiwAAdN5l1t2xZgDfqf0ws2gvwhvC6MU1EeN0imWjZhXMa3c6j9AASTA/ca\n",
       "qyXnAbtcPnoXO6lxD55gGPYXVuMCcCNT0+l/+xpdj4Dhowz7TOAG8R3VUxhQW8QlLhKc1YQce2Uz\n",
       "1lxXkl5mwThWGdij9M4/1uifROYKs0AhzCY85dZYeHGKV3x9VMmjVNmfe0i9UmrW7H5kOjzanbjU\n",
       "9c6nJaYG7y/80Jv1V7KGVlelQm9lX2dKuPtlVkbM2E7JrQQxzmfN11Aik/j/kw4xL8h/M2OB41oc\n",
       "7PJJYOA1+DK532RQbFrWDpMdudjJx0pBYsnjWUKu7gWenmR9qfU0IEvIIlfUJfpZe4rGYvlUePUH\n",
       "1P/gY1qtW5lOk6zHT/H8b0VtXnkGsDNKAvDYuFUnZ/4ApR3ahYvqr9Mqc1nd/czs7J9yJr9KQnBq\n",
       "DmGJDxhfdUsy6F5rMbUlI4kBqrGfeB3ArrT6fapwn8JZYSg03CfPe3gM0Kh4tUYEVmaTOhR2ALy3\n",
       "Ux5ucpyg8VT3YNz9XRPjqlL8BDVUXhkCZ0yfEknrIVlh1q7ZBCWYvTHuiQUpml0VsbS6J2n8ISFx\n",
       "CYeMxtXdlQXp/QwZ8QAAAvUBnhd0Q38AA4p5MUAD+lQbJjMLgA2qQz+H3iaFkmnrftCTm6lHRQXz\n",
       "JowFC9Rc2PejRqFTrDMHZaPbY2XaeHloOxkSgj4meAashCMYQALe44o/jbs88ha4J0xPqnITaMEb\n",
       "cJGjnjdemDBd62LVmDoZa8o1kwmjnbv3QQpUyyXtQtYZiNK3sTPxLLmXZ6zOYKNsv1zk6OSRkO2a\n",
       "ZhyG9WIfdsCxmIjiwcbIOnjZ5Pkn/90EaAL8sFp3n3E7bKv1F/qBCkyB3z8/8GxYSWKGSW03jDMk\n",
       "E9c9IDT7aSsk9XqaKY6y3pmQZ335G/mJJoR+reuc1gjwQ/Sz37brvn5R3WUHrn2HB6f3VvW09COA\n",
       "+FFjgfCOM5WExUyVpLcIijQXUi8uV8xlbbp5bx771S1tsbcHE5/+O0bh0RSIXVCqiZtogZV0u25y\n",
       "nd5KPqcaM0g20pLmn7HqJwxrqVfuPJCe+eAZ7ntZ/HyD3Gx7p+m1Qxo0Cq2l5epQY9fOP+k/bFST\n",
       "QrLrsgLWYqffr7QX+m4cUWOH7LAz6vgLU29K4MTp8Of4+vlO3L3z5+eS9UhuVA282ylMPGsuKgO5\n",
       "bDDiTRbzJXvVXqqyhiLydNwI9aPYJ4VFDdnxkMXhDIWDqIgkWfZ3Nd6j4/U44AHPjUJuemLmZsT0\n",
       "a5MNwvTcBxBiOmpeAerBISIu5+XPmaI8noS5dKI42UoRlboSeZR90pNAwAEk/Vm+G4AO30dWxJRK\n",
       "rLbIMM8Wpas6N5PW+EBf6XYoHuWlmRrn9jG/kK9RDe46UHO1CwW/mzlQLBfZKDz+gGTY3v+o6jMV\n",
       "WOM/ooujCLNicUWbFVA+noQ0D4FYo0GelvmcQZQr1BYrus/du6boLNh++AsTySUKVicYWDuLNWhm\n",
       "qcXU4dU+Wf+/5PFnxDheQo3Ejgn1/pa62CDdAABJX8j9GqoMyBmDCn0X68tydAj9IrMQ9BjNW3wA\n",
       "4nD8LoWcV7FeHPZjON65NlG82gKHo9jAV76k/6wZMArYAAACygGeGWpDfwADdKa3utjVqao9/nVQ\n",
       "4APyfTfp09AFD20AUmoz86MRoxzz45XBw2EIyEvuxaUu6c8XP3ru2X1hcvRqxdSwFvpjWODvnLIl\n",
       "vaeWfBxO3jhF55mAS84rBTFzonycts2eCQ2wc01PpTc6sSbv214XmSKzkVfJD/JM9lK1wAktNPXf\n",
       "gFnfwIQgW4HVSlDPchT38xDjHyKOZbDjrhkSshIq3gKxLDN2VrpMmLNh2uu4BL4TUwzufrrrMolz\n",
       "H2jBRfnRk53G26zADE5ew/qoDFrj/GlHOsgJuG3CLTLaMWGQj0x2ex7BBNaN1keq+Ghcv2rATII/\n",
       "SiZiR5PpE2VtQNhZuyyt8qNmpLQFeDK5lyU3rLoGOxCsuKUShLnuQER5xJoYH+cl9gs5+1pFkfUv\n",
       "hNkVBfasRypL3/UxC4HkoTxubYCaOk/KyMhQRsAfg6jSBn/5TWd4CrmMLmHSLKPgS5vDQ5VBNpRa\n",
       "SJFaKpp5+542N/bM/yoixo4owB7zOmmuaSCSDNv/Igp/cWQiLWWi8fA3s7JNk965pGPk0feheIrZ\n",
       "hwflADcnU1AvxYxsFU4v/mmWqJiyF448ZkO0TRa/QNwSEbgltnWCkp3+9KMHeWI02NXkHWx3mjIo\n",
       "oNmv2EUw9o7g2wJ0NyPO/n4AZeyKhWiL2dTpIxCl/K4vrKx3ULyJ2vZzx5gd6XgnS97UjtQstiuA\n",
       "rc7elN2LiWt59tzrL6PkR5bL6SlJjJq8EePB0F12x1HaSwKgBIfW/CqTGXtNTQufiEByb82LO3g9\n",
       "rNdiB/ZUb3H3buWx3yMnDh00/POQYyqjoZEkrTZpRlwDRCKmIH9fQlKDUS/EPif1FqumlyPOgc30\n",
       "E5fiCaHTXnmeHNXdYwcVHq+ymwncdp4Sbnx4ji1hxwc39OjxtupRuRuK37T0MYiRZrh0JrHvafAs\n",
       "wr7OzWCJF1YRWwAABx1Bmh5JqEFomUwIIf/+qlUAAULnns7yB6XhqmgBadbNIJFQ4ejrNeRTBCX+\n",
       "jc527dHHgVpzRkw1eTo3SmE/8BEGmlacDfOQy1swz/VwhEMtf8H80gNz2FGftmQ9/IjauiUS1bt1\n",
       "ZBrWWMScTXUU+T2b/IL6ok8q4EBaPRdXEjKsoKP9VrddU+H8Kms6UnrMRrOTbyDcSdBnL90O1reT\n",
       "PrRb67OgQb5w+9OJNgpSc9j2KP9T81XG3fZ8em//t03aFTbcEwemOfD1ceZz5F+NpjpNXc5RtTVP\n",
       "Q313U8ciZhaYzVoNIAeK/Ky/eksIt6/faKu4fHvoMBMkpvxnMKU6pu0DY36YJxkK5Wwr/0Z1z3Yv\n",
       "XEBQQ6lgiysJRZ7OVmS9Pv3ZLNu5BeXEmmRhukGFq7zErMMBLPK12jgduHkpyk4rfe1zkvNV8fb7\n",
       "P5awvxFRs0A9DHSAAquarQzj8LPonkNhPwZe24KCHac+oxSeuZUYwuWZDKn1aMJhNSkzvjQgRp3k\n",
       "oKecS+KlZX/bEkb54X4jze0Jiwm+f/gnq4Xw5gLyZY195JrgVr65Pwb9FeKGfoi4P9du+OamORFC\n",
       "hd9vgqQmwD5CXgrFxbaVxziitMZcMMXifFGt7XPZXj+rU+iA1yFe/PQRuPJbh6DwpduPRpXiVaHw\n",
       "v4EodGICAqlXr39jXu6Q3IHsXnm4zn3w67ewtX++Qr8d5P/b47BWcwLsDj/WKsZHDHGZp+RKDfzq\n",
       "8kAWcllzy0ajurQ5dW6tAs9ULYIfsqtAqOgWBEwsc6F+UKWczA2ZX3cAy5rXerliga+eMvyTS/PG\n",
       "A3Bt5mfLJl2fGpjUAvGwgn6dXQUP4qSIKte+sJK7FC9Kv8k3x5420ARAYfotF6d8vF/lzm+CWmfg\n",
       "V8nXvSzho7jw+gpOzy01XiXRih6F90tdnWZ1KaC0C2XYdlI65QK7lm8Eu9hI+0xy6FsHbTqiFCgU\n",
       "uWngbLAYLh2ntZmzow/JUJNrgUk1ivS8/hOasJSnaTbPxHOhA1scWs/NYyUDPj76aIzJ/skZ+Omr\n",
       "lqTGCh7JMoHOUQsw1kA2Xx/kaZudRMckB6BJbkHjBI0i9ZX6/9FPrK6qFlizdABKR7E2b/apLj5o\n",
       "K0QdaWRje5rYK24Ld+ia2QJsmoau6DlUq3spliom3DCZjPjwEfXYYZHpk+Y0+rSgGlIEt+HFqUTv\n",
       "T0oHR6XquvwzztoNIpDaLmHG6o7tHpPr4JY4IIim+Yq6jHpL4SIOJ3GiuonYqmkin9+e6mPFZMBZ\n",
       "8lBLNJnMsteqBZsX39P4y+e/G8pk7oYUglVxdDo8xdHHrxHUuybbNrX7uA8J84BY2vsmJ5o6gbsi\n",
       "KBBbs5JSwerCdU9IIkygBDFpBNtMV+lpvPFnc07u+xsB0RKHS7hHTAuPNY1mxb/utUGRAwJwoGsQ\n",
       "zArDQVSbw0TJ4tGiuNdQ/Xbjm8R5jy3xsGAwvl9EI8iNxc5Bd5pbAtz1W/ZNP2334WrcwLEXdlND\n",
       "G3MAqFWbItn5dJ2Njmspnbfdg47ql1N7XXnc6GpmVrdKxmR00KoWmDxdf+S7RddtXNu47PKfLypA\n",
       "HwVy0lqDwaFSar57L6p9iCB/251efZ3sPtuN2wfYL7jXqsZ1Uu2WwGmOUNVphCsOG/DVSfnG+9dz\n",
       "ci2WV4DwdOl3/lpwEj9DDlsBcw8zSgnJf/VqWzI6K/yyS49L59JQtf6N4s/rZShfjezUw0b3bYny\n",
       "fL4K736PeHlRzFMuFk8sYe+XT1Q3wUSxb44RCIJIUmvW+BcOA1imLnIAQzJClJSbPQH23goJb8cs\n",
       "sCPEbNlp0DSD0+60y/tk+SYU2Gx+RIgG2u+mahFvqKPaQ+eWA9RC2fwP+p5UDwqmz0kaM0rCpsch\n",
       "kPPrB0snL+qj2jAceknr6eELgc+QG58t/iO5OR14g74JsYFA/5sAzvbrbUBUsJCgzLf9EboKdKKH\n",
       "S2br+2/TbtoMugPIi5vHWeqnKwtHl2a+AHBMwb+kxlC5aGf0DSTws7OZ111bahaDeYIjQpCWjWFK\n",
       "BxA9I3O0EmCVlmoxyoGQdsKnK0jKTNU/A9M8Bu11x39E09gJCdBqOrjSUeIOlapJPFCQI34nel7O\n",
       "8UznrC6fXZrsOXqHa2EwdKrOdmReIrZaDL2vzSo7mrXqUGg/y9z6S70l5gLuc4jyalL3laExoQXp\n",
       "Pz80Y0SYTNbkxkWQDFPmdP46RnwRe1i+KtQtcx0frvz/chUVfoemeQPSFXnk8YrY43GO7Kcw1UJe\n",
       "Nq4M5H8NbINUOKNpxR7GpWeaiRe5XB5CFc3uUXCsHeU53pE5a/GvWfKPyRvG4UOq7z03lk/qA7if\n",
       "HlDhNdqV25A8+AOeoEZd51cRXXte1PfJbdXnLOAKsHHE0tFIEovNd8pURuTirgWXBnB7RrQniFh6\n",
       "dryqa80OQlTqc7AAAANEQZ48RREsO/8ACASAAHQyjPfD4jOv76tV5EZkm1KBmwc8dONedHgOzNOn\n",
       "63TOmzysg4Pa5T8CvW84AQDkiQ3MaZCF3Cj9uOqhCmVvS2z+hI+zVOiecdH36nmWUeaq7P0CJVzu\n",
       "KvM/1luhs0xd4n4twA1Chd4eBnGLp8z1XMcLLRSrApKXzW38DowMLVA6FoTHYx+NbUGhy/cmeF3K\n",
       "UfYHhakzVppCYR6+7h9ATCKItBguuTCz+9OdlNtQsnmm+3u4TvX2cmdyBLR01Lmln18qdC77bnsn\n",
       "ZC6RRLjRgl0OuU7OYYFZeUKsbcLwyU+EPtnTxtL9dYi92WrD/OxzIToKCPuM/CefV4QlmbA470Gp\n",
       "04nsz+/JS2fJTwjH0iCTP+qD/kI+dXWtXDyDAXJRypAsgtJmfz7Tcffm3+WFL2xgiwLUJJMIRfJn\n",
       "JyEs5yJr21UQceI31A63NVhRL9ZD3IMwhG4FAPwBoA7i1/lBq04TdXME2B8DStEkVWKFxPbZFO5u\n",
       "Pzeu2GWXUVvmZgmeTMvjuZD3jYFTyBKjkKX0wYW35QSCJPOyyXyWvML3VFzh0cbmUUh/vWpXpaqO\n",
       "40wcMC5z0nq9IH0V1l5nxfGsAiUDs9eT9N6BEXRHf5+n8ep/7nhsd/d62/V7UTZIucCry3wzCwrA\n",
       "wpJO42a8bBrIRWOoZVW7FTnHyeP6muCtwFzpoh/lhxdyw5U1SNbBs9B1yEf3hSuau/BiFRney0s5\n",
       "U1fpbFj37Nc4yljoRuIcxLeIQAe4jsmtq4XwApwEZu+csRtOhlA1YueFCJlx3PpeKeUm4sfMBsHe\n",
       "jx9+xcacPXy2XT06nlffiXIcWS1/VfmSdfLP59QyXkB+zgI+VSeZhHmA4YmOVCsR9QWeve51DAOQ\n",
       "WTkl9/3ivxcexLy13CJATdRnynxs4w3wHzR21duSO3txi/lqCeFLWIxPEUHvAMPRfmxSO9vUsTk+\n",
       "k2RlrJvbTMlsXdgjllKtAw3ygPj3Qy6tzTINXst25yAiRhep8P25kzMU6lO8dTosTXt8Fk1tR3rc\n",
       "4+k7oSTTrbi2+fNv9fTQ7fBNRtRsggMbo3KR4OngEK2liXMw+xch/cv/fQznAPjGGngknHEAAANo\n",
       "AZ5bdEN/AAN0ZXD9CnIL0itciX/A699wgAh2lK9nJd6S673FCkGF7NOPWd2Raa5bvSIWTDrgD+DA\n",
       "Xc8dpUndSKMKp2D9fMd45r66X7tjB65RUZTKTmK3WR1aq3STtfciEZgQzuaj8vN8gCXyNwGV+glO\n",
       "s6SK803DIYocoETHKJEdF+9BNDjbY9Dcq09NNsrQruNzS7IAgJV2fk8/cRv+lMR+WsbUt8RiIGJc\n",
       "OF02m3Lg2xJOS/d/6zk1OzaA1Xcpl0/9KGHv8PenBc5Pe5ORstAo2ZQt7FjyET+E2jq2YqvQslaB\n",
       "Yjf8dDLJOAQn1NtwJhh7thaze8qc1wxDgzfdbasCSnFq03bmalx+4R1soedhLYRSjHz2j00chm9+\n",
       "xuQaeijPf1OOSgFyQXrbE8++l5KYIiQfntfw2Dqjs5L1h9Joh15TTstrYRqrZ4WfJmNWiodz+L3n\n",
       "D48sjPewFG1B2h8S2SR/7ONzvzxWFnhQhWQFrfTgqN2wC6WV6jSPW1Pxqh5TPQz7+/1xjGfq/ewL\n",
       "81xmVvgp6BrVq1VlxaNwyuckQwfeal4REwvC95lUXnrwCmL7NhrGDqjrMaPfPzUSIN4rEr/Vg3/z\n",
       "zBYK5Zffa+nABwL/9M18PP3mVsALlfiBx2cavcUASku+IWJqGmGG1WIuolVYEvLSEdl4bjtvEDpu\n",
       "/mGdT71O+yirtV9MzvJaypaTUrEA/0X/UoR15boHG6akaVcnP5AL8qM8StqZM0oJACSC54C3MyKD\n",
       "FV2qqCT0fsDlMs85fzpQ2sz0p241Dvdspv1eOqqfT7MAHEFCUSoozfjvgo2lJuhAI7PVeAx/p6P1\n",
       "oHAxAQvyLjVRtpeLR/ZZU/wqFwhHx3IES/IdkHhcIYyRkc8EsSp+32ix0QIB7Q5/zgBLpm7pjCYK\n",
       "0+qHLo6V2ps9YbvK3W7KCzsIxv/93E5uCKHnKuayoDcLVMMbKtmH1zhil4f4tHmop4Lr+UcPkaGn\n",
       "YBj+ZfdcKkdqyY5pmF/XYTsAW4qL9vCCZx642dBks2f/EmiHU4QjAd3QZcrqM+iukkwtyHZKVuVw\n",
       "FhimjtUfqsW69jDKFbVwbuwYvvrz4wp+PEC2glfEWazA7dbwAaoPfMDVQlJmLaRJN4/7Uo5wYoXT\n",
       "CLFHMFJ/zsiCXQZtYcpALaEAAAOOAZ5dakN/AAuj0IPO+sCqIRnFLf3hiGd4Ep+r4Naxu4IQsgnf\n",
       "+qq4RpaRYpqXrNSPC++zsNf2vtxMBvBySNKN0Ta11BFaeI3cm9Mfq5r379QehX3AOj4XMweX7lDg\n",
       "s9vz74u4kPPTt9QEf05PhSCATWpfL550k+zHzS+vG7CtGAjgO8mcot2DiVmnyeEfmjzeIvYrzuE6\n",
       "JGUrhjFQtYxS0wQh7IJPGFFjJ66Wmu50lLUsEK+KR5zm50ZsxIK6RyTzOv9FhqKe30HCvgjkwIlu\n",
       "GX/9lknwByzcD9FdVaigFyCkCLF7FRDSnyY6u0/sZdEd1FYW59vSi2KBPlwB22SIdiX27jQa68Ut\n",
       "AoMdwVhbMHL4O9g8k+yzw2l393loOMdb8Z+jWsufX2Mnq5RDiOU3JBN909AFRXItI0Gl8Qk4sTB4\n",
       "efTjfUUQlCuLqfIHtO542iWjpUi1UV8gUX6l8z1XSV9ogUQ5yexDNv8ksF3SoqEUYO3uGZZ4Vxlp\n",
       "qor3RyYYpZJJgb6/FKnGxmV8acdn+GOH+2U+OM+868Y6ihrMg1LFQ70mr2/2w+gDFzEPE+kmHXwn\n",
       "g/ystqVsoT2S5990aU+PYa2Ms6of0YrEUSFlfBW9FdrL/4s+vn7qdzqqVMGQR93hhR7B1COW0rU9\n",
       "aPlWxzY2WszI2C9MhM0fwZVfX/t8SB1p8jBp/dSOoj7qWho5Dqg4D3ui63MaIjM+PfRiIII0VBu+\n",
       "D1a6ep6oiWCtlhCzXVO7XOcz2h9wXNxR14z8IFrZSK8keMzXZSuCvcARdpzmyG7nuhuX5yad9Qq5\n",
       "tfta9s6/eNYKCntQkt3GoiDg/rEBdmbGCeCxhQS5IwwdnUTBAz3RWtUs3xcvwHY3SxpPuX4qbdDc\n",
       "aPbHMoQ5nMXYn+7V3pTcL2rB9FVvuhKFxh0UOGyxxGcNl4AAOTGQQaAE9YJd5Dz+6JsJbWiPAQ0/\n",
       "eFCpocm1EcSSnKgy4YS6tsOCTpEO6YXX/PIaEKt7f8ZT/SaaHJekgctLZqSmhEnv3AHFApjuHIay\n",
       "WjwmIlKfeIUPbUli/ShRUK0xnaokeR+3bMosYLiYU/qChiVZ5OhqSF01agnBkl4kJqgZ2/JXTC3U\n",
       "6m9I+ErgJf4HBjzmZ6Tw8poZ9mQjm44yX71/eUh0TyobDvT8iaOzPnaI1g3p+SBXfI/LH0nIhN3q\n",
       "Fq5El/zXCW7NMJAzFa8aK8wDAgAABZpBmkBJqEFsmUwUTBH//rUqgAIQefZULm3UO9ABy0jdtcaC\n",
       "+SqiaXVU/YqDxxOhv/EXPedv3baMwgXPwY4VQHOM89TWykMPNl+O+8Kgj4sYGw5LbRUHxhLF21OE\n",
       "mzf5DuTnOcEd/ooA9rMKMokDJQ/qXhGPndksJUWmmFf09+O+nX+L1N+WE/5y4YjEY1zYHBuI0guJ\n",
       "TirqaGiKI/W2FY0d1/PUHfy8w86Qrkgn1N+QFYxFOSudgOhlZPBSaFyNha2fp6+q1ZiiEqfUfKV0\n",
       "uobE2yVDdJ2Tc8LZZnpocdofKQbYmW9Ed3M4lv1hoTYjsYDPG3uIN4Qs4tDXyC68yy75Y2JUVj5c\n",
       "bgAgfkGzV7W1W5uc6vTg1qCg/jmZ6Kgj7KijvliNTV8LqmUTaVolmnUlz54pPtvW8aEuKH49YLiP\n",
       "Fxmsd0SQBudtAB/+0loXb3pZCpX5+kLS7mBLGhDfMSFKkdT4PPVobecWsOaRYGpukwllC9p4GZKd\n",
       "QXl/xHlgZL/RLW4GI+TNV1SX8hIeKekHwE7EgT9Mp9GNRgHiNJRcdLZgG5HRluiiLLdFaNH8zEl4\n",
       "2HD4iYaJAg2wEgSdvK/w78Pd7VZzxfjc6cLbfJP7RwCJbBMxB4RwtBCWfTxs3SD29eaRoNyqQS0f\n",
       "AmO5ZvQWooSxYvfT9E5H2f5Q3ctaco+babmMbPD2MwD8NMF4YHREHBbIWxAHw8sYRM/KgRJCwfYy\n",
       "lR72hUHUN3ySag8nMUurPPSMyomYcumhBTA1laaCViy6qrhhtsCI5/8Dq9XfrRzRaAjdABTGLp6I\n",
       "cQffwJcnNNlCbrNhv1/v7oA5+ATgcrgNPhvhNUQ2AJ34htSbCBCp8g0WNeBtfrfqVxwDtA48yPSl\n",
       "jb7d/5Gx8fTCJlGk9t68Zlg/CwlqgOayr24u64hEhztrhSDh882km9O1rqhLSw2xbl55MEmua5Sk\n",
       "wmNZQOA3nPJdGsj/XQsGV7wKlsz05+l4QyOFNT07YgZZb+lITBphQ/Zgc/8+fbKOZPUWKtHBmMCJ\n",
       "vgG62YTSXe9rgVsmj23JkaEqLKYO7zcJGvhv84XBIhIzbjDGKnoPVpP5c3WMlFal9DnrZLiJQkQ4\n",
       "Nmm7GPPFsHGOjpxAKRGKaqgumW/4637pG3QFkeW29sCFL8R5ncVZE3Qk+2WJR7ukc9RCLSXvmsRK\n",
       "o9VJSG7H9BTKpr4HcjToGrGrkBL+K/EvruHXR4rPv1LYFwAEEsmQzrLV642z2RR/MghqPR0KbNWH\n",
       "Tr8OMPwas0YwxHIU41//K518Hl3h3dH4j9LoMxjDSZLcVZWen0W+ZV7RAAkv1zoRQIch6UQ586g5\n",
       "PlmCuRJ1emCbANxCD2gRlj77eto+pqPCYvLsxEPEIUsGAZhZA2o2m0j+hOixogZ8we5t5vnv71K3\n",
       "zE/DYEylLfDK1Rrjv/73sQ6/h2l2aQlTegyzgAorhEOKdkUOQKzkaCrZDyoaQCxH6JGiPhRbgets\n",
       "ajb26nEKc1MAXcmy8wYMAWLbzzbUqx+V6ZhPG7efvBbVTzzNxu3VkEthsRaDfXfkWmza8S85+iPJ\n",
       "OsWmEQnXCZ4dENUf4DzxFvcRgpikYpY0kLhbuUKco+t0y4mBobyRmv4DUFdqP2ZuzaUnbTObz4AJ\n",
       "jYGcrBAyeTg4NQAIWY844ItS2jWlSDjt6oF+43dYSDFjEW6exxUr640EqKEKh71P1pVTxHFbX3PN\n",
       "rMzwKbttv7iWGnZCR5r80h/wKL8/r1RVm154ud+XVvyFIjTEU/SNv/xjzJXoC3fLdIXp5geWEKsP\n",
       "869hhmu6v1pIKJ6s812ztfyNYCgLgDeO7VBSsEE5PY3YqvE2dpzgHql6bM1ERWOiSrMVui+QC0nO\n",
       "jY2c7/MvSPhggCSyqOraBj6BS8u6L9ALm744OKZdybgAAAN0AZ5/akN/AAuid5gsxXpeAEh7/cbT\n",
       "Vomt1DeHeTUJYCcZZ8b2pAu36DJKeWbzJBFug9JHjon9xQZ4WYG7IuzPKMHLrn1mdgvbovvrXF9d\n",
       "SYHSFARy8xZVziB5q062G0TFhohNukl9L9Z8+LSpOq2IPDHRLq3JoCSAEXekJCQWpcrm56ytJCK1\n",
       "BjkDwhP+oP9bsTv8Z282PLw/2DTAmrliiTFuTN8BXEXEeLfUam/KUXgVttEKpm6yz5Y6AZDsIgke\n",
       "wvpDjVXZYZ1HMrLWy2wg/JjSO5RuKXFJldKmpLGUqzEJpsEHpof06FHic1UYSvFh8f4NYS4pVVUj\n",
       "5mUYWj0PSKVC2nvi9+4z5UBdKlPF733vXMyQqrQukqoAWXXkRMTyiGruGdPKvrpcNP257lwH+STx\n",
       "jPDwo5eauuWwK8oyDcgxVIEpbiByyBsXOyOy+JnaFR163DwKELi7kVVORL9fdG6KsxqmKkSOp3ag\n",
       "t/UOKwq4+FPLd53TOm2YV6ouG1QUnHGaJ1353F8vhf0dyZVHp7xjRpGAkliSV9+k/yJ+QWldrqAr\n",
       "kOHcRH3PsP0dBVb5gclIca/RSzdeFxS3WMJBi1qTTALJyicHHnIAP7GzhEv7bsJQ2Ze5C0Pho58N\n",
       "Mpl9Rw0IxjfAAmV2tLqzDIFGzNaNK8bMAGqomBMosb06wTZ+YqWRDXRLP/uX7FY4nIa9fWyhQR70\n",
       "wzZSAct6M6TjMqrsd0tvCX6dTr6wNAh2vuCiUB9mHz8A+SpjebMH7p5XgI++igmTd/mlkcABidLO\n",
       "2PveDWJm3Ib4nBiYF6LGP4ZWfXIPdpmvMUFNvCZSJS0e2XlztPu6yQdewovgY96uNOk3YNcByaU/\n",
       "kIgROxNrhNlokbg8neupUT7S4dOLUXU8fg3EDSXmE7F3/OGBvZm/G9uvnXl+a03ul2ESSYErf2bb\n",
       "v5q+o1z0L0XnI7apAPm9GeKGbXTAAq0VZLEo6AT66QjzdY/lTYC3Ufg5SLEuTNP6/CfFn5Z6KKt9\n",
       "8sOvgKXUlUanAuH2KKTuqXMpe7fSxTZR247y9j/Gxs701JtxqUj1wGyAFPQyWpe2BPMUhgNT5/tc\n",
       "8u3cZ4qHJCYVb5k+z34c3IrbQaF0XfSN3/x0flSb85ILZPK00G9OSkkFFhwf6YBfS0jnYRu4aTpm\n",
       "WPoQYINXDAkAAAVQQZpiSeEKUmUwUsEf/rUqgACcM6pUCSQAminD3A4SNf/+rqwj/8SOxBOYNwZT\n",
       "PhT5ZgJ+lyu2hrdv/uSJQB1n8EWMxP6mNjnpkRqeeDFxN6OhfFu3/yqvcGej1cem2p25x1kmJbvm\n",
       "7jqefIU9oiPURX/vbavGGsrslBErHUz9aTa2jx3hYOtuttyTSHVBpBErx5ynHMivWlhLPNCK9846\n",
       "4OpnHtB9WOH4rfe8WV/W33SQnNdcC7FlSrbtIUaEScKmaxGUB/aYwbWjGHf9z2EjVEkFJMEcROnk\n",
       "lgccX4D8AToW5Ser1z4xkXAHLXX9FN8CWru7hYPNHUb3h25j0KOfd+H3z8VHPrtWO0a0LW0WPpHJ\n",
       "OhfFxSiz2Q/5S3kTSON9uUpxlQf1Bpj4vPIfEHJ7Y/Y4crrVv8tj2Uei7WYADwSF2w4/ezPBGW9f\n",
       "Mimo6IIrLeHx4UgOAMyWAYkbafm/hptkJXfOXmvskoCdODumPMMLHXYPhinUAt06zZmHxh8PSDGI\n",
       "KmA1SD0d1v9zlHjfuIhn2J0OPif+erDaMXKfPgFzLnLFpKEKiMHXodHfzFgskQkajuYUuE5P04RZ\n",
       "thkrlBOj29iEAGc81N6k/DcWM4pUYhhEBxi9cewcef3igNn+a8Q69YfgSYjw+iGBquM1n2ycrB9j\n",
       "iFdF91yXEtfQILkZt0uIkOs5K0YdG+mEu6KyPCq9gFBTZVKLp61MA3q2xg6f+cXWNW6Hx+0JGzXy\n",
       "SQHU+ryLRzkDuOo/Al0xhyJm/9fqgNsOo1zAj/7bvmdSgtprtATb0mKIHU/oI1SlR8GXhKkadrD1\n",
       "2mmZUp7B6wwBzbzlCVnVIgqV9UsFhG1b5Ou0i+/S3ySIhk6MumTcIrAC5dKEULHicNJAAd6JJsyP\n",
       "MGFYsO0kfrz86AphbqqbAoTcrMG21t0aZzGe5lLtjYQ8D1u4IDtYJLLTRrQb93hnzewDWvBaleAh\n",
       "v1KBPY1XiDU2bLAhw0ziO3Jwg/e6IOq12K32rL0LQoHsJCNQziV69Ml+LG36ay+MfQKw/X9Vi/uQ\n",
       "1XBDvShI7VR3h3B/pNmEQbin6i2lAzJUaRsCzlR4u4YKehnCIFhhcZdl9eA53w4GZ+nvGV1vtvCX\n",
       "xR68teMu8RdobHt6UEUJyKhSpqLJUNbHTCFuDgZqXMqrTWxc4ZLNLKBnN6r5PhVxntovMEe2b07X\n",
       "3DU/r8o4DBHZVQFBI85hwTbcDqBpB4jTP4ziUtQREV/m52AMS/8owVPOC24RTUQvXe5y4fqCJDH1\n",
       "uh3gLscyqFwDGeW7+pI4I/NuEMG2+34icmG0YQx/yB+7BKnJoxJddu2QXqLVNMS1pBqEj0zqRovb\n",
       "iQ9Lj3ecYB69GFhrzqSpYlw9HQhQJOdPkXxT+KJzWwYbsdHwALDKXgkWrrjBiStOjnETE7ogcFSR\n",
       "3mBEcOPAbKfzAGXXFOU7mXq5Fbm8zYiEatndPY/sy/q6DDk454re9pSuPS9FxwzJBbejAsuBQ2gw\n",
       "K71MAZfbmPtJVMrt+oorY9tnjxSA8FOMAOSTjh8HdcbDPiKPyjPIMx7cFtRqutOuGmK0gM6nGNHZ\n",
       "eqYp/4hN6gTS7dDHbXjXONH4rnH1n0LODcZ4k7my1zx+4x+VfYIfz47Bza+ZbbXJrHNR3Y1BFC0v\n",
       "Hhf6u/0BMJABn6VvGFgqGUNIfCgTRh4smNwhQhI5vO2uiILvf5yeoyclRYNdGJEyW4qbi8E7MtVV\n",
       "xnG9HaosLt1aDu8yG6/BPkcdWCckgAjzFoLdTed3hLzo7zCE4J8BQ/U+E/ehI4mSvEFiJNUDvkMm\n",
       "05sDQAAAA3ABnoFqQ38AA2AAYpVis5AAIL+NJ7G770HMkUsUgGFXeRC/6G6p8n82yBgIwnq3gt4j\n",
       "Du7DwShraGCsg7FQ5knywfgXDWOxtB1WVymW8zwCXVIdVsA+KuRxcfy2UNfZuvdjqHzj2hXkfAH5\n",
       "pLf58C0JPkMt2j0JrAPSuagIsgzAcKU/yfYU5BPblxhNgXmNicSJXaXaWa1O5lL9AuM+46Fr5JnO\n",
       "5XKnQjlwlMoUbuy2yzrRuESwtv2qIso7IvAy1DKlWeApninII4Dq7CNRNlu4weLKV3iGuTPp3znp\n",
       "oIikJkwJtJdBzKQe2+XVJBvbDVEReIvpnDrUYToUkbp46aze48CxCpyg3Z8RHWlon3Wxjx4FQrSy\n",
       "6mHwycO7QUM+bDXIuL+RGoJ2sZMNCUQOgx/uJBMcM/f0jcqGYh9eXCg/JrAJSa51kSb+L9yWmDYf\n",
       "ulo4EwyReiIxnRevr58aGHHZHJXi8cTv9gTihBlQ1GlzLagV7wcNFK4o0FQatq4T7HYP2f7beFzh\n",
       "UbHZoeBj1iF0dd945ZqEppUFWK1TqVIPpdt/kX16wnUruXLc9eDKhnQeZ4fHCH21Ofsk54mO+vF0\n",
       "J1DwRbAT4PJMSEDyZrTEJWuGQI7sZTjg5gGnmbsjUwwH5Jpx9xO+s0h20ADHhxjh6Yrz3WNthWQh\n",
       "GT6vIFoiUaGMsI4eYHm5UxFjJfXJkfuDAytsvwuazT5DBNApXsim42ZSxpQFHKZqbKH7hIjLBQGj\n",
       "RS/vKvFyFioIPoNsQwqjjUqkp4EMzWBKL2A9P+r/wwHev5BdT9hPOOybWy7rNeJ1ETu2PKXSWSKm\n",
       "jATOvtdwwSOu3dzrdwqVArCKBCWM/tLW6EhRWhZ4AuVGllD2Pe/rg+aDWclu488J/GSOPf4PhX4R\n",
       "hmdM5eq5hbvzWRryhWUHnToC0NnbuumPTVvQDBp9cCOquMswiJRlSkIRDBtCucoDo7WxPls2mYuy\n",
       "WfrrW0jw9fwDcwqcpkUZUZg1f0/rY4HLRDTLhpdVsLejAYxSxQlmFwsdHHCsT4jyH+P2OIzciW12\n",
       "XkAgWms4iv+j1zt+4qgs5ElgdkrmjE3UEKSzSvecgabfqcCc00zVKcYi1h8CBa2M6qe1TwZsLn91\n",
       "vFE4MQ3wduLy4MeQ1XylkOsg+sDsXoMcmKtZI7sJ2AFlAAAHw0GahknhDomUwII//rUqgACYlq+0\n",
       "FatX59ABoZWlPoD9fq6q54yuWcfC8q/FFBHrXnunE9o+c89JKhniZtvmFd7nCnH+SUgCgT4fOrEg\n",
       "DoL+nkOxYmD6MOzLp/+8w3fcIwdmx5i28yD9LpWJJwDH2ghPsqI6JL3a5nhCr6fF7/aJ/2Ov4ABz\n",
       "4DqXo1gGJqlTTHKIwfZ5rfLtG0XcTm+kF7DlPyN3WhShn1EbvTgtWsbSWs2fiWn6wNk35lfFZCXI\n",
       "ezn+UXPtqqi1RNJKHx9iPLXHK0aM0SPkhS8F5W+qVsNzHJOt9LIQ/IO1mRjxZLnSDmgfuCyzmn5K\n",
       "bGZMGq7deJGBQZPoe/pX4X/SLdBV+W5/OMrq0D6xJiblwavO9QVzBGRxNGfIFsdfp0dqIvG0oMQB\n",
       "5KfcE4/IhOWoPUC+zLLbWPm0pZ9U+0SbmG+gNOByl6HxyBJTa6xTxjxRIy9CRdTpXY0Fr9AJHijR\n",
       "YwJCmH+KIx+/Sq2Wqd1pfab4Tr/yvk8eCtsUMwtNr8Hlc1cXxyMhCpMWQSvzE9SbhWt8W5L/Sd13\n",
       "SU7nhRi+DOozvVwsmQlGa10SY//UuP8LnXqP3KNcakneOhE/fvqwJDuBzAftqU0z+x/mmwrJ/mfu\n",
       "mN0atkoY5f24gxs0XzvAg6BCDRkKm8iZoyX/EG0O72/DlcavMcgX+0fcW++qLnW+LCWPAGUgo2EF\n",
       "pNZJYq3ntDjP5fRnbi+TLaKhFw6YTVHHeS9OcN/oHL5aN+Pw4jI9rF4MmE0TaiZ7gBiWMORrHbZ3\n",
       "FPWnVMdr0++snZ2eQGvvfAltec3fqnvQnRW4dnZ28qMDxYTIjBeqL98vx/CuAZ3pkkCafIMV1y+1\n",
       "GH8QqRhmJOJWyYbeplXWBf+i9+q5/ZJoCo/+DX4CKlXUhcbOAi8ou1b4zWLZnq1Hvw3+Rf/flvLv\n",
       "2AQDPcHAHj/oJs1byrJOFVMuMpEZW7+VlYBYhADGWLJV3sN6QjJHk+WDJALTKlLfNn59QbaifgtQ\n",
       "PNVubwFhxJQHkoVFmzh5ezXes9qbrp4S+34NSYvb7lnOMrpCMrqfUsryAn7/sfW0NFPDB6EahgQP\n",
       "dfIXczEgxmQdsfWym96eU417+A2fLKA+PY2bGJzHQoNvr7rbUAmiDhO3E48lhdQWfypdovBfzTWo\n",
       "+Mh7QCt+06O0oHrZDkLUviNYgnH0cMpR4bsVQyiV5Jfp6XRGytL+muwS0LLI0eLFWbSfPuiM0X8d\n",
       "8nmrl7EGopzeM72la1G7STLuZ8NymQ/IMoesNUVPFmPSgfWkE1ywKa1zjefBqIGuoYa2iT++KQGD\n",
       "ABYkBcKXe835FpevpehDW52DU4sHStFHzVNSIuD4F+awc2N1y5miobt7vVQFNYSRLqI7880elHn/\n",
       "rxl4NMHDLVyvsd0OIlDd/9Pis4Nl89FToO3iVN6AyBP5gxP0e5yVDDjRvgkDECiz+vKY3dtrdUjW\n",
       "2jeyVTBi1tlz+/gkO2OdTm4PulKkpgjXd42E4ST7mV1/LsTtDR+zr9NbSGIlORDNUbii/FCwqhtd\n",
       "yfsxm4xDblT1fniM43ocVQ6U7HQp6PvmRcmCOP//feoesNbir+SErMSJZv9s/UMzOLZWqO0TX1h3\n",
       "bfTRHmExz3XK+60NtLd5aIm+EsdeAQiUNHF17C+ha4DY0FxphSwnHRbBMF8xyS4fvZRrstUGpRSR\n",
       "ZlMvtY0BzZV22FAzVr+hKjAmHjniTcqc0VcF072YDfAs8zjYQGu7E7d/Q8d2DwTsWXtpw/c1bx+/\n",
       "zXi1adZIP5WuEvM0ga4kT3/vPdsEbop+13ri9X0waDJDzL/KfIF695zaNIU2T7PtrOrTz4VW2q46\n",
       "HhaxVRjgy4czA9dmTVpXDNZ7PGGjOxm03x08WIOroMmZQ8zK5Sp9x80PunmdWZ0Qmp+e3rLNri3c\n",
       "q+YIyRYkD/igVAMJPmMEhgb4/wIF8BXfNZPKaxstkzqlHeqha9sDaI8GTF71ZE/QoUD0XJp8V42Q\n",
       "seO2kSaL620Jpvk038pmWYjZF+w+bVADbxsDFQ6PGPy1DWYqjMXtvM3PRSvAIsnEFVqCnbr/80P1\n",
       "/pDj/YCJOMHuuwkkAXAvb+yeNXoQQIf0bX6M0EH7ZWONJeryz4eT+AAHgMEEip/TtEU5Ua5AyzDT\n",
       "2C6/+Dv/9FlAH4rm5qOGwYe5jUdgKIo1NUHMShWBDB6fWQxcGvzMUZcGrlzfqT0/vfitaU1YDW6q\n",
       "tYZIP7yU685YBln+DmTnj04x2DJA7Cp5P2P2uzFypwn8eeI4LFE77i/tOnV69UXlSfVygF4CongE\n",
       "+AmOtb4Q7Fy6uhwRdKnyN4xrf4E/nhPlAIIyqfRHWSC4hOaU/wkREahOwmqxWHseMaRM5zF2xGtZ\n",
       "dSkpPjMgUAayoFpABrC/qZKaMiYyfIEsX4Co/qhw+VQ1ubW4cphgdxGmsIrtx5N7SPOD6UwLrv7y\n",
       "f4BgxX5i0hzZghExAnoJjSi3VFLhEC+cprJEoVpzbXC/87JLusC1b7eEbNFarBH2Wnv1joqViKTk\n",
       "YBRGj6FFq++cV0xFOgV+cWRJVGeQsjneIp+60d7KrpVhJS24lrRR3k1Tk1arWEAqBMjHigr1JUWN\n",
       "PtM9NceJeHRwFrURtytQQLSbsyxEkIO4JvQAh4AAAAK/QZ6kRRU8O/8AAlCbXfxow1ukAHyQtFur\n",
       "6+bjWliYH9qimBe9ckonLpZWtPRODFazjJOAanpdKkw2xj+vTrexsMU3ZDksg5mvY9XJWgcVfSJt\n",
       "e5iGvz9QvoR1KqtahI2zsILfBGUJbNuUAyKy6AKFX3lfaEbZOwmdY/Ik5e7xtozheLwdYob/5dE9\n",
       "ooXYiVim/FY6jmxnHUBLSkdQLKZQ85dCqpcS2L/hY70QZcEPXMNdSUqW+cptX/YJZ1c/C2BUCn4g\n",
       "vKh4F9Bb8rbGpCwP6ygmS1Ndtuuyqq7/QqvamoTUYgHKDArNUNjvnCvWhVTOcHFja0W3HDTSK94U\n",
       "gBqqeuTiqPQHgQhjdoGbS5yezBmL963IO8PZhkmD7wKZFJ/rQqoWIN2FLd5piv3W6TNZ245+hFbq\n",
       "h+hScjooT+dwAvdfetqyX+14VUnW5TNpbUvgghjdkU1SZOrWZvvaMDp5Azwgb9lNOtsMMNXRhTeW\n",
       "2Q/WlutIAKGUPs5Sqa6ilRncjjXVt3tPisEfpemFeXsBgIn7wjWXGasI5mPXoCla5ccRbVJJEW8O\n",
       "VMewwQUY5JhJWp/iul+2bi45GIw5+eTMaiHg9B9l9F7FyFsfAkQRgAUfDKgdqp5O59oZzeAhDlYT\n",
       "O9EwR+xw1mBRokWXHAzwslhqeIebFpuDRN05l7QlskmIis8BM9rVA/+OJCRlllPQeSeICAb06roX\n",
       "wRMy1Ebw2AJ50oUw4GjyWtzca8V6/UBcmJaEuA2n974zHP4TVnWwAqwqtj4VaUqk+KuWIOz6ERca\n",
       "6vkClUa1+V2SZcRe/wK1S+RaIbaJiuRkFHW3WbmsGXvqSZh3o7JMKevqFwQhyLp0HXq0RBXbx2RQ\n",
       "mbrUEbzK7uNWobrEWXxweKYIXEtWWpITo/Y5sFARAU4Cdui4/tRabbkuYHyZgsUKwIAmdwAAAxoB\n",
       "nsN0Q38AA0hK5A+9qtIyADZyxnjRBMtvEhEhdiqw2JB/94tgP8Up5SpR09eeYCm5xWgtKX8l/KD/\n",
       "sqTQxeDAECnRqFwJIgNL8e+fQl4azEdLZKo9tlwxTQ+DU9ZQAXa4m+1+qZkusZCdDRQqtofGrjvg\n",
       "X7lbpbYIwsu/7bKfHFIlQmsjgnTlUpuJXt3VjELDIxtHWt35MViT5O2XH4KxuCd571+qZx6rJz1O\n",
       "2ziBluDoWsPw/FaJHYABYO9tE2Kz7lsDr1TgrtHfOUQptNh44LKpwT7/yhH+5wkCyNuwmUap2Msy\n",
       "mHHOAcM5rS6/NNRvruvRFAGFShzOeM/8ANFMTMqIjZNH1JSNPQOQ0ELHJwO6lT3SRJ1HHpk7i/NK\n",
       "8FtOWA1Zg10UFSscMwkd4pEY/9SqzmHx/vJknpoG+CPOGYbwHf7uaA2ITYHcccfvJdN2dLrkOiCs\n",
       "JIUItP6ikSDi73/qf/c7DmBXYsSAh8tTYXYjGglnhYKmYnLmb4Rn/o+fkabVx9khaj8zMffK8yNY\n",
       "D3/BYyY2FXcFT+nyfQ1xGtiXRgtAMpDsyyMD9XUMBqQzfC5uZm3hen0Bw+xmlFBeUhRCaNQGEERu\n",
       "9lHk7m2lvUlsY2clCp5y26XauHRI4ky61awwUiMuHifM/I4nJH0ai0PKHXP8z+l1cHxjYya9o1si\n",
       "dVrsadOYNW/THVXDspybULKb59mZu97THXZcuyxoNOqIBpyVXboJoRuQxn1VqJBgWwRcfR2a14W0\n",
       "a+AuvXAK9XU8CiHECRn1lOEcfcKVcg6RSQ1jDw9HGgJ+naHhBmmsswZIDgrtxIvDkYLFEPTDivwM\n",
       "aa5/gmxlmA8w+ur58CxWNgTgZ6F+L7rd4vEJKUw3miFrffHJKuTQrvCrOPuUmSu5iRnfhgdc2ang\n",
       "bb9BjOw2W/KV5O7es7Eu1NvKJolGeZ49kmaqhuIvG6TZEOpyvcRyZZGLAkyNndDmfoZjQpcUWdKC\n",
       "AatVzcxkrtCAIp7iKVS99HFIvmessewS2qgUB5z5HPE0Ebh3r9CGCzXTwnDNjxc2WwA9YQAAA4oB\n",
       "nsVqQ38AAy5WobwuAA08VM1hVOh0UYVWkfBF7CSE57ocGXKdo0rQ/ZNjVdyk0+7Uqrw8sf4hEFCI\n",
       "1DwA+rbmVZwVdkBmmhfbEqWAOoR+EYEWBCdvoGBQ24GI6Rub4EYUtzzsDc7CE2tcC64aFPnGk5Ib\n",
       "DAYu6ARq90z1JUtPgcz9cWr8VbEcV51tniIpjDZu0Ey/rVccsbVFA1iYkRMDCcc/bS5tuQV4h+hT\n",
       "o0UO8Z1lASp24U0Luu+BZTokvM7LqNUP+vAWuWT430HeWkFPSE0N4TVg+ABnrn2Gjr969mHMX2I1\n",
       "GKsFib3x/Rky0i5kTRmvkHMMkXSINhB0x8WB+/VD+daYDoz6Ck3ao53/HaRr/6M8tXGW2BIF7Yi2\n",
       "avNiBb25OYjAeU2nlFsl5nsjZpWgxMu/89rm9C7wPdpKVdMYQN76s/VP4T/6IO5FOSHUwImxwXE1\n",
       "UiBTN9xyPCGj4vs677lv2H0/OEvBr9TROneAMNiW6URbLLVoXmk1myzAjR5kGoKGkwlxW3BlJz63\n",
       "WwjuwPdQ4M97wS3bHfm38iymhXbTbLsIGR035R9x64h2iH/yW6RzSfxV4TxbFPUdB/RPMwH7zPET\n",
       "t6WYsh+yZGgiYQTiu6JZ/In7ZQd1f8CRGyT5Iyk35C8ogUcA0WWPB343gkVpN620UoXFr4flDHbS\n",
       "9mZHu97NvHui//3TtGflHLZYGvJ9jCQveHXgsSQ58RyayNSvUcOg18umafqyqk6Hib9NHfgZIs8c\n",
       "FhF0dHqjdsXnE9VE5knD/cbVN79dddYguqv+8IDpFtc9GO6SxMhluxSPLFQKo8oqRHNARIsBqlNM\n",
       "SrIrskW/3uTYhg6nU37RrFW4FX3W4rGGNB6t+EYsagx6LoI0XsCJsDD1Xs3qec+FWqvuEOa4pzIe\n",
       "j//V8umjv913S+t+ZfHha0AL4A0aLSDn10em3xTLK17ZGgqbrKxzor0HiVbzrJ7BldKGy26MX61i\n",
       "qRQb1ECYmikiEuoS+qktabMhBar1T+OXfBbRDY4kWB7Z8ew8hlc2XHxuuwV3crPeiIny8pUnCikN\n",
       "fQLZ+3FmG84ah3l9RJG5Cu+/8eGQx9YhB98XIrDVtwN57gJKZcV60XDUgnaP7asy5fnikK+8GU1C\n",
       "pYF8E1XX+Bjswa8A0IqVJ+4/W36VvweU9N1GI5NikHZCqNaKlRjhFEL8AeXl1uYADekAAAbXQZrK\n",
       "SahBaJlMCCH//qpVAAEon+RDVFAABnJwjZtaWYVzWpGPx3PAWGA4x718zCh4HQOzVkI+++6qX4Oo\n",
       "GG6OvKhhyEUGoXbuBQevCyPtdtzz0HZ7Y4iLxe8p42FnAdlCNmoYYPYkWqJLXwJVKv0nQ6d+y5vE\n",
       "l26dQdydMfSBkYPV1E4Qz+L2wtuccsHPmsxavqs4DdLIZXOlQTWfqVuZjj8tlb1YBNy/KotzUrnK\n",
       "0eaNEWGOIzLJxP8yg81P5TfToxUoowtSm2pa8/NyJnkv1a3WnOWihkYry/7pmII2VnqD+7VKvuaf\n",
       "3RXmw0lBI1oiCIPsPpDJb/ZnE0CJvI/x/fPTg5Ly5ID1JbgdeiyRyOL78ZUJSqBwNDprwdPqAPlY\n",
       "pfb8ozJ0/FJBjqxomKnolcSTQjvTb5fwk3XIqF+xwnrhbwHMKqhdAco8POsqzuG+ykJ/vG0nWRA8\n",
       "OVR96hEzP0AtiSAWSQMWeiLxqcFvE4ZVjB0o8CWHuNHeEpmuo5Vw/QgX0Qe4KJLY9TPD+IK9O67X\n",
       "fX4u0AVy8vezpVdCjqhj5Ni5iUQv/pnP9vPehurk/mfVolnULakJ8+7Der+sUbcRma4l+2p/SN2M\n",
       "xS1F60NvP5doJngcoOflqT8OmMBV54RfEXKDCFyp3LlNx7pvnePiVRm5DGplrltuaK6Sv4YY28HC\n",
       "Or+ZYexM7on9B+dDNKLNWRmOpyLXAQjqmqzYQvA4Sb72RW1cq0Q/dJvBvVrAnSFEQf2V0IQqWS4/\n",
       "MNnJn6j/f9VxSLU5qQuzeqO4rAqvCLPIPtOlNT4KV/voyms2QmejSCdCABMV6coCxhY6Z9Uyb3RS\n",
       "vfHUiCFNeLZzZV0QizWlkUa0A7ulV2zV7QGUuSDls2SoQh3F66SxjEvTwo3JOfNPrX7x6kZ//wUs\n",
       "S0XgvxI1kpeGRfP9P9YzV6O5KeHa82/CwJ/72U0FqDEbDxO2eEcqldy+j7ZQDqY0pzs2akysmPCr\n",
       "jsjISq2la5C46gDjvDwjtNlRqJkoruNtvwWrziK5HeVJhQ1xyQfmjkAppE58HXaJ1e13RJXHRTTh\n",
       "Ki59VH15RIDF+7GSzrYqk4rbxamm2BibVMPwsSP3ILgM2mNnWGh+3ePMsHqk8b6fS/Vb3O9d3CFq\n",
       "aJ0eCfp4wxLqLgUa17TDXIPIXuj+DARtzTBKcUEQtqfcMMAb6wkkWqzIPwo/7ngPg838APBaM+7x\n",
       "6OnwRL1IqFJgi6VRyIdS5oqMsHxIyf2+4baN454ThbsqlcLViGHJBBjc+rUQP7Rl5EnyEFc83vFR\n",
       "JLxWoTmSOz/o6C0wwO7sK0m/RkpKlfhpSVFlHbGrNL8phvNJDYjlLaSZcEJr9+0Iuuz5lcn4N/yC\n",
       "yb/HVDIFWXOaQ3WPR9TcY2fMAtbONaRF8Bpd8Ng0jS4Ca6ECsXk2sEPeO+F/tCPpNUtGadFui2Ul\n",
       "R48A3MFPEblPI9+kYRpS1plvC95s9vGurjMFJFvj9tAiCb2lXVfnf1T96ik17PxCRyGXapFZACnX\n",
       "Wg+6aGWArJ1cDcJrTaiAPKQQSkZbldttnQ2LtfVORdAo/BvBEoRUgPXcMt2LZ+XQkn986sG5MxGw\n",
       "mx07ZWWj38FiaNInxstY8BDbcxPP5QDEyJgc6j4vExEJW9SPJFattxXKHJ0HQy1DmRAqnc+XSpQt\n",
       "wvGftGI6KONd1+CnyNZY+NwPkWhZ3dRgEjK1BNP/PtlCzXyZILG8zK9Vy2p2JOoIv5T5PErLqbQW\n",
       "V/QYe2NS9+4sadCf6v26Tzp4LId9Hc3i6wbOQ0fG2yoit1g7Ca9BIeA/mSNAIMSGDSiH7chNsANy\n",
       "fvtlJeRePXqtVu9VqAIV78YBRceB9NHZfJQHkRC6rqDuCwVm1m2jfpw/CW3OGXq23M6jVsyVv3qd\n",
       "5TRHCcx7PlY975pNcBJ1mw/NETeTQlF9B+j5XQ+PLX1uxYPXR8NhfqLCprkc5iUFpXubzO69sxZc\n",
       "kkyTQa0eOxrRszbZ4gckG7mRt1EJAYR6A+FK+Q/k2SdRLmIUA5fVnmDj5D9GHtHh6+A+UZxVjXIA\n",
       "9uncgc7ErmZaNFF+JHDCmCjKtXUyOEyQV7KBd3fSxz0bhKVNZeOc2O5dLndGGDBuiyQ4qM+splhe\n",
       "xRXwaO2VbfEMU8JgglqtcDrbbuCvtMxUxkytW/H5r4bIEU2TJHDUu6TFQYIvgnimUQy2z/TdJKxB\n",
       "iwBUIHMs4p+jA37VBaPqeQrHuAghVGMoE0TfFxkDPaHes3yFQg7S31PrX5T7dYSV9r91qH1SFtE5\n",
       "fVvcc0dn011OMD59eo3oVieksSVGgsQ0AJTymqXfRFvtcEgAMWEAAAOpQZ7oRREsO/8AB0v8QDBO\n",
       "Z+J/50BgA/4mLtLw4n1PJUyVLv6i01RFvb599lTWSgPoh9MbJzww6AhwscSe3pDPiZmP5sMc0kfz\n",
       "eCPUDv38+o7EecGlDWsjUHXTMRkAsdAT/7GtlbgvXBi8HJC47S2f7ZS4qGYxa/p6YhP9MLCssq4a\n",
       "MUtL3Ti6onWb0C4Q+7+Dpkpb3C2dCdCx0XhA6VY7OVb7m60nBzlAqRjW27kiXQrWJzVWQ+/n1Kw5\n",
       "AqIy3tIG/zT2owVaGDCz9iuVJ7pRvlEUh6TCidKC911torLalzc37C6STdmaE+fS9S+NTOiKhcRi\n",
       "+0/ivkNkXNOUP32bxvbPXNjo3xbDqKD3FSFIcuP+4M1DKZMkVTEl1TKFAJoZPz/ZQNNHm5bRED8W\n",
       "FU+A6JmGJuvLBzwBK/qftABnqlzRmWoLf2zVl6MpTjUTo6GGqARaB9fg5LPLgRjKkDNFoCX1avss\n",
       "a4fhUpu7d+MnetH2qd4hG0KTYi+p2xbVLOHltc9UdkLo62XSvpapMo/+PO8tqkaRusY5s2nzrqfw\n",
       "TyUzf2P4Rbv/kT0AwqMJvGFz8KVSHQ9bE+V6GHmphGstTMRKXlEVHxr0AezAnC6bSFvYWHAvvRbR\n",
       "NBDRXzshIkNUTISKC5vzp3hBJ6zAGqvO+/SoRY9BcC1wBylR5fEqEBVyk1a0yZKMp/reWezjQsrr\n",
       "uuWxd2ELLq7nP6cKNhcmOuJRerwa9nUvRDFUH/ygdZZa8wxgw5OhtPaqR9ExpOql8Ifo9mn+McM/\n",
       "leSLN8Q9Kksj8mzj8chsFSx4kYfkm8S6UV3nTqubwrvALoVRCfxBIdrzdg34SPtpd3ZTQ1jxrDMV\n",
       "UQ9ktpW8IcD+haUixI9anaFve5S/p2x0yE5kMbW2GbwjVJoFQt0cIytWNP9Xkb2B3sIfErjouutC\n",
       "RWRf9otqUYnm4cMmFufo+4cvRMMKaokmvRWNCwxfC3whUumvbV2oYQNZMaNV84/9iaEe051u9Yvq\n",
       "u7eFGYhbtBAJNFVZ7Eg5VJ9SeBXZjxYqk6Y8zMujLKepefaFzOPx7rvV+vjv4sLxM2Vir3KH/fW8\n",
       "WH3eSXDuGDvu84UqrsO8rFMLSKa0Y65m1CSJkn4avIITvy6uY8PioTN8xuXWUxtvO16PFz0u/iAf\n",
       "pxQpAqC4rZZK+1aWT9NgVt2pQXWakw7doZrNzka5/1gPsYyoVZH9q0of2snkz8iAsU8XMCsSCcB6\n",
       "NEJV7scRGpgGLAAAAsIBnwd0Q38AAzfVP0ZDcAAJbVIAPwRiC7LrbGeqo83iCL7LhRFy/zee7tbe\n",
       "2mwrEK4Qf5Kf++PbupTkgT/PH4q6OkJh8z/zxC4+TiaJFtmu6dKI8GGvw9tuReJ42AmRCTsx7KZZ\n",
       "LL44jiyMhYDGn2Z84A58gtWr2vIRIxLGJzfqXd6dAq6AY1NnC9iibL2tGQNw612NhpUeol8tNdzm\n",
       "ALE/ykTr+p1MVjkKFyqadJeq9mGugsF8Y//j1YSQPhmgM6Ftu+kegBEQ2Z1JKLO3TbD5gxdvFI86\n",
       "AuH1Zxcxlg4wOX0X7Cun0/H3sDh03trY15Z4juRNyCnnmnskBULSIxRqZya5/nz1BkZA/fb7ToSd\n",
       "MBeNWWFTR7IYQbN888fp5+lWMgvUEPNJcdBjFSpywC4mIHVUQl5M6cac2Jt759zZR9NzFCX3Hx8o\n",
       "9aX0NZgZ9vo2pEO+Q7WrsEtIGHZ/mCaiSij4qAad0njmdi7n9rWAWFCyaViKuYmgmxO8twUTiqLk\n",
       "kT+AbBUUrIY1Fg0OvNCMq6OdRarLdyTTay6D48VnAGoe5NmQHNOZPpnTcDvMeNdcKuCTvMFXwYoN\n",
       "GJtQm8Ho7EmBg1iBnmFK1uCLFODYYhXmqI6uubovU3h2Q2RRhSmvOeNLd3bvvevj3zkkw4UUkdSy\n",
       "jhXAt+zc/6pa5Y3URHJyI8GpEGJ1makXSNPJb7vlAwrsE/tq4hUzj77ci1BpVGUAmiDPe1YRaPQW\n",
       "BesCpQUPnXxW9KMWdp9qcnkWsBdO1MqYqmn0LpZjeggTX+qfR2sedN3wD0MiXJANvSwWvSotfv3D\n",
       "/6N2VHKaBncwaT7p2Tp0Hz8cu2acWUdBX7MahsMk2Pw0FbQJcA7hrkTKNMJAK1/ME3CuVM4Kt18f\n",
       "xO3pFiasaERRIsfOuJkaVuvfMAwrtt52ToBbnilOYX2OEEvAAAADTwGfCWpDfwAKhMD5rsWK9mqS\n",
       "MoANmLOTJG9zLIDyDsm1u3e0glyZMqLbQe5A70GKpzzfV5YVNV11ci8o2lsw95aebFZWwITbM/nI\n",
       "sieFmkp32SJeQl19EG9PSYrecl0VRgc0QhEka5ITG/RvJJ0SO56foWYu4M6qI8qmqz5RcmtOeTh9\n",
       "3+t3m58/dmjXAk/Ef2jJOPV3RdSoqEbCi1SEAjIWM7dWkTz244fGXvYF4AJjL8cuvWPFtmaokrHF\n",
       "TrMxyGNmYjXdM2uqv/3udZp8KULGAiwhnTFcy4gWTbH4gs2A8WvhuYvwKcaKrktKDCgdq4bsA8AA\n",
       "Ber3qe4TBm+VVetooqyvxT7k73pNe5AeTfOght10Bm6CSnjMBmPc8XazG+AcSt4q0WfobU6r4Ded\n",
       "Z7qepEpg05Paishddr2qVCxjeiGuhuIypK6Xc3xolIB+7thvlWIEu2XTWFxt0OcBG9pCBrDLHqK7\n",
       "I8K2pCmiWcR0ZLIovbBE7uiHrG0iyWLsKyuanKqfHnjZvgY2cvX4P5PpXGjGRiIlPTTk/uBagU5h\n",
       "7vcNgId9EEbM0FrM/rrvEB+m3uw3+TA5DOMNwiQ3CvcKZkBg3b8279kRpyYH/Sn9w4ULiKQgGEOT\n",
       "71rBV1lzcv8TfE96oW6yhCTCyXHzNJIvDhkI3gPe0Z/91Kx+O2r0IZYCa2p8oVqaAFSApBWT07Dd\n",
       "3ecYWhGRm7nPGzC+RskF0RBDtapUdts3EFXD7fnZmk2MCW8E5y55UNIrgUXY83RC4v1hEypYtU0n\n",
       "bJZ24L1T2QMMXO+GqfnZ9V3wflzjppgBG9YBETXE/EmO9JjEX2d4ZyAf3b2+1oE8PaZPbmhLytTm\n",
       "yEO0gQIHw02v1V5NJTmnA7BKvSTIO+T8Qz2W3vxdS6dvSpWF0u8IjBnUg2icq/032cvSLbVte2E0\n",
       "Qk8MAYrPXLWP/5P0XAeaV9EJTJXZpyEGxkZM4lucqmC+fIFcjEYcPZznIOmwA8FY2rrCtVsxa5Tb\n",
       "joD1qUF3saGl1hInCK3qd5+yLuXwsQzBZ+jA+ZUUfMKyBpSQdHVmQSdH15KYQhcRI3+4C/i7hOF+\n",
       "LN2CI6nRA/n7pwU6mxKgr36/2SydQiJYUkOj1eeAQ8EAAAV3QZsOSahBbJlMCH///qmWAA6TU5lf\n",
       "/0N0kAEP2naa7PYK+tnuXTxLF7wSS/6O1Vmk3sJa/TQoIi5W+kQDA8xe8zxxs8GS5wOd5Jtbu/9e\n",
       "+rbifWnAsG/ipBM45O+6zwYk+U0kW62z2Co3C3bpfFQa1vXgb8dBdXJDaHxKETLgo1jwmSfwGeW1\n",
       "DwSDlArv89g4D2CoZeIF7hTxR52I6XHLt2VopK1JjZb7mKLmrh7I3DcDCqbC4lDyuA3CvPupNCVs\n",
       "RJcNJlsY4MUoS5DKEBUtr4X0KrFshVwTYMTxK+v/GwqoI6qZMLy8OI1r3eardOEEQLTxcd0Q8y9J\n",
       "LS+lsdhyLlrRpYb5bSFZk2E7dUbGAnZ1Z2eR9iCfvEFXdF1+hLXaHO/7EbU/QEv+A65u9UJF4wzw\n",
       "tKiCv0jtqPAlb2sdDtkCQErWuY/gQOVsKsBcvXFRDIdRiIv/ofCJBDjIMsmh3xOP/qvF0majsU7t\n",
       "DXhm9VnBChtHIubF3V7H34BTp5lHO2iy8/tGhGT0sVy1Hv5wW8wqU+mM83+y8VMaWXa42ASERx/f\n",
       "iDAsQ4VU/SBs8ECl+qTmoM/kjVZyKERfMrjBlJum4MsGuZ5EKVPh13xJkXx8TianyP6XsZx3qqBN\n",
       "QFWNFqlUCSaWDr8Npa9KbYkA5ukEGcOtrCGaO+oQdjew561EfhcQNICjJibFuConniX8g34kyn6c\n",
       "KFeyYwkYvQZw7obhOxCUmI7MzdadsuFQGYoKALCFA96pu8GJW3XAunZ8L1rKtDFqpz0JtoS4RwDY\n",
       "0gJCiIPe7gAi7AulRyLYBXuea//kuDAdYZoxigr3njHBsdN6FxcFe0A6X/XAoFo6vnMWEDAoqoce\n",
       "/dO8kbXHyF2Xa9uTpRgmoNH5kKeWSt9QKJGCTU8spwMLjZBOscE+1XiUC/nZJGaW0E4TqqiAQ15l\n",
       "cKzZ4696P/EzWHWmXN4YuyQrwtI+2D8bAJZI4S2VlfasvNkTddYGyaG2g24OCbhlcO637lLsjFn2\n",
       "rbBdhtw68YEHC4X2M407x7JWJGXfj6G8k2dLVA4vlrqDiaI52K0j2m38dW5aNV8wHSnkXVCVih5m\n",
       "0aYofjnen1cfdkmkMkaBkuXW8EQxdNDTWvqpMxSVw8HwhqAw054kSAixmwN3OmCyMFnPqdvgfkxx\n",
       "u8QSQtIbkyaKjUD+gXo/l2rj2Lt3bjM5CZ06FGa5Jl3feS1Xey3sZrKDdKxp+Yns4i7KKtAawS4n\n",
       "BetzFqtWLvrP/54U60YfcAKGRjuku5dnngQa4wDPoiIECRJXpBxc6fShGLq07k7ILL1Ds2mLCbvp\n",
       "m/uU4Ku4tulAPpnErPA9t5KFHpYdNfZMZ1IirnDYe3IpKuuUk+gGVgB2x2igTkYFYybAy/O/2pdg\n",
       "FB4L08Hoam9wEgkT+Jtn/emxx0WKAVkIoU0UYyr/Sfov9tb6Qutq396+xzG6bUp9w1PzGuFG04WC\n",
       "yqsol92iitrdGCkQD+MhC5mrWzcPe8TniO966P2aCt6OugHy3QjxaiLB+4af95MOF1/ax/WTaEIv\n",
       "qMN8QYTnd6fSdfww+pmrAz1Jfg5PAe/QndFKrhmUhzU3r47csWoYwnacByllHNUARLFbhahp1IRA\n",
       "4bYYp8DeltOfORAWTQKJXKoZZHPEEWaJAVA02ZxpW+37+HAa2Z7jyDJDbgPy09OaPsvcVWEmsf9b\n",
       "Q1wY6TPD4k7Kyyc7Zc6GBcELGEUJv/tDhAI1W+aS6rVv4wIIYGnSdyx+2dhCURsgb4pJPR+b88B5\n",
       "LQ64mrhUCefUMcKeMLe0hxZyuEuPcpVrWDGb5lK40ZGJ7R/3wEYuRbUOITQ3BNGV4Wky2uN3/INM\n",
       "36ubg557gO1hgAAAA55BnyxFFSw7/wAHChOLy8Vy7vjoUelmgA/WMYiq0uVjon59YGSxaPFIX61N\n",
       "SGFTIQzfkEAONNaFcoc8vfYYhimkUetQcfoG+4FYb51MfFWBGA5OzS23oVOGvn/Fs4UQWZYevgRu\n",
       "pnjcxkWJfRZO7M/B9qs/wECebVzZamkHgqB/WPscMUk/bTM0SeSTKkanY6NwNMVZWrGicjIQCQ4j\n",
       "APO5ZFfCoTcrTjcxAQHppPQnHTqwaOqoDE3NVPNEL3iza3cylO5GrX9jluBXnV8KQhrXI6egRixl\n",
       "qu8oDzaJh/OT2AXFz0SLjdGK+lr6mdBIDXk9ChqbKndr87trd88kCFPej1c60JTBZY+uEK7tcnnZ\n",
       "yvQh+ndLPidVVfc6TmpkGX2BODNeGgNrSVLFWG/qcmZKWC1XGx2E70cmr7Fsmffwxk7l1r703XSX\n",
       "0qUjH9dSFRcLsO+y7kl3xj7AlT16y1o64s/vJZjwPQxtNdRhmsP7QiagW//QsSPA1hWqwvWMI+74\n",
       "F4sHnFSQddXP0RLM8wSTnmhW8e3yADnrxzpKKOI8WzZIsfp2Gwg5msomV8b5yRU2CRcCc0rGgzca\n",
       "FwKSUW7tyn9X++ViCvjbb/9Uc+tjIplMlxWAGzhDhwvHaXbhy8fEyrKc/VyV5sQ2G+9vGzbTrBMu\n",
       "LIpqJ8JZX+QZ/EH8kaAY1AHhIzVH4Su/W91rAa3O6yEOp5ZGxRABOI1H8y7BSklC4mMyEp2W7ewN\n",
       "+bOHFCd63y5aU4qmFQXTDjP1qGgFEoUviXgMWaF7MGU5H+7Yy0pPBFCZvhNB5Q83S/YgaxumxvHL\n",
       "6WJW3zYi7rxr9xTJeRJDIeWvkBdxtyg/b0CwFvSEEk6hqIM4pqwzzYN3FFOykUiYig7mjdW042wg\n",
       "ZBNXke4xBxaPakFRrPrKd5EYEobD8DFxCNnbR3bU6lzHpxrt3Wf7tPw+zz191yiEtYf+i9hATKjg\n",
       "a9p1x+Ug8ez4Zsxo2T5lFy4XwUjVmhSl9JQXfoD7f9gJj8tWONRsGwl0ZMauvFd47vbfsWSDHMUO\n",
       "vSdlrRvSBpsonbw0EeTcxwkUQRoZfaIOwRkW5WEzi6RA7O3BfgXEd9FKSRcWJotuneusCQhREVlK\n",
       "bvlPV6pOEbvQewyRFrFSp3kh9T8/lm+WcAAafrOutkDgPvfUFonGl6xWkh0u2Ts4I9lBi2i/ZWeY\n",
       "O5ZNa9PCsIkuZcDWLv2Sg1lLbKUl+GxOMCmikgAAAxYBn0t0Q38ACoMazXh7JkOLABECQx7jQTT/\n",
       "XBHIOZhBMWbAxrNyU4Z8IM9+fB8k1yhb02ecXrq7Z4AlCQHVAFnLZCtzfqAka5M5u92EeyxNGmb1\n",
       "YSTv6aZMhijp+dVqn4Rn9FJ4ClX5xY0vbVNrrOO/QF97i4titQAM3vJMi1ZFMMm5+5bRYEygVUqD\n",
       "Oeny0EVdAJqroTbVeLRpPAN5HFbkwxLP81we3vMo1hk8G9OUkuRognLEbNE5uSJUr0bpcgUdmuiz\n",
       "0Av/qukCj/R1hfYjDVjwRIF5puNs1GYbO/3uOFpCkW0D18Quwl/h2m8v/YeCn+j95AmS5UCU8j31\n",
       "ZlloBpLv1O4dhiSchhprQz4t+9+xqaftRgEmvr1QGxcmaCViZdUuV6WcrNsyUMA76ldkl8yT8gcB\n",
       "etCKs2gDcydDUu8GNjliA7Yob6vXwgsFZN6yvOXo/go0ld5TAhSOnYbiNS3QG9BotFylJ/eHpL8z\n",
       "CKTScvPe9PO8d7dKPmfaUEZF/UztQ/ZalB0OQ7IAY+r2eQgAtAHt6yT3t5o34el+em7ADvpmC2yv\n",
       "G/sDUlxsway6aJTrtsFbyMk8HQJEDtjB2ADYhfduIZ6MGgTW21Bf+3gFJHWv+8VDdORDiNOr8TXF\n",
       "53sxXryGkPR60SnTaIGQWQoy8G/n/1a28LrJZh0yX6xxJbTbAX6oA/S+fKyPJZh6YbYMjbnK43s9\n",
       "ul/jNkkZml45smDgaxtdNFIniFBOrI5GqM9g9YZsQnutGERrDGBC7FHSMHtUueKzKQOZoU+M4tTh\n",
       "HxaPx7EEXzqm5gcDHpV9i3d+Hs+lawTu9Is3qfKuq6ETtI4/tjHLSz+MhIv8JRyDlsWN9H7x+frY\n",
       "JX5aoWXKiDCACBp5xQQEbUKFjhKVSX/bR8cDcJ4LQkT6AX3blppIGKfArjCKCKKzzMVUENM/Ejsm\n",
       "gIEG6LXDScmt/atffBAoF9yw975433eljDNDx/QRxjcnygdGgeAtEyAUySEEUXIqHp3FyHfUwbwK\n",
       "Q9VrZmw2E0o+Fx5oF7M+XwhUYIBgQNmBAAAC+QGfTWpDfwAKgnUdjMszEy0N63TYAA/KGEskWCu7\n",
       "5ce4YLnTrCN/YXojAYWldbjmNACV5YN/FMhRMHsP3+cjzcTZJhrcKHS5nNYEOjAKT5bRZbsBloop\n",
       "KFkh06wW0MulZbbh9CtUaRYQMt51rky1PdxZFTVfUyiAY5teo4XKnlWMCWhaMAdeVYMXMUWyJmi+\n",
       "V/YGW19HbNETJIPbeM+TUZ9g09TnX+NkqjG5H7Tg8r4vY8zo1E5OZ9A2+P7EySae+ypRsbPDEnv4\n",
       "QkyFVKj2mdHbBdr2u3bu7jelK3przXmWKn7eSL8Z3a3Po2fPVujEMsfyrbYZhP6Dz+WSXp3vZKjJ\n",
       "Y1VH1ixKjgcGBWtNQ0BHc9EC1orvCqR6mFMRpJjqg8RJ9glk/MmYgYm3s3kYnPlP5se6lw20IjsI\n",
       "zdbU1DHSz08boMxyFp2drhxo1ckeQUvCrZ3GZZGc5JOSxvGrOPpm2LVdm8chj6iDABuerX/RzNMi\n",
       "x4UUjXOgjG8DA8DgeT83sPlTEW/8c50FRhfFaMCSRamY2A+e84SqyZYwyHpRYX04j8XdLXlPf8uy\n",
       "wbCwa3Lf3y9HnQ3RY/GB/jFafHQxJNfFOS6PuJ/UIpcZyp/WBCf/G+gNbFt/q12AU8TxfmM3NNIc\n",
       "eZNyNCcOTmA2zc3EPfFOeb546Inc6C6AAAADAAIKYAAABO+9yKzC2uJz1Mj/n88UWew1iRbcqdu0\n",
       "4coBrCfNLBXn/977/hGnri9U0EcIqApG+o1Z+Y4N7b+tz/SQPqQ+Y3ib2MyDxBcweaIiy/+hIkPa\n",
       "53GY1zvm/XpEze8pQ/v2FRlwkne9kdfwnXrIUblCyKFrkBko/f/BaoVY+zbhCzoxMoQ2l6RXcYUy\n",
       "xbUa9TdoIyKWid8lAAR37rT/WrB+wPRixO6MViqHAL5S4HIuFG//7VFTwz/uvGbO3b/P5BOfWOM8\n",
       "KMutxaVIPGw8yAMQ/MReG8jWumkSC18C8hXcBEO0UjDtg5M3OcqqPYGKV581lZMzAAADykGbUUmo\n",
       "QWyZTAhv//6nhAAcRgE0f7ggjcAJpqs2rj3SUuvze5WYpWYWb+wgtHEq7Evdp/LI3AX18RE9n6cY\n",
       "jsmKAXi3rMMAdy6ODRcSOC06uCRN5nqKEftWRxz8ZEyyuluztKC5QPQFP1PjAhsWzysZo19Js3E9\n",
       "jJrRfst7BQOsMdM77+HWeEqtkTrw1l9f4dnDcKx3JVy/Xir9/DytZ0Jg7L/xEIDIHwixlgg9GSjj\n",
       "s2479cT6MAvn4SqjI87H+D5x+KRZyJb98zO84BYGNGHjkfWuw1sBEVzpWOzZUklllbKsa2MXwrsu\n",
       "WOCCeoXu6O6TwedAcnOh5QR4Y0prl+dxOVpCq8jJz5yY1eE6itX4ACIbMNgIGDM1DynAuIN435Hl\n",
       "1TmH2u+7AGmUNqaPC3jmNWldLErLlFnmJNZIJ+J5ZYKEIX80FKE4bUXqdmMVIxpdI7C0S60pusmi\n",
       "rV/R//aQvGPsPXlh63m1RzbbrXAjwS3lbRL8BNVWedNb9GB69GC+HxIyinUzVVo+RQJFqmNn40B2\n",
       "98rybEy9kqJAyLmHZUifjhKY+pk2gD2MoqmG+fiCfhUc71D3F7TAz5NishL+dsdPOWp2KId5gxk4\n",
       "muyOUfHNqycD2wS0BSbp1K8rOKv+8fszPKf48WDD8poHulmmVVZsEpj7cDTGqjmb1kAf4YqjOEsj\n",
       "oE6M+NF0db6xD+pLN67kxE17jTReCBQ1n67HVJXR3CFH8Bhy2vGegBtoST+bEua/BuYRZc6YeWto\n",
       "xRqSeHbOWp7TlHwIPIswdIJDI/NzbxN2VH7iX3KUzSPqH3OVUNAc1orNMtBcfgD7wyrcpYSI9wKK\n",
       "cHlPsDV2YZJEd5SEKHtPrwHeWzzTscV5oMGDEiLo+P4yIxQ6XFbnhfBf1V9z7AOog5xa6L9PYPRx\n",
       "ArVZP11oDJociVzWj161oQeQRiLVT31N+i297v2gyploF6kGmpqw/ow0pM+DWEGgtmvFpZZbP1A6\n",
       "cJ02V0fbZCp3e3DzJ32rZ/hLSd3cxI62zdxjozTziZVsjqCiS7XOj9lnhibcYTNlaCL68FwmywWG\n",
       "MXeUYjh59XiTOdjpG6gt7NICfgtGrqTAoTBHregcl7BMR5m8Dwd0wL9O/M6JjB4TWL36itqc3l+W\n",
       "YE3phcdYkK7P+ODA7BI7NMlhBt9tK6zMOKJ30qzVvB3HEVcxhKUdsmhzgwTSf0DJbNKGFF5qPUme\n",
       "3niypDRK26AzLyU20fGaafXDKxwLt1rhun0P9gohbuz3iUTnlueKRfP8+cmAdewE1EZNbaEAAALp\n",
       "QZ9vRRUsN/8ACjpp19LZ0Nqu4NDEHcEAIUlfeuEYAkj8g73wHfMmq3qx6wXCyuK8jcaao/bwCHt8\n",
       "oJfYdznkW1VLAuRrY82TS5VcFAornCTx3gY/gVF/MRSEzoZ3mufbS5RE/iDgx1DKDfgPLv/L7Kkg\n",
       "H98E639Qz5Ht7xNtDA9lvZqW8E99AyZ+UtDGE1+kPmsvSjt/a2CP6GHEVpufHs5XEIg18FP85mxy\n",
       "GNV0OIIA/5HYpIqrA0O2DCEZzJg+mnMzaDCeimMGI0+MlqraPHzjzzVmrvLUUxZhc+xMhl27SEzK\n",
       "JnSo4/tIoDqyrhcqv65x5IVXoAA61FfYbIaOGnyKL1DTZcP8L9sVMcqozV1Z0uinMuCQXkoqh0jx\n",
       "6qTaNeO3pAmmXSgTB5kWcL4rNCvbfh6T8LoLmOmB9iW20vFrl5x2GMse2hhDj+6uQ7wRzNRokO0E\n",
       "AH6vJWltoeEAlSuLc/2fDwT0o32oZiTqsY4Wv0IJRYGWnd5taU4u2t0u0i+uqVdhY6pRAInH7P4c\n",
       "hYfZQDZx3XjmPixv2Yb41A1NTr3XC/wPNFcN8Ee4BcGSfzvtTvTHPU2pj+q8dciTulzGbN8aoxtc\n",
       "bTsp6F+DB3tbOrpBfaI7YfyGan4vhE9adDF2z62569BuZcrHfzctOwDaZOW+K27NA3G5W525h+5f\n",
       "znaHxMTtOPs2SR8F/9WBE+OMU7seeNJW/x6l06eBMyHOwqT61RXx9Cm2SEqS3NitV579nL1a8bAp\n",
       "0VPtwupA83axvQfV8C57NxAgtMr7Q+pZMZmqyahFwyRhgF+TaJYUW13TZUPXz5KWG/gy/g+l2L0E\n",
       "nNqoOtyjlby5jZwyUE/WpmIp4q4N0hVMLsjEux22cnaS2tpMBpFs4eVKuUkHmHw6tGCzrVau2Gu8\n",
       "ER68s48MrPKSdWWYXqMQr8zys43UAG3NhU+3DGFKP45pUlg5iMJBY5NKieibcvrYc7KXLyk+2pbj\n",
       "PT/ybgAAAzABn5BqQ38ACfOauUN6hxwRJ+AA/AeS2NnFn+PFRZil1BKRhueXaCbbE5wtilyCPL/o\n",
       "FhLIhYI4PeSBOwDzCztEa+YIFAdccgnC6k+n3xwo++Ka8v5VKuHq7Fus6MaOwYN7dkaESHbHdeCj\n",
       "O3VUpR+T2H1Px/GyC0E6SbRri/tWP0PQC0+wd5Rp1cu6tFP/zj/JSjeJ0Ietu6gI8vaVrLIEgZyi\n",
       "6IQwJbUil9MK4k8Zgr1yocdJ3lCldfasvigZJIgJRg0NNtP40CNorx0MKRI4u76lmGkIj+tsN/nH\n",
       "EopcVuILtrXz9UcmoAADZhO9TizyWDG1rX9B7cIk+lZnYLkzGu5luxG2RetUixYEmmFmHgRWql3a\n",
       "8cxKmdy7+bkR7wO+qqsi9/bt+5rdjBHE0NjhCZaXp7GBo6YryAXRP1ONIOstCgB5CGw4rdPmX/1J\n",
       "z9Qs8OcKyDdH8NEx8R+1fvmdLC+bakeNAajsLPGbMmHm76LY9A8+NAuPMQetmd50krU4bnnqEGms\n",
       "h10rtXvM+68ypDjAg2SVwrOhvAlytTr0KpgLYSullCuVIqSu0qE/kYaNVIJwjB9IEm1y1PD2Nxt8\n",
       "dGyPhUywGkKWtgCYAiqThFgPVV4XXemRdErJqXfNr9LB8bWw3vgvpzHuq8MzVp/1aELE9766jZke\n",
       "fYaSQnepOL4gYoBWQqeyA830jdaKZizCRpI+nBt33I5gcUHI9sVlN/TjSa5HIIvFslUz+2fBlNVP\n",
       "IkCXhmXiZaJBcVGPjRmd8QVOuTBqXtXuBaOpfVquV9n7p4L+x62ASYMfpmMBcycBNVirY8HhoOTC\n",
       "Vdyo8AhsFmM50peACyrQJmeVBNwmyrpAzSsdeBPhTDgLmsVqOr6KYkcpmh1c4LjOJN/Gjd0MqSCu\n",
       "jkkbU/D7YDVKhLfw3V/NEMyjJzryglTrtry8Ixfzr48w0c2sJ54YhRSYs0BBqtl76xY4hqfVZvs5\n",
       "ESaqhxhcu5PaDckj9yGOp0a7+RWE5tK03O/BaZuolTvyJbaZyC7nxdrWVjgRG0339GJ1OPYUwUQE\n",
       "56ZoMcvQbRMHFGiqezsL1ob9dq1Y9b5gakAAAAVgbW9vdgAAAGxtdmhkAAAAAAAAAAAAAAAAAAAD\n",
       "6AAAE4gAAQAAAQAAAAAAAAAAAAAAAAEAAAAAAAAAAAAAAAAAAAABAAAAAAAAAAAAAAAAAABAAAAA\n",
       "AAAAAAAAAAAAAAAAAAAAAAAAAAAAAAAAAAAAAgAABIp0cmFrAAAAXHRraGQAAAADAAAAAAAAAAAA\n",
       "AAABAAAAAAAAE4gAAAAAAAAAAAAAAAAAAAAAAAEAAAAAAAAAAAAAAAAAAAABAAAAAAAAAAAAAAAA\n",
       "AABAAAAAAvQAAAH4AAAAAAAkZWR0cwAAABxlbHN0AAAAAAAAAAEAABOIAAAIAAABAAAAAAQCbWRp\n",
       "YQAAACBtZGhkAAAAAAAAAAAAAAAAAAAoAAAAyABVxAAAAAAALWhkbHIAAAAAAAAAAHZpZGUAAAAA\n",
       "AAAAAAAAAABWaWRlb0hhbmRsZXIAAAADrW1pbmYAAAAUdm1oZAAAAAEAAAAAAAAAAAAAACRkaW5m\n",
       "AAAAHGRyZWYAAAAAAAAAAQAAAAx1cmwgAAAAAQAAA21zdGJsAAAAtXN0c2QAAAAAAAAAAQAAAKVh\n",
       "dmMxAAAAAAAAAAEAAAAAAAAAAAAAAAAAAAAAAvQB+ABIAAAASAAAAAAAAAABAAAAAAAAAAAAAAAA\n",
       "AAAAAAAAAAAAAAAAAAAAAAAAAAAAGP//AAAAM2F2Y0MBZAAW/+EAGmdkABas2UDAEHnlhAAAAwAE\n",
       "AAADAFA8WLZYAQAGaOvjyyLAAAAAHHV1aWRraEDyXyRPxbo5pRvPAyPzAAAAAAAAABhzdHRzAAAA\n",
       "AAAAAAEAAAAyAAAEAAAAABRzdHNzAAAAAAAAAAEAAAABAAABeGN0dHMAAAAAAAAALQAAAAQAAAgA\n",
       "AAAAAQAAEAAAAAACAAAEAAAAAAEAABQAAAAAAQAACAAAAAABAAAAAAAAAAEAAAQAAAAAAQAADAAA\n",
       "AAABAAAEAAAAAAEAABQAAAAAAQAACAAAAAABAAAAAAAAAAEAAAQAAAAAAQAAFAAAAAABAAAIAAAA\n",
       "AAEAAAAAAAAAAQAABAAAAAABAAAMAAAAAAEAAAQAAAAAAQAAFAAAAAABAAAIAAAAAAEAAAAAAAAA\n",
       "AQAABAAAAAABAAAUAAAAAAEAAAgAAAAAAQAAAAAAAAABAAAEAAAAAAEAAAwAAAAAAQAABAAAAAAB\n",
       "AAAMAAAAAAEAAAQAAAAAAQAAFAAAAAABAAAIAAAAAAEAAAAAAAAAAQAABAAAAAABAAAUAAAAAAEA\n",
       "AAgAAAAAAQAAAAAAAAABAAAEAAAAAAEAABQAAAAAAQAACAAAAAABAAAAAAAAAAEAAAQAAAAAAQAA\n",
       "EAAAAAACAAAEAAAAABxzdHNjAAAAAAAAAAEAAAABAAAAMgAAAAEAAADcc3RzegAAAAAAAAAAAAAA\n",
       "MgAAN10AAAibAAAGAgAABmcAAAmFAAADJAAAAf4AAAiAAAADkgAAAmsAAAKQAAAGngAAAoIAAAgp\n",
       "AAAEEgAAAvMAAAMcAAAIYgAAA9cAAALbAAACzgAAB00AAAOOAAAHtQAAA9YAAAL5AAACzgAAByEA\n",
       "AANIAAADbAAAA5IAAAWeAAADeAAABVQAAAN0AAAHxwAAAsMAAAMeAAADjgAABtsAAAOtAAACxgAA\n",
       "A1MAAAV7AAADogAAAxoAAAL9AAADzgAAAu0AAAM0AAAAFHN0Y28AAAAAAAAAAQAAACwAAABidWR0\n",
       "YQAAAFptZXRhAAAAAAAAACFoZGxyAAAAAAAAAABtZGlyYXBwbAAAAAAAAAAAAAAAAC1pbHN0AAAA\n",
       "Jal0b28AAAAdZGF0YQAAAAEAAAAATGF2ZjU3LjgzLjEwMA==\n",
       "\">\n",
       "  Your browser does not support the video tag.\n",
       "</video>"
      ],
      "text/plain": [
       "<IPython.core.display.HTML object>"
      ]
     },
     "execution_count": 67,
     "metadata": {},
     "output_type": "execute_result"
    }
   ],
   "source": [
    "anim = PullOutAnimator(U_t=U_t, F_t=F_t)\n",
    "HTML(anim.html5_video())"
   ]
  },
  {
   "cell_type": "markdown",
   "metadata": {},
   "source": [
    "# Alternative discretization generator"
   ]
  },
  {
   "cell_type": "markdown",
   "metadata": {},
   "source": [
    "This section is being kept here as a possible generator. It might be useful when revising the grid generation for 2D and 3D problems. However, the template based grid generation allows for a flexbile definition of node and DOF mapping within an element, which is particularly useful for irregular FE definition, integration and general postprocessing. Generation of the three types of mapping (E->o, E->i, E->m and E->   "
   ]
  },
  {
   "cell_type": "markdown",
   "metadata": {},
   "source": [
    "**Descritization parameters:** number of elements along the bond zone is denoted as $n_E$ "
   ]
  },
  {
   "cell_type": "code",
   "execution_count": 67,
   "metadata": {},
   "outputs": [],
   "source": [
    "n_E = 29 # number of discretization elements"
   ]
  },
  {
   "cell_type": "markdown",
   "metadata": {},
   "source": [
    "**Grid generation:** is performed by regular subdivision of the length $L$ into $n_E$ number of elements. Nodal coordinates are obtained using the `mgrid` function delivering a sequence"
   ]
  },
  {
   "cell_type": "code",
   "execution_count": 68,
   "metadata": {},
   "outputs": [],
   "source": [
    "def get_x_Ia( n_I, L_x ):\n",
    "    x_grid = np.array(np.mgrid[0:L_x:complex(0, n_I), ])\n",
    "    return np.einsum('a...->...a', x_grid).reshape(-1, 1)"
   ]
  },
  {
   "cell_type": "code",
   "execution_count": 69,
   "metadata": {},
   "outputs": [],
   "source": [
    "def get_x_Eia( n_I, L_x ):\n",
    "    I = np.arange(n_I)\n",
    "    I_Ei = np.c_[I[:-1], I[1:]]\n",
    "    x_Ia = get_x_Ia(n_I, L_x)\n",
    "    return x_Ia[I_Ei]"
   ]
  },
  {
   "cell_type": "markdown",
   "metadata": {
    "hide_input": true
   },
   "source": [
    "**Derived dimensional parameters** include the number of elemental degrees of freedom and the global number of DOFs $n_o$."
   ]
  },
  {
   "cell_type": "markdown",
   "metadata": {},
   "source": [
    "The discretization is regular so that the standard grid generators available in `numpy` are sufficient to generate the discretization.\n",
    "To uniquelly identify the nodes within the discretization, let us first enumerate them as $I = 1\\ldots n_I$"
   ]
  },
  {
   "cell_type": "markdown",
   "metadata": {},
   "source": [
    "**Index mapping between layers, nodes, direction and global DOFs:**\n",
    "Nodal displacements $u_{CIa}$ represents the primary unknowns in the discretized problem.\n",
    "Therefore, they need to be uniqely enumerated and addressable as global degrees of freedom $o$ of the form\n",
    "\\begin{align}\n",
    "(C,I,a) \\rightarrow o\n",
    "\\end{align}\n",
    "In the considered case of a uniaxial discretization with $n_C$ layers we can define mapping as follows:\n",
    "\\begin{align}\n",
    " o_{CIa} &= n_a(n_I C + I) + a \\; \\; \\mathrm{where}  \\\\ \n",
    " C &= 0 \\ldots n_C-1, \\\\ \\; I & = 0 \\ldots n_I-1, \\\\ a &= 0 \\ldots n_a - 1\n",
    "\\end{align}\n",
    "This index map can be constructed using the `numpy` sequence array generator `arange` for each dimension $C$, $I$ and $a$ to produce onedimensional index arrays and then broadcasting them into a three dimensional array $(C,I,a)$ using the `np.newaxis` generic index: "
   ]
  },
  {
   "cell_type": "code",
   "execution_count": 70,
   "metadata": {},
   "outputs": [],
   "source": [
    "def get_O_CIa(n_C, n_I, n_a):\n",
    "    C = np.arange(n_C)[:,np.newaxis,np.newaxis]\n",
    "    I = np.arange(n_I)[np.newaxis,:,np.newaxis] \n",
    "    a = np.arange(n_a)[np.newaxis,np.newaxis,:]\n",
    "    return n_a * (n_I * C + I) + a"
   ]
  },
  {
   "cell_type": "code",
   "execution_count": 71,
   "metadata": {},
   "outputs": [],
   "source": [
    "get_O_CI = lambda n_I: get_O_CIa(n_C,n_I,n_a)[...,-1]"
   ]
  },
  {
   "cell_type": "markdown",
   "metadata": {},
   "source": [
    "Mapping of a local node $i$ within an element $E$ and layer $C$ to the degree of freedom $o$\n",
    "\\begin{align}\n",
    "(E,C,i) \\rightarrow O\n",
    "\\end{align}\n",
    "is constructed using the global enumeration of nodes DOFs $o_{CIa}$. By following the local element enumeration pattern, i.e. slicing over the left nodes first and then over the right nodes delivers the desired global mapping. Note that this issue is specific to this particular type of grid and a more general generators of DOF maps can be constructed or imported from general meshes."
   ]
  },
  {
   "cell_type": "code",
   "execution_count": 72,
   "metadata": {},
   "outputs": [],
   "source": [
    "def get_O_ECi(n_I):\n",
    "    O_CI = get_O_CI(n_I)\n",
    "    return np.einsum('iCE->ECi',np.vstack([[O_CI[:, :-1], O_CI[:, 1:]]]))"
   ]
  },
  {
   "cell_type": "markdown",
   "metadata": {},
   "source": [
    "Mapping of node $i$ within an element $E$ to a degree of freedom $o$. This array is used to assemble the global vector of internal forces $F^\\mathrm{int}_o$ and the system matrix $K_{op}$."
   ]
  },
  {
   "cell_type": "code",
   "execution_count": 73,
   "metadata": {},
   "outputs": [],
   "source": [
    "get_O_Ei = lambda n_I: get_O_ECi(n_I).reshape(-1, n_Eo)"
   ]
  },
  {
   "cell_type": "code",
   "execution_count": 74,
   "metadata": {},
   "outputs": [],
   "source": [
    "get_O_ECi(5), get_x_Eia(5,1);"
   ]
  }
 ],
 "metadata": {
  "kernelspec": {
   "display_name": "Python 3",
   "language": "python",
   "name": "python3"
  },
  "language_info": {
   "codemirror_mode": {
    "name": "ipython",
    "version": 3
   },
   "file_extension": ".py",
   "mimetype": "text/x-python",
   "name": "python",
   "nbconvert_exporter": "python",
   "pygments_lexer": "ipython3",
   "version": "3.7.7"
  },
  "toc": {
   "base_numbering": 1,
   "nav_menu": {},
   "number_sections": true,
   "sideBar": true,
   "skip_h1_title": false,
   "title_cell": "Table of Contents",
   "title_sidebar": "Contents",
   "toc_cell": true,
   "toc_position": {
    "height": "calc(100% - 180px)",
    "left": "10px",
    "top": "150px",
    "width": "259px"
   },
   "toc_section_display": true,
   "toc_window_display": true
  }
 },
 "nbformat": 4,
 "nbformat_minor": 2
}
