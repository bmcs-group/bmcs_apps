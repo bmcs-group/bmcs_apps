{
 "cells": [
  {
   "attachments": {
    "image.png": {
     "image/png": "[encoded data removed]"
    }
   },
   "cell_type": "markdown",
   "metadata": {
    "slideshow": {
     "slide_type": "slide"
    }
   },
   "source": [
    "# Work supply, stored energy, energy dissipation\n",
    "\n",
    "![image.png](attachment:image.png)\n",
    "This notebook rephrases the energy definition using the analytical model derived in  \n",
    "Chapter 2 - Pullout with constant bond-slip law:\n",
    "\n",
    "[2_1_PO_LF_LM_RG.ipynb](2_1_PO_LF_LM_RG.ipynb)\n",
    "\n",
    "The results presented there are incorporated here using the `%run` command"
   ]
  },
  {
   "cell_type": "markdown",
   "metadata": {
    "slideshow": {
     "slide_type": "slide"
    }
   },
   "source": [
    "# Import the pullout model\n",
    "\n",
    "- By issuing `%%capture`` we suppress output within the cell - no printing, no plotting\n",
    "- Using `%run file.ipynb` the whole notebook `file.ipynb` gets executed.\n",
    "\n",
    "After the execution we can work with all the expressions and functions derived in the notebook"
   ]
  },
  {
   "cell_type": "code",
   "execution_count": 1,
   "metadata": {
    "slideshow": {
     "slide_type": "fragment"
    }
   },
   "outputs": [],
   "source": [
    "%%capture\n",
    "%run 2_1_PO_LF_LM_RG.ipynb"
   ]
  },
  {
   "cell_type": "markdown",
   "metadata": {
    "slideshow": {
     "slide_type": "slide"
    }
   },
   "source": [
    "# Pull-out curve and state fields\n",
    "\n",
    "Evaluation of energies includes the expressions:\n",
    "\\begin{align}\n",
    "G &= W - U\n",
    "\\end{align}\n",
    "which can be expressed using domain and time-integrals as follows\n",
    "\\begin{align}\n",
    "\\int_{\\Omega_\\mathrm{diss}} \\tau(x) s_\\mathrm{inel}(x) \\, \\mathrm{d}x \n",
    "&=\n",
    "\\int_0^w P(w) \\, \\mathrm{d}w - \n",
    "\\int_{\\Omega_\\mathrm{el}} E \\varepsilon_\\mathrm{f,el}^2(x) \n",
    " \\, \\mathrm{d}x\n",
    "\\end{align}\n",
    "Thus, to evaluate the terms in this integral we need $P(w)$, \n",
    "$s_\\mathrm{inel}(x)$, $\\tau(x)$ and $\\varepsilon_{\\mathrm{f,el}}(x)$ ."
   ]
  },
  {
   "cell_type": "markdown",
   "metadata": {},
   "source": [
    "# Work supply"
   ]
  },
  {
   "cell_type": "markdown",
   "metadata": {
    "slideshow": {
     "slide_type": "slide"
    }
   },
   "source": [
    "**Pullout curve $P(w)$**"
   ]
  },
  {
   "cell_type": "code",
   "execution_count": 20,
   "metadata": {
    "slideshow": {
     "slide_type": "fragment"
    }
   },
   "outputs": [
    {
     "data": {
      "image/png": "[encoded data removed]",
      "text/latex": [
       "$\\displaystyle \\sqrt{2} \\sqrt{A_\\mathrm{f}} \\sqrt{E_\\mathrm{f}} \\sqrt{\\bar{\\tau}} \\sqrt{p} \\sqrt{w}$"
      ],
      "text/plain": [
       "     ______________   ______________   ____________      \n",
       "√2⋅╲╱ A_\\mathrm{f} ⋅╲╱ E_\\mathrm{f} ⋅╲╱ \\bar{\\tau} ⋅√p⋅√w"
      ]
     },
     "execution_count": 20,
     "metadata": {},
     "output_type": "execute_result"
    }
   ],
   "source": [
    "Pw_pull"
   ]
  },
  {
   "cell_type": "markdown",
   "metadata": {
    "slideshow": {
     "slide_type": "fragment"
    }
   },
   "source": [
    "\\begin{align}\n",
    "W &= \\int_0^w P(w) \\, \\mathrm{d}w \n",
    "\\end{align}"
   ]
  },
  {
   "cell_type": "code",
   "execution_count": 21,
   "metadata": {
    "slideshow": {
     "slide_type": "fragment"
    }
   },
   "outputs": [
    {
     "data": {
      "image/png": "[encoded data removed]",
      "text/latex": [
       "$\\displaystyle \\frac{2 \\sqrt{2} \\sqrt{A_\\mathrm{f}} \\sqrt{E_\\mathrm{f}} \\sqrt{\\bar{\\tau}} \\sqrt{p} w^{\\frac{3}{2}}}{3}$"
      ],
      "text/plain": [
       "       ______________   ______________   ____________     3/2\n",
       "2⋅√2⋅╲╱ A_\\mathrm{f} ⋅╲╱ E_\\mathrm{f} ⋅╲╱ \\bar{\\tau} ⋅√p⋅w   \n",
       "─────────────────────────────────────────────────────────────\n",
       "                              3                              "
      ]
     },
     "execution_count": 21,
     "metadata": {},
     "output_type": "execute_result"
    }
   ],
   "source": [
    "W_w_ = sp.integrate(Pw_pull, w)\n",
    "sp.simplify(W_w_)"
   ]
  },
  {
   "cell_type": "markdown",
   "metadata": {
    "slideshow": {
     "slide_type": "slide"
    }
   },
   "source": [
    "# Stored energy\n",
    "**Elastic fiber strain $\\varepsilon_\\mathrm{f,el}(x)$**\n",
    "\n",
    "As we assumed linear elastic behavior, no dissipation takes place in the pulled out bar"
   ]
  },
  {
   "cell_type": "code",
   "execution_count": 39,
   "metadata": {
    "slideshow": {
     "slide_type": "fragment"
    }
   },
   "outputs": [
    {
     "data": {
      "image/png": "[encoded data removed]",
      "text/latex": [
       "$\\displaystyle \\begin{cases} \\frac{P + \\bar{\\tau} p x}{A_\\mathrm{f} E_\\mathrm{f}} & \\text{for}\\: x > - \\frac{P}{\\bar{\\tau} p} \\\\0 & \\text{otherwise} \\end{cases}$"
      ],
      "text/plain": [
       "⎧    P + \\bar{\\tau}⋅p⋅x                 -P      \n",
       "⎪─────────────────────────  for x > ────────────\n",
       "⎨A_\\mathrm{f}⋅E_\\mathrm{f}          \\bar{\\tau}⋅p\n",
       "⎪                                               \n",
       "⎩            0                   otherwise      "
      ]
     },
     "execution_count": 39,
     "metadata": {},
     "output_type": "execute_result"
    }
   ],
   "source": [
    "sp.simplify(eps_f_x)"
   ]
  },
  {
   "cell_type": "markdown",
   "metadata": {},
   "source": [
    "\\begin{align}\n",
    "U = \\int_{\\Omega_\\mathrm{el}} E \\varepsilon_\\mathrm{f,el}^2(x) \n",
    " \\, \\mathrm{d}x\n",
    "\\end{align}"
   ]
  },
  {
   "cell_type": "code",
   "execution_count": 41,
   "metadata": {
    "slideshow": {
     "slide_type": "fragment"
    }
   },
   "outputs": [
    {
     "data": {
      "image/png": "[encoded data removed]",
      "text/latex": [
       "$\\displaystyle \\frac{P^{3}}{6 A_\\mathrm{f} E_\\mathrm{f}^{3} \\bar{\\tau} p}$"
      ],
      "text/plain": [
       "                     3                   \n",
       "                    P                    \n",
       "─────────────────────────────────────────\n",
       "                           3             \n",
       "6⋅A_\\mathrm{f}⋅E_\\mathrm{f} ⋅\\bar{\\tau}⋅p"
      ]
     },
     "execution_count": 41,
     "metadata": {},
     "output_type": "execute_result"
    }
   ],
   "source": [
    "U_P_ = sp.integrate( sp.Rational(1,2) * A_f / E_f * eps_f_x**2, (x,-sp.oo,0))\n",
    "sp.simplify(U_P_)"
   ]
  },
  {
   "cell_type": "markdown",
   "metadata": {
    "slideshow": {
     "slide_type": "fragment"
    }
   },
   "source": [
    "But we need it in terms of $w$, not of $P$, ... substitute $P(w)$ for $P$ to obtain"
   ]
  },
  {
   "cell_type": "code",
   "execution_count": 38,
   "metadata": {
    "scrolled": true,
    "slideshow": {
     "slide_type": "fragment"
    }
   },
   "outputs": [
    {
     "data": {
      "image/png": "[encoded data removed]",
      "text/latex": [
       "$\\displaystyle \\frac{\\sqrt{2} \\sqrt{A_\\mathrm{f}} \\sqrt{\\bar{\\tau}} \\sqrt{p} w^{\\frac{3}{2}}}{3 E_\\mathrm{f}^{\\frac{3}{2}}}$"
      ],
      "text/plain": [
       "     ______________   ____________     3/2\n",
       "√2⋅╲╱ A_\\mathrm{f} ⋅╲╱ \\bar{\\tau} ⋅√p⋅w   \n",
       "──────────────────────────────────────────\n",
       "                          3/2             \n",
       "            3⋅E_\\mathrm{f}                "
      ]
     },
     "execution_count": 38,
     "metadata": {},
     "output_type": "execute_result"
    }
   ],
   "source": [
    "U_w_ = U_P_.subs(P, Pw_pull)\n",
    "U_w_"
   ]
  },
  {
   "cell_type": "markdown",
   "metadata": {
    "slideshow": {
     "slide_type": "slide"
    }
   },
   "source": [
    "# Released energy evaluated as $W - U$"
   ]
  },
  {
   "cell_type": "code",
   "execution_count": 42,
   "metadata": {
    "slideshow": {
     "slide_type": "fragment"
    }
   },
   "outputs": [
    {
     "data": {
      "image/png": "[encoded data removed]",
      "text/latex": [
       "$\\displaystyle \\frac{\\sqrt{2} \\sqrt{A_\\mathrm{f}} \\sqrt{\\bar{\\tau}} \\sqrt{p} w^{\\frac{3}{2}} \\left(2 E_\\mathrm{f}^{2} - 1\\right)}{3 E_\\mathrm{f}^{\\frac{3}{2}}}$"
      ],
      "text/plain": [
       "     ______________   ____________     3/2 ⎛              2    ⎞\n",
       "√2⋅╲╱ A_\\mathrm{f} ⋅╲╱ \\bar{\\tau} ⋅√p⋅w   ⋅⎝2⋅E_\\mathrm{f}  - 1⎠\n",
       "────────────────────────────────────────────────────────────────\n",
       "                                     3/2                        \n",
       "                       3⋅E_\\mathrm{f}                           "
      ]
     },
     "execution_count": 42,
     "metadata": {},
     "output_type": "execute_result"
    }
   ],
   "source": [
    "G_w_ = sp.simplify(W_w_ - U_w_)\n",
    "G_w_"
   ]
  },
  {
   "cell_type": "markdown",
   "metadata": {},
   "source": [
    "# What is the unloading stiffness at a point $w$?\n",
    "As we know the area of the triangle below the unloading branch and the corresponding force $P$ we can\n",
    "obtain the elastic control slip as\n",
    "\\begin{align}\n",
    "U = \\frac{1}{2} P w_{\\mathrm{el}} \\implies w_\\mathrm{el} = \\frac{2 U}{P}\n",
    "\\end{align}\n",
    "So that the amount of plastic slip reads\n",
    "\\begin{align}\n",
    "w_\\mathrm{pl} = w - w_\\mathrm{el}\n",
    "\\end{align}"
   ]
  },
  {
   "cell_type": "code",
   "execution_count": 43,
   "metadata": {},
   "outputs": [
    {
     "data": {
      "image/png": "[encoded data removed]",
      "text/latex": [
       "$\\displaystyle \\left( \\frac{\\sqrt{2} \\sqrt{A_\\mathrm{f}} \\sqrt{\\bar{\\tau}} \\sqrt{p} w^{\\frac{3}{2}}}{3 E_\\mathrm{f}^{\\frac{3}{2}}}, \\  \\sqrt{2} \\sqrt{A_\\mathrm{f}} \\sqrt{E_\\mathrm{f}} \\sqrt{\\bar{\\tau}} \\sqrt{p} \\sqrt{w}, \\  w\\right)$"
      ],
      "text/plain": [
       "⎛     ______________   ____________     3/2                                   \n",
       "⎜√2⋅╲╱ A_\\mathrm{f} ⋅╲╱ \\bar{\\tau} ⋅√p⋅w          ______________   ___________\n",
       "⎜──────────────────────────────────────────, √2⋅╲╱ A_\\mathrm{f} ⋅╲╱ E_\\mathrm{\n",
       "⎜                          3/2                                                \n",
       "⎝            3⋅E_\\mathrm{f}                                                   \n",
       "\n",
       "                           ⎞\n",
       "___   ____________         ⎟\n",
       "f} ⋅╲╱ \\bar{\\tau} ⋅√p⋅√w, w⎟\n",
       "                           ⎟\n",
       "                           ⎠"
      ]
     },
     "execution_count": 43,
     "metadata": {},
     "output_type": "execute_result"
    }
   ],
   "source": [
    "U_w_, Pw_pull, w**(sp.Rational(3,2))/sp.sqrt(w)"
   ]
  },
  {
   "cell_type": "code",
   "execution_count": 44,
   "metadata": {},
   "outputs": [
    {
     "data": {
      "image/png": "[encoded data removed]",
      "text/latex": [
       "$\\displaystyle \\frac{2 w}{3 E_\\mathrm{f}^{2}}$"
      ],
      "text/plain": [
       "      2⋅w      \n",
       "───────────────\n",
       "              2\n",
       "3⋅E_\\mathrm{f} "
      ]
     },
     "execution_count": 44,
     "metadata": {},
     "output_type": "execute_result"
    }
   ],
   "source": [
    "w_el_ = 2 * U_w_ / Pw_pull\n",
    "w_el_"
   ]
  },
  {
   "cell_type": "code",
   "execution_count": 45,
   "metadata": {
    "scrolled": true
   },
   "outputs": [
    {
     "data": {
      "image/png": "[encoded data removed]",
      "text/latex": [
       "$\\displaystyle w - \\frac{2 w}{3 E_\\mathrm{f}^{2}}$"
      ],
      "text/plain": [
       "          2⋅w      \n",
       "w - ───────────────\n",
       "                  2\n",
       "    3⋅E_\\mathrm{f} "
      ]
     },
     "execution_count": 45,
     "metadata": {},
     "output_type": "execute_result"
    }
   ],
   "source": [
    "w_pl_ = w - w_el_\n",
    "sp.simplify(w_pl_)"
   ]
  },
  {
   "cell_type": "markdown",
   "metadata": {},
   "source": [
    "# Energy release rate"
   ]
  },
  {
   "cell_type": "code",
   "execution_count": 46,
   "metadata": {},
   "outputs": [
    {
     "data": {
      "image/png": "[encoded data removed]",
      "text/latex": [
       "$\\displaystyle \\frac{\\sqrt{2} \\sqrt{A_\\mathrm{f}} \\sqrt{\\bar{\\tau}} \\sqrt{p} \\sqrt{w} \\left(2 E_\\mathrm{f}^{2} - 1\\right)}{2 E_\\mathrm{f}^{\\frac{3}{2}}}$"
      ],
      "text/plain": [
       "     ______________   ____________       ⎛              2    ⎞\n",
       "√2⋅╲╱ A_\\mathrm{f} ⋅╲╱ \\bar{\\tau} ⋅√p⋅√w⋅⎝2⋅E_\\mathrm{f}  - 1⎠\n",
       "──────────────────────────────────────────────────────────────\n",
       "                                    3/2                       \n",
       "                      2⋅E_\\mathrm{f}                          "
      ]
     },
     "execution_count": 46,
     "metadata": {},
     "output_type": "execute_result"
    }
   ],
   "source": [
    "dG_dw_ = G_w_.diff(w)\n",
    "dG_dw_"
   ]
  },
  {
   "cell_type": "code",
   "execution_count": 47,
   "metadata": {},
   "outputs": [
    {
     "data": {
      "image/png": "[encoded data removed]",
      "text/latex": [
       "$\\displaystyle \\begin{cases} \\frac{P^{2}}{2 A_\\mathrm{f} E_\\mathrm{f} \\bar{\\tau} p} + \\frac{P x}{A_\\mathrm{f} E_\\mathrm{f}} + \\frac{\\bar{\\tau} p x^{2}}{2 A_\\mathrm{f} E_\\mathrm{f}} & \\text{for}\\: x > - \\frac{P}{\\bar{\\tau} p} \\\\0 & \\text{otherwise} \\end{cases}$"
      ],
      "text/plain": [
       "⎧                    2                                                        \n",
       "⎪                   P                                  P⋅x                    \n",
       "⎪──────────────────────────────────────── + ───────────────────────── + ──────\n",
       "⎨2⋅A_\\mathrm{f}⋅E_\\mathrm{f}⋅\\bar{\\tau}⋅p   A_\\mathrm{f}⋅E_\\mathrm{f}   2⋅A_\\m\n",
       "⎪                                                                             \n",
       "⎪                                                0                            \n",
       "⎩                                                                             \n",
       "\n",
       "              2                            \n",
       "\\bar{\\tau}⋅p⋅x                     -P      \n",
       "─────────────────────  for x > ────────────\n",
       "athrm{f}⋅E_\\mathrm{f}          \\bar{\\tau}⋅p\n",
       "                                           \n",
       "                            otherwise      \n",
       "                                           "
      ]
     },
     "execution_count": 47,
     "metadata": {},
     "output_type": "execute_result"
    }
   ],
   "source": [
    "u_fa_x"
   ]
  },
  {
   "cell_type": "code",
   "execution_count": 48,
   "metadata": {},
   "outputs": [
    {
     "data": {
      "image/png": "[encoded data removed]",
      "text/latex": [
       "$\\displaystyle \\begin{cases} \\bar{\\tau} & \\text{for}\\: x > - \\frac{P}{\\bar{\\tau} p} \\\\0 & \\text{otherwise} \\end{cases}$"
      ],
      "text/plain": [
       "⎧                        -P      \n",
       "⎪\\bar{\\tau}  for x > ────────────\n",
       "⎨                    \\bar{\\tau}⋅p\n",
       "⎪                                \n",
       "⎩    0            otherwise      "
      ]
     },
     "execution_count": 48,
     "metadata": {},
     "output_type": "execute_result"
    }
   ],
   "source": [
    "tau_x"
   ]
  },
  {
   "cell_type": "code",
   "execution_count": 49,
   "metadata": {},
   "outputs": [
    {
     "data": {
      "image/png": "[encoded data removed]",
      "text/latex": [
       "$\\displaystyle \\frac{P^{3}}{6 A_\\mathrm{f} E_\\mathrm{f} \\bar{\\tau} p}$"
      ],
      "text/plain": [
       "                    3                   \n",
       "                   P                    \n",
       "────────────────────────────────────────\n",
       "6⋅A_\\mathrm{f}⋅E_\\mathrm{f}⋅\\bar{\\tau}⋅p"
      ]
     },
     "execution_count": 49,
     "metadata": {},
     "output_type": "execute_result"
    }
   ],
   "source": [
    "G2_P_ = sp.integrate(p * tau_x * u_fa_x, (x,-sp.oo,0))\n",
    "G2_P_"
   ]
  },
  {
   "cell_type": "code",
   "execution_count": 50,
   "metadata": {},
   "outputs": [
    {
     "data": {
      "image/png": "[encoded data removed]",
      "text/latex": [
       "$\\displaystyle \\frac{\\sqrt{2} \\sqrt{A_\\mathrm{f}} \\sqrt{E_\\mathrm{f}} \\sqrt{\\bar{\\tau}} \\sqrt{p} w^{\\frac{3}{2}}}{3}$"
      ],
      "text/plain": [
       "     ______________   ______________   ____________     3/2\n",
       "√2⋅╲╱ A_\\mathrm{f} ⋅╲╱ E_\\mathrm{f} ⋅╲╱ \\bar{\\tau} ⋅√p⋅w   \n",
       "───────────────────────────────────────────────────────────\n",
       "                             3                             "
      ]
     },
     "execution_count": 50,
     "metadata": {},
     "output_type": "execute_result"
    }
   ],
   "source": [
    "G2_P_.subs(P, Pw_pull)"
   ]
  },
  {
   "cell_type": "code",
   "execution_count": 51,
   "metadata": {},
   "outputs": [
    {
     "data": {
      "image/png": "[encoded data removed]",
      "text/latex": [
       "$\\displaystyle \\begin{cases} w + \\frac{\\bar{\\tau} p x^{2}}{2 A_\\mathrm{f} E_\\mathrm{f}} + \\frac{\\sqrt{2} \\sqrt{\\bar{\\tau}} \\sqrt{p} \\sqrt{w} x}{\\sqrt{A_\\mathrm{f}} \\sqrt{E_\\mathrm{f}}} & \\text{for}\\: x > - \\frac{\\sqrt{2} \\sqrt{A_\\mathrm{f}} \\sqrt{E_\\mathrm{f}} \\sqrt{w}}{\\sqrt{\\bar{\\tau}} \\sqrt{p}} \\\\0 & \\text{otherwise} \\end{cases}$"
      ],
      "text/plain": [
       "⎧                        2                  ____________                      \n",
       "⎪          \\bar{\\tau}⋅p⋅x              √2⋅╲╱ \\bar{\\tau} ⋅√p⋅√w⋅x              \n",
       "⎪w + ─────────────────────────── + ─────────────────────────────────  for x > \n",
       "⎨    2⋅A_\\mathrm{f}⋅E_\\mathrm{f}     ______________   ______________          \n",
       "⎪                                  ╲╱ A_\\mathrm{f} ⋅╲╱ E_\\mathrm{f}           \n",
       "⎪                                                                             \n",
       "⎩                                 0                                           \n",
       "\n",
       "      ______________   ______________    \n",
       "-√2⋅╲╱ A_\\mathrm{f} ⋅╲╱ E_\\mathrm{f} ⋅√w \n",
       "─────────────────────────────────────────\n",
       "              ____________               \n",
       "            ╲╱ \\bar{\\tau} ⋅√p            \n",
       "                                         \n",
       "            otherwise                    "
      ]
     },
     "execution_count": 51,
     "metadata": {},
     "output_type": "execute_result"
    }
   ],
   "source": [
    "u_fa_x.subs(P, Pw_pull)"
   ]
  },
  {
   "cell_type": "code",
   "execution_count": null,
   "metadata": {},
   "outputs": [],
   "source": []
  },
  {
   "cell_type": "code",
   "execution_count": null,
   "metadata": {},
   "outputs": [],
   "source": []
  }
 ],
 "metadata": {
  "celltoolbar": "Slideshow",
  "kernelspec": {
   "display_name": "Python 3",
   "language": "python",
   "name": "python3"
  },
  "language_info": {
   "codemirror_mode": {
    "name": "ipython",
    "version": 3
   },
   "file_extension": ".py",
   "mimetype": "text/x-python",
   "name": "python",
   "nbconvert_exporter": "python",
   "pygments_lexer": "ipython3",
   "version": "3.7.6"
  },
  "toc": {
   "base_numbering": 1,
   "nav_menu": {},
   "number_sections": true,
   "sideBar": true,
   "skip_h1_title": true,
   "title_cell": "Table of Contents",
   "title_sidebar": "Contents",
   "toc_cell": false,
   "toc_position": {
    "height": "calc(100% - 180px)",
    "left": "10px",
    "top": "150px",
    "width": "165px"
   },
   "toc_section_display": true,
   "toc_window_display": false
  }
 },
 "nbformat": 4,
 "nbformat_minor": 4
}
