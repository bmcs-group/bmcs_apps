{
 "cells": [
  {
   "cell_type": "code",
   "execution_count": 1,
   "metadata": {},
   "outputs": [],
   "source": [
    "%%capture\n",
    "%run 2_1_PO_LF_LM_RG.ipynb"
   ]
  },
  {
   "cell_type": "markdown",
   "metadata": {},
   "source": [
    "# Pull-out curve and state fields"
   ]
  },
  {
   "cell_type": "code",
   "execution_count": 2,
   "metadata": {},
   "outputs": [
    {
     "data": {
      "image/png": "[encoded data removed]",
      "text/latex": [
       "$\\displaystyle \\left( \\sqrt{2} \\sqrt{A_\\mathrm{f}} \\sqrt{E_\\mathrm{f}} \\sqrt{\\bar{\\tau}} \\sqrt{p} \\sqrt{w}, \\  \\frac{\\sqrt{2} \\sqrt{A_\\mathrm{f}} \\sqrt{E_\\mathrm{f}} \\sqrt{\\bar{\\tau}} \\sqrt{p}}{2 \\sqrt{w}}\\right)$"
      ],
      "text/plain": [
       "⎛                                                                _____________\n",
       "⎜     ______________   ______________   ____________        √2⋅╲╱ A_\\mathrm{f}\n",
       "⎜√2⋅╲╱ A_\\mathrm{f} ⋅╲╱ E_\\mathrm{f} ⋅╲╱ \\bar{\\tau} ⋅√p⋅√w, ──────────────────\n",
       "⎝                                                                             \n",
       "\n",
       "_   ______________   ____________   ⎞\n",
       " ⋅╲╱ E_\\mathrm{f} ⋅╲╱ \\bar{\\tau} ⋅√p⎟\n",
       "────────────────────────────────────⎟\n",
       "       2⋅√w                         ⎠"
      ]
     },
     "execution_count": 2,
     "metadata": {},
     "output_type": "execute_result"
    }
   ],
   "source": [
    "Pw_pull, Pw_pull.diff(w)"
   ]
  },
  {
   "cell_type": "code",
   "execution_count": 3,
   "metadata": {},
   "outputs": [
    {
     "data": {
      "image/png": "[encoded data removed]",
      "text/latex": [
       "$\\displaystyle \\begin{cases} \\frac{\\bar{\\tau} p x}{A_\\mathrm{f} E_\\mathrm{f}} + \\frac{\\sqrt{2} \\sqrt{\\bar{\\tau}} \\sqrt{p} \\sqrt{w}}{\\sqrt{A_\\mathrm{f}} \\sqrt{E_\\mathrm{f}}} & \\text{for}\\: x > - \\frac{\\sqrt{2} \\sqrt{A_\\mathrm{f}} \\sqrt{E_\\mathrm{f}} \\sqrt{w}}{\\sqrt{\\bar{\\tau}} \\sqrt{p}} \\\\0 & \\text{otherwise} \\end{cases}$"
      ],
      "text/plain": [
       "⎧                                      ____________                           \n",
       "⎪      \\bar{\\tau}⋅p⋅x             √2⋅╲╱ \\bar{\\tau} ⋅√p⋅√w               -√2⋅╲╱\n",
       "⎪───────────────────────── + ─────────────────────────────────  for x > ──────\n",
       "⎨A_\\mathrm{f}⋅E_\\mathrm{f}     ______________   ______________                \n",
       "⎪                            ╲╱ A_\\mathrm{f} ⋅╲╱ E_\\mathrm{f}                 \n",
       "⎪                                                                             \n",
       "⎩                              0                                              \n",
       "\n",
       "______________   ______________    \n",
       " A_\\mathrm{f} ⋅╲╱ E_\\mathrm{f} ⋅√w \n",
       "───────────────────────────────────\n",
       "        ____________               \n",
       "      ╲╱ \\bar{\\tau} ⋅√p            \n",
       "                                   \n",
       "      otherwise                    "
      ]
     },
     "execution_count": 3,
     "metadata": {},
     "output_type": "execute_result"
    }
   ],
   "source": [
    "sp.simplify(eps_f_x.subs(P,Pw_pull))"
   ]
  },
  {
   "cell_type": "code",
   "execution_count": 4,
   "metadata": {},
   "outputs": [
    {
     "data": {
      "image/png": "[encoded data removed]",
      "text/latex": [
       "$\\displaystyle E_\\mathrm{f} \\left(\\begin{cases} \\frac{P}{A_\\mathrm{f} E_\\mathrm{f}} + \\frac{\\bar{\\tau} p x}{A_\\mathrm{f} E_\\mathrm{f}} & \\text{for}\\: x > - \\frac{P}{\\bar{\\tau} p} \\\\0 & \\text{otherwise} \\end{cases}\\right)$"
      ],
      "text/plain": [
       "             ⎛⎧            P                     \\bar{\\tau}⋅p⋅x               \n",
       "             ⎜⎪───────────────────────── + ─────────────────────────  for x > \n",
       "E_\\mathrm{f}⋅⎜⎨A_\\mathrm{f}⋅E_\\mathrm{f}   A_\\mathrm{f}⋅E_\\mathrm{f}          \n",
       "             ⎜⎪                                                               \n",
       "             ⎝⎩                          0                                 oth\n",
       "\n",
       "    -P      ⎞\n",
       "────────────⎟\n",
       "\\bar{\\tau}⋅p⎟\n",
       "            ⎟\n",
       "erwise      ⎠"
      ]
     },
     "execution_count": 4,
     "metadata": {},
     "output_type": "execute_result"
    }
   ],
   "source": [
    "sig_f_x"
   ]
  },
  {
   "cell_type": "markdown",
   "metadata": {},
   "source": [
    "# Work supply"
   ]
  },
  {
   "cell_type": "code",
   "execution_count": 5,
   "metadata": {},
   "outputs": [],
   "source": [
    "W_w_ = sp.integrate(Pw_pull, w)"
   ]
  },
  {
   "cell_type": "code",
   "execution_count": 6,
   "metadata": {},
   "outputs": [
    {
     "data": {
      "image/png": "[encoded data removed]",
      "text/latex": [
       "$\\displaystyle \\frac{2 \\sqrt{2} \\sqrt{A_\\mathrm{f}} \\sqrt{E_\\mathrm{f}} \\sqrt{\\bar{\\tau}} \\sqrt{p} w^{\\frac{3}{2}}}{3}$"
      ],
      "text/plain": [
       "       ______________   ______________   ____________     3/2\n",
       "2⋅√2⋅╲╱ A_\\mathrm{f} ⋅╲╱ E_\\mathrm{f} ⋅╲╱ \\bar{\\tau} ⋅√p⋅w   \n",
       "─────────────────────────────────────────────────────────────\n",
       "                              3                              "
      ]
     },
     "execution_count": 6,
     "metadata": {},
     "output_type": "execute_result"
    }
   ],
   "source": [
    "sp.simplify(W_w_)"
   ]
  },
  {
   "cell_type": "markdown",
   "metadata": {},
   "source": [
    "# Stored energy"
   ]
  },
  {
   "cell_type": "code",
   "execution_count": 7,
   "metadata": {},
   "outputs": [
    {
     "data": {
      "image/png": "[encoded data removed]",
      "text/latex": [
       "$\\displaystyle \\begin{cases} \\frac{\\left(P + \\bar{\\tau} p x\\right)^{2}}{2 A_\\mathrm{f} E_\\mathrm{f}} & \\text{for}\\: x > - \\frac{P}{\\bar{\\tau} p} \\\\0 & \\text{otherwise} \\end{cases}$"
      ],
      "text/plain": [
       "⎧                       2                         \n",
       "⎪   (P + \\bar{\\tau}⋅p⋅x)                  -P      \n",
       "⎪───────────────────────────  for x > ────────────\n",
       "⎨2⋅A_\\mathrm{f}⋅E_\\mathrm{f}          \\bar{\\tau}⋅p\n",
       "⎪                                                 \n",
       "⎪             0                    otherwise      \n",
       "⎩                                                 "
      ]
     },
     "execution_count": 7,
     "metadata": {},
     "output_type": "execute_result"
    }
   ],
   "source": [
    "U_x_P_ = sp.Rational(1,2) * A_f * sig_f_x * eps_f_x\n",
    "sp.simplify(U_x_P_)"
   ]
  },
  {
   "cell_type": "code",
   "execution_count": 8,
   "metadata": {},
   "outputs": [
    {
     "data": {
      "image/png": "[encoded data removed]",
      "text/latex": [
       "$\\displaystyle \\frac{P^{3}}{6 A_\\mathrm{f} E_\\mathrm{f} \\bar{\\tau} p}$"
      ],
      "text/plain": [
       "                    3                   \n",
       "                   P                    \n",
       "────────────────────────────────────────\n",
       "6⋅A_\\mathrm{f}⋅E_\\mathrm{f}⋅\\bar{\\tau}⋅p"
      ]
     },
     "execution_count": 8,
     "metadata": {},
     "output_type": "execute_result"
    }
   ],
   "source": [
    "U_P_ = sp.integrate(U_x_P_, (x,-sp.oo,0))\n",
    "U_P_"
   ]
  },
  {
   "cell_type": "code",
   "execution_count": 9,
   "metadata": {},
   "outputs": [
    {
     "data": {
      "image/png": "[encoded data removed]",
      "text/latex": [
       "$\\displaystyle \\frac{\\sqrt{2} \\sqrt{A_\\mathrm{f}} \\sqrt{E_\\mathrm{f}} \\sqrt{\\bar{\\tau}} \\sqrt{p} w^{\\frac{3}{2}}}{3}$"
      ],
      "text/plain": [
       "     ______________   ______________   ____________     3/2\n",
       "√2⋅╲╱ A_\\mathrm{f} ⋅╲╱ E_\\mathrm{f} ⋅╲╱ \\bar{\\tau} ⋅√p⋅w   \n",
       "───────────────────────────────────────────────────────────\n",
       "                             3                             "
      ]
     },
     "execution_count": 9,
     "metadata": {},
     "output_type": "execute_result"
    }
   ],
   "source": [
    "U_w_ = U_P_.subs(P, Pw_pull)\n",
    "U_w_"
   ]
  },
  {
   "cell_type": "markdown",
   "metadata": {},
   "source": [
    "# Released energy"
   ]
  },
  {
   "cell_type": "code",
   "execution_count": 10,
   "metadata": {},
   "outputs": [
    {
     "data": {
      "image/png": "[encoded data removed]",
      "text/latex": [
       "$\\displaystyle \\frac{\\sqrt{2} \\sqrt{A_\\mathrm{f}} \\sqrt{E_\\mathrm{f}} \\sqrt{\\bar{\\tau}} \\sqrt{p} w^{\\frac{3}{2}}}{3}$"
      ],
      "text/plain": [
       "     ______________   ______________   ____________     3/2\n",
       "√2⋅╲╱ A_\\mathrm{f} ⋅╲╱ E_\\mathrm{f} ⋅╲╱ \\bar{\\tau} ⋅√p⋅w   \n",
       "───────────────────────────────────────────────────────────\n",
       "                             3                             "
      ]
     },
     "execution_count": 10,
     "metadata": {},
     "output_type": "execute_result"
    }
   ],
   "source": [
    "G_w_ = sp.simplify(W_w_ - U_w_)\n",
    "G_w_"
   ]
  },
  {
   "cell_type": "markdown",
   "metadata": {},
   "source": [
    "# What is the unloading stiffness at a point $w$?\n",
    "As we know the area of the triangle below the unloading branch and the corresponding force $P$ we can\n",
    "obtain the elastic control slip as\n",
    "\\begin{align}\n",
    "U = \\frac{1}{2} P w_{\\mathrm{el}} \\implies w_\\mathrm{el} = \\frac{2 U}{P}\n",
    "\\end{align}\n",
    "So that the amount of plastic slip reads\n",
    "\\begin{align}\n",
    "w_\\mathrm{pl} = w - w_\\mathrm{el}\n",
    "\\end{align}"
   ]
  },
  {
   "cell_type": "code",
   "execution_count": 22,
   "metadata": {},
   "outputs": [
    {
     "data": {
      "image/png": "[encoded data removed]",
      "text/latex": [
       "$\\displaystyle \\left( \\frac{\\sqrt{2} \\sqrt{A_\\mathrm{f}} \\sqrt{E_\\mathrm{f}} \\sqrt{\\bar{\\tau}} \\sqrt{p} w^{\\frac{3}{2}}}{3}, \\  \\sqrt{2} \\sqrt{A_\\mathrm{f}} \\sqrt{E_\\mathrm{f}} \\sqrt{\\bar{\\tau}} \\sqrt{p} \\sqrt{w}, \\  w\\right)$"
      ],
      "text/plain": [
       "⎛     ______________   ______________   ____________     3/2                  \n",
       "⎜√2⋅╲╱ A_\\mathrm{f} ⋅╲╱ E_\\mathrm{f} ⋅╲╱ \\bar{\\tau} ⋅√p⋅w          ___________\n",
       "⎜───────────────────────────────────────────────────────────, √2⋅╲╱ A_\\mathrm{\n",
       "⎝                             3                                               \n",
       "\n",
       "                                            ⎞\n",
       "___   ______________   ____________         ⎟\n",
       "f} ⋅╲╱ E_\\mathrm{f} ⋅╲╱ \\bar{\\tau} ⋅√p⋅√w, w⎟\n",
       "                                            ⎠"
      ]
     },
     "execution_count": 22,
     "metadata": {},
     "output_type": "execute_result"
    }
   ],
   "source": [
    "U_w_, Pw_pull, w**(sp.Rational(3,2))/sp.sqrt(w)"
   ]
  },
  {
   "cell_type": "code",
   "execution_count": 11,
   "metadata": {},
   "outputs": [
    {
     "data": {
      "image/png": "[encoded data removed]",
      "text/latex": [
       "$\\displaystyle \\frac{2 w}{3}$"
      ],
      "text/plain": [
       "2⋅w\n",
       "───\n",
       " 3 "
      ]
     },
     "execution_count": 11,
     "metadata": {},
     "output_type": "execute_result"
    }
   ],
   "source": [
    "w_el_ = 2 * U_w_ / Pw_pull\n",
    "w_el_"
   ]
  },
  {
   "cell_type": "code",
   "execution_count": 12,
   "metadata": {
    "scrolled": true
   },
   "outputs": [
    {
     "data": {
      "image/png": "[encoded data removed]",
      "text/latex": [
       "$\\displaystyle \\frac{w}{3}$"
      ],
      "text/plain": [
       "w\n",
       "─\n",
       "3"
      ]
     },
     "execution_count": 12,
     "metadata": {},
     "output_type": "execute_result"
    }
   ],
   "source": [
    "w_pl_ = w - w_el_\n",
    "sp.simplify(w_pl_)"
   ]
  },
  {
   "cell_type": "markdown",
   "metadata": {},
   "source": [
    "# Energy release rate"
   ]
  },
  {
   "cell_type": "code",
   "execution_count": 13,
   "metadata": {},
   "outputs": [
    {
     "data": {
      "image/png": "[encoded data removed]",
      "text/latex": [
       "$\\displaystyle \\frac{\\sqrt{2} \\sqrt{A_\\mathrm{f}} \\sqrt{E_\\mathrm{f}} \\sqrt{\\bar{\\tau}} \\sqrt{p} \\sqrt{w}}{2}$"
      ],
      "text/plain": [
       "     ______________   ______________   ____________      \n",
       "√2⋅╲╱ A_\\mathrm{f} ⋅╲╱ E_\\mathrm{f} ⋅╲╱ \\bar{\\tau} ⋅√p⋅√w\n",
       "─────────────────────────────────────────────────────────\n",
       "                            2                            "
      ]
     },
     "execution_count": 13,
     "metadata": {},
     "output_type": "execute_result"
    }
   ],
   "source": [
    "dG_dw_ = G_w_.diff(w)\n",
    "dG_dw_"
   ]
  },
  {
   "cell_type": "code",
   "execution_count": 23,
   "metadata": {},
   "outputs": [
    {
     "data": {
      "image/png": "[encoded data removed]",
      "text/latex": [
       "$\\displaystyle \\begin{cases} \\frac{P^{2}}{2 A_\\mathrm{f} E_\\mathrm{f} \\bar{\\tau} p} + \\frac{P x}{A_\\mathrm{f} E_\\mathrm{f}} + \\frac{\\bar{\\tau} p x^{2}}{2 A_\\mathrm{f} E_\\mathrm{f}} & \\text{for}\\: x > - \\frac{P}{\\bar{\\tau} p} \\\\0 & \\text{otherwise} \\end{cases}$"
      ],
      "text/plain": [
       "⎧                    2                                                        \n",
       "⎪                   P                                  P⋅x                    \n",
       "⎪──────────────────────────────────────── + ───────────────────────── + ──────\n",
       "⎨2⋅A_\\mathrm{f}⋅E_\\mathrm{f}⋅\\bar{\\tau}⋅p   A_\\mathrm{f}⋅E_\\mathrm{f}   2⋅A_\\m\n",
       "⎪                                                                             \n",
       "⎪                                                0                            \n",
       "⎩                                                                             \n",
       "\n",
       "              2                            \n",
       "\\bar{\\tau}⋅p⋅x                     -P      \n",
       "─────────────────────  for x > ────────────\n",
       "athrm{f}⋅E_\\mathrm{f}          \\bar{\\tau}⋅p\n",
       "                                           \n",
       "                            otherwise      \n",
       "                                           "
      ]
     },
     "execution_count": 23,
     "metadata": {},
     "output_type": "execute_result"
    }
   ],
   "source": [
    "u_fa_x"
   ]
  },
  {
   "cell_type": "code",
   "execution_count": 24,
   "metadata": {},
   "outputs": [
    {
     "data": {
      "image/png": "[encoded data removed]",
      "text/latex": [
       "$\\displaystyle \\begin{cases} \\bar{\\tau} & \\text{for}\\: x > - \\frac{P}{\\bar{\\tau} p} \\\\0 & \\text{otherwise} \\end{cases}$"
      ],
      "text/plain": [
       "⎧                        -P      \n",
       "⎪\\bar{\\tau}  for x > ────────────\n",
       "⎨                    \\bar{\\tau}⋅p\n",
       "⎪                                \n",
       "⎩    0            otherwise      "
      ]
     },
     "execution_count": 24,
     "metadata": {},
     "output_type": "execute_result"
    }
   ],
   "source": [
    "tau_x"
   ]
  },
  {
   "cell_type": "code",
   "execution_count": 28,
   "metadata": {},
   "outputs": [
    {
     "data": {
      "image/png": "[encoded data removed]",
      "text/latex": [
       "$\\displaystyle \\frac{P^{3}}{6 A_\\mathrm{f} E_\\mathrm{f} \\bar{\\tau} p}$"
      ],
      "text/plain": [
       "                    3                   \n",
       "                   P                    \n",
       "────────────────────────────────────────\n",
       "6⋅A_\\mathrm{f}⋅E_\\mathrm{f}⋅\\bar{\\tau}⋅p"
      ]
     },
     "execution_count": 28,
     "metadata": {},
     "output_type": "execute_result"
    }
   ],
   "source": [
    "G2_P_ = sp.integrate(p * tau_x * u_fa_x, (x,-sp.oo,0))\n",
    "G2_P_"
   ]
  },
  {
   "cell_type": "code",
   "execution_count": 29,
   "metadata": {},
   "outputs": [
    {
     "data": {
      "image/png": "[encoded data removed]",
      "text/latex": [
       "$\\displaystyle \\frac{\\sqrt{2} \\sqrt{A_\\mathrm{f}} \\sqrt{E_\\mathrm{f}} \\sqrt{\\bar{\\tau}} \\sqrt{p} w^{\\frac{3}{2}}}{3}$"
      ],
      "text/plain": [
       "     ______________   ______________   ____________     3/2\n",
       "√2⋅╲╱ A_\\mathrm{f} ⋅╲╱ E_\\mathrm{f} ⋅╲╱ \\bar{\\tau} ⋅√p⋅w   \n",
       "───────────────────────────────────────────────────────────\n",
       "                             3                             "
      ]
     },
     "execution_count": 29,
     "metadata": {},
     "output_type": "execute_result"
    }
   ],
   "source": [
    "G2_P_.subs(P, Pw_pull)"
   ]
  },
  {
   "cell_type": "code",
   "execution_count": null,
   "metadata": {},
   "outputs": [],
   "source": []
  }
 ],
 "metadata": {
  "kernelspec": {
   "display_name": "Python 3",
   "language": "python",
   "name": "python3"
  },
  "language_info": {
   "codemirror_mode": {
    "name": "ipython",
    "version": 3
   },
   "file_extension": ".py",
   "mimetype": "text/x-python",
   "name": "python",
   "nbconvert_exporter": "python",
   "pygments_lexer": "ipython3",
   "version": "3.7.6"
  },
  "toc": {
   "base_numbering": 1,
   "nav_menu": {},
   "number_sections": true,
   "sideBar": true,
   "skip_h1_title": true,
   "title_cell": "Table of Contents",
   "title_sidebar": "Contents",
   "toc_cell": false,
   "toc_position": {
    "height": "calc(100% - 180px)",
    "left": "10px",
    "top": "150px",
    "width": "165px"
   },
   "toc_section_display": true,
   "toc_window_display": true
  }
 },
 "nbformat": 4,
 "nbformat_minor": 4
}
