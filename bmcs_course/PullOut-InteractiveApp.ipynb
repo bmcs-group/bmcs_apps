{
 "cells": [
  {
   "cell_type": "markdown",
   "metadata": {
    "slideshow": {
     "slide_type": "slide"
    }
   },
   "source": [
    "# Seminar work\n",
    "# Adjust to the material parameters in the PO-LF-LM-EL-SH app\n",
    "\n",
    "\n",
    "@author: rosoba"
   ]
  },
  {
   "attachments": {
    "image.png": {
     "image/png": "[encoded data removed]"
    }
   },
   "cell_type": "markdown",
   "metadata": {
    "slideshow": {
     "slide_type": "fragment"
    }
   },
   "source": [
    "## Idealization of the pull-out problem\n",
    "The one-dimensional idealization of the pull-out looks as follows\n",
    "\n",
    "![image.png](attachment:image.png)"
   ]
  },
  {
   "cell_type": "markdown",
   "metadata": {
    "slideshow": {
     "slide_type": "slide"
    }
   },
   "source": [
    "## Model parameters"
   ]
  },
  {
   "cell_type": "markdown",
   "metadata": {
    "slideshow": {
     "slide_type": "fragment"
    }
   },
   "source": [
    "The parameters and variables involved in the are grouped according geometry, material behavior, measured response, internal state and subsidiary integration parameters that will be resolved during the model derivation. In this classification we also associate the mathematical symbols with the Python variable name introduced in the next cell."
   ]
  },
  {
   "cell_type": "markdown",
   "metadata": {
    "slideshow": {
     "slide_type": "slide"
    }
   },
   "source": [
    "**Geometrical variables:**\n",
    "\n",
    "| Python | Parameter | Description | \n",
    "| :- | :-: | :- |\n",
    "| `A_f` | $A_\\mathrm{f}$ |  Cross section area modulus of the reinforcement |\n",
    "| `A_m` | $A_\\mathrm{m}$ |  Cross section area modulus of the matrix |\n",
    "| `p_b` | $p_\\mathrm{b}$ |  Perimeter of the reinforcement                  |\n",
    "| `L_b` | $L_\\mathrm{b}$ |  Length of the bond zone of the pulled-out bar   |\n",
    "| `x`   | $x$            |  Longitudinal coordinate |\n",
    "\n",
    "**Material parameters:**\n",
    "\n",
    "| Python | Parameter | Description | \n",
    "| :- | :-: | :- |\n",
    "| `E_f`     | $E_\\mathrm{f}$ |  Young's modulus of the reinforcement |\n",
    "| `E_m`     | $E_\\mathrm{m}$ |  Young's modulus of the matrix        |\n",
    "| `MATS`    | $\\tau(s)$      |  Multi-linear bond-slip model         |\n",
    "\n",
    "(`MATS` is used to denote \"Material Time Stepper\" -- equivalent to user-subroutine in Abaqus, or user material in ATENA) "
   ]
  },
  {
   "cell_type": "markdown",
   "metadata": {
    "slideshow": {
     "slide_type": "slide"
    }
   },
   "source": [
    "**Control parameter:**\n",
    "\n",
    "| Python | Parameter | Description | \n",
    "| :- | :-: | :- |\n",
    "| `P` | $P$ | Pullout force |\n",
    "| `w` | $w$ | pullout control  displacement\n",
    "\n",
    "**State parameter:**\n",
    "\n",
    "There are no state parameters included. \n",
    "\n",
    " - What is the consequence? The material has no memory.\n",
    " - What happens upon unloading?"
   ]
  },
  {
   "cell_type": "markdown",
   "metadata": {
    "slideshow": {
     "slide_type": "slide"
    }
   },
   "source": [
    "**Let's import the packages:**"
   ]
  },
  {
   "cell_type": "code",
   "execution_count": 1,
   "metadata": {
    "slideshow": {
     "slide_type": "fragment"
    }
   },
   "outputs": [],
   "source": [
    "%matplotlib widget\n",
    "import numpy as np # numerical package\n",
    "import matplotlib.pyplot as plt # plotting package\n",
    "import ipywidgets as ipw"
   ]
  },
  {
   "cell_type": "markdown",
   "metadata": {
    "slideshow": {
     "slide_type": "slide"
    }
   },
   "source": [
    "## Numerical model of pull-out provided in BMCS Tool Suite \n",
    "The presented function is the simplest model provided in a general-purpose nonlinear finite-element simulator `BMCS-Tool-Suite`. This code can be installed in your anaconda environment by issuing the installation command\n",
    "\n",
    "`pip install --upgrade bmcs`\n",
    "\n",
    "After the installation it should be possible to import the `PullOutModel` by issuing"
   ]
  },
  {
   "cell_type": "code",
   "execution_count": 2,
   "metadata": {},
   "outputs": [],
   "source": [
    "A_f = 0.5**2 * np.pi\n",
    "A_m = 10 * 10.\n",
    "P_b = np.pi * 1.0\n",
    "E_f = 280000.\n",
    "E_m = 28000.\n",
    "L_b = 200.\n",
    "s_data = '0, 0.06, 0.3, 1, 2'\n",
    "tau_data = '0., 1, 0.0, 0.0, 0.0'"
   ]
  },
  {
   "cell_type": "code",
   "execution_count": 3,
   "metadata": {
    "scrolled": true,
    "slideshow": {
     "slide_type": "slide"
    }
   },
   "outputs": [
    {
     "data": {
      "text/latex": [
       "\n",
       "        \\begin{array}{lrrl}\\hline\n",
       "        \\textrm{k_max} & k_{\\max} = 200 & \\textrm{[-]} & \\textrm{maximum number of iterations}  \\\\\n",
       "                \\textrm{tolerance} & \\epsilon = 0.0001 & \\textrm{[-]} & \\textrm{required accuracy}  \\\\\n",
       "                \\textrm{n_e_x} & n_\\mathrm{E} = 60 & \\textrm{[-]} & \\textrm{number of finite elements along the embedded length}  \\\\\n",
       "                \\textrm{mats_eval_type} & \\textrm{multilinear} & & \\textrm{material model type}  \\\\\n",
       "                \\textrm{control_variable} & \\textrm{u} & & \\textrm{displacement or force control: [u|f]}  \\\\\n",
       "                \\textrm{w_max} & w_{\\max} = 1.0 & \\textrm{[mm]} & \\textrm{maximum pullout slip}  \\\\\n",
       "                \\textrm{fixed_boundary} & \\textrm{non-loaded end (matrix)} & & \\textrm{which side of the specimen is fixed [non-loaded end [matrix], loaded end [matrix], non-loaded end [reinf]]}  \\\\\n",
       "                \\hline\n",
       "        \\textbf{loading_scenario} & \\textrm{LoadingScenario} & & \\textrm{object defining the loading scenario} \\\\\n",
       "            \\textbf{cross_section} & \\textrm{CrossSection} & & \\textrm{cross section parameters} \\\\\n",
       "            \\textbf{geometry} & \\textrm{Geometry} & & \\textrm{geometry parameters of the boundary value problem} \\\\\n",
       "            \\textbf{mats_eval} & \\textrm{MATSBondSlipMultiLinear} & & \\textrm{material model of the interface} \\\\\n",
       "            \\hline\n",
       "        \\end{array}\n",
       "        "
      ],
      "text/plain": [
       "<bmcs.pullout.pullout_sim.PullOutModel at 0x7f06ad382410>"
      ]
     },
     "execution_count": 3,
     "metadata": {},
     "output_type": "execute_result"
    }
   ],
   "source": [
    "from bmcs.pullout.pullout_sim import PullOutModel\n",
    "po = PullOutModel(n_e_x=60, k_max=200, w_max=1.0)\n",
    "po"
   ]
  },
  {
   "cell_type": "code",
   "execution_count": 4,
   "metadata": {
    "slideshow": {
     "slide_type": "slide"
    }
   },
   "outputs": [
    {
     "data": {
      "text/latex": [
       "\n",
       "        \\begin{array}{lrrl}\\hline\n",
       "        \\textrm{A_m} & A_\\mathrm{m} = 100.0 & \\textrm{[$\\mathrm{mm}^2$]} & \\textrm{matrix area}  \\\\\n",
       "                \\textrm{A_f} & A_\\mathrm{f} = 0.7853981633974483 & \\textrm{[$\\mathrm{mm}^2$]} & \\textrm{reinforcement area}  \\\\\n",
       "                \\textrm{P_b} & p_\\mathrm{b} = 3.141592653589793 & \\textrm{[$\\mathrm{mm}$]} & \\textrm{perimeter of the bond interface}  \\\\\n",
       "                \\hline\n",
       "        \\hline\n",
       "        \\end{array}\n",
       "        "
      ],
      "text/plain": [
       "<bmcs.pullout.pullout_sim.CrossSection at 0x7f06aa128a10>"
      ]
     },
     "execution_count": 4,
     "metadata": {},
     "output_type": "execute_result"
    }
   ],
   "source": [
    "po.sim.tline.step = 0.05\n",
    "po.sim.tloop.k_max = 200\n",
    "po.fixed_boundary = 'non-loaded end (matrix)'\n",
    "po.loading_scenario.trait_set(loading_type='cyclic',\n",
    "                              amplitude_type='constant',\n",
    "                              loading_range='non-symmetric'\n",
    "                              )\n",
    "po.loading_scenario.trait_set(number_of_cycles=1,\n",
    "                              unloading_ratio=0.98,\n",
    "                              )\n",
    "po.geometry.trait_set(L_x=1.0)\n",
    "po.cross_section.trait_set(A_f=A_f, P_b=P_b, A_m=A_m)"
   ]
  },
  {
   "cell_type": "markdown",
   "metadata": {
    "slideshow": {
     "slide_type": "slide"
    }
   },
   "source": [
    "## Run the simulation\n",
    "The model object `po` contains the non-linear threaded simulator `sim` as its attribute. To be sure that the state arrays and history variables are zeroed and reset run the methods `stop` first. After that, the simulation can be started."
   ]
  },
  {
   "cell_type": "code",
   "execution_count": 9,
   "metadata": {
    "hide_input": false,
    "scrolled": false,
    "slideshow": {
     "slide_type": "slide"
    }
   },
   "outputs": [
    {
     "data": {
      "application/vnd.jupyter.widget-view+json": {
       "model_id": "3c268ef872a14dcba43a0643b66360a6",
       "version_major": 2,
       "version_minor": 0
      },
      "text/plain": [
       "Canvas(toolbar=Toolbar(toolitems=[('Home', 'Reset original view', 'home', 'home'), ('Back', 'Back to previous …"
      ]
     },
     "metadata": {},
     "output_type": "display_data"
    },
    {
     "data": {
      "application/vnd.jupyter.widget-view+json": {
       "model_id": "bf4f6101ae42472c83991baf3e934221",
       "version_major": 2,
       "version_minor": 0
      },
      "text/plain": [
       "Canvas(toolbar=Toolbar(toolitems=[('Home', 'Reset original view', 'home', 'home'), ('Back', 'Back to previous …"
      ]
     },
     "metadata": {},
     "output_type": "display_data"
    },
    {
     "data": {
      "application/vnd.jupyter.widget-view+json": {
       "model_id": "8e7306d6d31149f29c0a04477ab09ee8",
       "version_major": 2,
       "version_minor": 0
      },
      "text/plain": [
       "Canvas(toolbar=Toolbar(toolitems=[('Home', 'Reset original view', 'home', 'home'), ('Back', 'Back to previous …"
      ]
     },
     "metadata": {},
     "output_type": "display_data"
    },
    {
     "data": {
      "application/vnd.jupyter.widget-view+json": {
       "model_id": "1aa172122d114d6799470f45fc76b468",
       "version_major": 2,
       "version_minor": 0
      },
      "text/plain": [
       "VBox(children=(Tab(children=(HBox(children=(VBox(children=(Button(description='Run simulation', icon='check', …"
      ]
     },
     "metadata": {},
     "output_type": "display_data"
    }
   ],
   "source": [
    "fig1, (ax_geo, ax_bs) = plt.subplots(2,1, figsize=(4,5), \n",
    "                                   tight_layout=True)\n",
    "fig2, ((ax_Pw, ax_s),\n",
    "      (ax_eps, ax_sig))= plt.subplots(2,2,figsize=(10,6),\n",
    "                                   tight_layout=True)\n",
    "fig3, (ax_G, ax_dG) = plt.subplots(1,2, figsize=(10,4), \n",
    "                                   tight_layout=True)\n",
    "ax_sf = ax_s.twinx()\n",
    "\n",
    "fig1.canvas.header_visible = False\n",
    "fig2.canvas.header_visible = False\n",
    "fig3.canvas.header_visible = False\n",
    "fig2.canvas.layout.min_height = '400px'\n",
    "\n",
    "po.sim.stop()\n",
    "po.sim.run()\n",
    "\n",
    "def update_bs_law(change):\n",
    "    s = slip_values.value\n",
    "    tau = tau_values.value\n",
    "    ax_bs.clear()\n",
    "    po.mats_eval.s_data = s\n",
    "    po.mats_eval.tau_data = tau\n",
    "    po.mats_eval.update_bs_law = True\n",
    "    po.mats_eval.bs_law.replot()\n",
    "    po.mats_eval.bs_law.plot(ax_bs, color='green')\n",
    "    fig1.canvas.draw()\n",
    "    fig1.canvas.flush_events()\n",
    "\n",
    "slip_values = ipw.Text(\n",
    "    value=s_data,\n",
    "    placeholder='Type something',\n",
    "    description='slip values',\n",
    "    disabled=False\n",
    ")\n",
    "\n",
    "tau_values = ipw.Text(\n",
    "    value=tau_data,\n",
    "    placeholder='Type something',\n",
    "    description='tau values:',\n",
    "    disabled=False\n",
    ")\n",
    "\n",
    "update_bs_button = ipw.Button(\n",
    "    description='Update bond-slip',\n",
    "    disabled=False,\n",
    "    button_style='', # 'success', 'info', 'warning', 'danger' or ''\n",
    "    tooltip='Update bond-slip law',\n",
    "    icon='check'\n",
    ")\n",
    "\n",
    "update_bs_button.on_click(update_bs_law)\n",
    "bs_input = ipw.VBox([update_bs_button, slip_values, tau_values])\n",
    "\n",
    "update_bs_law(True)\n",
    "\n",
    "def clear_plots():\n",
    "    print('cleared plots')\n",
    "    ax_geo.clear()\n",
    "    ax_Pw.clear()\n",
    "    ax_eps.clear()\n",
    "    ax_sig.clear()\n",
    "    ax_s.clear()\n",
    "    ax_sf.clear()\n",
    "    ax_G.clear()\n",
    "    ax_dG.clear()\n",
    "\n",
    "def plot_state(t):\n",
    "    clear_plots()\n",
    "    po.plot_geo(ax_geo,t)\n",
    "    po.hist.plot_Pw(ax_Pw,t)\n",
    "    po.plot_eps_p(ax_eps, t)\n",
    "    po.plot_sig_p(ax_sig, t)\n",
    "    po.plot_s(ax_s, t)\n",
    "    po.plot_sf(ax_sf, t)\n",
    "    po.hist.plot_G_t(ax_G,0.9)\n",
    "    po.hist.plot_dG_t(ax_dG,1)\n",
    "    fig2.canvas.draw()\n",
    "    fig2.canvas.flush_events()\n",
    "\n",
    "def update_material(w_max, support_at, L_b, P_b, A_f, A_m, E_f, E_m, k_max, step):\n",
    "    print('updating material')\n",
    "    po.w_max = w_max\n",
    "    po.geometry.L_x = L_b\n",
    "    po.cross_section.A_f = A_f\n",
    "    po.cross_section.P_b = P_b\n",
    "    po.cross_section.A_m = A_m\n",
    "    po.mats_eval.E_f = E_f\n",
    "    po.mats_eval.E_m = E_m\n",
    "    po.k_max = k_max\n",
    "    po.sim.tloop.k_max = k_max\n",
    "    po.sim.tline.step = step\n",
    "\n",
    "@run_output.capture(clear_output=True)\n",
    "def run_sim(run_state):\n",
    "    print('running simulation')\n",
    "    po.sim.stop()\n",
    "    po.sim.run()\n",
    "    print('simulation finished')\n",
    "    plot_state(t_slider.value)\n",
    "    tab.selected_index = 1\n",
    "\n",
    "support_dd = ipw.Dropdown(\n",
    "    options=[('non-loaded end (matrix)'), ('loaded end (matrix)')],\n",
    "    value='loaded end (matrix)',\n",
    "    description='support at:',\n",
    "    disabled=False,\n",
    ")\n",
    "\n",
    "t_slider = ipw.FloatSlider(description='history slider', \n",
    "                           value=0, min=0, max=1, step=0.1, continuous_update=False)\n",
    "m_sliders = dict(w_max=ipw.FloatText(description='w_max', value=1),\n",
    "                 support_at = support_dd,\n",
    "                 L_b = ipw.FloatText(description='L_b', value=L_b),\n",
    "                 P_b = ipw.FloatText(description='P_b', value=P_b),\n",
    "                 A_m = ipw.FloatText(description='A_m', value=A_m),\n",
    "                 A_f = ipw.FloatText(description='A_f', value=A_f),\n",
    "                 E_m = ipw.FloatText(description='E_m', value=E_m),\n",
    "                 E_f = ipw.FloatText(description='E_f', value=E_f),\n",
    "                 k_max = ipw.IntSlider(description='iter n', value=300, min=10, max=1000, step=20, continuous_update=False), \n",
    "                 step = ipw.FloatSlider(description='step size',value=0.05, min=0.001, max=0.2, step=0.005, continuous_update=False))\n",
    "\n",
    "run_button = ipw.Button(\n",
    "    description='Run simulation',\n",
    "    disabled=False,\n",
    "    button_style='', # 'success', 'info', 'warning', 'danger' or ''\n",
    "    tooltip='Start the simulation',\n",
    "    icon='check'\n",
    ")\n",
    "\n",
    "run_button.on_click(run_sim)\n",
    "out1 = ipw.interactive_output(plot_state, {'t':t_slider});\n",
    "out2 = ipw.interactive_output(update_material, m_sliders );\n",
    "out_area = ipw.HBox([out1, out2, run_output])\n",
    "s_list = [ val for val in m_sliders.values() ]\n",
    "\n",
    "\n",
    "# Layout\n",
    "input_param_area = ipw.VBox(s_list)\n",
    "input_area = ipw.VBox([run_button, input_param_area, bs_input])\n",
    "plot_area1 = ipw.HBox([input_area, fig1.canvas])\n",
    "plot_area2 = ipw.VBox([fig2.canvas, t_slider])\n",
    "plot_area3 = ipw.VBox([fig3.canvas, t_slider])\n",
    "tab = ipw.Tab()\n",
    "tab.children = [plot_area1, plot_area2,plot_area3]\n",
    "tab.set_title(0,'Input')\n",
    "tab.set_title(1,'Plot response')\n",
    "tab.set_title(2,'Plot energy')\n",
    "app_area = ipw.VBox([tab, out_area])\n",
    "display(app_area)"
   ]
  },
  {
   "cell_type": "markdown",
   "metadata": {
    "slideshow": {
     "slide_type": "slide"
    }
   },
   "source": [
    "# Rendering individual outputs"
   ]
  },
  {
   "cell_type": "code",
   "execution_count": null,
   "metadata": {
    "scrolled": false
   },
   "outputs": [],
   "source": [
    "fix, ax = plt.subplots(1,1, figsize=(8,3),tight_layout=True)\n",
    "po.hist.plot_Pw(ax,1)"
   ]
  },
  {
   "cell_type": "markdown",
   "metadata": {},
   "source": [
    "All plot functions accept the scalar parameter between the start and end state in the range (0,1)"
   ]
  },
  {
   "cell_type": "code",
   "execution_count": null,
   "metadata": {},
   "outputs": [],
   "source": [
    "fix, (ax1, ax2) = plt.subplots(1,2, figsize=(8,3),tight_layout=True)\n",
    "po.plot_eps_p(ax1, 0.2)\n",
    "po.plot_s(ax2, 0.2)\n",
    "ax22 = ax2.twinx()\n",
    "po.plot_sf(ax22, 0.2)\n"
   ]
  },
  {
   "cell_type": "markdown",
   "metadata": {
    "hide_input": false
   },
   "source": [
    "To use the plots of the simulations in documents, the diagrams of the above simulation\n",
    "are replotted here with the goal to show the code snippets producing individual diagrams."
   ]
  },
  {
   "cell_type": "code",
   "execution_count": null,
   "metadata": {
    "scrolled": false,
    "slideshow": {
     "slide_type": "fragment"
    }
   },
   "outputs": [],
   "source": [
    "fix, (ax1, ax2) = plt.subplots(1,2, figsize=(8,3),tight_layout=True)\n",
    "po.hist.plot_G_t(ax1,0.9)\n",
    "po.hist.plot_dG_t(ax2,1)"
   ]
  },
  {
   "cell_type": "code",
   "execution_count": null,
   "metadata": {},
   "outputs": [],
   "source": []
  },
  {
   "cell_type": "code",
   "execution_count": null,
   "metadata": {},
   "outputs": [],
   "source": []
  }
 ],
 "metadata": {
  "kernelspec": {
   "display_name": "Python 3",
   "language": "python",
   "name": "python3"
  },
  "language_info": {
   "codemirror_mode": {
    "name": "ipython",
    "version": 3
   },
   "file_extension": ".py",
   "mimetype": "text/x-python",
   "name": "python",
   "nbconvert_exporter": "python",
   "pygments_lexer": "ipython3",
   "version": "3.7.6"
  },
  "toc": {
   "base_numbering": 1,
   "nav_menu": {},
   "number_sections": true,
   "sideBar": true,
   "skip_h1_title": true,
   "title_cell": "Table of Contents",
   "title_sidebar": "Contents",
   "toc_cell": false,
   "toc_position": {
    "height": "calc(100% - 180px)",
    "left": "10px",
    "top": "150px",
    "width": "203.5px"
   },
   "toc_section_display": true,
   "toc_window_display": false
  }
 },
 "nbformat": 4,
 "nbformat_minor": 4
}
