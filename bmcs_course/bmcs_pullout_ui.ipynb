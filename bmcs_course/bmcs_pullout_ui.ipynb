{
 "cells": [
  {
   "cell_type": "code",
   "execution_count": null,
   "metadata": {},
   "outputs": [],
   "source": []
  },
  {
   "cell_type": "code",
   "execution_count": 1,
   "metadata": {},
   "outputs": [],
   "source": [
    "def plot_filled_var(ax, xdata, ydata, xlabel='', ylabel='', \n",
    "                    color='black', alpha=0.1, ylim=None, xlim=None):\n",
    "    line, = ax.plot(xdata, ydata, color=color);\n",
    "    if xlabel:\n",
    "        ax.set_xlabel(xlabel); \n",
    "    if ylabel:\n",
    "        ax.set_ylabel(ylabel)\n",
    "    if ylim:\n",
    "        ax.set_ylim(*ylim)\n",
    "    if xlim:\n",
    "        ax.set_xlim(*xlim)\n",
    "    ax.fill_between(xdata, ydata, color=color, alpha=alpha);\n",
    "    return line\n",
    "\n",
    "def clear_plot(ax):\n",
    "    ax.collections.clear()\n",
    "\n",
    "def update_filled_plot(ax, line, xdata, ydata, color='green', alpha=0.1):\n",
    "    line.set_ydata(ydata)\n",
    "    line.set_xdata(xdata)\n",
    "    ax.set_xlim(np.min(xdata), np.max(xdata))\n",
    "    ax.fill_between(xdata, ydata, 0, color=color, alpha=alpha)"
   ]
  },
  {
   "cell_type": "code",
   "execution_count": null,
   "metadata": {},
   "outputs": [],
   "source": []
  }
 ],
 "metadata": {
  "kernelspec": {
   "display_name": "Python 3",
   "language": "python",
   "name": "python3"
  },
  "language_info": {
   "codemirror_mode": {
    "name": "ipython",
    "version": 3
   },
   "file_extension": ".py",
   "mimetype": "text/x-python",
   "name": "python",
   "nbconvert_exporter": "python",
   "pygments_lexer": "ipython3",
   "version": "3.7.7"
  },
  "toc": {
   "base_numbering": 1,
   "nav_menu": {},
   "number_sections": true,
   "sideBar": true,
   "skip_h1_title": false,
   "title_cell": "Table of Contents",
   "title_sidebar": "Contents",
   "toc_cell": false,
   "toc_position": {},
   "toc_section_display": true,
   "toc_window_display": true
  }
 },
 "nbformat": 4,
 "nbformat_minor": 4
}
