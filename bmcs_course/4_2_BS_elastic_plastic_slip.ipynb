{
 "cells": [
  {
   "cell_type": "markdown",
   "metadata": {},
   "source": [
    "# 4.2 Bond behavior governed by plasticity\n",
    "Define a bond-slip law governed yielding with hardening or softening."
   ]
  },
  {
   "cell_type": "code",
   "execution_count": 1,
   "metadata": {},
   "outputs": [],
   "source": [
    "%matplotlib inline\n",
    "import matplotlib.pyplot as plt\n",
    "import sympy as sp\n",
    "sp.init_printing()"
   ]
  },
  {
   "cell_type": "markdown",
   "metadata": {},
   "source": [
    "## The onset of inelasticity"
   ]
  },
  {
   "cell_type": "code",
   "execution_count": 2,
   "metadata": {},
   "outputs": [
    {
     "data": {
      "image/png": "[encoded data removed]",
      "text/latex": [
       "$\\displaystyle E_\\mathrm{b} s_{el}$"
      ],
      "text/plain": [
       "E_\\mathrm{b}⋅sₑₗ"
      ]
     },
     "execution_count": 2,
     "metadata": {},
     "output_type": "execute_result"
    }
   ],
   "source": [
    "s_el = sp.symbols('s_el')\n",
    "E_b = sp.symbols('E_\\mathrm{b}', positive=True)\n",
    "tau_ =  E_b * s_el\n",
    "tau_"
   ]
  },
  {
   "cell_type": "code",
   "execution_count": 3,
   "metadata": {},
   "outputs": [
    {
     "data": {
      "image/png": "[encoded data removed]",
      "text/latex": [
       "$\\displaystyle E_\\mathrm{b} \\left(s - s_{pl}\\right)$"
      ],
      "text/plain": [
       "E_\\mathrm{b}⋅(s - sₚₗ)"
      ]
     },
     "execution_count": 3,
     "metadata": {},
     "output_type": "execute_result"
    }
   ],
   "source": [
    "s, s_pl = sp.symbols('s, s_pl')\n",
    "s_el_ = s - s_pl\n",
    "tau_.subs(s_el, s_el_)"
   ]
  },
  {
   "cell_type": "code",
   "execution_count": 4,
   "metadata": {},
   "outputs": [
    {
     "data": {
      "image/png": "[encoded data removed]",
      "text/latex": [
       "$\\displaystyle - \\bar{\\tau} + \\sqrt{\\tau^{2}}$"
      ],
      "text/plain": [
       "                 _______\n",
       "                ╱     2 \n",
       "-\\bar{\\tau} + ╲╱  \\tau  "
      ]
     },
     "execution_count": 4,
     "metadata": {},
     "output_type": "execute_result"
    }
   ],
   "source": [
    "tau = sp.symbols(r'\\tau')\n",
    "tau_bar = sp.symbols(r'\\bar{\\tau}')\n",
    "f_tau = sp.sqrt( tau * tau ) - tau_bar\n",
    "f_tau"
   ]
  },
  {
   "cell_type": "code",
   "execution_count": 5,
   "metadata": {},
   "outputs": [
    {
     "data": {
      "image/png": "[encoded data removed]",
      "text/latex": [
       "$\\displaystyle E_\\mathrm{b} \\sqrt{\\left(s - s_{pl}\\right)^{2}} - \\bar{\\tau}$"
      ],
      "text/plain": [
       "                ____________             \n",
       "               ╱          2              \n",
       "E_\\mathrm{b}⋅╲╱  (s - sₚₗ)   - \\bar{\\tau}"
      ]
     },
     "execution_count": 5,
     "metadata": {},
     "output_type": "execute_result"
    }
   ],
   "source": [
    "f_s = f_tau.subs(tau, tau_).subs(s_el, s_el_)\n",
    "f_s"
   ]
  },
  {
   "cell_type": "markdown",
   "metadata": {},
   "source": [
    "The question is, how does the stress develop in the inelastic regime?\n",
    "This means when $f = 0$?"
   ]
  },
  {
   "cell_type": "code",
   "execution_count": 6,
   "metadata": {},
   "outputs": [
    {
     "data": {
      "image/png": "[encoded data removed]",
      "text/latex": [
       "$\\displaystyle s - \\frac{\\bar{\\tau}}{E_\\mathrm{b}}$"
      ],
      "text/plain": [
       "     \\bar{\\tau} \n",
       "s - ────────────\n",
       "    E_\\mathrm{b}"
      ]
     },
     "execution_count": 6,
     "metadata": {},
     "output_type": "execute_result"
    }
   ],
   "source": [
    "s_pl_f0 = sp.solve(f_s, s_pl)\n",
    "s_pl_f0[0]"
   ]
  },
  {
   "cell_type": "code",
   "execution_count": 7,
   "metadata": {},
   "outputs": [
    {
     "data": {
      "image/png": "[encoded data removed]",
      "text/latex": [
       "$\\displaystyle - \\bar{\\tau}$"
      ],
      "text/plain": [
       "-\\bar{\\tau}"
      ]
     },
     "execution_count": 7,
     "metadata": {},
     "output_type": "execute_result"
    }
   ],
   "source": [
    "tau_.subs(s_el, s_el_).subs(s_pl, s_pl_f0[1])"
   ]
  },
  {
   "cell_type": "markdown",
   "metadata": {},
   "source": [
    "So far, so good. We obtained a trivial result telling us that the stress cannot grow over the \n",
    "introduced elasticity limit. But in this case we can just reproduce the constant bond-slip \n",
    "law - now extended with a elastic stiffness. How to provide a general framework suitable\n",
    "for an algorithmic treatment? How to distinguish between loading and unloading?"
   ]
  },
  {
   "cell_type": "markdown",
   "metadata": {},
   "source": [
    "So how much plastic deformation was consumed? What was the direction of flow? \n",
    "There might be several different processes going on the material structure?\n",
    "Let us postulate, that they can be clustered by a positive flow variable $\\lambda$. Then\n",
    "we assume that the rate of change of all state variables representing yielding \n",
    "can be related to the common positive parameter $\\lambda$ and that the yielding direction \n",
    "is normal to the yield surface $f$"
   ]
  },
  {
   "cell_type": "code",
   "execution_count": 8,
   "metadata": {},
   "outputs": [
    {
     "data": {
      "image/png": "[encoded data removed]",
      "text/latex": [
       "$\\displaystyle \\frac{\\lambda \\sqrt{\\tau^{2}}}{\\tau}$"
      ],
      "text/plain": [
       "           _______\n",
       "          ╱     2 \n",
       "\\lambda⋅╲╱  \\tau  \n",
       "──────────────────\n",
       "       \\tau       "
      ]
     },
     "execution_count": 8,
     "metadata": {},
     "output_type": "execute_result"
    }
   ],
   "source": [
    "lambda_ = sp.symbols(r'\\lambda', nonnegative=True)\n",
    "dot_s_pl_ = lambda_ * f_tau.diff(tau)\n",
    "dot_s_pl_"
   ]
  },
  {
   "cell_type": "markdown",
   "metadata": {},
   "source": [
    "**Relate increment of yielding to the increment of primary kinematic state variables**"
   ]
  },
  {
   "cell_type": "markdown",
   "metadata": {},
   "source": [
    "But what is the amount of yielding controlled now by $\\lambda$? Solving for $f = 0$ is not \n",
    "of much help any more. Can the elastic range change during the yielding process? An abstract\n",
    "distinction between elastic and inelastic loading processes can be provided by Kuhn-Tucker conditions\n",
    "\\begin{align}\n",
    "  \\lambda \\dot{f} = 0, \\; \\lambda > 0,\\; \\dot{f} \\le 0\n",
    "\\end{align}"
   ]
  },
  {
   "cell_type": "code",
   "execution_count": 9,
   "metadata": {},
   "outputs": [
    {
     "data": {
      "image/png": "[encoded data removed]",
      "text/latex": [
       "$\\displaystyle E_\\mathrm{b} \\left(\\dot{s} - \\dot{s}_\\mathrm{pl}\\right)$"
      ],
      "text/plain": [
       "E_\\mathrm{b}⋅(\\dot{s} - \\dot{s}_\\mathrm{pl})"
      ]
     },
     "execution_count": 9,
     "metadata": {},
     "output_type": "execute_result"
    }
   ],
   "source": [
    "dot_s, dot_s_pl = sp.symbols(r'\\dot{s}, \\dot{s}_\\mathrm{pl}')\n",
    "dot_tau_ = E_b * (dot_s - dot_s_pl)\n",
    "dot_tau_"
   ]
  },
  {
   "cell_type": "code",
   "execution_count": 10,
   "metadata": {},
   "outputs": [],
   "source": [
    "dot_f = f_tau.diff(tau) * dot_tau_.subs(dot_s_pl, dot_s_pl_)"
   ]
  },
  {
   "cell_type": "code",
   "execution_count": 11,
   "metadata": {},
   "outputs": [
    {
     "data": {
      "image/png": "[encoded data removed]",
      "text/latex": [
       "$\\displaystyle \\frac{\\dot{s} \\tau}{\\sqrt{\\tau^{2}}}$"
      ],
      "text/plain": [
       "\\dot{s}⋅\\tau\n",
       "────────────\n",
       "    _______ \n",
       "   ╱     2  \n",
       " ╲╱  \\tau   "
      ]
     },
     "execution_count": 11,
     "metadata": {},
     "output_type": "execute_result"
    }
   ],
   "source": [
    "lambda_solved = sp.solve( dot_f, lambda_)[0]\n",
    "lambda_solved"
   ]
  },
  {
   "cell_type": "code",
   "execution_count": 12,
   "metadata": {},
   "outputs": [
    {
     "data": {
      "image/png": "[encoded data removed]",
      "text/latex": [
       "$\\displaystyle \\dot{s}$"
      ],
      "text/plain": [
       "\\dot{s}"
      ]
     },
     "execution_count": 12,
     "metadata": {},
     "output_type": "execute_result"
    }
   ],
   "source": [
    "dot_s_pl_.subs(lambda_, lambda_solved)"
   ]
  },
  {
   "cell_type": "code",
   "execution_count": 13,
   "metadata": {},
   "outputs": [
    {
     "data": {
      "image/png": "[encoded data removed]",
      "text/latex": [
       "$\\displaystyle 0$"
      ],
      "text/plain": [
       "0"
      ]
     },
     "execution_count": 13,
     "metadata": {},
     "output_type": "execute_result"
    }
   ],
   "source": [
    "dot_tau_.subs(dot_s_pl, dot_s_pl_).subs(lambda_, lambda_solved)"
   ]
  },
  {
   "cell_type": "markdown",
   "metadata": {},
   "source": [
    "[Convex mathematical programming literature]"
   ]
  },
  {
   "cell_type": "markdown",
   "metadata": {},
   "source": [
    "## Can the elastic range expand?"
   ]
  },
  {
   "cell_type": "code",
   "execution_count": 14,
   "metadata": {},
   "outputs": [
    {
     "data": {
      "image/png": "[encoded data removed]",
      "text/latex": [
       "$\\displaystyle - Z - \\bar{\\tau} + \\sqrt{\\tau^{2}}$"
      ],
      "text/plain": [
       "                     _______\n",
       "                    ╱     2 \n",
       "-Z - \\bar{\\tau} + ╲╱  \\tau  "
      ]
     },
     "execution_count": 14,
     "metadata": {},
     "output_type": "execute_result"
    }
   ],
   "source": [
    "z = sp.symbols('z')\n",
    "K = sp.symbols('K', positive=True )\n",
    "Z = sp.symbols('Z')\n",
    "f_tau = sp.sqrt(tau**2) - (tau_bar + Z)\n",
    "f_tau"
   ]
  },
  {
   "cell_type": "code",
   "execution_count": 15,
   "metadata": {},
   "outputs": [
    {
     "data": {
      "image/png": "[encoded data removed]",
      "text/latex": [
       "$\\displaystyle \\frac{\\lambda \\sqrt{\\tau^{2}}}{\\tau}$"
      ],
      "text/plain": [
       "           _______\n",
       "          ╱     2 \n",
       "\\lambda⋅╲╱  \\tau  \n",
       "──────────────────\n",
       "       \\tau       "
      ]
     },
     "execution_count": 15,
     "metadata": {},
     "output_type": "execute_result"
    }
   ],
   "source": [
    "dot_s_pl_ = lambda_ * f_tau.diff(tau)\n",
    "dot_s_pl_"
   ]
  },
  {
   "cell_type": "code",
   "execution_count": 16,
   "metadata": {},
   "outputs": [
    {
     "data": {
      "image/png": "[encoded data removed]",
      "text/latex": [
       "$\\displaystyle \\lambda$"
      ],
      "text/plain": [
       "\\lambda"
      ]
     },
     "execution_count": 16,
     "metadata": {},
     "output_type": "execute_result"
    }
   ],
   "source": [
    "dot_z_ = - lambda_ * f_tau.diff(Z)\n",
    "dot_z_"
   ]
  },
  {
   "cell_type": "markdown",
   "metadata": {},
   "source": [
    "\\begin{align}\n",
    " \\dot{f} = \n",
    "     \\frac{\\partial f}{\\partial \\tau} \\dot{\\tau} \n",
    "+\n",
    "     \\frac{\\partial f}{\\partial Z} \\dot{Z}\n",
    "\\end{align}"
   ]
  },
  {
   "cell_type": "code",
   "execution_count": 17,
   "metadata": {},
   "outputs": [
    {
     "data": {
      "image/png": "[encoded data removed]",
      "text/latex": [
       "$\\displaystyle K \\dot{z}$"
      ],
      "text/plain": [
       "K⋅\\dot{z}"
      ]
     },
     "execution_count": 17,
     "metadata": {},
     "output_type": "execute_result"
    }
   ],
   "source": [
    "dot_z = sp.symbols(r'\\dot{z}')\n",
    "dot_Z_ = K * dot_z\n",
    "dot_Z_"
   ]
  },
  {
   "cell_type": "code",
   "execution_count": 18,
   "metadata": {},
   "outputs": [
    {
     "data": {
      "image/png": "[encoded data removed]",
      "text/latex": [
       "$\\displaystyle \\frac{E_\\mathrm{b} \\left(\\dot{s} - \\dot{s}_\\mathrm{pl}\\right) \\sqrt{\\tau^{2}}}{\\tau} - K \\dot{z}$"
      ],
      "text/plain": [
       "                                                _______            \n",
       "                                               ╱     2             \n",
       "E_\\mathrm{b}⋅(\\dot{s} - \\dot{s}_\\mathrm{pl})⋅╲╱  \\tau              \n",
       "─────────────────────────────────────────────────────── - K⋅\\dot{z}\n",
       "                          \\tau                                     "
      ]
     },
     "execution_count": 18,
     "metadata": {},
     "output_type": "execute_result"
    }
   ],
   "source": [
    "dot_f = f_tau.diff(tau) * dot_tau_ + f_tau.diff(Z) * dot_Z_\n",
    "dot_f"
   ]
  },
  {
   "cell_type": "code",
   "execution_count": 19,
   "metadata": {},
   "outputs": [
    {
     "data": {
      "image/png": "[encoded data removed]",
      "text/latex": [
       "$\\displaystyle \\frac{E_\\mathrm{b} \\left(\\dot{s} - \\frac{\\lambda \\sqrt{\\tau^{2}}}{\\tau}\\right) \\sqrt{\\tau^{2}}}{\\tau} - K \\lambda$"
      ],
      "text/plain": [
       "             ⎛                     _______⎞                       \n",
       "             ⎜                    ╱     2 ⎟    _______            \n",
       "             ⎜          \\lambda⋅╲╱  \\tau  ⎟   ╱     2             \n",
       "E_\\mathrm{b}⋅⎜\\dot{s} - ──────────────────⎟⋅╲╱  \\tau              \n",
       "             ⎝                 \\tau       ⎠                       \n",
       "────────────────────────────────────────────────────── - K⋅\\lambda\n",
       "                         \\tau                                     "
      ]
     },
     "execution_count": 19,
     "metadata": {},
     "output_type": "execute_result"
    }
   ],
   "source": [
    "dot_f_lambda = dot_f.subs(dot_s_pl, dot_s_pl_).subs(dot_z, dot_z_)\n",
    "dot_f_lambda"
   ]
  },
  {
   "cell_type": "code",
   "execution_count": 20,
   "metadata": {},
   "outputs": [],
   "source": [
    "lambda_solved = sp.solve(dot_f_lambda, lambda_)[0]"
   ]
  },
  {
   "cell_type": "code",
   "execution_count": 21,
   "metadata": {},
   "outputs": [
    {
     "data": {
      "image/png": "[encoded data removed]",
      "text/latex": [
       "$\\displaystyle \\frac{E_\\mathrm{b} K \\dot{s}}{E_\\mathrm{b} + K}$"
      ],
      "text/plain": [
       "E_\\mathrm{b}⋅K⋅\\dot{s}\n",
       "──────────────────────\n",
       "   E_\\mathrm{b} + K   "
      ]
     },
     "execution_count": 21,
     "metadata": {},
     "output_type": "execute_result"
    }
   ],
   "source": [
    "sp.simplify(dot_tau_.subs(dot_s_pl, dot_s_pl_).subs(lambda_, lambda_solved))"
   ]
  },
  {
   "cell_type": "markdown",
   "metadata": {},
   "source": [
    "## Construct the bond slip model"
   ]
  },
  {
   "cell_type": "markdown",
   "metadata": {},
   "source": [
    "Given an increment of slip, calculate the corresponding amount of stress \n",
    "regarding the current state of the material"
   ]
  },
  {
   "cell_type": "markdown",
   "metadata": {},
   "source": [
    "Let us now solve this problem numerically\n",
    "\\begin{align}\n",
    "\\end{align}"
   ]
  },
  {
   "cell_type": "code",
   "execution_count": null,
   "metadata": {},
   "outputs": [],
   "source": []
  }
 ],
 "metadata": {
  "kernelspec": {
   "display_name": "Python 3",
   "language": "python",
   "name": "python3"
  },
  "language_info": {
   "codemirror_mode": {
    "name": "ipython",
    "version": 3
   },
   "file_extension": ".py",
   "mimetype": "text/x-python",
   "name": "python",
   "nbconvert_exporter": "python",
   "pygments_lexer": "ipython3",
   "version": "3.7.6"
  },
  "toc": {
   "base_numbering": 1,
   "nav_menu": {},
   "number_sections": true,
   "sideBar": true,
   "skip_h1_title": true,
   "title_cell": "Table of Contents",
   "title_sidebar": "Contents",
   "toc_cell": false,
   "toc_position": {},
   "toc_section_display": true,
   "toc_window_display": true
  }
 },
 "nbformat": 4,
 "nbformat_minor": 2
}
