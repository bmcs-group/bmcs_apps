{
 "cells": [
  {
   "cell_type": "markdown",
   "metadata": {},
   "source": [
    "# Example 4.1: Pull-out with unloading"
   ]
  },
  {
   "cell_type": "code",
   "execution_count": 7,
   "metadata": {},
   "outputs": [],
   "source": [
    "%matplotlib inline\n",
    "import matplotlib.pyplot as plt\n",
    "import numpy as np\n",
    "from bmcs.api import PullOutModel"
   ]
  },
  {
   "cell_type": "markdown",
   "metadata": {},
   "source": [
    "## Model parameters\n",
    "Let us consider the case of the CFRP sheet debonding from concrete"
   ]
  },
  {
   "cell_type": "code",
   "execution_count": 8,
   "metadata": {},
   "outputs": [],
   "source": [
    "A_f = 16.67 # [mm^2]\n",
    "A_m = 1540.0 # [mm^2]\n",
    "p = 1.0 #\n",
    "E_f = 170000 # [MPa]\n",
    "E_m = 28000 # [MPa]"
   ]
  },
  {
   "cell_type": "markdown",
   "metadata": {},
   "source": [
    "## Construct the finite element pullout model\n",
    "The model uses a multilinear bond-slip law specified by the attributes \n",
    "s_arr and tau_arr specifying the pairs of slip and bond stress values."
   ]
  },
  {
   "cell_type": "code",
   "execution_count": 9,
   "metadata": {},
   "outputs": [
    {
     "data": {
      "text/latex": [
       "\n",
       "        \\begin{array}{lrrl}\\hline\n",
       "        \\textrm{k_max} & k_{\\max} = 200 & \\textrm{[-]} & \\textrm{maximum number of iterations}  \\\\\n",
       "                \\textrm{tolerance} & \\epsilon = 0.0001 & \\textrm{[-]} & \\textrm{required accuracy}  \\\\\n",
       "                \\textrm{n_e_x} & n_\\mathrm{E} = 50 & \\textrm{[-]} & \\textrm{number of finite elements along the embedded length}  \\\\\n",
       "                \\textrm{mats_eval_type} & \\textrm{multilinear} & & \\textrm{material model type}  \\\\\n",
       "                \\textrm{control_variable} & \\textrm{u} & & \\textrm{displacement or force control: [u|f]}  \\\\\n",
       "                \\textrm{w_max} & w_{\\max} = 1.84 & \\textrm{[mm]} & \\textrm{maximum pullout slip}  \\\\\n",
       "                \\textrm{fixed_boundary} & \\textrm{non-loaded end (matrix)} & & \\textrm{which side of the specimen is fixed [non-loaded end [matrix], loaded end [matrix], non-loaded end [reinf]]}  \\\\\n",
       "                \\hline\n",
       "        \\textbf{loading_scenario} & \\textrm{LoadingScenario} & & \\textrm{object defining the loading scenario} \\\\\n",
       "            \\textbf{cross_section} & \\textrm{CrossSection} & & \\textrm{cross section parameters} \\\\\n",
       "            \\textbf{geometry} & \\textrm{Geometry} & & \\textrm{geometry parameters of the boundary value problem} \\\\\n",
       "            \\textbf{mats_eval} & \\textrm{MATSBondSlipMultiLinear} & & \\textrm{material model of the interface} \\\\\n",
       "            \\hline\n",
       "        \\end{array}\n",
       "        "
      ],
      "text/plain": [
       "<bmcs.pullout.pullout_sim.PullOutModel at 0x7f05d5785530>"
      ]
     },
     "execution_count": 9,
     "metadata": {},
     "output_type": "execute_result"
    }
   ],
   "source": [
    "pm = PullOutModel(mats_eval_type='multilinear',\n",
    "                  n_e_x=50, k_max=200, w_max=1.84)\n",
    "pm.sim.tline.step = 0.001\n",
    "pm.mats_eval.s_tau_table = [[0, 0.1, 0.4, 4],\n",
    "                            [0, 800, 0, 0]]\n",
    "# w = pm.get_window()\n",
    "# w.configure_traits()\n",
    "pm"
   ]
  },
  {
   "cell_type": "code",
   "execution_count": 10,
   "metadata": {},
   "outputs": [
    {
     "data": {
      "text/latex": [
       "\n",
       "        \\begin{array}{lrrl}\\hline\n",
       "        \\textrm{loading_type} & option = monotonic & \\textrm{[-]} & \\textrm{possible values: [monotonic, cyclic]}  \\\\\n",
       "                \\textrm{number_of_cycles} & n_\\mathrm{cycles} = 1 & \\textrm{[-]} & \\textrm{for cyclic loading}  \\\\\n",
       "                \\textrm{maximum_loading} & \\phi_{\\max} = 1.0 & \\textrm{[-]} & \\textrm{load factor at maximum load level}  \\\\\n",
       "                \\textrm{unloading_ratio} & \\phi_{\\mathrm{unload}} = 0.5 & \\textrm{[-]} & \\textrm{fraction of maximum load at lowest load level}  \\\\\n",
       "                \\textrm{number_of_increments} & n_{\\mathrm{incr}} = 20 & \\textrm{[-]} & \\textrm{number of values within a monotonic load branch}  \\\\\n",
       "                \\textrm{amplitude_type} & option = increasing & \\textrm{[-]} & \\textrm{possible values: [increasing, constant]}  \\\\\n",
       "                \\textrm{loading_range} & option = non-symmetric & \\textrm{[-]} & \\textrm{possible values: [non-symmetric, symmetric]}  \\\\\n",
       "                \\hline\n",
       "        \\hline\n",
       "        \\end{array}\n",
       "        "
      ],
      "text/plain": [
       "<bmcs.time_functions.loading_scenario.LoadingScenario at 0x7f0590610e90>"
      ]
     },
     "execution_count": 10,
     "metadata": {},
     "output_type": "execute_result"
    },
    {
     "data": {
      "image/png": "[encoded data removed]",
      "text/plain": [
       "<Figure size 432x288 with 1 Axes>"
      ]
     },
     "metadata": {
      "needs_background": "light"
     },
     "output_type": "display_data"
    }
   ],
   "source": [
    "pm.loading_scenario.plot(plt.axes())\n",
    "pm.loading_scenario"
   ]
  },
  {
   "cell_type": "code",
   "execution_count": 11,
   "metadata": {},
   "outputs": [
    {
     "data": {
      "text/latex": [
       "\n",
       "        \\begin{array}{lrrl}\\hline\n",
       "        \\textrm{loading_type} & option = cyclic & \\textrm{[-]} & \\textrm{possible values: [monotonic, cyclic]}  \\\\\n",
       "                \\textrm{number_of_cycles} & n_\\mathrm{cycles} = 2 & \\textrm{[-]} & \\textrm{for cyclic loading}  \\\\\n",
       "                \\textrm{maximum_loading} & \\phi_{\\max} = 1.0 & \\textrm{[-]} & \\textrm{load factor at maximum load level}  \\\\\n",
       "                \\textrm{unloading_ratio} & \\phi_{\\mathrm{unload}} = 0.0 & \\textrm{[-]} & \\textrm{fraction of maximum load at lowest load level}  \\\\\n",
       "                \\textrm{number_of_increments} & n_{\\mathrm{incr}} = 20 & \\textrm{[-]} & \\textrm{number of values within a monotonic load branch}  \\\\\n",
       "                \\textrm{amplitude_type} & option = constant & \\textrm{[-]} & \\textrm{possible values: [increasing, constant]}  \\\\\n",
       "                \\textrm{loading_range} & option = non-symmetric & \\textrm{[-]} & \\textrm{possible values: [non-symmetric, symmetric]}  \\\\\n",
       "                \\hline\n",
       "        \\hline\n",
       "        \\end{array}\n",
       "        "
      ],
      "text/plain": [
       "<bmcs.time_functions.loading_scenario.LoadingScenario at 0x7f0590610e90>"
      ]
     },
     "execution_count": 11,
     "metadata": {},
     "output_type": "execute_result"
    }
   ],
   "source": [
    "pm.loading_scenario.loading_type='cyclic'\n",
    "pm.loading_scenario.trait_set(number_of_cycles=2,\n",
    "                              unloading_ratio=0.0,\n",
    "                              amplitude_type='constant',\n",
    "                              loading_range='non-symmetric')\n",
    "pm.loading_scenario"
   ]
  },
  {
   "cell_type": "code",
   "execution_count": 12,
   "metadata": {},
   "outputs": [
    {
     "data": {
      "image/png": "[encoded data removed]",
      "text/plain": [
       "<Figure size 432x288 with 1 Axes>"
      ]
     },
     "metadata": {
      "needs_background": "light"
     },
     "output_type": "display_data"
    }
   ],
   "source": [
    "pm.loading_scenario.plot(plt.axes())"
   ]
  },
  {
   "cell_type": "code",
   "execution_count": 13,
   "metadata": {},
   "outputs": [
    {
     "data": {
      "text/latex": [
       "\n",
       "        \\begin{array}{lrrl}\\hline\n",
       "        \\textrm{A_m} & A_\\mathrm{m} = 1540.0 & \\textrm{[$\\mathrm{mm}^2$]} & \\textrm{matrix area}  \\\\\n",
       "                \\textrm{A_f} & A_\\mathrm{f} = 16.67 & \\textrm{[$\\mathrm{mm}^2$]} & \\textrm{reinforcement area}  \\\\\n",
       "                \\textrm{P_b} & p_\\mathrm{b} = 1.0 & \\textrm{[$\\mathrm{mm}$]} & \\textrm{perimeter of the bond interface}  \\\\\n",
       "                \\hline\n",
       "        \\hline\n",
       "        \\end{array}\n",
       "        "
      ],
      "text/plain": [
       "<bmcs.pullout.pullout_sim.CrossSection at 0x7f058b14fa70>"
      ]
     },
     "execution_count": 13,
     "metadata": {},
     "output_type": "execute_result"
    }
   ],
   "source": [
    "pm.cross_section.trait_set(A_f=A_f, P_b=p, A_m=A_m)\n",
    "pm.cross_section # display the cross section parameters"
   ]
  },
  {
   "cell_type": "code",
   "execution_count": 14,
   "metadata": {},
   "outputs": [
    {
     "data": {
      "text/latex": [
       "\n",
       "        \\begin{array}{lrrl}\\hline\n",
       "        \\textrm{L_x} & L = 45 & \\textrm{[$\\mathrm{mm}$]} & \\textrm{embedded length}  \\\\\n",
       "                \\hline\n",
       "        \\hline\n",
       "        \\end{array}\n",
       "        "
      ],
      "text/plain": [
       "<bmcs.pullout.pullout_sim.Geometry at 0x7f058b14f9b0>"
      ]
     },
     "execution_count": 14,
     "metadata": {},
     "output_type": "execute_result"
    }
   ],
   "source": [
    "pm.geometry # geometry of the boundary value problem"
   ]
  },
  {
   "cell_type": "markdown",
   "metadata": {},
   "source": [
    "## Plot the current bond-slip law"
   ]
  },
  {
   "cell_type": "code",
   "execution_count": 15,
   "metadata": {},
   "outputs": [
    {
     "data": {
      "text/latex": [
       "\n",
       "        \\begin{array}{lrrl}\\hline\n",
       "        \\textrm{E_m} & E_\\mathrm{m} = 28000.0 & \\textrm{[MPa]} & \\textrm{E-modulus of the matrix}  \\\\\n",
       "                \\textrm{E_f} & E_\\mathrm{f} = 170000.0 & \\textrm{[MPa]} & \\textrm{E-modulus of the reinforcement}  \\\\\n",
       "                \\textrm{s_data} & s =  & \\textrm{[mm]} & \\textrm{slip values}  \\\\\n",
       "                \\textrm{tau_data} & \\tau =  & \\textrm{[MPa]} & \\textrm{shear stress values}  \\\\\n",
       "                \\hline\n",
       "        \\hline\n",
       "        \\end{array}\n",
       "        "
      ],
      "text/plain": [
       "<ibvpy.mats.mats1D5.vmats1D5_bondslip1D.MATSBondSlipMultiLinear at 0x7f058b08e8f0>"
      ]
     },
     "execution_count": 15,
     "metadata": {},
     "output_type": "execute_result"
    }
   ],
   "source": [
    "pm.mats_eval # configuration of the material model"
   ]
  },
  {
   "cell_type": "code",
   "execution_count": null,
   "metadata": {},
   "outputs": [],
   "source": [
    "pm.mats_eval.bs_law.plot(plt, color='green')"
   ]
  },
  {
   "cell_type": "code",
   "execution_count": null,
   "metadata": {},
   "outputs": [],
   "source": [
    "c='red'\n",
    "pm.geometry.L_x = 200\n",
    "pm.sim.run()"
   ]
  },
  {
   "cell_type": "code",
   "execution_count": null,
   "metadata": {},
   "outputs": [],
   "source": [
    "fig, ax = plt.subplots(1,1,figsize=(7,4))\n",
    "pm.hist.plot_Pw(ax,0.68)"
   ]
  },
  {
   "cell_type": "code",
   "execution_count": null,
   "metadata": {},
   "outputs": [],
   "source": [
    "ax = plt.axes()\n",
    "for t in np.linspace(0.,0.62,4):\n",
    "    pm.plot_sf(ax,t)\n",
    "plt.show()"
   ]
  },
  {
   "cell_type": "code",
   "execution_count": null,
   "metadata": {},
   "outputs": [],
   "source": [
    "ax = plt.axes()\n",
    "for t in np.linspace(0.,.99,5):\n",
    "    pm.plot_s(ax,t)\n",
    "plt.show()"
   ]
  },
  {
   "cell_type": "code",
   "execution_count": null,
   "metadata": {},
   "outputs": [],
   "source": [
    "ax = plt.axes()\n",
    "for t in np.linspace(0.,.99,5):\n",
    "    pm.plot_eps_p(ax,t)\n",
    "plt.show()"
   ]
  },
  {
   "cell_type": "code",
   "execution_count": null,
   "metadata": {},
   "outputs": [],
   "source": [
    "ax = plt.axes()\n",
    "for t in np.linspace(0.,.99,5):\n",
    "    pm.plot_sig_p(ax,t)\n",
    "plt.show()"
   ]
  },
  {
   "cell_type": "markdown",
   "metadata": {},
   "source": [
    "# Questions and Tasks"
   ]
  },
  {
   "cell_type": "markdown",
   "metadata": {},
   "source": [
    "### 1 Define a symmetric loading scenario with increasing amplitude and 3 cycles"
   ]
  },
  {
   "cell_type": "code",
   "execution_count": null,
   "metadata": {},
   "outputs": [],
   "source": []
  },
  {
   "cell_type": "code",
   "execution_count": null,
   "metadata": {},
   "outputs": [],
   "source": []
  },
  {
   "cell_type": "code",
   "execution_count": null,
   "metadata": {},
   "outputs": [],
   "source": []
  }
 ],
 "metadata": {
  "kernelspec": {
   "display_name": "Python 3",
   "language": "python",
   "name": "python3"
  },
  "language_info": {
   "codemirror_mode": {
    "name": "ipython",
    "version": 3
   },
   "file_extension": ".py",
   "mimetype": "text/x-python",
   "name": "python",
   "nbconvert_exporter": "python",
   "pygments_lexer": "ipython3",
   "version": "3.7.6"
  },
  "toc": {
   "base_numbering": 1,
   "nav_menu": {},
   "number_sections": true,
   "sideBar": true,
   "skip_h1_title": true,
   "title_cell": "Table of Contents",
   "title_sidebar": "Contents",
   "toc_cell": false,
   "toc_position": {},
   "toc_section_display": true,
   "toc_window_display": true
  }
 },
 "nbformat": 4,
 "nbformat_minor": 2
}
