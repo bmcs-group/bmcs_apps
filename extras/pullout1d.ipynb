{
 "cells": [
  {
   "cell_type": "markdown",
   "metadata": {
    "toc": true
   },
   "source": [
    "<h1>Table of Contents<span class=\"tocSkip\"></span></h1>\n",
    "<div class=\"toc\"><ul class=\"toc-item\"><li><span><a href=\"#Nonlinear-finite-element-solver---loopless-implementation\" data-toc-modified-id=\"Nonlinear-finite-element-solver---loopless-implementation-1\"><span class=\"toc-item-num\">1&nbsp;&nbsp;</span>Nonlinear finite element solver - loopless implementation</a></span></li><li><span><a href=\"#Naming-conventions-for-symbols-and-indexes\" data-toc-modified-id=\"Naming-conventions-for-symbols-and-indexes-2\"><span class=\"toc-item-num\">2&nbsp;&nbsp;</span>Naming conventions for symbols and indexes</a></span></li><li><span><a href=\"#Running-example\" data-toc-modified-id=\"Running-example-3\"><span class=\"toc-item-num\">3&nbsp;&nbsp;</span>Running example</a></span></li><li><span><a href=\"#Approximation-of-the-primary-field-variable\" data-toc-modified-id=\"Approximation-of-the-primary-field-variable-4\"><span class=\"toc-item-num\">4&nbsp;&nbsp;</span>Approximation of the primary field variable</a></span></li><li><span><a href=\"#Approximation-of-strains\" data-toc-modified-id=\"Approximation-of-strains-5\"><span class=\"toc-item-num\">5&nbsp;&nbsp;</span>Approximation of strains</a></span></li><li><span><a href=\"#Nonlinear-iterative-solver\" data-toc-modified-id=\"Nonlinear-iterative-solver-6\"><span class=\"toc-item-num\">6&nbsp;&nbsp;</span>Nonlinear iterative solver</a></span></li><li><span><a href=\"#Verification-example\" data-toc-modified-id=\"Verification-example-7\"><span class=\"toc-item-num\">7&nbsp;&nbsp;</span>Verification example</a></span></li><li><span><a href=\"#Material-behavior\" data-toc-modified-id=\"Material-behavior-8\"><span class=\"toc-item-num\">8&nbsp;&nbsp;</span>Material behavior</a></span></li><li><span><a href=\"#Time-stepping-algorithm\" data-toc-modified-id=\"Time-stepping-algorithm-9\"><span class=\"toc-item-num\">9&nbsp;&nbsp;</span>Time-stepping algorithm</a></span></li><li><span><a href=\"#Application-examples\" data-toc-modified-id=\"Application-examples-10\"><span class=\"toc-item-num\">10&nbsp;&nbsp;</span>Application examples</a></span></li><li><span><a href=\"#Pullout-response-animation\" data-toc-modified-id=\"Pullout-response-animation-11\"><span class=\"toc-item-num\">11&nbsp;&nbsp;</span>Pullout response animation</a></span></li><li><span><a href=\"#Alternative-discretization-generator\" data-toc-modified-id=\"Alternative-discretization-generator-12\"><span class=\"toc-item-num\">12&nbsp;&nbsp;</span>Alternative discretization generator</a></span></li></ul></div>"
   ]
  },
  {
   "cell_type": "markdown",
   "metadata": {},
   "source": [
    "# Nonlinear finite element solver - loopless implementation\n",
    "@author: rosoba, Nov 11, 2019"
   ]
  },
  {
   "cell_type": "markdown",
   "metadata": {},
   "source": [
    "**Numerical model development procedure in a nutshell:**\n",
    "Development of a numerical model can be described as a process starting from general governing local equations defined in terms of variables (e.g. forces) that are derived from primary unknown variables (e.g. displacement) of the problem at hand. The relation between primary and derived variables must be defined using constraint conditions, e.g. kinematics and constitutive laws. In parallel, the local governing equations (e.g. equilibrium) must be  transfered from to the global structural level. This usually involves integration of the derived variables over the whole structural domain and the inclusion of boundary conditions. At the end of such a model development a continuous boundary value problem is defined that can be solved using numerical methods."
   ]
  },
  {
   "cell_type": "markdown",
   "metadata": {},
   "source": [
    "**Goal of this notebook:**\n",
    "This notebook aims to show how to seamlessly move within the development process from the conceptual, theoretical level of a problem down to short pieces of code that can be directly used to demonstrate and verify the mathematical concept using elementary examples. Working first in a sequential way, proceeding step by step through the imposed assumptions and their mathematical expression we will finally arrive at the level of system equations to be solved."
   ]
  },
  {
   "cell_type": "markdown",
   "metadata": {},
   "source": [
    "**No loops, just multiple dimensions and index summation rule:** \n",
    "In the model development, an approximation of the primary variables is introduced first following the finite element concept. The derived variables are then also expressed with the help of the selected numerical approximation by following the local equations introduced previously in the continuous, differential formulation. The primary and derived variables are expressed as algebraic combination of shape functions or their derivatives with unknown multipliers. The present notebooks shows how to precalculate all terms related to the known shape functions in a systematic way following the concept of index based notation and Einstein summation rule. This concept is also utilized to implement the numerical integrals of the  governing equations. Multidimensional arrays serving as an integral operators at the domain level can also be precalculated and stored in a large array."
   ]
  },
  {
   "cell_type": "markdown",
   "metadata": {},
   "source": [
    "**Time stepping algorithm (with the only two loops in this notebook):** \n",
    "After showing the derivation method for the simple case of linear material behavior, we will assume a non-linearity of a constitutive equation and show an iterative scheme to solve the problem, e.g. Newton-Raphson or techniques included in the `scipy` package. Finally, a general loading history will be introduced in combination with an incremental procedure performing the time integration to study a generally nonlinear structural response. During this incremental procedure, the primary and derived state variables are recorded so that they can be processed, visualized and animated."
   ]
  },
  {
   "cell_type": "markdown",
   "metadata": {},
   "source": [
    "**How extensible is this kind of implementation?** \n",
    "This script demonstrates the index based implementation\n",
    "of the finite element code for multilayer composite.\n",
    "The current version demonstrating a uni-axial two-layer\n",
    "continuum discretized with linear shape functions.\n",
    "The derived mutltidimensional expressions are general \n",
    "and capture multilayer continuum, in 1D, 2D and 3D."
   ]
  },
  {
   "cell_type": "markdown",
   "metadata": {},
   "source": [
    "**Import packages**"
   ]
  },
  {
   "cell_type": "code",
   "execution_count": 1,
   "metadata": {},
   "outputs": [],
   "source": [
    "%matplotlib inline\n",
    "import matplotlib.pyplot as plt\n",
    "from sparse_solver.sys_mtx_assembly import SysMtxAssembly\n",
    "import numpy as np\n",
    "import sympy as sp\n",
    "sp.init_printing()"
   ]
  },
  {
   "cell_type": "markdown",
   "metadata": {},
   "source": [
    "# Naming conventions for symbols and indexes"
   ]
  },
  {
   "cell_type": "markdown",
   "metadata": {},
   "source": [
    "**Is it going to be an index jungle?**\n",
    "The usual way of expressing the governing equation is using matrices, i.e. at most a 2D array. In an index-based multi-dimensional implementation, the first impression might be, that's gonna be an index chaos. Admittedly, handling operators on a 10-dimensional array is not usual. To manage such an index complexity, it is necessary to stick to conventions. The single letter convention within a variable name is somewhat limited. However, the benefits are large as we will try to demonstrates. Once the naming conventions have settled in our mind, we are able to formulate a very short, generic code that can be instantiated for different kinds of problems just by changing a model component, i.e. finite element type, kinematic mapping (3D, 2D, plane strain, axi-symmetric), material model, etc. There is almost no performance penalty for the abstract high-level code. Also, data recording and postprocessing can become a real indexing fun. "
   ]
  },
  {
   "cell_type": "markdown",
   "metadata": {},
   "source": [
    "**Index groups are associated with specific dimensions:**\n",
    "Symbols are named using the underscore separation of the name components. Each array name starts with the name of the variable followed by the sequence of letters denoting the indexes of the array dimensions. For example, an array $x_{Eia}$ is named in the code as `x_Eia`. This name indicates, that an array has four dimensions. Further, to simplify orientation the letters used for individual array dimensions are used by following the naming of discretization variables. In particular\n",
    "   * `EF` global element indexes within a discretization\n",
    "   * `IJ` global node indexes of a discretization\n",
    "   * `ij` local node index within an element `E`\n",
    "   * `mn` local material point index within an element `E`\n",
    "   * `abcd` global spatial directions\n",
    "   * `rs` local spatial directions within a discretization element `E`\n",
    "   * `CD` global index of a continuum layer\n",
    "   * `OP` indexes of a global degree of freedom.\n",
    "   * `op` indexes of a local degree of freedom within an element `E`.\n",
    "\n",
    "Derivatives of a derived $\\mathrm{d}u/\\mathrm{d}x$ is denoted in the code as `du_dx`."
   ]
  },
  {
   "cell_type": "markdown",
   "metadata": {},
   "source": [
    "**Index range within a dimension:**\n",
    "Given the naming conventions above, the dimensionality of the problem defining the range of indexes $a, b, c, d$ is referred to as $n_a$ in mathematical expressions and as `n_a` in the code. This is a general principle for all index groups specified above, i.e. using `n_X`, where `X` is the first index letter from a group associated with an array dimension. "
   ]
  },
  {
   "cell_type": "markdown",
   "metadata": {},
   "source": [
    "**Plotting helper functions:**\n",
    "To make the diagrams below a bit fancier and to avoid repeated line for label definition and axes description a few helper functions are defined in the following cell which is implicitly hidden. The procedures are not relevant for the discussed issues. However, they are not outsourced to an extra package to make the notebook directly executable. "
   ]
  },
  {
   "cell_type": "code",
   "execution_count": 2,
   "metadata": {
    "hide_input": false,
    "tags": [
     "hide_input"
    ]
   },
   "outputs": [],
   "source": [
    "def axes_init(ax, xlim, ylim, xlabel, ylabel, title=''):\n",
    "    '''set the axes limits and labels'''\n",
    "    ax.cla()\n",
    "    ax.set_xlim(xlim)\n",
    "    ax.set_ylim(ylim)\n",
    "    ax.set_xlabel(xlabel)\n",
    "    ax.set_ylabel(ylabel)\n",
    "    ax.set_title(title)\n",
    "    \n",
    "def plot_filled(ax, x, y, color='blue', alpha=0.2, label=''):\n",
    "    '''plot a function and fill the area starting from x-axis'''\n",
    "    x0 = x[...,0].flatten()\n",
    "    ax.plot(x0, y, color=color, label=label);\n",
    "    ax.fill_between(x0, y, color=color,alpha=alpha);"
   ]
  },
  {
   "cell_type": "markdown",
   "metadata": {},
   "source": [
    "*Plot the displacements*:\n",
    "To plot the displacement at the nodal positions the coordinates $x_{Ei0}$ are used as they are identical with the integration points. The corresponding displacements of the matrix are arranged correspondingly. "
   ]
  },
  {
   "cell_type": "code",
   "execution_count": 3,
   "metadata": {
    "hide_input": false
   },
   "outputs": [],
   "source": [
    "def plot_u_ECi(ax, u_ECi, x_Eia, color0='orange', color1='blue', color12='yellow', label=''):\n",
    "    x_Ei0 = x_Eia[...,0].flatten()\n",
    "    u_EiC = np.einsum('ECi->EiC',u_ECi)\n",
    "    l = ax.plot(x_Ei0, u_EiC.reshape(-1, 2), label=label);\n",
    "    l[0].set_color(color0), l[1].set_color(color1)\n",
    "    ax.fill_between(x_Ei0, u_ECi[:,0,:].flatten(), u_ECi[:,1,:].flatten(), \n",
    "                     color=color12, alpha=0.1);\n",
    "    ax.set_xlabel('$x$ [mm]'); ax.set_ylabel('$u$ [mm]');\n",
    "    ax.legend(['m','f']);"
   ]
  },
  {
   "cell_type": "markdown",
   "metadata": {},
   "source": [
    "*Plot a field variable*: A convenience function accepts the plotting area `ax`, the global displacement vector with the element-wise arranged array of node coordinates `x_Eia` and the mapping from the discrete field indexes $ECi$ and the global degree of freedoms $o$. The expression for a variable to be plotted is supplied as `get_var_mEC` parameter. "
   ]
  },
  {
   "cell_type": "code",
   "execution_count": 4,
   "metadata": {
    "hide_input": false
   },
   "outputs": [],
   "source": [
    "def plot_var_mEC(ax, u_ECi, x_Eia, xi_m, get_var_mEC, ylabel, \n",
    "                 color0='orange', color1='blue', label=''):\n",
    "    var_mEC = get_var_mEC(u_ECi, x_Eia, xi_m)\n",
    "    var_EmC = np.einsum('mEC->EmC', var_mEC)\n",
    "    plot_filled(ax, x_Eia, var_EmC[...,0].flatten(), color=color0, alpha=0.2,\n",
    "               label=label),;\n",
    "    plot_filled(ax, x_Eia, var_EmC[...,1].flatten(), color=color1, alpha=0.2);\n",
    "    ax.set_xlabel('$x$'); ax.set_ylabel(ylabel);"
   ]
  },
  {
   "cell_type": "markdown",
   "metadata": {},
   "source": [
    "# Running example"
   ]
  },
  {
   "attachments": {
    "2_simplified.png": {
     "image/png": "[encoded data removed]"
    }
   },
   "cell_type": "markdown",
   "metadata": {},
   "source": [
    "The concepts will be demonstrated on an example of a pullout model implementation. This example lets us reduce the geometrical dimensionality of the problem to 1 while  keeping the formulation completely general. Moreover, at the end of the notebook we will have a running application that can be used to study the pullout problem from different perspective and to understand the correspondence between the material behavior and structural behavior.\n",
    "\n",
    "<a id='PulloutProblem'></a>**Figure 1:** Pullout test indicating the scope of boundary value problems addressed in this notebook\n",
    "![2_simplified.png](attachment:2_simplified.png)"
   ]
  },
  {
   "cell_type": "markdown",
   "metadata": {},
   "source": [
    "**Geometrical model parameters:** The volume of the simulated specimen will be described using the following parameters\n",
    "\n",
    "| Symbol            | Variable | Description                                           |\n",
    "|-------------------|----------|-------------------------------------------------------|\n",
    "| $L$               | `L_x`    | length of the zone                                    |\n",
    "| $A_\\mathrm{m}$    | `A_m`    | cross sectional area of a matrix layer                |\n",
    "| $A_\\mathrm{f}$    | `A_f`    | cross sectional area of a fiber layer                 |\n",
    "| $p$               | `p`      | perimeter - contact length between matrix and fiber   |"
   ]
  },
  {
   "cell_type": "markdown",
   "metadata": {},
   "source": [
    "Let us define the corresponding Python variables as follows "
   ]
  },
  {
   "cell_type": "code",
   "execution_count": 5,
   "metadata": {},
   "outputs": [],
   "source": [
    "L_x = 1 # [mm] total length\n",
    "A_m = 1 # [mm] matrix cross section \n",
    "A_f = 1 # [mm] fiber cross section\n",
    "p = 1 # [mm] bond perimeter"
   ]
  },
  {
   "cell_type": "markdown",
   "metadata": {},
   "source": [
    "Construct the linear and quadratic terms in every element $E$ and integration point $m$. To use the Einstein summation over the material component cross sections including the sectional area $A_\\mathrm{m}$ and $A_\\mathrm{F}$ into an array $A_C = [A_\\mathrm{f}, A_\\mathrm{m}]$"
   ]
  },
  {
   "cell_type": "code",
   "execution_count": 6,
   "metadata": {},
   "outputs": [],
   "source": [
    "A_C = np.array([A_m, A_f], dtype=np.float_) # cross sectional array"
   ]
  },
  {
   "cell_type": "markdown",
   "metadata": {},
   "source": [
    "**Dimensionality of the multilayer problem**: For brevity of explanation, we will stick to uniaxial description of the pullout process in this notebook. However, an extension to a planar delamination problem is possible as we will discuss in subsequent notebooks. \n",
    "\n",
    "In the following the dimensional indexes $abcd$ might be skipped as we only consider displacement along the pulled direction. However, to include all steps in the derivation let us keep the index through the subsequent derivation steps. It will allow us to describe the Jacobi transformation in a general way and reuse the sheet for 2D model without change."
   ]
  },
  {
   "cell_type": "code",
   "execution_count": 7,
   "metadata": {},
   "outputs": [],
   "source": [
    "n_a = 1 # number of dimensions"
   ]
  },
  {
   "attachments": {
    "2_simplified.jpg": {
     "image/jpeg": "[encoded data removed]"
    }
   },
   "cell_type": "markdown",
   "metadata": {},
   "source": [
    "Our goal is to predict\n",
    "the response of a pullout specimen in terms of the relation between the pullout force $P$ and displacement $w$. This relation can be easily observed experimentally $P(w)$. To predict this response we need to know what laws of mechanics govern the behavior of every single point within a specimen and how do they interact. To keep things simple, let us consider a one dimensional idealization of the problem.\n",
    "\n",
    "<a id='1DIdealization'></a>**Figure 2:** 1D idealization of the pullout problem with graphical representation of equilibrium on infinitesimal element\n",
    "![2_simplified.jpg](attachment:2_simplified.jpg)"
   ]
  },
  {
   "cell_type": "markdown",
   "metadata": {},
   "source": [
    "**Equilibrium conditions** of an infinitesimal segment of the reinforcement shown in Fig. [2](#1Didealization) can be expressed as\n",
    "\\begin{equation} \\label{eq:f_equi}\n",
    " {A_{\\mathrm{f}}}\\sigma_{\\mathrm{f},a} - p \\tau(s) = 0,\n",
    "\\end{equation}\n",
    "where the index $(.)_{,a}$ denotes the derivative w.r.t. the spatial coordinate $x$. The cross-sectional area and the perimeter of the reinforcement  are denoted as $A_{\\mathrm{f}}$  and $p$, respectively. Similarly, the equilibrium of the matrix can be expressed as\n",
    "\\begin{equation} \\label{eq:m_equi}\n",
    " {A_{\\mathrm{m}}}\\sigma_{\\mathrm{m},a} + p \\tau(s) = 0,\n",
    "\\end{equation}\n",
    "where $A_\\mathrm{m}$ is the cross-sectional area of the matrix."
   ]
  },
  {
   "cell_type": "markdown",
   "metadata": {},
   "source": [
    "**Let's start with the index machinery:** Even though the indexing rule will become really relevant only when deriving the finite element approximation of the problem, let us practice already here by rewriting the above two equations as\n",
    "<a id=\"eq_equilibrium\"></a>\n",
    "\\begin{align}\n",
    " A_C \\, \\sigma_{C,a} + \\zeta_C\\, p \\tau = 0.\n",
    "\\end{align}\n",
    "Index $C \\in [0,1]$ is defined to distinguish the bar/fiber $\\mathrm{f}: C = 0$ pulled out from the matrix $\\mathrm{m}: C = 1$. The operator $\\zeta_{C} = [-1, 1]$ introduces the sign switch needed to consider the opposite direction of shear flow $p\\tau$ w.r.t. fibers or matrix. \n",
    "An array with alternating  $\\zeta_{C}$ signs can be defined generically using the power function $\\zeta_{C} = -(-1)^{C}, C = 0...(n_C)$. Using `numpy` such array operator looks as follows:"
   ]
  },
  {
   "cell_type": "code",
   "execution_count": 8,
   "metadata": {},
   "outputs": [
    {
     "name": "stdout",
     "output_type": "stream",
     "text": [
      "[-1  1]\n"
     ]
    }
   ],
   "source": [
    "n_C = 2 # just two components\n",
    "zeta_C = -np.power(-1,np.arange(0,n_C))\n",
    "print(zeta_C)"
   ]
  },
  {
   "cell_type": "markdown",
   "metadata": {},
   "source": [
    "**Constitutive law (let's keep it abstract for now):**\n",
    "Having specified the [equilibrium condition](#eq_equilibrium) we aim to find relations of all involved stress variables to the primary variables, i.e. to the displacement field $u_C$. The first step is to relate stresses $\\sigma_C$ to strains $\\varepsilon_C$ and bond stress $\\tau$ to the slip $s$ between the two material components. \n",
    "\n",
    "To keep the code general for a nonlinear material behavior, let us introduce for now only a placeholder of the functional dependency  \n",
    "\\begin{align}\n",
    "\\sigma_C = \\mathcal{S}(\\varepsilon_C)\n",
    "\\end{align}\n",
    "for material components and \n",
    "\\begin{align}\n",
    "\\tau_C = \\mathcal{T}(s)\n",
    "\\end{align}\n",
    "This general assumption allows us to postpone some concrete choice to the later stage of derivation. For now, it is enough to have the symbols $\\varepsilon_C$ and $s$ introduced in the equilibrium conditions."
   ]
  },
  {
   "cell_type": "markdown",
   "metadata": {},
   "source": [
    "**Kinematics:**\n",
    "In 3D continuum, strain variables are related to the component displacements using the two relations\n",
    "\\begin{align}\n",
    " \\varepsilon_{Cab} = \\frac{1}{2} ( u_{Ca,b} + u_{Cb,a} ).\n",
    "\\end{align}"
   ]
  },
  {
   "cell_type": "markdown",
   "metadata": {},
   "source": [
    "In the considered uniaxial case this transforms to \n",
    "<a id=\"eq_varepsilon_{Caa}\"></a>\n",
    "\\begin{align}\n",
    "\\varepsilon_\\mathrm{C} = u_{C,a}.\n",
    "\\end{align}"
   ]
  },
  {
   "cell_type": "markdown",
   "metadata": {},
   "source": [
    "The slip between the components is defined as\n",
    "\\begin{align}\n",
    "  s = u_{\\mathrm{f}} - u_{\\mathrm{m}} = \\zeta_C u_{C}\n",
    "\\end{align}"
   ]
  },
  {
   "cell_type": "markdown",
   "metadata": {},
   "source": [
    "**Differential equilibrium equation**\n",
    "<a id=\"eq_differential_equilibrium_equation\"></a>\n",
    "At this stage, we have managed to relate the [governing equilibrium equations](#eq_equilibrium) to the primary variable of the problem, i.e. we can write\n",
    "\\begin{align}\n",
    "  A_C \\mathcal{S}_{C,a}( u_{C,a} ) + \\zeta_C \\, p \\mathcal{T}( \\zeta_D u_D ) = 0\n",
    "\\end{align}"
   ]
  },
  {
   "cell_type": "markdown",
   "metadata": {},
   "source": [
    "Herewith we have ensured ourselves that the link from the differential governing equation to the primary variable is possible to resolve algebraically once the material behavior $\\mathcal{S}(\\varepsilon)$ and $\\mathcal{T}(s)$ has been specified, let us try mathematically formulate the requirement that these equations must be fulfilled in the whole domain of the specimen. More precisely, along the idealized bond zone $x \\in (0,L)$ of the idealized pullout specimen shown in [Fig 2](#1DIdealization)."
   ]
  },
  {
   "cell_type": "markdown",
   "metadata": {},
   "source": [
    "**Boundary conditions:**\n",
    "The first step in this direction is to define the essential and natural boundary conditions \n",
    "\\begin{align}\n",
    "u_C \n",
    "&= \n",
    "\\bar{u}_C(\\theta) \\;\\; \\mathrm{on} \\;\\; \\Gamma_{u_C},  \n",
    "&\n",
    "\\sigma_C A_C &= \\bar{t}_C(\\theta) \\;\\; \n",
    "\\mathrm{on} \\;\\;\n",
    "\\Gamma_{t_C}.\n",
    "\\end{align}\n",
    "in which $\\Gamma_{u_C}$ and $\\Gamma_{t_C}$ denote the boundary points where the corresponding boundary conditions are applied. The essential boundary conditions $\\bar{u}_C$ and the natural boundary \n",
    "conditions $\\bar{t}_C$ are prescribed as functions of the intrinsic time variable $\\theta$ which is used to control the loading history. "
   ]
  },
  {
   "cell_type": "markdown",
   "metadata": {},
   "source": [
    "<a id=\"eq_weak_equilibrium\"></a>\n",
    "**Weak form of equilibrium and boundary conditions:**\n",
    "Denoting the integration of the product of two functions $u$, $v$ over the domain $V$ as $\\left( u , v \\right)_V$, the weak formulation can be expressed as \n",
    "\n",
    "\\begin{align}\n",
    "\\left( \\delta u_C, A_C \\sigma_{C,a} + \\zeta_C p \\tau \\right)_\\Omega + \n",
    "\\left( \\delta u_C, -A_C \\sigma_{C} + \\bar{t}_C(\\theta) \\right)_{\\Gamma_{t_C}} +\n",
    "\\left( \\delta u_C, u_C - \\bar{u}_C(\\theta) \\right)_{\\Gamma_{u_C}} = 0.\n",
    "\\end{align}\n",
    "With this equation we have transformed the requirement of a [differential equilibrium](#eq_equilibrium) to the requirement that the product between an arbitrary functions $\\delta u_C$ with equilibrium condition must be zero. In fact, the so called test functions $\\delta u_C$ cannot be completely arbitrary, they must \n",
    "have continuous first derivatives, and be $L^2$ integrable and implicitly fulfill the essential boundary conditions, i.e.\n",
    "$\\delta u_C=0$ on $\\Gamma_{u_C} $. As a consequence, the last term in the weak equilibrium condition vanishes."
   ]
  },
  {
   "cell_type": "markdown",
   "metadata": {},
   "source": [
    "**Integration by parts:** \n",
    "It is convenient to get rid of the stress derivatives w.r.t. $x$ in [weak equilibrium](#eq_weak_equilibium) using the integration by parts to obtain\n",
    "in the above integration can be reduced as follows\n",
    "\n",
    "\\begin{align}\n",
    "\\left( \\delta u_C, A_C \\sigma_{C,a} \\right)_{\\Omega}\n",
    "&=\n",
    "\\left( \\delta u_C, A_C \\sigma_C \\right)_\\Gamma -\n",
    "\\left( \\delta u_{C,a}, A_{C} \\sigma_{C} \\right)_\\Omega\n",
    "\\end{align}\n"
   ]
  },
  {
   "cell_type": "markdown",
   "metadata": {},
   "source": [
    "<a id=\"eq_reduced_weak_form\"></a>\n",
    "**Reduced weak form:**\n",
    "Using this formula, the following variational formulation of a debonding problem is obtained\n",
    "\n",
    "\\begin{align}\n",
    " A_C \\, \\left(\\delta u_{C,a}, \\sigma_{C}\\right)_\\Omega + \n",
    " p \\, \\left(\\delta u_C, \\zeta_C \\tau \\right)_\\Omega -\n",
    "\\left( \\delta u_C, \\bar{t}_C(\\theta) \\right)_{\\Gamma_{t_C}} \n",
    "= 0.\n",
    "\\end{align} "
   ]
  },
  {
   "cell_type": "markdown",
   "metadata": {},
   "source": [
    "**What is it good for?:** \n",
    "Albeit one-dimensional, this equation provides quite some potential for efficient calculation of practical problems in composites, like pull-out, push-in or crack bridge configurations as we shall show later on. The intention to keep the code general leads to some decisions related to the coding style."
   ]
  },
  {
   "cell_type": "markdown",
   "metadata": {},
   "source": [
    "**Python note on configurability and parameterization**: To make the expressions derived in the notebook generally useful for several applications, some expressions are not evaluated directly in the command line but are defined as functions with parameters that can be specified only later. Two forms of function definition are used (To get a basic understanding of function definition in Python see e.g. the Tutorial section on functions [here](https://docs.python.org/3/tutorial/controlflow.html#defining-functions)):\n",
    "  - `lambda` functions are used to define a callable function on the fly inline\n",
    "  - `def` functions are used for more complex expressions\n",
    "\n",
    "Names of functions representing derived expressions start all with `get_`. \n",
    "The parameterization of expressions we will related only to variables that change with a discretization or with a material behavior (e.g. number of finite elements $n_E$, material stiffness, maximum load, etc.). As we want to show on examples this parameterization allows us to show several application examples at the end of the notebook. Configurational parameters, e.g. the dimensionality of the problem $n_a$, number of composite layers $n_C$, number of element nodes $n_i$ are assumed constant within a notebook. They are there to prepare an adoption of the whole notebook for 2D or 3D configurations. "
   ]
  },
  {
   "cell_type": "markdown",
   "metadata": {},
   "source": [
    "To proceed further with the model development we have to abondon the continuity of the primary and derived field variables and start with approximate solution. The procedure is now a kind of **backward substitution**. Once we define an approximation of the displacement field $u_C$ and of the test functions $\\delta u_C$ we can simply substitute them into the above defined kinematic conditions and into the [reduced weak form](#eq_reduced_weak_form)."
   ]
  },
  {
   "cell_type": "markdown",
   "metadata": {},
   "source": [
    "# Approximation of the primary field variable"
   ]
  },
  {
   "cell_type": "markdown",
   "metadata": {},
   "source": [
    "The primary field variable used generally in 3D domain is the displacement $u_a(x_b)$. However, as only a uni-axial pullout problem is considered here $n_a=1$ we will skip the dimensional indexes $a$ and $b$. This section shows a step by step derivation of the shape functions, Jacobi transformation and expressions needed to construct the system matrix."
   ]
  },
  {
   "attachments": {
    "fe_i.jpg": {
     "image/jpeg": "[encoded data removed]"
    }
   },
   "cell_type": "markdown",
   "metadata": {},
   "source": [
    "Bar discretized consisting of two components, i.e. matrix $\\mathrm{m}$ and fiber $\\mathrm{f}$. The domain is discretized using nodes $I \\in (1,n_I)$\n",
    "\n",
    "<a id=\"Discretization\">Figure 3: Discretization</a>\n",
    "![fe_i.jpg](attachment:fe_i.jpg)"
   ]
  },
  {
   "cell_type": "markdown",
   "metadata": {},
   "source": [
    "**Globally defined shape functions:** Tha approximation of the displacement field of a component $C \\in [\\mathrm{m}, \\mathrm{f}]$ (matrix or fiber) needed to resolve the strains and stresses in. [differential equilibrium](#eq_differential_equilibrium_equation) is introduced as\n",
    "\\begin{align}\n",
    " u_{C}(x) = N_I(x) \\, u_{CI}\n",
    "\\end{align}\n",
    "This approximation is depicted in Fig. [3a](#Discretization). Following the concept of the finite-element approximation, the test functions needed in the [reduced weak form](#eq_reduced_weak_form) are approximated using the same shape functions\n",
    "\\begin{align}\n",
    " \\delta u_{C}(x) = N_I(x) \\, \\delta u_{CI}\n",
    "\\end{align}"
   ]
  },
  {
   "cell_type": "markdown",
   "metadata": {},
   "source": [
    "**Element-wise defined shape functions:** As shown in Figure [1a](#Figure-1:-Discretization), finite element shape functions have value 1 in the node $I$ and zero in all other nodes. Thus, in numerical implementations of spatial integrals over the domain, it is only necessary to consider the region of a shape function with nonzero values, i.e. $N_I(x_b) \\neq 0$. Let us therefore introduce the local domain within a discretization element $E$ covered by the parametric coordinates $\\xi_r \\in (-1, 1)$. With shape functions $N_i(\\xi_r)$ defined within an element in terms of $\\xi$ only nodes $i$ of an element $E$ need to be considered.\n",
    "So that the global approximation can be rewritten for each element $E$ as\n",
    "\\begin{align}\n",
    " u_{CEa}(\\xi_r) = N_{Ei}( \\xi_r ) \\, u_{CEia}, \\;\\;\\;\n",
    " \\delta u_{CEa}(\\xi_r) = N_{Ei}( \\xi_r ) \\, \\delta u_{CEia}\n",
    "\\end{align}"
   ]
  },
  {
   "cell_type": "markdown",
   "metadata": {},
   "source": [
    "As a consequence of this choice, the shape functions of all elements $E$ are the same so that their index can be skipped, i.e. \n",
    "\\begin{align}\n",
    " u_{CEa}(\\xi_r) = N_{i}( \\xi_r ) \\, u_{CEia}, \\;\\;\\;\n",
    " \\delta u_{CEa}(\\xi_r) = N_{i}( \\xi_r ) \\, \\delta u_{CEia}\n",
    "\\end{align}"
   ]
  },
  {
   "cell_type": "markdown",
   "metadata": {},
   "source": [
    "**Python note on symbolic expressions:** The intention of this notebook is not only to implement a particular model for pullout problem but to provide a general template for construction of similar numerical models. It is therefore convenient to express the shape functions in symbolic form. Using this approach, the machinery of finite element derivation can be completely automated. To introduce the symbolic definition of $N_(\\xi)$, the `sympy` package can be conveniently used. In the preamble, this package has been imported as `import sympy as sp`. A brief introduction to the `sympy` package that can help to understand the following few lines of code is provided e.g. [here](https://docs.sympy.org/latest/tutorial/intro.html)"
   ]
  },
  {
   "cell_type": "markdown",
   "metadata": {},
   "source": [
    "Let us first define the parametric coordinate $\\xi \\in (-1,1)$ interpolating within the domain between the finite element nodes $\\xi_0 = -1$ and $\\xi_1 = 1$: (The trailing underscore is used to distinguish symbolic expressions from normal Python variables.) "
   ]
  },
  {
   "cell_type": "code",
   "execution_count": 9,
   "metadata": {},
   "outputs": [],
   "source": [
    "xi_ = sp.symbols('xi')"
   ]
  },
  {
   "cell_type": "markdown",
   "metadata": {},
   "source": [
    "Following the convention defined above, the local node index is denoted as $i$ so that we can write\n",
    "\\begin{align}\n",
    "\\xi_i = [-1, 1]\n",
    "\\end{align}"
   ]
  },
  {
   "cell_type": "markdown",
   "metadata": {},
   "source": [
    "In the present example, linear shape functions are considered: \n",
    "\\begin{align}\n",
    " N_0 & = (1-\\xi)/2, \\; N_1 =(1+\\xi)/2 \\\\\n",
    " N_i(\\xi) &= [ N_0(\\xi), N_1(\\xi) ] \\nonumber\n",
    "\\end{align}"
   ]
  },
  {
   "cell_type": "markdown",
   "metadata": {},
   "source": [
    "**Python note:** The symbolic `sympy` code uses the object `Rational` to treat also the numbers symbolicaly. Otherwise, `1/2` would be directly resolved to a float `0.5`"
   ]
  },
  {
   "cell_type": "code",
   "execution_count": 10,
   "metadata": {},
   "outputs": [
    {
     "data": {
      "image/png": "[encoded data removed]",
      "text/latex": [
       "$\\displaystyle \\left[\\begin{matrix}\\frac{1}{2} - \\frac{\\xi}{2} & \\frac{\\xi}{2} + \\frac{1}{2}\\end{matrix}\\right]$"
      ],
      "text/plain": [
       "⎡1   ξ  ξ   1⎤\n",
       "⎢─ - ─  ─ + ─⎥\n",
       "⎣2   2  2   2⎦"
      ]
     },
     "execution_count": 10,
     "metadata": {},
     "output_type": "execute_result"
    }
   ],
   "source": [
    "N_i_xi_ = sp.Rational(1/2)*sp.Matrix([[(1 - xi_) , (1 + xi_)]])\n",
    "N_i_xi_"
   ]
  },
  {
   "cell_type": "markdown",
   "metadata": {},
   "source": [
    "**Remark: Verification of partition of unity condition:**\n",
    "Let us verify that the condition needed to reproduce the rigid body motion and constant strain state is fulfilled. The shape function must sum up to unity at every point of the domain as\n",
    "\\begin{align}\n",
    "  \\delta_{ii} N_{i}( \\xi_i ) = 1 \n",
    "\\end{align}\n",
    "For linear functions introduced above, this can be easily verified manually. Using `sympy` we can perform the summation symbolically to obtain"
   ]
  },
  {
   "cell_type": "code",
   "execution_count": 11,
   "metadata": {},
   "outputs": [
    {
     "data": {
      "image/png": "[encoded data removed]",
      "text/latex": [
       "$\\displaystyle 1$"
      ],
      "text/plain": [
       "1"
      ]
     },
     "execution_count": 11,
     "metadata": {},
     "output_type": "execute_result"
    }
   ],
   "source": [
    "N_i_xi_[0] + N_i_xi_[1]"
   ]
  },
  {
   "cell_type": "markdown",
   "metadata": {},
   "source": [
    "Now, let us transform the symbolic representation of the shape functions into an executable code that accepts not only a single value of $\\xi$ but a multi-dimensional array that can be evaluated in a single call. Such a transformation requires the `sympy` methods called `lambdify`. The new callable variable `get_N_i_xi` represents a function that accepts an array of parametric coordinates."
   ]
  },
  {
   "cell_type": "code",
   "execution_count": 12,
   "metadata": {},
   "outputs": [],
   "source": [
    "lambda_N_i_xi = sp.lambdify(xi_, N_i_xi_, 'numpy' )\n",
    "get_N_i_xi = lambda xi: lambda_N_i_xi(xi)[0,...] # drop the first dimension from lambdify"
   ]
  },
  {
   "cell_type": "markdown",
   "metadata": {},
   "source": [
    "For later manipulations with the discretization into a form of multidimensional arrays let us introduce the size of element nodes $n_{Ei}$ and size of elemental degrees of freedom $n_{Eo}$. "
   ]
  },
  {
   "cell_type": "code",
   "execution_count": 13,
   "metadata": {},
   "outputs": [],
   "source": [
    "n_Ei = n_C * len(N_i_xi_) # number of element nodes\n",
    "n_Eo = n_Ei * n_a # number of elemental degrees of freedom"
   ]
  },
  {
   "cell_type": "markdown",
   "metadata": {},
   "source": [
    "**Example: shape functions evaluated in nodal points**\n",
    "To verify the function `get_N_i_xi( xi )` let us evaluate its values $N_i(-1)$, $N_i(1)$ and $N_i(0)$:"
   ]
  },
  {
   "cell_type": "code",
   "execution_count": 14,
   "metadata": {},
   "outputs": [
    {
     "name": "stdout",
     "output_type": "stream",
     "text": [
      "[[1.  0.5 0. ]\n",
      " [0.  0.5 1. ]]\n"
     ]
    }
   ],
   "source": [
    "print(get_N_i_xi(np.array([-1,0,1])))"
   ]
  },
  {
   "cell_type": "markdown",
   "metadata": {},
   "source": [
    "Note the first index of the return array is the local node index $i$. Further dimensions correspond to the input array."
   ]
  },
  {
   "cell_type": "markdown",
   "metadata": {},
   "source": [
    "# Approximation of strains"
   ]
  },
  {
   "cell_type": "markdown",
   "metadata": {},
   "source": [
    "Using the approximated displacement field the [component strains](#eq_varepsilon_{Caa}) are approximated as\n",
    "\\begin{align}\n",
    "\\varepsilon_{ECaa} &= N_{i,a}(\\xi_r) \\, u_{ECia}\n",
    "\\end{align}\n",
    "The term $N_{i,a}(\\xi_r)$ represents the derivative of the shape function w.r.t. the global coordinate $x_a$. However, the shape functions are only available in the parametric coordinates, i.e. $N_i(\\xi_r)$. Assuming that we can somehow relate the local coordinates $\\xi_r$ to the global ones $x_a$ let us apply the chain rule\n",
    "\\begin{align}\n",
    "N_{i,a}(\\xi_r) &= N_{i,r} \\, \\xi_{r,a}\n",
    "\\end{align}"
   ]
  },
  {
   "cell_type": "markdown",
   "metadata": {},
   "source": [
    "The derivatives $N_{i,r}$ of the shape functions are obtained easily using the sympy automatic differentiation invoked as `diff` method on the matrix of shape functions "
   ]
  },
  {
   "cell_type": "code",
   "execution_count": 15,
   "metadata": {},
   "outputs": [
    {
     "data": {
      "image/png": "[encoded data removed]",
      "text/latex": [
       "$\\displaystyle \\left[\\begin{matrix}- \\frac{1}{2} & \\frac{1}{2}\\end{matrix}\\right]$"
      ],
      "text/plain": [
       "[-1/2  1/2]"
      ]
     },
     "execution_count": 15,
     "metadata": {},
     "output_type": "execute_result"
    }
   ],
   "source": [
    "dN_xi_ri_ = N_i_xi_.diff('xi')\n",
    "dN_xi_ri_"
   ]
  },
  {
   "cell_type": "code",
   "execution_count": 16,
   "metadata": {},
   "outputs": [],
   "source": [
    "get_dN_xi_ir = sp.lambdify(xi_, dN_xi_ri_.T, 'numpy')"
   ]
  },
  {
   "cell_type": "markdown",
   "metadata": {},
   "source": [
    "**Example: evaluate derivatives for a set of local integration points**"
   ]
  },
  {
   "cell_type": "code",
   "execution_count": 17,
   "metadata": {},
   "outputs": [
    {
     "name": "stdout",
     "output_type": "stream",
     "text": [
      "[[-0.5]\n",
      " [ 0.5]]\n"
     ]
    }
   ],
   "source": [
    "dN_xi_mir = get_dN_xi_ir(np.array([[-1,1],[0,1]], dtype=np.float_ ))\n",
    "print(dN_xi_mir)"
   ]
  },
  {
   "cell_type": "markdown",
   "metadata": {},
   "source": [
    "Note that the dimension of the input array $\\xi_m$ is ignored. This is the consequence of the fact that the derivatives are constant within an element. Therefore, the `diff` operation drops the variable $\\xi$ from the evaluation and the `lambdify` function ignores the dimension of the input array. The shape of the output array is identical with that of the input array, namely $ir$. "
   ]
  },
  {
   "cell_type": "markdown",
   "metadata": {},
   "source": [
    "**Geometry approximation:**\n",
    "An isoparametric approximation of the geometry and of the displacement is going to be used next. Thus, to obtain the global coordinates of a point within a finite element $E$ we can write\n",
    "\\begin{align}\n",
    " x_{Ea} = N_i( \\xi_r ) \\, x_{Eia}\n",
    "\\end{align}\n",
    "Note that the layer index $C$ is omitted here. The same shape functions are used for both layers within the domain.\n",
    "By applying the chain rule, can now write the derivative $x_{a,r}$ as\n",
    "\\begin{align}\n",
    " x_{Ea,r} = N_{i,r}\\, x_{Eia} =  J_{Era}\n",
    "\\end{align}\n",
    "Let us define an operator calculating the Jacobi matrix as"
   ]
  },
  {
   "cell_type": "code",
   "execution_count": 18,
   "metadata": {},
   "outputs": [],
   "source": [
    "get_J_Era = lambda x_Eia, xi: np.einsum('ir,Eia->Era', get_dN_xi_ir(xi), x_Eia)\n",
    "get_J_mEra = lambda x_Eia, xi_m: get_J_Era(x_Eia, xi_m)[np.newaxis,...]"
   ]
  },
  {
   "cell_type": "markdown",
   "metadata": {},
   "source": [
    "**Example: Evaluate the Jacobi matrix**\n",
    "Given an array of nodal coordinates and of parametric coordinates $\\xi_\\mathrm{m}$ evaluate the Jacobi matrix using the function `get_J_mEra`"
   ]
  },
  {
   "cell_type": "code",
   "execution_count": 19,
   "metadata": {},
   "outputs": [
    {
     "name": "stdout",
     "output_type": "stream",
     "text": [
      "[[[[0.5]]\n",
      "\n",
      "  [[0.5]]]]\n"
     ]
    }
   ],
   "source": [
    "J_mEra = get_J_mEra( np.array([[[1],[2]],[[2],[3]]]), np.array([-1, 0, 1]) )\n",
    "print(J_mEra)"
   ]
  },
  {
   "cell_type": "markdown",
   "metadata": {},
   "source": [
    "However, to get the global derivative of $N_{i,a}$ we need \n",
    "the inverse mapping, i.e. not $x_{Ea,r}$ but $\\xi_{Er,a}$. This can be obtained\n",
    "by inverting the Jacobi matrix\n",
    "\\begin{align}\n",
    " \\xi_{Er,a} = J^{-1}_{Era}\n",
    "\\end{align}\n",
    "The corresponding function can be written as follows "
   ]
  },
  {
   "cell_type": "code",
   "execution_count": 20,
   "metadata": {},
   "outputs": [],
   "source": [
    "get_inv_J_mEra = lambda x_Eia, xi: np.linalg.inv(get_J_mEra(x_Eia, xi))"
   ]
  },
  {
   "cell_type": "markdown",
   "metadata": {},
   "source": [
    "The global derivatives of shape functions needed for evaluation of derived field variables are thus obtained as\n",
    "\\begin{align}\n",
    " N_{Ei,a} = N_{i,r} J^{-1}_{Era}\n",
    "\\end{align}"
   ]
  },
  {
   "cell_type": "code",
   "execution_count": 21,
   "metadata": {},
   "outputs": [],
   "source": [
    "get_dN_x_mEia = lambda x_Eia, xi: np.einsum(\n",
    "    'ir,mEra->mEia', get_dN_xi_ir(xi), get_inv_J_mEra(x_Eia,xi))"
   ]
  },
  {
   "cell_type": "markdown",
   "metadata": {},
   "source": [
    "**Remark: Irregular discretization structure:**\n",
    "Note that unlike the function $N_{i,r}$ which is identical for all elements, the derivatives are generally different for each element. If all elements have the same shape and same size, the terms $N_{Ei,a}$ would be the same and the index $E$ might be dropped in the further expressions."
   ]
  },
  {
   "cell_type": "markdown",
   "metadata": {},
   "source": [
    "**Example: Jacobi matrix and derivatives on a single element**: Consider an element with the nodal coordinates $x_{i} = [0,2]$. The global derivatives of the shape functions at position $\\xi_m = [0]$ are obtained as follows:"
   ]
  },
  {
   "cell_type": "code",
   "execution_count": 22,
   "metadata": {},
   "outputs": [
    {
     "data": {
      "text/plain": [
       "array([[[[-0.5],\n",
       "         [ 0.5]]]])"
      ]
     },
     "execution_count": 22,
     "metadata": {},
     "output_type": "execute_result"
    }
   ],
   "source": [
    "x_Eia = np.array([[[-1], [1]]], dtype=np.float_)\n",
    "get_dN_x_mEia(x_Eia, [0])"
   ]
  },
  {
   "cell_type": "markdown",
   "metadata": {},
   "source": [
    "**Strains:** Finally, recalling again the index notation \n",
    "\\begin{align}\n",
    "\\varepsilon_{ECmab} = N_{Eim,a} u_{ECib}\n",
    "\\end{align}\n",
    "we may write the function delivering strains for the supplied nodal displacements as"
   ]
  },
  {
   "cell_type": "code",
   "execution_count": 23,
   "metadata": {},
   "outputs": [],
   "source": [
    "get_eps_mEC = lambda u_ECi, x_Eia, xi_m: np.einsum(\n",
    "    'm,nEia,ECi->mEC', np.ones(len(xi_m)),get_dN_x_mEia(x_Eia,xi_m), u_ECi\n",
    ")"
   ]
  },
  {
   "cell_type": "markdown",
   "metadata": {},
   "source": [
    "**Todo:** explain the dimensional expansion for the material points"
   ]
  },
  {
   "cell_type": "markdown",
   "metadata": {},
   "source": [
    "**Example:** Evaluate the strain for a bar with the length of 2 m with left node displacement $u_{0,0,0} = 0$ and right node displacement $u_{0,0,1} = 1$. The corresponding nodal coordinates are defined as $x_{0,0} = 0$ and $x_{0,1} = 2$ "
   ]
  },
  {
   "cell_type": "code",
   "execution_count": 24,
   "metadata": {},
   "outputs": [
    {
     "data": {
      "text/plain": [
       "array([[[0.5]]])"
      ]
     },
     "execution_count": 24,
     "metadata": {},
     "output_type": "execute_result"
    }
   ],
   "source": [
    "get_eps_mEC(np.array([[[0,1]]]), np.array([[[0],[2]]]), [0])"
   ]
  },
  {
   "cell_type": "markdown",
   "metadata": {},
   "source": [
    "**Slip:** The difference between matrix and fiber displacement $\\mathrm{m}$ and $\\mathrm{f}$, respectively, is obtained by evaluating\n",
    "\\begin{align}\n",
    "s_{mE} = \\zeta_{C} N_{mi} u_{ECi}\n",
    "\\end{align}"
   ]
  },
  {
   "cell_type": "code",
   "execution_count": 25,
   "metadata": {},
   "outputs": [],
   "source": [
    "get_s_mE = lambda u_ECi, xi_m: np.einsum(\n",
    "    'C,im,ECi->mE', zeta_C, get_N_im(xi_m), u_ECi\n",
    ") "
   ]
  },
  {
   "cell_type": "markdown",
   "metadata": {},
   "source": [
    "# Nonlinear iterative solver"
   ]
  },
  {
   "cell_type": "markdown",
   "metadata": {},
   "source": [
    "<a id=\"eq:variational_form_m\"></a>\n",
    "As already mentioned, the test functions introduced in the [weak form](#eq_reduced_weak_form) use the same approximation as the displacements. Therefore, we can approach to further specification of the global governing equations. By substituting for the shape functions we obtain\n",
    "\n",
    "\\begin{align}\n",
    "\\delta u_{ECi} \\left(N_{Ei,x}, A_C \\sigma_C \\right)_\\Omega +\n",
    "\\delta u_{ECi} \\left( \\zeta_C N_{i} , p\\tau \\right)_\\Omega -\n",
    "\\delta u_{ECi} \\left( N_{i}, \\bar{t}_{c}(\\theta) \\right)_{\\Gamma_{t_{C}}} = 0.\n",
    "\\end{align}"
   ]
  },
  {
   "cell_type": "markdown",
   "metadata": {},
   "source": [
    "**Assembly operator:** Since we require that these equations must be fulfilled for arbitrary values of test functions $u_{C}$, we implicitly say that this must hold also for their approximations. As the shape functions $N_i$ are fixed, the arbitrariness now relates only to the multipliers, i.e. to the nodal values of the test function approximation. But can we directly take the multipliers of the element-wise approximation $\\delta_{ECi}$? Not really! Multipliers, i.e. degrees of freedom are shared by two elements so that several equilibrium conditions would be associated with a single degree of freedom. Thus, to proceed we need to link them using an index mapping.\n",
    "\\begin{align}\n",
    "o_{ECi} := (E,C, i) \\rightarrow O\n",
    "\\end{align}\n",
    "where $O$ is the global unique index of the degree of freedom. Using this index map we can define an assembly operator as\n",
    "\\begin{align}\n",
    "\\mathcal{A}_{o}\\left(B_{ECi}\\right) &:= \n",
    "A_{O}[O_{ECi}] = A_{O}[O_{ECi}] + B_{ECi}, \\forall (E,C,i)\n",
    "\\end{align}"
   ]
  },
  {
   "cell_type": "markdown",
   "metadata": {},
   "source": [
    "**Python note:** This kind of element-wise assembly of forces and stiffness is usually done by looping over elements and adding the contributions to the appropriate positions of the global vector. As we like to avoid loops in this implementation, we can conveniently using a `numpy.bincount` method."
   ]
  },
  {
   "cell_type": "code",
   "execution_count": 26,
   "metadata": {},
   "outputs": [
    {
     "data": {
      "text/plain": [
       "array([1., 5., 4.])"
      ]
     },
     "execution_count": 26,
     "metadata": {},
     "output_type": "execute_result"
    }
   ],
   "source": [
    "B_ECi = np.array([[[1,2]],[[3,4]]])\n",
    "O_ECi = np.array([[[0,1]],[[1,2]]])\n",
    "np.bincount(O_ECi.flatten(), weights=B_ECi.flatten())"
   ]
  },
  {
   "cell_type": "markdown",
   "metadata": {},
   "source": [
    "Each occurrence of index 1 has been weighted by the respective terms in the `B_ECi` array yielding the value 5 at the index 1 of the resulting vector (note that the first position has an index 0).   "
   ]
  },
  {
   "cell_type": "markdown",
   "metadata": {},
   "source": [
    "Using this assembly operator we can rewrite the residuum in terms of unique degrees of freedom as\n",
    "\\begin{align}\n",
    "\\delta U_O R^{(\\theta)}_{O} &= \n",
    "\\delta U_O \\left[ \\mathcal{A}_O\\left(N_{Ei,x}, A_C \\sigma_C \\right)_\\Omega + \n",
    "\\mathcal{A}_O\\left( \\zeta_C N_{i} , p\\tau \\right)_\\Omega -\n",
    "\\mathcal{A}_O\\left( N_{i}, \\bar{t}_{c}(\\theta)\n",
    "\\right)_{\\Gamma_{t_{C}}}  \\right] = \n",
    "0.\n",
    "\\end{align}"
   ]
  },
  {
   "cell_type": "markdown",
   "metadata": {},
   "source": [
    "<a id=\"eq_equilibrium_residuum\"></a>\n",
    "In this form, the arbitrariness is related to unique global degrees of freedom, i.e. $\\delta U_o$. Now the term in the brackets represents an equation system to be solved for $u_C$ approximation.\n",
    "\\begin{align}\n",
    "R^{(\\theta)}_{O} = \n",
    "\\mathcal{A}_O\\left(A_C N_{Ei,x}, \\sigma_C \\right)_\\Omega + \n",
    "\\mathcal{A}_O\\left(p \\zeta_C N_{i}, \\tau \\right)_\\Omega -\n",
    "\\mathcal{A}_O\\left(N_{i}, \\bar{t}_{c}(\\theta)\n",
    "\\right)_{\\Gamma_{t_{C}}}  &= 0.\n",
    "\\end{align}"
   ]
  },
  {
   "cell_type": "markdown",
   "metadata": {},
   "source": [
    "The first two terms represent the internal forces $F_O$ and the third term $\\bar{F}_{Eo}$ denotes the external force. In the sequel only nodal external forces $\\delta(x_Ei) \\bar{t}$ will be considered so that the integral term will dropped in the sequel. Thus we can rewrite the  residuum as a requirement on equilibrium in all global DOFs $O$.\n",
    "\\begin{align}\n",
    "R_O^{(\\theta)}(U_{P}) = F_{O}(U_{P})  - \\bar{F}^{(\\theta)}_O &= 0.\n",
    "\\end{align}"
   ]
  },
  {
   "cell_type": "markdown",
   "metadata": {},
   "source": [
    "The obtained set of nodal equilibrium equations can be nonlinear depending on the chosen type of material behavior. Therefore, let us prepare a iteration scheme to find an equilibrium by linearizing the residuum first \n",
    "\\begin{align}\n",
    "R^{(\\theta)}_{O}(U_{P}^{(k)})\n",
    "\\approx\n",
    "R^{(\\theta)}_{O}(U_{P}^{(k-1)})\n",
    "+\n",
    "\\left.\n",
    "\\frac{ \\partial R^{(\\theta)}_{O} }{\\partial U_{P}}\n",
    "\\right|_{U_{P}^{(k-1)}}\n",
    "\\Delta U_{P}^{(k)} = 0.\n",
    "\\end{align}"
   ]
  },
  {
   "cell_type": "markdown",
   "metadata": {},
   "source": [
    "With distinguished internal and external forces, this translates to \n",
    "\\begin{align}\n",
    "R^{(\\theta)}_{O}(U_{P}^{(k)})\n",
    "\\approx\n",
    "F_{O}(U_{P}^{(k-1)}) -\n",
    "\\bar{F}^{(\\theta)}_{O}\n",
    "+\n",
    "\\left.\n",
    "\\frac{ \\partial F^{(\\theta)}_{O} }{\\partial U_{P}}\n",
    "\\right|_{U_{P}^{(k-1)}}\n",
    "\\Delta U_{P}^{(k)} = 0.\n",
    "\\end{align}"
   ]
  },
  {
   "cell_type": "markdown",
   "metadata": {},
   "source": [
    "The derivative of the internal forces with respect to global displacements read"
   ]
  },
  {
   "cell_type": "markdown",
   "metadata": {},
   "source": [
    "\\begin{align}\n",
    "\\frac{ \\partial F^{(\\theta)}_{O} }{\\partial U_{P}}\n",
    "&=\n",
    "\\mathcal{A}_{OP} \\left(N_{Ei,x}, A_D \n",
    "\\frac{\\partial \\sigma_D}{\\partial U_{P}} \n",
    "\\right)_\\Omega + \n",
    "\\mathcal{A}_{OP} \\left( \\zeta_C N_{i} , p\n",
    "\\frac{\\partial \\tau}{\\partial U_{p}}  \n",
    "\\right)_\\Omega\n",
    "\\end{align}"
   ]
  },
  {
   "cell_type": "markdown",
   "metadata": {},
   "source": [
    "Using the chain rule we can proceed by resolving the stress derivatives of the components as follows\n",
    "\\begin{align}\n",
    "\\frac{\\partial \\sigma_D}{\\partial U_P} =\n",
    "\\frac{\\partial \\sigma_D}{\\partial \\varepsilon_{D}}\n",
    "\\frac{\\partial \\varepsilon_{D}}{\\partial u_{EDj}}\n",
    "\\frac{\\partial u_{EDj}}{\\partial U_P} =\n",
    "\\frac{\\partial \\sigma_{ED}}{\\partial \\varepsilon_{ED}}\n",
    "N_{Ej,x} [P_{EDj}]\n",
    "\\end{align}"
   ]
  },
  {
   "cell_type": "markdown",
   "metadata": {},
   "source": [
    "The shear stress derivatives are resolved as follows\n",
    "\\begin{align}\n",
    "\\frac{\\partial \\tau }{\\partial U_P}\n",
    " &=\n",
    "\\frac{\\partial \\tau }{\\partial s } \n",
    "\\frac{\\partial s }{\\partial u_{EDj} } \n",
    "\\frac{\\partial u_{EDj} }{\\partial U_{P} } =\n",
    "\\frac{\\partial \\tau_{E} }{\\partial s_{E} } \n",
    "\\zeta_{D} N_{Ej}\n",
    "[P_{EDj}]\n",
    "\\end{align}"
   ]
  },
  {
   "cell_type": "markdown",
   "metadata": {},
   "source": [
    "Note that the derivatives $\\partial u_{EDj}/ \\partial U_P$ render the index map from the elementwise enumeration of the degrees of freedom to the global ones, i.e. $(E,D,j) \\rightarrow P$. Thus, we can extend the mapping operator $\\mathcal{A}_{OP}$  to acccount for the assembly of the tangent matrix $K_{OP}$ by introducing the mapping \n",
    "\\begin{align}\n",
    "(E,C,i,D,j) \\rightarrow (O,P)\n",
    "\\end{align}"
   ]
  },
  {
   "cell_type": "markdown",
   "metadata": {},
   "source": [
    "<a id=\"eq_system_matrix\"></a>\n",
    "Thus, the derivative of the residuum representing the system matrix can be finally written as\n",
    "\n",
    "\\begin{align}\n",
    "K^{(\\theta)}_{OP} =\\frac{ \\partial F^{(\\theta)}_{O} }{\\partial U_{P}}\n",
    "&=\n",
    "\\mathcal{A}_{OP} \n",
    "\\left(A_D N_{Ei,x} N_{Ej,x}, \n",
    "\\frac{\\partial \\sigma_{DE}}{\\partial \\varepsilon_{DE}}\n",
    "\\right)_\\Omega\n",
    "+ \n",
    "\\mathcal{A}_{OP} \n",
    "\\left(  p \\, \\zeta_C \\zeta_{D} \\, N_{i} N_{j},\n",
    "\\frac{\\partial \\tau_E }{\\partial s_E } \n",
    "\\right)_\\Omega\n",
    "\\end{align}"
   ]
  },
  {
   "cell_type": "markdown",
   "metadata": {},
   "source": [
    "<a id=\"eq_recurrence_relation\"></a>\n",
    "**Recurrence relation:** The linearized problem can now be transfered to a recurrent scheme converging quadratically to the solution\n",
    "\\begin{align}\n",
    "K^{(\\theta,k-1)}_{OP} \\Delta U_P^{(k)} = \\bar{F}^{(\\theta)}_O - F_{O}(U_{P}^{(k-1)})\n",
    "\\end{align}"
   ]
  },
  {
   "cell_type": "markdown",
   "metadata": {},
   "source": [
    "To evaluate this expression we still need to address two issues:  numerical integration represented by the operator $(\\ldots)_{\\Omega_E}$ and the constitutive laws of components and of the bond  "
   ]
  },
  {
   "cell_type": "markdown",
   "metadata": {},
   "source": [
    "**Numerical integration scheme**:\n",
    "To integrate a function over a domain of an element we need to approximate the integral\n",
    "\\begin{align}\n",
    "  F = \\int_{}^{} f( x ) \\; \\mathrm{d}x\n",
    "\\end{align}\n",
    "However, the function $f$ is not explicitly available in global coordinates $x$ but in parametric coordinates $\\xi$. Therefore, we need the mapping between $\\mathrm{d}x$ and $\\mathrm{d}\\xi$, i.e.\n",
    "\\begin{align}\n",
    "\\mathrm{d}x_a &= \\left| \\frac{\\mathrm{d}x_a}{\\mathrm{d}\\xi_r} \\right| \\mathrm{d}\\xi_r\n",
    "= | J(\\xi_r ) | \\; \\mathrm{d}\\xi_r\n",
    "\\end{align}\n",
    "\\begin{align}\n",
    "F = \\int_{-1}^{1} f( \\xi) \\; \\frac{\\mathrm{d}x}{\\mathrm{d}\\xi} \\; \\mathrm{d}  \\xi\n",
    "= \\int_{-1}^{1} f( \\xi) \\; | J(\\xi) | \\; \\mathrm{d}  \\xi\n",
    "\\end{align}\n",
    "Using the quadrature rule with sampling points $\\xi_m$ and weight factors $w_m$ integration can be written as\n",
    "\\begin{align}\n",
    "  F = w_m f( \\xi_m ) | J(\\xi_m) |.\n",
    "\\end{align}"
   ]
  },
  {
   "cell_type": "code",
   "execution_count": 27,
   "metadata": {},
   "outputs": [],
   "source": [
    "get_N_im = lambda xi_m: get_N_i_xi(xi_m)"
   ]
  },
  {
   "cell_type": "code",
   "execution_count": 28,
   "metadata": {},
   "outputs": [],
   "source": [
    "get_J_det_mE = lambda x_Eia, xi_m: np.linalg.det(get_J_mEra(x_Eia, xi_m))"
   ]
  },
  {
   "cell_type": "markdown",
   "metadata": {},
   "source": [
    "To prepare the recurrent iteration let us collect the terms within the integration that remain constant. They can be precalculated in advance. These multidimensional arrays can be calculated only once at the beginning. They represent linear and quadratic forms of  shape functions and of their derivatives. The order of derivative will be denoted by the superindex $^{(0)}$ und $^{(1)}$. Thus, four cached integration array operators will be constructed: $\\mathcal{B}^{(1)}_{mECi}$, $\\mathcal{B}^{(0)}_{mECi}$, $\\mathcal{Q}^{(1)}_{mECi}$ and $\\mathcal{Q}^{(0)}_{mECi}$."
   ]
  },
  {
   "cell_type": "markdown",
   "metadata": {},
   "source": [
    "**Caching of global integration operators:** The individual collected terms are now defined as functions of the array of global coordinates $x_{Eia}$ and of the integration scheme defined by $\\xi_m$ and $w_m$. The operator for global kinematic mapping associated with the strain in the material components reads\n",
    "\n",
    "\\begin{align}\n",
    "\\mathcal{B}^{(1)}_{mECia} &=\n",
    "w_m \\delta_{CD} A_{C} N_{mEj,a} | J |_{mE}\n",
    "\\end{align}"
   ]
  },
  {
   "cell_type": "code",
   "execution_count": 29,
   "metadata": {},
   "outputs": [],
   "source": [
    "get_B1_mECia = lambda x_Eia, xi_m, w_m: np.einsum(\n",
    "    'm,C,mEia,mE->mECia', \n",
    "    w_m, A_C, get_dN_x_mEia(x_Eia,xi_m), get_J_det_mE(x_Eia,xi_m)\n",
    ")"
   ]
  },
  {
   "cell_type": "markdown",
   "metadata": {},
   "source": [
    "The operator for global mapping of integration over the bond stress is defined as\n",
    "\\begin{align}\n",
    "\\mathcal{B}^{(0)}_{mECi} &=\n",
    "w_m \\zeta_{CD} p N_{mEj} | J |_{mE}\n",
    "\\end{align}"
   ]
  },
  {
   "cell_type": "code",
   "execution_count": 30,
   "metadata": {},
   "outputs": [],
   "source": [
    "get_B0_mECi = lambda x_Eia, xi_m, w_m: np.einsum(\n",
    "    'm,C,im,mE->mECi', \n",
    "    w_m, zeta_C, get_N_im(xi_m), get_J_det_mE(x_Eia,xi_m)\n",
    ") * p"
   ]
  },
  {
   "cell_type": "markdown",
   "metadata": {},
   "source": [
    "The integral operator associated with the component contributions to the system matrix is an 8-dimensional field defined as\n",
    "\\begin{align}\n",
    "\\mathcal{Q}^1_{mECiaDjb} = w_m \\delta_{CD} A_{C} N_{mEi,c} N_{mEj,d} | J |_{mE}\n",
    "\\end{align}"
   ]
  },
  {
   "cell_type": "code",
   "execution_count": 31,
   "metadata": {},
   "outputs": [],
   "source": [
    "DELTA_CD = np.identity(n_C)\n",
    "get_Q1_mECiaDjb = lambda x_Eia, xi_m, w_m: np.einsum(\n",
    "    'm,CD,C,mEia,mEjb,mE->mECiaDjb',\n",
    "    w_m, DELTA_CD, A_C, get_dN_x_mEia(x_Eia,xi_m), get_dN_x_mEia(x_Eia,xi_m), \n",
    "    get_J_det_mE(x_Eia,xi_m)\n",
    ")"
   ]
  },
  {
   "cell_type": "markdown",
   "metadata": {},
   "source": [
    "The operator with the coefficients needed to integrate the contributions of the bond stiffness to the system matrix is given as\n",
    "\\begin{align}\n",
    "\\mathcal{Q}^0_{mECiDj} = w_m \\zeta_{CD} p N_{mEi} N_{mEj} | J |_{mE}.\n",
    "\\end{align}"
   ]
  },
  {
   "cell_type": "code",
   "execution_count": 32,
   "metadata": {},
   "outputs": [],
   "source": [
    "ZETA_CD = np.einsum('C,D->CD', zeta_C, zeta_C)\n",
    "get_Q0_mECiDj = lambda x_Eia, xi_m, w_m: np.einsum(\n",
    "    'm,CD,im,jm,mE->mECiDj',\n",
    "    w_m, ZETA_CD, get_N_im(xi_m), get_N_im(xi_m), get_J_det_mE(x_Eia,xi_m)\n",
    ") * p"
   ]
  },
  {
   "cell_type": "markdown",
   "metadata": {},
   "source": [
    "The numerical quadrature of the [internal forces](#eq_equilibrium_residuum) with constant terms collected in the braces can be written as\n",
    "\\begin{align}\n",
    "F_{O} \n",
    "&= \n",
    "\\mathcal{A}_O\\left[\\mathcal{B}^{(1)}_{mECi} \\, \\sigma_{mC} \\right] + \n",
    "\\mathcal{A}_O\\left[\\mathcal{B}^{(0)}_{mECi} \\, \\tau_m \\right]  \n",
    "= \\mathcal{A}_O\\left[ F_{Eo} \\right] \n",
    "\\end{align}"
   ]
  },
  {
   "cell_type": "markdown",
   "metadata": {},
   "source": [
    "where \n",
    "\\begin{align}\n",
    "F_{Eop} &= \\mathcal{B}^{(1)}_{mECi} \\sigma_{mC} + \\mathcal{B}^{(0)}_{mECi} \\tau_{m}  \n",
    "\\end{align} \n",
    "collects the first two terms with element contributions to the internal forces corresponding to the element DOFS $(E,o)$. "
   ]
  },
  {
   "cell_type": "code",
   "execution_count": 33,
   "metadata": {},
   "outputs": [],
   "source": [
    "def get_F_Eo(B1_mECia, B0_mECi, sig_mEC, tau_mE):\n",
    "    # Elementwise evaluation of internal forces and stiffness matrix\n",
    "    F_sig_ECi = np.einsum('mECid,mEC->ECi', B1_mECia, sig_mEC)\n",
    "    F_tau_ECi = np.einsum('mECi,mE->ECi', B0_mECi, tau_mE)\n",
    "    return (F_tau_ECi + F_sig_ECi).reshape(-1,n_Eo)"
   ]
  },
  {
   "cell_type": "markdown",
   "metadata": {},
   "source": [
    "Similarly, the integration and collextion of the [system matrix](#eq_system_matrix) is performed analogically \n",
    "\\begin{align}\n",
    "K^{(\\theta)}_{OP} \n",
    "&=\n",
    "\\mathcal{A}_{OP} \n",
    "\\left[\\mathcal{Q}^{(1)}_{mECiDj} \\,\n",
    "\\frac{\\partial \\sigma_{mD}}{\\partial \\varepsilon_{mD}}\n",
    "\\right] +\n",
    "\\mathcal{A}_{OP} \n",
    "\\left[\\mathcal{Q}^{(0)}_{mECiDj} \\,\n",
    "\\frac{\\partial \\tau_m }{\\partial s_m } \n",
    "\\right]\n",
    "= \\mathcal{A}_{OP} \n",
    "\\left[ K_{Eop}\n",
    "\\right]\n",
    "\\end{align}"
   ]
  },
  {
   "cell_type": "markdown",
   "metadata": {},
   "source": [
    "**Reshaping of element matrices:** The quadratic forms corresponding to the first and second derivatives of the shape functions can now be prepared into the format of a global stiffness matrix using the reshape function with parameters preserving the last two dimensions that corredpond to the element degrees of freedom. The first three dimensions are flattened using the size specification $-1$."
   ]
  },
  {
   "cell_type": "code",
   "execution_count": 34,
   "metadata": {},
   "outputs": [],
   "source": [
    "def get_K_Eop(Q1_mECiaDjb, Q0_mECiDj, d_sig_mEC, d_tau_mE):\n",
    "    K_Q1_ECiaDjb = np.einsum('mECiaDjb,mEC->ECiaDjb', Q1_mECiaDjb, d_sig_mEC)\n",
    "    K_Q0_ECiDj = np.einsum('mECiDj,mE->ECiDj', Q0_mECiDj, d_tau_mE)\n",
    "    K_Q1_Eij = K_Q1_ECiaDjb.reshape(-1, n_Eo, n_Eo)\n",
    "    K_Q0_Eij = K_Q0_ECiDj.reshape(-1, n_Eo, n_Eo)\n",
    "    return K_Q1_Eij + K_Q0_Eij"
   ]
  },
  {
   "cell_type": "markdown",
   "metadata": {},
   "source": [
    "**Choice of integration scheme:** To apply the integration scheme over the spatial domain of an element the integration point positions and corresponding weights are specified as\n",
    "\\begin{align}\n",
    "\\xi_m &= [-1, 1] \\\\\n",
    "w_m &= [1,1]\n",
    "\\end{align}\n",
    "where $m$ denotes the index of the integration point within an element"
   ]
  },
  {
   "cell_type": "code",
   "execution_count": 35,
   "metadata": {},
   "outputs": [
    {
     "data": {
      "text/plain": [
       "(array([-1.,  1.]), array([1., 1.]))"
      ]
     },
     "execution_count": 35,
     "metadata": {},
     "output_type": "execute_result"
    }
   ],
   "source": [
    "xi_m = np.array([-1, 1], dtype = np.float_)\n",
    "w_m = np.array([1, 1], dtype = np.float_)\n",
    "n_m = len(w_m)\n",
    "xi_m, w_m"
   ]
  },
  {
   "cell_type": "markdown",
   "metadata": {},
   "source": [
    "**Example: Integrate constant shear:** To verify that everyting is correct, let us consider an element of the length 2 and constant shear $\\tau = 1$. The integral can be obtained using $\\mathcal{B}^{(0)}_{EmCi} \\tau_m$. We obtain the resulting nodal forces as"
   ]
  },
  {
   "cell_type": "code",
   "execution_count": 36,
   "metadata": {
    "scrolled": true
   },
   "outputs": [
    {
     "data": {
      "text/plain": [
       "array([[[-0.5, -0.5],\n",
       "        [ 0.5,  0.5]]])"
      ]
     },
     "execution_count": 36,
     "metadata": {},
     "output_type": "execute_result"
    }
   ],
   "source": [
    "np.einsum('mECi,m->ECi',\n",
    "    get_B0_mECi(np.array([[[0],[1]]]), xi_m, w_m), np.array([1,1]))"
   ]
  },
  {
   "cell_type": "markdown",
   "metadata": {},
   "source": [
    "Thus, the forces were distributed uniformly along the fibers and the matrix in oposite directions"
   ]
  },
  {
   "cell_type": "markdown",
   "metadata": {
    "hide_input": true
   },
   "source": [
    "# Verification example"
   ]
  },
  {
   "cell_type": "markdown",
   "metadata": {},
   "source": [
    "Consider a pullout problem with linear elastic behavior of layers and of the bond. Clamp the layer $C=0$ on the left and pull the ayer $C=1$ on the right by unit force."
   ]
  },
  {
   "cell_type": "markdown",
   "metadata": {},
   "source": [
    "**Manual mesh construction:** Given a unit length of the bond zone $L_x =1$ use a three-element discretization to evaluate the matrix stiffness. Let us define the mesh manually by defining the node coordinates $x_{Ia}$ and the corresponding DOFs $O_{CI}$. Later, we will define a simple grid generator to simplify the procedure."
   ]
  },
  {
   "cell_type": "code",
   "execution_count": 37,
   "metadata": {
    "scrolled": true
   },
   "outputs": [],
   "source": [
    "x_Ia = np.array([[0],[0.25],[0.5],[0.75],[1]])\n",
    "O_CI = np.array([[0,1,2,3,4],[5,6,7,8,9]])"
   ]
  },
  {
   "cell_type": "markdown",
   "metadata": {},
   "source": [
    "**plot_mesh_o(n_I, L):** plots the nodes of the discretization with the enumeration of the degrees of freedom"
   ]
  },
  {
   "cell_type": "code",
   "execution_count": 38,
   "metadata": {
    "hide_input": false
   },
   "outputs": [],
   "source": [
    "def plot_mesh_O_CI(ax, x_Ia, O_CI):\n",
    "    xy_offset = (3, 3)\n",
    "    fontsize=12\n",
    "    ax.set_ylim((-2,2))\n",
    "    x_I = x_Ia.flatten()\n",
    "    for y, O_I in zip([-0.5,0.5], O_CI):\n",
    "        ax.plot(x_I, np.zeros_like(x_I)+y, marker='o');\n",
    "        for x, O in zip(x_I, O_I):\n",
    "            xy=(x, y)\n",
    "            ax.annotate(xy=xy, s='%g' % O,\n",
    "                        xytext=xy_offset, color='green',\n",
    "                        textcoords='offset points', size=fontsize)"
   ]
  },
  {
   "cell_type": "code",
   "execution_count": 39,
   "metadata": {
    "hide_input": false,
    "scrolled": true
   },
   "outputs": [
    {
     "data": {
      "image/png": "[encoded data removed]",
      "text/plain": [
       "<Figure size 720x144 with 1 Axes>"
      ]
     },
     "metadata": {
      "needs_background": "light"
     },
     "output_type": "display_data"
    }
   ],
   "source": [
    "fig, ax = plt.subplots(1,1, figsize=(10,2))\n",
    "plot_mesh_O_CI(ax, x_Ia,O_CI)"
   ]
  },
  {
   "cell_type": "markdown",
   "metadata": {},
   "source": [
    "**Elementwise coordinate and index maps:** The mapping into the elementwise arranged node coordinates and degrees of freedom depends on the formulation of the finite element. In case of an implicitly layered cross section we can define general index mapping rearanging the globally defined arrays $x_Ia$ and $O_{CIa}$ into elementwise shape required by the integral expressions, i.e. $x_{Eia}$ and $O_{ECia}$. This mapping is done by defining an element node template $o_{aci}$ that specifies the maps the local index of a layer and node withn an element.  "
   ]
  },
  {
   "cell_type": "code",
   "execution_count": 40,
   "metadata": {},
   "outputs": [],
   "source": [
    "E_map_ci = np.array([[[0,1],[0,1]],[[0,0],[1,1]]])\n",
    "def get_E_xO(x_Ia, O_CI):\n",
    "    ix_2ci = O_CI[0,:-1,None,None] + E_map_ci[0,:,:]\n",
    "    ix_1ci = E_map_ci[1:,:,:]\n",
    "    # elementwise array of degrees of freedom\n",
    "    O_ECi = O_CI[ix_1ci, ix_2ci]\n",
    "    # elementwise array of node coordinates shared for layers C\n",
    "    x_Eia = x_Ia[ix_2ci[:,0,:]]\n",
    "    return x_Eia, O_ECi"
   ]
  },
  {
   "cell_type": "markdown",
   "metadata": {},
   "source": [
    "**Assembly of global matrix and vectors:** The stack of element matrices is directly passed to a `SysMtxAssembly` class that uses the sparse solvers based on the element node mapping. Displacement boundary conditions are inserted using the register_constraint method supplying the degree of freedom and the value. "
   ]
  },
  {
   "cell_type": "code",
   "execution_count": 41,
   "metadata": {},
   "outputs": [],
   "source": [
    "x1_Eia, O1_ECi = get_E_xO(x_Ia, O_CI)\n",
    "# elemnetwise array of flattened DOFs\n",
    "O1_Ei = O1_ECi.reshape(-1,n_Eo)\n",
    "# total number of DOFs\n",
    "n1_O = np.max(O1_Ei)+1\n",
    "d_sig_mE, d_tau_mE = np.array([[[1]]]), np.array([[1]])\n",
    "K1_Eop = get_K_Eop(\n",
    "    get_Q1_mECiaDjb(x1_Eia, xi_m, w_m), get_Q0_mECiDj(x1_Eia, xi_m, w_m),\n",
    "    d_sig_mE, d_tau_mE\n",
    ")\n",
    "K1_OP = SysMtxAssembly()\n",
    "K1_OP.add_mtx_array(K1_Eop, O1_Ei)\n",
    "K1_OP.register_constraint(0, 0)\n",
    "#K1_OP.register_constraint(n1_O - 1, 0.1)\n",
    "F_ext = np.zeros((n1_O,), np.float_)\n",
    "F_ext[-1] = 1\n",
    "K1_OP.apply_constraints(F_ext)\n",
    "U1, _ = K1_OP.solve(F_ext)"
   ]
  },
  {
   "cell_type": "markdown",
   "metadata": {},
   "source": [
    "**Show the displacement and strain profiles:**\n",
    "To associate the displacements arranged in a flat vector let us apply the index map $ECi \\rightarrow o$ stored in the array $o_{ECi}$ to get a three dimensional array\n",
    "\\begin{align}\n",
    "u_{ECi} = U_{o}[o_{ECi}] \\; \\mathrm{where} \\; o_{ECi}: ECi \\rightarrow o\n",
    "\\end{align}\n",
    "Let us use this mapping to obtain the primary field variable $u_1$ for further postprocessing"
   ]
  },
  {
   "cell_type": "code",
   "execution_count": 42,
   "metadata": {},
   "outputs": [],
   "source": [
    "u1_ECi = U1[O1_ECi]"
   ]
  },
  {
   "cell_type": "markdown",
   "metadata": {
    "hide_input": true
   },
   "source": [
    "**plot_mesh_displ( ax, x_Eia, u_ECi ) :** function plotting the deformed configuration - definition in a hidden cell below "
   ]
  },
  {
   "cell_type": "code",
   "execution_count": 43,
   "metadata": {
    "hide_input": true
   },
   "outputs": [],
   "source": [
    "def plot_mesh_disp(ax, x_Eia, u_ECi):\n",
    "    xy_offset = (3, 3)\n",
    "    fontsize=12\n",
    "    ax.set_ylim((-2,2))\n",
    "    x_Ei = x_Eia[...,0]\n",
    "    u_CEi = np.einsum('ECi->CEi', u_ECi)\n",
    "    for y, u_Ei in zip([-0.5,0.5], u_CEi):\n",
    "        x_ = (x_Ei + u_Ei).flatten()\n",
    "        ax.plot(x_, np.zeros_like(x_)+y, marker='o');"
   ]
  },
  {
   "cell_type": "code",
   "execution_count": 44,
   "metadata": {},
   "outputs": [
    {
     "data": {
      "image/png": "[encoded data removed]",
      "text/plain": [
       "<Figure size 720x144 with 1 Axes>"
      ]
     },
     "metadata": {
      "needs_background": "light"
     },
     "output_type": "display_data"
    }
   ],
   "source": [
    "fig, ax = plt.subplots(1,1, figsize=(10,2))\n",
    "plot_mesh_disp(ax, x1_Eia, u1_ECi)"
   ]
  },
  {
   "cell_type": "markdown",
   "metadata": {
    "hide_input": true
   },
   "source": [
    "To plot the slip at the correct positions the positions $x_{Ei0}$ are used as they are identical with the integration points:"
   ]
  },
  {
   "cell_type": "code",
   "execution_count": 45,
   "metadata": {
    "scrolled": true
   },
   "outputs": [
    {
     "data": {
      "image/png": "[encoded data removed]",
      "text/plain": [
       "<Figure size 648x288 with 2 Axes>"
      ]
     },
     "metadata": {
      "needs_background": "light"
     },
     "output_type": "display_data"
    }
   ],
   "source": [
    "f, (ax1, ax2) = plt.subplots(1,2, figsize=(9, 4))\n",
    "plot_u_ECi(ax1, u1_ECi, x1_Eia)\n",
    "plot_var_mEC(ax2, u1_ECi, x1_Eia, xi_m, get_var_mEC=get_eps_mEC, ylabel=r'$\\varepsilon$')"
   ]
  },
  {
   "cell_type": "markdown",
   "metadata": {},
   "source": [
    "# Material behavior"
   ]
  },
  {
   "cell_type": "markdown",
   "metadata": {},
   "source": [
    "**Constitutive law:** The material behavior has been factored out from the previous derivation of the numerical model. In the verification example, a linear constitutive relation was assumed with the material stiffnesses $E_\\mathrm{m}$ and $E_\\mathrm{f}$ of the matrix and fiber, respectively, equal to 1. Also the bond stiffness $E_\\mathrm{b} = 1$. In the next step we will combine linear elastic behavior of layers $\\mathrm{m}$ and $\\mathrm{f}$ with a nonlinear bond. "
   ]
  },
  {
   "cell_type": "markdown",
   "metadata": {},
   "source": [
    "**Layers:** For the layers, stress-strain relation is assumed as\n",
    "i.e. \\begin{align} \n",
    "\\label{eq:constitutive}\n",
    "{\\sigma _{\\rm{f}}} &= E_{\\rm{f}}^{}\\varepsilon_{\\rm{f}}, \\;\\;\n",
    "{\\sigma _{\\rm{m}}} = E_{\\rm{m}}^{}\\varepsilon_{\\rm{m}},\n",
    "\\end{align}\n",
    "in index form, this equation reads\n",
    "\\begin{align} \n",
    "\\label{eq:indexed_constitutive}\n",
    "\\sigma_{Ca} &= D_C\\varepsilon_{Ca}\n",
    "\\end{align}"
   ]
  },
  {
   "cell_type": "code",
   "execution_count": 46,
   "metadata": {},
   "outputs": [],
   "source": [
    "E_m, E_f = 1, 1 # Unit Emodulus assumed\n",
    "D_C = np.array([E_m, E_f], dtype=np.float_)"
   ]
  },
  {
   "cell_type": "markdown",
   "metadata": {},
   "source": [
    "Thus, functions evaluating strains using this constitutive law in terms of the primary displacement variable over the whole spatial domain read \n",
    "\\begin{align} \n",
    "\\sigma_{mECa} &= D_C\\varepsilon_{mECa} = D_C N_{im,a} u_{ECia}\n",
    "\\end{align}\n",
    "The implementation will be used both within a nonlinear time-stepping algorithm and in the postprocessing later on."
   ]
  },
  {
   "cell_type": "code",
   "execution_count": 47,
   "metadata": {},
   "outputs": [],
   "source": [
    "get_sig_mEC = lambda u_ECi, x_Eia, xi_m: np.einsum(\n",
    "    'C,mEC->mEC', D_C, get_eps_mEC(u_ECi, x_Eia, xi_m) )"
   ]
  },
  {
   "cell_type": "code",
   "execution_count": 48,
   "metadata": {},
   "outputs": [],
   "source": [
    "get_d_sig_mEC = lambda u_ECi, x_Eia, xi_m: np.einsum(\n",
    "    'C,mEC->mEC', D_C, np.ones_like(get_eps_mEC(u_ECi, x_Eia, xi_m)))"
   ]
  },
  {
   "cell_type": "markdown",
   "metadata": {},
   "source": [
    "**Bond-slip law:** An example bond model is defined as a piecewise linear function exhibiting softening. The nonlinear algorithm requires the evaluation of $\\mathrm{d}\\tau/\\mathrm{d}s$ which is delivered symbolically using the `diff` method. The function is defined by three data points \n",
    "$(\\tau_1,s_1), (\\tau_2,s_2), (\\tau_3,s_3)$. "
   ]
  },
  {
   "cell_type": "code",
   "execution_count": 49,
   "metadata": {},
   "outputs": [],
   "source": [
    "s, tau_1, s_1, tau_2, s_2, tau_3, s_3 = sp.symbols(\n",
    "    r's, tau_1, s_1, tau_2, s_2, tau_3, s_3 '\n",
    ")\n",
    "tau_s = sp.Piecewise(\n",
    "    (tau_1/s_1 * s, s < s_1), \n",
    "    (tau_1 + (tau_2-tau_1)/(s_2-s_1)*(s-s_1), s <= s_2), \n",
    "    (tau_2 + (tau_3-tau_2)/(s_3-s_2)*(s-s_2), s > s_2)\n",
    ")\n",
    "d_tau_s = tau_s.diff(s)"
   ]
  },
  {
   "cell_type": "markdown",
   "metadata": {},
   "source": [
    "The dictionary of values specifying the data points is defined as"
   ]
  },
  {
   "cell_type": "code",
   "execution_count": 50,
   "metadata": {},
   "outputs": [],
   "source": [
    "bond_data = dict(tau_1=2, s_1=0.1, tau_2=0.5, s_2=0.4, tau_3=0.05, s_3=1.6)"
   ]
  },
  {
   "cell_type": "markdown",
   "metadata": {},
   "source": [
    "To transform the symbolic representation of the function to a function callable with a an array of slip values evaluated in a single call let us use again the `sp.lambdify` generator"
   ]
  },
  {
   "cell_type": "code",
   "execution_count": 51,
   "metadata": {},
   "outputs": [],
   "source": [
    "tau_s_ = sp.lambdify(s, tau_s.subs(bond_data), 'numpy' )\n",
    "d_tau_s_ = sp.lambdify(s, d_tau_s.subs(bond_data), 'numpy' )"
   ]
  },
  {
   "cell_type": "code",
   "execution_count": 52,
   "metadata": {
    "hide_input": false,
    "scrolled": false
   },
   "outputs": [
    {
     "data": {
      "image/png": "[encoded data removed]",
      "text/plain": [
       "<Figure size 864x252 with 2 Axes>"
      ]
     },
     "metadata": {
      "needs_background": "light"
     },
     "output_type": "display_data"
    }
   ],
   "source": [
    "s_max = float(s_3.subs(bond_data))\n",
    "fig, (ax1, ax2) = plt.subplots(1,2, figsize=(12,3.5)) \n",
    "fig.subplots_adjust(hspace=0.5)\n",
    "s_data = np.linspace(0, s_max, 100)\n",
    "ax1.plot(s_data, tau_s_(s_data),color='black')\n",
    "ax1.set_xlabel(r'$s\\;\\;\\mathrm{[mm]}$'); ax1.set_ylabel(r'$\\tau\\;\\;\\mathrm{[MPa]}$'); \n",
    "ax1.set_title('bond-slip law')\n",
    "ax2.plot(s_data, d_tau_s_(s_data), color='black')\n",
    "ax2.set_xlabel(r'$s\\;\\;\\mathrm{[mm]}$'); ax2.set_ylabel(r'$\\mathrm{d}\\tau/\\mathrm{d}s\\;\\;\\mathrm{[MPa/mm]}$');\n",
    "ax2.set_title('bond stiffness');"
   ]
  },
  {
   "cell_type": "markdown",
   "metadata": {},
   "source": [
    "Array based evaluation of the bond stress and stiffness directly in terms of the primary displacement field is then defined as\n",
    "\\begin{align} \n",
    "\\tau_{mE} &= \\tau( \\zeta_C N_{mi} u_{mECi} )\n",
    "\\end{align}"
   ]
  },
  {
   "cell_type": "code",
   "execution_count": 53,
   "metadata": {},
   "outputs": [],
   "source": [
    "get_tau_mE = lambda u_ECi, xi_m: tau_s_( get_s_mE(u_ECi, xi_m) )\n",
    "get_d_tau_mE = lambda u_ECi, xi_m: d_tau_s_( get_s_mE(u_ECi, xi_m) )"
   ]
  },
  {
   "cell_type": "markdown",
   "metadata": {},
   "source": [
    "With these functions, the material model is prepared to be plugged into the nonlinear time stepping loop. Note that the defined bond law does not distinguish the loading and unloading, as it is necessary to introduce a correct treatment of damage and plastic behavior driving the material nonlinearity. Thus, it can only be used for cases with monotonically increasing slip in every material point of the studied specimen. Still, for the explanatory purposes in focus here, such a definintion is completely sufficient and lets us even obtain some insight into the nonlinear behavior of a pullout specimen depending on the type of the bond-slip law.\n",
    "Moreover, an extension of a material model to the more complex phenomenology does not affect the implementation of the nonlinear time stepping scheme."
   ]
  },
  {
   "cell_type": "markdown",
   "metadata": {},
   "source": [
    "**Material model as a class:** To make the developed model applicable to different types of materials and types of bond between the layer, it is convenient to bundle the methods \n",
    "calculating the stress and material stiffness, i.e. `get_sig_mEC`, `get_tau_mE`, `get_d_sig_mEC`, and `get_d_tau_mE` into a single object that can be passed as a parameter to a solution algorithm."
   ]
  },
  {
   "cell_type": "markdown",
   "metadata": {},
   "source": [
    "# Time-stepping algorithm"
   ]
  },
  {
   "cell_type": "markdown",
   "metadata": {},
   "source": [
    "**Intialization of the system vectors and matrix:** The global vector of external forces $F^\\mathrm{ext}$ is represented as a flat array. Individual loads may be simply assigned to a corresponding degree of freedom. For example, the first degree of freedom represents the matrix free end on the left. The last degree of freedom, i.e. $n_O$ represents the right free end of the fiber. \n",
    "\n",
    "The system matrix is instantiated using the `SysMtxAssembly` class that can register the constraints on selected degrees of freedom using the method `register_constraint`. A constraint is registered only once before starting the equilibrium iteration loop. Its value can be modified during the calculation.\n",
    "\n",
    "The fundamental displacement is initialized to zero vector $U^{(n)}$."
   ]
  },
  {
   "cell_type": "markdown",
   "metadata": {},
   "source": [
    "**Incremental equilibrium iteration scheme:** The loop defines below runs the Newton-Raphson iteration controlled either by load or by displacement until the required level of accuracy $R_\\mathrm{acc}$ is reached. "
   ]
  },
  {
   "cell_type": "code",
   "execution_count": 54,
   "metadata": {},
   "outputs": [],
   "source": [
    "def get_UF_t(w, x_Eia, O_ECi, n_t = 100):\n",
    "    # elemnetwise array of flattened DOFs\n",
    "    O_Ei = O_ECi.reshape(-1,n_Eo)\n",
    "    # total number of DOFs\n",
    "    n_O = int(np.max(O_Ei)+1)\n",
    "    # Global vectors\n",
    "    F_ext = np.zeros((n_O,), np.float_)\n",
    "    F_O = np.zeros((n_O,), np.float_)\n",
    "    U_k_O = np.zeros((n_O,), dtype=np.float_)\n",
    "    # Setup the system matrix with displacement constraints\n",
    "    K_OP = SysMtxAssembly()\n",
    "#    K_OP.register_constraint(0, 0.0)\n",
    "    K_OP.register_constraint(int(n_O/2)-1, 0.0)\n",
    "    control = K_OP.register_constraint(n_O - 1, 0.0);\n",
    "    # Time stepping parameters\n",
    "    t_n1, t_max, t_step = 0, 1, 1/n_t\n",
    "    # Iteration parameters\n",
    "    k_max, R_acc = 1000, 1e-3\n",
    "    # Record solutions\n",
    "    U_t_list, F_t_list = [], []\n",
    "    # Precalculated integration operators\n",
    "    B1_mECia = get_B1_mECia(x_Eia, xi_m, w_m)\n",
    "    B0_mECi = get_B0_mECi(x_Eia, xi_m, w_m)\n",
    "    Q1_mECiaDjb = get_Q1_mECiaDjb(x_Eia, xi_m, w_m)\n",
    "    Q0_mECiDj = get_Q0_mECiDj(x_Eia, xi_m, w_m)\n",
    "\n",
    "    # Load increment loop\n",
    "    while t_n1 < t_max:\n",
    "        \n",
    "        U_t_list.append(np.copy(U_k_O))\n",
    "        F_t_list.append(F_O)\n",
    "        \n",
    "        control.u_a = w * t_step\n",
    "        k = 0\n",
    "\n",
    "        # Equilibrium iteration loop\n",
    "        while k < k_max:\n",
    "\n",
    "            # Transform the primary vector to field\n",
    "            u_ECi = U_k_O[O_ECi]\n",
    "            \n",
    "            # Corrector: internal forces (stresses and shear flow)\n",
    "            sig_mEC = get_sig_mEC(u_ECi, x_Eia, xi_m)\n",
    "            tau_mE = get_tau_mE(u_ECi, xi_m)\n",
    "            # Residuum\n",
    "            F_Eo = get_F_Eo(B1_mECia, B0_mECi, sig_mEC, tau_mE)\n",
    "            F_O = np.bincount(O_Ei.flatten(), weights=F_Eo.flatten())\n",
    "            R_O = F_ext - F_O\n",
    "\n",
    "            # Predictor: algorithmic system matrix\n",
    "            d_sig_mEC = get_d_sig_mEC(u_ECi, x_Eia, xi_m)\n",
    "            d_tau_mE = get_d_tau_mE(u_ECi, xi_m)\n",
    "            # System matrix\n",
    "            K_Eop = get_K_Eop(Q1_mECiaDjb, Q0_mECiDj, d_sig_mEC, d_tau_mE)\n",
    "            K_OP.reset_mtx()\n",
    "            K_OP.add_mtx_array(K_Eop, O_Ei)\n",
    "            # Modify/add equations with kinematic constraints\n",
    "            K_OP.apply_constraints(R_O)\n",
    "\n",
    "            # Convergence criterion\n",
    "            R_norm = np.linalg.norm(R_O)\n",
    "            if R_norm < R_acc:\n",
    "                # Convergence reached\n",
    "                break \n",
    "\n",
    "            # Next iteration\n",
    "            delta_U_O, _ = K_OP.solve()\n",
    "            U_k_O += delta_U_O\n",
    "            control.u_a = 0\n",
    "            k += 1\n",
    "        else:\n",
    "            print('no convergence')\n",
    "            break\n",
    "\n",
    "        # Target time of the next load increment\n",
    "        t_n1 += t_step\n",
    "\n",
    "    print('time stepping finished at t = %g' % t_n1)\n",
    "    U_t, F_t = np.array(U_t_list), np.array(F_t_list)\n",
    "    return U_t, F_t"
   ]
  },
  {
   "cell_type": "markdown",
   "metadata": {},
   "source": [
    "# Application examples"
   ]
  },
  {
   "cell_type": "code",
   "execution_count": 55,
   "metadata": {},
   "outputs": [],
   "source": [
    "n_I = 10\n",
    "x1_Ia = np.linspace(0,1,n_I).reshape(-1,1)\n",
    "O1_CI = np.arange(2*n_I).reshape(2,-1)"
   ]
  },
  {
   "cell_type": "code",
   "execution_count": 56,
   "metadata": {},
   "outputs": [
    {
     "data": {
      "image/png": "[encoded data removed]",
      "text/plain": [
       "<Figure size 720x216 with 1 Axes>"
      ]
     },
     "metadata": {
      "needs_background": "light"
     },
     "output_type": "display_data"
    }
   ],
   "source": [
    "f, ax = plt.subplots(1,1,figsize=(10,3))\n",
    "plot_mesh_O_CI(ax, x1_Ia, O1_CI)"
   ]
  },
  {
   "cell_type": "code",
   "execution_count": 57,
   "metadata": {},
   "outputs": [
    {
     "name": "stdout",
     "output_type": "stream",
     "text": [
      "time stepping finished at t = 1\n"
     ]
    }
   ],
   "source": [
    "x1_Eia, O1_ECi = get_E_xO(x1_Ia, O1_CI)\n",
    "U_t, F_t = get_UF_t(1.03, x1_Eia, O1_ECi)"
   ]
  },
  {
   "cell_type": "code",
   "execution_count": 58,
   "metadata": {},
   "outputs": [],
   "source": [
    "U_03, U_10 = U_t[(30,-1),-1]\n",
    "F_03, F_10 = F_t[(30,-1),-1]\n",
    "u03_ECi = U_t[30][O1_ECi]\n",
    "u10_ECi = U_t[-1][O1_ECi]"
   ]
  },
  {
   "cell_type": "markdown",
   "metadata": {},
   "source": [
    "**Plot displacements in final step:**"
   ]
  },
  {
   "cell_type": "code",
   "execution_count": 59,
   "metadata": {},
   "outputs": [
    {
     "data": {
      "image/png": "[encoded data removed]",
      "text/plain": [
       "<Figure size 720x144 with 2 Axes>"
      ]
     },
     "metadata": {
      "needs_background": "light"
     },
     "output_type": "display_data"
    }
   ],
   "source": [
    "f_discr, (ax1, ax2) = plt.subplots(1,2, figsize=(10,2))\n",
    "f_discr.tight_layout()\n",
    "plot_mesh_O_CI(ax1, x1_Ia, O1_CI)\n",
    "plot_mesh_disp( ax2, x1_Eia, u10_ECi )\n",
    "ax2.set_xlim(0,2.2);"
   ]
  },
  {
   "cell_type": "code",
   "execution_count": 60,
   "metadata": {},
   "outputs": [
    {
     "data": {
      "image/png": "[encoded data removed]",
      "text/plain": [
       "<Figure size 720x216 with 2 Axes>"
      ]
     },
     "metadata": {
      "needs_background": "light"
     },
     "output_type": "display_data"
    }
   ],
   "source": [
    "f_UF, (ax1, ax2) = plt.subplots(1,2, figsize=(10,3))\n",
    "ax1.plot(U_t[:,-1], F_t[:,-1], color='black', lw=2);\n",
    "ax1.plot(U_10, F_10, color='blue', marker='o', markersize=12,\n",
    "         label=r'$w = 1.0\\;\\mathrm{mm}$');\n",
    "ax1.plot(U_03, F_03, color='green', marker='o', markersize=12,\n",
    "         label=r'$w = 0.3\\;\\mathrm{mm}$');\n",
    "ax1.set_xlabel(r'$w\\;\\;\\mathrm{[mm]}$'); ax1.set_ylabel(r'$F\\;\\;\\mathrm{[N]}$');\n",
    "ax1.legend()\n",
    "plot_u_ECi(ax2, u03_ECi, x1_Eia, color0='lightgreen', color1='darkgreen', color12='green', label='xxx')\n",
    "plot_u_ECi(ax2, u10_ECi, x1_Eia, color0='lightblue', color1='darkblue', color12='blue')\n",
    "ax1.set_title('load-displacement'); ax2.set_title('displacement profiles');"
   ]
  },
  {
   "cell_type": "code",
   "execution_count": 61,
   "metadata": {},
   "outputs": [
    {
     "data": {
      "image/png": "[encoded data removed]",
      "text/plain": [
       "<Figure size 864x237.6 with 2 Axes>"
      ]
     },
     "metadata": {
      "needs_background": "light"
     },
     "output_type": "display_data"
    }
   ],
   "source": [
    "f_comps, (ax1, ax2) = plt.subplots(1,2, figsize=(12,3.3))\n",
    "plot_var_mEC(ax1, u03_ECi, x1_Eia, xi_m, get_var_mEC=get_eps_mEC, \n",
    "             ylabel=r'$\\varepsilon_\\mathrm{mf}$', \n",
    "             color1='darkgreen', color0='lightgreen', label=r'$w=0.3\\;\\mathrm{mm]}$')\n",
    "plot_var_mEC(ax1, u10_ECi, x1_Eia, xi_m, get_var_mEC=get_eps_mEC, \n",
    "             ylabel=r'$\\varepsilon_\\mathrm{mf}$', \n",
    "             color1='darkblue', color0='lightblue', label=r'$w=1.0\\;\\mathrm{mm]}$')\n",
    "plot_var_mEC(ax2, u03_ECi, x1_Eia, xi_m, get_var_mEC=get_sig_mEC, \n",
    "             ylabel=r'$\\sigma_\\mathrm{mf}$',\n",
    "             color1='darkgreen', color0='lightgreen', label=r'$w=0.3\\;\\mathrm{mm]}$')\n",
    "plot_var_mEC(ax2, u10_ECi, x1_Eia, xi_m, get_var_mEC=get_sig_mEC, \n",
    "             ylabel=r'$\\sigma_\\mathrm{mf}$',\n",
    "             color1='darkblue', color0='lightblue', label=r'$w=1.0\\;\\mathrm{mm]}$')\n",
    "ax1.set_title('component strains'); ax2.set_title('component stresses');\n",
    "ax1.legend(); ax2.legend();"
   ]
  },
  {
   "cell_type": "code",
   "execution_count": 62,
   "metadata": {},
   "outputs": [
    {
     "data": {
      "image/png": "[encoded data removed]",
      "text/plain": [
       "<Figure size 1008x237.6 with 2 Axes>"
      ]
     },
     "metadata": {
      "needs_background": "light"
     },
     "output_type": "display_data"
    }
   ],
   "source": [
    "f_bond, (ax1, ax2) = plt.subplots(1,2, figsize=(14,3.3))\n",
    "plot_filled(ax1, x1_Eia, get_s_mE(u03_ECi, xi_m).T.flatten(), \n",
    "            color='green',alpha=0.1, label=r'$w = 0.3\\;\\mathrm{mm}$');\n",
    "plot_filled(ax1, x1_Eia, get_s_mE(u10_ECi, xi_m).T.flatten(),\n",
    "            color='blue',alpha=0.1, label=r'$w = 1.0\\;\\mathrm{mm}$');\n",
    "ax1.set_xlabel(r'$x\\;\\mathrm{[mm]}$'); ax1.set_ylabel(r'$s\\;\\mathrm{[mm]}$');\n",
    "ax1.set_title('slip'); ax1.legend();\n",
    "plot_filled(ax2, x1_Eia, get_tau_mE(u03_ECi, xi_m).T.flatten(),\n",
    "            color='green',alpha=0.1, label=r'$w = 0.3\\;\\mathrm{mm}$');\n",
    "plot_filled(ax2, x1_Eia, get_tau_mE(u10_ECi, xi_m).T.flatten(),\n",
    "            color='blue',alpha=0.1, label=r'$w = 1.0\\;\\mathrm{mm}$');\n",
    "ax2.set_xlabel(r'$x\\;\\mathrm{[mm]}$'); ax2.set_ylabel(r'$\\tau\\;\\mathrm{[mm]}$');\n",
    "ax2.set_title('bond stress'); ax2.legend();"
   ]
  },
  {
   "cell_type": "markdown",
   "metadata": {},
   "source": [
    "# Pullout response animation"
   ]
  },
  {
   "cell_type": "markdown",
   "metadata": {},
   "source": [
    "Set up the plotting figure with 2 x 2 diagrams showing the pullout curve, the evolution of strain and displacement of matrix and fiber, and the evolution of the shear stress along the bond zone mutual slip. To produce an animation the hidden cell below defines the plotting functions including the `init` and `animate` procedure are run during the animation."
   ]
  },
  {
   "cell_type": "code",
   "execution_count": 63,
   "metadata": {
    "hide_input": false
   },
   "outputs": [],
   "source": [
    "%%capture\n",
    "\n",
    "from matplotlib import animation, rc\n",
    "from IPython.display import HTML\n",
    "from traitlets import HasTraits, Any\n",
    "\n",
    "# First set up the figure, the axis, and the plot element we want to animate\n",
    "fig, ((ax00, ax01), (ax10, ax11)) = plt.subplots(2,2)\n",
    "fig.set_size_inches(10.5, 7)\n",
    "\n",
    "class PullOutAnimator(HasTraits):\n",
    "    \n",
    "    U_t = Any()\n",
    "    F_t = Any()\n",
    "\n",
    "    def init(self):\n",
    "        '''Initialization function: plot the background of each frame\n",
    "        '''\n",
    "        U_t, F_t = self.U_t, self.F_t\n",
    "        # Pullout curve\n",
    "        axes_init(ax00, xlim=(0, U_t[-1,-1]*1.05), ylim=(0, F_t[-1,-1]*1.05),\n",
    "                  xlabel='$w$ [mm]', ylabel='$P$ [N]', title='force  - displacement')\n",
    "        self.FU_line, = ax00.plot([], [], color='black', lw=2)\n",
    "        self.FU_marker, = ax00.plot([], [], color='magenta', marker='o', markersize=12)\n",
    "        # Strain along the bond zone\n",
    "        axes_init(ax01, xlim=(0, L_x), ylim=(-1.0, 1.0), \n",
    "                  xlabel='$x$ [mm]', ylabel=r'$\\varepsilon$ [-]', title='strain')\n",
    "        self.eps_m_line, = ax01.plot([], [], color='blue', lw=2, label=r'$\\varepsilon_{\\mathrm{m}}$')\n",
    "        self.eps_f_line, = ax01.plot([], [], color='orange', lw=2, label=r'$\\varepsilon_{\\mathrm{f}}$')\n",
    "        ax01.legend(loc=2)\n",
    "        # Displacement along the bond zone\n",
    "        axes_init(ax10, xlim=(0, L_x), ylim=(0.0, 1.3), \n",
    "                  xlabel='$x$ [mm]', ylabel='$u$ [mm]', title='')\n",
    "        self.u_m_line, = ax10.plot([], [], color='blue', lw=2, label=r'$u_{\\mathrm{m}}$')\n",
    "        self.u_f_line, = ax10.plot([], [], color='orange', lw=2, label=r'$u_{\\mathrm{f}}$')\n",
    "        ax10.legend(loc=2)\n",
    "        # Shear stress along the bond zone\n",
    "        axes_init(ax11, xlim=(0, L_x), ylim=(0, 2.6), \n",
    "                  xlabel='$x$ [mm]', ylabel=r'$\\tau$ [N]', title='')\n",
    "        self.tau_line, = ax11.plot([], [], color='green', lw=2)\n",
    "\n",
    "        self.FU_line.set_data(U_t[:,-1], F_t[:,-1])\n",
    "        return (self.tau_line, self.eps_m_line, self.eps_f_line, \n",
    "                self.u_m_line, self.u_f_line, self.FU_line, self.FU_marker)\n",
    "\n",
    "    def plot(self, i):\n",
    "        '''Animation function called sequentially during the animation loop\n",
    "        '''\n",
    "        U_t, F_t = self.U_t, self.F_t\n",
    "        U = U_t[i]\n",
    "        self.FU_marker.set_data(U_t[i,-1], F_t[i,-1])\n",
    "        x_Ei0 = x_Eia[:,:,0].flatten()\n",
    "\n",
    "        u_ECi = U[O_ECi]\n",
    "        self.u_m_line.set_data(x_Ei0, u_ECi[:,0,:].flatten())\n",
    "        self.u_f_line.set_data(x_Ei0, u_ECi[:,1,:].flatten())\n",
    "        ax10.collections.clear()\n",
    "        ax10.fill_between(x_Ei0, u_ECi[:,0,:].flatten(), u_ECi[:,1,:].flatten(), color='green', alpha=0.2 )\n",
    "\n",
    "        eps_EmC = np.einsum('mEC->EmC',get_eps_mEC(u_ECi, x_Eia, xi_m))\n",
    "        self.eps_m_line.set_data(x_Ei0, eps_EmC[...,0].flatten())\n",
    "        self.eps_f_line.set_data(x_Ei0, eps_EmC[...,1].flatten())\n",
    "        ax01.collections.clear()\n",
    "        ax01.fill_between(x_Ei0, 0, eps_EmC[...,0].flatten(), color='blue', alpha=0.1 )\n",
    "        ax01.fill_between(x_Ei0, 0, eps_EmC[...,1].flatten(), color='orange', alpha=0.1 )\n",
    "\n",
    "        tau_Em = get_tau_mE(u_ECi, xi_m).T.flatten()\n",
    "        self.tau_line.set_data(x_Ei0, tau_Em)\n",
    "        ax11.collections.clear()\n",
    "        ax11.fill_between(x_Ei0, 0, tau_Em, color='green', alpha=0.1 )\n",
    "        return (self.tau_line, self.eps_m_line,  self.eps_f_line, \n",
    "                self.u_m_line, self.u_f_line, self.FU_line, self.FU_marker)\n",
    "\n",
    "    def html5_video(self):\n",
    "        n_t = len(self.U_t)\n",
    "        # call the animator. blit=True means only re-draw the parts that have changed.\n",
    "        anim = animation.FuncAnimation(fig, self.plot, init_func=self.init,\n",
    "                                       frames=n_t, interval=100, blit=True)\n",
    "        return anim.to_html5_video()"
   ]
  },
  {
   "cell_type": "markdown",
   "metadata": {
    "hide_input": false
   },
   "source": [
    "**Animate the history of the pullout response recorded:**\n",
    "The response values are stored in two arrays $U_t$ and $F_t$.\n",
    "This example shows two elastic glued layers that debond from both sides. The bond law exhibits nonlinear softening. One layer is fixed at both ends the other one is pulled at one end and free at the other end. "
   ]
  },
  {
   "cell_type": "code",
   "execution_count": 64,
   "metadata": {},
   "outputs": [
    {
     "name": "stdout",
     "output_type": "stream",
     "text": [
      "time stepping finished at t = 1\n"
     ]
    }
   ],
   "source": [
    "L_x = 1\n",
    "n_I = 100\n",
    "x_Ia = np.linspace(0,L_x,n_I).reshape(-1,1)\n",
    "O_CI = np.arange(n_C*n_I).reshape(2,-1)\n",
    "x_Eia, O_ECi = get_E_xO(x_Ia, O_CI)\n",
    "U_t, F_t = get_UF_t(1.22, x_Eia, O_ECi,n_t=50)"
   ]
  },
  {
   "cell_type": "code",
   "execution_count": 65,
   "metadata": {},
   "outputs": [
    {
     "data": {
      "text/html": [
       "<video width=\"756\" height=\"504\" controls autoplay loop>\n",
       "  <source type=\"video/mp4\" src=\"data:video/mp4;base64,AAAAHGZ0eXBNNFYgAAACAGlzb21pc28yYXZjMQAAAAhmcmVlAAEWu21kYXQAAAKuBgX//6rcRem9\n",
       "5tlIt5Ys2CDZI+7veDI2NCAtIGNvcmUgMTU1IHIyOTE3IDBhODRkOTggLSBILjI2NC9NUEVHLTQg\n",
       "QVZDIGNvZGVjIC0gQ29weWxlZnQgMjAwMy0yMDE4IC0gaHR0cDovL3d3dy52aWRlb2xhbi5vcmcv\n",
       "eDI2NC5odG1sIC0gb3B0aW9uczogY2FiYWM9MSByZWY9MyBkZWJsb2NrPTE6MDowIGFuYWx5c2U9\n",
       "MHgzOjB4MTEzIG1lPWhleCBzdWJtZT03IHBzeT0xIHBzeV9yZD0xLjAwOjAuMDAgbWl4ZWRfcmVm\n",
       "PTEgbWVfcmFuZ2U9MTYgY2hyb21hX21lPTEgdHJlbGxpcz0xIDh4OGRjdD0xIGNxbT0wIGRlYWR6\n",
       "b25lPTIxLDExIGZhc3RfcHNraXA9MSBjaHJvbWFfcXBfb2Zmc2V0PS0yIHRocmVhZHM9NiBsb29r\n",
       "YWhlYWRfdGhyZWFkcz0xIHNsaWNlZF90aHJlYWRzPTAgbnI9MCBkZWNpbWF0ZT0xIGludGVybGFj\n",
       "ZWQ9MCBibHVyYXlfY29tcGF0PTAgY29uc3RyYWluZWRfaW50cmE9MCBiZnJhbWVzPTMgYl9weXJh\n",
       "bWlkPTIgYl9hZGFwdD0xIGJfYmlhcz0wIGRpcmVjdD0xIHdlaWdodGI9MSBvcGVuX2dvcD0wIHdl\n",
       "aWdodHA9MiBrZXlpbnQ9MjUwIGtleWludF9taW49MTAgc2NlbmVjdXQ9NDAgaW50cmFfcmVmcmVz\n",
       "aD0wIHJjX2xvb2thaGVhZD00MCByYz1jcmYgbWJ0cmVlPTEgY3JmPTIzLjAgcWNvbXA9MC42MCBx\n",
       "cG1pbj0wIHFwbWF4PTY5IHFwc3RlcD00IGlwX3JhdGlvPTEuNDAgYXE9MToxLjAwAIAAADTAZYiE\n",
       "AD///vdonwKbWkN6gOSVxSXbT4H/q2dwfI/pAwAAAwAAAwAAAwAGoT4JFk8jL+HZoAAAAwFYbhPw\n",
       "57uOYD3BdIWjj3gAahEBzv8b2F0l9UDaCIjLOdt1YNxdLwSDs+RB23lYJVvOGf4ylzbfVUIeurUG\n",
       "UcV3G1rZpUfZS7y+fIn36F+t9f1JSlxDWazqUkKXWgFkzNxIa/hecjw/EE2ymFQ+3A8cD0jqHaHL\n",
       "pArokxT4RGeRj6FtPsLSBmGO1ppk8Ofy41smXGktFdhouD1W1DSd5jjvs3obxSxdg0Z3H83lXF2/\n",
       "hOupxp8+vAYrjrXuyyMalbXRT9Fx/iAe/2488JGN/1x81T0EQzMcIItKYEopyjKCxDDPj0SZESt8\n",
       "uq1Y5OFqF3pGBBpC0MjV5LcVoX/gdauv8ToZBuWSu3qSnaxDhhoaTwF2mtkIae6iVijVr46f4c1P\n",
       "6Xsq/CoFdVuzPSxJbLLuMx3z9AtsGRNbS7ocdDZZSAdIVHZVKVHhclmNEWrtZ+X3xkyVzTykKLZB\n",
       "/xrMk19HD+wDV7jInPlAQj7rtaKH3RtEZq3TyprbtY6fmQhzCBCg+SHKXuEGTtw6uJsW9h3OVMWB\n",
       "TXN0IvbhsjfSew6fFPF3ah70Blb9RB1MV18aVOdPQU5Hhvd4jtdrdjac+Lz7LxluSg4HG8uMG+ve\n",
       "dgACq6h0cVj8HjX+nkQ7T+MZ+YEsH/+eIDWysY3esuusy/x2xTKs/7zj2z6cspy5hlHscbnrLU6m\n",
       "N29hVUMESYS7NC6bpO+X4RYz4pCNFqmVQCGmp0W1peKp5/FdW745LaxvNi/jwuWbXX++X68bde6v\n",
       "+805QyT3QOoWX3Pw0Wzh42EFNFYb9tBC5EVfp1k8rzUAJBdyW7RF9wtpCii4OQY/7iwzYL0fF1sb\n",
       "4c/f5xECiSP727XmNt26h+5Jb3hlmierOa7fWKjhyYwrlwQdNP4OTsZKN7hCCTWz1gAk1JQP4CbJ\n",
       "j1asLExq3uSzMVUK9E5Vh0xpE9q+DZSsFcRqKg+NDPizxmxfIAGWU4tJKI5UD6IiN6UcXhsgxlch\n",
       "zHXQVAMmZ5kFA+eZoZTm4VJqVmE/Q8ZgmghgUf1RMF6jN+1hylnzOZSckFPn8G2d55lWFhW2/qtq\n",
       "/Nj5bLKCQGIHJT6zUkbvOhBVafd5N/p7U3GoqfjYP4mj1t5sYdl3vS4trCN7W2XegmoMVP8+DGld\n",
       "ycu5aoIl2lgYmc3/orFsjEc90GutyT13uDt5R4PR7yBHwKw37OhKqeJyAHi6+bdiG99lovULZE4d\n",
       "6gA3WCeBAjKBgRL8fZrT7MsvrLYZ2gOhB5Me+aLzoqkQDOY92VeUEDfpGXf3FLKGKK8MClYeO8BR\n",
       "9i+DBTPNQ/t7PwDkL1Dy/2LwxoP5MDVxe5kqm74Ta72dqnbVnEP+wpBxvD/Nb5awjQMe6Bl+wXII\n",
       "yGlwzI4kItZfxW3in7pfmx/wgO2OatJdR1Det58XItCWj0nQ+o1X9i2qLeznpxQNG/uBNJYx8XmZ\n",
       "KKM4Pc/3IujhlZMtTOtsWu+6tyN7tekPtr115JXjCS+DXcY1EOX94mnY+iOhnqHlTdJJKPlNvzU/\n",
       "fBGNZQ88iBwGrGgS/sAS7zSeH+ozja7m/5/I9oGBXFeF//oAAae8a5RybJJNYEe3PfJZp7yZeQi7\n",
       "zAxqRDj+PWrYc/0Ho0KpSh+PRXFZ586eyXspn5x2oK9dplkAEkiUkXihQLcj/dHEYBhSBvbYjCRa\n",
       "ikoVBxoocFJPTjXBxDbiHEMwnYxKNEh8wNT/VxwIRFBV5TaUE/BIuXYVuWsmaymBvKzOsmpswgu2\n",
       "z9gTMYjqr7ZTn1OwQHqhTkfJbNZ6rSNNacjD5f+JcuqSsBa2/vjGvzEW52apqvU3eOBsVy2VeZg1\n",
       "bi3QIiOhb1ppnJkWnG3s2u5mvnRw/8YPhPCUi5zOgVbf1R9+b6ov/j+IdTV1MmWqKa4OminuVO9G\n",
       "KsMIlY5C7DjQEipbI0T69s8VmsHNAVTbcmY7pnGWpB7ZphFIL7w32EepPd9Qmer9+k16qvTNlR/e\n",
       "iepUfdrzVNrAaNLHB0f1G+JMbVVii3po/DNNOD3dTtyt6Mkv6MwomGOm2uofYQB/Qqk4USg05Hna\n",
       "Sc22ZHrHXAc4Fuj5d8bbpcbVA3EdHvj0xCfyUw+wg4d18e5Zb4cRiKHRycBqW1Mmnp0Bm22dTORh\n",
       "gvJ10WJVgo61Qnz5qsQh+c/oY+Yp2/6vYTvNK/BfWNPVJmnm7LRByk3zvgVPzVLLklA6ZGLFk42y\n",
       "3rOWboIqW2Mp0EMzrRZbYD6rIi91D6lEJhp6iN+pSVwcwLaeCX58RaE0FBDX7UqDinxA5qTIaG/t\n",
       "MGrRXe6E9pPEkP4sp1aQtMBQPepQpUGO6gNPQd09OV8884kkr2ZPYbCSZj4FGiUmhJqsmQpWDP6j\n",
       "5FbiH+z7E/KvxPjX4rgmyZ4KbknrEyQ6/av2qylEFWnXDje8RYvOm5oRzvZICifirMNCY74KOImr\n",
       "C+abJHTwIuaQKR0HxemInQLNgv2GO8tkyNESCH/kVvVaZiajybuRLemcD2CsNsvda+e6eff0BSNZ\n",
       "QgGKyXkigUeOSc4HSKjJu7VGtE4soQhiob/TSnpMUli+NWXNd42j9Z1WBF7zIYkEw342Qj7BPFMF\n",
       "9dseCDi51AZWO0PNDBFw3BmMNrqRHraUhd1SQeA4v9eV6cfKZfBoBhdnDDXwM7FEYbZUoP0OzzBX\n",
       "v8k1ad4p5WCEP6SvS8C6ZoqF+0TYcGTZ7ZTScKdQL4eZoR5n7ixpzC38Kp9G4tCE2U0n0HT7kCHP\n",
       "X1CYwbWiZGm5eePhFXRxsQc4aP5U3z1AlOPe9gLS/7ljwspWri3wMLxh+gX2fmOXcXs1Aw2mveBD\n",
       "aF5YeXbHw07WNdGAL7XbLfLBu9TFB3lJvrwbbooibgF73Q9U51Xd9iyaqe4qLmWL5LMWcNIYoCHO\n",
       "nrTlGdGkGK8+svSEo7JU87wbDyf443vVlPBMJGBjHbg9EE+GHkG97cukkjwVmj27gv7CKw1Q9fWZ\n",
       "RVLINS8Iozav6qvqjJPxIa1ZwuZPqmmK3SptulWfUWO9t5g9cFcfYbhAii25CpVn1Sf3RTEAABcK\n",
       "gWQ1Fxg6fcUT4KFvGFM9C8ioCumPpH1aGhZO6TlJtBeIUq3sEL/vxoozxrCSfxtRkE9FWONLyUvS\n",
       "U4vT4K23ly/GZ7u+7ssDeyeUq8ti6SQAgtpd7PWHzojafRuATkSeaiMWaXQLLKQ3EoaSLaE6WAHQ\n",
       "VegGonat0tHBl2ZmCjfPJzGST5qICMp6N15v4fe/3cy0zbloBFa8ntssufGtJAAj5MnmKddi2NjG\n",
       "QvcrAHeQjFUH6aWrK5EI74MckfnCiP1RX3MPQOivLKXIENrPXVVtS9bjuueSDIJdyzIWJyxx6FoK\n",
       "wWn1Bx4+Tiiyo1trj42qO3V0RdsyfD2zQXdpgDHkQKOoSbBJE5YLpl3btO/SCxnzDOA6XoXGjqFa\n",
       "cO6rDMMyRbgfMOhgtEaJPK/ZojKhLnUKJPKJwJnJ/+4f/UEiyFi3DtGP2rRe0oD7JweBtRLSK9Ey\n",
       "+a44v0lxnJ035FX1I5ZzyuLSYbdTNhpAT/TolMW254ZGZBDemXY99mZ5QJuMdDyfOdCSwACQsWm5\n",
       "yFRTu6wmoVdVeYuLhFGcFN/9oko5ckCx/UQ1ImWQ4S2573GJz9sEtiiJzFPKwZa8xpBESHwcUgeS\n",
       "TNZ6tvtc5hkEXVV2EIaXLUcIi+F1Irlb3DfSCJybmE8l94WNUy3+wyBA+fyCPxEi0jNZUCcUQK1p\n",
       "an1Glo+OK+VA3HS2YA+xgc34lQUlUNvGyvnqw+t50FwqzFQlT2ANFlglBu4KvbDx4RwuUsvmkXYV\n",
       "J84KSPqrt79CeTDNRKASennJp9s9dTWE8dVC6wOVdIiuAABiz6bisfevMsvm7xEi6OpmzWaEcxnw\n",
       "8udhNpn+k4txhr2Xn8emLGEMU/HLuQWUqQ/usgjGt6bp6NYiyTnDY7oWJUYjKETDNlPlo9twpaHW\n",
       "Prsnh3JVFysO/iohqXSleVQc2jgYofcl/3HdurLKO+mzk5exQlRKyYo/ebLXz4XlvkI+sqndVVTt\n",
       "OK9+zb3WyeIIMVixCPitSF2ijnSXDm390Dizo+LvZtBrPpqlQP91/xQ/893AIpH/j0yeuPiSeTgQ\n",
       "VvtOGnkDvk23Uv6vAtXs+dbI08U4tLfMnlB/7eod+0Z3P0woDRUCTaIX9DLziC8tFPzlCwabXD04\n",
       "upxcdZQ5km8vVTYB5f3JBDGi+ePgpXeTJ8vhGtlJytmjMFTe4RjnhKlNrLk3DEILs17gl8g9ge2u\n",
       "TMDr+s3VedDhh4szRYW+5p+IMYSiaAIWFgBJR5/WaGF2a1YEQcqj7+2vf7du6CNhyx6kCNdjWw8d\n",
       "ogOlqyX/M2Kbzp7YoA9mstmt91yrAEmzy01zzwK5jQOCAiBSlnB9NWlUGYATrz9sTuTLeaqZsPcG\n",
       "ocM/VoNOTz9chETOe3EzK7lE3OS0UOE7TYF4CyzYMD4JPaGX/XD9NoACnqLYPW2LIl6ZOJbOzUEo\n",
       "05tSnTwhLzQQH4vhH1lct714pPojrzUv5rKUyzZJD/1nTv93JMYkStd5JmcJchD69H40OCTu7KS2\n",
       "xjJIGShuuq+ASoxMAOw4gh+m79N5P1IjJ8ri7C83dgw8f/Ouy/ITCgFlX2q+U6YW5WIJtXrLyaZN\n",
       "5BSsLSkmJ/nYtyYWy4AG94H19Cpc21sDleZS6mqLtXdtMmXTdnnttZNO2sHXEybk1mjEs0mTWizD\n",
       "A1QR/WgEKVVt80Wd0sx4xC8EwfBu7CVGgAya0jFcoVBQZBAJ6Bf+6TtLqedd0rScMwXLmJq4n4Ko\n",
       "MFrJG63IC020Fs96eA8PA7cPki0ukb2ftzslVm41IAcDesO9dnfS4O319XgU2ctQfVzsQouNmlmJ\n",
       "3DS7flK6aapZg8uaglUjsEve1iSiEGwLh2KtoN5Z0omj6L//GecNJTz3klJtZ7tnPOFrC91RpPzg\n",
       "A6MdPBm97UIJSNXxp3s7tqpDLjVW8Bf4WOmktNe0f+sCVWIWDzkbSq7I2P2PifCMGmHZJSxWYUI6\n",
       "CwbQIi9N/bBevbTmzfjJAqAlQlSldbtc8tcTj0h10nspGF7VxWJq/7FiJhKOk9Eir+OsXsFtoOlV\n",
       "4y8K8a6Zq5boRpID8EjYf456UK9m3r2fvfDkvz2eIsC5cymlcMPbF5co2Bk/qE2vHvG/l4+Cu3IF\n",
       "CreABMZg/rqRBWsaC8qgOhOuF5Zl/KvdCdToHBE95eDiO47tFxfj7om7Lv5+JHh+2hhhBVoB+431\n",
       "TIZvDDh3qK8buQR75JCe7kJBMug0DCzZGDeyWaiBOjYxHZ9iCEUhbwSGkfrrATFHK0Sr3BO0v4Dg\n",
       "1iNGvu6shnxoWKsL4PQknjoYI9ot3PDQT+ktIrCJwZNILeJgFgxx8QaNAbEZNzypgHkKQdDHNyey\n",
       "vRBKitMcqQ7IQxOHCAjz74+/3dIt4/Vn/0ggPWrLmUFtiWMQDEdHjT6t26vccAQAG6Y7okmwqBbk\n",
       "0OWNLS5R5T/Y85OrjCKnC7GeN69BBeDwrOSXBJu4qtreZShfDgyNH8O7aSfsfGvhz/imTtbimOyv\n",
       "//zAaoFuU9yJEi/uAGwW+IFFMIpBZt7BH21mWwWCcQ7QxVX1wSICzIEDuI33hTavW6uB/AOTxjQx\n",
       "lqKjzclp1nCQX8c8+U8oI6B/4EFdVdCI4bewAqSBkkUPqabgD6sOqIkFXyPuoocKmD6ZW+hJ25vM\n",
       "S1ZQqJU3eB9YLC+lnDidKiStr+VCZLVmFWcgb/vKwOYZuw3/AptD8L5lw6LBz8IsjSxk+0W273jK\n",
       "kB1R6EsV5dSqVRw/orSEuVrLaD7+l8sylFL7MIOf9bvjZzizetqMX5BJUySYN/e86PKqe+X8fBIX\n",
       "GKH2CgUo/Q5mW9NP+3/64oZAQzW7CNYPKPoojZRulWJc7xnrLbcgAuh8+k9KCBUvXDBCWvrHgQy0\n",
       "e6QmSH8cee2srCYkatlJlqwBC2fqPe5pxnR8wg8118jJCJqKiCC5K7SHdeMYjvBjEtWFnqBGaejl\n",
       "bc+IcEWHCdxN6b1L98N/ncdS4W+M6BmXf5BtktNei8Rk+7aSxw0WWrwWogomJ6PG9exy0CqXj5JU\n",
       "If18pnMJrfal83KRVDkn8YTu+k7hf8rVZm9QoDshXNkRHo2rpNRv4TXHDZK2R1ebPYpGEKSgMZ8Y\n",
       "Gj1QWDmz0SljzgHPessfk+VAq5AeNh0Enkqeb1KGFd2DAYJ9E9vNIZWaPrZmkCgZ+zZPerQkQE4Z\n",
       "tFInwyCvqa0912Vju7PH73b/s2GYPBwtUpuGOIF3FyUu11cKx2/2ghbSJG8kBWk3Gr+loeOQoHZG\n",
       "EOciOKFVx7/2150EXsU6yyxPH/fZz26T01g7Y+YImI/rlc7rxYfHO3hshuIJBFbz+3cSMqE+MHEP\n",
       "/zW20B0majJS2ZYmwQRdMwe/LI9EfgOPHaoTctXGV1Zws49gzBcQ/aOv8WpOTJ19z+NOFTVwUiVd\n",
       "qq3fOhmnsjZ/b1pA4qG03ooH4f/yarePBVkYfTRB22WFxrUVPwZsZ5bcdHMYMnIkwxZukR/Wz3EW\n",
       "mtLp55YZBqa5yw26Hjt6C0c7zKRD9BmHnvC4F3/0WR7XcEHkUZNjQZbT8p4hTLhTBkvr55tSQD7F\n",
       "An8gL88a0hOrIBFdplag6KWBULaN7Rlr3wJ2v/4BSWBwDeW8NgqpdllO2GE9bqTRJfKE4e8wTEwo\n",
       "3sHtELOQzYVlz0fLT2bho3R/lAQSpXOCDyTb+LqBYX+rvNr8/KEJa25R5di0dTAjE5PwIXG2miD/\n",
       "uIUYl+LmC7IWt08WoAolxKBbx3pLE4Xwm9gE0fswt5w+XtgAtd0lAj7Y/jlwDtlsKjmuEKjSJcko\n",
       "zenkMKpbRv/pyJSHbc//f6p0GLbGBaFCNAeX/3SO3oIX2OTPjd59A4Zg0Qtc6rj7YzB1kqmDfZe4\n",
       "CbNhJb/mjbhCYUXbdEgXau8ot7BmnROO1n6qvDn+dPht5/i/7kYZ8BapX+Kgwp6gPSRfkWQqgwgY\n",
       "Csq/1sa7xkskgjCT53fQ+DvJzXyaEHJSSd5m/ySNnvwqrHdxl12Ibjybj0o3aG2Kai2n+Vd8rVoO\n",
       "zBUOu0L/3kcmvLP+eVbBDt3rV+tNjy0VTqc4vq8D+THNiEwjH/kVQ2yC909q4wD3wvw4E/yeyHLi\n",
       "MWjngxWPMIp7uMuvo2SlEEtMHhpXQ/ZidpaKy14CUVIXBIB7JcAtgWupy3SDKlLKqoQADz0Nzs9q\n",
       "lgZP4xs67RxrwPtbysDxx/visg1sArJyMH0Rx3G4oPr3okAyMZvY/NnRaYD52bZN4sCZ3EhEmjz8\n",
       "61qm9Zt8TOcyDCo3D35KEmAU9nv6HJxz7NY7ntepzLhRDWfbeSErwxcSDAyVXew3X75NdsrVcVZs\n",
       "467AH5V2EgMcxMJQGUezf9HtZVnoQdBiaJsaNot9uAiCGbuD6lmuYpYO0k+Bj2aV2pmAvhMVhrv8\n",
       "XoXJXYwDb8MX+SFRmUoRUiX39xDeBOtB27aySngO7HRE3CBU8VelzqEsx7PHxI8CkpMxGKSU8anm\n",
       "u8i7u04e7iDqjVXMrUMisSBKIBzmPerOpBuNsU/19buSaAAQNlA7jQVKNiJw0XYqWzsitf8Tx26f\n",
       "t72LDV73A2L+rQgU9Ma5Hyp+hClqO9cC3qYY1Ist+KtuXwAMS5E0G2sRVUlaVK1MS+Fkk8P2T/dN\n",
       "S1lMyXUT/StQ3076vIiR+19jeGHOttWpLAJRftIAl06z8BGs1nNpAlq+bXlNhuAqcJze8UHxxyOk\n",
       "IWy3wXHP6/tAaoFjgwTF2SaPdpWrLC4ND3unUjknKBs+hFU2gNf2UDUg6iQ4EABMAvXCcZem6mWd\n",
       "AojkgdpQjO28woyG4t7T4Yq8ZJdPt68joHH03dpkwCsWEKCvQYt/w9BtWQmySWYGFlbDy5QY2ibT\n",
       "RQXnqpLSO44IfjysOSOzFzdFgVy/hx5ksoUablcWcKDpuaw8stMKN6NCjbCAv2UU5qYaskNYMyUN\n",
       "aJdCcyAzpuC7S+v8eDyDfunreyFfge6dlBftkTJ1bgLb5X80GuUns+KjYgA/+zlmF4NDM+9P+3kP\n",
       "Bo6BwjiU+N1bfJxDSeBfi1uPxLCnBAh2kXBbhrPMqSTBalaR4MgRUV9Dk+C8Q9Y79uOXyB7GARSx\n",
       "qFXyizUeQG0O+6F9ZtJKbfeJNLuHG1WY2HLzmyWNCGymvLiQUHkYQRa/F8ivCN5GYHzK1ypPvojF\n",
       "ER9aoCXHt/rP+y90XsPDCOwlvzOK6no6woB0hGLhfzP/Zqrf9T0rKUqVbqJjsXhxisd3MXkgeN8w\n",
       "rgd00dBB/usVp0FPhh7w/+x54RxCQ3yeOx5oqCbZerm36luppx5ljcSnHLTUubeiQEqt1sLP+NNS\n",
       "RYOV/4IH0VprwMxDszmZ8pnbNZeIz4imglVeEKhB7/rD7CDsAatmxm9z+DarYhefpzZFsMlzAwvO\n",
       "OuhaNkNr6SK3DGLproGlF0Fle+k7p7iky1Gl1IyFur+DPoZNaiuW+3sJrkXDW2h2l44Ou25OPJGH\n",
       "3hzmakW/5ee9UzwCQGnZPhgJirD9KMD3XaRv9D5UfevrwDbmQcRquCfSEawVuGdW+LBsJzbT93cK\n",
       "oEWIxYyJVpWoP3Ey8Hj4OjP6W6lYtD2Iq9LZC6BLy6y0fDtlbR7yz80rOMweJ5TMdCNdWDnP1yvM\n",
       "6Cg6pMKHyKVMkG5lXXM42B6XVk1eSGsx/g4xNKEMD4Gdis0hy86W6AKE5gKme7kNHpGZYfdQzDjB\n",
       "C6D+O7QzExxYNDuohUANTBl2WW20GWWBP3/YoAtkbgsdNZxhkKbsEd9TooGTlot/kOWxt6f1S+yr\n",
       "ywGnbx36WDcFQpVpz/L/xF5Ea5BdsNZwgGEMnBV9QcEB7RPTbLOoojA1t8EugngWQSgM8zwvH94b\n",
       "ybsKIoYOfNNV7DUtr5NZF6l+t7x8QTNrvutgCdmaUkGLXApsTilROtf4kVkpCKS4zzNH+wXk6PP/\n",
       "BzkhsQCF9G2KK7bgsESMudxjOY63n8R+vc2i4GfthZrQQZF9Ss/8bQoev1S24z0IaVB2WFN1JOAP\n",
       "J2fZMNpKNHKxymRN4PgI6wi83evRH/Mk/czLk1eHaj15Fi731swn3VjKTGi3qEIrkxd9eCv5q84o\n",
       "nB5qdVpGMPdy8/oyIdz8ZNPMQ1JQzypA6l5wBVbv+NnnxTSoXTYJkX7J4pMa3tAloj7WuVx6LMRL\n",
       "8UBZ9loOrCdxuFDJrPE+0Rb3vojT6tVYt0id3THu16hem5/Ev38DzvrEHm1jf+07tgEM1DB6IiqA\n",
       "CP+E6Hn0wwAqtG3YEHS9ByVKMiY5EAsk+UZVqrM6RNfxxlgiVhM4TInAI3onDbK9+yYvxqnsVE4o\n",
       "OrCjZUOn6eDjMXYkEBH/lr0hPsTI+qWfJAGLbNRXMA/Rc4wzbIAGAL9Ph1S1fJtbBCx2ByPClymQ\n",
       "dhNdu6TQXrUeOnrr3NzrtduvSeSTJ46l7j1yWHd6TL5/2jWN2V7oRd/Avugq8SChAZP15QPygwbA\n",
       "XjH3hJoJ3tX4IzzXJdIw0oYniUga3bPpzHv1ded9dWrL0tcWFCEIcjzEzoEYGFajIIrZsrlNGV1N\n",
       "/S24EGCoEnGTUmQNpb0RCSNl/Am6LZREP5KJ5NU7kNiv0/jVyrud5ZuIFHdsbnZlVJwwbq4U7d0z\n",
       "0MZ5apx9BzcRKQtBMoydJ45z+Qc8+a83VWLS0tvVj6qecmRi5zwfYHjC+FIkGsh9/HOZXlP3jW2u\n",
       "GEC4jNiVskT+9rKCduZnUGqFMEUmJkYK9DHuTv6T4AhZCMggfWceH8yhIaemGMBcjf5SGFHuIwda\n",
       "o35K5vgWtuDalANZzLze32TRzHB5SsgcsFkZvKAhB/34xWJcmdsYbch/mgiDO2AEhwNnLo7+Xbkj\n",
       "gLf2/78dq0whPQmv3s5PumcO74+fS9jSnyniEKHRfakDxTe8yRZZ9C8RFsdZfM6WxCnf+ndvpMdq\n",
       "uq23p2oho3seOgOoGauvIehykNDaRp+/H7kqfWo/crY0hdJ+nnYt5Q+7xrceN4g0gmktjSsY8ge/\n",
       "83Tnn9Lu6KHUrBbxUJ1b/fWlCoeLSx3ffbP65gyFI9scTQkWl+86Yji5hsGrn3sZHC/bTm5AELx1\n",
       "Wf9sLFmaKfqJn9yOpo8c35yt422WL44yzlT0lFLTeqlpGf6vJI3qRA7qxItfr1sTGxr3dTCaV2aC\n",
       "/lsK7R5UTPKfSjj0GDQdSr1yCoMJldiM6OLkCVRy0PSfvWS6lQ6JojKi2s64OfBr3mn9C2ltabv7\n",
       "v5I5G8n0crC02U8j8Bl2yWjztJUYtH+cPrkTfMc8HM+a4mwviC7gzGx7VwqZ6wltFKQZtjMMavyk\n",
       "ps9gntcXjX2FbO9Vr+FZ4d6iqwNFzYdVWYtR5W5RqOhBAn0eg6U+edPu469WVE/m/C5QQQJkNMYg\n",
       "3rNqhSYIKQ/182DwBjAHuXofDycEXfwL7oKvEgpoiL96ofXLGoLZYCrwe0E72r8EZ5rkulI+Nukk\n",
       "XD8Nqpo7Wkahdz0cR6Z4+mGzu+UrHO7YqxX43167nva0gfux4eGViAkHgKgSfm6cOO3pQDkK3QVt\n",
       "hZXfKMD5NStiKSxVbxgnPtsvO1b3rRY1u0jsu68d/1rW7dXxd+ISyXTzTldx14KsHcwredYLEyt1\n",
       "/GJWZqB3QEs8Zk8Qw16sUOv5MvLuP9YbuHn4XLR0F6hY5XW8ix9Gi1MPxrJYvViaXEqbpuxylFwd\n",
       "0mj+lbtdHIDeC1sAQinsl7KZ+cnzb8FtyzwsODtFB0LOf7uN+4xfmeoUATUNxfa7F2kkHGihwUk9\n",
       "7xrhppyOvHYtsLoyqZRGgGxqA4EIigqqAAHfLNHRiuL/Fvj2pHQWSDJbEl//+khlisialdA6uDrK\n",
       "vOsoTLBr1orZD0Z7soXCxFsNWJtGALXtJcOLxrECOJOvt974qNEbyRfzOMy49S2zAOfPSBozaxQC\n",
       "8KK8EJFXAeIy1wBh7ACIMlTaIY5cAWi02heOUzkzOOK/q1cJMTrVqu5KFLzhxjt3UZg6N2LnNlW0\n",
       "B68UwKf4K6OpOW21lopm96gent/UmjoldYtozMG2Tb6YOzR2xj9v8ZxbQfd+wh+3I/ZbWRx27KHn\n",
       "TkVtsXa5fIXIQ070YTmxCilVH2pZlqrEWzaix5YEJ9iWPwy+I7hx3ntc8hmfYwy35ts/A+5NYNZd\n",
       "UDyfTK1kZuKBh0BnOGK67/+XV5gRMzNtMWApaIoDkM+UvA03LsKPZtwj9cANgcC324gcJ+Ie7Zn8\n",
       "U5mm2a4rl836BKiMtpxbGTHq5aq50hI3kaJl9ERNksJLMHLogkrI/3dLk0a8MFqhp/hh0C9ZB+PY\n",
       "as5/TMyrpoNMjnGf7DnJtuGrqTBgux7Gl7bgtOHw5/yZv/goB8+Ij1M737TXA4fbZMxSwGlEElcB\n",
       "OHUQhnstZA+4gCU1QHRNBHV+HM5eTidaFzFnnDlyxE0ifVckXlKSOI8cO1/XwybxkF2k1wBw1kXc\n",
       "8Wmk/Of7gM2U8E4ft9FWvuf6nH+n0hXnUo6u7ivahD0X7ShKoXguAmSNJHLZojiijFMKUOh0zhSg\n",
       "ZyHY5XgABEcFpd9cXlBq13PG4uqwiZc0QhioPLIZVmZP5aXcvQl2Z0muWWU8t0qP5OFG0CQM32ki\n",
       "x7d+++AHd3k1pE4iSK9TergI1PWfwdvCj12P4gUKUW/1IMlzuPRRABF97KnMwMRQsW4xAEcGmara\n",
       "5RCJk9ZIZEuvoUPjIOSYsBaP/lHOo1YVdC+bTJAPrSNHbH66lb217/xqXPf9V4/PjtkIM4PDjAhb\n",
       "FdchqKqU89seWPnCeclMQXyIG3ubX4FNom6RS5TAzyAQDPspjepgkGIkuyCfT6K5rLPX1N8ONq04\n",
       "2yfVGtaLnzIuBBNON8fWsxph8fmjqoPa/Gwe+XsfgrOq5AanOeemH2qX1+9iXtgNorycmUaxPj5C\n",
       "GR2WyM2KxuBPw22YwaLDF6edomLCFKcePKPo+MmcJ5iiIilD8XXB+dVrHZHhRWo7A/5oJwVx59p7\n",
       "4jshnGAFXmk4AAAny9H+JNdt7H4AF/C/z3Hmodbg/zOyn7TP3jaoBgmhpVFhcMtKtyJmltqSpcJo\n",
       "IgIgHdC+nz4OH1FphJawev2xCsHvPN2Rv+6N9KhzJ/voGw4F+oLxkTYhsxChQNZ0B8M8+MdLs9ZN\n",
       "ORwuN6+t97rdzsCw7JqtcBQcuUI+9oK27Z5cdXbBAY5YNjQU01qKdRYqfBPVgAMaxnFz7DXk8Tpt\n",
       "z8USzHliyoA+dXDGnez2ndcNAgKpB+v5/8bA2QkRgvaiVgpKhiza/q0zTE+hASjX/R0XrLfpyN6e\n",
       "iGGGln52ETQcUhmINV2u2h/wpWrmHrlp0ToRPdvcjUfsit9wHtjTNSmOL+lk1MCukeEpmZkiPXbE\n",
       "MkpbE2eNmqv7a0dTyyx4Mtan6LY2vU8eYz1Elb+yDgAB9YtABCRtCPGrTUR0OXecrPpYlFH+P+MN\n",
       "058Xsj9ew6LZTtTgAgh1z3LwRkhKo1bpmngycVn7d5VsLFn4JaTvBohIbRNv3vhuQn81qqpgU1lm\n",
       "4b5fFM++yFdxDRzSxwFE9LMxK8ExsF2T92FUUzIerZGXWOyB4HsnrQHPcWTq7JJYNq6FJYXVKDJy\n",
       "yP5wB1YCDm8vimdf9rIVeq5+KNqtsVjgTiKjTD+VD4/cuK6QH9I7WlwvuUUzslZT1ZGh+4oowzho\n",
       "08Nf/9Pu8wQ9XuD3u6jurHPhuiazoYLzwIzfINXRTq+36VMLs1nJvcVBVEPqnhw+/S3tudoP3VsR\n",
       "sllVJQ3vQL3uK4J2C3Ans/dIRF/GdYDSBUqZMSpMa/mvRXMR3E7NRYz8EFfvQdLTB/TNDQWZvn3u\n",
       "8Hv3po0wnTeRrYL0zSpybEKjpz8KU7ndNHdq7Zms9vRbp4L19m/79iwVgpK8eeQxGvPJm5b/mcMd\n",
       "gB8MLgcvnAcY4x1hE37vz1bjD2+kFBtFVL8lS/5RRp0S+fyD1GIOhQqvBAVPMYeajVCREYlDNO8O\n",
       "SW/LpWGGq3xN//5VkwNxLWlbV2WcwDQTPnNNrA3WPtujPQAHCAF1acx8Tax466wpMcNjwpZdcx8n\n",
       "r/IWLQQqljrU8r0OnLi7gt25i9EIaN1/zbDryIIqIDGsYEwf8MoYnC4yWoJNsB6i+pgTcPa305XN\n",
       "JmIwg1pp6dS1ZEjky81Ajdw7N4NgpiJ+FZfKE5rFiniLZXuz2zHsphLZ/KOVqHlabwPpT6RBHmjA\n",
       "tu3HyZCX7hXqrGGZeXgpC9REwidqz17Jia88WyrFsMk9zZJzJRahFhyUasikcxHyUSNEpt31EPKf\n",
       "Di9hRHcs2sKDyvVUk58F9RKom+IT0xcy97QZGY04yuzF86i0pZ14ctOK0LU8nONnSTL3BlN4a7NY\n",
       "NBwLTyGtUrG38Q0j60Nbg1pnpXGhCHWC9RQWkwINy7faqvVM5roEw4SZYIDqKpvZeY2BrxplqI6B\n",
       "bRrftp0/FG5H2rHOi6u8WAAAAwDq4Ec1VTldDNnacs5IDktmiEuFaXNppBlZUjkbSmMqsg4mPu8O\n",
       "JQ7AZFf2NCXQ5MybVOzzBZ2pxYC8QAf9tRfOGs/Yy/NgFr+X0lEMo1l77DctlDEPBb0xJD6ZtA2b\n",
       "EhOpelOOH9fT9ejEDlqrHMeeDohX6d0gd7Wrzpij0OkhInIG8OirJePRsDTMG/2G35A2XDpxS3R6\n",
       "wZNZ0DFF7fQFwfYVPx4deWht1n7ObX17YxLznTnCV6Y/EbbVXbEHcGMuXnCT0NSWUsU8kik6jeqL\n",
       "61rWyY9JthHJ9aLEnzlnv6M9NHx5v1XokFYC6JB0LPsFyMCtTHahn4YPgs/PBCQkZ7e+Zp1mZhdS\n",
       "jYNMqsWzd8mcfEOUVGsw6WLyy0aT4jSnYJsmJzg1L/jabt2Wpo9EmK75lQJGIB4YU0+YnZ/zivWm\n",
       "etZPx+/hMcJHMeDJv6XwJ4c9kaiF/zDjlMT5ZrSryw4lxWy+QwJwsjQINTV4JlbylMTFPeatuAIF\n",
       "t5vOPY0+qmBIpmdD0s1kapBVAcGrNFzgAgLu57tskR2Pm22QNNMb/xvfJal1hHFY1qtHJQLl7/4E\n",
       "uXiMBMi0YsBGAs3RwvpybRh8QELBQ8x9ddZtS98QSKdWp9c4/VY9Kfv4XlR5TIgnP/Y8euK6ZVf3\n",
       "VR7uLAQiXABVK8LypjHzp44rlec8TbUgRvIn1/Mz6ipQdKqSRE6NfqR/+ifiksRYvDW2Etfd1m2A\n",
       "Af7TItxF+LM3d+l9BxvUVkvTpzZcBpPjTCTSEmbY/bUZB1926SSBTNefSevEahI9ZUC6e9/7h19o\n",
       "NLfD2myt3o2QVrCBWMbLsSLwgZs1Ba1QTauTmxC/V2HRXITqH8NhHoGL1cPdBKvWy8JLrQAD4pF/\n",
       "8uuEVDG3cdMy7GiYSgtdNwzbP95GHEAp0yfXBrZz2D85W74ttrJCv/prk/3lx1vWC6A7Db1vNF3A\n",
       "n+Mg3nswUk2oOWnib5bHDDOzgIq2zLwvFYnTj6i0m+nIH2+Zbe6lnGaNPre/BgRmflbEb9Qbi0S+\n",
       "etfOQmGKXPKZo3G0ZqEfohNMpoPU3688yhPtoXBZyMJxakpIJ5paVCoeLX5JMxGMqcW2zpeiwtHo\n",
       "3X89CyLV1Kawi35Q7HgUjmZQdFl0BKF1r9dCsTWuwD8hIQFU5lR/sQXibHqb4TOW1y/pLVEX5ZmP\n",
       "Od6VCAqdFwMNgaTEzanvw3Bwz1yBk+ywk6Yi1GLt2vIMUO3uYyLw5gSZSBxUw9Z39wMtqmqu3Rkd\n",
       "S614MTUnWUCnNqrJ9UDyXyn2bXu6J+n/DGt0nQ1Ku8e0xp4/2AcOzZEAqIzr0TYIf4u4/c1dNh1K\n",
       "08Hlpu7Z3CZScGpym7L43it0jOxdDrTjf+GHRJJzO9RpW8RJRCbLDHahdfZJlwlR6qfMQFIpRxbl\n",
       "bjFW2I6YbjJhysag4tUp8ZQUm7Zr9UH5IKS0gmwlTn1pk2dpFJ6xOZvFDOJlcUSK3rRCEJiYnvLn\n",
       "RqVi7oOv//iw1YnIFdg5RmKq3FyBhvaGA3+QJnX1KQ85W76Ew7U9i14krVJLmbnLLLEUqn14x7Rx\n",
       "ASNBOJq1xFHATq6WzYF8+GZiv5hLyaaw9hlET+LPMayqbJR297Yqj2bqyEkSer2hZarPZ1h5C/Vi\n",
       "XKQFaWS/tKXHGn/DoWb6A/720qGqIcxDR2Y7GCZyrO11G2wmlJeRyijujwuZSjR7Hj58FYRLqizy\n",
       "XJC6PGJbU22ZzCWbOhL7TBii5bNDmgYH2CgKiaHTkPOBI8DBaEPBcGqZvGCrLzVOGxTPP643+8bF\n",
       "8aJOscrZFv/6KWuVaNN7pThJvFZU/MUleLW6ktE1tfccbmoIoisD6noCPF04xbfr+m7iZfm38crI\n",
       "pN0kOhNNpnUBHiEPtNC1/eBnTcsXBU2prD9+l70rta8a0ybQJ6rQpGRnbAyjQfGCr7zkH7f+JwX2\n",
       "xxudoX7ECVQvSE2Lot57ja3U2dX//yJR1n6FL3syDtRjYrdwoHu6wOYDpmkthWJSdIoMNaQkkvAB\n",
       "I1g6lTVEGLxqqeCESIfL5i18vmb6wZ0LQBHMu/koKOodB1glnFP+amVxqwJ81wvTycZ1pegQhUep\n",
       "viFomivR3nGHwO6OVcY8czmfWToowKww5oNIxrqIQbZgjTgcFqzJsvMB4IM5eu4p+2IaHd5wx2Qi\n",
       "1uxdpBL8NNdKA7f7xBhIusdt4wIZnY3cQm/+9x402iSgZhNLzuOkgEdJZzkvRGSWCSDL5yo56RcG\n",
       "BY2p+Bz4L3D2sibiOJEisq7McK68Zq8tljgVnGKjhB0gLgjRuyB9foeu9e3C3hnTCMk5fs0VPFYv\n",
       "+oe/P9dyGO9oJP0HVwF6fYNGz+1MgmjdSdUCJGsV6nDu2gwRbBeorXz0bamI9PZiSzK1K1wp5ISK\n",
       "yln4bU6R4zAlHNmlcFRr0YFzF+JPwOF2bnM2CTFZ226tHE9RTMmFtcDl6JeqdJbkqK3rQVFhtvzU\n",
       "rCdxuFDJrPE0h+zRHhr70GouQ4GARNQ4Wr+WfJxldDL7884GR3fjrBOqYPuvqYRe+7hhFMVuxKAb\n",
       "FCXwf/e+e8WqbIokqk15INbPUBZ6LTd5C/bnpCdvMAa/SQ/4uxpHpYlKm+V2rE9OnUWAfth1E+mn\n",
       "A/swEmH4Lb8DKcTuYENgnJgTj9QOVpuqN4+H4AhjQVnDZyrOA4HXbJNVfkN3qFugreifz9Ak8q27\n",
       "Jybw0LuLaL1N6mSfiUe3wsg11V3tgSLAFI+snYcnEwZeZ/k2GvC3hb1Bh3M3Y524x0kEp/DzePk+\n",
       "BbObLXMCoGDRs/sxYxkrrN8AOT7AbYHJsV72r+c7vdrylbPFEX4Egdo+XaPgiV3I6NIzH85SuwNb\n",
       "6aOcQLwiksNwUEZv0mgBJWLKhEfyer7DQAtvhVeEZ9qrrx9XOyVKW4cFp1/9lSx2L/y5Zk3n5ZQI\n",
       "MO1E+oY0UtQ5gPY00hZn4AGLOjILtiTTJ5Ra1ky/UZaf5a6c+KbN2GnrM6qKGpbUdYpItP5xb+dn\n",
       "/2qaeu6qckAWGlFBEnmMTgfL3TDpeGhKN7+vZkg+zr9D+LQO1XJs6sF0+/Q3II6vihblhJ+cRQEY\n",
       "ZnbX/Pc6cJDMKLGXiOMwoZkZhsv60ojAuRq4fQGSdcyF3pNVokjBVwMx6kv5NTtjXzWYcXGYB5/c\n",
       "DZB5mBt+If6hDj818DQZn1vgoB8aJOF6s7RtXQXr2Blyfy4ysD9aeHAgJU/9/1b9TOEQ9SICGtAD\n",
       "beVETcBzmIIqZcxfOgLZTPCn5952BRulZ5ts6vv0zXR8AQ2TaLbnpRm1jeWBmRJCT9vDliMrnNy1\n",
       "sEpIpr2W29ck127JKB/cp/ijBS5DzgFnvidp+mfJnZSXWCzHh/4+1cRA2aY4+rsn9o4i7o1Zz/d0\n",
       "XyUvKlJdGNXc9uc4snjdHhOkRmTiIT8I2lEy4dlQpMEAofKPNg8AYwB7l4tXcTgi7+BfdBV4kFO/\n",
       "1P4rZPa9VsGyuFcxAgPUbQ7A4Ro5GH/2pwpIr94X/kIXdfpaG/2NG/TPH0TJ3fKVjndYlbU7omrY\n",
       "2FupeXmMqfpjogJB4CoE312ggiogMZJtf9YchW6CtsLK75RgfW703z9K7IzyuEe2y9XMLPkc6mqC\n",
       "0f9iou/3kuD9I/25gkK+tzpGtgwxUu2pQiapu4Td5R5QxAiy4rGu65eYYguuVexRawe7/QHDY4Tb\n",
       "2XrFh4dQeEW+n2Uo3sZh00YV/v+VUdiFxdh1N18uuL327+1JnRFSbieAXYWCW6z5bvXQqEknKM/h\n",
       "1eBHJWlYbJwtfgSZBzsCmalgBfMEPCDk/T7b7v0OQWc2aLqKYjk95EmJCKhE3PKUNj3TZH/KCjOM\n",
       "YAAaFeq63RFTDqQfybgjtWUEQsXozPKWo/nIdXTZgdjdOQzJLVo4ISW/FknPfxygtSzqdhD1aVKs\n",
       "aXQ69DTC5UV/iuU5KTPbXRML9R+md3Zm8ot7m3c0N/ukQBmRujL/iElQE1OMh3zWxdkPPMo+NTpk\n",
       "/mltULNJZGo1GuuSHL8MG6E9OVFuQnA8NMxZiUdqHmKgdRjeUK4uCdsGTQVoGuU4e4+9YnezQ8jH\n",
       "lmgCZviCokhOPaA76jXeOE2r9fCe0upbsXwNVsQc6Ol2m8Om13iptsvODria/tCTS+/DZGAAAI0D\n",
       "dWeB1ou/s1FA0HWD1wwLFIyCVrkFvJgJ0ZrGDwpjYGJ57oPlpHxHlwU78/0ZH49hqzn9D/e8wBWl\n",
       "bDSRWOBGLtb8Awo2XxxmgY5Oq1xmQ1ctGB6DPChAsy9nl8TZLzkYY8T83AoHrR7N22UvIQr2Wsgf\n",
       "cQBKaYTd0j0C/ebOXk4wm1zFn2MVVDj/uSUNyZDUQB7CjuLSi/y2fF4ersD5v0rysItXD2cDsgaE\n",
       "pferum/G21M7ioVk9kIQbBribHL76Du59V96uXcXKJANQ0jX74pYAAADAAADAAA3IQAACLRBmiFs\n",
       "QQ/+qlUABKGRwABOxep3LZ/Tfxl5T9wKJigRgBqGL/9WRlhJn9VUAEa/gau4e4d/9IC/DSKPP3kC\n",
       "gj7zqanDoJkBJ4oJ3MC/Csj5zUjwG7oYZreuQCJMv///k4kj8JoAjtvQEKVXcKnHeo1Gw+3Fe7ax\n",
       "WJQPmLjyDP59B7i3++hWdTWtYmhYVrRGYjgsCjpQ8xyw+q7ettxR7f22Nsh4IFcYeHEIz8zcXelj\n",
       "qFmSiKuwfQryKqxE6Tnlmturkr9EIZ0MUFTJat8qT+3uizSMtfjP9tZCR/galAj6HHzeyblkTxnp\n",
       "vmY+HQ/kh015YgPguIKPu52kwDJ5E/vOhu6wH1DgsKT1VtSJAKrdNrRWmQV+/GgN8QmRW2k7Xccf\n",
       "rnd3vK0KZp7d2TA1H5KlfmHOC5y97//Wey12O59Rbz+Rzc2m5b3sLQzlWrVdoU17lThCCZpxdpl6\n",
       "qHHZ+0gymDMh+CFK8nuisxMUWXDCBnKgY5tiV4OAEBQ0rFtKlF8YkzZ/meEb2IYE74WNVKBYsWeZ\n",
       "vY3Z5bu5cfzegpaAoee5543V210ebknCqRTHEZro+Q/7LRjRc/MOA6oq50F3/4D+NW2kP+YcEAPP\n",
       "JPs3/EMHHhcMFxq36mZEkBD2oqSQGpUDX7jZ8uQRNyfnzdVQnbOizDSWATBkP/0oXuqIK4OgJ7Dv\n",
       "I5dfM07NWxytUiBzKu5tmHMLwTvxPU6Pc2arqn0p7Fh8Q8GUyDpARRHTSkBJf73lzE1rFeXHSl2M\n",
       "c6WaJvIWiNSPygUirDarZ/vz6aB0j182Pje56m0xX2a5mWaYx967Kv5Ye/3UIsxY9Bnrjt55E4pD\n",
       "gb+Y1AqN2zoaevo+2OzvXMWpddDVnTZUwHZT6ozn0CFeSOPu+/EOrxfRExq70nXs8g6OVA5e9s4f\n",
       "GNFuhjrr4bVRXlul3Jef9HYIWYDZp+pBhK3Plr2B9Z0JRhLjilZ6voqXLFaIgBoev5y+mHorHgQX\n",
       "WT4DPOORLqdVjtML4aueQHLZaGIe2HJFrR92uDo6o7DQm9/Z3iN7jPvq8z8UTEoExDyHnUplRr2K\n",
       "U7R6K6p2yAET6HNLGj/FiDLNb1ihMEoilXcu2vxLPa49vTgVXFav3zebpHBCFjh+CB8GtIPZAQfl\n",
       "45mFvI+QK//eE4bJ016m40CLEzqqVN5E9vHVqEfSGyi2e6qlPR18f2WxDzo3nizv+WwwDHaPINHa\n",
       "eCFBQvNEGgPWu0SkbHbjCQIGQxepIox4/S0ACWrd3FZ0MZJ+WbdvYaugz+x7tlLEFijI+elshcft\n",
       "96oxW7RMwRrRVJxo5CkOdyZKe4FOPV4Ib4rFyOurk6aUlRj+H1ZAYhHjfLbSvJ0y79w+SyO6SeM0\n",
       "EiTUESKCR/kDVH4LxSn29sS88i3bhWdbJSFYWYMdnav7X/MIVAiigDD/ixLx81c2FAr2ChZPDoaK\n",
       "b3AclOPpCCnCJqwxq5lHkYCI9j9blhTvNPujS+pT2bvCQ8yg2JQkxqj85OSbtrmHWqOVTekJ+evM\n",
       "QybZkdZgw9w2TRfAxLVau80ZfkvCSL75qNljL/UM++bdAxwGU4XHi5+b0La+9yAlCItrVWTTv1FC\n",
       "jAxEu0moNjaLf0t2Y57jUKKLyGNtEI3KsbBxsXQyLRWRt9FVqwNa8sY80Xn1angsi7WsbxEV4c22\n",
       "OwJHs0SvXmCovMilQ46hzLge3utQI72RrDTIG3QUH6dX5+QcshBzz0sEu2C3sZkbKcIeke/wCggI\n",
       "ExcKhNEbsocW3QZwNMCwEARAJ9hxxqRYDsiDdqiuu+dfUXV8R/OfK+2+PB6Z/A60VVDc3QqoVO4M\n",
       "6DyUyOsO190zjZtcbWlWcd3RxOwDogxDTFz6Coq4zn3R9sYZrfTGg+KYSAW4HuRFQyEeLKdo88lw\n",
       "/LJGybtIYpvNBci62Fs65ICRuo13JJUltJwHICNKEg+LwF8mopE4/O9VxTtGpl00Jho8DWd2ZSBu\n",
       "sOetalmh6JGuACAl8GABB/qsTFCtkkj7zmLO94Wkanmr1Cxad/A8D3p6TZ6V760c4qxT17gGAKu+\n",
       "4knVNBzPJNEOYpZHRtiaJT5ORNv02VoGB5EIxLnpYmbRH2TM4X+wnS6FMrIByseJ4HVz0DqK6A1p\n",
       "zeMKhkrSekAsSFeGgeIZEcOl/vQlrI9lFp7jdaXVMxoAr4U7ie0MiBsq/V56aIjRgEKXEZfGmAv5\n",
       "ROp4DNi8RuyVbTc8b+rYvECIOcQ05tORVxbWdm4HFQr+XKEIXmQSnkR3pu9bwPCnpQUIIHGHXFXR\n",
       "8rBm6ssqqkKus90BBvLqIV2zeg7agIlHUtePDOl0aaAYIRuCL0Tb84OB4vZZusYWU/lX4sAB0+6m\n",
       "pfHHfcNbunVf3bCwwwWy9pzTFKpSIw5fYPZN9Gfec6bIfAELBDZwO7Tyk7LdQeTEXbDsxYu6f1Ji\n",
       "nxfu2Dqv5TCAra3o5MdbPVbWziUrW/XFnt+r5Zcm2pwWiYAh5zl4p3Ytlx+dJlRRGQiMLaLB01nK\n",
       "ob50tKphjWDgU08xmad4nnGEe48c6MpG6DtmwVMrtmvfFKHyinzTk1DfZCJA9Daxo/yGzi8Tk/b6\n",
       "RgMbSHLf1RGICrUa3aIumUf1zdJnoY2ZkoN6xQO+E+NinyV/Wh18ipRPQiZeIgLFzu3vMMYml4q0\n",
       "rYbpwNeAW+rm3PNDj35O2+HRJMOAcGVTDHNE81UwC3vjfyf0Ik7D6cWPU6JqKtuKyUIR7FssWstm\n",
       "iS8Ei5poJIaBZCBNDb8pnupoGzwkwjvfNhnNitEbQ0DD0Jh19XL+hEZK3XOmPBMyAalrtcBFpwKp\n",
       "WoOdTX8fJ3QVfCr563R8HgKWaPSP51hCy+8I49JNsxP9zf0B0CJ7gwbuIM+kxvdoIWwnV5aMsDLy\n",
       "a3Uk5LHZaw3QNVcyV4HUCEf/XP+JKjAMo47HGoBdx7cYotaWh9oFwJY/XX3TuWUl1n8k9XZXpPzj\n",
       "gAAABgtBmkI8IZMphBD//qpVAAO/8dBItufZ7t7gQDH5b5uFStC5EJlSLEuaY56P4KS4CYQKSOb3\n",
       "+Z05Tmkac9rfjjn3G+jVfI0kEJPwsHMsTbSb0ksNvxJM7DtHcUou2Qd/SAS2fF/xc8442OtLaNnv\n",
       "0OO/cj9CrJT5rz9wSs7mM6VnkuLcebVY/Zuz6EYEP7ifZf891K/jB/QC+Q0Rjt0CccKDmO6vKKv1\n",
       "xOso2szdYms+hZd1WiC9lmfAc6SaUB7X8WrfPyXvg4XzIxGnPAFzZCExkFHc1oAEM9coy+MRdU5n\n",
       "6pGTyEg7sA9QdTA0cXBVBmEZ47k1y1wVbOsi2uSaq3OBiVAq+znQA5dWlwN19QRIIJ2OBpNwditR\n",
       "TXrxxL3tBFv7UKbPOev5At106IedWxJ/21eX2tduvqPzXrKVmQAATQ/r1ckq+upRy8byJwWb2cWl\n",
       "VfBgA+5Rf9Vce0/I569lWuFMlDNugaqpkryClRnmPXtyl2syAvv3BtY4ukrcORXkTFvPxSAQ32mG\n",
       "PFkWH3eTCviJjXVSe7xe3ZVOY2fpBKL/5FtIcXGVDWntHJsRiXDbsuTtcSnZ91K2zm1OIvtVsAXo\n",
       "3XdlmNsFcOy2a2Cuh71o5/mcn0rKEHmWJj+KSN6P+Uqylzp4R4IbdSMfowKyBP0uw50tRkEBunsu\n",
       "n1fQy2bBImhoozGMbNK2EjKwS4zPtmOech9gwWeillz7emAv6Ikc9BDNibZi3XKMvvq56KJNjO97\n",
       "Me8DLUoCrclHgsWr4mdJxp8IVTYc9Dv86D2LKuCr2S21MeTKgsbwW2KkSXLPjksgi8azd1VrnhHK\n",
       "JQ2q/kO0NTeERgV5cUOgU67ZqOjTDdisBjhDLCdbxteux6Oq9+SOfNhpfZZy5jX24IHLExxniP45\n",
       "oefGDQf69x3EkNe+/He1/imaqxTo0iCBaOU6AXQYU5nEZrlmb0s1BMi13KDRCQ1Q0+AAXpIi1r8g\n",
       "ZV9JP4Gs9kOgmCDBoRm+dUWxWCdV9+Eisg1fHhLF/rFSLO5sLuKCobcm5nfpez060SEVuCKV8COA\n",
       "tE6QtlQ9AxnAFVrp8UBeA09FCCvN0nHtH/WnVaDPai/JWnAl5Aafg21jOe/sL2WSL/IL9Ln9A2TT\n",
       "dyo6KG/fCnQ3SUYXMaMaM86RvtaWHRCup1UQUFkK9PdsDolfjCXKL0bLQ9Ao+2zZRdY1cRjvdPsm\n",
       "pttLYLIIYYTRDYMv1/Hh97rsyfPdvkPyOIVHqh78voWoa452tZad3WG0iohM97rwJD6hJcr0en/N\n",
       "stcCoRU+OJgX8RjdvjCdr954Jk5Mbs4V289OS18MNKtuAWk/i4Fqp9TknMF9Fki6xNMBhRZeotE/\n",
       "qxTiQzEgubSv0Kf+7noeqzEzlkePSODzpOwqhhc/c4f4RYo0C/QB5GKFoKgStFlp/9JrT/4oxKmX\n",
       "jiEYpHcoIhboBr2iSI3pB42wR8fnZl2a1N3yE6AUyqVabYPdTL2OuNIGz+ix3i7hDmak1v5neKfS\n",
       "DrImPtcIoIgNSg18KVdQ1ISLEcYASdJbLPFGTk9n0P715TTZ7VS8AtubytIBt7pPJOPTTz1q2vYk\n",
       "STGtty0tA2kWg21WsVUSwFwgQkD05gghJ+gpTQ5iySdEFXkfY/elfeYqwoW3MZY2Br30FKF46lWm\n",
       "7q2SfzQydXM5/s9DT2U8ixpRxRQfot0G6vqbXd6Rgf/j4H579IBO4Zt9TmJY3r8fbO6WjMT6Rf40\n",
       "0pL9sO63tFwH533De7PkwH9PJzI9wf3D16jNy/pmfCqyjeASC4rA79uD3PFZx6D6ZmRCID+lcDIA\n",
       "+jmMpXnST3C2dNtkhSq9TeNvvdOWjY6baPQBXDUds0pLMbU3G6SIoCeBXapuc9+sDNnXeIMakOMB\n",
       "jeWAjaeZNrHt8dlcBnrXuLIoebOuWA5z4pCxM7p3D/vr8ogyRvSGth68rbKesBVp8T6mhjpriRE/\n",
       "JWp8JAEG/hzipJPt1R5973i/oeT9fu8ckR4R9i6OTKrkqV5RKajhgfonJgJABWpbtmpaICO6PkvD\n",
       "8htMqCh6imYV2IAPSQAABntBmmNJ4Q8mUwII//61KoAABqfp7Fa1AH9HNMqSNdc0dO/pVdtxK+CT\n",
       "LuoI7RbOrBlAK3gfI1rdbI5iFiuFScAtIsDYMCr0+J4tvUtaceFOeqngN3dkQrHP1qio/HJwvw9C\n",
       "oZB8dOojsKIGR1CQhFtoUtOJkavfXK1B7SugjBEzTNln/uTiv+GOcTPILic/zXWa8Mk3Fo7SWmUf\n",
       "gp6UKlpYBNc4itxJi6oj/1d+w2dC90buCgQuBB0mZhRfj7o8Ypf8gbXnUhOkbv+KVSPhqSVSrmyM\n",
       "MVgteppHVbkI+5mXExgWL2kYitFEoSKH6vzRRvsiul8mrjby07tn0I8TPtHKHS9pz1bGlQA8MPWd\n",
       "rnx9KMNK/sdTa1V6sZp/BLcJqwr5WzXBBx3MVS7F4BQnLxSbyQqNAPLaIkTftKyg8EXzPK1pt3MG\n",
       "96FkY4VCvFcO1eaeywgqhURh/vFGBUt5/v+qwduE2GOzLNSs0K0MSCxpwdcw1pTFXadLfilNBR2j\n",
       "NiB6I7bNT6r2gllgYZpfzi7i0EVoFMgLZ53fnLcr3GaOezK1vOSPlNDkWX9rf6naDBjSht4Zjike\n",
       "zXrzSTAr0ro6X9sNU1EHy7NeCCfKBeAh8iQ3LxUvcVVtiVNAd6NcszrJZNacPbYC0Z9Odkz6A7DP\n",
       "ph60MAovlLYGgxRURXJ01kWchi19UAzz3PQZbEcopku0yXc8AXUG6Nfw6HraDKBSuuwGeW1tSM+z\n",
       "usULDEDigKShtWHAUv11RDF2FDjmtNf31kGYZaTdf1JcTmLD9YR9wt3HZDw5pPXk2HwUL0LF/ZjK\n",
       "Hx2NmUlVYF/vkmB7fhzGCTwkh/VhKVz+imgLgykS/DyTVcIKgCBET4VWYudZ9MzXfauxGae4JpGm\n",
       "QaREVOR/o90PU8J2rLfJsxOewI9klOAwDUP9o46lk/MAc9b4AZjEh34ZaSTd285V3jjIrQYK5KDU\n",
       "1pMCDws76WFbYb4iRv7632mb0AFSgCVmou5QbcGlkZXc5jKUqEdIWK+51ROjrWyBuuzLgWnRGolC\n",
       "FdkoUyRZModn4zui66oBHaDj54OE7WRIsmD8hDzIk0GvGOv1gWbeYM1rdjccVzN11ebBqUVPsdcR\n",
       "h9HZaaDQ6fUQlpT0t5m/X9XEy5KXTfnNICa8mDOJXg+cX++3EhhabY/mC5Qmxya4Kq9L4aej1vF+\n",
       "WemtITdZ0MaKO136/kVMsDpONg74nLRMf5EXhe0yEnv2uZLRX7EyP+kM112gzM+rND8T5tL9fcmL\n",
       "H15/K7xtWF7KQ+ogSP6NFHrM08aRryV78VRc07d6jh0unYx0Ac7RVeiIJhf6GQuaGAMN2n7JS0Qj\n",
       "voo1CgJYpAF2+8NmsZo6A1x9d56prqdZaVzFrDXaJ3A5F43tIKTQWf6bFCnIVi7ERnFucxuxfsvf\n",
       "CB14gc1vfn6mtJZLwyf0CBSTn4S6nOHPb55OpEKBBnRKFdDqeBf9xHUzvMzLf1kXlVh9NiYfPuzT\n",
       "kFGqhgtTEl9v82+g6+dczt0m+QmtNydcI0ae0MTa7noNx97NNaAkL1uCGoR/mmqck8kA/v/FL8gE\n",
       "faOQUJaK4c70+H+j+uRWQlzrKvnIisnCuPZNAAZykzmgTn5nQv6yaWpR202jT4vqFHPwioKPEdjP\n",
       "opHHKkU4k4chQfOEr305MH0Kekhs2aUOyn41+ioVYhB1r+FOEXkQD81FgJWBj3+aTZztWyxWf/lt\n",
       "TnPuGncvVPo8BFX6kXDMdr8E71j2WcagfHWzZjrFCRv3t4BAdryJAk/AyWn9k5BPqUceaLqdInEC\n",
       "v/tLYcvLWwFIN6ZxzSYxsAWLNrFsYpbJfOWb+EdQWsNtq5hXlheZYTdm1Fu0lDmc+VwCAXpScFmx\n",
       "dUPgYJrW2e6rXn48Qu22kxd9TK9WhrS9/Fvvwc+g5o9Aa0uDiMqq0crQJvZnMXnCZ4KTLa6R900K\n",
       "T5dldefumVyChH/5x9gG464niI6bb6gSm5dSA0t05dHYY13aOmNSKacpQ9hnHlNL2B/6Xf85X3h2\n",
       "Mw0IoSXQgLRaw4enViVXwkz9Q4fSgPkS2DD+yW/gCK4D2iEq01ha5Yry4bFpL0mWtliMq5EHB/fy\n",
       "AigVwkZhVnMarNhBBsAcDkDBEr9RBYXDB+OlNQAUGfdhbCwImtnzpQEJHtBoW1Ys6bGqebIdu76Y\n",
       "bD4jLMzNufTFuMAXK70dV88XdzncAk4AAAm2QZqGSeEPJlMCCP/+tSqAABbjZL+jGvPboMgBxdnk\n",
       "VpjL3focdAB95VyWLj+q0UTbZ9teRui+EqDhmD3vqiscWqb41aIedvlVcUDU8Ox/AUaN4Z7B8pRW\n",
       "TN0ZthVcoE4BSm6fX3X8ZMDfBt2S1atTRwHDnyiE3JDQd3Mg7oUvazRFyUoTcyBTZHittievrL8t\n",
       "a+8APYZTqUxH/CYrFIDU2pK03G5OPQqWpguwsCwLWQYekGqdgpTWyZwerKpmIKfhNaYx/YKqEPA6\n",
       "OPVhrjyIZYhR3FBAq+r/bmI5Q/kGkrqmrNDma5mbrgHSQKtToeB+ZgXaUaGOesfdMhwgScD76KSO\n",
       "/hWBX4ShyjSyPRIsDrIMi0pAx9leDKWSHueDOzP1Fk5ZnH/U5gukvl7QvhKx7GroSjrFq11gWSgB\n",
       "ZjQg/opf4PAcMtUiYyZClbnPVD5LQmlDoeuliOgjKX9xScTMhSdar0R9ZLore77bfHJbGHe/dxIf\n",
       "29bPV3vEx/qWcGoDndad/xuGTo2aqoXIHjGUvz1n+8TmAzSo3mAYdTw6Ir3ZyjmargFV0pRCHO7V\n",
       "xMZPaU+V8WDP7qxbDvAFYwfPqMWPH1HqtLURkcuSJyJxCe9Y1NvLJL0rXWDVprXfThrih2Ix7M2R\n",
       "gHpQoGptQSLj0XznaQjAdUMvPTIr6PtzaiUr/LX/ZdhQNvnnwkGwAc5d8dZjRYiCpsccVk3COLWL\n",
       "KvVvQ3+ZjP9C8wlFzQbI54MgLwKERoSfUbLHMFkahrTihrWFHq+F9CrO/v7AjWgCz5OpscV3Sw4h\n",
       "K3NmSRXyk8KIQjTQ5cj9V7uxSutzIfQFabeAbBuoALEhkw4jV1U2BYfjovvrNBQ6xlkhKmuB2llG\n",
       "SR29VD97el+EYb3aX4sbFdHeQeSvCBOtUbFGyDPyDhAD7uyVuzpZPEM+08YrTyfNDSDBArOhyKNt\n",
       "9UQo+6nz1F2khnTBQuny64HuU7vBVSBbrRRFdNj7bY2BepPIjT/K0KkbLzpcm8i9HhCuIx47+wR7\n",
       "lsoY4l7bFKFoQxfSgaLaKaoAY0TdvvoMoRKqJfGX2uFM1GQghjvdgR8f/hTzNuDx/0fkFVMrD1Ez\n",
       "xOzu3h2kW7uM0qnaUJrKv+5lwC4vInejCoyFyD6WW3fN0/0EtXv3HcGjqxMGyO4ULgWUo89GDp44\n",
       "1+H3xysYWvl4dWkJPDEhc6jQvRuGVQmBQDyPc4mT1GMLvwCNtt3+H5CUrEB/3W4rFTAcphegjWkO\n",
       "sX4EMHwgIfsd+HP+/8g25mxMsYDxVy62kgbBW7HKgC7ZEDZRuHXvx5S6cHDTeOD1Yn+uNN6YNaF7\n",
       "Fe6Ws++SumF1bSRlsua8QBjQTUO0VdK+6wbWW4KYdbI2Tsr+6+HkS9mFW+j0sGcGdhZxeJyP6CQu\n",
       "ku3r5pu4H9S/rFSFgxUlsdQwFK2pn6Hmkgd9NTTkgYiaLIO0ke5nHQGYVbNg1wIO/2MiqfEXsybd\n",
       "2uwY885CYDsVFhxbrVKe+AW6NkVQQ6+WV2FUTmyD2Y98bq2hlxiPQudOFTEXMMFQvS/KymJc/+fj\n",
       "9ccwQ3686b4YD2WM8CW0lgzjrcdxkxQKqkm8th1g75GWoOpUeFhLiylvTzwO990M2Pt9Gcdht4l3\n",
       "R2T67emO/pMIQ3Qb5L+vpSBnuj1ZeXexf1uuln1/ePilYBmZbeanl9Z8rJlH4r1ubLi91ym8BvIv\n",
       "kn6NWzC53uDc0t5SfAl2tdS+qiprX1T9pSWwpjZRbT6Yv91VPyl5CuDziksTsGkn0+3f8AbUqGRe\n",
       "nSAlnnCjTwLMaPBgqNaCURq83wVXj/+y3uDv5g6n9RWgci6lgOwjjUrT90zXJwZ8XLPNk6diVPQy\n",
       "GYNBh27V2cAzTCQvKfshdP0kr8o6s38YgfaAok2NDEaW/3uoTSXtrLm5GzhUyqQULRowdVLWrnkl\n",
       "H3Xv0NoMoh2Zf51Iqi/8ir/WEEXmo2xEdBZSCcfFXPMTykQhLnynoD0Tco7bIQ8I8XV0snKvXKbm\n",
       "WP39egAAIHhe2LIYVw9OfIBug760caiUsQNLYvWtPFVLajMLMPA3/EvB+l9heYtyEudLDJuE6ZLp\n",
       "3M8lec6FRIoW2g3FJWK51WfH5h1nckhNu6hXyxKT3rCPsrK1227Hrf++e06tMMLkio/u4dJSYwcB\n",
       "wzOfpSxVvi7ypcKMjVdzHhkKCBWyYaGe9kiImrxXUkBUUnBSdqQXdruW2mj5qEvFtMAF+LgpIudT\n",
       "4T4iVlXfGJ/3cKOvFe+QgnXNieTvO49D0roUCg92ix8EjusL+RTaqYxpru5bcmF1NwcoA6MewZjT\n",
       "IA5EbP3ZhZ9ok8qS6Zn0Oqe8w5xiX+cmYGKyzj1VlOZX+nxi3Imy88WSCEBleK1GU+Krgu3nwIdu\n",
       "onHEvm6ztuNTAVzKsKab6Zoxd1W+GLgXZ4ZtowfwsjpnF7P5Y+SGnTpInxb11CwJBXS/OKNSqM3f\n",
       "4tIbPn9iDL3IEolCELA6bHIUEc/wqf3Yaxzo0vFG65v50Ck5MeKdTPTH2w2PWY+ZuaLlyQu3XIzw\n",
       "UbAuE2DWL4ogvp44kMFyK6LjKKgNaeX05r+rfUuYCWyZuGpO8A/IS/VJumXG5XW5ZU8fArZ9fyBY\n",
       "hHdH/z5BCDv8xgxZvGhohMwnp+nmyAjR6zHGqLC8371mpet0pqt9NMNPGeGhI62jVP8dntaTLUSa\n",
       "bqltvogizgkWrIUooDxa3WoszvS1C79DCGo9cPGi/QYXdUMZEndRgumlrHwjd0scVmD9VfFNInAS\n",
       "8g+kWhpqmTkAQHoATq9ibSq9fAqyI4ZKHBwEttGj3lFeoAYSngtIhNk8/ZK0CsGxE6kd9s6K7fQ1\n",
       "0ewcHnuupIs/C3BdynzEHZmANRcDMEdzWM7eau/3Kfq8Kczf8rDqhBDkD0gMIpG2y0tfreTx7byf\n",
       "8twES4pW0O42WvZaKkBiSVXjBwYKYVbHSY8uspF/laKkEKZEbZAhBTLMXobbUeOgdgtIBHoHVO4t\n",
       "EtYRPjovVdqlUb7q1rqYAN9zEOZ3apeTgmshQB/eITMx+RUO305QRUSsPp4H1kzXcP0iJ7khIhh5\n",
       "wIKy+gkQNIjvoLSfKAog+HZjbVk4hVoQPJkx5OSEd5C2lGhuytEXDV3OVGeaquXDJ3EIJs4YypDI\n",
       "RIcXpuHbRYQIJc/tq0yow9u1k0SL8eGFXNJLL1vodlBA9e247KOXejajync6yLA/IlrSzcep3TmH\n",
       "WKbviOvNuvDj04wjLJMY7eVsTdpemv00AQgaX8RyND+jZKyc/rHvfjiOiR9lHfIv48+ZJxAgPsJA\n",
       "FLkQNsEAAAMyQZ6kRRE8N/8AACSgmPpj/jr08Z3AC01fEGwki6LJV09fNls+oCU6yTFWfnypxviz\n",
       "0zpiJW/FF4lKAUCTdoppOR4ZIKmYe3JiYs2AyTFEqnrLyV9A9SfaD0PW/hPggmmwzvXeNY4zqPqk\n",
       "05Slff4tSB5i/mO00S2oWFsbcuP+11b90uWew2o0uvT7HJSCjwYTcb32ITq4xEXs3SVRNFxmQJWc\n",
       "KZvEYsSyfy+g7/S9ImtSYzCXGPrSsQmpclLnt1xJXPVLqDPkyxBogW8yk3Or0/mi8Ft6BsgYwk4y\n",
       "A0yFRFI9TL7Vlrbs1c9F311qbcIiHEMtdT9GYdYOzzjyVtKNSE+tY1y0HfWQayY1z66PLUobieEI\n",
       "gjH5ge6B5CrP8Nw6X4Jnh3ph9KwRygvieBSbGpUFKJrhmtB34ele+l3qF74PsLE0IDQCW3C6ib7v\n",
       "gqHnruV1d+0aszvNavk8NxKx+FV1GNxwssh7ZeTteQuD2/3x8lSccx3pyZxGyN8lVRx8m7MZnUit\n",
       "Mzz+twrVKcJLp1k41oav4M+M/l6K11Cqwc2yrqRYvVrzzTSivJU1lPEi95Qyw5BDEHHio9YcIcLO\n",
       "XdcbEkSWq35wFnY+U6GJRXpe7+Ct5uBQkULSNPSNHp9HbL1In0CQ6tlsfEX3TQV9J9EmXz7tnCeU\n",
       "GyND0kHa4IzLv90VIqaRtE0pLKU7Wx9Bjpxfy+7iSIsRBl110x8GTC4OXbLfkq6EdWA+c6GkiH0U\n",
       "d9o2Mgkly9JFucN2u7tgcNluLhhmoAtMToTj8tYxRQwToKKKNLs4v88tFrMa/436+pMmZ/5oUW/5\n",
       "Sjx97QVBbKeXDMKvlrHQHbIvyZSFg9iMAAEvs3SVDlmrPPE+19ma/gogiKLOx7FVCZfzACwfzqlM\n",
       "aEAsRJK756YkcpUTcMDuVEGCY6uk/cDdWW3X6H/VqhU6thDtxd2ySw2MnjFDIf/qt/d7ZoHoE+fn\n",
       "HvWb6GuifUXL7Enpf0a70nxRlF5cdKGMQxj6h0lYyN+lqhWc2AEc+yAnei91so3w8CQKe3d+0XvA\n",
       "mj9imD8dqbA0n5lb5AKdbCa264d0Rkq52fWA3oEAAAIWAZ7FakN/AAAktevheZMtBe8l6ABdRvd4\n",
       "V7HQgmCkwKh2I+GxKySzEEryjA6tCZfxeEpZDopcV8mWA2HQsscjOkupL9P9Zhs7pB4OwZgiLwS6\n",
       "9F8z2FqoQwK7V7Mf6pAnPGLKEX6adAzeZoKGIoKOiv83i4nB27bJI3o8rLiugY+XhFmFI5LSAlcV\n",
       "EBXtS5ONY/kP1bILw0TXI/xRNsZUPZEfEZVITB3VJvuwvKohiZENGeQxVWCQS06UgpSzIsU51t91\n",
       "zw2VOdEON4czODr11EZjx1z6j/uHVuJP3FsBK8PJgSjtcgPhhqAYx3PmimOFhGc0aFUHQ20dT6eM\n",
       "ki9tG2KxveqtDdYWkU3v8UqEW872PE+guD5f1UEOlZcTbn77MRRCuU/Yj4RJ3px/M3lWE1rZJud7\n",
       "iQh3gd6CgLMdsrCPR1mmTxxWmlCsc35nIIA0aHQCPgH4ldZkH72YQtCmNavkCTNSOcb7BJ5vjlKH\n",
       "11Fw6N2xxoPfxRK5GrE54lqNg7t/gOKlsrDviIUTejRADeP47m3DK2b2/VdstOGei2a0/nMSmS3i\n",
       "A/0VfBvcx+KmfrYqQCO3x575VpEbcEUcDeoVCRr4DPsS0uYIB6m0v5ZzhXy4J91vykkVxJyIFgCj\n",
       "j31lOj/+bdzzCrE3ZkTprSkJKqr7qKD93mm08kcrnDfWf5eU/SSdJCHxYyEdYBzmLfCWrAm5AAAI\n",
       "n0GaykmoQWiZTAgj//61KoAATh6lPKcxsfURE8FGsFORx3N9XTPflDPp/ipNGd4ieltdFinSznv/\n",
       "rKZpbqBf9Vli7B+dTpe5FzLFMxS8u8MP82aDhVPjt2zp+/oeef5UOL+PupjJ3ODmXytqERNDxXNs\n",
       "wHhJNhobPRLn6iFHfOFSctKe3ycw2W2hwpXkDeUNBZFPQ1S1DW+p055ajRFhA5PEPUjmkKDVG03U\n",
       "4fDb6eEsWNJUFMl40Q7rFmm/gt7IbyUt+KBVGdohXzeo8SwLOyf5DF9F8PEGykfNkvLMw7NTmO4T\n",
       "OmUnef7b0alPrlJ1sanu0nml1XhUcOOEe2V+4l1BwU6CZ0Dp23M0P9MF5X5KawSkIKHOcguBxjgM\n",
       "NBu+5ee3ukmF8nQ888nXhoBUx/BJ5vzWQEBVkELb8ROs6mcXI0nSr42eqWTw/zbo5PbHVem4IlfU\n",
       "6JDfW6EKvdMWytHsgdUPHxsAZiO23VAHK5DEmzAVR9T4F+gsCcvFBZ5UTCB6d+Fum0OfsSlTLfro\n",
       "87rUV8pxjYcITuo+1uHZbKdYrb9io8LTesVxmEuodPRyhvLI5lIn9VmgYWy+IHaqp/po7yLurfkR\n",
       "yDuNqslZ6cnTei/6srl0kAqIkgD5ALtRm7DKtvexEaPW+JZ1Se0FQHsla2V1eO4bRJ3rrCjEUPMm\n",
       "zT08C0HXkLXX/1+Tid9Qvw6zdCOJ4BYRF1eoxxB7y8s1o8gXEmplMxhLiil2TTu5UVJp/PFFVPv4\n",
       "TyRitWlPIT0YNr22Rqhuw4PN02OBZ1yKbxpqxXM4yvBUlhN5tXxTbFJK9e9dH6Wx6VASn2/CDZM0\n",
       "CL5B4LOdCZpZGoyJpoRdyjaJHoJJVvqnnGGSeEZ0K+BGD+e0wnovD+omGc7QFJBETNU1Ax2c0Yh0\n",
       "TyiJL5De/n6QOSFdYYnH8OWc4RVb6Z+V12H9H/amGAv8p3fWMcUt/1WKONdaHqIkFEiS5PbKljZe\n",
       "9NMd5IdNymhF1QrsSVQFZxubwjjB9PW3+lo/awAL6YNIq5i9pfaGaH6zJsHBiFj0hyoGRUKfvOTp\n",
       "/zKJfJEL8F9faJYYfgxYMtOCZf7tdW246CKiYFH3lWhpLwPtMacsPmxDCdcSS2jYmJpibwZfolTB\n",
       "icRVcLe4a8cC2iQr/myBBaSx8sMrRMP1/9tL7syi6r4silRmaGHdt07O1R79qOQY9imctLYAMc+W\n",
       "FjtpMhSxPaiafEUf/ER40onjUF4U6fu8tG4d+qXqxqtGFkOGuyRfWvnkYtGZPHu3Z2AKxLb4KYx3\n",
       "P726iK5SenRl1fqXGXSWsU17A2lk/7i7YlRlLGIBdJnSLrlhErTiK4UJa/fzDIAAuT18rc+EihZ/\n",
       "h0HDJK0uIRLcCn7mXVxV5stGIQAIxWBS+MQoAz4Z2xwa9+BAM0+aQiJG+amEd2I23PkWvCRT0M1Q\n",
       "KXiDReqc+SDyVKg/UsToyBXl+P9SZlqUjV6GVzgiG3CAKjHQ/i1ts292QOjCt8ysEraXFu5eC8Aj\n",
       "DBNNSluytLdPZVd6kViRZvJqqVTnFn5+thD9fH7A3wK6H5IPFbTvFBgRe6V/+fzqf+XMeWJ9Lw1t\n",
       "BwwhRw+b1JCtf8FoBLt1RGq/qmudLb8AiixH2mFj3n9VEsS+GMnH3b1NcAsZjT4b20I3rllQFbWU\n",
       "osbHPZlLiXLindcqep2/+Zhk+yGUXaJ+IJBXgrcrSX/UoQryzVSDsC7dIc2UGcqJdO7c34Z1KQsZ\n",
       "MRR3S5OwUOVJrEtOqqsWkM+t+HbyhYAjsIFho2sIMY4EFdSYdEi2wx/nco7B22uy5CKprBBDu37X\n",
       "FmBHMJdq9LRgvRQk9bigdd+pRaWiDAFAINUVnnPQPY2fZwxhYJfhrElNKHn0sY/34AA1il96F2Ht\n",
       "Rmqn1TDpqnSe+R3oPznTG+xgOiIpxI0GXLgZwkL1wgWWgow/TquyvYkvZkdnjOA17nagX3XrerFK\n",
       "8pFvwVoo1CvaYkT1h8nhY9CtWWNC0r45UjiD2PidGv7rDNxN7Ch6CM99nV7Y68V89sS+CNLErHnx\n",
       "YpSH//Lo1BEY+/ZJ0iyMPlXbOa+pPFY14P4t1hz8W8qJm6GmlU1hx1R9SBrxpAABrgF3246tuiw/\n",
       "tTOea96csr6Cn3ft5n5mysdtgzcsQU2WS/gxZSeTOxxenZHECeADeQwEYoGtgcThppoCLxlgvodh\n",
       "s3OoO3SB1qX8c19yaHsZryJRUhQZVV9eI1lGVqyBPC4gBTVwfEK7uSTdLvhqvmDmwXn1X7BwiYke\n",
       "7uS9h3Ldh+cBQX0ZcrKAYzRWLXU8GUStQdsbyZDKzZoRjIcnaHBIejTApg3s6IITS8Sxe6txr0XK\n",
       "+iAy8CVHS8DikKsFsiUL4xeQJg0V/XHI3lJqk4c76QCfHIjwF4Q2NlicEqDX6LbdlGgGEJ3uHOzh\n",
       "riULB4sU5JcrKAHI1XFPb2UZQ0TpXUWcxmxIFfiuWdFWkoaDfJ/HavHhaXr75BRE18P7gbCV518W\n",
       "sn/ybwqXvyWy3QFHlqVZZ3ZQNqAl/rVX2yNsrz3c0QLxFPpJX6CAfj7VxZS11adR/qFl7zmP9Yf1\n",
       "Jy4vrBhzHW01HmRNOijVXTHHoHUUQ6JUJzQfQrKaC176VIs04zorUP8Iv54u9y/NmevJFgjOnsjD\n",
       "l1ZSVvQvFph72LA4FPxGTr62H7plUQqnLNg9WUZ3y1kmATSrehDdv0VrMgmMVoMiEhEvzPwPUDug\n",
       "F3oEWa+EnDOl72t9BFuHGkeN7+zPorBskmJUmv3+LIt/MVpMDAKZaGkea4ahXFusoTjUUt6e5kyX\n",
       "k9fAavLWlVtP/I7nXz1ptsYmYYGubunTdW8TnJWltFCgZRaAFs7ANT7AbUyn5r3JvjKkNnw8tuPQ\n",
       "s7hXRxahuiIKHMq3LsrQYMh+giXW8KKKV9jXTBIrpfZ+Fn/NZuHLTkFlAAADwkGe6EURLDv/AAAb\n",
       "MEZq0hAT2BYFV0vKgAmmvMa09u78Aw68+vNSRkKzRYIP8ML7k6PdH1OBg9sbmYJFA3+2FHx9d3RC\n",
       "VEcH9g2H9rBi7pRQDpNfG2phg1etjuqjYICyMPL+UD7hkOnVnxtpK4LbZxJhjpSQxT2jHFTQtIbU\n",
       "wau94VbaKTIeaga8cjraXbVv66/XfNAZsYorOigL/Q5yzwS3RxI1PVyN/874vgbdS3UDrIdkvDv4\n",
       "4ZDwxTVoPwyJMTyr//4HbvqMVcSj2l35dgPp+N4+l3cna9pviZYu8iFsjAbkBLShcnt/o9hqMqoT\n",
       "dra+i4tGkA+/GzaseeQi9uX0V1yfQ281TGx3+MYvj4sl8apbN3Hp8iZYfHwI+2aN7TNNM+U1ggg3\n",
       "iDbFHZ6wWakRM14RgCj3i+pafgq2QJ86Lc0yFXSnF+YyMCc5nxaYdhmKJlaEy4PjmkzErD/kCDoE\n",
       "9Z3F8xy77f5bXfZWYKFHNP6UUggJRZCA47NemYwzgp21dk1h/xBivkEpvQRDuszIez1vSWO8TYfQ\n",
       "kfK6DSZvLCtg7niQQPc0xiog43YgT0JPJV5Rx8UmjYU4UfWsEs70BSJZup1RbaDhpbhTt6iOUPSL\n",
       "oGGgL7sGYQC4cPrvso/NOOzvKfCsKyMtEdhBUPhjY0otj/SYT8VmafXzzJkWophm2fImSUln0UqE\n",
       "tl9HB2mILCcFpPHpcy78OEfjbR9M0ujn8/uI1jXjxWSXNtAQdfAsf7bVY+x9PJgUNFdi+pPzMJfL\n",
       "EvoqSHLDYok/nRTxCr22GdxhpwcLviEyZ7QcbFd6+h0FASHR9nFSL8TacphFOks7N6lIg68iabLC\n",
       "tfDE5ycliVxMlaXuz+HGInWoQREp8ZLDg7tKYHzBu0uGBZ9AAAy/UF2gQAoGAObHN1hY3Gmpjmol\n",
       "bN1fKpj7ROOoNVBY4BQNQwT8OKFOgn/N8QAXxIqIPTSJIJ9ePYwPOVh2zRUfyJRWHqbDJp+ZNwJk\n",
       "/3myZHEpi/zViT3HUM6KIHsD7jUorKfb0yV/ubj5Ra9NPuhQp+bVli+pa2KzYCbAGNfE71NsXZ+R\n",
       "P6IbYw9E63ODyLkv+Ybo/8mu9HbJfsh8L1LG23DtCPXv8I0cZcrEPrSyWOh7Ftg/kjYaXFdkoeXR\n",
       "vwr+xEV8Aifo/FspwcHeGCHxInQw5agJFDpR64/1zI3E0nzb+dkALFH0CCsqfsxq/FOVNLsKJ5zy\n",
       "kPtE9rK6IUXDspS1evokGcD8QMjWs3JmaX/BYWZUpW4cq7UjGN0LAAACfAGfB3RDfwAAJreFhbey\n",
       "AEYatloTV7Snw7ov9U3TiKUnlTC4eLBByPrpWZVlzUQntvB+YZbzHSxUGipgZMtNL90qM+rthT1A\n",
       "u+fOXUP/gN5/oCZqnvmMyXjqmrLT6mRqbujlF6nNGkNqc/LuIjAMT1RxTS5IxweYmHpV9XzjZ3Um\n",
       "7t4rJomu8oLrJv4ht100cI24f2kcYeiIO/kEjUctCaLuRfqNtsN8E+W2qitz/s85v/tA6hdr82Mm\n",
       "vbN9LkI1w8ZkUvMILdxIfU9jyQNgShLZ6+AeyuVJsN7oJel8LTY+SKMFrLtKtPmbS0j9/SSFMtEw\n",
       "8NW0jo3SEldtKBYQhzfy5YNCdV2WEPLgpY0iDoy+PpMXkel0m1/W6V+ukiGG/icLjY3mTVXLehWJ\n",
       "xlnDmKPMVh5PG+7KRWyZnEGYABSKb6pISlCY5fq//ybSuRIezGH9XeGp+PBjt9qMovuJmjTD+qzs\n",
       "s/TmepO4vPVGnFY5Jh4azU4bZ5Sc+SHS9BBjRWyv4ougeaQA1Fk5rkliiRbKuhEvhM3q9pwY6+jU\n",
       "9Ldm6f6xf8Cn9UT71hMWZ5nfoAvM1E8k51xHo8vr/xQTql+gip5cuAoSgmaAgr9qrphsUoioMdZy\n",
       "5VNhk0c3UwHkVkL9fVQRlIHgRT4VHIN+ct9EM1Zlq1Iv/qFvYPXQ1AcLpzPOuZl3co81XbHHWfp0\n",
       "bR323FHzTFM+tCZCJGPMhTydxoalxgmnpkvD6nkmvFEHRbpIxL2e30U3gE0ufkxDpUK22YaIIBAT\n",
       "dAbLxFs29j0+dgM+7TW/PVjpI4Jhfu/SmM+4vmyjeMBYdlwPB0SPJZdNm36izrw4BfSnQAAAAsMB\n",
       "nwlqQ38AACazjQiaLcACVDpWMR+jibePLmkCMhNrzzfqy4deTF0ASOYNtrB+ghgiPxiQL/7Lln4Q\n",
       "udsEozZtyp+PdrMh3smsZatV/nSVsZ9/krFJNpdiBoyjmR42nHE/nfpKEgZBxwcBvmX67PnRjTff\n",
       "3mH6vRiD4qfOf+U3AMgwhoRqh85ELM3yS4u8f0ohcEPxS3LNu5HpJ0yU8q4qmFGzz4ght0/uMzVI\n",
       "QnahP34Rz1+MZfnTtYHwHVvMUywXGJIriYPd2yHTGO3RWvCYzGdD9n0P8SCjHncC8M5yntd1fTk/\n",
       "lR+UF48YKT+N+fp6gpOzMO4qCwZvqsxwsnKEyifUIo0IipInniKieA+f5BeTMZdS3B5Kzyu/20h6\n",
       "em/wuWO6NCSDBSLA5tVxTRzPLx7iMdgJVK7Cn70O5sTUyooQP7k7c/Hcpp11Ygi9lVAx/oJaCYPW\n",
       "5r2lF5AEiO9a5VEohmFrD7FhyyxRwvuw84tElj4BwQTpbS9aDDJWlCInKwBlPNRo2IGnhCpXs8Cb\n",
       "ur+PYtWO7Xo1LdUsbPU6sDuhLqM4o/uGYGRr1CPxOT/aS4I1EIOipmBdgeh1rSW4sUCPuc6qtyRX\n",
       "aww3rAq0TKn9Z0eK9T+BaTv+yJI4jOMXtadbZ1YePQOOOgp/sky0PNc6oN+Zsuq6skkOwj0GHSCq\n",
       "9PD/IuDqiooFCQW2k63Q9A2+9/IXM22RVfw0EZvTuNWTNw7tyHEKES9YhWX4KqRaIufm6XqJ7A5/\n",
       "s9/dwAAodg9/sHORO77NTuLALTxQjW1ZuOO13/4o4ewZ8f6r7q1uCP4UL8JjT5sQL4UG3sj2HiwG\n",
       "cjAM4GGfAAbhgR5mC5So5NBqyH0QHkGWW+gpfJK/bjDtYD7+7TrG3RZFl/DwE9O+TKSxO7zh3/GD\n",
       "T8toWYpmgE9pJdPNIFYOYyYZojwawQAABrBBmwxJqEFsmUwUTBH//rUqgAAXfhXPEiAo6CyppWSK\n",
       "zGWL4kHOG2D+jlEjgSK5Jqgdlho90QyNnbj9e9XO/8zGXVKWzcb6Nd/x2UoJOOFV++sZOmXXf/uu\n",
       "DRQRubR82M7VsrvkCmHpZKlpY573MAEVNrKR7q3ErCtFf/Xecx0bih2n27qJXFQ10WyezMMnMpK6\n",
       "tizVuo7bgPxjvgkWM0GDbtSs5wr+jvVIOZmFqDRM4NHGdcrswgN9IePhErqR01iqWh5ZNjZj8Hd9\n",
       "QkUSD7lsDqe7TM4WR6R9K4cCP+tvvQmYtJnX5/gmwN8n9fYpA2kD1qQGzIwDUG1oGHjQ3YPhx+K2\n",
       "MlyGSoZgbKw/74OPVoBoR0oeybBHPvWp+/jCbtnbJVXzUKrpoUUwg9uAceS/R6RQu5GiphxWC+KZ\n",
       "C4graTe5f+IKvFKGMEC/PdLtEIIQ4TBf7nnCviZswKULDtV7vtwDxFFjG7I7pbesIqFIFkDENAKY\n",
       "JPYnKAm+LjOr/UqHzKrcevHJzo08MZTsy1D47B9d/x/5p6LezsYfB5rE+WW/sTAQOj+3qVDCW3wB\n",
       "52zjJuhvowlBS63l/hAHWdGQ/XB7eMKMC8G10NCXEVJzQ6WI3D1As+GRtPvgjj5sfG+O/WsNZqzM\n",
       "Hzcs5maSbPZH+E4DVN9cWzwkoPlY/nH8Yx9bpTdKC37bmSfkWWxFFgP5AeEqvOBCPn0uhCqR3Zin\n",
       "yHQTnDrqDaeXY10VuOAfhbUWHeyA1hJhLZxImNtxKeYGHwFv7z/qizqO4coiiYcWGp484XGRUlzs\n",
       "lXbsjGRRbHEVbQyLAsDS2mmqRLQNvQP2QRiEcxQhg8VyflAjGGTM4Qt3PX0waz5TLMbKhy3N0PBh\n",
       "2/MoRDx9lRIlLx5Y/8Eg0P5qCW1AStGTkBGVx6wWb5m8wwKkFcuH1fAdY8pJs7+zhbm/HPpVN9xV\n",
       "AEjQkZUOftWgomX+bcNTL00q4vaiFZ83RTCjq4RDorRVKg3DzEH9ZlliuEWY8FFb4CXhQs51XpDf\n",
       "UNeuTGyx6X1OZ+JVmKyp8eVyx+dvm+0EoMHQkh3jwQC1aixTm30+6Xnv2jfS8jVOrWpPqjfgzBO3\n",
       "GZtxYuUIplOX5We7bNtH7kcmpVdHYVXFNlSX7GsEMpbhiyOAKMH+EgbQAQjC0iDVN2nDrAPw/osv\n",
       "7AF+bFa35rY5v9wwpTJ0DAUeeAknfrJMEsU+4sr8Kh51ZtsJM1xxvx7JEUYPeZ1BS/VOOgQt3n3F\n",
       "U0KzKYpvugBaOC00ApaRZGBMh8T1A6EevjuPoNGf+gXoh/ihMWxCVr55ymQFl0y33WMphAyAeIbP\n",
       "NNtkPV5zfB/j+IGktM9drTx31oZsMHuxkaEaWTB8tHWSOqpPGWfzjOuGrkdpiYjHm4wgPFb4+vH+\n",
       "rdCCfvy2gNx8vHdeZdY8g08Dud/MVTbKHXsOJn4gngTs0+O/ZBBxE+4EHzIVk1wkj4VReMS2/tvf\n",
       "UbsfcPgm9FTtStRsQHxqyGtqEor0mQHiOg4gTCNUCUs4Fgo2DYgWeCIOgGojEjCurKj9xqV9MqLx\n",
       "zh835BzGp8zAEc6t9DhvU34RRzgg6wq1T1CZCiY6hmp4IdPZDq0HkzSa7X7tu0TC9vOkIsnKRUHy\n",
       "nGvF+oCl8rk7kqCpvGnqr8vKkvIMxjQ7fikMS9v6vwC394KnMciXmUw12OV2qGbt4ONxgmlxUrK5\n",
       "I6Cp5hzbXMW0SuNVIDD7tlem/amJIWN79TiXs8HbR7iOAZOdEKAiQJnron4dNyAjtkhPuNuL8ovV\n",
       "94/qR7d13Djk4d3DomY5m43wpTt+d12dirBo6nJ+knXDqYLGoKIR0GruNUgfVik0NtkoOzjBfA/w\n",
       "u5FnHXBGFNjY2janSSa7fvgqLdp6v3Ipo968MtnLlYUoTxeLYgvhdx/+lZbtJxDsFlqVmQUiHftj\n",
       "zk9cGyQqscYpiQUi3kth68ekVy3I1LP2mCZbCWYnZX5h9ON0e+e28da9hq0+BucgNTOI0cMgVFvP\n",
       "y7lAb8a5UU+lrPOb7pyqtuBGCp9NNp5TsIGmWq/wOkw6uVYWxRJwjtpaHa2pZar5dGddXb4eoGd/\n",
       "XsSLzqw6v0rrI+Z8VCSlOtBX9FZLJe2BfZFBPI0IKZANZD22j9wEqajtOVGGaEnI2l6T4Or0pQaZ\n",
       "smOAUrVyDA65Q59mWNsqZJ/9AzrFoPOxWtGO0lK7tRYK/bIb2mKfbgXDUpSmX5yxnWGCom1tAH/Y\n",
       "+pINztuypAMnfrwe1WX4h1gQfLeX17sR1sAJ3AAAApQBnytqQ38AAH8KDgOhmITPU+p13MLCRABp\n",
       "mDEdjZWIZwtOLxnH9GJy+oPnF9BOWU4z0M/tp58PcS0WN4myK19qZ+D4tsLROUpa/5SekO1cxL0N\n",
       "nZ+qhKmFIARMCrB1VBOqN8uf1SRtiq0hUkJtN5jMGk9oQ3vNQfIyDZhAfeDlfp0B8lx1KNKMPRK7\n",
       "wNvESXDczIdyU38D0t9hB4tyNejMAvMXc2tSUTuP/qFQZcNV+gRFqpRr1LN/HjJ+9xeuOjIRn/Hy\n",
       "lunwmYn/W/kBw/FzIB4wAma1nhLP+uh9YggQ6iCWp9LstuCuPeEY4GkiQsVeArjxaLqK2aOixgDW\n",
       "XfEfqiu0vpmt1xsiBwRDPy38T6pJvqCCVaGXgeC6hOS+JlgkzTOPwBeEFCt3DJCpfes4dI6HfYaa\n",
       "g8pGHpM39/fLLiYLN2H57IiZPLxt+nGNTw6mDeD06OAI2Ljw1eN4IklyBEIl8aW7rv1GYptT/yc5\n",
       "RZK7A0eksPnHsULBTiNXYVehwjo3iUGdKvnUR2kUfrfsCWY1IMyz+2mZUHhtEhd3OojUmLOyI/8i\n",
       "cQXWyhP1EcAAAAMADNtlrtP8LwQnLkMco/9JmGysGk29BjmpGLqUoArQ6sb5r2KhSoXn7BVF04Mg\n",
       "BEqF7e4h8FG6pQQO8fMH2b8YW1A1Cr6Q8MCV3WQNdTVWBfI8Y0s6qazFq8bxLrSJkjFLqtcpUWKj\n",
       "TAtB1TLXliktyjeStLLxABHICFfMYcCeKBX5qV/OWk8FogQm/L2nK3YHe/rHi5WLOArYpFT0+i4d\n",
       "NM09YcJgnTSm2hBSmUMGC8c8FwShrx5z47vlei65QnAShKAAA03D+3idEUMJLG7RWhPhO+4w6h81\n",
       "6y0/ZXJjAUkAAAfoQZswSeEKUmUwII///rUqgAA0G4P4J2CAKDemTLQt+8UVx95mZa2eLr3cBdfw\n",
       "pngnycZOObG3J/gGMdVNQv+6LusxjnVONbgOijv3l3KWRlL1+hClG1rG7gW/L48hWBe+uRYdrHGx\n",
       "bXrURN9s6m4EgqpQcKzlHG067yJd3V+sZNqRhHxni91YlajOiZOhOnPyN0AsuO1wznKLl8X3MPR2\n",
       "2DYdeuZuaxaoPjlv8DSyWyVrRQNAJhdl+T/sxKCjFmgBmDgfUMDVy02nbeYZO94WGiEWs8qDTCbF\n",
       "HChPcpT2i1UDI84Wj4k7JKmaxakP6xrw3gEDIJ/ABE7N2ERWMlOXY2hxvw3dRMsyt0VwJTHLlru3\n",
       "SqufQODGqa4Ubr/WR3vGzxGUE9kvkKWplswVcUQTKaEqpv5m4V6C3KtFjCrw5Fdr0nPc0iLgqG4+\n",
       "5oyKNxakRSCHpjerSu+E3M8t4awatLkvoVQuV/tBXrvKpiXIszl7DFWPP+t+Wf9eWQQ+jvYGbXcv\n",
       "+aBS3eaADBxb87MYdgsgd3aHpAtqkkgD0ZZYe2soPPpo80iniof9+PYZfcPXl7Cvrq6S72WNLEa/\n",
       "I6c/LvXZ6lUJrnxUsjpYl5uUle3i68wN/mOLKSKzREz8XZcQj2ijMdtrtxx9nT0p7VoNla8GPRmk\n",
       "zBWWWAEZDJ2jlUEs38QRxtGhx/HnZZ4IRJTmgUvVWzOl7Fo23e0L/A73r1K62VqfJZwo6xlHFhkQ\n",
       "SGC1Xkbs4++GWULMW9K5SCym3NjY+BdW4p8Z/brhpBo9SF74UBCd4vr+Eg0VF279lsuN3tKsT7vg\n",
       "8eGbGli0c/wEFDbvyY/pyCD8I0nfiaXKWVWtN/llZIoRYPr35eelzMMDiOPRZikz3DwThDaVv8UE\n",
       "QesElSL7VQOlL6lLt2Vww0DrnuB4c3xg6L0Dck5h03pxqpaTl6QHeAabNME0w35Yh03GR5IPLUlE\n",
       "/LGZ3ZOasp6AJoGXAlFFdnKzjrkYGN+4R3dzDm4RdyDqpZ/QvbjDY+t21h5FSPYnUWDspRkikPuC\n",
       "E9TDYkjP3mUht8rlsPZ2CRY1CtvMbS/WA19tzyfzi8gXa+EgWVutGumgOCIDLr8BCB0av+LMR025\n",
       "hgMOw/nLL+P8Bk/pM2TDg5sT+jMqIJvyt0MdIiJCvwG/ydDaucOWGyzdPIBXS6sWsptFlO4Wuz3C\n",
       "kYrqGImPExJovelen6kyMNT8aEkhkqrtjKZjMr4hXG/+0uG90aXveczyfeZt3F1CfXSXg/qxqG/5\n",
       "0TD2MW404ynxGVBRIMZsuCmgoDtdsw5SbQeHBRdb/21OnGKcaykAkIlyJWUtcnEf4WUBCoFGqi7U\n",
       "8/hO0/9jgru+nP3OkBxUCokNXP0IGPjgDoQKXK+9oXUX/k+Yu6zLv0eMmZjxEWLXmKv4sYized//\n",
       "dA+dP6e1kZuTx7Dj6ptuHsp5S46juBFFWPBVtGoMZ34gCr2exk+187/Ut8Fbt+B+fuuixKrjyMaW\n",
       "aZv4RjVTVhN82wq4Aa34WFZ9n7KFvY/+By9BuLTgtmMGRTRty/73E0zkObPTFTQHMQgJuCHKOvV5\n",
       "M+3OW74NTdjVRT21yxMXV0tdwyZMe1v3lkg5aCcDURuHo3Gw3tE2lVAyPJwBl8vlJm7UvcMyg88p\n",
       "bRzw+mayUrAG1hzIMIGQ/Zx8EMT6d9Ms1nUwgyej3F3cn/Ta5OkpqU8ATtGriNrydmFEGO/RtoPo\n",
       "pJWlVJ3BBFKQufp1s70oedfGSqbj1/jO94NMarsmZ4ejhpel5qX5fLHPk38q4o9wEcLHg7OR6Z42\n",
       "IjfwL5thXyc+RZ/08xoZZ5SNrlRgcD7g+QzrOheVwWx+uURYoWWO2IkoeRGHDv6qEuuoL2mBHVK/\n",
       "zPR1BwyD3UThi8p1hrkJAObaBPVib2AjSJvTvtmQK5MokEV6fMreZJaWNcoFFIlCo+HXCOsLZ0Mp\n",
       "uwnX3jDzfZkPAdChdLLe1H/Jj1JBhGgPJYj1EL3EeTuonKkROKI7oGG9UlaXg6BpNHnqqC3wse9p\n",
       "k3H2MYothiArJuf+NfW0Jw8m6myUcK0py32AYk2TGeVmjryKCL3Rqw76JrARIuNHPIqlfyOyAZ1Q\n",
       "q2r6dokQQzkdUaiOyD76LZkB9JbiytOT2btaqcQ5JPo7yb+7rhdzOu9incSD5vuVifGhrlBjBqBy\n",
       "1FuUqNm2NqaL7U2lzdKMSwaEKfR/oSJEq6Q6K8F6iP9yRtAb+6WPx4f0MgI6ZIfktiAARa27dGZE\n",
       "gJStlQEp1bK64PwSaQRjilHm7WTsVdM560L12U8JPgyczOZGQRohOb1IPUMq8AHOhW3vj8wiqksW\n",
       "BEZsPBZqfOJ/X5/UnZWcQMp65F4TnNQ3M9IsElwb5fq2we/ZonPIZMxQ9+02LOPmo9o3g8VcSBjD\n",
       "bzmzR4Gp/4UD4pGmqukjRuYbJH32L7xEnclQrGGfaZIo/zWbww5RwGOxyQ0v982mT2yQXYl8vWyj\n",
       "7fdEZ68P8siSatZgRzqJoJuDQlXZqPo2vDOwLPFAlehkqQT3P6g2WLyPgNmQX0D05jbJu74Qb2Np\n",
       "/DRyJe73S5kJDrUfi0ELKRUyHeRYm5KIm2VS1XLruolPTKvbSCmqOYV6RbKWCw5QyNea9p/sbEon\n",
       "mKVS0XFTjnHA3NwNFNMYaaPkNsTnYHdpujPNkmHHV0/rwa2zmtMJvYEAAAP0QZ9ORTRMO/8AAMqC\n",
       "P+3z5x/m/eUnW4BMDfnAAuq3Y1mXR/+CdwhVK9ZvXEmv5Y0ls5vnj54MDOwYyYFHHSwU/pAGrmw0\n",
       "8wX/ZjchsQqjkYrIHsurOOQ1ETdUl5opFujOZx8EH4cRCfy281VR/oPJxOszCXw0MKDXYNRjQSsE\n",
       "ed+at3eX6ZaZ0jhFdUIJiQaTaHRs/v8viMBcEyEZ1QO5+3DGLa5Cjjd8aYnv9ZgkZAvTv0NAgvKS\n",
       "uF2Rw6s0pxY/ii+nTXeyqKUYtSDvHJLrQU8pV3jdaqQq6SYNZpcXEO81YjzINuOifqqlmpLcsYAu\n",
       "+Lkc5vbsdTjc5q035Jv6EtNCb7LTTmWxaGWJTgh0tMU1c5XSVXkIZVHjSnqL1IU17SA47Bkw01Wb\n",
       "HXXAfzBx7UYDnpDRX4EweAW1/Vwx316grpQb1905RDq4rAxcIt9ychgH0UnTr6QFv8ScAQ9YKGCP\n",
       "6p3EcBm8hZjKtPmsmCbbAxXm5Mj3N08F5UiQ+9Qc6SYZ7K6zcp5450G8LXvHnr+7NfBatSRNGqZT\n",
       "n0E9K7u27bmVWoMuYq67K1fekGeUOmZcO42fB7m1Sq+hlmCnA21b3tKCqM4gkWxLD3ot093mmFtL\n",
       "V22kH4VahGEW1pIg4IwEofzg+kk4TJ82zHqfPJP9uAtTjNcHieATFVK6vF5v4TDQ7kn01Vah9Hpg\n",
       "eCGErGLQnAAAAwAAh844cQpaWl+c4+oQXorBFhy2ROjtTj63PmGMos662y3roNhPICwfBmsclp8d\n",
       "B3/8Ih4eG6wyKVUWbMX3UoGflEoenPeBsnHRoJn1wkPnlxjtSDpLLAA/BMUYEpX20suRJP6Jnjzw\n",
       "3cWF+fxIeab0vxJMQvOIK5e19cjH2qZJ+7t0FB/xvBF+meTkMASF2TaR6q2q/Lp64Xx9TgrY9EbG\n",
       "17aIJi4dck0AxElh1EETQcZlwuX0DWFFD9SmuNgMSOFPTfPXH3YZx0AC2HR7dn+ZDVE4xuVGXPqC\n",
       "faLlBxlfWGfgFG8Y8Ct3d3caamGv+61UIC0Fa5V/8MBVady/27gdbvXa2dlGKpRzI7K++4EjE3NG\n",
       "g8bXI05jzGffn6OelgMUywZLGIi2RRyYY1Dt7PGaiNokQSHP87M9Il1zBRXEWlRJ6Vs1P1Rr2Xaj\n",
       "7IY7DTbrntInquBZ8wJybu8W2JGWJ1TZAHvIdrG5RN7QIzMPYv14dYDp2rG42PriCwagrLZC/cbd\n",
       "8CSAOwefQ9JrM4+p51H1r0D7cmmEorA0R8ZgiDoqwRNwdWg902AqZ3QHnfLPFearH/bNgITcexFy\n",
       "BMK9xgw8IQMOwrIueFBpyB0ItZORLt6H8kI+o1WRkwAAAvMBn210Q38AAR28h6OdLWsvtBQARlVq\n",
       "vKw8IcZ+3ydod85/FYl2X3wo8hcgqOPtzS6IhqvtwXJPu42/VuCOtM/Fs1AFvSoQstdtZP+5EXXV\n",
       "N83rAlVqawFqhDLW6UGU5KFseYDV2ZcF6Sruf3T2rsoLWYNV8ApDzWSxlreb0D3gom0u22Y9dOMg\n",
       "+1ah42diCOuJDhmbfgK+PMO/M1+VLovnCe3H1x3ZKvO6vvvHr++wFEa0GXYnsbsYfmvnWS6CdinE\n",
       "Ooe25F/ds6Ma5XpConFS5Ev/etnkXt4vXs8s3Fb6+wM861NZgyZ4YNuVBGelfWSdsOj2hnsUqAEj\n",
       "DG9xOJGGoL8FCAUJb5OcH1OfW888nrIGePFoWuR8UhZP6T9ntjxN77KHBzvmrUPYtC8HO9AIpOsD\n",
       "ksG3joN4Cg7s9vSmUERbrWCph0xRfQAKWNwYD8g63IrPYcbk/UncU02mRLFcad++xx1nquURLmqm\n",
       "TP2fRM4ppJEEhvKftXQRh53vq9y035FZ1CByH/k3Wa6E8R3Vd+JGwB2gkdJRmEY/y1N0jUbuf4/Z\n",
       "jQ1UnSCtkGyPQbULYhS/5wGRqVMrfrHlJd0K1JiPYjnJVUrdak9iY85eZ6+Q/xZQ4YCXq9WvlfZq\n",
       "6BChyKolsxJGQZmQ1ngzficxnATb/a/hPUVFBzIxnX0IgZzHRnnQj7IfOqgZlwMabdWOXjrYHX4d\n",
       "F2L08PLQoSjV630bAxzVQYmCOFgMS3nri/SshgB0fGg8sQHvtc8Ttd+20Hev22L18Y7nFDx5PtLe\n",
       "YhO+KbKAVKlpbOKK1y4Gs1qc5W+VBGZyuFhNUYWRGqGxSkEzG2ucwCCoF2mBn8/knIyTn2O8LAkx\n",
       "Q8O6ddXYKWEhyumQaxuD1lHHuWQ60eLHIE9H7XCmzKPz9t1ylsEvptlZG2/Az1qsNsT09w8JVBle\n",
       "rOpro2mzqSzkYbBMd5fSv7dmFAYEzPWvKH7joKt1eXqr+9ZLJrf3iCLpuBU1bmqZMQAAAv4Bn29q\n",
       "Q38AAR3Ivoyp+WhmiDtegALqIRdt+PVyC+EkCGP9gp5crMcSp/ql64x8VsUxGfpWmHJwjLKthdC0\n",
       "2M3w2sk1HtufGAyxpsabzgecmuKtwkQfAdh8zPxmqQfYGzKNWFpZ/iHvBZQi7c39E8JVHQXRznJ0\n",
       "aUclmUNPruvfcFgNVsjKA2O3SiUXcUw1jb/9U9g5qri1caoH85X6zNHTTrZWidy0aZfPf3c2gokS\n",
       "/jbA+cr0EV2Vn/eNSdY3cWlvbdes/jj3SUm+rtfeutzGx+OppU+jPI7z9YrE3svIeJ5xcJlG0AKo\n",
       "hJQByn6f7nuLDszDIwv1+wGWl4XHYlWl/DryyvUO6JiTOSqjw4YK+gfrde7U3lnAl2kDXkKvFsjd\n",
       "/JBqF3VXqh+cVgZasRZrYcYtwpdPbkNNy2JYmCGSDPqsGs7wTHbD48fRcGC0TkV5I6QrnpRc93ke\n",
       "NRI9Ia9UT6td9VWrcm4BYsGdBlAEBxX23APvbBOO69wtiuVJGILTfEt9GKsrmTniSXr7HNRfMhXM\n",
       "GeosQjr7gPUvhjTtds6xa/4EjiwIf/D2KOrsHmvhMahrfFLjE6/3XTGa+HxoeDkOukmOqNL7WDmh\n",
       "+q1rmG2+WTeQjl6BJDjLMXXpP4cVOWVMHtpGIFbP3a4HSPvKgPt6CDcRDImZ3CXHJm0+s+X1K1Oe\n",
       "rE2PgovsLcZatETRbzu41eYAVelgTLxuOpG3LHuVmGd3skz4aRD+7RhptNIgr7uedoqcwCkGUJZ5\n",
       "oAOJqqqXchjffY1imuVEm9b45khZVipLRPqP9ketZtl1rRj/TbY0jGNgABDzGlxN4Br8SDqqwnd6\n",
       "jtWbS+U84h2LXDZ4ERQxi+c7M4e3JwKeVcvKDHfLviLezAPkwrmClVNZCkrtQ3ga7AIgBgX6IdHS\n",
       "6NTcLOQpwEoALhQdmuKYfNxHes4VtMQa/aEEgORprDXmH5VsiEkqBNaYxOA93YZw50b1HQbuAQ0l\n",
       "dA7sYAtLxKCdf+75QxpiUBLNvE/8AAAIHkGbdEmoQWiZTAgj//61KoAAoX0LT6lu7YjQCv6LI4f8\n",
       "8AORowx++34LI7ye80USiXJdsnk1xPbnc8i6b13m+NBd2OflEF7Qiqbq29nBvFRfdN8ETka0a+na\n",
       "ygf/w+/bX4KR8J/mDZRDMizfzIa9gpHxJTbuAIW/y7Y6gJbNOU+N/+FWmZEHXDQEpIKFnNfcOZFG\n",
       "a/Qiu9Iy3gJGxw2K+FpjrIsRl/9N02luGoJwC09criwWE1d4XKPR8anoDZy3G0bzDPXcdekJQqov\n",
       "34aGGpCeEw1YbOFRHnlB8tOtTwYGMULcuayVvEdQSgdLG+PgOyPVWLJTzxK0q/3l4cnmb3wp0qzT\n",
       "3Du9SkF4WwUm85J6dtkOKFK72U4mOIkk5FA9nChd+2QlZNlllL53KAuSC9Em5cAZ9mepi2YkIWE7\n",
       "9lIeknLlhoQOGGRNuHgUn28bdr/hw9dErUY6tdNzZEUINBSDUlcZ//fP+ujCQocOJ0PEHVv1HQdE\n",
       "wqCxxy74QLNgGtPXxahfiTbjEGbOGFrYRmVafw30fTyQfUYdMwDfoVHSRUQmWwH8ZdWV0kcP7htb\n",
       "l+ZsBuMiluVDsgq1I4JRpJ6A10qchV4PjK4oUAZSK7MZjeBiSajx3iXcBuqCQWZIoQmM/M8SQk9w\n",
       "cZuWCKqLlBePv9Ns5AVeczqkZ2XVLZTlXub2nOPimR9S5MVhR5hnxCWIR50VS7fqD56k9WGstU5R\n",
       "Ib+IY68aC8ABeRlHv0l6A9vax8MNknkqdbIZvgEvhSxnT1RkiEYgssZzw1ZlYsmnCWQs+CsiQFxe\n",
       "6t+gSZ2LtehG0qbWzc4GbvoCjlHGPM4a6STMA7zrTSkx7O150ekgTt5wHVupsr/WOjf7xouJgTZf\n",
       "wm2xWEJ60EYczrCNsFbc4iMtLAhpDvVadvZ2JEFTY/64M9HokQtZgklyhUQCIX4PfT1WhKK9c0Te\n",
       "OwaxCjem0astls7oxEj22djcw0/LkVx5V4L6utlX6Q7eC7ztqDEqugPbss32MfYEtzVp+xBKvDLq\n",
       "Pdz7dJ9/WROqMpdKLyDrSDwlsrItFWu/49TWoTCJyfSZzG11jmQ1Xo3lqqne89hbqTt4B6/6lWFE\n",
       "+hpr4+4lACYu/tUT5W9B3CENIH38J4UnOLuS42KdKplwtjTW2Mjv+PDukY6zUZ61V82/wfP2zPak\n",
       "XKboAoJcDKBqnsXnlWDmYqre/+elhHVXAidGnILqdST4NbDMoFJQ9q9FuFJqu7+4S1NfEWf0z2Uw\n",
       "sJ6ptTqD00LBEiJ/NNzYfYUwrQh+WzuneTHPUiLAA3XwnPoij/w+p8m+F6ku0azGZo0LSBzCj2Z7\n",
       "sO6uGrk2rVhHMh7tW90NNnTTiBUDRYj2XTwHy8RBi4CCPFPHuwxvVBuJ0x9guil5VtV34uMaTQTt\n",
       "+2l3yAYbpgI9yAZq2dt+jKRZ62NymPxMQkscpWLmUz3j1jm8D2DlN9L//6eN/Kzm6zP67ndTvUgU\n",
       "3tj8I7b+O4q77UoNsNbZNo/T1jdec35fSq97yA2eWoX3DaJVhFaepvMaDdN/Y/dn9QfcrTKpcsmr\n",
       "DpM/qfKvrd6r306SdATns1PGphOsC2z+UUGfN1KVxdftniocp4GakcxSXE37lFbLRr7jyAWkWjwr\n",
       "YELkkupVnVR0L6CE23wDUWpKx1bnx6OHwZQzoeX4BArZRv7ExUsNWkxR4L+psvCeCpvVuTNCxCvO\n",
       "Ymtjt1WHqaxlLF9fKcBr/kAfQim04NEjv5bygijkLFMFau8rHdtZE/t/WJV2DFPcX44P7w4yBt3y\n",
       "KBjPzSacrAJToK950Mn21Id7bsQjpqYmX0XxAledSE3o/TT9NAKmQvW1XSHzPbBFhKSulAQiM9zN\n",
       "cKYq1W7cEnJoA9AAFc/4yme7cj+xZjYtWXtpscKmLhMEMj5XwuZT/vpzZrz3yz0SB7LMFNVQ2tcN\n",
       "qV1V+v2Ber5BG/VZZHbDuEzVb0r/tofJkbxBaS+DinSpLoGpyXro1X9CF/pfGxok1rQgK6j09Ld5\n",
       "dRMWaByVPmooyvJfLgB46oh1u4vpLInPHYwuGGHP+wr459ShK6eldFhcmbKKCdAUGSbYRdzs937h\n",
       "Cg/CizmCcP/oWY72S68hEUGhbBSDfgPSRq5jQjO7h8j9nr1Dgs+Kr4++6Z0LtoNzpNvZXm3VYVGN\n",
       "nj/K5nb5tDpWAi+gHPGDCfCzf8k/wbzdy0DhxB9S1PsdPjvvv2o3lPyFTuevB2trVoYTVM2uh/Wr\n",
       "ShYsf7nZyNEZJMJlolVi/JpN3JmSNpEt1LygE8XDRWPxP+bkRs/7DMzXwGuq8X6WWAyje1D5aDH6\n",
       "vruQXL1QgehSxkqXXlK6WStF0DQ9pB7FvHFaUJT9uFmtEn8wnf8TfAtlzAtJjG8gRbdcAFHWH99m\n",
       "QO1hIeqtkPEFTZiZSXDXyXOuB28dcuMWSYQgwCEEUg738WGI6VCRzaLKYf8BGF5tbIz5QMFdcsAQ\n",
       "dZDoiUlCLUvcVXeSv724BhipGUTY+7SlIBLdpxwCrGiUgElTBjLtHRJ33CcwhoBD6l40zYcx4FjO\n",
       "D0jl/Pca/Yb/ZWx7YHVW/xNw+Yn10z5pPzicXMr1zIjyN418ZwrO3RcmYgbFQ2biZHWQ8dhCsU0e\n",
       "l7DuCNKaWDAo15J3ZYc0IOeHwRoZ4Bna25033iXGwPT5Usfw9wPyacEw6yhRKGsIw7vnVvjHeJot\n",
       "qT9vd17KRmyPZ+vloK0/dODnPUilvHsY48ttl1ylag9gYUIl4r4cP6VmMiEYfkBY2DgjAAAD/0Gf\n",
       "kkURLDv/AADKbSFU/2ewgWBlhzD/DO6aBjfDSuNVoyI+V9wi3JkQrltFLsHjMEliQll7Yd4jkVV/\n",
       "7k6wvbY9Gxl/vcyW98wIrI7rKOPT4eN0pfnrBdZ+QQv6+euQ71GIWhVMAjvLmF+/d/PzSq6yXnsi\n",
       "Cb46Q3YNKxG4WAmn6Vt8gJqTo+fyYAfGIAys/XtHMOegTzf96IwHognWQ6HLpi7HtquWh86J1Hhl\n",
       "l7i4dcJdvxRVh7sWYxHBuCxb/qMNUql5PIyO0TZ9KAUVnlaIVbzRpM01YNWNHTKhUR637kXV+rqd\n",
       "r2ydzrJnj1Z6x6n6sbNMvEGWfw9w+Z/GNf8ck8W7+l9ey2Xldd24PZ7qHjh6B1dCcGdOXn57haTm\n",
       "G3ApgYMLUCflQXPbJHxOwuwVSrOuhVKoVMryCafPnFVzu/VVFShErqz2sPeIOl5SxoozH9AXeUEo\n",
       "f2c9ZPtpjm9XmxUusCVjAn4XhzqZh4OleYHhxe67c/qVikDIiyFkuNUPbL/5USB5DGParBhJdmOa\n",
       "WODyq/YunSGx10m6byfWSDmWz7fpsiltoIq5VzQCf5UvLQR+7uMlGs+ybJS5O6wROlXJYurEHnqM\n",
       "NkurEWRoUSbTll642CS2SqfAaOT+e41NcOHNERSyIqvGwagc5CH9qRaNfPF6Ecw8gv5fyloprueA\n",
       "033XbBZByFn9eDy9r2qGK4zfgNDwYVp1TJBc2smmaIT7VuqgHWBHq8iti1McRpTwEiRiimSVz8vN\n",
       "BUWL1mmBIPeOLvpyFCBXZ7WmlgS2u2WYM0lHW8bpu1MJluktI4kVrFFfc2Z/hmACL5GGBDukNTel\n",
       "+9+xWyhV1nt3K/xnmLTNGfjeryQCq8J7Wlz2xiMhFV43I055QJtNAe1ma9FhrYMsLZOQE4/sycGk\n",
       "G0WEQZuI+IpUml7YGrdoCCF8lezU2eKflZ0AAe8CXFOvUjep4aW4rgnV9Xo61ZPTol3hlEKu9Oqm\n",
       "oCXUuBt7N/vCB0GZKJvvWrkgdsDe+4Qrn0O5CuNks4kGILNuc1zrfGMRNbkiIOgiwu/m01z9NJzv\n",
       "FYEBQ16O6xJUVj8CX7HGDC289TZliGURDByOxSzVENol/yd46LCx6szNOTelBgHHPI3lA/Rco1gk\n",
       "PGaQdzpEz6eM8YNaU7Phanfc3Ev+AZ9xaNsslVEp3TYt4qXPTWc7BpcslqV1kgUcGW3cXe5K38/b\n",
       "/uYhqxH6nDbkwwwhcnkMD8uvZpcwShnCd7XXPVbn0EEd3gggQz950zzSARYHlKhGb+y3K66UfFvU\n",
       "g//K4n0fr/GFY0AV5upb3xWIuWN2kDFD3TF4O+ZXAuwxzAJLR0+5plXtzhSk1h5P8PrKCQAAAuAB\n",
       "n7F0Q38AAR19ZPn7aqwAf0GA71NgIq80t4fbKyNgGPsKxGaJORGYV97YXxygJTAxK3QGpLsVk+NH\n",
       "+5RHXCcCCKK9n1LZ13D1RlEA+n+j0S52OtVc2UTqohZZz1l1zefWjpU9edjJ5zobrSwlBsZmJf3w\n",
       "0or9Bl/9ImAUnW6WVtXSBID+uKW3WFAHCH2zfxj245xJ+04EV16e/NHhvS2Qj1H6OjDy65k8cTSE\n",
       "mNUjV8V01woCcpy4vy6Jmt7RcJio+SQpWRUbkWrCbIS+oqOkHgF3fOlP1L337VJg3G+UbNDWHvV7\n",
       "naw1EG7JrJxMhd/NrrXNZivG6Yuz0TOyW/I1mRJkyfM8yFIFDQ2px93GB6Ki/ubR/oKTsz+7HE4E\n",
       "DI9ucn0j7E+V3N5irlEPEAvmK/a9kEoy9iCfdbnT4afq2SOveHyOQNVl3VSWAtGsOMzwADBCN+hd\n",
       "z6x/14hsMbQIdi/oUvfqei+Eu/7FDLaRXt87tSAUgAdQoBtBESMz/GSNbDVYDY/ErVSwZv7ojbTd\n",
       "BLb/+eIpQyF2s//zrVOU5Am6YeooaEPorooRh+rL310OIPmtQQ5zariDWZzEjTxEe/x91WPfTE0s\n",
       "B2wcfAoQGyI2/oaS3buzyr1S6qFRoBRJivOj72YN9adwEsn/zPVKgemXkrNdWAk6G9cAhxqILK5s\n",
       "tizZ8Sx5FP3NvWDbOJKlVcf0weq7TnvJXWC8SwReAvP7JjYPmEgHd8W2+pdh0lHG0lwHAY8wy6mC\n",
       "srKYlTyzrzYIKyk4BbdAOj0msMw4cZQ851dlUsQCFs10imzsyEZUxGREm+owF6/BDoATSAZXCNiu\n",
       "zfwr9ILdAalyOSCPItxOvLbtjA1XPmwY+fuGuCVLjFI2ZzQcxPpYhtYDU8EItUps7dlTOCpU1YWO\n",
       "arqMoWHZw/4O0PvsKzvQ/UfLKz9Dx9SlFOmIkARbAd3EXD1hk+hbtObDgk/OHPi890g1AAAC0QGf\n",
       "s2pDfwABEfDQ3hcACNTIqwT4iPXL6lMAzIhR2wbEtHeUGlgLhn8YjshbM4Uh4ur/bTyBG9MS/iZu\n",
       "unCJIj38NepTHu2GlVnWZKZUmlTkcuXD4Ut1hdrK+RxVf/s4YJf8iw2+WMzA5qzyWnf/2vSFFGzc\n",
       "N7o+6DvFXNV4Z3JztmVDo6D8xM2PYLr3Mle61zaXiDInaFhPo1eQJ9naVMRMoGATm2sFO3PgQSW1\n",
       "sfurg+S/OqC+FlvolIF59ZgvlQ85MG+jnfEQY6kT9ymgpbApTVKuccC9ZBR+Tt/ugxXjP98tWVrX\n",
       "oryoG1c9h5IkxAyFVH6/kGv9n874y0ux2urm0mmXiE7DBKhw/PyEDp0nL4SeU2vErF2UPYI7JQhs\n",
       "BlsUxc0n+p8VzXhPe0Y20ik0iiqaebRy0p4jNtuZ2kKlg13DTa1XeyzRTtvL04OJhbVh9/uJf6KN\n",
       "VIQaL6a1QX5oGXIyQUv44XMEXxdobxYLiTTIO63EgENEzY8RvEuBcungSPdWPiA2+5T4dj/7dGB1\n",
       "1xvt9panlshQqW+WVYFhNRLhH7kMZcT1qLGCSJ3SNPQ7JzDdXTJ4qNyekeC39cZIFBd/Gzsu3HL3\n",
       "KQUHiqVLvcCjcoJCVulTerpAZkH5lYuC3nVgz93BbxE1pupWAJmcUT7x8OCSKxRfbXfl4rXnT9or\n",
       "WBCifqhte94fKSI6pokjrrPrJT7m46C7iWVxGEKxUgRTzLdP6Q3akDondF1nrl73PZoohmCbMod3\n",
       "lZ50eCN++loCkKSkV0nXYP++JdCMxaF+4oG35G1FzrS2S4D/z2wIT3I4BMxoUpD0KNHpeetum7fz\n",
       "v6x+PrGObtyxIFjwXb68hPjO8HvNcvvfIyOQgO61zi+3D1fdWxuuY6bE6W7/JtOFUa7pARga2P+a\n",
       "EpCd7tORChnIgq1Nw2Lgn8NzMqrtKHMT9dyALlNiKYAg1ioAAAcaQZu2SahBbJlMFEwR//61KoAA\n",
       "oXRvZjwWvP3N+xCOAF3BgARBL2hzkKZI4dx5aoDIkKWPOn3T1XswPE6QAcAJIWgRxox7raWw7BOd\n",
       "5IAXdWtzKtQh2MbkTPKwZL79NaBkCbftEbj78armnNjZVBqzGtqjnF4eTl4vEPYDF3kXg1yuLmKZ\n",
       "H/n61Tl/rcMrW2nX2oQwl8LFhvXk6wAMZJeOpWnRIveLcZEMadupXRYUkosgheguYbmzMUyagDz1\n",
       "u2dcdMPNT0kannFNLWNisSMgfKpwVOoiBHB1Rj9Jtu3BCIYpZSxDhRvMTCjqD7eRdD6QEaOBuBWQ\n",
       "d2Em4KpDc9+3agYvFCHlv8KK4XvM+xLfhR5sjIkGZdf4kmR2puTdG53A/n17emKSDUNHmZyZ6cnU\n",
       "oetnrANmhwvFJlu65i04GLKrlftVyrCXRSE0dk6bCMIA5HhB5QtvGOeSEtVcnZsWDyZrrhUk6QPX\n",
       "OaSvXPR7JJu7usXW8+nk04L/td/+qpnk2fnMdKN8kIwfYJwwjHS+ZV9K4v2UcTGwDLpNcBFMtpZW\n",
       "oOoDDuWqRZFfabq454RVgfyBqvwifLzSNfbzhPgfYSTv+5TyVmtRjK7y9BmeUqjRB3PuXWD8lmps\n",
       "SraY3jR2QzwDHccq+vO8v3KYF33TA3Ly9kO2PfZY6YJJB091iKJvvYZ/dScE8mZH+Y/8KTB8J7vg\n",
       "8S4izasQU5lmiSmQEOTQTF2ph3UgsnMBR/Ufl8ikK3tQMrKa4N2dU1ornht+gjjXR3UecyAgx6VM\n",
       "6dUIdEyCNQLAAF4B+H+EmPgFSEX4ZxyzFIfPKu3VYBIm4w3C9oxeCrlp/y500unvLM3ZND7mCjzK\n",
       "lniVDKuFIZCAuHQ7m/Qp2nSZqpWKvNmmqC/xLK5RLt65d1eD6XpHlD2pupUxtUe9w42+F1kaUhzp\n",
       "5JJYcnM5GIETERE5e/VOnHftMNj+xBR6d5zbsXPrGCLtFJgZfHcvgWmnW4xWBF13ISVJVvQcO2mt\n",
       "O46CiZ0GKs8PzSutxfdgldpNlyvw5kEkxlbQOgTOmCYMB/59A3TbCPdxL7ArBjDldG8xXzBqOp9M\n",
       "CcJ/qOqO+ECVcTcuNaolqOMOM1V2hGKevQ0kYeWGe4vb/Bn4SqM3vya2Q2vq0kDsGBnHui2/rKeT\n",
       "7zqtvP76b8IMbOPz/ci9LjXsg4zz+lbOusyLtfVi8H+Dbwcnx/70QYPX3QfRXq+08QXTcPuXiitp\n",
       "9KzuNcOczcLoAEdNU2ZLy2xztrzNeE0/QxlDDiZ3iIw3qk64BIlr4nFUZFZpCB9In1JJBPo6bPqP\n",
       "xdrVD/by8ESwl98s7+NqiqM9sxqD1YwSzlvEX4XPgIwGA7pkcjCV8CVGvxFrj0UIaKzguf8JP6Du\n",
       "U1BuCLO/LJKh2jzX9mMXx7qZXPgccVV5FWWvpIHTnxJqotE+bVBu8+zLrcEAxuP1I+W8QvleV3BV\n",
       "GeZiRIDXBtnrQ7+M+RlOPHqaphiLckFrpSJ1DfetIwiJjj2xRhxNLrG9ionrlpjlndpUQM9ChAO4\n",
       "kQ/FyIoikRpCtSYexgOZ11oHBMRa/E1Occh4gsVdg+U1V+jRgZKANJmvgcKCpSO0r+oBza8HLyMG\n",
       "bzwCXVxTf2++a2r3ed1M4qvBRFKfBJZkkLVSxhAzATojLbh/2qwDMj3nzKarZYNJCUPV5wpe09A+\n",
       "h0mpG8mk+NqHSx4KPdMpgT/NMOD2lwZV3e4SAMPgB/r30ZIHrPQHnirymKN4EFffsiDamTvm+i3T\n",
       "gIuuBRqyryT/ntXX/8qut5L5VRxutYh6dyNS8inT8OH6B93WQ4YK8fu1NzckIaUvnBhMGJ7l9NSY\n",
       "S2aTBWRSaKA5p6k5hKiRJDR4KxYdpSgfiSm0Q1XtYGJIsZV57IyHigmL+WU/oWBUwkFuNX3gD7zf\n",
       "tOzsa5Ie098RjWDBEUfoCVNoWcliRlrde69x4RErXqdLCZ/B2JaDmk1LN/byqVHZZjvXvgTCwae0\n",
       "lVgnNne0bd77VQyhLPdVXXOtp1qnvtgOqN9ujLJcAdfSJAGS5s3KZtHvFqp71269NhoN5uLvv8k2\n",
       "4foBAQp7JPRCGVFLaFG6v4oQlExgMCmxP+SlHAGsWuNo37rMePixVOGAvfmhnnuR3UXaJbIdbD8+\n",
       "1ThfRcnwk+Y3kl75NT+6UK+BtWFrnErAzfL0plEujR67m/PkkqScUO4cY+e5tofOtOF8ffoImwHO\n",
       "SszE3sZvsUcBSqgpJbYDtLVRWqveVKCqiI52+x8i4LJqwmgyzaiIayjyRSbs7xlJYBrpmgmFmDHJ\n",
       "dAjdHTBdIJJ+2ZajUDzeq1kbeYlB3iBxHzmafjVeoeyyWfNtUWj8xjUsvQxZWJnIrirR4NhB4Yv8\n",
       "Wf2ZqHOo5YXpPcpqgvH8pnB0p+Hm+43fj07YQQCCbMxNAAADjwGf1WpDfwABDUNAjDQgstEgBBn8\n",
       "Wn5oAo5wIemCs/YM1A4UmK23RqlFtAKoq6t4aRRo0LlYa2ML1RMVqf3/TKED49zwPzUwh3Q6EqE4\n",
       "CgAdvWpjXzNktSxcqvT109gP9dMjB+YClHYYp5Tfp5sukrTm1xHSLwf56O1t7PMk6t7GYp6Ktxj9\n",
       "VDe9z3E7pPYPxnzYx3JS5UMaOAuFPyJQikgHRI2D5EyHb/WJJOK6G6xae8W020AxC7lvWMLsiERm\n",
       "d6iZ0f54d9evyAO4/F8Rxqx37tXBP/0X43Y5ql+AJBkd2oMe5TRB1UY6zPXaE2V0aGcUK1dE6zC3\n",
       "7PIiRxUj7cNkwelNYF97eXO5qUAWs0SR8otzJ480pkGANAXtsRwiSy7qvuEAqlBQHNxwlkodqEYp\n",
       "5qqWekibBA3/GcDGvGsOA09AjAeFXENGIeQFY8Nrxgdx3k1DYr/gzvUnO2r6RiVAH0043UUu1gIj\n",
       "+YpZnIY2Tm8cw5SokItHU+MmW6Q8/absd0j24AOiXyWXEvJNA7Ta3OI8WWPU0BOkwIoqJw1NKCs5\n",
       "+AFE5Sk+LOnOU1H2lfrAv2Uzz3oV5/nadcYNcJVGa+64qB+OigDWsIebfEbJqG/sAAwh5A0XsOi4\n",
       "IZjQAUcwml8Qy984waJAl0gyVTeK8D2CFwD7N6LSJGFnkFs8l4XSZgx5t4JoAuGL6McvTg7xF/Ki\n",
       "X73TsS525mhcnpWrhVSIQTKks6sIzINOAykCxBmAtcib5sfVEc+af3J9gZUz+KMLuHBlu7fhoBRO\n",
       "Q8Oq1hrlTWCHvsBX88AaEhNxxlMsbdtmJRs2s2JOqQ1ATn8vWkZ0WhC+KV+ZN9nac9ju8k6zsMLz\n",
       "wvH6J2rEFpo53To7es86nhGlqXX6is0UEoQCudoAAAMAAAw2iFDTIsJy1KNvpFh9AdbLmkUiOgwC\n",
       "KURCfbM9FCplXflTyC941UGihaWyvQRLfwDlTWgACO9wmwjZOxfLf6/uPSvQAchpEZJM4vs0XOgA\n",
       "7bEtVve14GI8KTb9fHUCE8Cu7f9lqgdeWfBsCOOPPJRPg0EGHN0HUIPZ+aKQSAOZS1YVxQ/nB8wT\n",
       "l8MIw9laEIluck54fSZFULj9uiRcQiJUg6/6ENCpYwtN0I7gg3ISuGLEpi6jxN1IGQHoN8gw+FNw\n",
       "wGOF4NFq72jUEqCMNHUELdt43i19GqfUDNJl7EeNmFHaoxgQAAAHvEGb2knhClJlMCCP//61KoAA\n",
       "oX+IJ43aME+ePY0lgxzZjzp3x9JTEM7eTdv39Dln5sEVpORXe11WH+mofWhk6AKeqMw8WQakFpZd\n",
       "9xZZFij1WeT369IKxry6065YipxmloZ8qxOF9pgyRwm2z26hlPKTK8drFF+Fgsab8ChhbnBpVTyy\n",
       "qS1q10/rn7raqQjLcmAR4avhVmIawmueaEqMjgAvBujfZ2LIWX2dMgZ2ce98U7A7fQ2f1hDuWNGz\n",
       "duocXu5T2s0WU8wXAwpYOVQgkIPC6fdjwZmuq8w7ZE6myAMLLYuC7kB1xg0/VixEJ6W/Xf+70w5W\n",
       "mAAZO6bMCMkhQzYzu/oTUD0xCzqX8jZWqmvO9dhIfmvWUizYFeFilTeHJIR9qUdGO7dtDAS6soLG\n",
       "aR++ktZSzQui7EzoQT3+wh8bRnVmI1byKIwHRmtNNBBBISlBglov4LGLj5+Net9ILUqFAVE1fV3e\n",
       "h+KnPlnSMlYYosRFMvYELGmsRbR3T4zrq01wJj/kD4BK6rhvSBuqqyEdjBKjdnPWAczX0T8oRVFR\n",
       "EJZ0k4KUTervg/vMpJWeKZDvppUo39i3rUQLcxk129M8l8erAycBE7YKzv1Z5FNBI7lnN3QpvDzf\n",
       "aKrZQA6RX6a4JZd6n5by+tGI7KmpadkOuxaF52gyiYrBQRHPlLJHGHQJcw0QCFxb3+c0aqEl38Rw\n",
       "3dnme2ThyDwuCOrQLkIKh8gdrzLsMD5hLHSk3Inv2BnJmevyMskdwfn2n+XKv7ouoBvEjiYjZUsS\n",
       "lUywfB68yQRU4VqzVnHVcFGQdoR7i98AR8vD6CvgCXLrSUZEANLP3Bnm7rsAmx4LUCs3KC3NSGG8\n",
       "DyetvRVLLobM53itKgUy0A10fhd9AkL2VfylaOfUlKOMZIkWnlrdJ0jjQF6e5aQ9rsFxwvxnAhU7\n",
       "0yMmU001FLhp30PTk1hnqlJmbkhgCtxP62Y/qA/qIuMjG+eJmblEhcsMtfMQWFhycWZF4c78UA9T\n",
       "qsZjVYymvpBGEb6zBaXpD+jdebVsjbfNuuvpEulr5994rIoSmUnsZ5fUfPo0DRWKVECaLaUFkPMR\n",
       "V4ZoVfoVlH15zeG1IfCpcmBb8ufsRbNe2DilPVCqdj4tZiDJss/4JD4uE5AKSVIAAqIG1130CMVX\n",
       "0S/VY09d7qhXqPMfH6HmydCN+oGGAYwCK1tk2VH0AtAWFEKEIQTNwHAO8Fgm5JK1nyiGzgdFWOsx\n",
       "0QV+04vzQcYd3NI965WPBpn7iZn0WPTNQMr/NT2XVkPASlRstF/9wRaCUtEjLSjfkb4+qH+6Bkl+\n",
       "Bw+P3g/oTDhU6mlSfHzAF7SHUP+teETfGO7AeGpKnZAf61mom1XiHg2qtpzW/6ukv2l/vJ67dYgp\n",
       "gmqI4P9tbb5/l3tqjJAkrJT5t2rviSDP3OrPXB0WWgv/GyY84/rfyjZ6jxsEc4OzyT6RAkgESjH6\n",
       "uT938HtGZortmUv3v0MSGaoCOhMYCNI5dImHIzb8uO9JjmOthoUKss6pkDDR1t6K6a2zN2biSH07\n",
       "CJHsAo0jezP//+uBHPcEvxYiHt5BdWdkGYHsaWijdv9+Nz86x+AeGB2yeokEuAU8mIX/vMxllfpp\n",
       "zlbQlN2MfU89fj4Ebw16oiu8IGmcmgO/e4q3A2lX31quM7OWdYhfjG+Z8AcaHYfq0SbIAgZiYUbL\n",
       "z02KRTD1Gku1Lo6RIGdObJQJtLB24ORAtpMLshGFfh3ukTscWEZICnplIZc1iWR5DJNnUauUy6Lu\n",
       "VuXuC0LdpkhzwN66naXWQVKZP+PbiY3LtMdHD2YVjCDSyorJsB78u23WVGCz9i3ZQgrr9kh1BXpu\n",
       "yTs4gS5R0lvNKWZKRphxG60DyVfL8+9oyDj0Me3Xhl9NuEoegjGjjUEcf+yf7gZcA+Z0ocUAB3er\n",
       "PaaLallM4aCYu3bpi2XKGzRILaf/mxvP6nj9RdRG6IKE5hs/wFBIzi9Qby7cIJQzWmIdI79BfRXY\n",
       "shAp0kEHGF6Nwii9PWd+qG+pKmr+wsJrO1PXOwqbOy2LtDeuoCbEFf9UxlWtq1m+PKzJ6GnT6X/2\n",
       "RDoWkf+on+pBrSbzeVwTvR+I1QO4AAAMXpcU9+IkJTVzBWcXBc7Qkf+HpFQoAAXhDf+AM1PnSaZ1\n",
       "VoKNG202p7WJoZBBraxoc1swkqYESZZ17sYnaC9nQk9g2awk2oVqMuwslFUlLajbI0jOa0ac58EH\n",
       "di9DPIAAKGTC52vn0yqtK4y+J/ToUmJmHzLNqbEK69XxwhRrMpiZwv7IW1eTdOl1gMObZvluWd04\n",
       "PfHg7LqFSoGbhiUz2wAGkkSAtRLqmjLC31aXcgXJ8HokL5sjgad6rO/T+NdgMkaX39r85f2StQ7e\n",
       "KSHbxl09QC+Z6VH1tD/T5tkrnFxaEmq1jP6b6eFTz8wBsGx8G5ZNRzcJvwSy3d3VPoUFqOchDIjz\n",
       "nx9Ia1bRVFqJvAxhChyXjvKuerWQ9WXA/vf5+igqOstSyeuRWDC1a5gn6c2RzVBOtI/rRenpE7Sb\n",
       "5/Wut9fLXHgjFtM1HlImg2s+FlNuUMfW+SF8rv/oDxTWxaelh9IsDJ9017/LsRGgAvnx0nE6HUhN\n",
       "1ybjlpgVkTOoi+ciuGpQl9IMOICKNNbggQAAA8hBn/hFNEw7/wACawAYMagMl0qhdw+fEAECUIZ4\n",
       "1A+EMT+TjZ99r8J/pRL1Dc1sG9GIk1bL57h85aqowWoP/kZTu/q/JrvARO+UrFRNvY+bqhYci8vz\n",
       "BCJ43F6iGP4uKi7Jl0cGgao8M16a6lGGuEwgmTqcPFoF8iFO09V5gjhWdkE7DXy94eHBzFg1J+sY\n",
       "YKgLJFwPq4ObAW/LEjhg0dRL8xNpikXgUkYlf8ksX9zdGDSLnHkuaMjJWm1LR1ivKQy/1+yjlp1f\n",
       "EdKebMdYaweUB6itOM5Wr2o8/M46mwBEwgEOH31hyZ3d+m5PRgMJ2QModZhUChHheAaC4rwzWNfA\n",
       "xGT5r6V4ZMlOh2jVwpCT1tVKwVbjCP1PxW2l0XAVJ0uRi+nX+TKcTRRuUHGr1NS/4yaoAb9uLYsG\n",
       "arob/cfkjq6NCnEl3WWc60a+pxwp9SdgYXYOPc2kOGPkVUD6R02EHDlrU2IusptdCoSgwaKvUsxw\n",
       "AcYI3T3OMdsuamSOWQ/IddBh+8cetjoWADwxA1q15ApxAY1JU3Dz0A08OIOzwKNt+N0cOkG6Rq0r\n",
       "KXPO9VmeZmNyemkMI32OckH4Xnj5qnbGbCtIczgV7iafHbcMS+Pw3C44AxbxbLK28rNkxUT2Y88t\n",
       "jpASQVMIAMdAAF37kWcmPZryyLN/IT6Zfsn0bpZGcQedQ/q3GefnsXHKA3wxVj0k6EqCDM7MTu+i\n",
       "1Ghj5rMoOkmCMpJHnxzpdwli5AfjxE5QRfUZeVtfRwn8DbgWL2HncjsoaLE9yJ3H/K8j3lJ8zAgS\n",
       "rcy6W7mON3sbo+kUxc2Mzdw2mZPn4uEiuqjqSUMQvihEKpExWmzOdeMbHGnyfOGEplm3xzq4dZC4\n",
       "GaSAuKYBTDeA3q/N5M+aOWkNz/i0dMETHsvwWSF9CYAKKAhq5716umPdR3XtvPmAWvdc1DCCxMru\n",
       "0y2oMP7ZdhvKFOjDoABFqSOSt+q4l5ELas3hX+AlswieWISGd+K40XT0A9f8HZ41soQVqJpg9tkO\n",
       "HjvqdBFrNfzqtwLm1zBjGhwQVNa7QSKCXJ5mKNIhlbh3erlmD+j9KLJsapAy13q5Nl+xFts6W1hH\n",
       "T5srx83D0+iIJy6UIvMhnCWmnDAmoq4H8V9X8qWTeosdSxCCEy7ip9PJhAcWJajyF2YeJ0VtpJ0g\n",
       "bMqP99n/l3u/yI+YlXc/1HL4j4cUuDpK/unDIiYk21k26DXx7fJ30RhGFvkRUJMD753epVJXjZhA\n",
       "QHHHYPtIBSKevhmW3bZj9aB76LOVHHQyGPvM+QAAAvABnhd0Q38AA4p8g136M2TGYXABtUhn8Pvl\n",
       "QBYWnrdmkZ2wQFib55GpxWiQu3UKnajPlUyIBwZN4zQmr4ZfQgcu7X0QSruszS89WPfyW/15H26A\n",
       "cCkzQA05oVCl1zcxYgNUISM3F+BCK5wb91jWvT3TMowana7QBBXJgNrIXt1FfCAk5xxu/7c5cxDr\n",
       "ZD3tAGif1UOfmspsvN86hkkqL2Ux/P3q6iNicha77ybuYo/0PyrJ66d4CstlV7YSfROnS7yJo+JB\n",
       "nNB5asan+Cm0EZ6Dv/GBYbI4owX01FAqVB07Pi4kq0fs9sevCca2Yt+/EYMqDn8K+kLN1g6GWWeO\n",
       "WbDR8PYvx0rv3+BAjLxWMDsBhTyjuFYnyeGni5iBAZuAJChjct9X0mt46/EQstu/+50O7MfeD5cf\n",
       "VHmlOTilrho9MzYCPsepITvJRj/M2Ps2wIfcmBbwPCq8X6jxwP7kQYvYcGKlw7zLcHc/bcg6qifj\n",
       "BHjVJ9WfW691SdFqq487ChFS+F72rYnoWItWUwufgNs5i0B/P6mWVWitdO531TwNIrFhKSebW0mt\n",
       "svfEnzn3UV+gvofhCwHtp2/9L1kszTjjHDLhDShyZf0MxJU53TZoOS0MfVo2ALG3UGGdWebjeIQ0\n",
       "+HCUGL/DnnPe0Egvm+cQZD7yo/obHDzRSA0/V0mb6HEDG2j+PyNwqAasBDV/nv8N/TUt0hcBxktA\n",
       "y4QgAAAmn8ROSIADS9MbJv0jJFUtsBwy9irX0eMKnQKras4NB0Q+TkcyRRQDo+eyUXUhGzv+NFl5\n",
       "CCcW5Op/jd5zK/GMD0GNDGzWzE4mjT3wWYmSxJCaRzyrMUmAV97PgKG8mwyz7RDwMF6xhs4TqfZR\n",
       "9IvBAQXK78K7BxGurI/K4uD04t5vBwpET2dUFOc3NfHYEvLGLg7QQny/FLP1wFtA4d7SSapuB089\n",
       "FYiiYak0A1bT6Z4a9pjxzh4vWeW+0CUzyr+HoyGYne0mgRRtpnTOww0xpgAAAuEBnhlqQ38AA3Rd\n",
       "l4V0lptivMKp1YAIFPpv06egCh7bNV9BhBsj5EZW1P8+ae7BAhI4FTjBxhg7VSBDMHZ7iZGoPSgb\n",
       "V5sApsjX5NLCDC1avQfirV/Iq7FDztNjeUXXUumdscuyMHXj75vLBcm5LHTaIJIzO4EvO0j5n6pB\n",
       "xz5VzFC5XVt5QPPwIQgXFl1lcSZ89yFzHoodey14jG1hsfwR8lOdUAHDKMZ0qLlvYGdl54Pdh2cM\n",
       "ejAWgKz0EusrOhdBfJ4aSdHYLCkYEkvUqqr4uxrcm9pzIXdzbktvMkVsnSojmfnxHun3PL7ArGRI\n",
       "8NQ6crfrkUePHnNITp/cpheaV8V79Oi7eQGj5chVhC7pcR0mcUg+B2ixUvnICcNmtkutBvsPa4RA\n",
       "B2/IHse6Uzmo22ow/Wl9nGFJsQAe2//Y0G7o3zS7fC6MAO+f5YyTP4Sux8pnanHnQ5ZC8nF9nnYz\n",
       "px1tGsQBu7f7lBoGaQzSWEa888P+fpn21x4enE+OrEW9Kbcog/LchyAKwef4JqcE3QPcnPSHNh+3\n",
       "2c7piIfmTRiV86WIX4OhAe754Xm2WYjrSjXpZFjdZ7P6XZuOa5fXgIS2/hDgAmife3FHHC6Jht2v\n",
       "qBm3KVjMx5s04njm9oC3LYrxxQ5IG7N+dpQ44txNT2exTVh3OlfqOX1pTtPqvuhHuyGo11uwVNDU\n",
       "Jmw+xTZ8Z733Fdh9jr/ocWc/LRApaEvYLz31UkpyCX0hAMz2I8WzRQr96niC54R+n8AAsvVLO0gP\n",
       "WVfL8HKF7E9YBe7CA+/emgMwHKIXSkbtPVeCx+tvpeizVcoq9efYOJ0HMZ1FiP6lyiHPYb3xukPF\n",
       "9ov7vIVg/6D/Wuqya+DqUsRprVnTurGQqnJKVWAvjxjVtMG/Tz03gfdkzS/tGbWu7ZPmNsWQZWDc\n",
       "kblSJyBfIi/5HqC/whcrfRhzawg8JCF/pypCHfLJ96smtfKDHgRShIUWUQAABx1Bmh5JqEFomUwI\n",
       "If/+qlUAAULnns7yB6XhqmgBadbNIJFQ4ejrNeRTBCX+jc527dHHgVpzRkw1eTo3SmE/8BEGmlac\n",
       "DfOQy1swz/VwhEMtf8H80gNz2FGftmQ9/IjauiUS1bt1ZBrWWMScTXUU+T2b/IL6ok8YTPAuwcFb\n",
       "nm5lERSSLdtuuqlaZAOd+4KqbGILCCdmSC+lHLVgkmp8vyuoXDgBFws8jIfS4Ady5RhKQcrBnv/q\n",
       "x7Ob2c8wNjCkt6+CTp8K371cZlXjGl42UL45ywYsZUlBYp4mdeCTMAbxhiQ85zquc/EIEGfcpKzX\n",
       "8bfnb6j+UslUuYaESy58eLdh/HBgCHtvltCx0KbuL9aCU/QCkio2ZLPUIJxe0YnbrNBpK03bjjdY\n",
       "jz0sqyWssfL93LZRQRHhJuPPswwNlO/syAl7EKhNHmBu4w+kDfxrY22hoYbD4BlQv9o4aRzmRfTK\n",
       "vR0lrSGbSqLUnxxY0LhZ5ilLE1AB9aI5KfyEGYXD5zC3Wk8b/SeK5wjk4StGp+VhLn1NvjjoE9/N\n",
       "sYDGLEIH7Ndxk6imEyfG49SslppQypvfL4K+cSvFJHlYykz4J2hUdaJLCwLnQxPkKFdQTe07MnmZ\n",
       "AH9cbmTT2tdWHxAJ8EKaLCblWf7/ykjhp8aVEvlGUW7sZ8t6ZrITaVUg8P+L5q2X/a8ce4u1Xw32\n",
       "lhV5PoqVrX4jY4MVo2nMk5pO7XV6k/vwrBOk2P90OLyEH73n3uGvckXqjOq0B5p7jiNqV22Zabz+\n",
       "qY+h9vDdpJv1DDv/HvvdRO2XMAKaLUmM44IpY5+fwVXQW7pHOhgVspqBP8jhrka2h+CNOKDam2EM\n",
       "DwKkAxeYAwpCS2z62Qvl1hY8tKqvZl98SjSxnkqtRaSFG96wYdD3kfZSdR9y/wp+D9xiYvcgyXWo\n",
       "SJIV9jo5JYZ/NEZq+RWYZHuJbqRXOkOIOm+BvuA5Oupd0aYvjMDlkRt00EsxjjpezmU/HlYymgqJ\n",
       "zYw4zv5db8lfO2114ABZFb/NBYuin9rGIGEw0k9xi6W6yJS1lZRtN34Op2Z0gKxm6KEe8HmvcWqZ\n",
       "9b6qLWbmNAwo5SPMR5/YM0HX05KSmCHm4seVOWWRiW0Ros5JlHWxfxRU/M44uoLxJAms33FWsWYK\n",
       "T8cBHsctoo/XwRlXZqmCf2ZULwf+hlSzH2dFQCn2Robd+78px7JN93XvbfBl78RPK5XhgviCGZ03\n",
       "+ASyYOz3v9XFh8k5UAW0i847lOPremxczG+9zi3nS/b7avVywHpvYkmjH+88/6/SWng63F8aSf1n\n",
       "/GBDPuB25D3EbQDq9busGHT9B3i5CZ52SpH//ktM6RqFipHh3NmelQBv8yk4JCrAq9vi4fQBsgX8\n",
       "H1NQ9tg4BuPsBV6M7iyPpbsejdg+amdnpnSLm/tVIj4OSKdd+wAeivG+Axe0Y97LxNB+WYpBnoWs\n",
       "71KQpZAWOHYU5AC6gxd80p3btykWqRfnKMl1TaodLdMxTFJx1ta7E/im3HL2IVa7Rq/uMnqvxvJW\n",
       "NEnGmwNWnLlL8KTl9dT1nggIsr1dBIOet9FNyLSYg9eoonKmxz/buPKO3tUspR77kARr3AlvMIYM\n",
       "S1FrqxUzaJXrxP7pOkaU6cWaf9IO+lxV8bZsl7Fli3OpPUt9jDKErtOPYDMqM3wny80FfnQZvpFi\n",
       "b8H0AlO44evRFcXejdvajpp+ewzwKEFIjOLG+UlMRIAXh1nvdPmGUToMehucJCEerqhflVzp+o6t\n",
       "w+YKVhvgMD4G0kWA/t0lXCnb3ZtEXxUKu/o3EMz9cnma1kPqefSfrTVh1IoQBs4Mx5nYos2B1cD0\n",
       "kdMoSYacVLWuO+MfweLgjWEZ/qe/SwU46Wbz7umDwLkKtgCpa2WOG55irZmF3WaTCu8ohJV/eROm\n",
       "HZQjy7Fqezrc1eeglE5+QvMyKYBQXbiBeaWIVvUusrYcQCk2mvs834jFxaPl8Sz3a4KAK9vMX662\n",
       "Q9q5vrFqT8KRSqDspUpvqj641T5PFdTaSPfmsTf0q/swXZBpFFGxnND40PHQ/KUpxq3QAciOLA8g\n",
       "AUQ4teM23cAQ4XcUk4eeDzaoKHRUmyLfxgvCUJwLooDxdsVOh2BhSRx+7rWp7evdWafUAGVR22yH\n",
       "TYOjsTsE9t0avJ4+45kaIGXSHbA2+vREC+IqEKozESjEtvZiyqddKYBv0bVF6VR/b7uQy7CCn1bY\n",
       "oQOE3ja3ltfa0No58D3sM2MrXhmslbz5gDGT7gc2o0Rpf9PC+lsIEqYwniJOzi9VPySqwqbXfiwF\n",
       "tudBvTIQYAlefF9iitqlYyyRPLQPz1wVZjMBU1GX4mlNRLkzG4t4AxdiCSwTc5LTfKJbs8b6Jt1P\n",
       "m7VNLgCvl2NSQYm5/ZjnRiqbiOWVpnN3xFSNph5IvNqyMi+YezScIGKo0hEAAANRQZ48RREsO/8A\n",
       "CASAAHQyjPfD4jOmTUlbROSbUoGbBzx042NSTtigodSB9EWTsPK8AyPZpqVJN6KsZw5k8xF2xl/q\n",
       "XWO6vtw/R/3eBAnGsxDxgjR+haE84NcsX+Uyf5iu0gRoYOkF9R9/bwTKc/+zTN4Uv+ImoiC9LBC9\n",
       "CfGSF+sDFmyGm87vMBxZiy2cFtW1T6Y7sG+nm9yXrbwus9QtN2VCpuN3KM8/eBkFohVvwtt9ndxP\n",
       "KIYq+JmcVco8HtM1pn7WfXDN9LvzWiBz8GeLU2PmFzZAxkvdHrx7EGdBoEonYTdFC5aSOM/8Bt4P\n",
       "nprdfPImF4Kwy4Qse+AqiIxcY2kIwbnn7PI7gZu5ZGdZyzqPeHU/tPgjdSkpeg5a51NVw92npAcB\n",
       "keLekivdayEw+W9LLHq9MYHhyT5uxKgYUDQKY3ZjkpiAX3LgvttreCq3ICEwr65S2hxpZAGtBfNp\n",
       "LL279TfvXScrg96V+M7itWnIw4asb9ZcxC3f6sz/YIpTSC6/QVEYiJARU9ngB8yJ/2/FRmCiBrmt\n",
       "My3mRKGlq71gKIJE02bjf95+dZmqp/G78tEak2HYlbmdedPqBUeOb8djcpKw2nKMCL7CIMztRs3i\n",
       "blWul1oOGz06OABs6sNkTliZeCFb4G3aAAGH9knSm8ACf6HKMKVDIX/VrDfltBIgHAYQvlLx9LyL\n",
       "q/0rXBjl6mUb6Fc2Xlt36/nMV0B+McpjWguGrHdTUYgdnhGR1UMe90eUWXxkzDWCZEHkpxwA16Ss\n",
       "lBqmB4Zn6hYPKIU/lpSitXPxIg0eauyUz5oIDaURdy5hrzvJgDnsChIOlhbIHRYQMZU1PI1oDIZI\n",
       "RO/YY8HIVSh7yeJpP1Mt6BpjPA7oaPPQ4LI6KMAiO/80xlDsVxvINi1CdvFVUPKto/nK0Bmr33TZ\n",
       "MMx4u/kt7SwcHfQsd+Jdp3qm9nK9ytlN2Kk9QaqLPPB79gr2jz5Ufa0eBnFWHZY7fEIwMi+L2e07\n",
       "mPL/QMj4CpsZG/YQ3jAcmGMW4FJMzY4Zmx0LWVUuzJHjwAxQZh6MAL4HfmyOQv9x1RAwSD2CNgDp\n",
       "CFN4n01uJrEuOdYY3a46Cad1gpC3UzkSBI0lAr0jEYoBRx4LeNRruO6vAAADiQGeW3RDfwADdGVw\n",
       "/QpyCqpRgiT2bKra/M4ANm+4vZyXhAEWYf3x8F5NP/EulzhR55xofAnoXC+QhJr6UtAJSRxw4Tee\n",
       "WmuLMoAcUcX1k796UytEktxKDv0btMqEN/ak209Jir3KkI9kpzipKB3JDw8g4g8b2T8dwRgcYx0f\n",
       "3Qv0r1iXemztRUBRtWP6PlxQ2/jul7F82b0Wd+hTC9gER9L3qJ995hKojud9kmoQg3Lda+Jp3DoO\n",
       "7rvYlZiGqV8dKO0j4kDNQNbv6P178dvz+KBPOPg6b0G9PxBfce/teNFLc3MMfiJ/+yXQI76mtKbV\n",
       "ZMrPbzjLPabr01O9o9DuO0QhMZinrRsnfjJsyhmsdUcorrR4Q4gEYMEnH0LArCeUE/zh5/Njxh11\n",
       "OcupPkjWODvwof5ai2V8DWjPMuE6zYjIIII+xdcEQGcLNn3l3zaEL0VGbUe7HB7P73/mDI0PIDK3\n",
       "WIX7RFXgQNhZxboDeWNENgBLgj4ix+O37EfmOo4omOomeLbjMByrIc4lvykT9pXfRs2l/wWzun4x\n",
       "93qnSnp+/k1XcSVsJo+SYt3+dUh5VpxnzbxufS4+IxrqOEXYBsBiL6QNEWkf3quKRTpdnxGoIiQE\n",
       "fVb/ulxwQOx83XZTeKK/co9/jaqbHB0EOV6bIGANoPPWX3aoiIRv2I2CO7s57zZh4GzeA3c5Uax8\n",
       "jssez/M24eorwgj/iTUAg/GDgqpzGEWwJz7tDjfE3cLLZ4CaMnX5mbY04JTS6MEUvRowdVYnZm0A\n",
       "+REIj74q8fcXS+76yHTqZbnARM3g6+80PTMjvLpgOvWDyVFPATs+Kzy5ODV22lIwXG23/rMQ39KR\n",
       "fsY1wnDE5gv6/KmIJxLaE7JAEO+obReb4BuvHkLq8Au8W2JBoSlqWn8CPSTAAmhdec/n8yUkbkl3\n",
       "RGQKw5+HcuAR8z1HTCrvieUWiGE3oS40hDypevx6zs9LF7oVq5WUnBVzOB/r49ovTDDTvKxhUVAd\n",
       "PVX5p1RkWRJIfcmkgXOt3OkP+HyciCq1Tc8gbzPlYyGXph8IRJ8jNUx59GzIfke169VHHvxZXJUO\n",
       "00cwElZYf1AYtKmh+IctRQ7mwM/wtDEIj0c4tHQleZzl9jgq2VzTVf03EHaobdsQmrYHWB3qynjm\n",
       "PR2NW6O1r/QvU0fIlS2R8YDEVAxgkNUtPSU3xPb32iStxf+AxA/xAAADYwGeXWpDfwALo9CDzvrA\n",
       "qiEZxS394YhnboZiAjcVY6Wtp37cLt2Up5js7NWpnwW07Qp63xI7gxe9EyqiBvRM4BTxNRSRDMOV\n",
       "uNJHez/EcubM93YOEDzgqAJHgWAVIizYW6aQfABspuM31RYylAS52wsvxQztlnAS2DQDoXmStXmY\n",
       "HI7UKmpbudT5H/EEozSo7EpURW8fpiERJFpmADrcp4B9kOHM9K84C+pfYMwdA2KR+5zqJquWW1hH\n",
       "KIuPGuNkaJakOFYCt938wEqCTruwvwX0p/L/cMVfq+z8/mOgO1DyPpYj+Hf83ZsQ7kOP62UH0OiX\n",
       "mR243qTrbNc8dgV+vT1DMhlfcYjppbwxU+5mHt8C7tf+qxE88zbUw8lqq97Ey8ACv8e1COdh0ID8\n",
       "rcc5qlccV7QKSCfeE4ejq+7ZpSR4Sq66D5xvFJwnPuJ76O6pb4GsRiFxrPxUpslZ4KvvYnoDUos+\n",
       "ei4X/gKY6W3EFMPlmLl+Pej2UrCa/irl6ehTbqQEpiSsmH2AOd9hA9Xoafu+gxS57onkRzquzkyv\n",
       "GwEsk1Hl9PJlpANGnwJaUfw0sJBYZ6pFnYuvTccKhQIRyoByYw4h5kAWY0mUVRfwZF/8uHmpwn0S\n",
       "b9XcDRVA8A88bVU9/iP8t9FWj0Ki9JbOhpdbUQAEaxkO9xQSXuujI0vZKBRGa+2ciQzN2omZTKLt\n",
       "Ko9iIzwS0nPFD9uocQ3iK1mVV5SSSJx64uVIBSqILh2E6hN1ZH4W01uLC+QCajODLuLY1hLWSYL1\n",
       "L/LmFKO5dcKo5SwWPITZVvMdR/YFztUBPEd/maORl5SIRSTm4uPKdkflFgJiey82n1bHzw/FoycE\n",
       "VJHQqb1uJVQ/GKujHdN6/A5HE2EbS/k7aqDxTgQGTs007IqMNZJmzl9Cn/kJpnYKO9gOxjv2tkXD\n",
       "GXyy2aVgfUm/vklyUVwsexhZ+wHvQ3qqdIiCNy10H25DJson1jDgKbj19WWx6u5CoHXHf8j3Uhzm\n",
       "dPSBXrqNL+268Z9iInJ9tpPEB3aZmTBrihECJZ7NByfrm+oiT3SLmEQACmDIOLZjzjQS117ryl2O\n",
       "cCi7ohAM62oLFrWubJNE3Uxr/mykSEsVLtdhW/ss2KEEjdfALx+0qvtK9hwO6LNjmUzX9rfGpAAA\n",
       "BWNBmkBJqEFsmUwUTBH//rUqgAIQefYue3rBiQ2E+0AHHAshmZ2eKGXjPtQkx8T+qi8R6rlpqGEa\n",
       "oQzzsnuH/45Mn8HOM89TWykMPNl+O+8Kgj4sYGw5LbRUHxhLF21OEmzf5Du8zjrz4lGVR+7ccFfE\n",
       "yxCi2A6Sdi3Jm5VPHKM1xnxn9+5/pf84eaBLc1/11mxLYzwd5SXII8olV8Acl0lRp51VYB9nSjKX\n",
       "kyJt1OUIlBk4VGYF6Kg//o6KsWvtHDwByCHtZqC3XkpVOoWT2RszkDyOmX4m3jxWUW2g4SCVWOnQ\n",
       "jfm2uU0xEkb6hmQcDDYxQD2jXXjWIepqfbgg5gmTmIX9SRXe/tFWctGN0brJs1VhW8nEt5rrkaKp\n",
       "MSVKW3VgnmkX+JzjJLPcaBUbAhFn4OIP+lCC6YsKP4HKR66tRnU/IyBHJyLN6Vid2sHe4XZ1+/2P\n",
       "BpW2NI4Xb/vo71OamB/yHwH5NfRkWmBl9x/yh5691aFKV5cpL++tuRWItuxZRFfFIocYf/+cn9xj\n",
       "bXxXZ7ToIbNOa/zSeEBvSfJpaHutU5XoaRKAs4vu+UhmDkERxBZL7cCQdB5L7XMvuAttqC/KNIAs\n",
       "6dfz7X8Hw3wxWb4k/sBOgaHEGO3xUlcsxWMGqzu8P8ggYi0iULEPe3yOrP/soNXHYdwgK+6112LI\n",
       "8foHlX4+pwk0HUOeFyQTTGFmJNUoTOcLyFWxoqHr8Hq/FD3UVS5G8wrgoDCxSIo7LO0+gHmcthLd\n",
       "tftImEeqvFQ43A1aIXJQZT2L/n+n6q0tcVI0m8g7lhs0aOevIJhs2bbLcsvBS/JoFMCO4HuCJ4WB\n",
       "2eHdj0ler/NjFVnYMJJs5gAEb9jwv1t/ZVOKtlFsL6p6WokBUo3Q3DJZb5kBo3ZDMdn5GDQIuvvz\n",
       "nTlNGwe0K4EopxYFuBkZSAzHDJTI7xDykvefwrmtOiVVvTsMn0IQ60SVHW/c1AwV6j8zMqxXw3XY\n",
       "6GQoEHWoDDiVjKAxzxuE3YF4UB2REAndITpxx5vagQ+ygoKjX12QDIgjeMlpFILQPZ/DM9X3Fd87\n",
       "vrZzjA78pKxkTKsECVKKL9LkBjpOc6QE+kX2bwqZaC9p4iu0Qz4MMF5/s3Ir5KHYK2RfPpQLS7/A\n",
       "z+l4WrHw8zxJXsGSvFWycaDmQR6/b8jiQwfETyFwBEMtOhRXst1MdeOj4pxIFk6P/Xgqk2NTV6sc\n",
       "VA09LRCL62penbKdvk3tNlyO8Yn2INW8TaqZI/StDFyzA76RO9QXDVV4FRMEyMkzvJ5nzbaE8fOE\n",
       "vvytlT82PCOEBVWEAydXZfmG0fDVdD6RdVAVuKx9rOSGNsz4km/go33VhYZrTuim/w4PRU/ogWqv\n",
       "RSKcaqH0hD+KHO3n9T2+v50xlinbd3yaklLlyDdzq7lDs7ChEp9uGIIn2uXcpylqTTBJyFli9bw1\n",
       "Rj1uOtAKCYOwRALKMwmFTUh8PxZHMbG98XWo4cXSin7tt5/TBKYdnPKVuLI+p21byCuPLvOiUc0a\n",
       "w2eYKMA6Dp7rOxHBaQv1pflkesfFMpQH61nXwhOzJFyhssIQ4BfjUjOegLaEQ2wLnG/iRdRvOxmi\n",
       "Wn/bcn0vvF5QiIMUrQ+GNlW0JLSoJxUT5/IpxRCeqd0Pfy9ORIqfDxiV6oNqK2tKCBA3Btj5ptkm\n",
       "wrRldnD3EgBEudAIgt04gEI8XRAwojkvAq+vhSKJaSbC/KVQ462bmgtjf6U0nc/YPiQ78AbGlld+\n",
       "ZBgnLSJRDYa4dzLEatIILxv19kOypOS9TqwelifDzQoaPFR2BXWNczCgSGMTGqHy/IEPv5gtODS1\n",
       "Vu8gxIecL7m1kADjgAAAA2kBnn9qQ38AC6J3oRyhlSE58AHx93roJr1HNzU4rurJl51UJvsu3oPE\n",
       "rfCZsOfeLr/6T2TfBFoM9933eoUEd2F5TCK1fAaoKCOZFf0f7e8k6/Kz4pbArqQ3GNIad0Ymd/EV\n",
       "RZQnTWz6ozT8cqprHQmP4j6yqt+CZ8aUysn2LwCk2f+oUuI4GKtozpR/jupE18Tj60/Fc+/200NL\n",
       "M/RMW5rc6ImwweQNxO3FL5OKH9s4g0l8yG+sTtdUN23AtdZ7JgA3s1xiDlYnGu2IclpjEry5VvMy\n",
       "9b+ea6cOniv8oTufd7zMmwJQhNu+IrAJAXeEGT3YR/8eokiwGMv4MhSTkD4/36RdUk1UFuQhpyIh\n",
       "s6ks6/vWbwKS+KStJrcfyAaBGWwGOoG20zcpioe1EmuXXg/xpVVbJhkan9KZd6OSBU22TSDxwAzA\n",
       "Rt1LT1T66SijjpVra4DvKk3ML9tHOqObwkP0K6nTjuFJQm7/ZyUJFn7aeS6w6/SgrXyouiczm8Rt\n",
       "Nzk2vlc41/+wBlX86ij4kUogyQ9WuMqF6z3mJf0wiZAkSw1Pu4r6qtsiBLDEXfNNRFAG5SXWTelB\n",
       "KnCrIsKVF3P+7iJBUi5m6//pFERCJ2tioOydq/9+ByMcnEmXT8nU7fPn0XtH2zH2HC5MEziHj6uT\n",
       "cSyUTkICu4mptAEBWK6XAfFCaxYf/1KgF+73tjOVslffSgc4bpQOaH6SxDChHB36vYDeHt7rjM6O\n",
       "o9Dw18/SPLJ9D9obNu0sfIpLbWlSCNQS8pVDtzzT2LkkHHd4vOTqf1T/4+YF++jGU7mHgOOfNkWP\n",
       "K/BoC1PFeyW8QALH5I/mYKkPOUhI9105xXLpptK7voQPeEvz2xE3qKlCnyYSGQv3vhMuvWZLTpp9\n",
       "r0gAAAmngQmKKAq9bMoZsXHl08nr7C7KjlkqlA4CA08HrQsTVN0LnmQqbO5inJXHYC66Sa1ADH5o\n",
       "JPWKVW8PTQdG8CcoG76KX6BYo2Aup7bIqeQLHKHQB4yRDoIKw2Tk3cvf5YCxTbX4y0yxvyNNlwF4\n",
       "L0LJ3DOBsoDHogD9DMLcMkpsJEPwLlmn7FPYex61w/7HD3zAWeR9ALVHIclR3Weh0od+TSOgI2pu\n",
       "MntHc3ZheMCdcw/sAlEE0/0e+NMcUSFNOKQUV8SAY5XgLOEAAAVJQZpiSeEKUmUwUsEf/rUqgACc\n",
       "Fl9XFOeQgBB7fpdv9CPZs58GkfQRpDdyUuZ03uIMgV4haV/Ly0tq7aGt2/+4AShA4H7E6MxP616Z\n",
       "ejvfDzoFhSN7+S7bbvSgbXOhz2zvfRPthshYu+q46yk95lDdG2EdeBH12xJLv5SbfCVX1S/Cg4rU\n",
       "6qw/LDE+mYLLhHc3siUSYBs1CFDjgsF5vVWabhihCJWLVD7MpbVbmRuZEWvq4y7kj64qdX0TSs9F\n",
       "rctSwFgVxQQOc/eUn5VXO0pk0Dai08jW4NoNshzZYz4C6WOoMmlJfZxgl5TNIr0/j5xiE0l20xFm\n",
       "IKTVU0WRhXc+eWAcepU24pi6TiKpGAoNyoUvRGlNIMy7NseGOfHYptC/5res0wLFI1zbMy2nvaYo\n",
       "TTAqOPItnffG73KyQB+JbD3oV9tJCP35H4UXQllP+GOubmjtLarDqU2f9khhv8HzylfcogV/fRIz\n",
       "odoMUyuAB9JUnaHM+cvunEZ4Bo45v/lItgNu2I9ald4CAqPCc8CgpNPRArzCstj17hQlaWFtCx3d\n",
       "ofh8M1HK7ZhcAfeCl/tME6mLLorfKHFcFrHMXoJ5ruMYeAlzfFmRalsxG6RWLtfw9Y2m6AlylUze\n",
       "9tknBmlV2KYyQtjz7P+pzpU5oS2sWsfQHzCZQy4LTEzRbS19wGAqB+IeIeT6TnnwNbmqgefwi6vC\n",
       "RMRMh8PQPEGAhc9iWBYt2yBH1TOKQsaTGvlYJc+9zo1S14PVZQUVxaj5vxvS8zKm+bU14Z+rB/RT\n",
       "HXldcUGiB6H+4LD78CzbB7a2OZTyWeXj9s/01JX6jLmj6ZEOTLN11KV6m4tsxwwiS8qjuJn6xeoB\n",
       "0EiUujBgPmwoTfleryiqWIB9T3ZCHhDdFawcy8O0TikbtZ+h27XeCSiu/igv8NMrBZZYjT4BblVa\n",
       "K53yG+9yYQxC6D3lS3lC5teiZjOW+00g6FDdG5O9BvIMLeZLl1Q4N3/dU4l0JtTwcOFIJ3wXU0vQ\n",
       "he5hdkVO0TwN1cxdiLPcgg5QJuxiPr99sKG+5pGyoHnS0OHr7JafiC3loFO1waWNv/k6npJzcHfS\n",
       "1yhy07ifpsSk5hqO9SDYbQi0DqzTtXjjx7TGuxxhLO3LR6G4IXb57MsBsm7JIwWRlOo0GcuWUfBJ\n",
       "Lqh2sdaDmGGHXIUOPYytXb600NLdWuLMEdK0nGor2/bGbp0QmaXhvFO/33hLoR8IQCcLmtoADkwB\n",
       "/2KUGKImRKee8zitgi//+i9b9/ssW//9fAOqjeAK3GBmLVOsMAIqrB2szpADesHP8V1CzYVfqkU8\n",
       "AFU3l3ssheDFeZI0dsbgAF5Vu1iizJsQjRhmkAA09Qsx/BnsGBKOaUXWAU2ywGJco9Gzs/0TFPF+\n",
       "uUVzvo3L0MdvAsG40lEUGUu9NWn32Hpm7lVvfKf2uYBFMv2Z+G+gzQqKe185wEH/WUoNgESWRbYV\n",
       "xm9NVbTevGJSZVxsZbLwn1g/j6c28P/VqjGP6Gx5jz/BrA/vdPvW7YMfrNMZ3/H/iRcfGhY2dJEA\n",
       "egthiVryNUdgjqvrSaOvUr/RsqGDGk0a0qIIf+7Q0xSebk2EQWRN8XW0iysoFFLjZ44t69uWbGff\n",
       "sWqbz9TXckGFwpJLjtLu8zPCCeDk9T97AKw0iRIUwk6kyoFxF/+ZQYiwYrgxal4P0py7d3xeaF1B\n",
       "jDAESmLsCOGZlUxhdNWUvy5xCy5xkgIttxoVYw/qVV3zngmthsRZemN/x3bgfc0HdiuY7qhvBdr4\n",
       "4eW9gutUTlQrXy1JqHBQJeZftYnFKZI+AAADdgGegWpDfwADYABilWKzkAAgv40oFlYVTYC4PjNd\n",
       "OWQHW6vxnXam6E4U8PD8sa3arcOUJ98gKHJ/KIehrbJr4c/VDQdnt5oQTJc3OWtUeaPtggtNvox3\n",
       "odAUy4TP5Q7X5bg5qmMam64KD9jqP1dtqM5P8GEqv6YlMal4BvIUAKvioTsmxLvO8vCVt9fEDI/7\n",
       "RkIgWGnwV9REb3sfAlpktMOxaJKhIJJqxOW4LiQQXTAJydnDxEqcSjDyb7k4MrpNW5mZ0Yxveilt\n",
       "XP1Nn6i7qDq7TiWJgfGWg/rLxQgHJikXqdMOkyOKj8ekGMLh+1fTOcuCbYMj69DMn0xjM2S82yAr\n",
       "2bEjP6ylgKXOQeP0OUI7qPtMNF3fZDG61hXKbmuEsPXzic7LndOOfeleJ22m6WZPbrPGA/IBWmFM\n",
       "s0rU27lkn4dXsKEoxFHStDHe8PnmWNyDb2vvqNi6JdNAzDAHzbNY/bIyOGrn00KEQUF3huMIEmRd\n",
       "ZIvTRYmADZZZkjQI2Z2hJI2zpTfZpVVhgv4ZCh+uBfsKBtQKy3lxZFDqMkh8Ns0GnucagI8NEPbO\n",
       "FRzF3xR+dvfXBNYn+YMjPz6nxm6GX16Jx4MBqLWHPG78jut+aHsDCoIgTx1jybagzLF/UFGsZUq2\n",
       "G0R7oV+3L70fop8lTmi0Gzr9cSHL6lw85+kqrwM5WX8oHgTKWuFfUzCcNKL4UrrQp0usfOdU0rtw\n",
       "g0XlkP7I0xbLkgXuoYggDx2Z1STAEsXv4J7aJUG3osexWZt9gj1WxHHWgdjhoz1+NWQ0ctc4xVpq\n",
       "T6uBNWSvukNtGDYfeV9VqriH/u4xLQDbF05Sayrl1yHwfKmdc1RWK3hTqVoCU6JnEzUsThTRwmxA\n",
       "EzeS6RTf2g9/EV8GorSE0i727hxpdgXBOhAU9olq8c/vX5bvNBJXSWEkf4N1Ed4CUGqzic/CpsUm\n",
       "0F3Jq6BN6O4Mdste+PziIWnzTiyfinm1vqUEA+7mprIUlBHfwjyWdB/I8Eq7cVzUE/menK6Z/rir\n",
       "Lz1gHkxqhx7EzcELUXSElqu154Wt+M1y+8tEppZ+MwNmr/7yFOatPo81syQZ7ptzkhidVT0W409b\n",
       "uo9FIfy+SOoI62bUB6hI4sZ9Z86DnKU8Z6FXcExeK9QG9dkbX7C15Ws/EWAUyyLFLf88804MAGSe\n",
       "VMEAAAelQZqGSeEOiZTAgj/+tSqAAJiWr7QVq1fn0AGhlaU+gP0kXPh4yuWcfC8q/FFBHrXnwgKA\n",
       "wnxEFCSOxMCniz/Anvbca8zKozgJ8PnViQB0F/TyHYsTB9GHZl0//eYbvWqhFsfUmNmK+l0rEk4B\n",
       "j7QQn7UBrD8l7yxjfin+ptHPt26swFmZAQDx/9PRQTL9ZjJoqmnojNY/nCqu3Ni/VQ4YJ67nZw1j\n",
       "h1DC28iVkhwfFfLUXhgS+4THqvx2xIGGTxJcbsokM7LDbfQTrcX4ARGYjjhTqykFXzZfglJwuTIL\n",
       "SQwUzHmMQUfGVswzAXydGRy2143iI5P/1pNo06wnc88lGxpbw1oORa4q2Vh/XTlhqoiVPQ251PMI\n",
       "4u31f5ALNav7CqYH4nQoF/W4VWjn1VTOvspiTBa4EizqjRVRXTbz8PiPSmLFjfOmUBTZFe4s+9hv\n",
       "QJ6xzA/ocjOGIPc3e1zUrXEJsWoww2qVczu4JCaL6ju/k09x4Eg3PWpe82HAF5AxbyMWSelTl7Vc\n",
       "5YshVdr8FmQXZYykLHXSCTMxFIwcnFZToaRVoGg7th0BYC3b/JXXKb6ZMFksLW0zyp1eff/v48BD\n",
       "zfLXMrYwSBzA2MozEMzU6eto8czWoLiL4TpBMgCciS3IdKvUQ2r506bxX0JvdrgUnb2Lo3ew0/JA\n",
       "2nG7+QcMPXfgIBuLm3JSdGiA9ISJMGvxyyMh1lInL2PqMdC9sSRhljw4SeT3M5YpOCRAU6L0qu8m\n",
       "jBziS2tTGHS68CziPN9Ap3kvK72Fc29hsN+5DCHH7fuDMYLFdWvR2M1lWkRNgs2eN3PSwB78zLPP\n",
       "CVAzqUYK2TbBmL3BUodQS84IlBJtDC2GhyJwcoMImfP6bEkJc6RC7hhJx5KD/0PAJGMJQRYcVcU0\n",
       "sWpOXsl+QSsERG79QfG8h6FXpQNgC+Rhe2YQx3EV/TLGxG9OEOyTnXAne/yUiO2f3Nkwg5lJx8AF\n",
       "78q7edOVl/D2r1o1zwUOhE4V6kNyJd7/sTW/iien7X+ZEZfaqZpmfwBmNCP1o0XfFhF951oX+sjf\n",
       "5Yf/OaIElnUmJIZopAKBFSIqunb2mW3CGTbTXK650CKn3gEn/5RDVXId2u2NBrxA8h14UOTEFyFY\n",
       "nUG31ZXFAgRIqQV1l88/HRRBjk6BezOjt+DPahcJjCgdV9GLOjTiEZmerqyfawCgsxd2kEPoB5Y0\n",
       "yGt0wwoR7towkByo197HMtfUuj2iG2EnjoC6V+RSYpHXgWQZE+4j9JCTu6XZ68oEdBkNhbxcDUb6\n",
       "P98f+4p0IhlvdIhi4HIY9kMLj72F01jumm21aqwYXso/f17XiQaIEZsAF8Y/GQ0q1k8KlCWwTql5\n",
       "dqRepP0iDSoo7H4THHfzKAwYD6D1fmaFdyd/Vdauas8xm7UqoFvnn6pKvFdWYgA84zICzeki4mfJ\n",
       "GSVbJTgBYpPdcfQsEBGNccL6blU9D9ALnvAJdg8IxMdPjTlDtqixMiPM+rd6IGgvxcBYDPNlZGe9\n",
       "c6TvQgpLaBkdA3d1Nm5Y9u38ra8LKZTTHf90mk/pyiGlDPZWMlMNGA4c7Uksikme5kgJ3zlVnoEh\n",
       "hSNZBNEadCLnf+Rzv+QHIRTRBg3/Bq5KUItzTf1ShcQgbJ4dJIKf1kUKg9yhoy0fgEMxaRl28vSY\n",
       "ILY4iYXgWNbfSoW9kmRbA7D8br/LZkY8Mfk4ilMCU0tYn4lWda2ZbNasq4J6OspcLYh1m0GpJvL2\n",
       "WGoKDCtr1TzuF/UewycjQWhmPOOHdpRHp7UTFyW5ME0yzZYv+r08RvFHcBYEnratG0hvZP+VfUKc\n",
       "IBjpkSzypcOa+SlAMf1xi/MYS7UE6rHgZcA94ZVefAADtHIYviffYp6lWE+imoBEPVcrs5sWCSVv\n",
       "2tFHvktX9PAvZAvIHrzcndHRKF/KZNuv1VtSKuDMV2JPf9bqLh3DGZyzrIVx5YcPUbk/tTKvMEj/\n",
       "EC3gEFCTwDY+a4WcLi4M5sFv6v461IN2DFrLGd56CmSH0WrJ8FJ3RGtxKtOsSfemahEX1z5MwCM3\n",
       "pqejAy+MIjvDg3Iamgga/VHgKNafs3QvGa2OwVQ7WCpq7vI0BvZe6tMQYghOJnMoKxdylpXKzdHe\n",
       "c8njdTmcefRkKrBCcN4sDGZgW5+m/aNmCTLunlvlVqmHQdQajzBLJ6x5nhrBoP4LX2ya9kwhcKF9\n",
       "Ip2YRjmop/bTHIVH3c9ON8Nt2k+jO8hHrGYSdUqYEQPvdVKAMovoKci4cx15o0xRQeUSlwZsXkCp\n",
       "4xtZRT5HAKB8QjZ1oqj5xXmD23Oco3rgWWFnsZSs0Dxle+uoUYKYKPSV01DLcBzNIHkQmqo6G7Ch\n",
       "gr+mg7GNFmw7dFsg6UGGnc3RSFfjFqGgtWXXbeKVj5J24P1fwqjhT/3cYlL6tD3uUgOjQBkazs29\n",
       "mIb49Eh1+1kmEKiPajGp2DmD59mftBadJq2P0osmJ+gQJ0XtRft8ex9YXKDftq0GFyxSZmfaw5C0\n",
       "5ZXTRPgCXxRDTIIT08Cjt98ouLXTcHYB3msYaFJ5/xQ8S9x8h2MrlI0r/g3SSKuGQez7zo9KqaB3\n",
       "vN6BknDrBhlgK3qaITWV3sSqspoMU/Xg1gAAAuRBnqRFFTw7/wACUORX9vqy0QpvgAHyQtEm+JzR\n",
       "vzpdbla/V3rkjk5dLK1p0CDdojTZ5YYVwMzzLrrZXWkeEvyJv9GNIFfvz88wosF9+uNH+FFo59Zi\n",
       "nxCc1K1gJkJnj8ryFjo0+0P09qXlRcrvB821i0b1d+ob9Pe2FOw6oTZ/X2Xz62f/p4/Mzul+gJ0a\n",
       "MfTQ5njUFA5O6ThRDQ00ato7RL+mtTm7bF+Yn6H4gw0Bp7Bt19TEbZG7mcPj+WIGYv9Be+ARssHi\n",
       "pAJfuNuv0VOM4Avpl47zysseo17VemhqfavdCKJIuFhRfIgCYYgOtLTcQi+gI/1RMYaeGlzZb9FH\n",
       "GvPfnLIeAkqVgaOKPdEGhTnAJ4g+1RGTMf8n3MXb7OJQTfYrvQCwb767/hFs4KNvLYdhGAb+FpK7\n",
       "Ns0Wr/GstK5K2TEQ+idzyiJmJlQFOcvtqXLjJ/pbmaGxrgY0PbmXKEhVT+SN2gLXQ0DshexEUEoE\n",
       "sepa4fVv/nfr7eXtUJQFbc2Wz1gK2viNXO0ZplI7dTfOWHCt7wD9A5JzsZDrIm8QW0i+HPzyTC3e\n",
       "f0Zgry4sBWAAhj+5/gAXPCCvd9RMNUkHPx2c4ueeivbF2mwkiVQgEGbjDA8tvlGh7CAJpWk4tg41\n",
       "58N+jPpo+UryXQ+P/g29fY9XBd2N28WnB1saByLpiT/vBCPrfEB6AYMkv8XUsFxDSRh9CGO0Mpe9\n",
       "wvLQYl+69oYmkcsU4YvLm90/HKy1+YfbhFqgFCgOND24KFxMrv4lVKfmu+d68OAtcIDJmJsqtNWC\n",
       "KBM+JcTA15ika46LChtRYqrAOJtrgFcHFIgFzdGEF6dzsthTDV/GK8mqtZAgP1oTI5LGo1A2aKdD\n",
       "ZLHrY5ycPjfofOo0/flIT1zmPlokb0ZL9WvhjLTDNY8rnJDFxOYhomTZvaMx/QvYOU8fkpQKKz2l\n",
       "fBCX7tP+CwYKlIQFo+FbFGfsTzZqm1rUaN2leQAAAyABnsN0Q38AA0lo5ZImqM7jKz8yBv64wm7q\n",
       "L/3Oq98003Oo1wAtMj8nVcgZ0bBPnC1YOPXzKL6qvCnNEXM3l/OBvfmhGbiAw2MBUd+fnf366kqV\n",
       "sKY3jbsiKzBC8uVyfqYQhw22GO2DwB3Z4XPWhYcH4ru/GVExO+NIFjUX5vSf8MMukV9gsAHbtLCz\n",
       "HjlDgGNNiBT6QoVuYsC0INQvDUyZus/AIU2v2wkeLjIF29A+clECqgvh+CbXkzaH9zSTo0e9pXnz\n",
       "sve8jSLaAYYyqXuXkX221ZX1YuXtdaehgWQMRUR1pzX5T5tpltJltd1vbQZqw8TfpD41iNzaMNZs\n",
       "joPrstudeHoHFG1hVAFvBcJ24AeEhIWvW4YGSa4Gw+w2EEGO9WFpE3MtDj3ZDIHhUt3mR321eBh7\n",
       "c7C0SiZEGMv9SS0RHMpIvmxpUgGAd1zzfZmtz2Wk/GDqYIY9+A35qcIpOreeToasQMinDnjuxdjC\n",
       "bIi8hZaxaY59OB+AjaA2OO0KV37oAvGO+dBEBxNsStBZPE0n8yyRa+ucyIXi1mnGQE4MAlw3JYL7\n",
       "qg3h2V/aR4DEyTPo0kA4fSyvJe6uSYZqucIOf/T7b9buu6OKkxYZ20FP0OM3bG5xHMjKcFIZNT0X\n",
       "BAyQwYCFf+/QlK65PBGevqcqG166Uh5Vi7jELED3cUdww9SF5qT5efYMPt0tezvzhVKG+nUHOECC\n",
       "LoUJClxz9lUcjhvl3g7IGnh6mPROa7j9Zx5/9oHgxILMkxr/bkZQBTW6hbwDIxvkHX/n4LASjM5P\n",
       "NmbkxmAZ3fQMXgKNLbfoJNrNk5tIfes6lp3rwD/NkszbnybsquPooeAAkaFTXIADY04kVPA/moPW\n",
       "S2oQDKElqz9GDhI874NvYgNWleM5/6+9DL9FeX9DjH2w6zH1fup+5nf9ggAABTnuSg59H0AADV7v\n",
       "XuNoe3lebnnPRHOizJ4BUScLOnJ5SdLtF7Py8ljqLx44m6trZ/qS73mQwjHmYjZmp5OBrYy2d6zc\n",
       "qGz4VcX3nynl1rbOzshLDwUvKjn9JK+26diypq1eSchZOQAAA3oBnsVqQ38AAy5WobwuAA08VM1h\n",
       "VOh0UYVWkfBH3WLD7uVt2TaZIRtyH5WeU0gx6sMTWhTLf8v0Vrnd8mxwiNptWx7pSFi4J1JfpphM\n",
       "pgxw9actwBuAG6vm77B0X+ht0qcCA6rTbTWohuMt+d51fG+dBmxgRU0QbbzcIZubzfkbuB6aszTs\n",
       "frSQo/fgVhQPbYeIM/CunfWdELGZiUG08PxMFtsiFR7/Ny1KpHbnw3amh8MjMRFqDh/p6FFH9PTF\n",
       "8UOYGVKetZV+i0ERkarOD69toa9WMxTJiTn71NNAeG9Ds4TdbOFLLbKGir/QfVQGQ6EmZl1iiGvj\n",
       "+I7dt6ENQBkkQHJPLWyYchJKPAdCuda66IiFZk/PtUB1l6JcBrHQCiXnB5qM+ykUcC4zvRVRSAQE\n",
       "o38WBiF/FYoAPQr1mCAwbpshOr8GknVdZ+wmQZPdeTp/si2mwjLlATCbiE725CLWDLmY73lfpYU0\n",
       "grWtJHlSi4vzpzl2X/7ckAC3Eduh/fxC9RqfogknZ8ExQO2fPW5j4vz+auTk6H7RjluY859UC5kz\n",
       "kkQ5LBIzELzhEdpqZaekZcR/IKvIrCqineialicQdMKTsy0JXzmuzJJysrL+Jaeov0e1z4nSHD7J\n",
       "UaOV3QY0qVOJZGdLXSMkofVlabTjc55gnSv9wQp1n5xY8u4zOXI7MQxMW59NoE8JVOQsyIXDnamb\n",
       "VWcK5mnx4pdjK7hYSahCdwYR9dFulOXo6zL9DVETJXfBlWyRZ23Tacvqd0F8qk0UoICF0k5AoFKk\n",
       "JaPNUA7JGXsCV6ZIQnYYeGNJmDQw4ijLOkg3sFyRIv/pUTjHzwxC4spTH2y9xDpax0Nff4GKABKm\n",
       "wxYrim06hYuYdpdgV3jL0kGx5Rj1LJDKN+vVfeK/k2vxVD6s95byP3LAHAv0ZlTM7jnXknXdrQQe\n",
       "Pc3XjdxHVOlHn+Daqu1YYcQQauDnDssfPVdTd8DZQSu2+F0w290Vf32CnycKR6RWZa7R/xi2mVNs\n",
       "Zl4ykjV42aI0TN/85F1J2R7lqWgTkNzdFSigfrb0RoFq1O3toYUJyEtnjuusZ8kJ+EtqlKUUvIm2\n",
       "F+1q3m+eva5V5kZQ+YO5FZlqH83I5zEl/SQfu/8SpwK4zQFWU675NkNeVpwmk+G7qNDeGf1+GGWs\n",
       "zU+i0Gao/whnPwCJkmyDgQAAButBmspJqEFomUwIIf/+qlUAASgXiHIcAU0UAAGhJbJc7KiLQATS\n",
       "QxqO54Cw1vY965mhJGcAKr+a4myCCdPcQv2e6OvMhHpjoNKEPiCZVdhgkmnJkuyYz25SvaiqTW3c\n",
       "Qk16NOqjn79jx8fVJiqJLXwJVKv0nQ6d+y5vEl26dQdydMfSBkYPV1E4Qz+L2wtuccsHPmsxavqs\n",
       "4DdLIZXOlQTWfqVuZjlCRIZzO25RzzR1tPVXEBGRBp52FqnrffnK60+3ewmzzF7s+oYANS/UcoiH\n",
       "hy0ERlN94uqFq5dNBdd9DqeP1haqnFXmOUxWFXjG9B2HqMD6nne6t3e82YYaghTrJ3xEhZGWW3Ex\n",
       "hyY+BZ//tubtNLm3K3YPpzZtWZuxp5mUY1/apqpnlzFMsjiB2Jr2tc8Riekk+RRwir1B7PQmM0pJ\n",
       "DWa0gnE/yvua2Z+M+ObB5CMSful11W+g8mLv6zp2jhofaGMzZ6jA/2mnluXz0L3DBEiMLCI6Bhxa\n",
       "0em49Un3Cp700CMa5FSOmthD0YslHnHenDTtvxiJyFBky+ZxtIXbSjZcyOJSr/5TR/Y3QGttxji8\n",
       "w+/QK2mw12mLDnLW8rn5Q7s17oKAwr1iYmEvxneOY2ALhHiGD1LC7vYngWgl27+6HsV/MUuvE1IS\n",
       "5VxHrYw8J3vQpLfodp1A9T+dB8QkD+3IqXXiy0G9zlAUAMw8kK7YsHmjIncyAiW8nCLgpQgGi7MZ\n",
       "2SFkr+wSPB+e6YKJA89MVdpbe5D1x2A6gEDllXJ+C9nmhmaRwbCvKL4uv5W7A9InRR0nRl+3l4oN\n",
       "2EFqADpMgkloCHGOeSdn2KtdTFTtkSqgF6ujLgf/739SAgWU7joV7SFtccvCD8ss+5HZrDuC6PTz\n",
       "F+V3PKB70y00K2WhtF5MtAzI3hWqlOvArwQqItWQ24nJS1gBoIJu4bIHTXnPV67xeVYWWEf0Lqir\n",
       "lIFmVVP4RGLuBkgTDo0gJMHXfwSO9xiNcIhgBSU5kWnSUhFyyGSCzyBPnl024i90tI4BddrHofYF\n",
       "p5CX+IeRX0vNBt3xYcjevSAM2CX4czz01MTkU/xmgYTk+/HdmpiPYzPUa/mAG2bSUW8C02a33Lsx\n",
       "2kXxf00tXyL/BkQdE+7BDhhtb6vr2af3SNvpTg8cyy7u/uwCoc2749eTOSSGGVlXbypzAcNdjXFy\n",
       "Hs/5yQBNSikc8GQo7H153J6XCwXTSPlCo/6jt/T/EWXvlFt9Tm3zePUdvE6W53Mc8DSv4gGhlpkT\n",
       "VfbLPixB6DWrBA812D0oDDv2cP/dFXrRKJYkzDg0wEYndM9kcW3ZsmuK3OUpSpxSy+MJdT+k+sIx\n",
       "YAQrhaNeD0yKSzLPZaGN5vwzxBTRUhuaCRhFZEWCC3U6V7keDwkQVDyM4hjbsoS0QJIw5l+4aoiF\n",
       "FwerIWSxZtscWdu1EOlXvOSLfslfv29UjQ+s4d3pIJd3NNsNT3lyZblqwRdNIfD+hA8Y4ANXSJ9a\n",
       "6RpQDtJfAPAt83lo6H2o82LtyvpeudXOtcFSXZeRWhP/Y8hu8rrX4smG0PpOtIB73qDkNC2R4GMv\n",
       "3/VYTmU5/TN1KK3f/KUvL/QJXTrkOOUCdq2r46YNtJIrttDjjdFCmLBjmsu44LKIhPkl5eQ/O/k7\n",
       "NoCuGcoByR5RodY8TriQ3Vdzd5dWAobtQ7rcIJnkCwxtkKbGLk5TNrw/e67A4xZgHZlDpGaJz/Eg\n",
       "l6q7/q/xA+y8FaKZgtVPgkyIQRO8HXOFOlXl8PJ3An01QesjgyXZmn1lETz2676o5rvupWzHQWwq\n",
       "BFa8BffLo8LLUZnOfPoVos3WGawaNPH4hoOkbNmpa3Iqk/MIy0RiXzd7YalN8cVlYxeRO0mPxkXA\n",
       "LhwbHeTprkoBkj+7fuFeJKRKh0yD1riCKMRFqeQRKFPI58fm0mRIm40GrEDg4IMAzP/cJEc9QMIZ\n",
       "api8Z4u+tBm3RN+34RGbWR0NOXPMoQINQvf7bTSALWavw1XHqiFjPssVc0H4H+oLO4GI6gPRfZtE\n",
       "nXn+DUCvllf36CNYDCUhzFsBOBuvAISOrwLaoKihggPLtXFIYHzxl53FpVIUru8t6mmbe2yNEDLd\n",
       "2rQYJuwiT2lbLiL9cg61ISOZn418//vuMTLVEafjr9q2eWc7Jm91Hqp4EsDv7PWjh42t6yBJavCE\n",
       "HO90ypsPBSuGGP2bcqYlaXOqftzNIzGRrcNjnFJqAK93N1UI6uO/seLENtVt18bp31xhAx7OIele\n",
       "KqcaH7o68IcoibjJUOd17q//jkJXSf25Ez20FEovb/9dB5c0/tVHcwnAqmif8XyyLRAJdXNkX7zr\n",
       "pP3oI+e5FTADU0GmAAAPRLLmvFta4APXAAAD9EGe6EURLDv/AAdL/D7ugyKbx4wwAIFHaaXhxPqe\n",
       "SpksN8JKlJh3HISoxSkkA+iH0xqyIiZkyTOsaEUGWXyUNusXvYYbqcAuQveXiLxLuO/9kgaaBVft\n",
       "1C8LdbLmXwdBYm/qM+VA5CZ05wdfoq18017yyWPg+UqUSvA9YYwqc2Vpx1WsxUbaWHHwtPISEvUT\n",
       "mvumyM3VI4IqUqz7dqEhSZC1bLOcE+71hsP59GJ/GCXvpuW9Ox40a9qoFQLuHchrfCOuLXBrh1Pw\n",
       "7D2WrNiC5xR/QOK+J55iGgVpRdXVzpICjv0v0eYHgGXpNwm8z+VRWOUNkWuZXWNDyBr9eSId/nun\n",
       "VvDcZnfLtHXWVLq3b89sXrg9Z37f3UUvedKqE0GrsjCGVpRJ5RxKW/vVf/iAc6YUpRmPq/AIRZQ4\n",
       "S+Jr3TFA8fQiY58wY7xw94gV+ZaLFh5d5dUkKSAbyeK7GLQxObzrPPpJqhEEk2cd76NrL7t+UFKP\n",
       "uGRzOodNaJxDJ4bs1yEvy0SBwXNbO8+OaNCfD60332AvlkhnyPyjfB8hAW4+ySWHvaHhq/au8MTA\n",
       "zfIqJSrXUChp4qaWZ8rgALsfOnwfVJJcLSxtgDRguG5VwOGA8RUwJ3j9HvFcWqS9jKTkMSKM9tsU\n",
       "Dj8lWo1JuqNoGhWeczuJcEJm2KXFDstQnx7+8o3HmppbTXFvpT4uxw7VezRWxpxmk/aMN395kG/Z\n",
       "w+9E1xWO2kZDMCRv7Q38Fs6NWzmqJJ+Y5UQQlCxqBSRiKHoRpUMpCa4Xft5SFfeLEYV7O+EMSmaJ\n",
       "jA6pVgRizNDXXzHd02SWSlcN2m2TFZG9zanObfBwstvOsU8w4TQX2GlE7u8jM4HcgcKjMhNoXzG2\n",
       "bmTIs3EKc9Hu4xdevWSanG2HdLrkY82waFW2BtG9oMVYlj688KPrR9uD+ghzSV1sraExR//6OcnJ\n",
       "/oup0TZztGxnPfJxSJvCDwyOOFrqEDWP6wrfCAH6YaAPBvItHfsvrclcD3RkM4WarUuxSIfSRD0z\n",
       "oMwQBUKxiIXstaoHQYttKTtpFXmHEP8J0OH3WuOP0W9bBzIXMLj7VIT96RBkUUs7v0eAHkHFK3Do\n",
       "2/D1fIryI1XDaCNVzW951jySnzxbX8HoNdpapYMfiNhI9hSLttC2ExAaCx+1e/dq+28rJ3vFa1SW\n",
       "49zD5z4Er6h/2Kvf58hO6XnD+dzEZM3p50ZcVUJ2eVXRP7HLE5aZeKuPK34Ilzp2+KdvtgqxmBtk\n",
       "TlZ7icnrfly29PFinn3ziSMV1tq2I0EfPbpBVn7QNi+o7wRLJ70Sj+0GBw3OrZ3WVBegCl98ulvv\n",
       "8G6cFK2MUqCYCqsIPhAAAAMAAZ8HdEN/AAM31T9GQ3AACa+OwAbUJM8gYOnL2e8bHE/jE1r3cngg\n",
       "85WkJHOVFSRL2t4S0y4SUgcWwHA2BgCW16ZRnQudfV9iSuu4zSRgdTejympktWzaN3aO8iAHhfKu\n",
       "nyNIi3hjo9YUFNy6oz/NsQd6UYizGYJCBI3KUaaUHh8Gxc9K6vRwkDwLKNa5RlYr/D91pqsT4Wa4\n",
       "MaRnS0fZCyHkUzD44xs07BoyUw5E4G+UbTNOOagjUm4q5orTa6GIuqzGCqSlIUxbTUO6pKnnvITO\n",
       "lp7zKQ8U00j3UuJislJuBYD+Bleeg71Ea7HJCCFiqZAtSDtX6MnQhpNnJz42ulDOaxScNuXDc0OI\n",
       "I/JHfBpmc6sjF0yRHML/eBDF9ouuJFLqlwY4MAku9mUMqjtwnxbpaxFCXHI4A167KNGfZaRn8AzK\n",
       "lAKOCJpbCB+tDlPlplXsxMqMT+VkptS4qVrvqUH34MnvRiV4rA0CNr0SyLKL4WQxPGzt7hvG0gYG\n",
       "FdeGzqWod83hrzjm9vFQHAw6IvkJuNlEgt5a63wyHtyrjOU4VKUM3/FnALW6++/lZ78Uckuhuxpv\n",
       "luNI7HblXhlBRehXRAkucVpHZZds4/YSSgnN3XmWnlE1X78bbii6Xqgx9xvUIbG8BT712342EpP3\n",
       "WlrMjhysnuRE4PzJhK6WKAt5UcAu4HkzJuk1AIe4tAh2ncB0bfZtdqlk9ZG1qCCeht/M+G3fT+j7\n",
       "HZQA4By0xxwUT6M93CQFF5jbR1ecNaVTWFSB+8hm+YxOWMsWjUvExRQBDEAzKouhv+rI9llZ3fNO\n",
       "zqtdi7enyImHbi29RGoUQHnprOChwQ2Y9wP/0MTEhLhnydIOt6J8XvQuWKL1Hl7IMI6eKBY4dd0T\n",
       "xhRQ1i+aFNfb1U9tld54JoYz5CD/OKIMpgAADJ6uuxtlhSauxRKaPb9HFQZUElyMrLJ/CWgx7Qe/\n",
       "LjHLbz/eFq4C5d+XmeCEI5c78Px47r1gyQGdxRuKoR21UDYPgfaQvhopcHVsAAAD4gGfCWpDfwAK\n",
       "hMD5rsWK9mqSMoANmLOTJG9zLIDyDsm1u3e05j+SRnAWVFtvsBVuWgxbbSWK07LqY7mzFozkWqhW\n",
       "yIzQpooN/2S88iHDPys3558C62PGWPrA0cJVIjQSstz28dqj+SQO7jGZ6sDiN8WgiD7FOP5tb/hq\n",
       "7677xuOpTdwUD6ZpRQpK9q5RebG6llqEyG8AepbCl5w1ZOPBx4pvyO+BH3lxX3U17PsnPPDZnbVm\n",
       "uKKG6vouYBGFmfoADbjTFIEr5DBT+KLs2eFtaSugYZwYfXgUFyon57l/++0kan67XLHb28TE1oHH\n",
       "REzajgg14IFV9UoeO1iTeAOy4eTesEOAEQZwshriPi9P/LljgkMkyl1G5bq4tH10j0wlzJxyvL2d\n",
       "iFoZGjn87CSluVSXqvlxdjNaCoeW6qFr780NQDLvcRL1K3Z9017XhI9pooVHJoXuBC9I2/uFdVaz\n",
       "OsCdkxoBLorWLlltUgTNElOLOs/L+IIu1fpoH6Z6KVe1AhvJzpbDvt+M5fgOA07hk8u4TzMmX++m\n",
       "5DMm/lcnQMY69XDzZoRw1SBma6qzqnG+Xncl4RkYkzlZqz8esnnRRz5UXYoKnfCP8JLYXlRS4yUr\n",
       "8bG9IwFcjdCgVBubk8n27dLPkZv+7FzEtQ/uGST7aluOKH37BXPaPdcyoqxu2XW+RsWgcNebap2n\n",
       "TebSiTeGrWNwovQ0s3qHaTRrlkTuy9gFseLvMyBYDgR+3WxsorVL/68Jxzai1pLMjYEJts1SRGIr\n",
       "k/6xFgOZKdcGDl8QzLwSGP6GjHTfPSTl8UmZNNbif9W5wyRC4Tfe3zpQtEchpdl03j5JG4u1tjF2\n",
       "N6ZiwetZEaqy9PnKDmoyVbNvl5eZNthBc5deouz1d73OlhpSycc5/5JejPaA2/LeF2c2vxzDirf+\n",
       "TbX4PXRdBzBo059wI0g7tfwVP3gkqugP1zXbEOgFDWLlfFzbyPK133mOsQZeqsDytU9O6tteArLi\n",
       "dcjJ7CUsOU4MVdbDpFdBc9yu9KwDnwIaQU5SeyqmoAXXGc7xAFD0xgFO985z8FAcXBqnFxbyFWPw\n",
       "Z1XqeDkXNOCRAp0fCPFM5KmXzmXRyMlkJL28pBPEyGH5uHER14nFTKg4BAr3UUR7gv87nQ4BhXwR\n",
       "TsEEb1ngDmG1c5+BlYvEopgniKl32bYAA6pYisSRUHQsxGq6wytLx9q3ZQ3bve+EdueExY4jcVtQ\n",
       "bWqdOZ8RFHcVgXPldPYf7ykt2dZVZ0oBw9FQ+aj69cVisc1zpX1x3lap55hM2YTlQ70150Fwi2Vj\n",
       "3ooWa1Ev1YjG5Uxxw/GIm0EAAAXaQZsOSahBbJlMCH///qmWAA6TU5lf/0N0kAEP2naa7PYK+tnu\n",
       "XTxLF7wSS/6O1Vmk3sJjG/d9BMygi5W+zoSA8xe8zxxs8GS5wOd5Jtbu/9e+rbifWnAsG/ipBM45\n",
       "O+6zwYk+U0kW62z2Co3C3bpfFQa1vXgb8dBdXJDaHxTi0MPrhjweE3BN8tp5glVCH6XPYN85daMn\n",
       "iBe4U8UediOlxy7dlaKStSY2W+5ii5q4eyNw3Ac4bwHsORoDcK8+6k0JWxElw0mWxjgxShLkOGhX\n",
       "bfbXGNgXew5xytA0aFHTX9z//Ahid0EFePK2+fVkeYcWORRkin03HLq5BCtZCAjzAt/zQwqwIzCW\n",
       "u94/c70cEcxYiaRrYT56blFrejPqJ+3khchnorj9Wq2nrVlELiP5y2w82t2oo9xl5NKRR2LVVHNB\n",
       "6tV6CI3ahAG17o8CvLce9Cok30UlQjRlo+rpUklvgzaYpdPC9Jk2GiBFz8crgmYW33najilJB1C9\n",
       "+jBrcW24ubf6S5QqXgi9odNCA2UkwEON57e3eUR9BaZ0NAVSKYf47rdTN4rWA2wm1U1hE7VvHh0T\n",
       "90omw5bemyQ3pLeifdmvKRbphVbv2sciT4pGRMeuCQGKBmTvGZWGtzbn8tyyCv7HJrFZzsMZXraO\n",
       "EzhYR2PeZ+M6cxX2Q53xDN+ttfFFLbEfzJLchY/ObxSoCXn9u9gbeIVLlrZJlPnUAnHPdu3EHdrD\n",
       "o6xRJXlck6iNaO0PMkPGUzGhGV4iYQDe0rHmiiTdder8V+P0gV7epxobbWGpFGHBag8ywHK2V8Xp\n",
       "OGELXlkFya2lXdbWPMgM8renV9CsJ/WXjkHHvQvfy3EguEE0ZUwxoCC00Fwq0S088obU6zsLNXwo\n",
       "Ex6zbovm5Lld3nUS0K6nq34s5tRFD6DF8FNFrwTyTUPFu9WzvwgFPKxnzNUlTBboiUVAShwY1AcA\n",
       "SI5J1XNU6/DfGWp3mSt1aBRzqDWDL8MaOpLYbyA+siFU2BFhxNLZoOI8BA8vpovAr+Fxb//ojHi7\n",
       "33A+8XbFCQuv4lwt7Vw6bc1y0YQNHoWmmgNMSSXD4m6Kt9/LJtTs9eFjrGOi6x6h3iyGckBEOENY\n",
       "mVleXyFZb87MBL1PrcG9fpoD4UAkuSj2sOLZj4ywKDzUPzzMXySgzdCTOb2+/t57+m1+Zy3fEoom\n",
       "/f6jWWRur/3O/YPaLI3uDQyuzxF1Bwk6P/Nv511ZC2nQ9tQhH5c2gOaklhbq36PGTIqNmP8Cjste\n",
       "QdCvoeiSoV6QQk1pOQKVpdRXgvUye6vdGPQHA3rlAm6pJuVqVAd9hFdMk57RWdoMu6FXNbK544AR\n",
       "jMsP4qDYESz4wS1Pa1PO8p+cQsJNEQv0V5DXpDH+tV6criBD4dsgYcM6zqZMnlcJoISj6xDAPJCA\n",
       "fqJBsJUTcR2RS+7Mp9wwymHpeUXhgrfIxE3f2tn2wNbXYEhYzG1GTQZ8lC8DiC5wYfiHC9zYF79A\n",
       "9H5X/APAW8Mbb1By+DlXmGV9/leoBZ2IC9+2rjI7t9mcibP36XmQ4O37CXuCvB5UaR3eQMzRMYbc\n",
       "R9WP5wuYlxkn9xss0Uz3lpjefa6nHyFRhn4ehqJYJ8jrFDBBpk1ZY5JYGJozjDPpYgf4CR2LKxab\n",
       "chgqfn4Gj4/gKCeHPIRBT3yoBqSNfZYQpShSLhMpU5x1DyDSY77QK3TIhJVd//1TfPA5dbwS4O4B\n",
       "KnUCjW99OmZDGsX6a9Jx2NUaEkH7siPRJIvvLInHzl85Vl05WN7O+52y/N2BDMpOi24shSnMonSt\n",
       "a6+CoYSDPIIVh3aBkCUaHPnRfaep2dPDuZT35cb9GeopW53EuSzsxS6ScEnKQ7cdgPQQ64K/UuLU\n",
       "KCY2sOe8kafuFurITWiCu6WZkNtqBh5vqzUDiKCFsLSjABIou20B9xam5iAsckJrzVeV967tZH9i\n",
       "JWclsbivOptNRc0rsWB+nHLfpPIxiXcQtg53zCJ53Eot7igXEAAAA/xBnyxFFSw7/wAHHVfi8u1E\n",
       "7hKrE9LNAB+tc3gFvK1qZBiZx/OuXkTP8+wbymQT+zptZgNgKsyhzy99hiGKYfGM6CEyn5bxrSKz\n",
       "NGmnus5300UdL83PwFeaGVODcLTiofaakc6KXvWpm/LY3mqZ0df0vOyjg+286mn3DFSeFK1c6Zd5\n",
       "9HEQoSknQ6wcl7TGzDZfGE2hDc/pVHfSOn0LM1kBEGMZD4Ltk+thNeuE8vodlAur6L4jo1Oaj3RQ\n",
       "fFNfGf1Gqb84RopnN1rgdUj8BO0ykiKRFL3pJAE2LzBKT9NV0wYaTl4aoBe0QOyZvWsQUcIiq2hO\n",
       "yNNyG7vWBE11mNO6LsNAsEMUch0iOd7Y5tXQflPH6/yZP4rjP2bYwGiPSEhgeq9wHLS9Eo7AJXMJ\n",
       "246rRjBnBsyjyiXwYmfIDzFIaLwgcSa2P7UM8lS2aTi1o2zyqANkO1EnVbBdEd6moS5L55ZtTvD+\n",
       "MQxGb0n07e9X1P0PogfTW3B5Jw14KpFxGp224JfXSy9XXqZlr6JAqn5O46Egqol4z63KA3mw9/Jm\n",
       "gWRQ6d8eVJIGujk7tDKvoQTMoZeirZlRpiLNMNUAyMGQ+c5OlGXxBIz+RhaE5tr+6hJigC8epqhI\n",
       "CT387iSf+lla/uFYkAAkoPEglmNba9VW+EXwsXpCkq8Pud/3yjZJxwKzJLfRX/dZs1T3jmomAfb0\n",
       "wzw6c+Z3Si0ZAAtLUCTDULx8jN5qs0oA2wUdPqXxfOfBQlaYEv6PY8TdKZbLi4lGFpReJQfPlHwO\n",
       "hkBUtTniab/H5XtzW7uq1R8g9HE5MZybVuIkC53Uh0zjg2RGA9gDjpT+qzTwF4jhtYEqKvGcgSbn\n",
       "rM5b8PCns6Gb8Pni86LSHTJ5QZGHfCHJV4S4XfRiiNY7Jf7ps+qfM3T9kdChKPcxPv2zuN/WMG8K\n",
       "eBlanMJ4m9QC3lNdltObPEfFWg6e1tqm27Az544ApHpySKY9Z66m3qzrjbLapcfovHHlNB44TwIo\n",
       "kcMGdkyaTmEKnWAA5rHA+cKvqT/IpiZQWVLPAL8RDFo2oDytM7iwEwva9NsC0ja7gFuYi2NUvHXl\n",
       "uk4fTOpp686J41v3dw247RAsvIPJFc181VcAjNInHSP7dTFF3qPxw6z00fdbCAtn6e8sjMwLDeu+\n",
       "SR5wzDC02QyMKZLiK8FoXWYzbAr9ZNxDVbubO1BChnttaZcU5EWE6QfnYgkJIyy2Ch9/E4La/1Kr\n",
       "/grFL75RwY5xHj3cYAzeYK8uakAFT02NVKaG/rOxtEaMAGfI2xS6CtVs19+98FynyRMQoySnqEIJ\n",
       "SbwrFYJqa76zZkDl08NuZVXf9o7tyJEonBBOl9Zik9CCN7gAAAL2AZ9LdEN/AAqDGs12WYW/j1D5\n",
       "bJFvjcWACHuBEY/gcQvCqM2I7Cy65qM3HziNwKZ+nwetJFzButS/OC/Uf/maylDjC9Y68oefU6OW\n",
       "BzKdYYxwWy4U5F0RJsBGkMi7JGnZd10bKVxOX40jsmzQy8r/ZU00ZYWCkQVnhqP41ssdJ54blOXw\n",
       "0lO3ibWy1GUP6YaJ1SSoQsohL/bVFU5av/oMbr/F/inR+BRhMobY3hh0H+RQUf+JvHN6qVsR5R3v\n",
       "GW5B25YTO7SkqLS/8xG8hJ/0MAc23cjgLVKkla8M/6lJ6LKUvx+hz2u7BfOeIyd+BTQOH1ZEDvKL\n",
       "UsUvuA6QVQywfABsj/sTaCYwQJxB/ZvYDL5QRrmdBg+I4V1bwYJU7VrohP/o3+NwUBGE8qcZ1Ipr\n",
       "U4ESPr5m+n8WYJXx3v+CMNHQFkaLQ+DnuuRvVuDK/zrxQIJxt367VUPap8BTb5WmNiFBpgGdqB/9\n",
       "tLsUAYwx6L4gJWfM9fx6TplcSV4iqrTYHT895VIfhuUzZ1LQpRFbq0Bt05JdZqYDA9Ew2aWJYsvj\n",
       "ut6YV7wsecIkAfjqJyfvHsla0H0HmlcYkdM1cQelCGzRkak7IT5MSz3EqY3qiTibnd0Xk7D8c6jO\n",
       "nN5L5+tZ3RHLE3Fkc33XNznWpnGzSMRF1UPXlExMTXJtHS3PBeBgDGDIb7rOX0CtYh6z/nkNDFuJ\n",
       "DhoA1QCh4A8+i76yj8eu2wFRfmy0hgUxvRO1YciCE7EnHvIvYMtgzS8QI1K2bZfLmx3vppknv11J\n",
       "Zb8x4Vclgf4Xgtbpz0fssIM+QtR69HKcIYFO7hQ8am4lEz+k4xPCfxjX7zdbqSk8xyyksbyQ4RbP\n",
       "NcXvCXA7WaQEMwDDq1pyk6XTbRh8A03rCdieEHAl4hrErZZ3r9bIL5IZg4CGb5H4EOsoarxnpAD1\n",
       "T/F5kLzmGKHOeteYvXp6YEY8J0HtU6JXHpQNtLRp4SJM6GVip+wdCPi1nZlbSmZRyrFQheLUSNsA\n",
       "AALxAZ9NakN/AAqCdR2MyzG99c8doBirft5BxawiwgUBc+a9hEgBayELvjOzKw0LVgdadP4wgAHd\n",
       "EZZM37D8OZfENjNc+2Xb8ojw6NxGc0uT4EgXYOu/pbuMgn3o3+xbLk6j+FeyKuVt1YPiGC67HzSs\n",
       "ysO48IvF/Ayk2eC1hWYE2e7KEzF1O0G9uLW/TY9VZl+Q4WJSMAjmgQ4IuOC4PKYUsla3Vt5mN18I\n",
       "UI6ujkKpPhpw+nmREH1yubqPc3PGKHrbP1RAML2OCDKW71S/GBjGdIjc8AUquCW9/Dj7r7f2i/0y\n",
       "SPe7d12E+Xs2BI6a5gBTNdTTqrTc1H3SfyLza6QRLmMf1YvetWZ2UjoQqRS213zqUmcKqCWvtIiU\n",
       "tKwkaXN1bCJTPS9URbeTOXUZKkGt//9BNa4+YjaK0bZGIxkGj6W5fuAMeNUPmfY8OAaWNNslTtJH\n",
       "OW4n+cGlD4aiFacrP7Xw7xKxqx40TspL/w6UDI7bYypUx5O9vwWB7QQeIkpSC9QKz3YMrvwUblm4\n",
       "qXojFCYblGCS6+Y/0swsnxw8n2SexWBLRuG0S9ltuqpIQJ8bGRUGCsnHepvlgOhGcVGLeFcS62aR\n",
       "BX5qH9BpNNp0E4XWkf01tQIQpMESbKHujL9SQ4esAAADAAADA08lwAAAXnxVs19CzKgBnKc/as6V\n",
       "FQLGt8UqHbS0aECfY5phGj+XFdJSwwxTCeDGvYr7Hpq231PhyEHX53d3SrbYDRhc7wgUzN7NQLG/\n",
       "cGBDq2AIHs7S6aM6+JOh4a4EJ0oyi2vj0F7TMfOYxVY2R3i628NsW8ycKbF5EF0exwSIADA7Nc1M\n",
       "OMiKAeHNc39rgVa/uzyQ5UdT8Hho6ExfWqmXk8vQ/RFNBOLXI07NnPM15ebJHeqMA4zhZLjpGXnC\n",
       "IdK0ddPYnwuMwbzRtF19iosKOZgLjCgINleKj+oS6ppL8VOrnhwoXs1+H6Nh8sSlVoPUvSL0g3QB\n",
       "v+1AL8XkDbV6YacVU5DhAAAD0UGbUUmoQWyZTAhv//6nhAAcRgE0f7ggjcAJpqs2rj3SUuvze5WY\n",
       "pWYWb+wgtHEq7Evdp/LI3AX18RE9n6cYjsmKAXi3rMMAdy6ODRcSOC06uCSJfrI7P+ojwHKFXWiZ\n",
       "YJ+hXtKC5QPQFP1PjAhsWzysZo19Js3E9jJrRfst7BQOsMdM77+HWeEb61iJUqjUNFGZxPreP++C\n",
       "kXnkWrVP32He68itCZe2IxN4yBRg2hUVthVTEoEH7H0mJ9ywjMbJpvhWt0t6O1U9nq+/9R9OTYQ5\n",
       "StIZ0sDIoywTEctgxeOOiEN7BngHS4ZlH/G/Vl1qlMDn5JrjyCgHIxVGGNXU3vY4CCaiVeapiA7G\n",
       "nkpHMwI/WEPP04lizu7Ib0AZLWIiDG+2XjbTBXqHrFZhZFcPn5zm3OtTh4s/s+sEgkKIztvP495E\n",
       "LfBEQwx8tKgBDJtdVEJwnQtP1iVZX/Jmrerdpx9OqSIdhmtTharGyhwmcPm0NpHuH7aWOXnSd02h\n",
       "tAXr1gRExVEMrqAUVM0/sWfXuUX01ENVwJtesZslR/CinjBilHhX/QO/dd7j4c/C4xa4VEvIaeKy\n",
       "ylh3FqwYWf3ZnrRvFn156An6R9RWdSgmEQSOTQcLRKuzKvGR+ieVpUd7VdKDbDLOhv1OSNADht7Y\n",
       "HPIU0zIad/XirPH7tyJ34yOp6JKvMTi1EsJfwMYxqNtpw1Ntvaf5laU2LnCqUy4hG+XDnwA3jmey\n",
       "XXEmrDcdLdYpdolU9m+mMRZhjKZjHOxtQ8bnmxXEhSOGfSnHu5mPsPGNlzjxlwQKA2EqPqE/n4b0\n",
       "rxQDLOnhIkv67Vrkv/zUGuLCEm3py19/RmrjrPrxHmvDkGdbDhwJ4SHs3gnOuEulR+Qi3WDr3+fK\n",
       "OFoDQnEDIwvkmr3t/zhmUwb06uOwjeywsHf8tReRyGpHUKOLvskrH4GlO6glz5Uw+O19JnA1kyxA\n",
       "Q3msnn+feO0qjN3g5IasdV+DCkCi0rNRuifZ6y4ZQ1F45yaGtkKd3b8EeVNndkg7Wfwts1VP/Z/a\n",
       "LAXIGYZm0E0HxzH0D6Drc1kpuoklbd47uc7hSrQtFnya78phqVOzNn5MtlCSAqnyG2Qh7MufNPRV\n",
       "24JRIj5DQHFNKidj0jFQCJOjzGX7GQvBZGM9BOCfBFF+YbiswsqMs7EtqQSdg48njwbLd4JAd+jO\n",
       "DRHps8VwHDTkYb1FJhgetj32VYqTVg2tfrJV6R0WxfZQklkrmmczhZ51lNhk/D6VvlMFXncfYseY\n",
       "Yj3yLmDiLvLY6ne90rUV0xUcRSNj+xucAC2hAAAC4kGfb0UVLDf/AAo6adfS2dBeNYd14ABEEr71\n",
       "wjAEkfk91DRHzJqt6sesFwsrivI3GmqQvC9LyDgblUv81GYs1TkGbGZfKSOQXXGFGvIvt/2QkwVL\n",
       "1CjgOHINDdtHYDU0Anx9gKOstqwDuRZTPhhgxpfq+WUl2ahtQbA8NXBXbCSwDm+FVuZvEwFsl52H\n",
       "I+VwBJNNx0xrKoegYzx3wEGN7/UMT/QyL6Eqf/1++EYvoOXS3bE8+uAO6vuWVW2FUpnSnl9Ggz3D\n",
       "gCkBX6j5+k5R7mw71VTr8T8vvKpVRfehl1Sn7c75fzHMAXnfQUUAOtVL2B1h1hbOZVVIW/y8YqG+\n",
       "WGuyQELL6k+zPHC8cddgiUoDJ+SMyyebGhqXvJS2SIaGeiSMuwOet5GqD/0M4E3VzG+dhd4xQoZy\n",
       "Q2v4BjdGdqPBs2/pKLwFUzme2GqdsYX/s2GNIFzJdyM34YP1cc4qTDLWUtobvvcS5nA8FOyYluo6\n",
       "9n5OU4Y/okUoDw86s6ceqmMHLeEY1ajVroZkeFD5anCnyp4OMkr6RC/NZyyg/oQyiMC6hvyp5xqm\n",
       "ZqXWqjXvJDkO7VTCxhL8zXIHw/F6B6AAAB8zCrSv/SxlB8x+WHePk/WHOCsOD/FdfOTVf08T4hI9\n",
       "x76k/mS9ESzeuB9fT8Vm0h/HYagttEJ3GLiI+g8OzYc2lVX8PhRAZ8rvYPcnBsWl4/IauQxmjpvq\n",
       "bAuqOC3CfsaMq5NSeeExsBJCLsA34+IEt8dgaJTxcbPi0jEjUj7NfIVXG19npRSJsG90VVx0cTf5\n",
       "whZ0Vz8HsleoINAGHVHkC6wmFyvVRpWbi5EyEnRDUjl3J9cH6EiSG5nFQePnJRIG5jKu2BVfHMuW\n",
       "hF3zr9IMoTnH/bLj6fzI6Lgax1P6ixiuH1jrrJG9ZEsiytbbgebm4RdVtQMFsf1NwHiRnJjHq9NA\n",
       "/IidaNO/zD3WY+y+Jcb+hFlllnGtQ/mci7CQQAAAA4sBn5BqQ38ACfOauUN6hxwRJ+AA/AeS2NnF\n",
       "n+PFYve4sUXhe056aSUrOY5w/2sW4Djx3Pm02edOWNQYyUA582CHyYowgK3mWmQbDmHBA631RtGw\n",
       "zcY+JIKGY3iSn/7pieVBjy4WnLsP5N+H0w5mRDpRUaVeM1+qEq9mIfTY0H9PIPNgYzoZU82jf0YA\n",
       "2RBwBlzVNaWugr97tagWh7nVp+3uv3VxMSqhA4KVjg97Vw2p3zZy1bm9AMyjtAxpCBE0gnlYmZe+\n",
       "2F4NlbdzVlueCzTirPDCLlrMcl/x32XTSfYdgYzC9ThzNy5L0+ff8cw2IQiPvh6dIwAlHXUQ/A4S\n",
       "5VicBDRb/fZlRjpOUi0Vv48kzyG2hkqetRDzckb8aZKMp1Hs+c3msGNzC452H9TuXTo3ErmmlQxF\n",
       "6xO3SxS7hUsXOthMcNpc+Pu807E8F5g+j1SKIajIEf/qLFANWL35MjRy4dRMJyGxuDub3PTYRYUp\n",
       "wWeNmTmGgYboy12sEgzrYXO5blmKOZEVFLb/cQg96/BMzL0M/ClpiBLOYiu+ajMmjNoCAI9WHWoc\n",
       "+NPg/wSphUladj2j557KPuKBf5jousqAxEStJ2XIMxI6AQoASv1mWb3mAsnp2EpPkfp91nFby2QT\n",
       "P2NMpNaGUdm+4myYQjiMkyW8L55yhuMa3gJOi2sDnWc/OZOaXPQ5ibA6GO/pwmtlFlqgG94TD00A\n",
       "qJ6H4jE30XdTpjH+/hWV6TL6J98bRuH0IkmmuAjp0nb6lvzSdr6P3OjPfU5NDXujWbYHcFPluxs4\n",
       "i1chVJyrEyG1O5+PykKNgjKVMLW9bXnwoz9bNnps2SaJWOcwZKGozXQ5EOzwnUxrume9DdGP4Vjs\n",
       "/Z98s32CWpBY2HPXMHYb5m8mN3nzhP+JsLAnlc66OMH1HkeROXT6fcwZqlPUq3onnpMLAjMnAUVK\n",
       "Sz/99xViqO1LzMsa19RolkI9Wtpx9+k9fLFeBz+W9J0RgirTc2VeU8r51hpGZDu1Fdjcf9PCahWp\n",
       "+pIHCXkIYqmHabz2b1g5mg2qf6++y+ySUyRA9bVkcrR8Xuk0bdCOegVWiYb2lrLN4PAvNDZ+ACFu\n",
       "RXDuaUiwCEofHlyZnzYJ7aE0TziLI10l4UwdMr7GNN7kH9c0fOE48m05pM1TQkuWeD61h/j4E8Ir\n",
       "MgQejTdbSdPfABDFtuVRQegPhnaEaBxbqPSYAAAFYG1vb3YAAABsbXZoZAAAAAAAAAAAAAAAAAAA\n",
       "A+gAABOIAAEAAAEAAAAAAAAAAAAAAAABAAAAAAAAAAAAAAAAAAAAAQAAAAAAAAAAAAAAAAAAQAAA\n",
       "AAAAAAAAAAAAAAAAAAAAAAAAAAAAAAAAAAAAAAIAAASKdHJhawAAAFx0a2hkAAAAAwAAAAAAAAAA\n",
       "AAAAAQAAAAAAABOIAAAAAAAAAAAAAAAAAAAAAAABAAAAAAAAAAAAAAAAAAAAAQAAAAAAAAAAAAAA\n",
       "AAAAQAAAAAL0AAAB+AAAAAAAJGVkdHMAAAAcZWxzdAAAAAAAAAABAAATiAAACAAAAQAAAAAEAm1k\n",
       "aWEAAAAgbWRoZAAAAAAAAAAAAAAAAAAAKAAAAMgAVcQAAAAAAC1oZGxyAAAAAAAAAAB2aWRlAAAA\n",
       "AAAAAAAAAAAAVmlkZW9IYW5kbGVyAAAAA61taW5mAAAAFHZtaGQAAAABAAAAAAAAAAAAAAAkZGlu\n",
       "ZgAAABxkcmVmAAAAAAAAAAEAAAAMdXJsIAAAAAEAAANtc3RibAAAALVzdHNkAAAAAAAAAAEAAACl\n",
       "YXZjMQAAAAAAAAABAAAAAAAAAAAAAAAAAAAAAAL0AfgASAAAAEgAAAAAAAAAAQAAAAAAAAAAAAAA\n",
       "AAAAAAAAAAAAAAAAAAAAAAAAAAAAABj//wAAADNhdmNDAWQAFv/hABpnZAAWrNlAwBB55YQAAAMA\n",
       "BAAAAwBQPFi2WAEABmjr48siwAAAABx1dWlka2hA8l8kT8W6OaUbzwMj8wAAAAAAAAAYc3R0cwAA\n",
       "AAAAAAABAAAAMgAABAAAAAAUc3RzcwAAAAAAAAABAAAAAQAAAXhjdHRzAAAAAAAAAC0AAAAEAAAI\n",
       "AAAAAAEAABAAAAAAAgAABAAAAAABAAAUAAAAAAEAAAgAAAAAAQAAAAAAAAABAAAEAAAAAAEAAAwA\n",
       "AAAAAQAABAAAAAABAAAUAAAAAAEAAAgAAAAAAQAAAAAAAAABAAAEAAAAAAEAABQAAAAAAQAACAAA\n",
       "AAABAAAAAAAAAAEAAAQAAAAAAQAADAAAAAABAAAEAAAAAAEAABQAAAAAAQAACAAAAAABAAAAAAAA\n",
       "AAEAAAQAAAAAAQAAFAAAAAABAAAIAAAAAAEAAAAAAAAAAQAABAAAAAABAAAMAAAAAAEAAAQAAAAA\n",
       "AQAADAAAAAABAAAEAAAAAAEAABQAAAAAAQAACAAAAAABAAAAAAAAAAEAAAQAAAAAAQAAFAAAAAAB\n",
       "AAAIAAAAAAEAAAAAAAAAAQAABAAAAAABAAAUAAAAAAEAAAgAAAAAAQAAAAAAAAABAAAEAAAAAAEA\n",
       "ABAAAAAAAgAABAAAAAAcc3RzYwAAAAAAAAABAAAAAQAAADIAAAABAAAA3HN0c3oAAAAAAAAAAAAA\n",
       "ADIAADd2AAAIuAAABg8AAAZ/AAAJugAAAzYAAAIaAAAIowAAA8YAAAKAAAACxwAABrQAAAKYAAAH\n",
       "7AAAA/gAAAL3AAADAgAACCIAAAQDAAAC5AAAAtUAAAceAAADkwAAB8AAAAPMAAAC9AAAAuUAAAch\n",
       "AAADVQAAA40AAANnAAAFZwAAA20AAAVNAAADegAAB6kAAALoAAADJAAAA34AAAbvAAAD+AAAAwQA\n",
       "AAPmAAAF3gAABAAAAAL6AAAC9QAAA9UAAALmAAADjwAAABRzdGNvAAAAAAAAAAEAAAAsAAAAYnVk\n",
       "dGEAAABabWV0YQAAAAAAAAAhaGRscgAAAAAAAAAAbWRpcmFwcGwAAAAAAAAAAAAAAAAtaWxzdAAA\n",
       "ACWpdG9vAAAAHWRhdGEAAAABAAAAAExhdmY1OC4yMC4xMDA=\n",
       "\">\n",
       "  Your browser does not support the video tag.\n",
       "</video>"
      ],
      "text/plain": [
       "<IPython.core.display.HTML object>"
      ]
     },
     "execution_count": 65,
     "metadata": {},
     "output_type": "execute_result"
    }
   ],
   "source": [
    "anim = PullOutAnimator(U_t=U_t, F_t=F_t)\n",
    "HTML(anim.html5_video())"
   ]
  },
  {
   "cell_type": "markdown",
   "metadata": {},
   "source": [
    "# Alternative discretization generator"
   ]
  },
  {
   "cell_type": "markdown",
   "metadata": {},
   "source": [
    "This section is being kept here as a possible generator. It might be useful when revising the grid generation for 2D and 3D problems. However, the template based grid generation allows for a flexbile definition of node and DOF mapping within an element, which is particularly useful for irregular FE definition, integration and general postprocessing. Generation of the three types of mapping (E->o, E->i, E->m and E->   "
   ]
  },
  {
   "cell_type": "markdown",
   "metadata": {},
   "source": [
    "**Descritization parameters:** number of elements along the bond zone is denoted as $n_E$ "
   ]
  },
  {
   "cell_type": "code",
   "execution_count": 66,
   "metadata": {},
   "outputs": [],
   "source": [
    "n_E = 29 # number of discretization elements"
   ]
  },
  {
   "cell_type": "markdown",
   "metadata": {},
   "source": [
    "**Grid generation:** is performed by regular subdivision of the length $L$ into $n_E$ number of elements. Nodal coordinates are obtained using the `mgrid` function delivering a sequence"
   ]
  },
  {
   "cell_type": "code",
   "execution_count": 67,
   "metadata": {},
   "outputs": [],
   "source": [
    "def get_x_Ia( n_I, L_x ):\n",
    "    x_grid = np.array(np.mgrid[0:L_x:complex(0, n_I), ])\n",
    "    return np.einsum('a...->...a', x_grid).reshape(-1, 1)"
   ]
  },
  {
   "cell_type": "code",
   "execution_count": 68,
   "metadata": {},
   "outputs": [],
   "source": [
    "def get_x_Eia( n_I, L_x ):\n",
    "    I = np.arange(n_I)\n",
    "    I_Ei = np.c_[I[:-1], I[1:]]\n",
    "    x_Ia = get_x_Ia(n_I, L_x)\n",
    "    return x_Ia[I_Ei]"
   ]
  },
  {
   "cell_type": "markdown",
   "metadata": {
    "hide_input": true
   },
   "source": [
    "**Derived dimensional parameters** include the number of elemental degrees of freedom and the global number of DOFs $n_o$."
   ]
  },
  {
   "cell_type": "markdown",
   "metadata": {},
   "source": [
    "The discretization is regular so that the standard grid generators available in `numpy` are sufficient to generate the discretization.\n",
    "To uniquelly identify the nodes within the discretization, let us first enumerate them as $I = 1\\ldots n_I$"
   ]
  },
  {
   "cell_type": "markdown",
   "metadata": {},
   "source": [
    "**Index mapping between layers, nodes, direction and global DOFs:**\n",
    "Nodal displacements $u_{CIa}$ represents the primary unknowns in the discretized problem.\n",
    "Therefore, they need to be uniqely enumerated and addressable as global degrees of freedom $o$ of the form\n",
    "\\begin{align}\n",
    "(C,I,a) \\rightarrow o\n",
    "\\end{align}\n",
    "In the considered case of a uniaxial discretization with $n_C$ layers we can define mapping as follows:\n",
    "\\begin{align}\n",
    " o_{CIa} &= n_a(n_I C + I) + a \\; \\; \\mathrm{where}  \\\\ \n",
    " C &= 0 \\ldots n_C-1, \\\\ \\; I & = 0 \\ldots n_I-1, \\\\ a &= 0 \\ldots n_a - 1\n",
    "\\end{align}\n",
    "This index map can be constructed using the `numpy` sequence array generator `arange` for each dimension $C$, $I$ and $a$ to produce onedimensional index arrays and then broadcasting them into a three dimensional array $(C,I,a)$ using the `np.newaxis` generic index: "
   ]
  },
  {
   "cell_type": "code",
   "execution_count": 69,
   "metadata": {},
   "outputs": [],
   "source": [
    "def get_O_CIa(n_C, n_I, n_a):\n",
    "    C = np.arange(n_C)[:,np.newaxis,np.newaxis]\n",
    "    I = np.arange(n_I)[np.newaxis,:,np.newaxis] \n",
    "    a = np.arange(n_a)[np.newaxis,np.newaxis,:]\n",
    "    return n_a * (n_I * C + I) + a"
   ]
  },
  {
   "cell_type": "code",
   "execution_count": 70,
   "metadata": {},
   "outputs": [],
   "source": [
    "get_O_CI = lambda n_I: get_O_CIa(n_C,n_I,n_a)[...,-1]"
   ]
  },
  {
   "cell_type": "markdown",
   "metadata": {},
   "source": [
    "Mapping of a local node $i$ within an element $E$ and layer $C$ to the degree of freedom $o$\n",
    "\\begin{align}\n",
    "(E,C,i) \\rightarrow O\n",
    "\\end{align}\n",
    "is constructed using the global enumeration of nodes DOFs $o_{CIa}$. By following the local element enumeration pattern, i.e. slicing over the left nodes first and then over the right nodes delivers the desired global mapping. Note that this issue is specific to this particular type of grid and a more general generators of DOF maps can be constructed or imported from general meshes."
   ]
  },
  {
   "cell_type": "code",
   "execution_count": 71,
   "metadata": {},
   "outputs": [],
   "source": [
    "def get_O_ECi(n_I):\n",
    "    O_CI = get_O_CI(n_I)\n",
    "    return np.einsum('iCE->ECi',np.vstack([[O_CI[:, :-1], O_CI[:, 1:]]]))"
   ]
  },
  {
   "cell_type": "markdown",
   "metadata": {},
   "source": [
    "Mapping of node $i$ within an element $E$ to a degree of freedom $o$. This array is used to assemble the global vector of internal forces $F^\\mathrm{int}_o$ and the system matrix $K_{op}$."
   ]
  },
  {
   "cell_type": "code",
   "execution_count": 72,
   "metadata": {},
   "outputs": [],
   "source": [
    "get_O_Ei = lambda n_I: get_O_ECi(n_I).reshape(-1, n_Eo)"
   ]
  },
  {
   "cell_type": "code",
   "execution_count": 73,
   "metadata": {},
   "outputs": [],
   "source": [
    "get_O_ECi(5), get_x_Eia(5,1);"
   ]
  }
 ],
 "metadata": {
  "kernelspec": {
   "display_name": "Python 3",
   "language": "python",
   "name": "python3"
  },
  "language_info": {
   "codemirror_mode": {
    "name": "ipython",
    "version": 3
   },
   "file_extension": ".py",
   "mimetype": "text/x-python",
   "name": "python",
   "nbconvert_exporter": "python",
   "pygments_lexer": "ipython3",
   "version": "3.7.6"
  },
  "toc": {
   "base_numbering": 1,
   "nav_menu": {},
   "number_sections": true,
   "sideBar": true,
   "skip_h1_title": false,
   "title_cell": "Table of Contents",
   "title_sidebar": "Contents",
   "toc_cell": true,
   "toc_position": {
    "height": "calc(100% - 180px)",
    "left": "10px",
    "top": "150px",
    "width": "221.667px"
   },
   "toc_section_display": true,
   "toc_window_display": true
  }
 },
 "nbformat": 4,
 "nbformat_minor": 2
}
