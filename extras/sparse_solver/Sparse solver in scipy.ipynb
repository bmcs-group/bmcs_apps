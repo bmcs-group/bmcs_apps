{
 "cells": [
  {
   "cell_type": "code",
   "execution_count": null,
   "metadata": {},
   "outputs": [],
   "source": [
    "L = 10\n",
    "K = 2\n",
    "C = np.random.randn(L,K)\n",
    "# From the matrix of outter products of C and store in block_diagonal \n",
    "# sparse matrix\n",
    "CCt = np.einsum('ij...,i...->ij...',C,C)# create indices into the block diagonal sparse coo matrix\n",
    "i = np.tile(np.tile(np.arange(K),K),L) + K*np.repeat(np.arange(L),K*K)\n",
    "j = np.tile(np.repeat(np.arange(K),K),L) + K*np.repeat(np.arange(L),K*K)\n",
    "\n",
    "# store as block diagonal sparse coo matrix\n",
    "BlckCCt = spspar.coo_matrix((CCt.flatten(),(j,i)),shape=(K*K*L,K*K*L))\n",
    "np.tile([1,2],2)"
   ]
  }
 ],
 "metadata": {
  "kernelspec": {
   "display_name": "Python 3",
   "language": "python",
   "name": "python3"
  },
  "language_info": {
   "codemirror_mode": {
    "name": "ipython",
    "version": 3
   },
   "file_extension": ".py",
   "mimetype": "text/x-python",
   "name": "python",
   "nbconvert_exporter": "python",
   "pygments_lexer": "ipython3",
   "version": "3.7.6"
  },
  "toc": {
   "base_numbering": 1,
   "nav_menu": {},
   "number_sections": true,
   "sideBar": true,
   "skip_h1_title": false,
   "title_cell": "Table of Contents",
   "title_sidebar": "Contents",
   "toc_cell": false,
   "toc_position": {},
   "toc_section_display": true,
   "toc_window_display": true
  }
 },
 "nbformat": 4,
 "nbformat_minor": 4
}
